{
 "cells": [
  {
   "cell_type": "markdown",
   "id": "a4a1b6fa-be17-4083-b209-0ca13de1a55b",
   "metadata": {},
   "source": [
    "# DERBi PIE Semantics Module"
   ]
  },
  {
   "cell_type": "code",
   "execution_count": 1,
   "id": "bf800dee-f6c6-4559-b2b5-8d4dda5b3d92",
   "metadata": {
    "tags": []
   },
   "outputs": [],
   "source": [
    "# installing modules below:"
   ]
  },
  {
   "cell_type": "code",
   "execution_count": 2,
   "id": "9bc52003-b440-42b8-b3e8-04ecf6226e45",
   "metadata": {
    "collapsed": true,
    "jupyter": {
     "outputs_hidden": true
    },
    "tags": []
   },
   "outputs": [
    {
     "name": "stdout",
     "output_type": "stream",
     "text": [
      "Requirement already satisfied: gensim in c:\\users\\gpwal\\appdata\\roaming\\jupyterlab-desktop\\jlab_server\\lib\\site-packages (4.3.1)\n",
      "Requirement already satisfied: numpy>=1.18.5 in c:\\users\\gpwal\\appdata\\roaming\\jupyterlab-desktop\\jlab_server\\lib\\site-packages (from gensim) (1.24.3)\n",
      "Requirement already satisfied: scipy>=1.7.0 in c:\\users\\gpwal\\appdata\\roaming\\jupyterlab-desktop\\jlab_server\\lib\\site-packages (from gensim) (1.10.1)\n",
      "Requirement already satisfied: smart-open>=1.8.1 in c:\\users\\gpwal\\appdata\\roaming\\jupyterlab-desktop\\jlab_server\\lib\\site-packages (from gensim) (6.3.0)\n",
      "Note: you may need to restart the kernel to use updated packages.\n"
     ]
    }
   ],
   "source": [
    "pip install gensim"
   ]
  },
  {
   "cell_type": "code",
   "execution_count": 3,
   "id": "5e8388d7-c4fc-4e22-878d-134926eb7c56",
   "metadata": {
    "collapsed": true,
    "jupyter": {
     "outputs_hidden": true
    },
    "tags": []
   },
   "outputs": [
    {
     "name": "stdout",
     "output_type": "stream",
     "text": [
      "Requirement already satisfied: nltk in c:\\users\\gpwal\\appdata\\roaming\\jupyterlab-desktop\\jlab_server\\lib\\site-packages (3.8.1)\n",
      "Requirement already satisfied: click in c:\\users\\gpwal\\appdata\\roaming\\jupyterlab-desktop\\jlab_server\\lib\\site-packages (from nltk) (8.1.3)\n",
      "Requirement already satisfied: joblib in c:\\users\\gpwal\\appdata\\roaming\\jupyterlab-desktop\\jlab_server\\lib\\site-packages (from nltk) (1.2.0)\n",
      "Requirement already satisfied: regex>=2021.8.3 in c:\\users\\gpwal\\appdata\\roaming\\jupyterlab-desktop\\jlab_server\\lib\\site-packages (from nltk) (2023.5.5)\n",
      "Requirement already satisfied: tqdm in c:\\users\\gpwal\\appdata\\roaming\\jupyterlab-desktop\\jlab_server\\lib\\site-packages (from nltk) (4.65.0)\n",
      "Requirement already satisfied: colorama in c:\\users\\gpwal\\appdata\\roaming\\jupyterlab-desktop\\jlab_server\\lib\\site-packages (from click->nltk) (0.4.6)\n",
      "Note: you may need to restart the kernel to use updated packages.\n"
     ]
    }
   ],
   "source": [
    "pip install nltk"
   ]
  },
  {
   "cell_type": "code",
   "execution_count": 4,
   "id": "83bd716a-0822-4d73-a590-0d6753eab633",
   "metadata": {
    "collapsed": true,
    "jupyter": {
     "outputs_hidden": true
    },
    "tags": []
   },
   "outputs": [
    {
     "name": "stdout",
     "output_type": "stream",
     "text": [
      "Requirement already satisfied: scipy in c:\\users\\gpwal\\appdata\\roaming\\jupyterlab-desktop\\jlab_server\\lib\\site-packages (1.10.1)\n",
      "Requirement already satisfied: numpy<1.27.0,>=1.19.5 in c:\\users\\gpwal\\appdata\\roaming\\jupyterlab-desktop\\jlab_server\\lib\\site-packages (from scipy) (1.24.3)\n",
      "Note: you may need to restart the kernel to use updated packages.\n"
     ]
    }
   ],
   "source": [
    "pip install scipy"
   ]
  },
  {
   "cell_type": "code",
   "execution_count": 5,
   "id": "ffd5d8b2-cdc4-4390-b8f0-917f799e8c77",
   "metadata": {
    "collapsed": true,
    "jupyter": {
     "outputs_hidden": true
    },
    "tags": []
   },
   "outputs": [
    {
     "name": "stdout",
     "output_type": "stream",
     "text": [
      "Requirement already satisfied: gutenbergpy in c:\\users\\gpwal\\appdata\\roaming\\jupyterlab-desktop\\jlab_server\\lib\\site-packages (0.3.5)\n",
      "Requirement already satisfied: future>=0.15.2 in c:\\users\\gpwal\\appdata\\roaming\\jupyterlab-desktop\\jlab_server\\lib\\site-packages (from gutenbergpy) (0.18.3)\n",
      "Requirement already satisfied: httpsproxy-urllib2 in c:\\users\\gpwal\\appdata\\roaming\\jupyterlab-desktop\\jlab_server\\lib\\site-packages (from gutenbergpy) (1.0)\n",
      "Requirement already satisfied: lxml>=3.2.0 in c:\\users\\gpwal\\appdata\\roaming\\jupyterlab-desktop\\jlab_server\\lib\\site-packages (from gutenbergpy) (4.9.2)\n",
      "Requirement already satisfied: pymongo in c:\\users\\gpwal\\appdata\\roaming\\jupyterlab-desktop\\jlab_server\\lib\\site-packages (from gutenbergpy) (4.3.3)\n",
      "Requirement already satisfied: setuptools>=18.5 in c:\\users\\gpwal\\appdata\\roaming\\jupyterlab-desktop\\jlab_server\\lib\\site-packages (from gutenbergpy) (67.7.2)\n",
      "Requirement already satisfied: chardet in c:\\users\\gpwal\\appdata\\roaming\\jupyterlab-desktop\\jlab_server\\lib\\site-packages (from gutenbergpy) (3.0.4)\n",
      "Requirement already satisfied: dnspython<3.0.0,>=1.16.0 in c:\\users\\gpwal\\appdata\\roaming\\jupyterlab-desktop\\jlab_server\\lib\\site-packages (from pymongo->gutenbergpy) (2.3.0)\n",
      "Note: you may need to restart the kernel to use updated packages.\n"
     ]
    }
   ],
   "source": [
    "pip install gutenbergpy"
   ]
  },
  {
   "cell_type": "code",
   "execution_count": 6,
   "id": "4b128a28-17ce-4e65-b12d-e492c229c1e6",
   "metadata": {
    "collapsed": true,
    "jupyter": {
     "outputs_hidden": true
    },
    "tags": []
   },
   "outputs": [
    {
     "name": "stdout",
     "output_type": "stream",
     "text": [
      "Requirement already satisfied: matplotlib in c:\\users\\gpwal\\appdata\\roaming\\jupyterlab-desktop\\jlab_server\\lib\\site-packages (3.7.1)\n",
      "Requirement already satisfied: contourpy>=1.0.1 in c:\\users\\gpwal\\appdata\\roaming\\jupyterlab-desktop\\jlab_server\\lib\\site-packages (from matplotlib) (1.0.7)\n",
      "Requirement already satisfied: cycler>=0.10 in c:\\users\\gpwal\\appdata\\roaming\\jupyterlab-desktop\\jlab_server\\lib\\site-packages (from matplotlib) (0.11.0)\n",
      "Requirement already satisfied: fonttools>=4.22.0 in c:\\users\\gpwal\\appdata\\roaming\\jupyterlab-desktop\\jlab_server\\lib\\site-packages (from matplotlib) (4.39.4)\n",
      "Requirement already satisfied: kiwisolver>=1.0.1 in c:\\users\\gpwal\\appdata\\roaming\\jupyterlab-desktop\\jlab_server\\lib\\site-packages (from matplotlib) (1.4.4)\n",
      "Requirement already satisfied: numpy>=1.20 in c:\\users\\gpwal\\appdata\\roaming\\jupyterlab-desktop\\jlab_server\\lib\\site-packages (from matplotlib) (1.24.3)\n",
      "Requirement already satisfied: packaging>=20.0 in c:\\users\\gpwal\\appdata\\roaming\\jupyterlab-desktop\\jlab_server\\lib\\site-packages (from matplotlib) (23.1)\n",
      "Requirement already satisfied: pillow>=6.2.0 in c:\\users\\gpwal\\appdata\\roaming\\jupyterlab-desktop\\jlab_server\\lib\\site-packages (from matplotlib) (9.5.0)\n",
      "Requirement already satisfied: pyparsing>=2.3.1 in c:\\users\\gpwal\\appdata\\roaming\\jupyterlab-desktop\\jlab_server\\lib\\site-packages (from matplotlib) (3.0.9)\n",
      "Requirement already satisfied: python-dateutil>=2.7 in c:\\users\\gpwal\\appdata\\roaming\\jupyterlab-desktop\\jlab_server\\lib\\site-packages (from matplotlib) (2.8.2)\n",
      "Requirement already satisfied: importlib-resources>=3.2.0 in c:\\users\\gpwal\\appdata\\roaming\\jupyterlab-desktop\\jlab_server\\lib\\site-packages (from matplotlib) (5.12.0)\n",
      "Requirement already satisfied: zipp>=3.1.0 in c:\\users\\gpwal\\appdata\\roaming\\jupyterlab-desktop\\jlab_server\\lib\\site-packages (from importlib-resources>=3.2.0->matplotlib) (3.15.0)\n",
      "Requirement already satisfied: six>=1.5 in c:\\users\\gpwal\\appdata\\roaming\\jupyterlab-desktop\\jlab_server\\lib\\site-packages (from python-dateutil>=2.7->matplotlib) (1.16.0)\n",
      "Note: you may need to restart the kernel to use updated packages.\n"
     ]
    }
   ],
   "source": [
    "pip install matplotlib"
   ]
  },
  {
   "cell_type": "code",
   "execution_count": 7,
   "id": "f4e04ee1-1740-4af5-83a0-04693e1babb7",
   "metadata": {
    "collapsed": true,
    "jupyter": {
     "outputs_hidden": true
    },
    "tags": []
   },
   "outputs": [
    {
     "name": "stdout",
     "output_type": "stream",
     "text": [
      "Requirement already satisfied: tabulate in c:\\users\\gpwal\\appdata\\roaming\\jupyterlab-desktop\\jlab_server\\lib\\site-packages (0.9.0)\n",
      "Note: you may need to restart the kernel to use updated packages.\n"
     ]
    }
   ],
   "source": [
    "pip install tabulate"
   ]
  },
  {
   "cell_type": "code",
   "execution_count": 8,
   "id": "49865743-d078-4b05-a321-24dc4362c7d4",
   "metadata": {
    "collapsed": true,
    "jupyter": {
     "outputs_hidden": true
    },
    "tags": []
   },
   "outputs": [
    {
     "name": "stdout",
     "output_type": "stream",
     "text": [
      "Requirement already satisfied: sklearn in c:\\users\\gpwal\\appdata\\roaming\\jupyterlab-desktop\\jlab_server\\lib\\site-packages (0.0.post5)Note: you may need to restart the kernel to use updated packages.\n",
      "\n"
     ]
    }
   ],
   "source": [
    "pip install sklearn"
   ]
  },
  {
   "cell_type": "code",
   "execution_count": 9,
   "id": "dd8741f6-868d-4b32-800f-5732391ec6c9",
   "metadata": {
    "collapsed": true,
    "jupyter": {
     "outputs_hidden": true
    },
    "tags": []
   },
   "outputs": [
    {
     "name": "stdout",
     "output_type": "stream",
     "text": [
      "Requirement already satisfied: plotly in c:\\users\\gpwal\\appdata\\roaming\\jupyterlab-desktop\\jlab_server\\lib\\site-packages (5.14.1)\n",
      "Requirement already satisfied: tenacity>=6.2.0 in c:\\users\\gpwal\\appdata\\roaming\\jupyterlab-desktop\\jlab_server\\lib\\site-packages (from plotly) (8.2.2)\n",
      "Requirement already satisfied: packaging in c:\\users\\gpwal\\appdata\\roaming\\jupyterlab-desktop\\jlab_server\\lib\\site-packages (from plotly) (23.1)\n",
      "Note: you may need to restart the kernel to use updated packages.\n"
     ]
    }
   ],
   "source": [
    "pip install plotly"
   ]
  },
  {
   "cell_type": "code",
   "execution_count": 10,
   "id": "30d1ec80-726e-48cf-a51e-06d24e883ad7",
   "metadata": {
    "collapsed": true,
    "jupyter": {
     "outputs_hidden": true
    },
    "tags": []
   },
   "outputs": [
    {
     "name": "stdout",
     "output_type": "stream",
     "text": [
      "Requirement already satisfied: wheel in c:\\users\\gpwal\\appdata\\roaming\\jupyterlab-desktop\\jlab_server\\lib\\site-packages (0.40.0)\n",
      "Note: you may need to restart the kernel to use updated packages.\n"
     ]
    }
   ],
   "source": [
    "pip install wheel"
   ]
  },
  {
   "cell_type": "code",
   "execution_count": 11,
   "id": "fd61abbf-7303-4ce2-bd76-54f194c35cfc",
   "metadata": {
    "collapsed": true,
    "jupyter": {
     "outputs_hidden": true
    },
    "tags": []
   },
   "outputs": [
    {
     "name": "stdout",
     "output_type": "stream",
     "text": [
      "Requirement already satisfied: cltk in c:\\users\\gpwal\\appdata\\roaming\\jupyterlab-desktop\\jlab_server\\lib\\site-packages (1.1.6)\n",
      "Requirement already satisfied: PyYAML<7.0.0,>=6.0.0 in c:\\users\\gpwal\\appdata\\roaming\\jupyterlab-desktop\\jlab_server\\lib\\site-packages (from cltk) (6.0)\n",
      "Requirement already satisfied: boltons<22.0.0,>=21.0.0 in c:\\users\\gpwal\\appdata\\roaming\\jupyterlab-desktop\\jlab_server\\lib\\site-packages (from cltk) (21.0.0)\n",
      "Requirement already satisfied: gensim<5.0.0,>=4.1.2 in c:\\users\\gpwal\\appdata\\roaming\\jupyterlab-desktop\\jlab_server\\lib\\site-packages (from cltk) (4.3.1)\n",
      "Requirement already satisfied: gitpython<4.0,>=3.0 in c:\\users\\gpwal\\appdata\\roaming\\jupyterlab-desktop\\jlab_server\\lib\\site-packages (from cltk) (3.1.31)\n",
      "Requirement already satisfied: greek-accentuation<2.0.0,>=1.2.0 in c:\\users\\gpwal\\appdata\\roaming\\jupyterlab-desktop\\jlab_server\\lib\\site-packages (from cltk) (1.2.0)\n",
      "Requirement already satisfied: nltk<4.0,>=3.7 in c:\\users\\gpwal\\appdata\\roaming\\jupyterlab-desktop\\jlab_server\\lib\\site-packages (from cltk) (3.8.1)\n",
      "Requirement already satisfied: python-Levenshtein<0.13.0,>=0.12.0 in c:\\users\\gpwal\\appdata\\roaming\\jupyterlab-desktop\\jlab_server\\lib\\site-packages (from cltk) (0.12.2)\n",
      "Requirement already satisfied: requests<3.0.0,>=2.22.0 in c:\\users\\gpwal\\appdata\\roaming\\jupyterlab-desktop\\jlab_server\\lib\\site-packages (from cltk) (2.29.0)\n",
      "Requirement already satisfied: scikit-learn<2.0.0,>=1.0.2 in c:\\users\\gpwal\\appdata\\roaming\\jupyterlab-desktop\\jlab_server\\lib\\site-packages (from cltk) (1.2.2)\n",
      "Requirement already satisfied: scipy<2.0.0,>=1.8.0 in c:\\users\\gpwal\\appdata\\roaming\\jupyterlab-desktop\\jlab_server\\lib\\site-packages (from cltk) (1.10.1)\n",
      "Requirement already satisfied: spacy<4.0.0,>=3.2.4 in c:\\users\\gpwal\\appdata\\roaming\\jupyterlab-desktop\\jlab_server\\lib\\site-packages (from cltk) (3.5.3)\n",
      "Requirement already satisfied: stanza<2.0.0,>=1.3.0 in c:\\users\\gpwal\\appdata\\roaming\\jupyterlab-desktop\\jlab_server\\lib\\site-packages (from cltk) (1.5.0)\n",
      "Requirement already satisfied: stringcase<2.0,>=1.2 in c:\\users\\gpwal\\appdata\\roaming\\jupyterlab-desktop\\jlab_server\\lib\\site-packages (from cltk) (1.2.0)\n",
      "Requirement already satisfied: tqdm<5.0.0,>=4.41.1 in c:\\users\\gpwal\\appdata\\roaming\\jupyterlab-desktop\\jlab_server\\lib\\site-packages (from cltk) (4.65.0)\n",
      "Requirement already satisfied: numpy>=1.18.5 in c:\\users\\gpwal\\appdata\\roaming\\jupyterlab-desktop\\jlab_server\\lib\\site-packages (from gensim<5.0.0,>=4.1.2->cltk) (1.24.3)\n",
      "Requirement already satisfied: smart-open>=1.8.1 in c:\\users\\gpwal\\appdata\\roaming\\jupyterlab-desktop\\jlab_server\\lib\\site-packages (from gensim<5.0.0,>=4.1.2->cltk) (6.3.0)\n",
      "Requirement already satisfied: gitdb<5,>=4.0.1 in c:\\users\\gpwal\\appdata\\roaming\\jupyterlab-desktop\\jlab_server\\lib\\site-packages (from gitpython<4.0,>=3.0->cltk) (4.0.10)\n",
      "Requirement already satisfied: click in c:\\users\\gpwal\\appdata\\roaming\\jupyterlab-desktop\\jlab_server\\lib\\site-packages (from nltk<4.0,>=3.7->cltk) (8.1.3)\n",
      "Requirement already satisfied: joblib in c:\\users\\gpwal\\appdata\\roaming\\jupyterlab-desktop\\jlab_server\\lib\\site-packages (from nltk<4.0,>=3.7->cltk) (1.2.0)\n",
      "Requirement already satisfied: regex>=2021.8.3 in c:\\users\\gpwal\\appdata\\roaming\\jupyterlab-desktop\\jlab_server\\lib\\site-packages (from nltk<4.0,>=3.7->cltk) (2023.5.5)\n",
      "Requirement already satisfied: setuptools in c:\\users\\gpwal\\appdata\\roaming\\jupyterlab-desktop\\jlab_server\\lib\\site-packages (from python-Levenshtein<0.13.0,>=0.12.0->cltk) (67.7.2)\n",
      "Requirement already satisfied: charset-normalizer<4,>=2 in c:\\users\\gpwal\\appdata\\roaming\\jupyterlab-desktop\\jlab_server\\lib\\site-packages (from requests<3.0.0,>=2.22.0->cltk) (3.1.0)\n",
      "Requirement already satisfied: idna<4,>=2.5 in c:\\users\\gpwal\\appdata\\roaming\\jupyterlab-desktop\\jlab_server\\lib\\site-packages (from requests<3.0.0,>=2.22.0->cltk) (2.10)\n",
      "Requirement already satisfied: urllib3<1.27,>=1.21.1 in c:\\users\\gpwal\\appdata\\roaming\\jupyterlab-desktop\\jlab_server\\lib\\site-packages (from requests<3.0.0,>=2.22.0->cltk) (1.26.15)\n",
      "Requirement already satisfied: certifi>=2017.4.17 in c:\\users\\gpwal\\appdata\\roaming\\jupyterlab-desktop\\jlab_server\\lib\\site-packages (from requests<3.0.0,>=2.22.0->cltk) (2023.5.7)\n",
      "Requirement already satisfied: threadpoolctl>=2.0.0 in c:\\users\\gpwal\\appdata\\roaming\\jupyterlab-desktop\\jlab_server\\lib\\site-packages (from scikit-learn<2.0.0,>=1.0.2->cltk) (3.1.0)\n",
      "Requirement already satisfied: spacy-legacy<3.1.0,>=3.0.11 in c:\\users\\gpwal\\appdata\\roaming\\jupyterlab-desktop\\jlab_server\\lib\\site-packages (from spacy<4.0.0,>=3.2.4->cltk) (3.0.12)\n",
      "Requirement already satisfied: spacy-loggers<2.0.0,>=1.0.0 in c:\\users\\gpwal\\appdata\\roaming\\jupyterlab-desktop\\jlab_server\\lib\\site-packages (from spacy<4.0.0,>=3.2.4->cltk) (1.0.4)\n",
      "Requirement already satisfied: murmurhash<1.1.0,>=0.28.0 in c:\\users\\gpwal\\appdata\\roaming\\jupyterlab-desktop\\jlab_server\\lib\\site-packages (from spacy<4.0.0,>=3.2.4->cltk) (1.0.9)\n",
      "Requirement already satisfied: cymem<2.1.0,>=2.0.2 in c:\\users\\gpwal\\appdata\\roaming\\jupyterlab-desktop\\jlab_server\\lib\\site-packages (from spacy<4.0.0,>=3.2.4->cltk) (2.0.7)\n",
      "Requirement already satisfied: preshed<3.1.0,>=3.0.2 in c:\\users\\gpwal\\appdata\\roaming\\jupyterlab-desktop\\jlab_server\\lib\\site-packages (from spacy<4.0.0,>=3.2.4->cltk) (3.0.8)\n",
      "Requirement already satisfied: thinc<8.2.0,>=8.1.8 in c:\\users\\gpwal\\appdata\\roaming\\jupyterlab-desktop\\jlab_server\\lib\\site-packages (from spacy<4.0.0,>=3.2.4->cltk) (8.1.10)\n",
      "Requirement already satisfied: wasabi<1.2.0,>=0.9.1 in c:\\users\\gpwal\\appdata\\roaming\\jupyterlab-desktop\\jlab_server\\lib\\site-packages (from spacy<4.0.0,>=3.2.4->cltk) (1.1.2)\n",
      "Requirement already satisfied: srsly<3.0.0,>=2.4.3 in c:\\users\\gpwal\\appdata\\roaming\\jupyterlab-desktop\\jlab_server\\lib\\site-packages (from spacy<4.0.0,>=3.2.4->cltk) (2.4.6)\n",
      "Requirement already satisfied: catalogue<2.1.0,>=2.0.6 in c:\\users\\gpwal\\appdata\\roaming\\jupyterlab-desktop\\jlab_server\\lib\\site-packages (from spacy<4.0.0,>=3.2.4->cltk) (2.0.8)\n",
      "Requirement already satisfied: typer<0.8.0,>=0.3.0 in c:\\users\\gpwal\\appdata\\roaming\\jupyterlab-desktop\\jlab_server\\lib\\site-packages (from spacy<4.0.0,>=3.2.4->cltk) (0.7.0)\n",
      "Requirement already satisfied: pathy>=0.10.0 in c:\\users\\gpwal\\appdata\\roaming\\jupyterlab-desktop\\jlab_server\\lib\\site-packages (from spacy<4.0.0,>=3.2.4->cltk) (0.10.1)\n",
      "Requirement already satisfied: pydantic!=1.8,!=1.8.1,<1.11.0,>=1.7.4 in c:\\users\\gpwal\\appdata\\roaming\\jupyterlab-desktop\\jlab_server\\lib\\site-packages (from spacy<4.0.0,>=3.2.4->cltk) (1.10.9)\n",
      "Requirement already satisfied: jinja2 in c:\\users\\gpwal\\appdata\\roaming\\jupyterlab-desktop\\jlab_server\\lib\\site-packages (from spacy<4.0.0,>=3.2.4->cltk) (3.1.2)\n",
      "Requirement already satisfied: packaging>=20.0 in c:\\users\\gpwal\\appdata\\roaming\\jupyterlab-desktop\\jlab_server\\lib\\site-packages (from spacy<4.0.0,>=3.2.4->cltk) (23.1)\n",
      "Requirement already satisfied: langcodes<4.0.0,>=3.2.0 in c:\\users\\gpwal\\appdata\\roaming\\jupyterlab-desktop\\jlab_server\\lib\\site-packages (from spacy<4.0.0,>=3.2.4->cltk) (3.3.0)\n",
      "Requirement already satisfied: emoji in c:\\users\\gpwal\\appdata\\roaming\\jupyterlab-desktop\\jlab_server\\lib\\site-packages (from stanza<2.0.0,>=1.3.0->cltk) (2.5.0)\n",
      "Requirement already satisfied: protobuf in c:\\users\\gpwal\\appdata\\roaming\\jupyterlab-desktop\\jlab_server\\lib\\site-packages (from stanza<2.0.0,>=1.3.0->cltk) (4.23.2)\n",
      "Requirement already satisfied: six in c:\\users\\gpwal\\appdata\\roaming\\jupyterlab-desktop\\jlab_server\\lib\\site-packages (from stanza<2.0.0,>=1.3.0->cltk) (1.16.0)\n",
      "Requirement already satisfied: torch>=1.3.0 in c:\\users\\gpwal\\appdata\\roaming\\jupyterlab-desktop\\jlab_server\\lib\\site-packages (from stanza<2.0.0,>=1.3.0->cltk) (2.0.1)\n",
      "Requirement already satisfied: colorama in c:\\users\\gpwal\\appdata\\roaming\\jupyterlab-desktop\\jlab_server\\lib\\site-packages (from tqdm<5.0.0,>=4.41.1->cltk) (0.4.6)\n",
      "Requirement already satisfied: smmap<6,>=3.0.1 in c:\\users\\gpwal\\appdata\\roaming\\jupyterlab-desktop\\jlab_server\\lib\\site-packages (from gitdb<5,>=4.0.1->gitpython<4.0,>=3.0->cltk) (5.0.0)\n",
      "Requirement already satisfied: typing-extensions>=4.2.0 in c:\\users\\gpwal\\appdata\\roaming\\jupyterlab-desktop\\jlab_server\\lib\\site-packages (from pydantic!=1.8,!=1.8.1,<1.11.0,>=1.7.4->spacy<4.0.0,>=3.2.4->cltk) (4.5.0)\n",
      "Requirement already satisfied: blis<0.8.0,>=0.7.8 in c:\\users\\gpwal\\appdata\\roaming\\jupyterlab-desktop\\jlab_server\\lib\\site-packages (from thinc<8.2.0,>=8.1.8->spacy<4.0.0,>=3.2.4->cltk) (0.7.9)\n",
      "Requirement already satisfied: confection<1.0.0,>=0.0.1 in c:\\users\\gpwal\\appdata\\roaming\\jupyterlab-desktop\\jlab_server\\lib\\site-packages (from thinc<8.2.0,>=8.1.8->spacy<4.0.0,>=3.2.4->cltk) (0.0.4)\n",
      "Requirement already satisfied: filelock in c:\\users\\gpwal\\appdata\\roaming\\jupyterlab-desktop\\jlab_server\\lib\\site-packages (from torch>=1.3.0->stanza<2.0.0,>=1.3.0->cltk) (3.12.2)\n",
      "Requirement already satisfied: sympy in c:\\users\\gpwal\\appdata\\roaming\\jupyterlab-desktop\\jlab_server\\lib\\site-packages (from torch>=1.3.0->stanza<2.0.0,>=1.3.0->cltk) (1.12)\n",
      "Requirement already satisfied: networkx in c:\\users\\gpwal\\appdata\\roaming\\jupyterlab-desktop\\jlab_server\\lib\\site-packages (from torch>=1.3.0->stanza<2.0.0,>=1.3.0->cltk) (3.1)\n",
      "Requirement already satisfied: MarkupSafe>=2.0 in c:\\users\\gpwal\\appdata\\roaming\\jupyterlab-desktop\\jlab_server\\lib\\site-packages (from jinja2->spacy<4.0.0,>=3.2.4->cltk) (2.1.2)\n",
      "Requirement already satisfied: mpmath>=0.19 in c:\\users\\gpwal\\appdata\\roaming\\jupyterlab-desktop\\jlab_server\\lib\\site-packages (from sympy->torch>=1.3.0->stanza<2.0.0,>=1.3.0->cltk) (1.3.0)\n",
      "Note: you may need to restart the kernel to use updated packages.\n"
     ]
    }
   ],
   "source": [
    "pip install cltk"
   ]
  },
  {
   "cell_type": "code",
   "execution_count": 20,
   "id": "ea0e656b-1262-4eaa-b26e-ce30ce07bada",
   "metadata": {
    "collapsed": true,
    "jupyter": {
     "outputs_hidden": true
    },
    "tags": []
   },
   "outputs": [
    {
     "name": "stdout",
     "output_type": "stream",
     "text": [
      "Requirement already satisfied: cltk in c:\\users\\gpwal\\appdata\\roaming\\jupyterlab-desktop\\jlab_server\\lib\\site-packages (0.1.111)\n",
      "Collecting cltk\n",
      "  Using cached cltk-1.1.6-py3-none-any.whl (845 kB)\n",
      "Requirement already satisfied: PyYAML<7.0.0,>=6.0.0 in c:\\users\\gpwal\\appdata\\roaming\\jupyterlab-desktop\\jlab_server\\lib\\site-packages (from cltk) (6.0)\n",
      "Requirement already satisfied: boltons<22.0.0,>=21.0.0 in c:\\users\\gpwal\\appdata\\roaming\\jupyterlab-desktop\\jlab_server\\lib\\site-packages (from cltk) (21.0.0)\n",
      "Requirement already satisfied: gensim<5.0.0,>=4.1.2 in c:\\users\\gpwal\\appdata\\roaming\\jupyterlab-desktop\\jlab_server\\lib\\site-packages (from cltk) (4.3.1)\n",
      "Requirement already satisfied: gitpython<4.0,>=3.0 in c:\\users\\gpwal\\appdata\\roaming\\jupyterlab-desktop\\jlab_server\\lib\\site-packages (from cltk) (3.1.31)\n",
      "Requirement already satisfied: greek-accentuation<2.0.0,>=1.2.0 in c:\\users\\gpwal\\appdata\\roaming\\jupyterlab-desktop\\jlab_server\\lib\\site-packages (from cltk) (1.2.0)\n",
      "Requirement already satisfied: nltk<4.0,>=3.7 in c:\\users\\gpwal\\appdata\\roaming\\jupyterlab-desktop\\jlab_server\\lib\\site-packages (from cltk) (3.8.1)\n",
      "Requirement already satisfied: python-Levenshtein<0.13.0,>=0.12.0 in c:\\users\\gpwal\\appdata\\roaming\\jupyterlab-desktop\\jlab_server\\lib\\site-packages (from cltk) (0.12.2)\n",
      "Requirement already satisfied: requests<3.0.0,>=2.22.0 in c:\\users\\gpwal\\appdata\\roaming\\jupyterlab-desktop\\jlab_server\\lib\\site-packages (from cltk) (2.29.0)\n",
      "Requirement already satisfied: scikit-learn<2.0.0,>=1.0.2 in c:\\users\\gpwal\\appdata\\roaming\\jupyterlab-desktop\\jlab_server\\lib\\site-packages (from cltk) (1.2.2)\n",
      "Requirement already satisfied: scipy<2.0.0,>=1.8.0 in c:\\users\\gpwal\\appdata\\roaming\\jupyterlab-desktop\\jlab_server\\lib\\site-packages (from cltk) (1.10.1)\n",
      "Requirement already satisfied: spacy<4.0.0,>=3.2.4 in c:\\users\\gpwal\\appdata\\roaming\\jupyterlab-desktop\\jlab_server\\lib\\site-packages (from cltk) (3.5.3)\n",
      "Requirement already satisfied: stanza<2.0.0,>=1.3.0 in c:\\users\\gpwal\\appdata\\roaming\\jupyterlab-desktop\\jlab_server\\lib\\site-packages (from cltk) (1.5.0)\n",
      "Requirement already satisfied: stringcase<2.0,>=1.2 in c:\\users\\gpwal\\appdata\\roaming\\jupyterlab-desktop\\jlab_server\\lib\\site-packages (from cltk) (1.2.0)\n",
      "Requirement already satisfied: tqdm<5.0.0,>=4.41.1 in c:\\users\\gpwal\\appdata\\roaming\\jupyterlab-desktop\\jlab_server\\lib\\site-packages (from cltk) (4.65.0)\n",
      "Requirement already satisfied: numpy>=1.18.5 in c:\\users\\gpwal\\appdata\\roaming\\jupyterlab-desktop\\jlab_server\\lib\\site-packages (from gensim<5.0.0,>=4.1.2->cltk) (1.24.3)\n",
      "Requirement already satisfied: smart-open>=1.8.1 in c:\\users\\gpwal\\appdata\\roaming\\jupyterlab-desktop\\jlab_server\\lib\\site-packages (from gensim<5.0.0,>=4.1.2->cltk) (6.3.0)\n",
      "Requirement already satisfied: gitdb<5,>=4.0.1 in c:\\users\\gpwal\\appdata\\roaming\\jupyterlab-desktop\\jlab_server\\lib\\site-packages (from gitpython<4.0,>=3.0->cltk) (4.0.10)\n",
      "Requirement already satisfied: click in c:\\users\\gpwal\\appdata\\roaming\\jupyterlab-desktop\\jlab_server\\lib\\site-packages (from nltk<4.0,>=3.7->cltk) (8.1.3)\n",
      "Requirement already satisfied: joblib in c:\\users\\gpwal\\appdata\\roaming\\jupyterlab-desktop\\jlab_server\\lib\\site-packages (from nltk<4.0,>=3.7->cltk) (1.2.0)\n",
      "Requirement already satisfied: regex>=2021.8.3 in c:\\users\\gpwal\\appdata\\roaming\\jupyterlab-desktop\\jlab_server\\lib\\site-packages (from nltk<4.0,>=3.7->cltk) (2023.5.5)\n",
      "Requirement already satisfied: setuptools in c:\\users\\gpwal\\appdata\\roaming\\jupyterlab-desktop\\jlab_server\\lib\\site-packages (from python-Levenshtein<0.13.0,>=0.12.0->cltk) (67.7.2)\n",
      "Requirement already satisfied: charset-normalizer<4,>=2 in c:\\users\\gpwal\\appdata\\roaming\\jupyterlab-desktop\\jlab_server\\lib\\site-packages (from requests<3.0.0,>=2.22.0->cltk) (3.1.0)\n",
      "Requirement already satisfied: idna<4,>=2.5 in c:\\users\\gpwal\\appdata\\roaming\\jupyterlab-desktop\\jlab_server\\lib\\site-packages (from requests<3.0.0,>=2.22.0->cltk) (2.10)\n",
      "Requirement already satisfied: urllib3<1.27,>=1.21.1 in c:\\users\\gpwal\\appdata\\roaming\\jupyterlab-desktop\\jlab_server\\lib\\site-packages (from requests<3.0.0,>=2.22.0->cltk) (1.26.15)\n",
      "Requirement already satisfied: certifi>=2017.4.17 in c:\\users\\gpwal\\appdata\\roaming\\jupyterlab-desktop\\jlab_server\\lib\\site-packages (from requests<3.0.0,>=2.22.0->cltk) (2023.5.7)\n",
      "Requirement already satisfied: threadpoolctl>=2.0.0 in c:\\users\\gpwal\\appdata\\roaming\\jupyterlab-desktop\\jlab_server\\lib\\site-packages (from scikit-learn<2.0.0,>=1.0.2->cltk) (3.1.0)\n",
      "Requirement already satisfied: spacy-legacy<3.1.0,>=3.0.11 in c:\\users\\gpwal\\appdata\\roaming\\jupyterlab-desktop\\jlab_server\\lib\\site-packages (from spacy<4.0.0,>=3.2.4->cltk) (3.0.12)\n",
      "Requirement already satisfied: spacy-loggers<2.0.0,>=1.0.0 in c:\\users\\gpwal\\appdata\\roaming\\jupyterlab-desktop\\jlab_server\\lib\\site-packages (from spacy<4.0.0,>=3.2.4->cltk) (1.0.4)\n",
      "Requirement already satisfied: murmurhash<1.1.0,>=0.28.0 in c:\\users\\gpwal\\appdata\\roaming\\jupyterlab-desktop\\jlab_server\\lib\\site-packages (from spacy<4.0.0,>=3.2.4->cltk) (1.0.9)\n",
      "Requirement already satisfied: cymem<2.1.0,>=2.0.2 in c:\\users\\gpwal\\appdata\\roaming\\jupyterlab-desktop\\jlab_server\\lib\\site-packages (from spacy<4.0.0,>=3.2.4->cltk) (2.0.7)\n",
      "Requirement already satisfied: preshed<3.1.0,>=3.0.2 in c:\\users\\gpwal\\appdata\\roaming\\jupyterlab-desktop\\jlab_server\\lib\\site-packages (from spacy<4.0.0,>=3.2.4->cltk) (3.0.8)\n",
      "Requirement already satisfied: thinc<8.2.0,>=8.1.8 in c:\\users\\gpwal\\appdata\\roaming\\jupyterlab-desktop\\jlab_server\\lib\\site-packages (from spacy<4.0.0,>=3.2.4->cltk) (8.1.10)\n",
      "Requirement already satisfied: wasabi<1.2.0,>=0.9.1 in c:\\users\\gpwal\\appdata\\roaming\\jupyterlab-desktop\\jlab_server\\lib\\site-packages (from spacy<4.0.0,>=3.2.4->cltk) (1.1.2)\n",
      "Requirement already satisfied: srsly<3.0.0,>=2.4.3 in c:\\users\\gpwal\\appdata\\roaming\\jupyterlab-desktop\\jlab_server\\lib\\site-packages (from spacy<4.0.0,>=3.2.4->cltk) (2.4.6)\n",
      "Requirement already satisfied: catalogue<2.1.0,>=2.0.6 in c:\\users\\gpwal\\appdata\\roaming\\jupyterlab-desktop\\jlab_server\\lib\\site-packages (from spacy<4.0.0,>=3.2.4->cltk) (2.0.8)\n",
      "Requirement already satisfied: typer<0.8.0,>=0.3.0 in c:\\users\\gpwal\\appdata\\roaming\\jupyterlab-desktop\\jlab_server\\lib\\site-packages (from spacy<4.0.0,>=3.2.4->cltk) (0.7.0)\n",
      "Requirement already satisfied: pathy>=0.10.0 in c:\\users\\gpwal\\appdata\\roaming\\jupyterlab-desktop\\jlab_server\\lib\\site-packages (from spacy<4.0.0,>=3.2.4->cltk) (0.10.1)\n",
      "Requirement already satisfied: pydantic!=1.8,!=1.8.1,<1.11.0,>=1.7.4 in c:\\users\\gpwal\\appdata\\roaming\\jupyterlab-desktop\\jlab_server\\lib\\site-packages (from spacy<4.0.0,>=3.2.4->cltk) (1.10.9)\n",
      "Requirement already satisfied: jinja2 in c:\\users\\gpwal\\appdata\\roaming\\jupyterlab-desktop\\jlab_server\\lib\\site-packages (from spacy<4.0.0,>=3.2.4->cltk) (3.1.2)\n",
      "Requirement already satisfied: packaging>=20.0 in c:\\users\\gpwal\\appdata\\roaming\\jupyterlab-desktop\\jlab_server\\lib\\site-packages (from spacy<4.0.0,>=3.2.4->cltk) (23.1)\n",
      "Requirement already satisfied: langcodes<4.0.0,>=3.2.0 in c:\\users\\gpwal\\appdata\\roaming\\jupyterlab-desktop\\jlab_server\\lib\\site-packages (from spacy<4.0.0,>=3.2.4->cltk) (3.3.0)\n",
      "Requirement already satisfied: emoji in c:\\users\\gpwal\\appdata\\roaming\\jupyterlab-desktop\\jlab_server\\lib\\site-packages (from stanza<2.0.0,>=1.3.0->cltk) (2.5.0)\n",
      "Requirement already satisfied: protobuf in c:\\users\\gpwal\\appdata\\roaming\\jupyterlab-desktop\\jlab_server\\lib\\site-packages (from stanza<2.0.0,>=1.3.0->cltk) (4.23.2)\n",
      "Requirement already satisfied: six in c:\\users\\gpwal\\appdata\\roaming\\jupyterlab-desktop\\jlab_server\\lib\\site-packages (from stanza<2.0.0,>=1.3.0->cltk) (1.16.0)\n",
      "Requirement already satisfied: torch>=1.3.0 in c:\\users\\gpwal\\appdata\\roaming\\jupyterlab-desktop\\jlab_server\\lib\\site-packages (from stanza<2.0.0,>=1.3.0->cltk) (2.0.1)\n",
      "Requirement already satisfied: colorama in c:\\users\\gpwal\\appdata\\roaming\\jupyterlab-desktop\\jlab_server\\lib\\site-packages (from tqdm<5.0.0,>=4.41.1->cltk) (0.4.6)\n",
      "Requirement already satisfied: smmap<6,>=3.0.1 in c:\\users\\gpwal\\appdata\\roaming\\jupyterlab-desktop\\jlab_server\\lib\\site-packages (from gitdb<5,>=4.0.1->gitpython<4.0,>=3.0->cltk) (5.0.0)\n",
      "Requirement already satisfied: typing-extensions>=4.2.0 in c:\\users\\gpwal\\appdata\\roaming\\jupyterlab-desktop\\jlab_server\\lib\\site-packages (from pydantic!=1.8,!=1.8.1,<1.11.0,>=1.7.4->spacy<4.0.0,>=3.2.4->cltk) (4.5.0)\n",
      "Requirement already satisfied: blis<0.8.0,>=0.7.8 in c:\\users\\gpwal\\appdata\\roaming\\jupyterlab-desktop\\jlab_server\\lib\\site-packages (from thinc<8.2.0,>=8.1.8->spacy<4.0.0,>=3.2.4->cltk) (0.7.9)\n",
      "Requirement already satisfied: confection<1.0.0,>=0.0.1 in c:\\users\\gpwal\\appdata\\roaming\\jupyterlab-desktop\\jlab_server\\lib\\site-packages (from thinc<8.2.0,>=8.1.8->spacy<4.0.0,>=3.2.4->cltk) (0.0.4)\n",
      "Requirement already satisfied: filelock in c:\\users\\gpwal\\appdata\\roaming\\jupyterlab-desktop\\jlab_server\\lib\\site-packages (from torch>=1.3.0->stanza<2.0.0,>=1.3.0->cltk) (3.12.2)\n",
      "Requirement already satisfied: sympy in c:\\users\\gpwal\\appdata\\roaming\\jupyterlab-desktop\\jlab_server\\lib\\site-packages (from torch>=1.3.0->stanza<2.0.0,>=1.3.0->cltk) (1.12)\n",
      "Requirement already satisfied: networkx in c:\\users\\gpwal\\appdata\\roaming\\jupyterlab-desktop\\jlab_server\\lib\\site-packages (from torch>=1.3.0->stanza<2.0.0,>=1.3.0->cltk) (3.1)\n",
      "Requirement already satisfied: MarkupSafe>=2.0 in c:\\users\\gpwal\\appdata\\roaming\\jupyterlab-desktop\\jlab_server\\lib\\site-packages (from jinja2->spacy<4.0.0,>=3.2.4->cltk) (2.1.2)\n",
      "Requirement already satisfied: mpmath>=0.19 in c:\\users\\gpwal\\appdata\\roaming\\jupyterlab-desktop\\jlab_server\\lib\\site-packages (from sympy->torch>=1.3.0->stanza<2.0.0,>=1.3.0->cltk) (1.3.0)\n",
      "Installing collected packages: cltk\n",
      "  Attempting uninstall: cltk\n",
      "    Found existing installation: cltk 0.1.111\n",
      "    Uninstalling cltk-0.1.111:\n",
      "      Successfully uninstalled cltk-0.1.111\n",
      "Successfully installed cltk-1.1.6\n",
      "Note: you may need to restart the kernel to use updated packages.\n"
     ]
    }
   ],
   "source": [
    "pip install --upgrade cltk"
   ]
  },
  {
   "cell_type": "code",
   "execution_count": 13,
   "id": "7fda0274-3107-4c83-9758-217b1951d94e",
   "metadata": {
    "tags": []
   },
   "outputs": [],
   "source": [
    "#importing modules below:"
   ]
  },
  {
   "cell_type": "code",
   "execution_count": 1,
   "id": "d3012de7-d750-4a8a-bec8-001db1ed7ae8",
   "metadata": {
    "tags": []
   },
   "outputs": [],
   "source": [
    "import gensim.downloader as api\n",
    "wv = api.load('glove-wiki-gigaword-100')"
   ]
  },
  {
   "cell_type": "code",
   "execution_count": 2,
   "id": "776ec2f5-e901-444e-b330-50892e604b04",
   "metadata": {
    "tags": []
   },
   "outputs": [
    {
     "name": "stderr",
     "output_type": "stream",
     "text": [
      "[nltk_data] Downloading package punkt to\n",
      "[nltk_data]     C:\\Users\\gpwal\\AppData\\Roaming\\nltk_data...\n",
      "[nltk_data]   Package punkt is already up-to-date!\n"
     ]
    },
    {
     "data": {
      "text/plain": [
       "True"
      ]
     },
     "execution_count": 2,
     "metadata": {},
     "output_type": "execute_result"
    }
   ],
   "source": [
    "from gensim.models import Word2Vec\n",
    "import nltk\n",
    "nltk.data.path.append(f'C:\\\\Users\\\\gpwal\\\\AppData\\\\Roaming\\\\jupyterlab-desktop\\\\jlab_server\\\\nltk_data')\n",
    "nltk.download('punkt')"
   ]
  },
  {
   "cell_type": "code",
   "execution_count": 3,
   "id": "403b145c-9ca3-42c5-a903-d4e4c08cd3b2",
   "metadata": {
    "tags": []
   },
   "outputs": [],
   "source": [
    "from nltk.tokenize import sent_tokenize, RegexpTokenizer"
   ]
  },
  {
   "cell_type": "code",
   "execution_count": 4,
   "id": "39db9812-0892-4a0c-b6c4-64d65ea8c50c",
   "metadata": {
    "tags": []
   },
   "outputs": [],
   "source": [
    "import nltk\n",
    "from nltk.corpus import stopwords"
   ]
  },
  {
   "cell_type": "code",
   "execution_count": 5,
   "id": "9e1b4756-1ea4-427e-85b3-f73b3f8685fb",
   "metadata": {
    "tags": []
   },
   "outputs": [],
   "source": [
    "from cltk import NLP"
   ]
  },
  {
   "cell_type": "code",
   "execution_count": 6,
   "id": "a61b3e0d-127d-4d28-8c7d-be58e4c2efa8",
   "metadata": {
    "tags": []
   },
   "outputs": [],
   "source": [
    "from pprint import pprint"
   ]
  },
  {
   "cell_type": "code",
   "execution_count": 7,
   "id": "c1c9ae09-cd68-4d58-b702-0bb946ceb8da",
   "metadata": {
    "tags": []
   },
   "outputs": [],
   "source": [
    "import numpy as np"
   ]
  },
  {
   "cell_type": "code",
   "execution_count": 8,
   "id": "29e1f2d0-bb06-4761-b487-c2e6b5f3e67e",
   "metadata": {
    "tags": []
   },
   "outputs": [],
   "source": [
    "from scipy import spatial"
   ]
  },
  {
   "cell_type": "code",
   "execution_count": 9,
   "id": "a678af4c-ace4-4371-af3d-facf1a7366b4",
   "metadata": {
    "tags": []
   },
   "outputs": [],
   "source": [
    "from nltk.tokenize import RegexpTokenizer\n",
    "from collections import Counter"
   ]
  },
  {
   "cell_type": "code",
   "execution_count": 10,
   "id": "20ca7f17-cd30-4148-9cd5-1aa72b52aa90",
   "metadata": {
    "tags": []
   },
   "outputs": [],
   "source": [
    "import gutenbergpy.textget"
   ]
  },
  {
   "cell_type": "code",
   "execution_count": 11,
   "id": "120d5fb7-c878-4100-9ffc-bae7c5318c4b",
   "metadata": {
    "tags": []
   },
   "outputs": [],
   "source": [
    "import matplotlib.pyplot as plt"
   ]
  },
  {
   "cell_type": "code",
   "execution_count": 12,
   "id": "c7c5edaa-0443-4818-b9db-b21c4e947ed5",
   "metadata": {
    "tags": []
   },
   "outputs": [],
   "source": [
    "from tabulate import tabulate"
   ]
  },
  {
   "cell_type": "code",
   "execution_count": 13,
   "id": "dfa64753-ac9b-494a-8723-32e849683653",
   "metadata": {
    "tags": []
   },
   "outputs": [],
   "source": [
    "from sklearn.manifold import TSNE"
   ]
  },
  {
   "cell_type": "code",
   "execution_count": 14,
   "id": "d3bd3c6a-3383-41ab-9134-303afa2739c7",
   "metadata": {
    "tags": []
   },
   "outputs": [],
   "source": [
    "import plotly.express as px"
   ]
  },
  {
   "cell_type": "code",
   "execution_count": 15,
   "id": "09b1238c-434d-4354-9a6c-da41274269e8",
   "metadata": {
    "tags": []
   },
   "outputs": [],
   "source": [
    "import os"
   ]
  },
  {
   "cell_type": "code",
   "execution_count": 16,
   "id": "b7aaa074-a273-458a-b2c9-3401a93e2c92",
   "metadata": {
    "tags": []
   },
   "outputs": [],
   "source": [
    "import csv"
   ]
  },
  {
   "cell_type": "code",
   "execution_count": 17,
   "id": "e4b8bbf6-cc49-4696-9f8a-3f494ee81bf9",
   "metadata": {
    "tags": []
   },
   "outputs": [],
   "source": [
    "import pandas as pd"
   ]
  },
  {
   "cell_type": "code",
   "execution_count": 18,
   "id": "b30c3a5f-5aa9-4a65-8573-cbcaa8f21599",
   "metadata": {
    "tags": []
   },
   "outputs": [],
   "source": [
    "from collections import Counter"
   ]
  },
  {
   "cell_type": "code",
   "execution_count": 19,
   "id": "f0871d4d-b89a-48bf-8f70-4385275967ba",
   "metadata": {},
   "outputs": [],
   "source": [
    "# creating plots and arrays for the languages below:"
   ]
  },
  {
   "cell_type": "code",
   "execution_count": 20,
   "id": "6eec9399-2bca-42cd-8e3c-e036dc40b333",
   "metadata": {
    "tags": []
   },
   "outputs": [],
   "source": [
    "# tokenization function:\n",
    "def tokenize_corpus(text):\n",
    "    sentences = sent_tokenize(text.replace(\"\\n\", \" \").lower())\n",
    "    tokenized_sentences = [\n",
    "        RegexpTokenizer(r\"\\w+\").tokenize(sentence)\n",
    "        for sentence in sentences\n",
    "    ]\n",
    "    tokenized_corpus = [\n",
    "        [word for word in sentence]\n",
    "        for sentence in tokenized_sentences\n",
    "    ]\n",
    "    return tokenized_corpus"
   ]
  },
  {
   "cell_type": "code",
   "execution_count": 21,
   "id": "fe1e9b15-149e-43a4-b2f8-19d7bc689d5e",
   "metadata": {
    "tags": []
   },
   "outputs": [
    {
     "name": "stdout",
     "output_type": "stream",
     "text": [
      "‎𐤀 CLTK version '1.1.6'.\n",
      "Pipeline for language 'Latin' (ISO: 'lat'): `LatinNormalizeProcess`, `LatinStanzaProcess`, `LatinEmbeddingsProcess`, `StopsProcess`, `LatinLexiconProcess`.\n",
      "‎𐤀 CLTK version '1.1.6'.\n",
      "Pipeline for language 'Ancient Greek' (ISO: 'grc'): `GreekNormalizeProcess`, `GreekStanzaProcess`, `GreekEmbeddingsProcess`, `StopsProcess`.\n",
      "‎𐤀 CLTK version '1.1.6'.\n",
      "Pipeline for language 'Old English (ca. 450-1100)' (ISO: 'ang'): `MultilingualTokenizationProcess`, `OldEnglishLemmatizationProcess`, `OldEnglishEmbeddingsProcess`, `StopsProcess`.\n",
      "‎𐤀 CLTK version '1.1.6'.\n",
      "Pipeline for language 'Sanskrit' (ISO: 'san'): `MultilingualTokenizationProcess`, `SanskritEmbeddingsProcess`, `StopsProcess`.\n"
     ]
    }
   ],
   "source": [
    "cltk_nlp_lat = NLP(language=\"lat\")\n",
    "cltk_nlp_grc = NLP(language=\"grc\")\n",
    "cltk_nlp_oe = NLP(language=\"ang\")\n",
    "cltk_nlp_ss = NLP(language=\"san\")"
   ]
  },
  {
   "cell_type": "markdown",
   "id": "3b168b0c-69c9-44e7-b383-05acf83be8f8",
   "metadata": {},
   "source": [
    "## English"
   ]
  },
  {
   "cell_type": "code",
   "execution_count": 20,
   "id": "34ac3dc7-f9ab-4535-a00f-55b5106d3239",
   "metadata": {
    "tags": []
   },
   "outputs": [],
   "source": [
    "# creating a list of the Swadesh words\n",
    "swadesh =  ['i', 'you', 'we', 'this', 'that', 'who', 'what', 'not', 'all', 'many', 'one', 'two', 'big', 'long', 'small', 'woman', 'man', 'person', 'fish', 'bird', 'dog', 'louse', 'tree', 'seed', 'leaf', 'root', 'bark', 'skin', 'flesh', 'blood', 'bone', 'grease', 'egg', 'horn', 'tail', 'feather', 'hair', 'head', 'ear', 'eye', 'nose', 'mouth', 'tooth', 'tongue', 'claw', 'foot', 'knee', 'hand', 'belly', 'neck', 'breasts', 'heart', 'liver', 'drink', 'eat', 'bite', 'see', 'hear', 'know', 'sleep', 'die', 'kill', 'swim', 'fly', 'walk', 'come', 'lie', 'sit', 'stand', 'give', 'say', 'sun', 'moon', 'star', 'water', 'rain', 'stone', 'sand', 'earth', 'cloud', 'smoke', 'fire', 'ashes', 'burn', 'path', 'mountain', 'red', 'green', 'yellow', 'white', 'black', 'night', 'hot', 'cold', 'full', 'new', 'good', 'round', 'dry', 'name']"
   ]
  },
  {
   "cell_type": "code",
   "execution_count": 21,
   "id": "35828220-0d08-4564-80f4-a1193fa6f5bc",
   "metadata": {
    "tags": []
   },
   "outputs": [],
   "source": [
    "# creating an empty dictionary\n",
    "en_vectors = ({})\n",
    "# for every word in the Swadesh list, get its vector and put them in the dictionary\n",
    "for key in swadesh:\n",
    "    en_vectors[key] = wv.get_vector(key)"
   ]
  },
  {
   "cell_type": "code",
   "execution_count": 24,
   "id": "0912f8a9-9e49-46be-acbe-927a861a3746",
   "metadata": {
    "tags": []
   },
   "outputs": [],
   "source": [
    "# put the dictionary into a text file by converting it into a string\n",
    "with open(\"data/english/en_vectors.csv\", \"w\") as f:\n",
    "    w = csv.DictWriter(f, en_vectors.keys())\n",
    "    w.writeheader()\n",
    "    w.writerow(en_vectors)"
   ]
  },
  {
   "cell_type": "markdown",
   "id": "e1bddbe0-14bf-4733-bd08-483cdd228ec8",
   "metadata": {},
   "source": [
    "## Latin"
   ]
  },
  {
   "cell_type": "code",
   "execution_count": 21,
   "id": "ee385b04-7ad8-437d-ba51-16dc2710ac9c",
   "metadata": {
    "tags": []
   },
   "outputs": [],
   "source": [
    "with open (\"texts/latintexts/latin_corpus.txt\", 'r', encoding=\"ISO-8859-1\") as f:\n",
    "  text = f.read()\n",
    "    \n",
    "lat_corpus = tokenize_corpus(text)"
   ]
  },
  {
   "cell_type": "code",
   "execution_count": 22,
   "id": "5f90763c-e086-4be6-a1bf-8be3f0632512",
   "metadata": {
    "tags": []
   },
   "outputs": [],
   "source": [
    "# Creating a word2vec model based on our Latin corpus\n",
    "la_model = Word2Vec(sentences = lat_corpus, \n",
    "                 vector_size = 100, \n",
    "                 window = 20,\n",
    "                 epochs = 100)"
   ]
  },
  {
   "cell_type": "code",
   "execution_count": 23,
   "id": "383e1309-609e-4a5c-abf7-837204b29d79",
   "metadata": {
    "tags": []
   },
   "outputs": [
    {
     "data": {
      "text/plain": [
       "array([-3.260768  ,  2.3444521 , -1.3318249 ,  4.046709  ,  3.5807395 ,\n",
       "        0.64230263, -8.042791  ,  4.6059895 , -0.3065241 ,  3.1721318 ,\n",
       "        0.17564057,  1.3732514 , -1.1506852 , -0.23071203, -1.3867702 ,\n",
       "        2.3181334 ,  2.035894  ,  1.1515571 , -5.6329074 ,  1.9869537 ,\n",
       "        1.4870198 ,  4.5852394 ,  1.9575863 ,  0.9737028 , -7.6848054 ,\n",
       "        0.59621876, -2.4253764 , -2.1223185 , -5.328567  , -0.33575764,\n",
       "       -0.82351357, -2.1199272 , -1.7763509 , -1.1048948 , -2.5903647 ,\n",
       "       -0.8348056 ,  2.979441  , -0.29793882,  0.5543544 ,  2.9222267 ,\n",
       "       -2.1402779 , -1.3912295 ,  0.35444453, -2.7836258 ,  1.1255137 ,\n",
       "        0.82055944,  1.1588867 , -1.247147  ,  4.44083   , -0.7346867 ,\n",
       "        0.3009445 ,  3.4705184 , -2.670023  , -4.5015097 , -0.25501108,\n",
       "       -2.842547  ,  0.8203285 , -4.3743086 , -0.8908605 ,  2.7167926 ,\n",
       "        2.4967139 , -0.7680066 , -4.75453   ,  2.0691857 ,  1.1953262 ,\n",
       "       -3.2176266 , -3.4854367 ,  1.0650046 , -2.9722548 , -2.6795056 ,\n",
       "       -3.7211335 , -6.898782  , -2.2814848 ,  4.713138  ,  1.088736  ,\n",
       "        4.7978573 ,  0.8239215 , -4.6528406 ,  2.0171518 ,  1.1250961 ,\n",
       "        0.5822393 ,  3.6602998 , -0.9446681 , -8.190515  ,  1.6800588 ,\n",
       "       -1.5381231 ,  1.8204606 , -1.7176677 ,  6.391252  ,  6.60665   ,\n",
       "        1.3895321 ,  2.2666194 , -0.24955952,  1.3336117 , -3.2937508 ,\n",
       "       -0.3531204 , -1.5531154 ,  1.6998107 ,  2.5453544 , -2.2674592 ],\n",
       "      dtype=float32)"
      ]
     },
     "execution_count": 23,
     "metadata": {},
     "output_type": "execute_result"
    }
   ],
   "source": [
    "la_model.wv.get_vector('vir')"
   ]
  },
  {
   "cell_type": "code",
   "execution_count": 24,
   "id": "f00b79f1-bc27-48a9-b901-30afc2e43793",
   "metadata": {
    "tags": []
   },
   "outputs": [
    {
     "data": {
      "text/plain": [
       "0.19098225"
      ]
     },
     "execution_count": 24,
     "metadata": {},
     "output_type": "execute_result"
    }
   ],
   "source": [
    "la_model.wv.similarity('vir', 'femina')"
   ]
  },
  {
   "cell_type": "code",
   "execution_count": 27,
   "id": "9710d51e-52fd-4740-b527-9ef9b0db3870",
   "metadata": {
    "tags": []
   },
   "outputs": [],
   "source": [
    "latin_swadesh = ['ego', 'tu','nos','cis','istud','qui','quid','non','omnis','multi','unus','duo','magnus','longus','minutus','femina','vir','persona','piscis','avis','canis','pedis','dryas','semen','folium','radix','cortex','cutis','membrana','sanguis','os','medulla','ovum','cornu','cauda','pluma','pilus','caput','auris','oculus','nasus','os','gemma','lingua','unguis','pes','genu','manus','uterus','monile','pectora','cor','iecur','bibere','edere','mordeo','cautio','cautio','cognoscere','somnus','funus','caedo','nare','volare','pontis','venire','lectus','sedere','stare','dare','inquam','sol','mensis','stella','aqua','pluvia','lapis','harena','solum','nimbus','fumus','ignis','ardere','ardere','pontis','mons','rubeus','gramen','flavo','albus','ater','nox','calidus','gelu','plenus','novus','bonus','circularis','siccus','nomen']"
   ]
  },
  {
   "cell_type": "code",
   "execution_count": 38,
   "id": "7a4ea973-610c-4f34-8f0c-240adf468799",
   "metadata": {
    "tags": []
   },
   "outputs": [],
   "source": [
    "# creating an empty dictionary\n",
    "la_vectors = ({})\n",
    "# for every word in the Swadesh list, get its vector and put them in the dictionary\n",
    "for key in latin_swadesh:\n",
    "    la_vectors[key] = la_model.wv.get_vector(key)"
   ]
  },
  {
   "cell_type": "code",
   "execution_count": 39,
   "id": "6ed5991c-e983-4622-b3d4-01a0a2854efc",
   "metadata": {
    "tags": []
   },
   "outputs": [],
   "source": [
    "with open(\"data/latin/latin_swadesh_vectors.csv\", \"w\") as f:\n",
    "    w = csv.DictWriter(f, la_vectors.keys())\n",
    "    w.writeheader()\n",
    "    w.writerow(la_vectors)"
   ]
  },
  {
   "cell_type": "markdown",
   "id": "abd3744c-8450-4ae0-9e0c-ffc21924f90a",
   "metadata": {},
   "source": [
    "## Old English"
   ]
  },
  {
   "cell_type": "code",
   "execution_count": 21,
   "id": "e00ea981-56a7-4e32-966f-37b16fc463e3",
   "metadata": {
    "tags": []
   },
   "outputs": [],
   "source": [
    "with open (\"texts/oe_texts/oecorpus.txt\", 'r', encoding='utf-8') as f:\n",
    "  text = f.read()\n",
    "  \n",
    "oldenglish_corpus = tokenize_corpus(text)"
   ]
  },
  {
   "cell_type": "code",
   "execution_count": 22,
   "id": "ad996897-6c95-4b91-9ec3-a026481f867b",
   "metadata": {
    "tags": []
   },
   "outputs": [],
   "source": [
    "# Creating a word2vec model based on our OE corpus\n",
    "oe_model = Word2Vec(sentences = oldenglish_corpus, \n",
    "                 vector_size = 100, \n",
    "                 window = 20,\n",
    "                 epochs = 100,\n",
    "                 min_count = 1)"
   ]
  },
  {
   "cell_type": "code",
   "execution_count": 40,
   "id": "bd8627b5-7168-4df2-a292-2620c618f76c",
   "metadata": {
    "tags": []
   },
   "outputs": [],
   "source": [
    "oe_swadesh = ['ic', 'ðu', 'us', 'he', 'ðæt', 'ne', 'manig', 'twegen', 'micel', 'lang', 'min', 'cwen', 'mann', 'mann', 'fisc', 'hund', 'treow', 'blæd', 'gelynd','æg', 'horn', 'hær', 'heafod', 'eare', 'eage', 'muþ', 'tunge', 'clea', 'fot', 'cneow', 'mund', 'sweora', 'heorte', 'drincan', 'etan', 'bitan', 'seon', 'gehiran', 'cunnan', 'swefan', 'dead','fleogan', 'findan', 'cuman', 'licgan', 'sittan', 'standan', 'sæcgan', 'sunne', 'mona', 'steorra', 'ea', 'regn', 'stan', 'eorþe', 'neowol', 'þrosm', 'axe', 'bærnan', 'findan', 'beorg', 'read', 'grene', 'geolo', 'hwit', 'niht', 'wearm', 'ceald', 'full', 'niwe', 'betra', 'dryge', 'nama']"
   ]
  },
  {
   "cell_type": "code",
   "execution_count": 41,
   "id": "71755302-a327-4264-afe1-d730ccd31404",
   "metadata": {
    "tags": []
   },
   "outputs": [],
   "source": [
    "# creating an empty dictionary\n",
    "oe_vectors = ({})\n",
    "#for every word in the Swadesh list, get its vector and put them in the dictionary\n",
    "for key in oe_swadesh:\n",
    "    oe_vectors[key] = oe_model.wv.get_vector(key)"
   ]
  },
  {
   "cell_type": "code",
   "execution_count": 42,
   "id": "3e4c3962-4b87-446b-9c87-716fbcc29b37",
   "metadata": {
    "tags": []
   },
   "outputs": [],
   "source": [
    "with open(\"data/old_english/oe_swadesh_vectors.csv\", \"w\", encoding='utf-8') as f:\n",
    "    w = csv.DictWriter(f, oe_vectors.keys())\n",
    "    w.writeheader()\n",
    "    w.writerow(oe_vectors)"
   ]
  },
  {
   "cell_type": "markdown",
   "id": "226fc979-cba6-4209-b468-d9fb1113ebc9",
   "metadata": {},
   "source": [
    "## Sanskrit"
   ]
  },
  {
   "cell_type": "code",
   "execution_count": 23,
   "id": "7ec584d6-0ebb-4f11-a38d-1968f6d46f19",
   "metadata": {
    "tags": []
   },
   "outputs": [],
   "source": [
    "with open (\"texts/ss_texts/sanskritcorpus.txt\", 'r', encoding = 'utf-8') as f:\n",
    "  text = f.read()\n",
    "  \n",
    "sanskrit_corpus = tokenize_corpus(text)"
   ]
  },
  {
   "cell_type": "code",
   "execution_count": 24,
   "id": "c4d989f4-02f0-49ee-8182-e4e3a2cbe6b1",
   "metadata": {
    "tags": []
   },
   "outputs": [],
   "source": [
    "ss_model = Word2Vec(sentences = sanskrit_corpus, \n",
    "                 vector_size = 100, \n",
    "                 window = 20,\n",
    "                 epochs = 100)"
   ]
  },
  {
   "cell_type": "markdown",
   "id": "a7049945-741e-471b-93b6-33fae59fa70b",
   "metadata": {
    "tags": []
   },
   "source": [
    "### Our current Sanskrit corpus does not contain several words within the Swadesh list, will need to fix the list and/or find a bigger corpus"
   ]
  },
  {
   "cell_type": "markdown",
   "id": "e2c167aa-a45b-409f-9f9c-e085baa9c26c",
   "metadata": {},
   "source": [
    "## Greek"
   ]
  },
  {
   "cell_type": "code",
   "execution_count": 25,
   "id": "a8dffe53-998d-4743-98c4-87c78473f334",
   "metadata": {
    "tags": []
   },
   "outputs": [],
   "source": [
    "with open (r'C:\\Users\\gpwal\\cltk_data\\grc\\grc_text_tesserae-master\\texts\\greekcorpus.txt', 'r', encoding='ISO-8859-1') as f:\n",
    "  text = f.read()\n",
    "  \n",
    "greek_corpus = tokenize_corpus(text)"
   ]
  },
  {
   "cell_type": "code",
   "execution_count": 26,
   "id": "3dc05109-51fa-4e16-887c-2fa97c71cab7",
   "metadata": {
    "collapsed": true,
    "jupyter": {
     "outputs_hidden": true
    },
    "tags": []
   },
   "outputs": [
    {
     "ename": "KeyboardInterrupt",
     "evalue": "",
     "output_type": "error",
     "traceback": [
      "\u001b[1;31m---------------------------------------------------------------------------\u001b[0m",
      "\u001b[1;31mKeyboardInterrupt\u001b[0m                         Traceback (most recent call last)",
      "Cell \u001b[1;32mIn[26], line 1\u001b[0m\n\u001b[1;32m----> 1\u001b[0m gr_model \u001b[38;5;241m=\u001b[39m \u001b[43mWord2Vec\u001b[49m\u001b[43m(\u001b[49m\u001b[43msentences\u001b[49m\u001b[43m \u001b[49m\u001b[38;5;241;43m=\u001b[39;49m\u001b[43m \u001b[49m\u001b[43mgreek_corpus\u001b[49m\u001b[43m,\u001b[49m\u001b[43m \u001b[49m\n\u001b[0;32m      2\u001b[0m \u001b[43m                 \u001b[49m\u001b[43mvector_size\u001b[49m\u001b[43m \u001b[49m\u001b[38;5;241;43m=\u001b[39;49m\u001b[43m \u001b[49m\u001b[38;5;241;43m100\u001b[39;49m\u001b[43m,\u001b[49m\u001b[43m \u001b[49m\n\u001b[0;32m      3\u001b[0m \u001b[43m                 \u001b[49m\u001b[43mwindow\u001b[49m\u001b[43m \u001b[49m\u001b[38;5;241;43m=\u001b[39;49m\u001b[43m \u001b[49m\u001b[38;5;241;43m20\u001b[39;49m\u001b[43m,\u001b[49m\n\u001b[0;32m      4\u001b[0m \u001b[43m                 \u001b[49m\u001b[43mepochs\u001b[49m\u001b[43m \u001b[49m\u001b[38;5;241;43m=\u001b[39;49m\u001b[43m \u001b[49m\u001b[38;5;241;43m100\u001b[39;49m\u001b[43m)\u001b[49m\n",
      "File \u001b[1;32m~\\AppData\\Roaming\\jupyterlab-desktop\\jlab_server\\lib\\site-packages\\gensim\\models\\word2vec.py:430\u001b[0m, in \u001b[0;36mWord2Vec.__init__\u001b[1;34m(self, sentences, corpus_file, vector_size, alpha, window, min_count, max_vocab_size, sample, seed, workers, min_alpha, sg, hs, negative, ns_exponent, cbow_mean, hashfxn, epochs, null_word, trim_rule, sorted_vocab, batch_words, compute_loss, callbacks, comment, max_final_vocab, shrink_windows)\u001b[0m\n\u001b[0;32m    428\u001b[0m     \u001b[38;5;28mself\u001b[39m\u001b[38;5;241m.\u001b[39m_check_corpus_sanity(corpus_iterable\u001b[38;5;241m=\u001b[39mcorpus_iterable, corpus_file\u001b[38;5;241m=\u001b[39mcorpus_file, passes\u001b[38;5;241m=\u001b[39m(epochs \u001b[38;5;241m+\u001b[39m \u001b[38;5;241m1\u001b[39m))\n\u001b[0;32m    429\u001b[0m     \u001b[38;5;28mself\u001b[39m\u001b[38;5;241m.\u001b[39mbuild_vocab(corpus_iterable\u001b[38;5;241m=\u001b[39mcorpus_iterable, corpus_file\u001b[38;5;241m=\u001b[39mcorpus_file, trim_rule\u001b[38;5;241m=\u001b[39mtrim_rule)\n\u001b[1;32m--> 430\u001b[0m     \u001b[38;5;28;43mself\u001b[39;49m\u001b[38;5;241;43m.\u001b[39;49m\u001b[43mtrain\u001b[49m\u001b[43m(\u001b[49m\n\u001b[0;32m    431\u001b[0m \u001b[43m        \u001b[49m\u001b[43mcorpus_iterable\u001b[49m\u001b[38;5;241;43m=\u001b[39;49m\u001b[43mcorpus_iterable\u001b[49m\u001b[43m,\u001b[49m\u001b[43m \u001b[49m\u001b[43mcorpus_file\u001b[49m\u001b[38;5;241;43m=\u001b[39;49m\u001b[43mcorpus_file\u001b[49m\u001b[43m,\u001b[49m\u001b[43m \u001b[49m\u001b[43mtotal_examples\u001b[49m\u001b[38;5;241;43m=\u001b[39;49m\u001b[38;5;28;43mself\u001b[39;49m\u001b[38;5;241;43m.\u001b[39;49m\u001b[43mcorpus_count\u001b[49m\u001b[43m,\u001b[49m\n\u001b[0;32m    432\u001b[0m \u001b[43m        \u001b[49m\u001b[43mtotal_words\u001b[49m\u001b[38;5;241;43m=\u001b[39;49m\u001b[38;5;28;43mself\u001b[39;49m\u001b[38;5;241;43m.\u001b[39;49m\u001b[43mcorpus_total_words\u001b[49m\u001b[43m,\u001b[49m\u001b[43m \u001b[49m\u001b[43mepochs\u001b[49m\u001b[38;5;241;43m=\u001b[39;49m\u001b[38;5;28;43mself\u001b[39;49m\u001b[38;5;241;43m.\u001b[39;49m\u001b[43mepochs\u001b[49m\u001b[43m,\u001b[49m\u001b[43m \u001b[49m\u001b[43mstart_alpha\u001b[49m\u001b[38;5;241;43m=\u001b[39;49m\u001b[38;5;28;43mself\u001b[39;49m\u001b[38;5;241;43m.\u001b[39;49m\u001b[43malpha\u001b[49m\u001b[43m,\u001b[49m\n\u001b[0;32m    433\u001b[0m \u001b[43m        \u001b[49m\u001b[43mend_alpha\u001b[49m\u001b[38;5;241;43m=\u001b[39;49m\u001b[38;5;28;43mself\u001b[39;49m\u001b[38;5;241;43m.\u001b[39;49m\u001b[43mmin_alpha\u001b[49m\u001b[43m,\u001b[49m\u001b[43m \u001b[49m\u001b[43mcompute_loss\u001b[49m\u001b[38;5;241;43m=\u001b[39;49m\u001b[38;5;28;43mself\u001b[39;49m\u001b[38;5;241;43m.\u001b[39;49m\u001b[43mcompute_loss\u001b[49m\u001b[43m,\u001b[49m\u001b[43m \u001b[49m\u001b[43mcallbacks\u001b[49m\u001b[38;5;241;43m=\u001b[39;49m\u001b[43mcallbacks\u001b[49m\u001b[43m)\u001b[49m\n\u001b[0;32m    434\u001b[0m \u001b[38;5;28;01melse\u001b[39;00m:\n\u001b[0;32m    435\u001b[0m     \u001b[38;5;28;01mif\u001b[39;00m trim_rule \u001b[38;5;129;01mis\u001b[39;00m \u001b[38;5;129;01mnot\u001b[39;00m \u001b[38;5;28;01mNone\u001b[39;00m:\n",
      "File \u001b[1;32m~\\AppData\\Roaming\\jupyterlab-desktop\\jlab_server\\lib\\site-packages\\gensim\\models\\word2vec.py:1073\u001b[0m, in \u001b[0;36mWord2Vec.train\u001b[1;34m(self, corpus_iterable, corpus_file, total_examples, total_words, epochs, start_alpha, end_alpha, word_count, queue_factor, report_delay, compute_loss, callbacks, **kwargs)\u001b[0m\n\u001b[0;32m   1070\u001b[0m     callback\u001b[38;5;241m.\u001b[39mon_epoch_begin(\u001b[38;5;28mself\u001b[39m)\n\u001b[0;32m   1072\u001b[0m \u001b[38;5;28;01mif\u001b[39;00m corpus_iterable \u001b[38;5;129;01mis\u001b[39;00m \u001b[38;5;129;01mnot\u001b[39;00m \u001b[38;5;28;01mNone\u001b[39;00m:\n\u001b[1;32m-> 1073\u001b[0m     trained_word_count_epoch, raw_word_count_epoch, job_tally_epoch \u001b[38;5;241m=\u001b[39m \u001b[38;5;28;43mself\u001b[39;49m\u001b[38;5;241;43m.\u001b[39;49m\u001b[43m_train_epoch\u001b[49m\u001b[43m(\u001b[49m\n\u001b[0;32m   1074\u001b[0m \u001b[43m        \u001b[49m\u001b[43mcorpus_iterable\u001b[49m\u001b[43m,\u001b[49m\u001b[43m \u001b[49m\u001b[43mcur_epoch\u001b[49m\u001b[38;5;241;43m=\u001b[39;49m\u001b[43mcur_epoch\u001b[49m\u001b[43m,\u001b[49m\u001b[43m \u001b[49m\u001b[43mtotal_examples\u001b[49m\u001b[38;5;241;43m=\u001b[39;49m\u001b[43mtotal_examples\u001b[49m\u001b[43m,\u001b[49m\n\u001b[0;32m   1075\u001b[0m \u001b[43m        \u001b[49m\u001b[43mtotal_words\u001b[49m\u001b[38;5;241;43m=\u001b[39;49m\u001b[43mtotal_words\u001b[49m\u001b[43m,\u001b[49m\u001b[43m \u001b[49m\u001b[43mqueue_factor\u001b[49m\u001b[38;5;241;43m=\u001b[39;49m\u001b[43mqueue_factor\u001b[49m\u001b[43m,\u001b[49m\u001b[43m \u001b[49m\u001b[43mreport_delay\u001b[49m\u001b[38;5;241;43m=\u001b[39;49m\u001b[43mreport_delay\u001b[49m\u001b[43m,\u001b[49m\n\u001b[0;32m   1076\u001b[0m \u001b[43m        \u001b[49m\u001b[43mcallbacks\u001b[49m\u001b[38;5;241;43m=\u001b[39;49m\u001b[43mcallbacks\u001b[49m\u001b[43m,\u001b[49m\u001b[43m \u001b[49m\u001b[38;5;241;43m*\u001b[39;49m\u001b[38;5;241;43m*\u001b[39;49m\u001b[43mkwargs\u001b[49m\u001b[43m)\u001b[49m\n\u001b[0;32m   1077\u001b[0m \u001b[38;5;28;01melse\u001b[39;00m:\n\u001b[0;32m   1078\u001b[0m     trained_word_count_epoch, raw_word_count_epoch, job_tally_epoch \u001b[38;5;241m=\u001b[39m \u001b[38;5;28mself\u001b[39m\u001b[38;5;241m.\u001b[39m_train_epoch_corpusfile(\n\u001b[0;32m   1079\u001b[0m         corpus_file, cur_epoch\u001b[38;5;241m=\u001b[39mcur_epoch, total_examples\u001b[38;5;241m=\u001b[39mtotal_examples, total_words\u001b[38;5;241m=\u001b[39mtotal_words,\n\u001b[0;32m   1080\u001b[0m         callbacks\u001b[38;5;241m=\u001b[39mcallbacks, \u001b[38;5;241m*\u001b[39m\u001b[38;5;241m*\u001b[39mkwargs)\n",
      "File \u001b[1;32m~\\AppData\\Roaming\\jupyterlab-desktop\\jlab_server\\lib\\site-packages\\gensim\\models\\word2vec.py:1434\u001b[0m, in \u001b[0;36mWord2Vec._train_epoch\u001b[1;34m(self, data_iterable, cur_epoch, total_examples, total_words, queue_factor, report_delay, callbacks)\u001b[0m\n\u001b[0;32m   1431\u001b[0m     thread\u001b[38;5;241m.\u001b[39mdaemon \u001b[38;5;241m=\u001b[39m \u001b[38;5;28;01mTrue\u001b[39;00m  \u001b[38;5;66;03m# make interrupting the process with ctrl+c easier\u001b[39;00m\n\u001b[0;32m   1432\u001b[0m     thread\u001b[38;5;241m.\u001b[39mstart()\n\u001b[1;32m-> 1434\u001b[0m trained_word_count, raw_word_count, job_tally \u001b[38;5;241m=\u001b[39m \u001b[38;5;28;43mself\u001b[39;49m\u001b[38;5;241;43m.\u001b[39;49m\u001b[43m_log_epoch_progress\u001b[49m\u001b[43m(\u001b[49m\n\u001b[0;32m   1435\u001b[0m \u001b[43m    \u001b[49m\u001b[43mprogress_queue\u001b[49m\u001b[43m,\u001b[49m\u001b[43m \u001b[49m\u001b[43mjob_queue\u001b[49m\u001b[43m,\u001b[49m\u001b[43m \u001b[49m\u001b[43mcur_epoch\u001b[49m\u001b[38;5;241;43m=\u001b[39;49m\u001b[43mcur_epoch\u001b[49m\u001b[43m,\u001b[49m\u001b[43m \u001b[49m\u001b[43mtotal_examples\u001b[49m\u001b[38;5;241;43m=\u001b[39;49m\u001b[43mtotal_examples\u001b[49m\u001b[43m,\u001b[49m\n\u001b[0;32m   1436\u001b[0m \u001b[43m    \u001b[49m\u001b[43mtotal_words\u001b[49m\u001b[38;5;241;43m=\u001b[39;49m\u001b[43mtotal_words\u001b[49m\u001b[43m,\u001b[49m\u001b[43m \u001b[49m\u001b[43mreport_delay\u001b[49m\u001b[38;5;241;43m=\u001b[39;49m\u001b[43mreport_delay\u001b[49m\u001b[43m,\u001b[49m\u001b[43m \u001b[49m\u001b[43mis_corpus_file_mode\u001b[49m\u001b[38;5;241;43m=\u001b[39;49m\u001b[38;5;28;43;01mFalse\u001b[39;49;00m\u001b[43m,\u001b[49m\n\u001b[0;32m   1437\u001b[0m \u001b[43m\u001b[49m\u001b[43m)\u001b[49m\n\u001b[0;32m   1439\u001b[0m \u001b[38;5;28;01mreturn\u001b[39;00m trained_word_count, raw_word_count, job_tally\n",
      "File \u001b[1;32m~\\AppData\\Roaming\\jupyterlab-desktop\\jlab_server\\lib\\site-packages\\gensim\\models\\word2vec.py:1289\u001b[0m, in \u001b[0;36mWord2Vec._log_epoch_progress\u001b[1;34m(self, progress_queue, job_queue, cur_epoch, total_examples, total_words, report_delay, is_corpus_file_mode)\u001b[0m\n\u001b[0;32m   1286\u001b[0m unfinished_worker_count \u001b[38;5;241m=\u001b[39m \u001b[38;5;28mself\u001b[39m\u001b[38;5;241m.\u001b[39mworkers\n\u001b[0;32m   1288\u001b[0m \u001b[38;5;28;01mwhile\u001b[39;00m unfinished_worker_count \u001b[38;5;241m>\u001b[39m \u001b[38;5;241m0\u001b[39m:\n\u001b[1;32m-> 1289\u001b[0m     report \u001b[38;5;241m=\u001b[39m \u001b[43mprogress_queue\u001b[49m\u001b[38;5;241;43m.\u001b[39;49m\u001b[43mget\u001b[49m\u001b[43m(\u001b[49m\u001b[43m)\u001b[49m  \u001b[38;5;66;03m# blocks if workers too slow\u001b[39;00m\n\u001b[0;32m   1290\u001b[0m     \u001b[38;5;28;01mif\u001b[39;00m report \u001b[38;5;129;01mis\u001b[39;00m \u001b[38;5;28;01mNone\u001b[39;00m:  \u001b[38;5;66;03m# a thread reporting that it finished\u001b[39;00m\n\u001b[0;32m   1291\u001b[0m         unfinished_worker_count \u001b[38;5;241m-\u001b[39m\u001b[38;5;241m=\u001b[39m \u001b[38;5;241m1\u001b[39m\n",
      "File \u001b[1;32m~\\AppData\\Roaming\\jupyterlab-desktop\\jlab_server\\lib\\queue.py:170\u001b[0m, in \u001b[0;36mQueue.get\u001b[1;34m(self, block, timeout)\u001b[0m\n\u001b[0;32m    168\u001b[0m \u001b[38;5;28;01melif\u001b[39;00m timeout \u001b[38;5;129;01mis\u001b[39;00m \u001b[38;5;28;01mNone\u001b[39;00m:\n\u001b[0;32m    169\u001b[0m     \u001b[38;5;28;01mwhile\u001b[39;00m \u001b[38;5;129;01mnot\u001b[39;00m \u001b[38;5;28mself\u001b[39m\u001b[38;5;241m.\u001b[39m_qsize():\n\u001b[1;32m--> 170\u001b[0m         \u001b[38;5;28;43mself\u001b[39;49m\u001b[38;5;241;43m.\u001b[39;49m\u001b[43mnot_empty\u001b[49m\u001b[38;5;241;43m.\u001b[39;49m\u001b[43mwait\u001b[49m\u001b[43m(\u001b[49m\u001b[43m)\u001b[49m\n\u001b[0;32m    171\u001b[0m \u001b[38;5;28;01melif\u001b[39;00m timeout \u001b[38;5;241m<\u001b[39m \u001b[38;5;241m0\u001b[39m:\n\u001b[0;32m    172\u001b[0m     \u001b[38;5;28;01mraise\u001b[39;00m \u001b[38;5;167;01mValueError\u001b[39;00m(\u001b[38;5;124m\"\u001b[39m\u001b[38;5;124m'\u001b[39m\u001b[38;5;124mtimeout\u001b[39m\u001b[38;5;124m'\u001b[39m\u001b[38;5;124m must be a non-negative number\u001b[39m\u001b[38;5;124m\"\u001b[39m)\n",
      "File \u001b[1;32m~\\AppData\\Roaming\\jupyterlab-desktop\\jlab_server\\lib\\threading.py:302\u001b[0m, in \u001b[0;36mCondition.wait\u001b[1;34m(self, timeout)\u001b[0m\n\u001b[0;32m    300\u001b[0m \u001b[38;5;28;01mtry\u001b[39;00m:    \u001b[38;5;66;03m# restore state no matter what (e.g., KeyboardInterrupt)\u001b[39;00m\n\u001b[0;32m    301\u001b[0m     \u001b[38;5;28;01mif\u001b[39;00m timeout \u001b[38;5;129;01mis\u001b[39;00m \u001b[38;5;28;01mNone\u001b[39;00m:\n\u001b[1;32m--> 302\u001b[0m         \u001b[43mwaiter\u001b[49m\u001b[38;5;241;43m.\u001b[39;49m\u001b[43macquire\u001b[49m\u001b[43m(\u001b[49m\u001b[43m)\u001b[49m\n\u001b[0;32m    303\u001b[0m         gotit \u001b[38;5;241m=\u001b[39m \u001b[38;5;28;01mTrue\u001b[39;00m\n\u001b[0;32m    304\u001b[0m     \u001b[38;5;28;01melse\u001b[39;00m:\n",
      "\u001b[1;31mKeyboardInterrupt\u001b[0m: "
     ]
    }
   ],
   "source": [
    "gr_model = Word2Vec(sentences = greek_corpus, \n",
    "                 vector_size = 100, \n",
    "                 window = 20,\n",
    "                 epochs = 100)"
   ]
  },
  {
   "cell_type": "markdown",
   "id": "1c7305d3-36e2-4f62-ad96-a1e8b22bbfe2",
   "metadata": {
    "tags": []
   },
   "source": [
    "### Our current Greek corpus does not contain several words within the Swadesh list, will need to fix the list and/or find a bigger corpus"
   ]
  },
  {
   "cell_type": "markdown",
   "id": "bc99ec15-2aca-4781-aab7-b02f0273c285",
   "metadata": {},
   "source": [
    "## CLTK Latin"
   ]
  },
  {
   "cell_type": "markdown",
   "id": "0bfbb1dc-885e-4173-bc04-6200f5da78fb",
   "metadata": {},
   "source": [
    "### NLP-ing our Latin Corpus"
   ]
  },
  {
   "cell_type": "code",
   "execution_count": 24,
   "id": "432c6cfd-6af8-4022-87ea-4110fb0ca4b3",
   "metadata": {
    "tags": []
   },
   "outputs": [],
   "source": [
    "from cltk.data.fetch import FetchCorpus\n",
    "corpus_downloader = FetchCorpus(language=\"lat\")\n",
    "corpus_downloader.list_corpora\n",
    "corpus_downloader.import_corpus(\"lat_text_perseus\")"
   ]
  },
  {
   "cell_type": "code",
   "execution_count": 127,
   "id": "0b19a6ba-3761-457b-87fa-131fc6fcf77e",
   "metadata": {
    "tags": []
   },
   "outputs": [],
   "source": [
    "with open(\"texts/latintexts/latin_corpus.txt\", encoding='utf-8') as f:\n",
    "    latin_full = f.read()"
   ]
  },
  {
   "cell_type": "code",
   "execution_count": 128,
   "id": "8eb14fa5-5829-461d-bf2b-08397b146153",
   "metadata": {
    "tags": []
   },
   "outputs": [
    {
     "name": "stdout",
     "output_type": "stream",
     "text": [
      "27394534\n",
      "2739453\n"
     ]
    }
   ],
   "source": [
    "latin_part = latin_full[:len(latin_full) // 10]\n",
    "print(len(latin_full))\n",
    "print(len(latin_part))"
   ]
  },
  {
   "cell_type": "code",
   "execution_count": 23,
   "id": "1db987be-ca50-4882-a114-27d13e7d1863",
   "metadata": {
    "tags": []
   },
   "outputs": [],
   "source": [
    "from cltk.core.data_types import Process, Pipeline\n",
    "from cltk.tokenizers import LatinTokenizationProcess\n",
    "from cltk.lemmatize import LatinLemmatizationProcess\n",
    "from cltk.languages.utils import get_lang"
   ]
  },
  {
   "cell_type": "code",
   "execution_count": 130,
   "id": "ead2e98b-ee7d-485c-a790-32697f2e641e",
   "metadata": {
    "tags": []
   },
   "outputs": [],
   "source": [
    "pipe = Pipeline(description=\"A custom Latin pipeline\",     processes=[LatinTokenizationProcess, LatinLemmatizationProcess],     language=get_lang(\"lat\"))"
   ]
  },
  {
   "cell_type": "code",
   "execution_count": 131,
   "id": "89db0bd9-bf30-4116-baf5-eb29cca9a7c9",
   "metadata": {
    "tags": []
   },
   "outputs": [],
   "source": [
    "nlp = NLP(language='lat', custom_pipeline=pipe, suppress_banner=True)"
   ]
  },
  {
   "cell_type": "code",
   "execution_count": 132,
   "id": "fe160337-6424-4441-ac4a-79a6b02f7c7d",
   "metadata": {
    "tags": []
   },
   "outputs": [],
   "source": [
    "latin_corpus = \"texts/latintexts/latin_corpus.txt\""
   ]
  },
  {
   "cell_type": "code",
   "execution_count": 134,
   "id": "435bf03a-8dd7-42e6-bf01-1bb820a6317d",
   "metadata": {
    "tags": []
   },
   "outputs": [
    {
     "name": "stdout",
     "output_type": "stream",
     "text": [
      "[':', 'David', 'Paniagua', 'Codifica', 'XML', ':', 'David', 'Paniagua', '2011', 'digilibLT']\n"
     ]
    }
   ],
   "source": [
    "cltk_latin = nlp(text=latin_part).lemmata\n",
    "print(cltk_latin[30:40])"
   ]
  },
  {
   "cell_type": "code",
   "execution_count": null,
   "id": "23c08320-cdc3-4365-a0e8-32ee487e529e",
   "metadata": {
    "tags": []
   },
   "outputs": [],
   "source": [
    "with open(\"texts/latintexts/nlp_latin.txt\", \"w\", encoding='utf-8') as f:\n",
    "    f.write(str(cltk_latin))"
   ]
  },
  {
   "cell_type": "markdown",
   "id": "9db55d66-2893-4193-86a0-24cb7aa59d16",
   "metadata": {},
   "source": [
    "## CLTK Old English"
   ]
  },
  {
   "cell_type": "code",
   "execution_count": null,
   "id": "4ed882fa-e3f6-420a-aa9f-596973e89144",
   "metadata": {
    "tags": []
   },
   "outputs": [],
   "source": [
    "### NLP-ing our OE corpus"
   ]
  },
  {
   "cell_type": "code",
   "execution_count": 147,
   "id": "8a4ff403-c545-40e3-81c3-e6f34bf565ce",
   "metadata": {
    "tags": []
   },
   "outputs": [],
   "source": [
    "from cltk.data.fetch import FetchCorpus"
   ]
  },
  {
   "cell_type": "code",
   "execution_count": 148,
   "id": "6ccf1533-8509-411c-bc16-72ba6745696a",
   "metadata": {
    "tags": []
   },
   "outputs": [],
   "source": [
    "oe_corpus_downloader = FetchCorpus(language=\"ang\")"
   ]
  },
  {
   "cell_type": "code",
   "execution_count": 149,
   "id": "46ef1c47-9f02-4264-8d91-e265c49a091d",
   "metadata": {
    "tags": []
   },
   "outputs": [
    {
     "data": {
      "text/plain": [
       "['old_english_text_sacred_texts', 'ang_models_cltk']"
      ]
     },
     "execution_count": 149,
     "metadata": {},
     "output_type": "execute_result"
    }
   ],
   "source": [
    "oe_corpus_downloader.list_corpora"
   ]
  },
  {
   "cell_type": "code",
   "execution_count": 150,
   "id": "2477ac61-82d5-4644-9f91-15c8765ecf6d",
   "metadata": {
    "tags": []
   },
   "outputs": [],
   "source": [
    "oe_corpus_downloader.import_corpus('old_english_text_sacred_texts')"
   ]
  },
  {
   "cell_type": "code",
   "execution_count": 151,
   "id": "2265c5c7-8a09-4ff9-bb72-b256a4386b83",
   "metadata": {
    "tags": []
   },
   "outputs": [
    {
     "name": "stdout",
     "output_type": "stream",
     "text": [
      "‎𐤀 CLTK version '1.1.6'.\n",
      "Pipeline for language 'Old English (ca. 450-1100)' (ISO: 'ang'): `MultilingualTokenizationProcess`, `OldEnglishLemmatizationProcess`, `OldEnglishEmbeddingsProcess`, `StopsProcess`.\n"
     ]
    }
   ],
   "source": [
    "cltk_nlp_oe=NLP(\"ang\")"
   ]
  },
  {
   "cell_type": "code",
   "execution_count": 152,
   "id": "7de4f57d-3fe9-4580-86d5-9668d096d610",
   "metadata": {
    "tags": []
   },
   "outputs": [],
   "source": [
    "oe_corpus_downloader.import_corpus('old_english_text_sacred_texts', r'C:\\Users\\gpwal\\cltk_data\\ang\\html\\old_english_text_sacred_texts')"
   ]
  },
  {
   "cell_type": "code",
   "execution_count": null,
   "id": "b0a51515-6bfe-4d82-ba86-ad3df7517bae",
   "metadata": {
    "tags": []
   },
   "outputs": [],
   "source": [
    "#with open(r\"C:\\Users\\gpwal\\cltk_data\\ang\\model\\ang_models_cltk\\texts\\oe\\oe_all.txt\", encoding ='utf-8') as f:\n",
    " #   cltk_nlp_oe.analyze(text=f)"
   ]
  },
  {
   "cell_type": "code",
   "execution_count": null,
   "id": "5d2dc555-c6d4-47cf-abab-1e2456ca4292",
   "metadata": {
    "tags": []
   },
   "outputs": [],
   "source": [
    "#with open(f\"{directory_path}/oe_texts/cltk_oe_texts.txt\", 'w', encoding='utf-8') as f:\n",
    " #   f.write(str(cltk_doc_oe))"
   ]
  },
  {
   "cell_type": "markdown",
   "id": "d9cb7e46-5382-48aa-bde7-a9ccc03a1247",
   "metadata": {},
   "source": [
    "## CLTK Sanskrit"
   ]
  },
  {
   "cell_type": "code",
   "execution_count": 135,
   "id": "82561db3-65be-4936-8648-7e916ef95b07",
   "metadata": {
    "tags": []
   },
   "outputs": [],
   "source": [
    "ss_corpus_downloader =  FetchCorpus(language=\"san\")"
   ]
  },
  {
   "cell_type": "code",
   "execution_count": 136,
   "id": "d96635f5-d968-4d27-acaa-6e9217f2bad0",
   "metadata": {
    "tags": []
   },
   "outputs": [
    {
     "data": {
      "text/plain": [
       "['sanskrit_text_jnu',\n",
       " 'sanskrit_text_dcs',\n",
       " 'sanskrit_parallel_sacred_texts',\n",
       " 'sanskrit_text_sacred_texts',\n",
       " 'sanskrit_parallel_gitasupersite',\n",
       " 'sanskrit_text_gitasupersite',\n",
       " 'sanskrit_text_wikipedia',\n",
       " 'sanskrit_text_sanskrit_documents',\n",
       " 'san_models_cltk']"
      ]
     },
     "execution_count": 136,
     "metadata": {},
     "output_type": "execute_result"
    }
   ],
   "source": [
    "ss_corpus_downloader.list_corpora"
   ]
  },
  {
   "cell_type": "code",
   "execution_count": 137,
   "id": "4ff2701e-b2c0-46bc-8838-fe1f1e7f011e",
   "metadata": {
    "tags": []
   },
   "outputs": [],
   "source": [
    "ss_corpus_downloader.import_corpus('sanskrit_text_sacred_texts')"
   ]
  },
  {
   "cell_type": "code",
   "execution_count": 273,
   "id": "4ef16074-3209-4be8-8371-964a3eb2c09f",
   "metadata": {
    "collapsed": true,
    "jupyter": {
     "outputs_hidden": true
    },
    "tags": []
   },
   "outputs": [
    {
     "ename": "GitCommandError",
     "evalue": "Cmd('git') failed due to: exit code(128)\n  cmdline: git clone -v --branch=master --depth=1 --progress -- https://github.com/cltk/sanskrit_text_dcs.git C:\\Users\\gpwal\\cltk_data\\san\\text\\sanskrit_text_dcs",
     "output_type": "error",
     "traceback": [
      "\u001b[1;31m---------------------------------------------------------------------------\u001b[0m",
      "\u001b[1;31mGitCommandError\u001b[0m                           Traceback (most recent call last)",
      "Cell \u001b[1;32mIn[273], line 1\u001b[0m\n\u001b[1;32m----> 1\u001b[0m \u001b[43mss_corpus_downloader\u001b[49m\u001b[38;5;241;43m.\u001b[39;49m\u001b[43mimport_corpus\u001b[49m\u001b[43m(\u001b[49m\u001b[38;5;124;43m'\u001b[39;49m\u001b[38;5;124;43msanskrit_text_dcs\u001b[39;49m\u001b[38;5;124;43m'\u001b[39;49m\u001b[43m)\u001b[49m\n",
      "File \u001b[1;32m~\\AppData\\Roaming\\jupyterlab-desktop\\jlab_server\\lib\\site-packages\\cltk\\data\\fetch.py:767\u001b[0m, in \u001b[0;36mFetchCorpus.import_corpus\u001b[1;34m(self, corpus_name, local_path, branch)\u001b[0m\n\u001b[0;32m    765\u001b[0m     msg \u001b[38;5;241m=\u001b[39m \u001b[38;5;124m\"\u001b[39m\u001b[38;5;124mCloning \u001b[39m\u001b[38;5;124m'\u001b[39m\u001b[38;5;132;01m{}\u001b[39;00m\u001b[38;5;124m'\u001b[39m\u001b[38;5;124m from \u001b[39m\u001b[38;5;124m'\u001b[39m\u001b[38;5;132;01m{}\u001b[39;00m\u001b[38;5;124m'\u001b[39m\u001b[38;5;124m\"\u001b[39m\u001b[38;5;241m.\u001b[39mformat(corpus_name, git_uri)\n\u001b[0;32m    766\u001b[0m     logger\u001b[38;5;241m.\u001b[39minfo(msg)\n\u001b[1;32m--> 767\u001b[0m     \u001b[43mRepo\u001b[49m\u001b[38;5;241;43m.\u001b[39;49m\u001b[43mclone_from\u001b[49m\u001b[43m(\u001b[49m\n\u001b[0;32m    768\u001b[0m \u001b[43m        \u001b[49m\u001b[43mgit_uri\u001b[49m\u001b[43m,\u001b[49m\n\u001b[0;32m    769\u001b[0m \u001b[43m        \u001b[49m\u001b[43mtarget_dir\u001b[49m\u001b[43m,\u001b[49m\n\u001b[0;32m    770\u001b[0m \u001b[43m        \u001b[49m\u001b[43mbranch\u001b[49m\u001b[38;5;241;43m=\u001b[39;49m\u001b[43mbranch\u001b[49m\u001b[43m,\u001b[49m\n\u001b[0;32m    771\u001b[0m \u001b[43m        \u001b[49m\u001b[43mdepth\u001b[49m\u001b[38;5;241;43m=\u001b[39;49m\u001b[38;5;241;43m1\u001b[39;49m\u001b[43m,\u001b[49m\n\u001b[0;32m    772\u001b[0m \u001b[43m        \u001b[49m\u001b[43mprogress\u001b[49m\u001b[38;5;241;43m=\u001b[39;49m\u001b[43mProgressPrinter\u001b[49m\u001b[43m(\u001b[49m\u001b[43m)\u001b[49m\u001b[43m,\u001b[49m\n\u001b[0;32m    773\u001b[0m \u001b[43m    \u001b[49m\u001b[43m)\u001b[49m\n\u001b[0;32m    774\u001b[0m \u001b[38;5;28;01mexcept\u001b[39;00m CorpusImportError \u001b[38;5;28;01mas\u001b[39;00m corpus_imp_err:\n\u001b[0;32m    775\u001b[0m     msg \u001b[38;5;241m=\u001b[39m \u001b[38;5;124m\"\u001b[39m\u001b[38;5;124mGit clone of \u001b[39m\u001b[38;5;124m'\u001b[39m\u001b[38;5;132;01m{}\u001b[39;00m\u001b[38;5;124m'\u001b[39m\u001b[38;5;124m failed: \u001b[39m\u001b[38;5;124m'\u001b[39m\u001b[38;5;132;01m{}\u001b[39;00m\u001b[38;5;124m'\u001b[39m\u001b[38;5;124m\"\u001b[39m\u001b[38;5;241m.\u001b[39mformat(\n\u001b[0;32m    776\u001b[0m         git_uri, corpus_imp_err\n\u001b[0;32m    777\u001b[0m     )\n",
      "File \u001b[1;32m~\\AppData\\Roaming\\jupyterlab-desktop\\jlab_server\\lib\\site-packages\\git\\repo\\base.py:1325\u001b[0m, in \u001b[0;36mRepo.clone_from\u001b[1;34m(cls, url, to_path, progress, env, multi_options, allow_unsafe_protocols, allow_unsafe_options, **kwargs)\u001b[0m\n\u001b[0;32m   1323\u001b[0m \u001b[38;5;28;01mif\u001b[39;00m env \u001b[38;5;129;01mis\u001b[39;00m \u001b[38;5;129;01mnot\u001b[39;00m \u001b[38;5;28;01mNone\u001b[39;00m:\n\u001b[0;32m   1324\u001b[0m     git\u001b[38;5;241m.\u001b[39mupdate_environment(\u001b[38;5;241m*\u001b[39m\u001b[38;5;241m*\u001b[39menv)\n\u001b[1;32m-> 1325\u001b[0m \u001b[38;5;28;01mreturn\u001b[39;00m \u001b[38;5;28;43mcls\u001b[39;49m\u001b[38;5;241;43m.\u001b[39;49m\u001b[43m_clone\u001b[49m\u001b[43m(\u001b[49m\n\u001b[0;32m   1326\u001b[0m \u001b[43m    \u001b[49m\u001b[43mgit\u001b[49m\u001b[43m,\u001b[49m\n\u001b[0;32m   1327\u001b[0m \u001b[43m    \u001b[49m\u001b[43murl\u001b[49m\u001b[43m,\u001b[49m\n\u001b[0;32m   1328\u001b[0m \u001b[43m    \u001b[49m\u001b[43mto_path\u001b[49m\u001b[43m,\u001b[49m\n\u001b[0;32m   1329\u001b[0m \u001b[43m    \u001b[49m\u001b[43mGitCmdObjectDB\u001b[49m\u001b[43m,\u001b[49m\n\u001b[0;32m   1330\u001b[0m \u001b[43m    \u001b[49m\u001b[43mprogress\u001b[49m\u001b[43m,\u001b[49m\n\u001b[0;32m   1331\u001b[0m \u001b[43m    \u001b[49m\u001b[43mmulti_options\u001b[49m\u001b[43m,\u001b[49m\n\u001b[0;32m   1332\u001b[0m \u001b[43m    \u001b[49m\u001b[43mallow_unsafe_protocols\u001b[49m\u001b[38;5;241;43m=\u001b[39;49m\u001b[43mallow_unsafe_protocols\u001b[49m\u001b[43m,\u001b[49m\n\u001b[0;32m   1333\u001b[0m \u001b[43m    \u001b[49m\u001b[43mallow_unsafe_options\u001b[49m\u001b[38;5;241;43m=\u001b[39;49m\u001b[43mallow_unsafe_options\u001b[49m\u001b[43m,\u001b[49m\n\u001b[0;32m   1334\u001b[0m \u001b[43m    \u001b[49m\u001b[38;5;241;43m*\u001b[39;49m\u001b[38;5;241;43m*\u001b[39;49m\u001b[43mkwargs\u001b[49m\u001b[43m,\u001b[49m\n\u001b[0;32m   1335\u001b[0m \u001b[43m\u001b[49m\u001b[43m)\u001b[49m\n",
      "File \u001b[1;32m~\\AppData\\Roaming\\jupyterlab-desktop\\jlab_server\\lib\\site-packages\\git\\repo\\base.py:1221\u001b[0m, in \u001b[0;36mRepo._clone\u001b[1;34m(cls, git, url, path, odb_default_type, progress, multi_options, allow_unsafe_protocols, allow_unsafe_options, **kwargs)\u001b[0m\n\u001b[0;32m   1209\u001b[0m proc \u001b[38;5;241m=\u001b[39m git\u001b[38;5;241m.\u001b[39mclone(\n\u001b[0;32m   1210\u001b[0m     multi,\n\u001b[0;32m   1211\u001b[0m     \u001b[38;5;124m\"\u001b[39m\u001b[38;5;124m--\u001b[39m\u001b[38;5;124m\"\u001b[39m,\n\u001b[1;32m   (...)\u001b[0m\n\u001b[0;32m   1218\u001b[0m     \u001b[38;5;241m*\u001b[39m\u001b[38;5;241m*\u001b[39madd_progress(kwargs, git, progress),\n\u001b[0;32m   1219\u001b[0m )\n\u001b[0;32m   1220\u001b[0m \u001b[38;5;28;01mif\u001b[39;00m progress:\n\u001b[1;32m-> 1221\u001b[0m     \u001b[43mhandle_process_output\u001b[49m\u001b[43m(\u001b[49m\n\u001b[0;32m   1222\u001b[0m \u001b[43m        \u001b[49m\u001b[43mproc\u001b[49m\u001b[43m,\u001b[49m\n\u001b[0;32m   1223\u001b[0m \u001b[43m        \u001b[49m\u001b[38;5;28;43;01mNone\u001b[39;49;00m\u001b[43m,\u001b[49m\n\u001b[0;32m   1224\u001b[0m \u001b[43m        \u001b[49m\u001b[43mto_progress_instance\u001b[49m\u001b[43m(\u001b[49m\u001b[43mprogress\u001b[49m\u001b[43m)\u001b[49m\u001b[38;5;241;43m.\u001b[39;49m\u001b[43mnew_message_handler\u001b[49m\u001b[43m(\u001b[49m\u001b[43m)\u001b[49m\u001b[43m,\u001b[49m\n\u001b[0;32m   1225\u001b[0m \u001b[43m        \u001b[49m\u001b[43mfinalize_process\u001b[49m\u001b[43m,\u001b[49m\n\u001b[0;32m   1226\u001b[0m \u001b[43m        \u001b[49m\u001b[43mdecode_streams\u001b[49m\u001b[38;5;241;43m=\u001b[39;49m\u001b[38;5;28;43;01mFalse\u001b[39;49;00m\u001b[43m,\u001b[49m\n\u001b[0;32m   1227\u001b[0m \u001b[43m    \u001b[49m\u001b[43m)\u001b[49m\n\u001b[0;32m   1228\u001b[0m \u001b[38;5;28;01melse\u001b[39;00m:\n\u001b[0;32m   1229\u001b[0m     (stdout, stderr) \u001b[38;5;241m=\u001b[39m proc\u001b[38;5;241m.\u001b[39mcommunicate()\n",
      "File \u001b[1;32m~\\AppData\\Roaming\\jupyterlab-desktop\\jlab_server\\lib\\site-packages\\git\\cmd.py:204\u001b[0m, in \u001b[0;36mhandle_process_output\u001b[1;34m(process, stdout_handler, stderr_handler, finalizer, decode_streams, kill_after_timeout)\u001b[0m\n\u001b[0;32m    201\u001b[0m             stderr_handler(error_str)  \u001b[38;5;66;03m# type: ignore\u001b[39;00m\n\u001b[0;32m    203\u001b[0m \u001b[38;5;28;01mif\u001b[39;00m finalizer:\n\u001b[1;32m--> 204\u001b[0m     \u001b[38;5;28;01mreturn\u001b[39;00m \u001b[43mfinalizer\u001b[49m\u001b[43m(\u001b[49m\u001b[43mprocess\u001b[49m\u001b[43m)\u001b[49m\n\u001b[0;32m    205\u001b[0m \u001b[38;5;28;01melse\u001b[39;00m:\n\u001b[0;32m    206\u001b[0m     \u001b[38;5;28;01mreturn\u001b[39;00m \u001b[38;5;28;01mNone\u001b[39;00m\n",
      "File \u001b[1;32m~\\AppData\\Roaming\\jupyterlab-desktop\\jlab_server\\lib\\site-packages\\git\\util.py:419\u001b[0m, in \u001b[0;36mfinalize_process\u001b[1;34m(proc, **kwargs)\u001b[0m\n\u001b[0;32m    417\u001b[0m \u001b[38;5;250m\u001b[39m\u001b[38;5;124;03m\"\"\"Wait for the process (clone, fetch, pull or push) and handle its errors accordingly\"\"\"\u001b[39;00m\n\u001b[0;32m    418\u001b[0m \u001b[38;5;66;03m# TODO: No close proc-streams??\u001b[39;00m\n\u001b[1;32m--> 419\u001b[0m \u001b[43mproc\u001b[49m\u001b[38;5;241;43m.\u001b[39;49m\u001b[43mwait\u001b[49m\u001b[43m(\u001b[49m\u001b[38;5;241;43m*\u001b[39;49m\u001b[38;5;241;43m*\u001b[39;49m\u001b[43mkwargs\u001b[49m\u001b[43m)\u001b[49m\n",
      "File \u001b[1;32m~\\AppData\\Roaming\\jupyterlab-desktop\\jlab_server\\lib\\site-packages\\git\\cmd.py:604\u001b[0m, in \u001b[0;36mGit.AutoInterrupt.wait\u001b[1;34m(self, stderr)\u001b[0m\n\u001b[0;32m    602\u001b[0m     errstr \u001b[38;5;241m=\u001b[39m read_all_from_possibly_closed_stream(p_stderr)\n\u001b[0;32m    603\u001b[0m     log\u001b[38;5;241m.\u001b[39mdebug(\u001b[38;5;124m\"\u001b[39m\u001b[38;5;124mAutoInterrupt wait stderr: \u001b[39m\u001b[38;5;132;01m%r\u001b[39;00m\u001b[38;5;124m\"\u001b[39m \u001b[38;5;241m%\u001b[39m (errstr,))\n\u001b[1;32m--> 604\u001b[0m     \u001b[38;5;28;01mraise\u001b[39;00m GitCommandError(remove_password_if_present(\u001b[38;5;28mself\u001b[39m\u001b[38;5;241m.\u001b[39margs), status, errstr)\n\u001b[0;32m    605\u001b[0m \u001b[38;5;28;01mreturn\u001b[39;00m status\n",
      "\u001b[1;31mGitCommandError\u001b[0m: Cmd('git') failed due to: exit code(128)\n  cmdline: git clone -v --branch=master --depth=1 --progress -- https://github.com/cltk/sanskrit_text_dcs.git C:\\Users\\gpwal\\cltk_data\\san\\text\\sanskrit_text_dcs"
     ]
    }
   ],
   "source": [
    "ss_corpus_downloader.import_corpus('sanskrit_text_dcs')"
   ]
  },
  {
   "cell_type": "code",
   "execution_count": 138,
   "id": "80710f4b-3d81-42c8-a571-92abdc77668e",
   "metadata": {
    "tags": []
   },
   "outputs": [
    {
     "name": "stdout",
     "output_type": "stream",
     "text": [
      "‎𐤀 CLTK version '1.1.6'.\n",
      "Pipeline for language 'Sanskrit' (ISO: 'san'): `MultilingualTokenizationProcess`, `SanskritEmbeddingsProcess`, `StopsProcess`.\n"
     ]
    }
   ],
   "source": [
    "cltk_nlp_ss=NLP(\"san\")"
   ]
  },
  {
   "cell_type": "code",
   "execution_count": 139,
   "id": "3e5301c1-ed69-419e-8961-3d7d65161229",
   "metadata": {
    "tags": []
   },
   "outputs": [],
   "source": [
    "with open(r\"C:\\Users\\gpwal\\cltk_data\\san\\text\\sanskrit_text_sacred_texts\\latin\\sanskritcorpus.txt\", 'r', encoding='utf-8') as f:\n",
    "    sanskrit_full = f.read()"
   ]
  },
  {
   "cell_type": "code",
   "execution_count": 140,
   "id": "37cb91bb-90e6-4e8b-9e78-716aa27471f4",
   "metadata": {
    "tags": []
   },
   "outputs": [
    {
     "name": "stdout",
     "output_type": "stream",
     "text": [
      "9036432\n",
      "903643\n"
     ]
    }
   ],
   "source": [
    "sanskrit_part = sanskrit_full[:len(sanskrit_full) // 10]\n",
    "print(len(sanskrit_full))\n",
    "print(len(sanskrit_part))"
   ]
  },
  {
   "cell_type": "code",
   "execution_count": 141,
   "id": "79f4f74a-34a5-4128-a45c-c4a0d3a7c82e",
   "metadata": {
    "tags": []
   },
   "outputs": [],
   "source": [
    "from cltk.languages.pipelines import SanskritPipeline"
   ]
  },
  {
   "cell_type": "code",
   "execution_count": 142,
   "id": "6d8115d7-0d86-460e-a795-31cf394266b2",
   "metadata": {
    "tags": []
   },
   "outputs": [],
   "source": [
    "ss_pipe = SanskritPipeline()"
   ]
  },
  {
   "cell_type": "code",
   "execution_count": 143,
   "id": "9e672aab-0797-4078-852d-89a9de02527c",
   "metadata": {
    "tags": []
   },
   "outputs": [],
   "source": [
    "ss_nlp = NLP(language='san', custom_pipeline=ss_pipe, suppress_banner=True)"
   ]
  },
  {
   "cell_type": "code",
   "execution_count": 144,
   "id": "91a39eb1-9260-4473-b985-f721aa8a7bfa",
   "metadata": {
    "tags": []
   },
   "outputs": [],
   "source": [
    "ss_corpus = r\"C:\\Users\\gpwal\\cltk_data\\san\\text\\sanskrit_text_sacred_texts\\latin\\sanskritcorpus.txt\""
   ]
  },
  {
   "cell_type": "code",
   "execution_count": 158,
   "id": "6223e243-2b61-47f3-8166-80db04eeab35",
   "metadata": {
    "tags": []
   },
   "outputs": [],
   "source": [
    "cltk_ss = ss_nlp(text=sanskrit_part)"
   ]
  },
  {
   "cell_type": "code",
   "execution_count": 159,
   "id": "493ef8c7-567a-469b-8fe5-2d68ed5a1b90",
   "metadata": {
    "tags": []
   },
   "outputs": [],
   "source": [
    "# this didn't seem to give what we wanted\n",
    "with open(f\"{directory_path}/ss_texts/nlp_ss.txt\", \"w\", encoding='utf-8') as f:\n",
    "    f.write(str(cltk_ss))"
   ]
  },
  {
   "cell_type": "markdown",
   "id": "b4d75c4e-33ca-48ce-bd22-787c376070d6",
   "metadata": {},
   "source": [
    "## Gettin Language Internal Cosine Similarities"
   ]
  },
  {
   "cell_type": "code",
   "execution_count": 29,
   "id": "03e9f8ab-e8da-4877-836c-19a7859eaf04",
   "metadata": {
    "tags": []
   },
   "outputs": [],
   "source": [
    "en_swadesh = ['i','you','we','this','that','who','what','not','all','many','one','two','big','long','small','woman','man','person','fish','bird','dog','louse','tree','seed','leaf','root','bark','skin','flesh','blood','bone','grease','egg','horn','tail','feather','hair','head','ear','eye','nose','mouth','tooth','tongue','claw','foot','knee','hand','belly','neck','breasts','heart','liver','drink','eat','bite','see','hear','know','sleep','die','kill','swim','fly','walk','come','lie','sit','stand','give','say','sun','moon','star','water','rain','stone','sand','earth','cloud','smoke','fire','ashes','burn','path','mountain','red','green','yellow','white','black','night','hot','cold','full','new','good','round','dry','name']"
   ]
  },
  {
   "cell_type": "code",
   "execution_count": 30,
   "id": "c1a2923d-6ea3-448e-8e06-d611dc2e04c1",
   "metadata": {
    "tags": []
   },
   "outputs": [],
   "source": [
    "lasimilarities = {}"
   ]
  },
  {
   "cell_type": "code",
   "execution_count": 32,
   "id": "b692d35e-a336-4f6d-b3c7-82702ff94fb4",
   "metadata": {
    "tags": []
   },
   "outputs": [],
   "source": [
    "for word1 in latin_swadesh:\n",
    "    for word2 in latin_swadesh:\n",
    "        if word1 != word2:\n",
    "            similarity = la_model.wv.similarity(word1, word2)\n",
    "            lasimilarities[(word1, word2)] = similarity"
   ]
  },
  {
   "cell_type": "code",
   "execution_count": 36,
   "id": "a54c8b27-6f0a-4046-a404-4883bca8d1fd",
   "metadata": {
    "tags": []
   },
   "outputs": [],
   "source": [
    "lacodf = pd.DataFrame.from_dict(lasimilarities, orient='index', columns=['Cosine Similarity'])\n",
    "lacodf = lacodf.reset_index()\n",
    "lacodf.to_csv('data/latin/la_cosines.csv', index=False)"
   ]
  },
  {
   "cell_type": "code",
   "execution_count": 37,
   "id": "4764b8a0-15f8-4125-93be-5695ad8061ea",
   "metadata": {
    "tags": []
   },
   "outputs": [],
   "source": [
    "ensimilarities = {}\n",
    "for word1 in en_swadesh:\n",
    "    for word2 in en_swadesh:\n",
    "        if word1 != word2:\n",
    "            similarity = wv.similarity(word1, word2)\n",
    "            ensimilarities[(word1, word2)] = similarity\n",
    "encodf = pd.DataFrame.from_dict(ensimilarities, orient='index', columns=['Cosine Similarity'])\n",
    "encodf = encodf.reset_index()\n",
    "encodf.to_csv('data/english/english_cosines.csv', index=False)"
   ]
  },
  {
   "cell_type": "code",
   "execution_count": 40,
   "id": "0827fc0d-1a64-4000-ac10-6ea45c960b7c",
   "metadata": {
    "tags": []
   },
   "outputs": [],
   "source": [
    "oe_swadesh = ['ic', 'ðu', 'us', 'he', 'ðæt', 'hwa','hwa','ne','eall','manig','an','twegen', 'micel', 'lang', 'min', 'cwen', 'mann', 'mann', 'fisc','fugol', 'hund', 'treow','sæd','blæd','rot','hyd','flæsc','blod','ban', 'gelynd','æg', 'horn','steort', 'hær', 'heafod', 'eare', 'eage', 'muþ', 'tunge', 'clea', 'fot', 'cneow', 'mund','cwiþ', 'sweora','bosm', 'heorte', 'drincan', 'etan', 'bitan', 'seon', 'gehiran', 'cunnan', 'swefan', 'dead','cwellan','fleogan', 'findan', 'cuman', 'licgan', 'sittan', 'standan','gesellan', 'sæcgan', 'sunne', 'mona', 'steorra', 'ea', 'regn', 'stan','sand', 'eorþe', 'neowol', 'þrosm','fyr', 'axe', 'bærnan', 'foldweg', 'beorg', 'read', 'grene', 'geolo', 'hwit','blæc', 'niht', 'wearm', 'ceald', 'full', 'niwe', 'betra', 'dryge', 'nama']"
   ]
  },
  {
   "cell_type": "code",
   "execution_count": 41,
   "id": "0d89d71c-ce16-447a-ac5d-2d9bc9480ab2",
   "metadata": {
    "tags": []
   },
   "outputs": [],
   "source": [
    "oesimilarities = {}\n",
    "for word1 in oe_swadesh:\n",
    "    for word2 in oe_swadesh:\n",
    "        if word1 != word2:\n",
    "            similarity = oe_model.wv.similarity(word1, word2)\n",
    "            oesimilarities[(word1, word2)] = similarity\n",
    "oecodf = pd.DataFrame.from_dict(oesimilarities, orient='index', columns=['Cosine Similarity'])\n",
    "oecodf = oecodf.reset_index()\n",
    "oecodf.to_csv('data/old_english/oe_cosines.csv', index=False)"
   ]
  },
  {
   "cell_type": "markdown",
   "id": "2010ccab-bf1f-414d-a91a-6195f9b8dd5c",
   "metadata": {},
   "source": [
    "## Using the Gospel Matthew to Compare Languages"
   ]
  },
  {
   "cell_type": "code",
   "execution_count": 20,
   "id": "816fc6d6-1777-4191-94fb-b9bc5ea6fa95",
   "metadata": {
    "tags": []
   },
   "outputs": [],
   "source": [
    "from cltk.stem.latin.j_v import JVReplacer"
   ]
  },
  {
   "cell_type": "code",
   "execution_count": 21,
   "id": "7131085c-e4bc-4284-be76-0b5e9b441278",
   "metadata": {
    "tags": []
   },
   "outputs": [],
   "source": [
    "from cltk.lemmatize.latin.backoff import BackoffLatinLemmatizer"
   ]
  },
  {
   "cell_type": "code",
   "execution_count": 22,
   "id": "afcdd9a5-f700-425f-9d7e-b0f5c5ea0166",
   "metadata": {
    "collapsed": true,
    "jupyter": {
     "outputs_hidden": true
    },
    "tags": []
   },
   "outputs": [
    {
     "ename": "AttributeError",
     "evalue": "'property' object has no attribute 'replace'",
     "output_type": "error",
     "traceback": [
      "\u001b[1;31m---------------------------------------------------------------------------\u001b[0m",
      "\u001b[1;31mAttributeError\u001b[0m                            Traceback (most recent call last)",
      "Cell \u001b[1;32mIn[22], line 1\u001b[0m\n\u001b[1;32m----> 1\u001b[0m \u001b[38;5;28;01mfrom\u001b[39;00m \u001b[38;5;21;01mcltk\u001b[39;00m\u001b[38;5;21;01m.\u001b[39;00m\u001b[38;5;21;01mcorpus\u001b[39;00m\u001b[38;5;21;01m.\u001b[39;00m\u001b[38;5;21;01mutils\u001b[39;00m\u001b[38;5;21;01m.\u001b[39;00m\u001b[38;5;21;01mformatter\u001b[39;00m \u001b[38;5;28;01mimport\u001b[39;00m cltk_normalize\n",
      "File \u001b[1;32m~\\AppData\\Roaming\\jupyterlab-desktop\\jlab_server\\lib\\site-packages\\cltk\\corpus\\utils\\formatter.py:17\u001b[0m\n\u001b[0;32m     15\u001b[0m \u001b[38;5;28;01mfrom\u001b[39;00m \u001b[38;5;21;01mcltk\u001b[39;00m\u001b[38;5;21;01m.\u001b[39;00m\u001b[38;5;21;01mutils\u001b[39;00m\u001b[38;5;21;01m.\u001b[39;00m\u001b[38;5;21;01mcltk_logger\u001b[39;00m \u001b[38;5;28;01mimport\u001b[39;00m logger\n\u001b[0;32m     16\u001b[0m \u001b[38;5;28;01mfrom\u001b[39;00m \u001b[38;5;21;01municodedata\u001b[39;00m \u001b[38;5;28;01mimport\u001b[39;00m normalize\n\u001b[1;32m---> 17\u001b[0m \u001b[38;5;28;01mfrom\u001b[39;00m \u001b[38;5;21;01mcltk\u001b[39;00m\u001b[38;5;21;01m.\u001b[39;00m\u001b[38;5;21;01mtokenize\u001b[39;00m\u001b[38;5;21;01m.\u001b[39;00m\u001b[38;5;21;01mword\u001b[39;00m \u001b[38;5;28;01mimport\u001b[39;00m WordTokenizer\n\u001b[0;32m     18\u001b[0m \u001b[38;5;28;01mimport\u001b[39;00m \u001b[38;5;21;01mre\u001b[39;00m\n\u001b[0;32m     19\u001b[0m \u001b[38;5;28;01mimport\u001b[39;00m \u001b[38;5;21;01mos\u001b[39;00m\n",
      "File \u001b[1;32m~\\AppData\\Roaming\\jupyterlab-desktop\\jlab_server\\lib\\site-packages\\cltk\\tokenize\\word.py:25\u001b[0m\n\u001b[0;32m     23\u001b[0m \u001b[38;5;28;01mfrom\u001b[39;00m \u001b[38;5;21;01mcltk\u001b[39;00m\u001b[38;5;21;01m.\u001b[39;00m\u001b[38;5;21;01mtokenize\u001b[39;00m\u001b[38;5;21;01m.\u001b[39;00m\u001b[38;5;21;01makkadian\u001b[39;00m\u001b[38;5;21;01m.\u001b[39;00m\u001b[38;5;21;01mword\u001b[39;00m \u001b[38;5;28;01mimport\u001b[39;00m tokenize_akkadian_words, tokenize_akkadian_signs\n\u001b[0;32m     24\u001b[0m \u001b[38;5;28;01mfrom\u001b[39;00m \u001b[38;5;21;01mcltk\u001b[39;00m\u001b[38;5;21;01m.\u001b[39;00m\u001b[38;5;21;01mcorpus\u001b[39;00m\u001b[38;5;21;01m.\u001b[39;00m\u001b[38;5;21;01marabic\u001b[39;00m\u001b[38;5;21;01m.\u001b[39;00m\u001b[38;5;21;01mutils\u001b[39;00m\u001b[38;5;21;01m.\u001b[39;00m\u001b[38;5;21;01mpyarabic\u001b[39;00m \u001b[38;5;28;01mimport\u001b[39;00m araby\n\u001b[1;32m---> 25\u001b[0m \u001b[38;5;28;01mfrom\u001b[39;00m \u001b[38;5;21;01mcltk\u001b[39;00m\u001b[38;5;21;01m.\u001b[39;00m\u001b[38;5;21;01mtokenize\u001b[39;00m\u001b[38;5;21;01m.\u001b[39;00m\u001b[38;5;21;01mgreek\u001b[39;00m\u001b[38;5;21;01m.\u001b[39;00m\u001b[38;5;21;01msentence\u001b[39;00m \u001b[38;5;28;01mimport\u001b[39;00m GreekRegexSentenceTokenizer\n\u001b[0;32m     26\u001b[0m \u001b[38;5;28;01mfrom\u001b[39;00m \u001b[38;5;21;01mcltk\u001b[39;00m\u001b[38;5;21;01m.\u001b[39;00m\u001b[38;5;21;01mtokenize\u001b[39;00m\u001b[38;5;21;01m.\u001b[39;00m\u001b[38;5;21;01mlatin\u001b[39;00m\u001b[38;5;21;01m.\u001b[39;00m\u001b[38;5;21;01mword\u001b[39;00m \u001b[38;5;28;01mimport\u001b[39;00m WordTokenizer \u001b[38;5;28;01mas\u001b[39;00m LatinWordTokenizer\n\u001b[0;32m     27\u001b[0m \u001b[38;5;28;01mfrom\u001b[39;00m \u001b[38;5;21;01mcltk\u001b[39;00m\u001b[38;5;21;01m.\u001b[39;00m\u001b[38;5;21;01mtokenize\u001b[39;00m\u001b[38;5;21;01m.\u001b[39;00m\u001b[38;5;21;01mmiddle_english\u001b[39;00m\u001b[38;5;21;01m.\u001b[39;00m\u001b[38;5;21;01mparams\u001b[39;00m \u001b[38;5;28;01mimport\u001b[39;00m MiddleEnglishTokenizerPatterns\n",
      "File \u001b[1;32m~\\AppData\\Roaming\\jupyterlab-desktop\\jlab_server\\lib\\site-packages\\cltk\\tokenize\\greek\\sentence.py:10\u001b[0m\n\u001b[0;32m      7\u001b[0m \u001b[38;5;28;01mimport\u001b[39;00m \u001b[38;5;21;01mos\u001b[39;00m\u001b[38;5;21;01m.\u001b[39;00m\u001b[38;5;21;01mpath\u001b[39;00m\n\u001b[0;32m      8\u001b[0m \u001b[38;5;28;01mimport\u001b[39;00m \u001b[38;5;21;01mre\u001b[39;00m\n\u001b[1;32m---> 10\u001b[0m \u001b[38;5;28;01mfrom\u001b[39;00m \u001b[38;5;21;01mcltk\u001b[39;00m\u001b[38;5;21;01m.\u001b[39;00m\u001b[38;5;21;01mtokenize\u001b[39;00m\u001b[38;5;21;01m.\u001b[39;00m\u001b[38;5;21;01msentence\u001b[39;00m \u001b[38;5;28;01mimport\u001b[39;00m BaseSentenceTokenizer, BaseRegexSentenceTokenizer, BasePunktSentenceTokenizer\n\u001b[0;32m     11\u001b[0m \u001b[38;5;28;01mfrom\u001b[39;00m \u001b[38;5;21;01mcltk\u001b[39;00m\u001b[38;5;21;01m.\u001b[39;00m\u001b[38;5;21;01mtokenize\u001b[39;00m\u001b[38;5;21;01m.\u001b[39;00m\u001b[38;5;21;01mgreek\u001b[39;00m\u001b[38;5;21;01m.\u001b[39;00m\u001b[38;5;21;01mparams\u001b[39;00m \u001b[38;5;28;01mimport\u001b[39;00m GreekLanguageVars\n\u001b[0;32m     12\u001b[0m \u001b[38;5;28;01mfrom\u001b[39;00m \u001b[38;5;21;01mcltk\u001b[39;00m\u001b[38;5;21;01m.\u001b[39;00m\u001b[38;5;21;01mutils\u001b[39;00m\u001b[38;5;21;01m.\u001b[39;00m\u001b[38;5;21;01mfile_operations\u001b[39;00m \u001b[38;5;28;01mimport\u001b[39;00m open_pickle\n",
      "File \u001b[1;32m~\\AppData\\Roaming\\jupyterlab-desktop\\jlab_server\\lib\\site-packages\\cltk\\tokenize\\sentence.py:15\u001b[0m\n\u001b[0;32m     12\u001b[0m \u001b[38;5;28;01mfrom\u001b[39;00m \u001b[38;5;21;01mnltk\u001b[39;00m\u001b[38;5;21;01m.\u001b[39;00m\u001b[38;5;21;01mtokenize\u001b[39;00m\u001b[38;5;21;01m.\u001b[39;00m\u001b[38;5;21;01mpunkt\u001b[39;00m \u001b[38;5;28;01mimport\u001b[39;00m PunktLanguageVars\n\u001b[0;32m     13\u001b[0m \u001b[38;5;28;01mfrom\u001b[39;00m \u001b[38;5;21;01mnltk\u001b[39;00m\u001b[38;5;21;01m.\u001b[39;00m\u001b[38;5;21;01mtokenize\u001b[39;00m\u001b[38;5;21;01m.\u001b[39;00m\u001b[38;5;21;01mpunkt\u001b[39;00m \u001b[38;5;28;01mimport\u001b[39;00m PunktSentenceTokenizer\n\u001b[1;32m---> 15\u001b[0m \u001b[38;5;28;01mfrom\u001b[39;00m \u001b[38;5;21;01mcltk\u001b[39;00m\u001b[38;5;21;01m.\u001b[39;00m\u001b[38;5;21;01mtokenize\u001b[39;00m\u001b[38;5;21;01m.\u001b[39;00m\u001b[38;5;21;01mlatin\u001b[39;00m\u001b[38;5;21;01m.\u001b[39;00m\u001b[38;5;21;01mparams\u001b[39;00m \u001b[38;5;28;01mimport\u001b[39;00m LatinLanguageVars\n\u001b[0;32m     16\u001b[0m \u001b[38;5;28;01mfrom\u001b[39;00m \u001b[38;5;21;01mcltk\u001b[39;00m\u001b[38;5;21;01m.\u001b[39;00m\u001b[38;5;21;01mtokenize\u001b[39;00m\u001b[38;5;21;01m.\u001b[39;00m\u001b[38;5;21;01mgreek\u001b[39;00m\u001b[38;5;21;01m.\u001b[39;00m\u001b[38;5;21;01mparams\u001b[39;00m \u001b[38;5;28;01mimport\u001b[39;00m GreekLanguageVars\n\u001b[0;32m     17\u001b[0m \u001b[38;5;28;01mfrom\u001b[39;00m \u001b[38;5;21;01mcltk\u001b[39;00m\u001b[38;5;21;01m.\u001b[39;00m\u001b[38;5;21;01mtokenize\u001b[39;00m\u001b[38;5;21;01m.\u001b[39;00m\u001b[38;5;21;01msanskrit\u001b[39;00m\u001b[38;5;21;01m.\u001b[39;00m\u001b[38;5;21;01mparams\u001b[39;00m \u001b[38;5;28;01mimport\u001b[39;00m SanskritLanguageVars\n",
      "File \u001b[1;32m~\\AppData\\Roaming\\jupyterlab-desktop\\jlab_server\\lib\\site-packages\\cltk\\tokenize\\latin\\params.py:155\u001b[0m\n\u001b[0;32m    129\u001b[0m latin_exceptions \u001b[38;5;241m=\u001b[39m \u001b[38;5;28mlist\u001b[39m(\u001b[38;5;28mset\u001b[39m(que_exceptions\n\u001b[0;32m    130\u001b[0m                             \u001b[38;5;241m+\u001b[39m ne_exceptions\n\u001b[0;32m    131\u001b[0m                             \u001b[38;5;241m+\u001b[39m n_exceptions\n\u001b[1;32m   (...)\u001b[0m\n\u001b[0;32m    134\u001b[0m                             \u001b[38;5;241m+\u001b[39m st_exceptions\n\u001b[0;32m    135\u001b[0m                             ))\n\u001b[0;32m    137\u001b[0m latin_replacements \u001b[38;5;241m=\u001b[39m [\n\u001b[0;32m    138\u001b[0m     (\u001b[38;5;124mr\u001b[39m\u001b[38;5;124m'\u001b[39m\u001b[38;5;124m\\\u001b[39m\u001b[38;5;124mbmecum\u001b[39m\u001b[38;5;124m\\\u001b[39m\u001b[38;5;124mb\u001b[39m\u001b[38;5;124m'\u001b[39m, \u001b[38;5;124m'\u001b[39m\u001b[38;5;124mcum me\u001b[39m\u001b[38;5;124m'\u001b[39m),\n\u001b[0;32m    139\u001b[0m     (\u001b[38;5;124mr\u001b[39m\u001b[38;5;124m'\u001b[39m\u001b[38;5;124m\\\u001b[39m\u001b[38;5;124mbtecum\u001b[39m\u001b[38;5;124m\\\u001b[39m\u001b[38;5;124mb\u001b[39m\u001b[38;5;124m'\u001b[39m, \u001b[38;5;124m'\u001b[39m\u001b[38;5;124mcum te\u001b[39m\u001b[38;5;124m'\u001b[39m),\n\u001b[1;32m   (...)\u001b[0m\n\u001b[0;32m    152\u001b[0m     (\u001b[38;5;124mr\u001b[39m\u001b[38;5;124m'\u001b[39m\u001b[38;5;124m\\\u001b[39m\u001b[38;5;124mbqualist\u001b[39m\u001b[38;5;124m\\\u001b[39m\u001b[38;5;124mb\u001b[39m\u001b[38;5;124m'\u001b[39m, \u001b[38;5;124m'\u001b[39m\u001b[38;5;124mqualis est\u001b[39m\u001b[38;5;124m'\u001b[39m)\n\u001b[0;32m    153\u001b[0m ]\n\u001b[1;32m--> 155\u001b[0m \u001b[38;5;28;01mclass\u001b[39;00m \u001b[38;5;21;01mLatinLanguageVars\u001b[39;00m(PunktLanguageVars):\n\u001b[0;32m    156\u001b[0m     _re_non_word_chars \u001b[38;5;241m=\u001b[39m PunktLanguageVars\u001b[38;5;241m.\u001b[39m_re_non_word_chars\u001b[38;5;241m.\u001b[39mreplace(\u001b[38;5;124m\"\u001b[39m\u001b[38;5;124m'\u001b[39m\u001b[38;5;124m\"\u001b[39m,\u001b[38;5;124m'\u001b[39m\u001b[38;5;124m'\u001b[39m)\n",
      "File \u001b[1;32m~\\AppData\\Roaming\\jupyterlab-desktop\\jlab_server\\lib\\site-packages\\cltk\\tokenize\\latin\\params.py:156\u001b[0m, in \u001b[0;36mLatinLanguageVars\u001b[1;34m()\u001b[0m\n\u001b[0;32m    155\u001b[0m \u001b[38;5;28;01mclass\u001b[39;00m \u001b[38;5;21;01mLatinLanguageVars\u001b[39;00m(PunktLanguageVars):\n\u001b[1;32m--> 156\u001b[0m     _re_non_word_chars \u001b[38;5;241m=\u001b[39m \u001b[43mPunktLanguageVars\u001b[49m\u001b[38;5;241;43m.\u001b[39;49m\u001b[43m_re_non_word_chars\u001b[49m\u001b[38;5;241;43m.\u001b[39;49m\u001b[43mreplace\u001b[49m(\u001b[38;5;124m\"\u001b[39m\u001b[38;5;124m'\u001b[39m\u001b[38;5;124m\"\u001b[39m,\u001b[38;5;124m'\u001b[39m\u001b[38;5;124m'\u001b[39m)\n",
      "\u001b[1;31mAttributeError\u001b[0m: 'property' object has no attribute 'replace'"
     ]
    }
   ],
   "source": [
    "from cltk.corpus.utils.formatter import cltk_normalize"
   ]
  },
  {
   "cell_type": "code",
   "execution_count": 23,
   "id": "ec3cc3b5-5847-421b-8c3b-650218aed08b",
   "metadata": {
    "tags": []
   },
   "outputs": [],
   "source": [
    "from cltk.corpus.utils.importer import CorpusImporter\n",
    "my_latin_downloader = CorpusImporter('latin')\n",
    "my_latin_downloader.import_corpus('latin_models_cltk')"
   ]
  },
  {
   "cell_type": "markdown",
   "id": "a0e5e32d-6393-433e-ae30-9995a4b94a7a",
   "metadata": {},
   "source": [
    "### Latin"
   ]
  },
  {
   "cell_type": "code",
   "execution_count": 24,
   "id": "5b95aa82-3501-44de-b2f6-49c3e41539aa",
   "metadata": {
    "tags": []
   },
   "outputs": [],
   "source": [
    "pipe = Pipeline(description=\"A custom Latin pipeline\",     processes=[LatinTokenizationProcess, LatinLemmatizationProcess],     language=get_lang(\"lat\"))\n",
    "nlp = NLP(language='lat', custom_pipeline=pipe, suppress_banner=True)"
   ]
  },
  {
   "cell_type": "code",
   "execution_count": 29,
   "id": "30329ba0-64a3-40b6-868c-b2fb2e9f738f",
   "metadata": {
    "tags": []
   },
   "outputs": [],
   "source": [
    "with open (\"texts/matthew/la_matthew.txt\", 'r', encoding=\"utf-8\") as f:\n",
    "    text = f.read()\n",
    "                # Lemmatize the words\n",
    "    la_matthew = nlp(text).lemmata"
   ]
  },
  {
   "cell_type": "code",
   "execution_count": 30,
   "id": "c980a34e-8749-4e79-aede-5f29ed423d97",
   "metadata": {
    "tags": []
   },
   "outputs": [
    {
     "name": "stdout",
     "output_type": "stream",
     "text": [
      "['1', 'Liber', 'generationis', 'Jesu', 'Christi', 'filii', 'David', ',', 'filii', 'Abraham', '.', '2', 'Abraham', 'genuit', 'Isaac', '.', 'Isaac', 'autem', 'genuit', 'Jacob', '.', 'Jacob', 'autem', 'genuit', 'Judam', ',', 'et', 'fratres', 'ejus', '.', '3', 'Judas', 'autem', 'genuit', 'Phares', ',', 'et', 'Zaram', 'de', 'Thamar', '.', 'Phares', 'autem', 'genuit', 'Esro', '-ne', '.', 'Esro', '-ne', 'autem', 'genuit', 'Aram', '.', '4', 'Aram', 'autem', 'genuit', 'Aminadab', '.', 'Aminadab', 'autem', 'genuit', 'Naasso', '-ne', '.', 'Naasso', '-ne', 'autem', 'genuit', 'Salmo', '-ne', '.', '5', 'Salmo', '-ne', 'autem', 'genuit', 'Booz', 'de', 'Rahab', '.', 'Booz', 'autem', 'genuit', 'Obed', 'ex', 'Ruth', '.', 'Obed', 'autem', 'genuit', 'Jesse', '.', 'Jesse', 'autem', 'genuit', 'David', 'regem', '.', '6', 'David', 'autem', 'rex', 'genuit', 'Salomonem', 'ex', 'ea', 'quae', 'fuit', 'Uriae', '.', '7', 'Salomo', '-ne', 'autem', 'genuit', 'Roboam', '.', 'Roboam', 'autem', 'genuit', 'Abiam', '.', 'Abias', 'autem', 'genuit', 'Asa', '.', '8', 'Asa', 'autem', 'genuit', 'Josophat', '.', 'Josophat', 'autem', 'genuit', 'Joram', '.', 'Joram', 'autem', 'genuit', 'Oziam', '.', '9', 'Ozias', 'autem', 'genuit', 'Joatham', '.', 'Joatham', 'autem', 'genuit', 'Achaz', '.', 'Achaz', 'autem', 'genuit', 'Ezechiam', '.', '10', 'Ezechias', 'autem', 'genuit', 'Manasse', '-ne', '.', 'Manasses', 'autem', 'genuit', 'Amo', '-ne', '.', 'Amo', '-ne', 'autem', 'genuit', 'Josiam', '.', '11', 'Josias', 'autem', 'genuit', 'Jechoniam', ',', 'et', 'fratres', 'ejus', 'in', 'transmigratione', 'Babylonis', '.', '12', 'Et', 'post', 'transmigrationem', 'Babylonis', ':', 'Jechonias', 'genuit', 'Salathiel', '.', 'Salathiel', 'autem', 'genuit', 'Zorobabel', '.', '13', 'Zorobabel', 'autem', 'genuit', 'Abiud', '.', 'Abiud', 'autem', 'genuit', 'Eliacim', '.', 'Eliacim', 'autem', 'genuit', 'Azor', '.', '14', 'Azor', 'autem', 'genuit', 'Sadoc', '.', 'Sadoc', 'autem', 'genuit', 'Achim', '.', 'Achim', 'autem', 'genuit', 'Eliud', '.', '15', 'Eliud', 'autem', 'genuit', 'Eleazar', '.', 'Eleazar', 'autem', 'genuit', 'Matha', '-ne', '.', 'Matha', '-ne', 'autem', 'genuit', 'Jacob', '.', '16', 'Jacob', 'autem', 'genuit', 'Joseph', 'virum', 'Mariae', ',', 'de', 'qua', 'natus', 'est', 'Jesus', ',', 'qui', 'vocatur', 'Christus', '.', '17', 'Omnes', 'itaque', 'generationes', 'ab', 'Abraham', 'usque', 'ad', 'David', ',', 'generationes', 'quatuordecim', ':', 'et', 'a', 'David', 'usque', 'ad', 'transmigrationem', 'Babylonis', ',', 'generationes', 'quatuordecim', ':', 'et', 'a', 'transmigratione', 'Babylonis', 'usque', 'ad', 'Christum', ',', 'generationes', 'quatuordecim', '.', '18', 'Christi', 'autem', 'generatio', 'sic', 'erat', ':', 'cum', 'esset', 'desponsata', 'mater', 'ejus', 'Maria', 'Joseph', ',', 'antequam', 'convenirent', 'inventa', 'est', 'in', 'utero', 'habens', 'de', 'Spiritu', 'Sancto', '.', '19', 'Joseph', 'autem', 'vir', 'ejus', 'cum', 'esset', 'justus', ',', 'et', 'nollet', 'eam', 'traducere', ',', 'voluit', 'occulte', 'dimittere', 'eam', '.', '20', 'Haec', 'autem', 'eo', 'cogitante', ',', 'ecce', 'angelus', 'Domini', 'apparuit', 'in', 'somnis', 'ei', ',', 'dicens', ':', 'Joseph', ',', 'fili', 'David', ',', 'noli', 'timere', 'accipere', 'Mariam', 'conjugem', 'tuam', ':', 'quod', 'enim', 'in', 'ea', 'natum', 'est', ',', 'de', 'Spiritu', 'Sancto', 'est', '.', '21', 'Pariet', 'autem', 'filium', ':', 'et', 'vocabis', 'nomen', 'ejus', 'Jesum', ':', 'ipse', 'enim', 'salvum', 'faciet', 'populum', 'suum', 'a', 'peccatis', 'eorum', '.', '22', 'Hoc', 'autem', 'totum', 'factum', 'est', ',', 'ut', 'adimpleretur', 'quod', 'dictum', 'est', 'a', 'Domino', 'per', 'prophetam', 'dicentem', ':', '23', 'Ecce', 'virgo', 'in', 'utero', 'habebit', ',', 'et', 'pariet', 'filium', ':', 'et', 'vocabunt', 'nomen', 'ejus', 'Emmanuel', ',', 'quod', 'est', 'interpretatum', 'Cum', 'nobis', 'Deus', '.', '24', 'Exsurgens', 'autem', 'Joseph', 'a', 'somno', ',', 'fecit', 'sicut', 'praecepit', 'ei', 'angelus', 'Domini', ',', 'et', 'accepit', 'conjugem', 'suam', '.', '25', 'Et', 'non', 'cognoscebat', 'eam', 'donec', 'peperit', 'filium', 'suum', 'primogenitum', ':', 'et', 'vocavit', 'nomen', 'ejus', 'Jesum', '.', '2', 'Cum', 'ergo', 'natus', 'esset', 'Jesus', 'in', 'Bethlehem', 'Juda', 'in', 'diebus', 'Herodis', 'regis', ',', 'ecce', 'magi', 'ab', 'oriente', 'venerunt', 'Jerosolymam', ',', '2', 'dicentes', ':', 'Ubi', 'est', 'qui', 'natus', 'est', 'rex', 'Judaeorum', '?', 'vidimus', 'enim', 'stellam', 'ejus', 'in', 'oriente', ',', 'et', 'venimus', 'adorare', 'eum', '.', '3', 'Audiens', 'autem', 'Herodes', 'rex', ',', 'turbatus', 'est', ',', 'et', 'omnis', 'Jerosolyma', 'cum', 'illo', '.', '4', 'Et', 'congregans', 'omnes', 'principes', 'sacerdotum', ',', 'et', 'scribas', 'populi', ',', 'sciscitabatur', 'ab', 'eis', 'ubi', 'Christus', 'nasceretur', '.', '5', 'At', 'illi', 'dixerunt', ':', 'In', 'Bethlehem', 'Judae', ':', 'sic', 'enim', 'scriptum', 'est', 'per', 'prophetam', ':', '6', 'Et', 'tu', 'Bethlehem', 'terra', 'Juda', ',', 'nequaquam', 'minima', 'es', 'in', 'principibus', 'Juda', ':', 'ex', 'te', 'enim', 'exiet', 'dux', ',', 'qui', 'regat', 'populum', 'meum', 'Israel', '.', '7', 'Tunc', 'Herodes', 'clam', 'vocatis', 'magis', 'diligenter', 'didicit', 'ab', 'eis', 'tempus', 'stellae', ',', 'quae', 'apparuit', 'eis', ':', '8', 'et', 'mittens', 'illos', 'in', 'Bethlehem', ',', 'dixit', ':', 'Ite', ',', 'et', 'interrogate', 'diligenter', 'de', 'puero', ':', 'et', 'cum', 'inveneritis', ',', 'renuntiate', 'mihi', ',', 'ut', 'et', 'ego', 'veniens', 'adorem', 'eum', '.', '9', 'Qui', 'cum', 'audissent', 'regem', ',', 'abierunt', ',', 'et', 'ecce', 'stella', ',', 'quam', 'viderant', 'in', 'oriente', ',', 'antecedebat', 'eos', ',', 'usque', 'dum', 'veniens', 'staret', 'supra', ',', 'ubi', 'erat', 'puer', '.', '10', 'Videntes', 'autem', 'stellam', 'gavisi', 'sunt', 'gaudio', 'magno', 'valde', '.', '11', 'Et', 'intrantes', 'domum', ',', 'invenerunt', 'puerum', 'cum', 'Maria', 'matre', 'ejus', ',', 'et', 'procidentes', 'adoraverunt', 'eum', ':', 'et', 'apertis', 'thesauris', 'suis', 'obtulerunt', 'ei', 'munera', ',', 'aurum', ',', 'thus', ',', 'et', 'myrrham', '.', '12', 'Et', 'responso', 'accepto', 'in', 'somnis', 'ne', 'redirent', 'ad', 'Herodem', ',', 'per', 'aliam', 'viam', 'reversi', 'sunt', 'in', 'regionem', 'suam', '.', '13', 'Qui', 'cum', 'recessissent', ',', 'ecce', 'angelus', 'Domini', 'apparuit', 'in', 'somnis', 'Joseph', ',', 'dicens', ':', 'Surge', ',', 'et', 'accipe', 'puerum', ',', 'et', 'matrem', 'ejus', ',', 'et', 'fuge', 'in', 'AEgyptum', ',', 'et', 'esto', 'ibi', 'usque', 'dum', 'dicam', 'tibi', '.', 'Futurum', 'est', 'enim', 'ut', 'Herodes', 'quaerat', 'puerum', 'ad', 'perdendum', 'eum', '.', '14', 'Qui', 'consurgens', 'accepit', 'puerum', 'et', 'matrem', 'ejus', 'nocte', ',', 'et', 'secessit', 'in', 'AEgyptum', ':', '15', 'et', 'erat', 'ibi', 'usque', 'ad', 'obitum', 'Herodis', ':', 'ut', 'adimpleretur', 'quod', 'dictum', 'est', 'a', 'Domino', 'per', 'prophetam', 'dicentem', ':', 'Ex', 'AEgypto', 'vocavi', 'filium', 'meum', '.', '16', 'Tunc', 'Herodes', 'videns', 'quoniam', 'illusus', 'esset', 'a', 'magis', ',', 'iratus', 'est', 'valde', ',', 'et', 'mittens', 'occidit', 'omnes', 'pueros', ',', 'qui', 'erant', 'in', 'Bethlehem', ',', 'et', 'in', 'omnibus', 'finibus', 'ejus', ',', 'a', 'bimatu', 'et', 'infra', 'secundum', 'tempus', ',', 'quod', 'exquisierat', 'a', 'magis', '.', '17', 'Tunc', 'adimpletum', 'est', 'quod', 'dictum', 'est', 'per', 'Jeremiam', 'prophetam', 'dicentem', ':', '18', 'Vox', 'in', 'Rama', 'audita', 'est', 'ploratus', ',', 'et', 'ululatus', 'multus', ':', 'Rachel', 'plorans', 'filios', 'suos', ',', 'et', 'noluit', 'consolari', ',', 'quia', 'non', 'sunt', '.', '19', 'Defuncto', 'autem', 'Herode', ',', 'ecce', 'angelus', 'Domini', 'apparuit', 'in', 'somnis', 'Joseph', 'in', 'AEgypto', ',', '20', 'dicens', ':', 'Surge', ',', 'et', 'accipe', 'puerum', ',', 'et', 'matrem', 'ejus', ',', 'et', 'vade', 'in', 'terram', 'Israel', ':', 'defuncti', 'sunt', 'enim', 'qui', 'quaerebant', 'animam', 'pueri', '.', '21', 'Qui', 'consurgens', ',', 'accepit', 'puerum', ',', 'et', 'matrem', 'ejus', ',', 'et', 'venit', 'in', 'terram', 'Israel', '.', '22', 'Audiens', 'autem', 'quod', 'Archelaus', 'regnaret', 'in', 'Judaea', 'pro', 'Herode', 'patre', 'suo', ',', 'timuit', 'illo', 'ire', ':', 'et', 'admonitus', 'in', 'somnis', ',', 'secessit', 'in', 'partes', 'Galilaeae', '.', '23', 'Et', 'veniens', 'habitavit', 'in', 'civitate', 'quae', 'vocatur', 'Nazareth', ':', 'ut', 'adimpleretur', 'quod', 'dictum', 'est', 'per', 'prophetas', ':', 'Quoniam', 'Nazaraeus', 'vocabitur', '.', '3', 'In', 'diebus', 'autem', 'illis', 'venit', 'Joannes', 'Baptista', 'praedicans', 'in', 'deserto', 'Judaeae', ',', '2', 'et', 'dicens', ':', 'Poenitentiam', 'agite', ':', 'appropinquavit', 'enim', 'regnum', 'caelorum', '.', '3', 'Hic', 'est', 'enim', ',', 'qui', 'dictus', 'est', 'per', 'Isaiam', 'prophetam', 'dicentem', ':', 'Vox', 'clamantis', 'in', 'deserto', ':', 'Parate', 'viam', 'Domini', ';', 'rectas', 'facite', 'semitas', 'ejus', '.', '4', 'Ipse', 'autem', 'Joannes', 'habebat', 'vestimentum', 'de', 'pilis', 'camelorum', ',', 'et', 'zonam', 'pelliceam', 'circa', 'lumbos', 'suos', ':', 'esca', 'autem', 'ejus', 'erat', 'locustae', ',', 'et', 'mel', 'silvestre', '.', '5', 'Tunc', 'exibat', 'ad', 'eum', 'Jerosolyma', ',', 'et', 'omnis', 'Judaea', ',', 'et', 'omnis', 'regio', 'circa', 'Jordanem', ';', '6', 'et', 'baptizabantur', 'ab', 'eo', 'in', 'Jordane', ',', 'confitentes', 'peccata', 'sua', '.', '7', 'Videns', 'autem', 'multos', 'pharisaeorum', ',', 'et', 'sadducaeorum', ',', 'venientes', 'ad', 'baptismum', 'suum', ',', 'dixit', 'eis', ':', 'Progenies', 'viperarum', ',', 'quis', 'demonstravit', 'vobis', 'fugere', 'a', 'ventura', 'ira', '?', '8', 'Facite', 'ergo', 'fructum', 'dignum', 'poenitentiae', '.', '9', 'Et', 'ne', 'velitis', 'dicere', 'intra', 'vos', ':', 'Patrem', 'habemus', 'Abraham', '.', 'Dico', 'enim', 'vobis', 'quoniam', 'potens', 'est', 'Deus', 'de', 'lapidibus', 'istis', 'suscitare', 'filios', 'Abrahae', '.', '10', 'Jam', 'enim', 'securis', 'ad', 'radicem', 'arborum', 'posita', 'est', '.', 'Omnis', 'ergo', 'arbor', ',', 'quae', 'non', 'facit', 'fructum', 'bonum', ',', 'excidetur', ',', 'et', 'in', 'ignem', 'mittetur', '.', '11', 'Ego', 'quidem', 'baptizo', 'vos', 'in', 'aqua', 'in', 'poenitentiam', ':', 'qui', 'autem', 'post', 'me', 'venturus', 'est', ',', 'fortior', 'me', 'est', ',', 'cujus', 'non', 'sum', 'dignus', 'calceamenta', 'portare', ':', 'ipse', 'vos', 'baptizabit', 'in', 'Spiritu', 'Sancto', ',', 'et', 'igni', '.', '12', 'Cujus', 'ventilabrum', 'in', 'manu', 'sua', ':', 'et', 'permundabit', 'aream', 'suam', ':', 'et', 'congregabit', 'triticum', 'suum', 'in', 'horreum', ',', 'paleas', 'autem', 'comburet', 'igni', 'inextinguibili', '.', '13', 'Tunc', 'venit', 'Jesus', 'a', 'Galilaea', 'in', 'Jordanem', 'ad', 'Joannem', ',', 'ut', 'baptizaretur', 'ab', 'eo', '.', '14', 'Joannes', 'autem', 'prohibebat', 'eum', ',', 'dicens', ':', 'Ego', 'a', 'te', 'debeo', 'baptizari', ',', 'et', 'tu', 'venis', 'ad', 'me', '?', '15', 'Respondens', 'autem', 'Jesus', ',', 'dixit', 'ei', ':', 'Sine', 'modo', ':', 'sic', 'enim', 'decet', 'nos', 'implere', 'omnem', 'justitiam', '.', 'Tunc', 'dimisit', 'eum', '.', '16', 'Baptizatus', 'autem', 'Jesus', ',', 'confestim', 'ascendit', 'de', 'aqua', ',', 'et', 'ecce', 'aperti', 'sunt', 'ei', 'caeli', ':', 'et', 'vidit', 'Spiritum', 'Dei', 'descendentem', 'sicut', 'columbam', ',', 'et', 'venientem', 'super', 'se', '.', '17', 'Et', 'ecce', 'vox', 'de', 'caelis', 'dicens', ':', 'Hic', 'est', 'Filius', 'meus', 'dilectus', ',', 'in', 'quo', 'mihi', 'complacui', '.', '4', 'Tunc', 'Jesus', 'ductus', 'est', 'in', 'desertum', 'a', 'Spiritu', ',', 'ut', 'tentaretur', 'a', 'diabolo', '.', '2', 'Et', 'cum', 'jejunasset', 'quadraginta', 'diebus', ',', 'et', 'quadraginta', 'noctibus', ',', 'postea', 'esuriit', '.', '3', 'Et', 'accedens', 'tentator', 'dixit', 'ei', ':', 'Si', 'Filius', 'Dei', 'es', ',', 'dic', 'ut', 'lapides', 'isti', 'panes', 'fiant', '.', '4', 'Qui', 'respondens', 'dixit', ':', 'Scriptum', 'est', ':', 'Non', 'in', 'solo', 'pane', 'vivit', 'homo', ',', 'sed', 'in', 'omni', 'verbo', ',', 'quod', 'procedit', 'de', 'ore', 'Dei', '.', '5', 'Tunc', 'assumpsit', 'eum', 'diabolus', 'in', 'sanctam', 'civitatem', ',', 'et', 'statuit', 'eum', 'super', 'pinnaculum', 'templi', ',', '6', 'et', 'dixit', 'ei', ':', 'Si', 'Filius', 'Dei', 'es', ',', 'mitte', 'te', 'deorsum', '.', 'Scriptum', 'est', 'enim', ':', 'Quia', 'angelis', 'suis', 'mandavit', 'de', 'te', ',', 'et', 'in', 'manibus', 'tollent', 'te', ',', 'ne', 'forte', 'offendas', 'ad', 'lapidem', 'pedem', 'tuum', '.', '7', 'Ait', 'illi', 'Jesus', ':', 'Rursum', 'scriptum', 'est', ':', 'Non', 'tentabis', 'Dominum', 'Deum', 'tuum', '.', '8', 'Iterum', 'assumpsit', 'eum', 'diabolus', 'in', 'montem', 'excelsum', 'valde', ':', 'et', 'ostendit', 'ei', 'omnia', 'regna', 'mundi', ',', 'et', 'gloriam', 'eorum', ',', '9', 'et', 'dixit', 'ei', ':', 'Haec', 'omnia', 'tibi', 'dabo', ',', 'si', 'cadens', 'adoraveris', 'me', '.', '10', 'Tunc', 'dicit', 'ei', 'Jesus', ':', 'Vade', 'Satana', ':', 'Scriptum', 'est', 'enim', ':', 'Dominum', 'Deum', 'tuum', 'adorabis', ',', 'et', 'illi', 'soli', 'servies', '.', '11', 'Tunc', 'reliquit', 'eum', 'diabolus', ':', 'et', 'ecce', 'angeli', 'accesserunt', ',', 'et', 'ministrabant', 'ei', '.', '12', 'Cum', 'autem', 'audisset', 'Jesus', 'quod', 'Joannes', 'traditus', 'esset', ',', 'secessit', 'in', 'Galilaeam', ':', '13', 'et', ',', 'relicta', 'civitate', 'Nazareth', ',', 'venit', ',', 'et', 'habitavit', 'in', 'Capharnaum', 'maritima', ',', 'in', 'finibus', 'Zabulo', '-ne', 'et', 'Nephthalim', ':', '14', 'ut', 'adimpleretur', 'quod', 'dictum', 'est', 'per', 'Isaiam', 'prophetam', ':', '15', 'Terra', 'Zabulo', '-ne', ',', 'et', 'terra', 'Nephthalim', ',', 'via', 'maris', 'trans', 'Jordanem', ',', 'Galilaea', 'gentium', ':', '16', 'populus', ',', 'qui', 'sedebat', 'in', 'tenebris', ',', 'vidit', 'lucem', 'magnam', ':', 'et', 'sedentibus', 'in', 'regione', 'umbrae', 'mortis', ',', 'lux', 'orta', 'est', 'eis', '.', '17', 'Exinde', 'coepit', 'Jesus', 'praedicare', ',', 'et', 'dicere', ':', 'Poenitentiam', 'agite', ':', 'appropinquavit', 'enim', 'regnum', 'caelorum', '.', '18', 'Ambulans', 'autem', 'Jesus', 'juxta', 'mare', 'Galilaeae', ',', 'vidit', 'duos', 'fratres', ',', 'Simonem', ',', 'qui', 'vocatur', 'Petrus', ',', 'et', 'Andream', 'fratrem', 'ejus', ',', 'mittentes', 'rete', 'in', 'mare', '(', 'erant', 'enim', 'piscatores', ')', ',', '19', 'et', 'ait', 'illis', ':', 'Venite', 'post', 'me', ',', 'et', 'faciam', 'vos', 'fieri', 'piscatores', 'hominum', '.', '20', 'At', 'illi', 'continuo', 'relictis', 'retibus', 'secuti', 'sunt', 'eum', '.', '21', 'Et', 'procedens', 'inde', ',', 'vidit', 'alios', 'duos', 'fratres', ',', 'Jacobum', 'Zebedaei', ',', 'et', 'Joannem', 'fratrem', 'ejus', ',', 'in', 'navi', 'cum', 'Zebedaeo', 'patre', 'eorum', ',', 'reficientes', 'retia', 'sua', ':', 'et', 'vocavit', 'eos', '.', '22', 'Illi', 'autem', 'statim', 'relictis', 'retibus', 'et', 'patre', ',', 'secuti', 'sunt', 'eum', '.', '23', 'Et', 'circuibat', 'Jesus', 'totam', 'Galilaeam', ',', 'docens', 'in', 'synagogis', 'eorum', ',', 'et', 'praedicans', 'Evangelium', 'regni', ':', 'et', 'sanans', 'omnem', 'languorem', ',', 'et', 'omnem', 'infirmitatem', 'in', 'populo', '.', '24', 'Et', 'abiit', 'opinio', 'ejus', 'in', 'totam', 'Syriam', ',', 'et', 'obtulerunt', 'ei', 'omnes', 'male', 'habentes', ',', 'variis', 'languoribus', ',', 'et', 'tormentis', 'comprehensos', ',', 'et', 'qui', 'daemonia', 'habebant', ',', 'et', 'lunaticos', ',', 'et', 'paralyticos', ',', 'et', 'curavit', 'eos', ':', '25', 'et', 'secutae', 'sunt', 'eum', 'turbae', 'multae', 'de', 'Galilaea', ',', 'et', 'Decapoli', ',', 'et', 'de', 'Jerosolymis', ',', 'et', 'de', 'Judaea', ',', 'et', 'de', 'trans', 'Jordanem', '.', '5', 'Videns', 'autem', 'Jesus', 'turbas', ',', 'ascendit', 'in', 'montem', ',', 'et', 'cum', 'sedisset', ',', 'accesserunt', 'ad', 'eum', 'discipuli', 'ejus', ',', '2', 'et', 'aperiens', 'os', 'suum', 'docebat', 'eos', 'dicens', ':', '3', 'Beati', 'pauperes', 'spiritu', ':', 'quoniam', 'ipsorum', 'est', 'regnum', 'caelorum', '.', '4', 'Beati', 'mites', ':', 'quoniam', 'ipsi', 'possidebunt', 'terram', '.', '5', 'Beati', 'qui', 'lugent', ':', 'quoniam', 'ipsi', 'consolabuntur', '.', '6', 'Beati', 'qui', 'esuriunt', 'et', 'sitiunt', 'justitiam', ':', 'quoniam', 'ipsi', 'saturabuntur', '.', '7', 'Beati', 'misericordes', ':', 'quoniam', 'ipsi', 'misericordiam', 'consequentur', '.', '8', 'Beati', 'mundo', 'corde', ':', 'quoniam', 'ipsi', 'Deum', 'videbunt', '.', '9', 'Beati', 'pacifici', ':', 'quoniam', 'filii', 'Dei', 'vocabuntur', '.', '10', 'Beati', 'qui', 'persecutionem', 'patiuntur', 'propter', 'justitiam', ':', 'quoniam', 'ipsorum', 'est', 'regnum', 'caelorum', '.', '11', 'Beati', 'estis', 'cum', 'maledixerint', 'vobis', ',', 'et', 'persecuti', 'vos', 'fuerint', ',', 'et', 'dixerint', 'omne', 'malum', 'adversum', 'vos', 'mentientes', ',', 'propter', 'me', ':', '12', 'gaudete', ',', 'et', 'exsultate', ',', 'quoniam', 'merces', 'vestra', 'copiosa', 'est', 'in', 'caelis', '.', 'Sic', 'enim', 'persecuti', 'sunt', 'prophetas', ',', 'qui', 'fuerunt', 'ante', 'vos', '.', '13', 'Vos', 'estis', 'sal', 'terrae', '.', 'Quod', 'si', 'sal', 'evanuerit', ',', 'in', 'quo', 'salietur', '?', 'ad', 'nihilum', 'valet', 'ultra', ',', 'nisi', 'ut', 'mittatur', 'foras', ',', 'et', 'conculcetur', 'ab', 'hominibus', '.', '14', 'Vos', 'estis', 'lux', 'mundi', '.', 'Non', 'potest', 'civitas', 'abscondi', 'supra', 'montem', 'posita', ',', '15', 'neque', 'accendunt', 'lucernam', ',', 'et', 'ponunt', 'eam', 'sub', 'modio', ',', 'sed', 'super', 'candelabrum', ',', 'ut', 'luceat', 'omnibus', 'qui', 'in', 'domo', 'sunt', '.', '16', 'Sic', 'luceat', 'lux', 'vestra', 'coram', 'hominibus', ':', 'ut', 'videant', 'opera', 'vestra', 'bona', ',', 'et', 'glorificent', 'Patrem', 'vestrum', ',', 'qui', 'in', 'caelis', 'est', '.', '17', 'Nolite', 'putare', 'quoniam', 'veni', 'solvere', 'legem', 'aut', 'prophetas', ':', 'non', 'veni', 'solvere', ',', 'sed', 'adimplere', '.', '18', 'Ame', '-ne', 'quippe', 'dico', 'vobis', ',', 'donec', 'transeat', 'caelum', 'et', 'terra', ',', 'jota', 'unum', 'aut', 'unus', 'apex', 'non', 'praeteribit', 'a', 'lege', ',', 'donec', 'omnia', 'fiant', '.', '19', 'Qui', 'ergo', 'solverit', 'unum', 'de', 'mandatis', 'istis', 'minimis', ',', 'et', 'docuerit', 'sic', 'homines', ',', 'minimus', 'vocabitur', 'in', 'regno', 'caelorum', ':', 'qui', 'autem', 'fecerit', 'et', 'docuerit', ',', 'hic', 'magnus', 'vocabitur', 'in', 'regno', 'caelorum', '.', '20', 'Dico', 'enim', 'vobis', ',', 'quia', 'nisi', 'abundaverit', 'justitia', 'vestra', 'plus', 'quam', 'scribarum', 'et', 'pharisaeorum', ',', 'non', 'intrabitis', 'in', 'regnum', 'caelorum', '.', '21', 'Audistis', 'quia', 'dictum', 'est', 'antiquis', ':', 'Non', 'occides', ':', 'qui', 'autem', 'occiderit', ',', 'reus', 'erit', 'judicio', '.', '22', 'Ego', 'autem', 'dico', 'vobis', ':', 'quia', 'omnis', 'qui', 'irascitur', 'fratri', 'suo', ',', 'reus', 'erit', 'judicio', '.', 'Qui', 'autem', 'dixerit', 'fratri', 'suo', ',', 'raca', ':', 'reus', 'erit', 'concilio', '.', 'Qui', 'autem', 'dixerit', ',', 'fatue', ':', 'reus', 'erit', 'gehennae', 'ignis', '.', '23', 'Si', 'ergo', 'offers', 'munus', 'tuum', 'ad', 'altare', ',', 'et', 'ibi', 'recordatus', 'fueris', 'quia', 'frater', 'tuus', 'habet', 'aliquid', 'adversum', 'te', ':', '24', 'relinque', 'ibi', 'munus', 'tuum', 'ante', 'altare', ',', 'et', 'vade', 'prius', 'reconciliari', 'fratri', 'tuo', ':', 'et', 'tunc', 'veniens', 'offeres', 'munus', 'tuum', '.', '25', 'Esto', 'consentiens', 'adversario', 'tuo', 'cito', 'dum', 'es', 'in', 'via', 'cum', 'eo', ':', 'ne', 'forte', 'tradat', 'te', 'adversarius', 'judici', ',', 'et', 'judex', 'tradat', 'te', 'ministro', ':', 'et', 'in', 'carcerem', 'mittaris', '.', '26', 'Ame', '-ne', 'dico', 'tibi', ',', 'non', 'exies', 'inde', ',', 'donec', 'reddas', 'novissimum', 'quadrantem', '.', '27', 'Audistis', 'quia', 'dictum', 'est', 'antiquis', ':', 'Non', 'moechaberis', '.', '28', 'Ego', 'autem', 'dico', 'vobis', ':', 'quia', 'omnis', 'qui', 'viderit', 'mulierem', 'ad', 'concupiscendum', 'eam', ',', 'jam', 'moechatus', 'est', 'eam', 'in', 'corde', 'suo', '.', '29', 'Quod', 'si', 'oculus', 'tuus', 'dexter', 'scandalizat', 'te', ',', 'erue', 'eum', ',', 'et', 'projice', 'abs', 'te', ':', 'expedit', 'enim', 'tibi', 'ut', 'pereat', 'unum', 'membrorum', 'tuorum', ',', 'quam', 'totum', 'corpus', 'tuum', 'mittatur', 'in', 'gehennam', '.', '30', 'Et', 'si', 'dextra', 'manus', 'tua', 'scandalizat', 'te', ',', 'abscide', 'eam', ',', 'et', 'projice', 'abs', 'te', ':', 'expedit', 'enim', 'tibi', 'ut', 'pereat', 'unum', 'membrorum', 'tuorum', ',', 'quam', 'totum', 'corpus', 'tuum', 'eat', 'in', 'gehennam', '.', '31', 'Dictum', 'est', 'autem', ':', 'Quicumque', 'dimiserit', 'uxorem', 'suam', ',', 'det', 'ei', 'libellum', 'repudii', '.', '32', 'Ego', 'autem', 'dico', 'vobis', ':', 'quia', 'omnis', 'qui', 'dimiserit', 'uxorem', 'suam', ',', 'excepta', 'fornicationis', 'causa', ',', 'facit', 'eam', 'moechari', ':', 'et', 'qui', 'dimissam', 'duxerit', ',', 'adulterat', '.', '33', 'Iterum', 'audistis', 'quia', 'dictum', 'est', 'antiquis', ':', 'Non', 'perjurabis', ':', 'reddes', 'autem', 'Domino', 'juramenta', 'tua', '.', '34', 'Ego', 'autem', 'dico', 'vobis', ',', 'non', 'jurare', 'omnino', ',', 'neque', 'per', 'caelum', ',', 'quia', 'thronus', 'Dei', 'est', ':', '35', 'neque', 'per', 'terram', ',', 'quia', 'scabellum', 'est', 'pedum', 'ejus', ':', 'neque', 'per', 'Jerosolymam', ',', 'quia', 'civitas', 'est', 'magni', 'regis', ':', '36', 'neque', 'per', 'caput', 'tuum', 'juraveris', ',', 'quia', 'non', 'potes', 'unum', 'capillum', 'album', 'facere', ',', 'aut', 'nigrum', '.', '37', 'Sit', 'autem', 'sermo', 'vester', ',', 'est', ',', 'est', ':', 'non', ',', 'non', ':', 'quod', 'autem', 'his', 'abundantius', 'est', ',', 'a', 'malo', 'est', '.', '38', 'Audistis', 'quia', 'dictum', 'est', ':', 'Oculum', 'pro', 'oculo', ',', 'et', 'dentem', 'pro', 'dente', '.', '39', 'Ego', 'autem', 'dico', 'vobis', ',', 'non', 'resistere', 'malo', ':', 'sed', 'si', 'quis', 'te', 'percusserit', 'in', 'dexteram', 'maxillam', 'tuam', ',', 'praebe', 'illi', 'et', 'alteram', ':', '40', 'et', 'ei', ',', 'qui', 'vult', 'cum', 'te', 'judicio', 'contendere', ',', 'et', 'tunicam', 'tuam', 'tollere', ',', 'dimitte', 'ei', 'et', 'pallium', ':', '41', 'et', 'quicumque', 'te', 'angariaverit', 'mille', 'passus', ',', 'vade', 'cum', 'illo', 'et', 'alia', 'duo', '.', '42', 'Qui', 'petit', 'a', 'te', ',', 'da', 'ei', ':', 'et', 'volenti', 'mutuari', 'a', 'te', ',', 'ne', 'avertaris', '.', '43', 'Audistis', 'quia', 'dictum', 'est', ':', 'Diliges', 'proximum', 'tuum', ',', 'et', 'odio', 'habebis', 'inimicum', 'tuum', '.', '44', 'Ego', 'autem', 'dico', 'vobis', ':', 'diligite', 'inimicos', 'vestros', ',', 'benefacite', 'his', 'qui', 'oderunt', 'vos', ',', 'et', 'orate', 'pro', 'persequentibus', 'et', 'calumniantibus', 'vos', ':', '45', 'ut', 'sitis', 'filii', 'Patris', 'vestri', ',', 'qui', 'in', 'caelis', 'est', ':', 'qui', 'solem', 'suum', 'oriri', 'facit', 'super', 'bonos', 'et', 'malos', ':', 'et', 'pluit', 'super', 'justos', 'et', 'injustos', '.', '46', 'Si', 'enim', 'diligitis', 'eos', 'qui', 'vos', 'diligunt', ',', 'quam', 'mercedem', 'habebitis', '?', 'nonne', 'et', 'publicani', 'hoc', 'faciunt', '?', '47', 'Et', 'si', 'salutaveritis', 'fratres', 'vestros', 'tantum', ',', 'quid', 'amplius', 'facitis', '?', 'nonne', 'et', 'ethnici', 'hoc', 'faciunt', '?', '48', 'Estote', 'ergo', 'vos', 'perfecti', ',', 'sicut', 'et', 'Pater', 'vester', 'caelestis', 'perfectus', 'est', '.', '6', 'Attendite', 'ne', 'justitiam', 'vestram', 'faciatis', 'coram', 'hominibus', ',', 'ut', 'videamini', 'ab', 'eis', ':', 'alioquin', 'mercedem', 'non', 'habebitis', 'apud', 'Patrem', 'vestrum', 'qui', 'in', 'caelis', 'est', '.', '2', 'Cum', 'ergo', 'facis', 'eleemosynam', ',', 'noli', 'tuba', 'canere', 'ante', 'te', ',', 'sicut', 'hypocritae', 'faciunt', 'in', 'synagogis', ',', 'et', 'in', 'vicis', ',', 'ut', 'honorificentur', 'ab', 'hominibus', '.', 'Ame', '-ne', 'dico', 'vobis', ',', 'receperunt', 'mercedem', 'suam', '.', '3', 'Te', 'autem', 'faciente', 'eleemosynam', ',', 'nesciat', 'sinistra', 'tua', 'quid', 'faciat', 'dextera', 'tua', ':', '4', 'ut', 'sit', 'eleemosyna', 'tua', 'in', 'abscondito', ',', 'et', 'Pater', 'tuus', ',', 'qui', 'videt', 'in', 'abscondito', ',', 'reddet', 'tibi', '.', '5', 'Et', 'cum', 'oratis', ',', 'non', 'eritis', 'sicut', 'hypocritae', 'qui', 'amant', 'in', 'synagogis', 'et', 'in', 'angulis', 'platearum', 'stantes', 'orare', ',', 'ut', 'videantur', 'ab', 'hominibus', ':', 'ame', '-ne', 'dico', 'vobis', ',', 'receperunt', 'mercedem', 'suam', '.', '6', 'Tu', 'autem', 'cum', 'oraveris', ',', 'intra', 'in', 'cubiculum', 'tuum', ',', 'et', 'clauso', 'ostio', ',', 'ora', 'Patrem', 'tuum', 'in', 'abscondito', ':', 'et', 'Pater', 'tuus', ',', 'qui', 'videt', 'in', 'abscondito', ',', 'reddet', 'tibi', '.', '7', 'Orantes', 'autem', ',', 'nolite', 'multum', 'loqui', ',', 'sicut', 'ethnici', ',', 'putant', 'enim', 'quod', 'in', 'multiloquio', 'suo', 'exaudiantur', '.', '8', 'Nolite', 'ergo', 'assimilari', 'eis', ':', 'scit', 'enim', 'Pater', 'vester', ',', 'quid', 'opus', 'sit', 'vobis', ',', 'antequam', 'petatis', 'eum', '.', '9', 'Sic', 'ergo', 'vos', 'orabitis', ':', 'Pater', 'noster', ',', 'qui', 'es', 'in', 'caelis', ',', 'sanctificetur', 'nomen', 'tuum', '.', '10', 'Adveniat', 'regnum', 'tuum', ';', 'fiat', 'voluntas', 'tua', ',', 'sicut', 'in', 'caelo', 'et', 'in', 'terra', '.', '11', 'Panem', 'nostrum', 'supersubstantialem', 'da', 'nobis', 'hodie', ',', '12', 'et', 'dimitte', 'nobis', 'debita', 'nostra', ',', 'sicut', 'et', 'nos', 'dimittimus', 'debitoribus', 'nostris', '.', '13', 'Et', 'ne', 'nos', 'inducas', 'in', 'tentationem', ',', 'sed', 'libera', 'nos', 'a', 'malo', '.', 'Ame', '-ne', '.', '14', 'Si', 'enim', 'dimiseritis', 'hominibus', 'peccata', 'eorum', ':', 'dimittet', 'et', 'vobis', 'Pater', 'vester', 'caelestis', 'delicta', 'vestra', '.', '15', 'Si', 'autem', 'non', 'dimiseritis', 'hominibus', ':', 'nec', 'Pater', 'vester', 'dimittet', 'vobis', 'peccata', 'vestra', '.', '16', 'Cum', 'autem', 'jejunatis', ',', 'nolite', 'fieri', 'sicut', 'hypocritae', ',', 'tristes', '.', 'Exterminant', 'enim', 'facies', 'suas', ',', 'ut', 'appareant', 'hominibus', 'jejunantes', '.', 'Ame', '-ne', 'dico', 'vobis', ',', 'quia', 'receperunt', 'mercedem', 'suam', '.', '17', 'Tu', 'autem', ',', 'cum', 'jejunas', ',', 'unge', 'caput', 'tuum', ',', 'et', 'faciem', 'tuam', 'lava', ',', '18', 'ne', 'videaris', 'hominibus', 'jejunans', ',', 'sed', 'Patri', 'tuo', ',', 'qui', 'est', 'in', 'abscondito', ':', 'et', 'Pater', 'tuus', ',', 'qui', 'videt', 'in', 'abscondito', ',', 'reddet', 'tibi', '.', '19', 'Nolite', 'thesaurizare', 'vobis', 'thesauros', 'in', 'terra', ':', 'ubi', 'aerugo', ',', 'et', 'tinea', 'demolitur', ':', 'et', 'ubi', 'fures', 'effodiunt', ',', 'et', 'furantur', '.', '20', 'Thesaurizate', 'autem', 'vobis', 'thesauros', 'in', 'caelo', ',', 'ubi', 'neque', 'aerugo', ',', 'neque', 'tinea', 'demolitur', ',', 'et', 'ubi', 'fures', 'non', 'effodiunt', ',', 'nec', 'furantur', '.', '21', 'Ubi', 'enim', 'est', 'thesaurus', 'tuus', ',', 'ibi', 'est', 'et', 'cor', 'tuum', '.', '22', 'Lucerna', 'corporis', 'tui', 'est', 'oculus', 'tuus', '.', 'Si', 'oculus', 'tuus', 'fuerit', 'simplex', ',', 'totum', 'corpus', 'tuum', 'lucidum', 'erit', '.', '23', 'Si', 'autem', 'oculus', 'tuus', 'fuerit', 'nequam', ',', 'totum', 'corpus', 'tuum', 'tenebrosum', 'erit', '.', 'Si', 'ergo', 'lumen', ',', 'quod', 'in', 'te', 'est', ',', 'tenebrae', 'sunt', ':', 'ipsae', 'tenebrae', 'quantae', 'erunt', '?', '24', 'Nemo', 'potest', 'duobus', 'dominis', 'servire', ':', 'aut', 'enim', 'unum', 'odio', 'habebit', ',', 'et', 'alterum', 'diliget', ':', 'aut', 'unum', 'sustinebit', ',', 'et', 'alterum', 'contemnet', '.', 'Non', 'potestis', 'Deo', 'servire', 'et', 'mammonae', '.', '25', 'Ideo', 'dico', 'vobis', ',', 'ne', 'solliciti', 'sitis', 'animae', 'vestrae', 'quid', 'manducetis', ',', 'neque', 'corpori', 'vestro', 'quid', 'induamini', '.', 'Nonne', 'anima', 'plus', 'est', 'quam', 'esca', ',', 'et', 'corpus', 'plus', 'quam', 'vestimentum', '?', '26', 'Respicite', 'volatilia', 'caeli', ',', 'quoniam', 'non', 'serunt', ',', 'neque', 'metunt', ',', 'neque', 'congregant', 'in', 'horrea', ':', 'et', 'Pater', 'vester', 'caelestis', 'pascit', 'illa', '.', 'Nonne', 'vos', 'magis', 'pluris', 'estis', 'illis', '?', '27', 'Quis', 'autem', 'vestrum', 'cogitans', 'potest', 'adjicere', 'ad', 'staturam', 'suam', 'cubitum', 'unum', '?', '28', 'Et', 'de', 'vestimento', 'quid', 'solliciti', 'estis', '?', 'Considerate', 'lilia', 'agri', 'quomodo', 'crescunt', ':', 'non', 'laborant', ',', 'neque', 'nent', '.', '29', 'Dico', 'autem', 'vobis', ',', 'quoniam', 'nec', 'Salomo', '-ne', 'in', 'omni', 'gloria', 'sua', 'coopertus', 'est', 'sicut', 'unum', 'ex', 'istis', '.', '30', 'Si', 'autem', 'foenum', 'agri', ',', 'quod', 'hodie', 'est', ',', 'et', 'cras', 'in', 'clibanum', 'mittitur', ',', 'Deus', 'sic', 'vestit', ',', 'quanto', 'magis', 'vos', 'modicae', 'fidei', '?', '31', 'Nolite', 'ergo', 'solliciti', 'esse', ',', 'dicentes', ':', 'Quid', 'manducabimus', ',', 'aut', 'quid', 'bibemus', ',', 'aut', 'quo', 'operiemur', '?', '32', 'haec', 'enim', 'omnia', 'gentes', 'inquirunt', '.', 'Scit', 'enim', 'Pater', 'vester', ',', 'quia', 'his', 'omnibus', 'indigetis', '.', '33', 'Quaerite', 'ergo', 'primum', 'regnum', 'Dei', ',', 'et', 'justitiam', 'ejus', ':', 'et', 'haec', 'omnia', 'adjicientur', 'vobis', '.', '34', 'Nolite', 'ergo', 'solliciti', 'esse', 'in', 'crastinum', '.', 'Crastinus', 'enim', 'dies', 'sollicitus', 'erit', 'sibi', 'ipsi', ':', 'sufficit', 'diei', 'malitia', 'sua', '.', '7', 'Nolite', 'judicare', ',', 'ut', 'non', 'judicemini', '.', '2', 'In', 'quo', 'enim', 'judicio', 'judicaveritis', ',', 'judicabimini', ':', 'et', 'in', 'qua', 'mensura', 'mensi', 'fueritis', ',', 'remetietur', 'vobis', '.', '3', 'Quid', 'autem', 'vides', 'festucam', 'in', 'oculo', 'fratris', 'tui', ',', 'et', 'trabem', 'in', 'oculo', 'tuo', 'non', 'vides', '?', '4', 'aut', 'quomodo', 'dicis', 'fratri', 'tuo', ':', 'Sine', 'ejiciam', 'festucam', 'de', 'oculo', 'tuo', ',', 'et', 'ecce', 'trabs', 'est', 'in', 'oculo', 'tuo', '?', '5', 'Hypocrita', ',', 'ejice', 'primum', 'trabem', 'de', 'oculo', 'tuo', ',', 'et', 'tunc', 'videbis', 'ejicere', 'festucam', 'de', 'oculo', 'fratris', 'tui', '.', '6', 'Nolite', 'dare', 'sanctum', 'canibus', ':', 'neque', 'mittatis', 'margaritas', 'vestras', 'ante', 'porcos', ',', 'ne', 'forte', 'conculcent', 'eas', 'pedibus', 'suis', ',', 'et', 'conversi', 'dirumpant', 'vos', '.', '7', 'Petite', ',', 'et', 'dabitur', 'vobis', ':', 'quaerite', ',', 'et', 'invenietis', ':', 'pulsate', ',', 'et', 'aperietur', 'vobis', '.', '8', 'Omnis', 'enim', 'qui', 'petit', ',', 'accipit', ':', 'et', 'qui', 'quaerit', ',', 'invenit', ':', 'et', 'pulsanti', 'aperietur', '.', '9', 'Aut', 'quis', 'est', 'ex', 'vobis', 'homo', ',', 'quem', 'si', 'petierit', 'filius', 'suus', 'panem', ',', 'numquid', 'lapidem', 'porriget', 'ei', '?', '10', 'aut', 'si', 'piscem', 'petierit', ',', 'numquid', 'serpentem', 'porriget', 'ei', '?', '11', 'Si', 'ergo', 'vos', ',', 'cum', 'sitis', 'mali', ',', 'nostis', 'bona', 'data', 'dare', 'filiis', 'vestris', ':', 'quanto', 'magis', 'Pater', 'vester', ',', 'qui', 'in', 'caelis', 'est', ',', 'dabit', 'bona', 'petentibus', 'se', '?', '12', 'Omnia', 'ergo', 'quaecumque', 'vultis', 'ut', 'faciant', 'vobis', 'homines', ',', 'et', 'vos', 'facite', 'illis', '.', 'Haec', 'est', 'enim', 'lex', ',', 'et', 'prophetae', '.', '13', 'Intrate', 'per', 'angustam', 'portam', ':', 'quia', 'lata', 'porta', ',', 'et', 'spatiosa', 'via', 'est', ',', 'quae', 'ducit', 'ad', 'perditionem', ',', 'et', 'multi', 'sunt', 'qui', 'intrant', 'per', 'eam', '.', '14', 'Quam', 'angusta', 'porta', ',', 'et', 'arcta', 'via', 'est', ',', 'quae', 'ducit', 'ad', 'vitam', ':', 'et', 'pauci', 'sunt', 'qui', 'inveniunt', 'eam', '!', '15', 'Attendite', 'a', 'falsis', 'prophetis', ',', 'qui', 'veniunt', 'ad', 'vos', 'in', 'vestimentis', 'ovium', ',', 'intrinsecus', 'autem', 'sunt', 'lupi', 'rapaces', ':', '16', 'a', 'fructibus', 'eorum', 'cognoscetis', 'eos', '.', 'Numquid', 'colligunt', 'de', 'spinis', 'uvas', ',', 'aut', 'de', 'tribulis', 'ficus', '?', '17', 'Sic', 'omnis', 'arbor', 'bona', 'fructus', 'bonos', 'facit', ':', 'mala', 'autem', 'arbor', 'malos', 'fructus', 'facit', '.', '18', 'Non', 'potest', 'arbor', 'bona', 'malos', 'fructus', 'facere', ':', 'neque', 'arbor', 'mala', 'bonos', 'fructus', 'facere', '.', '19', 'Omnis', 'arbor', ',', 'quae', 'non', 'facit', 'fructum', 'bonum', ',', 'excidetur', ',', 'et', 'in', 'ignem', 'mittetur', '.', '20', 'Igitur', 'ex', 'fructibus', 'eorum', 'cognoscetis', 'eos', '.', '21', 'Non', 'omnis', 'qui', 'dicit', 'mihi', ',', 'Domine', ',', 'Domine', ',', 'intrabit', 'in', 'regnum', 'caelorum', ':', 'sed', 'qui', 'facit', 'voluntatem', 'Patris', 'mei', ',', 'qui', 'in', 'caelis', 'est', ',', 'ipse', 'intrabit', 'in', 'regnum', 'caelorum', '.', '22', 'Multi', 'dicent', 'mihi', 'in', 'illa', 'die', ':', 'Domine', ',', 'Domine', ',', 'nonne', 'in', 'nomine', 'tuo', 'prophetavimus', ',', 'et', 'in', 'nomine', 'tuo', 'daemonia', 'ejecimus', ',', 'et', 'in', 'nomine', 'tuo', 'virtutes', 'multas', 'fecimus', '?', '23', 'Et', 'tunc', 'confitebor', 'illis', ':', 'Quia', 'numquam', 'novi', 'vos', ':', 'discedite', 'a', 'me', ',', 'qui', 'operamini', 'iniquitatem', '.', '24', 'Omnis', 'ergo', 'qui', 'audit', 'verba', 'mea', 'haec', ',', 'et', 'facit', 'ea', ',', 'assimilabitur', 'viro', 'sapienti', ',', 'qui', 'aedificavit', 'domum', 'suam', 'supra', 'petram', ',', '25', 'et', 'descendit', 'pluvia', ',', 'et', 'venerunt', 'flumina', ',', 'et', 'flaverunt', 'venti', ',', 'et', 'irruerunt', 'in', 'domum', 'illam', ',', 'et', 'non', 'cecidit', ':', 'fundata', 'enim', 'erat', 'super', 'petram', '.', '26', 'Et', 'omnis', 'qui', 'audit', 'verba', 'mea', 'haec', ',', 'et', 'non', 'facit', 'ea', ',', 'similis', 'erit', 'viro', 'stulto', ',', 'qui', 'aedificavit', 'domum', 'suam', 'super', 'arenam', ':', '27', 'et', 'descendit', 'pluvia', ',', 'et', 'venerunt', 'flumina', ',', 'et', 'flaverunt', 'venti', ',', 'et', 'irruerunt', 'in', 'domum', 'illam', ',', 'et', 'cecidit', ',', 'et', 'fuit', 'ruina', 'illius', 'magna', '.', '28', 'Et', 'factum', 'est', ':', 'cum', 'consummasset', 'Jesus', 'verba', 'haec', ',', 'admirabantur', 'turbae', 'super', 'doctrina', 'ejus', '.', '29', 'Erat', 'enim', 'docens', 'eos', 'sicut', 'potestatem', 'habens', ',', 'et', 'non', 'sicut', 'scribae', 'eorum', ',', 'et', 'pharisaei', '.', '8', 'Cum', 'autem', 'descendisset', 'de', 'monte', ',', 'secutae', 'sunt', 'eum', 'turbae', 'multae', ':', '2', 'et', 'ecce', 'leprosus', 'veniens', ',', 'adorabat', 'eum', ',', 'dicens', ':', 'Domine', ',', 'si', 'vis', ',', 'potes', 'me', 'mundare', '.', '3', 'Et', 'extendens', 'Jesus', 'manum', ',', 'tetigit', 'eum', ',', 'dicens', ':', 'Volo', ':', 'mundare', '.', 'Et', 'confestim', 'mundata', 'est', 'lepra', 'ejus', '.', '4', 'Et', 'ait', 'illi', 'Jesus', ':', 'Vide', ',', 'nemini', 'dixeris', ':', 'sed', 'vade', ',', 'ostende', 'te', 'sacerdoti', ',', 'et', 'offer', 'munus', ',', 'quod', 'praecepit', 'Moyses', ',', 'in', 'testimonium', 'illis', '.', '5', 'Cum', 'autem', 'introisset', 'Capharnaum', ',', 'accessit', 'ad', 'eum', 'centurio', ',', 'rogans', 'eum', ',', '6', 'et', 'dicens', ':', 'Domine', ',', 'puer', 'meus', 'jacet', 'in', 'domo', 'paralyticus', ',', 'et', 'male', 'torquetur', '.', '7', 'Et', 'ait', 'illi', 'Jesus', ':', 'Ego', 'veniam', ',', 'et', 'curabo', 'eum', '.', '8', 'Et', 'respondens', 'centurio', ',', 'ait', ':', 'Domine', ',', 'non', 'sum', 'dignus', 'ut', 'intres', 'sub', 'tectum', 'meum', ':', 'sed', 'tantum', 'dic', 'verbo', ',', 'et', 'sanabitur', 'puer', 'meus', '.', '9', 'Nam', 'et', 'ego', 'homo', 'sum', 'sub', 'potestate', 'constitutus', ',', 'habens', 'sub', 'me', 'milites', ',', 'et', 'dico', 'huic', ':', 'Vade', ',', 'et', 'vadit', ':', 'et', 'alii', ':', 'Veni', ',', 'et', 'venit', ':', 'et', 'servo', 'meo', ':', 'Fac', 'hoc', ',', 'et', 'facit', '.', '10', 'Audiens', 'autem', 'Jesus', 'miratus', 'est', ',', 'et', 'sequentibus', 'se', 'dixit', ':', 'Ame', '-ne', 'dico', 'vobis', ',', 'non', 'inveni', 'tantam', 'fidem', 'in', 'Israel', '.', '11', 'Dico', 'autem', 'vobis', ',', 'quod', 'multi', 'ab', 'oriente', 'et', 'occidente', 'venient', ',', 'et', 'recumbent', 'cum', 'Abraham', ',', 'et', 'Isaac', ',', 'et', 'Jacob', 'in', 'regno', 'caelorum', ':', '12', 'filii', 'autem', 'regni', 'ejicientur', 'in', 'tenebras', 'exteriores', ':', 'ibi', 'erit', 'fletus', 'et', 'stridor', 'dentium', '.', '13', 'Et', 'dixit', 'Jesus', 'centurioni', ':', 'Vade', ',', 'et', 'sicut', 'credidisti', ',', 'fiat', 'tibi', '.', 'Et', 'sanatus', 'est', 'puer', 'in', 'illa', 'hora', '.', '14', 'Et', 'cum', 'venisset', 'Jesus', 'in', 'domum', 'Petri', ',', 'vidit', 'socrum', 'ejus', 'jacentem', ',', 'et', 'febricitantem', ':', '15', 'et', 'tetigit', 'manum', 'ejus', ',', 'et', 'dimisit', 'eam', 'febris', ',', 'et', 'surrexit', ',', 'et', 'ministrabat', 'eis', '.', '16', 'Vespere', 'autem', 'facto', ',', 'obtulerunt', 'ei', 'multos', 'daemonia', 'habentes', ':', 'et', 'ejiciebat', 'spiritus', 'verbo', ',', 'et', 'omnes', 'male', 'habentes', 'curavit', ':', '17', 'ut', 'adimpleretur', 'quod', 'dictum', 'est', 'per', 'Isaiam', 'prophetam', ',', 'dicentem', ':', 'Ipse', 'infirmitates', 'nostras', 'accepit', ':', 'et', 'aegrotationes', 'nostras', 'portavit', '.', '18', 'Videns', 'autem', 'Jesus', 'turbas', 'multas', 'circum', 'se', ',', 'jussit', 'ire', 'trans', 'fretum', '.', '19', 'Et', 'accedens', 'unus', 'scriba', ',', 'ait', 'illi', ':', 'Magister', ',', 'sequar', 'te', ',', 'quocumque', 'ieris', '.', '20', 'Et', 'dicit', 'ei', 'Jesus', ':', 'Vulpes', 'foveas', 'habent', ',', 'et', 'volucres', 'caeli', 'nidos', ';', 'Filius', 'autem', 'hominis', 'non', 'habet', 'ubi', 'caput', 'reclinet', '.', '21', 'Alius', 'autem', 'de', 'discipulis', 'ejus', 'ait', 'illi', ':', 'Domine', ',', 'permitte', 'me', 'primum', 'ire', ',', 'et', 'sepelire', 'patrem', 'meum', '.', '22', 'Jesus', 'autem', 'ait', 'illi', ':', 'Sequere', 'me', ',', 'et', 'dimitte', 'mortuos', 'sepelire', 'mortuos', 'suos', '.', '23', 'Et', 'ascendente', 'eo', 'in', 'naviculam', ',', 'secuti', 'sunt', 'eum', 'discipuli', 'ejus', ':', '24', 'et', 'ecce', 'motus', 'magnus', 'factus', 'est', 'in', 'mari', ',', 'ita', 'ut', 'navicula', 'operiretur', 'fluctibus', ':', 'ipse', 'vero', 'dormiebat', '.', '25', 'Et', 'accesserunt', 'ad', 'eum', 'discipuli', 'ejus', ',', 'et', 'suscitaverunt', 'eum', ',', 'dicentes', ':', 'Domine', ',', 'salva', 'nos', ':', 'perimus', '.', '26', 'Et', 'dicit', 'eis', 'Jesus', ':', 'Quid', 'timidi', 'estis', ',', 'modicae', 'fidei', '?', 'Tunc', 'surgens', 'imperavit', 'ventis', ',', 'et', 'mari', ',', 'et', 'facta', 'est', 'tranquillitas', 'magna', '.', '27', 'Porro', 'homines', 'mirati', 'sunt', ',', 'dicentes', ':', 'Qualis', 'est', 'hic', ',', 'quia', 'venti', 'et', 'mare', 'obediunt', 'ei', '?', '28', 'Et', 'cum', 'venisset', 'trans', 'fretum', 'in', 'regionem', 'Gerasenorum', ',', 'occurrerunt', 'ei', 'duo', 'habentes', 'daemonia', ',', 'de', 'monumentis', 'exeuntes', ',', 'saevi', 'nimis', ',', 'ita', 'ut', 'nemo', 'posset', 'transire', 'per', 'viam', 'illam', '.', '29', 'Et', 'ecce', 'clamaverunt', ',', 'dicentes', ':', 'Quid', 'nobis', 'et', 'tibi', ',', 'Jesu', 'fili', 'Dei', '?', 'Venisti', 'huc', 'ante', 'tempus', 'torquere', 'nos', '?', '30', 'Erat', 'autem', 'non', 'longe', 'ab', 'illis', 'grex', 'multorum', 'porcorum', 'pascens', '.', '31', 'Daemones', 'autem', 'rogabant', 'eum', ',', 'dicentes', ':', 'Si', 'ejicis', 'nos', 'hinc', ',', 'mitte', 'nos', 'in', 'gregem', 'porcorum', '.', '32', 'Et', 'ait', 'illis', ':', 'Ite', '.', 'At', 'illi', 'exeuntes', 'abierunt', 'in', 'porcos', ',', 'et', 'ecce', 'impetu', 'abiit', 'totus', 'grex', 'per', 'praeceps', 'in', 'mare', ':', 'et', 'mortui', 'sunt', 'in', 'aquis', '.', '33', 'Pastores', 'autem', 'fugerunt', ':', 'et', 'venientes', 'in', 'civitatem', ',', 'nuntiaverunt', 'omnia', ',', 'et', 'de', 'eis', 'qui', 'daemonia', 'habuerant', '.', '34', 'Et', 'ecce', 'tota', 'civitas', 'exiit', 'obviam', 'Jesu', ':', 'et', 'viso', 'eo', ',', 'rogabant', 'ut', 'transiret', 'a', 'finibus', 'eorum', '.', '9', 'Et', 'ascendens', 'in', 'naviculam', ',', 'transfretavit', ',', 'et', 'venit', 'in', 'civitatem', 'suam', '.', '2', 'Et', 'ecce', 'offerebant', 'ei', 'paralyticum', 'jacentem', 'in', 'lecto', '.', 'Et', 'videns', 'Jesus', 'fidem', 'illorum', ',', 'dixit', 'paralytico', ':', 'Confide', 'fili', ',', 'remittuntur', 'tibi', 'peccata', 'tua', '.', '3', 'Et', 'ecce', 'quidam', 'de', 'scribis', 'dixerunt', 'intra', 'se', ':', 'Hic', 'blasphemat', '.', '4', 'Et', 'cum', 'vidisset', 'Jesus', 'cogitationes', 'eorum', ',', 'dixit', ':', 'Ut', 'quid', 'cogitatis', 'mala', 'in', 'cordibus', 'vestris', '?', '5', 'Quid', 'est', 'facilius', 'dicere', ':', 'Dimittuntur', 'tibi', 'peccata', 'tua', ':', 'an', 'dicere', ':', 'Surge', ',', 'et', 'ambula', '?', '6', 'Ut', 'autem', 'sciatis', ',', 'quia', 'Filius', 'hominis', 'habet', 'potestatem', 'in', 'terra', 'dimittendi', 'peccata', ',', 'tunc', 'ait', 'paralytico', ':', 'Surge', ',', 'tolle', 'lectum', 'tuum', ',', 'et', 'vade', 'in', 'domum', 'tuam', '.', '7', 'Et', 'surrexit', ',', 'et', 'abiit', 'in', 'domum', 'suam', '.', '8', 'Videntes', 'autem', 'turbae', 'timuerunt', ',', 'et', 'glorificaverunt', 'Deum', ',', 'qui', 'dedit', 'potestatem', 'talem', 'hominibus', '.', '9', 'Et', ',', 'cum', 'transiret', 'inde', 'Jesus', ',', 'vidit', 'hominem', 'sedentem', 'in', 'telonio', ',', 'Matthaeum', 'nomine', '.', 'Et', 'ait', 'illi', ':', 'Sequere', 'me', '.', 'Et', 'surgens', ',', 'secutus', 'est', 'eum', '.', '10', 'Et', 'factum', 'est', ',', 'discumbente', 'eo', 'in', 'domo', ',', 'ecce', 'multi', 'publicani', 'et', 'peccatores', 'venientes', ',', 'discumbebant', 'cum', 'Jesu', ',', 'et', 'discipulis', 'ejus', '.', '11', 'Et', 'videntes', 'pharisaei', ',', 'dicebant', 'discipulis', 'ejus', ':', 'Quare', 'cum', 'publicanis', 'et', 'peccatoribus', 'manducat', 'magister', 'vester', '?', '12', 'At', 'Jesus', 'audiens', ',', 'ait', ':', 'Non', 'est', 'opus', 'valentibus', 'medicus', ',', 'sed', 'male', 'habentibus', '.', '13', 'Euntes', 'autem', 'discite', 'quid', 'est', ':', 'Misericordiam', 'volo', ',', 'et', 'non', 'sacrificium', '.', 'Non', 'enim', 'veni', 'vocare', 'justos', ',', 'sed', 'peccatores', '.', '14', 'Tunc', 'accesserunt', 'ad', 'eum', 'discipuli', 'Joannis', ',', 'dicentes', ':', 'Quare', 'nos', ',', 'et', 'pharisaei', ',', 'jejunamus', 'frequenter', ':', 'discipuli', 'autem', 'tui', 'non', 'jejunant', '?', '15', 'Et', 'ait', 'illis', 'Jesus', ':', 'Numquid', 'possunt', 'filii', 'sponsi', 'lugere', ',', 'quamdiu', 'cum', 'illis', 'est', 'sponsus', '?', 'Venient', 'autem', 'dies', 'cum', 'auferetur', 'ab', 'eis', 'sponsus', ':', 'et', 'tunc', 'jejunabunt', '.', '16', 'Nemo', 'autem', 'immittit', 'commissuram', 'panni', 'rudis', 'in', 'vestimentum', 'vetus', ':', 'tollit', 'enim', 'plenitudinem', 'ejus', 'a', 'vestimento', ',', 'et', 'pejor', 'scissura', 'fit', '.', '17', 'Neque', 'mittunt', 'vinum', 'novum', 'in', 'utres', 'veteres', ':', 'alioquin', 'rumpuntur', 'utres', ',', 'et', 'vinum', 'effunditur', ',', 'et', 'utres', 'pereunt', '.', 'Sed', 'vinum', 'novum', 'in', 'utres', 'novos', 'mittunt', ':', 'et', 'ambo', 'conservantur', '.', '18', 'Haec', 'illo', 'loquente', 'ad', 'eos', ',', 'ecce', 'princeps', 'unus', 'accessit', ',', 'et', 'adorabat', 'eum', ',', 'dicens', ':', 'Domine', ',', 'filia', 'mea', 'modo', 'defuncta', 'est', ':', 'sed', 'veni', ',', 'impone', 'manum', 'tuam', 'super', 'eam', ',', 'et', 'vivet', '.', '19', 'Et', 'surgens', 'Jesus', ',', 'sequebatur', 'eum', ',', 'et', 'discipuli', 'ejus', '.', '20', 'Et', 'ecce', 'mulier', ',', 'quae', 'sanguinis', 'fluxum', 'patiebatur', 'duodecim', 'annis', ',', 'accessit', 'retro', ',', 'et', 'tetigit', 'fimbriam', 'vestimenti', 'ejus', '.', '21', 'Dicebat', 'enim', 'intra', 'se', ':', 'Si', 'tetigero', 'tantum', 'vestimentum', 'ejus', ',', 'salva', 'ero', '.', '22', 'At', 'Jesus', 'conversus', ',', 'et', 'videns', 'eam', ',', 'dixit', ':', 'Confide', ',', 'filia', ',', 'fides', 'tua', 'te', 'salvam', 'fecit', '.', 'Et', 'salva', 'facta', 'est', 'mulier', 'ex', 'illa', 'hora', '.', '23', 'Et', 'cum', 'venisset', 'Jesus', 'in', 'domum', 'principis', ',', 'et', 'vidisset', 'tibicines', 'et', 'turbam', 'tumultuantem', ',', 'dicebat', ':', '24', 'Recedite', ':', 'non', 'est', 'enim', 'mortua', 'puella', ',', 'sed', 'dormit', '.', 'Et', 'deridebant', 'eum', '.', '25', 'Et', 'cum', 'ejecta', 'esset', 'turba', ',', 'intravit', ':', 'et', 'tenuit', 'manum', 'ejus', ',', 'et', 'surrexit', 'puella', '.', '26', 'Et', 'exiit', 'fama', 'haec', 'in', 'universam', 'terram', 'illam', '.', '27', 'Et', 'transeunte', 'inde', 'Jesu', ',', 'secuti', 'sunt', 'eum', 'duo', 'caeci', ',', 'clamantes', ',', 'et', 'dicentes', ':', 'Miserere', 'nostri', ',', 'fili', 'David', '.', '28', 'Cum', 'autem', 'venisset', 'domum', ',', 'accesserunt', 'ad', 'eum', 'caeci', '.', 'Et', 'dicit', 'eis', 'Jesus', ':', 'Creditis', 'quia', 'hoc', 'possum', 'facere', 'vobis', '?', 'Dicunt', 'ei', ':', 'Utique', ',', 'Domine', '.', '29', 'Tunc', 'tetigit', 'oculos', 'eorum', ',', 'dicens', ':', 'Secundum', 'fidem', 'vestram', ',', 'fiat', 'vobis', '.', '30', 'Et', 'aperti', 'sunt', 'oculi', 'eorum', ':', 'et', 'comminatus', 'est', 'illis', 'Jesus', ',', 'dicens', ':', 'Videte', 'ne', 'quis', 'sciat', '.', '31', 'Illi', 'autem', 'exeuntes', ',', 'diffamaverunt', 'eum', 'in', 'tota', 'terra', 'illa', '.', '32', 'Egressis', 'autem', 'illis', ',', 'ecce', 'obtulerunt', 'ei', 'hominem', 'mutum', ',', 'daemonium', 'habentem', '.', '33', 'Et', 'ejecto', 'daemonio', ',', 'locutus', 'est', 'mutus', ',', 'et', 'miratae', 'sunt', 'turbae', ',', 'dicentes', ':', 'Numquam', 'apparuit', 'sic', 'in', 'Israel', '.', '34', 'Pharisaei', 'autem', 'dicebant', ':', 'In', 'principe', 'daemoniorum', 'ejicit', 'daemones', '.', '35', 'Et', 'circuibat', 'Jesus', 'omnes', 'civitates', ',', 'et', 'castella', ',', 'docens', 'in', 'synagogis', 'eorum', ',', 'et', 'praedicans', 'Evangelium', 'regni', ',', 'et', 'curans', 'omnem', 'languorem', ',', 'et', 'omnem', 'infirmitatem', '.', '36', 'Videns', 'autem', 'turbas', ',', 'misertus', 'est', 'eis', ':', 'quia', 'erant', 'vexati', ',', 'et', 'jacentes', 'sicut', 'oves', 'non', 'habentes', 'pastorem', '.', '37', 'Tunc', 'dicit', 'discipulis', 'suis', ':', 'Messis', 'quidem', 'multa', ',', 'operarii', 'autem', 'pauci', '.', '38', 'Rogate', 'ergo', 'Dominum', 'messis', ',', 'ut', 'mittat', 'operarios', 'in', 'messem', 'suam', '.', '10', 'Et', 'convocatis', 'duodecim', 'discipulis', 'suis', ',', 'dedit', 'illis', 'potestatem', 'spirituum', 'immundorum', ',', 'ut', 'ejicerent', 'eos', ',', 'et', 'curarent', 'omnem', 'languorem', ',', 'et', 'omnem', 'infirmitatem', '.', '2', 'Duodecim', 'autem', 'Apostolorum', 'nomina', 'sunt', 'haec', '.', 'Primus', ',', 'Simo', '-ne', ',', 'qui', 'dicitur', 'Petrus', ':', 'et', 'Andreas', 'frater', 'ejus', ',', '3', 'Jacobus', 'Zebedaei', ',', 'et', 'Joannes', 'frater', 'ejus', ',', 'Philippus', ',', 'et', 'Bartholomaeus', ',', 'Thomas', ',', 'et', 'Matthaeus', 'publicanus', ',', 'Jacobus', 'Alphaei', ',', 'et', 'Thaddaeus', ',', '4', 'Simo', '-ne', 'Chananaeus', ',', 'et', 'Judas', 'Iscariotes', ',', 'qui', 'et', 'tradidit', 'eum', '.', '5', 'Hos', 'duodecim', 'misit', 'Jesus', ',', 'praecipiens', 'eis', ',', 'dicens', ':', 'In', 'viam', 'gentium', 'ne', 'abieritis', ',', 'et', 'in', 'civitates', 'Samaritanorum', 'ne', 'intraveritis', ':', '6', 'sed', 'potius', 'ite', 'ad', 'oves', 'quae', 'perierunt', 'domus', 'Israel', '.', '7', 'Euntes', 'autem', 'praedicate', ',', 'dicentes', ':', 'Quia', 'appropinquavit', 'regnum', 'caelorum', '.', '8', 'Infirmos', 'curate', ',', 'mortuos', 'suscitate', ',', 'leprosos', 'mundate', ',', 'daemones', 'ejicite', ':', 'gratis', 'accepistis', ',', 'gratis', 'date', '.', '9', 'Nolite', 'possidere', 'aurum', ',', 'neque', 'argentum', ',', 'neque', 'pecuniam', 'in', 'zonis', 'vestris', ':', '10', 'non', 'peram', 'in', 'via', ',', 'neque', 'duas', 'tunicas', ',', 'neque', 'calceamenta', ',', 'neque', 'virgam', ':', 'dignus', 'enim', 'est', 'operarius', 'cibo', 'suo', '.', '11', 'In', 'quamcumque', 'autem', 'civitatem', 'aut', 'castellum', 'intraveritis', ',', 'interrogate', ',', 'quis', 'in', 'ea', 'dignus', 'sit', ':', 'et', 'ibi', 'manete', 'donec', 'exeatis', '.', '12', 'Intrantes', 'autem', 'in', 'domum', ',', 'salutate', 'eam', ',', 'dicentes', ':', 'Pax', 'huic', 'domui', '.', '13', 'Et', 'siquidem', 'fuerit', 'domus', 'illa', 'digna', ',', 'veniet', 'pax', 'vestra', 'super', 'eam', ':', 'si', 'autem', 'non', 'fuerit', 'digna', ',', 'pax', 'vestra', 'revertetur', 'ad', 'vos', '.', '14', 'Et', 'quicumque', 'non', 'receperit', 'vos', ',', 'neque', 'audierit', 'sermones', 'vestros', ':', 'exeuntes', 'foras', 'de', 'domo', ',', 'vel', 'civitate', ',', 'excutite', 'pulverem', 'de', 'pedibus', 'vestris', '.', '15', 'Ame', '-ne', 'dico', 'vobis', ':', 'Tolerabilius', 'erit', 'terrae', 'Sodomorum', 'et', 'Gomorrhaeorum', 'in', 'die', 'judicii', ',', 'quam', 'illi', 'civitati', '.', '16', 'Ecce', 'ego', 'mitto', 'vos', 'sicut', 'oves', 'in', 'medio', 'luporum', '.', 'Estote', 'ergo', 'prudentes', 'sicut', 'serpentes', ',', 'et', 'simplices', 'sicut', 'columbae', '.', '17', 'Cavete', 'autem', 'ab', 'hominibus', '.', 'Tradent', 'enim', 'vos', 'in', 'conciliis', ',', 'et', 'in', 'synagogis', 'suis', 'flagellabunt', 'vos', ':', '18', 'et', 'ad', 'praesides', ',', 'et', 'ad', 'reges', 'ducemini', 'propter', 'me', 'in', 'testimonium', 'illis', ',', 'et', 'gentibus', '.', '19', 'Cum', 'autem', 'tradent', 'vos', ',', 'nolite', 'cogitare', 'quomodo', ',', 'aut', 'quid', 'loquamini', ':', 'dabitur', 'enim', 'vobis', 'in', 'illa', 'hora', ',', 'quid', 'loquamini', ':', '20', 'non', 'enim', 'vos', 'estis', 'qui', 'loquimini', ',', 'sed', 'Spiritus', 'Patris', 'vestri', ',', 'qui', 'loquitur', 'in', 'vobis', '.', '21', 'Tradet', 'autem', 'frater', 'fratrem', 'in', 'mortem', ',', 'et', 'pater', 'filium', ':', 'et', 'insurgent', 'filii', 'in', 'parentes', ',', 'et', 'morte', 'eos', 'afficient', ':', '22', 'et', 'eritis', 'odio', 'omnibus', 'propter', 'nomen', 'meum', ':', 'qui', 'autem', 'perseveraverit', 'usque', 'in', 'finem', ',', 'hic', 'salvus', 'erit', '.', '23', 'Cum', 'autem', 'persequentur', 'vos', 'in', 'civitate', 'ista', ',', 'fugite', 'in', 'aliam', '.', 'Ame', '-ne', 'dico', 'vobis', ',', 'non', 'consummabitis', 'civitates', 'Israel', ',', 'donec', 'veniat', 'Filius', 'hominis', '.', '24', 'Non', 'est', 'discipulus', 'super', 'magistrum', ',', 'nec', 'servus', 'super', 'dominum', 'suum', ':', '25', 'sufficit', 'discipulo', 'ut', 'sit', 'sicut', 'magister', 'ejus', ',', 'et', 'servo', ',', 'sicut', 'dominus', 'ejus', '.', 'Si', 'patremfamilias', 'Beelzebub', 'vocaverunt', ',', 'quanto', 'magis', 'domesticos', 'ejus', '?', '26', 'Ne', 'ergo', 'timueritis', 'eos', '.', 'Nihil', 'enim', 'est', 'opertum', ',', 'quod', 'non', 'revelabitur', ':', 'et', 'occultum', ',', 'quod', 'non', 'scietur', '.', '27', 'Quod', 'dico', 'vobis', 'in', 'tenebris', ',', 'dicite', 'in', 'lumine', ':', 'et', 'quod', 'in', 'aure', 'auditis', ',', 'praedicate', 'super', 'tecta', '.', '28', 'Et', 'nolite', 'timere', 'eos', 'qui', 'occidunt', 'corpus', ',', 'animam', 'autem', 'non', 'possunt', 'occidere', ':', 'sed', 'potius', 'timete', 'eum', ',', 'qui', 'potest', 'et', 'animam', 'et', 'corpus', 'perdere', 'in', 'gehennam', '.', '29', 'Nonne', 'duo', 'passeres', 'asse', 'veneunt', '?', 'et', 'unus', 'ex', 'illis', 'non', 'cadet', 'super', 'terram', 'sine', 'Patre', 'vestro', '.', '30', 'Vestri', 'autem', 'capilli', 'capitis', 'omnes', 'numerati', 'sunt', '.', '31', 'Nolite', 'ergo', 'timere', ':', 'multis', 'passeribus', 'meliores', 'estis', 'vos', '.', '32', 'Omnis', 'ergo', 'qui', 'confitebitur', 'me', 'coram', 'hominibus', ',', 'confitebor', 'et', 'ego', 'eum', 'coram', 'Patre', 'meo', ',', 'qui', 'in', 'caelis', 'est', '.', '33', 'Qui', 'autem', 'negaverit', 'me', 'coram', 'hominibus', ',', 'negabo', 'et', 'ego', 'eum', 'coram', 'Patre', 'meo', ',', 'qui', 'in', 'caelis', 'est', '.', '34', 'Nolite', 'arbitrari', 'quia', 'pacem', 'venerim', 'mittere', 'in', 'terram', ':', 'non', 'veni', 'pacem', 'mittere', ',', 'sed', 'gladium', ':', '35', 'veni', 'enim', 'separare', 'hominem', 'adversus', 'patrem', 'suum', ',', 'et', 'filiam', 'adversus', 'matrem', 'suam', ',', 'et', 'nurum', 'adversus', 'socrum', 'suam', ':', '36', 'et', 'inimici', 'hominis', ',', 'domestici', 'ejus', '.', '37', 'Qui', 'amat', 'patrem', 'aut', 'matrem', 'plus', 'quam', 'me', ',', 'non', 'est', 'me', 'dignus', ':', 'et', 'qui', 'amat', 'filium', 'aut', 'filiam', 'super', 'me', ',', 'non', 'est', 'me', 'dignus', '.', '38', 'Et', 'qui', 'non', 'accipit', 'crucem', 'suam', ',', 'et', 'sequitur', 'me', ',', 'non', 'est', 'me', 'dignus', '.', '39', 'Qui', 'invenit', 'animam', 'suam', ',', 'perdet', 'illam', ':', 'et', 'qui', 'perdiderit', 'animam', 'suam', 'propter', 'me', ',', 'inveniet', 'eam', '.', '40', 'Qui', 'recipit', 'vos', ',', 'me', 'recipit', ':', 'et', 'qui', 'me', 'recipit', ',', 'recipit', 'eum', 'qui', 'me', 'misit', '.', '41', 'Qui', 'recipit', 'prophetam', 'in', 'nomine', 'prophetae', ',', 'mercedem', 'prophetae', 'accipiet', ':', 'et', 'qui', 'recipit', 'justum', 'in', 'nomine', 'justi', ',', 'mercedem', 'justi', 'accipiet', '.', '42', 'Et', 'quicumque', 'potum', 'dederit', 'uni', 'ex', 'minimis', 'istis', 'calicem', 'aquae', 'frigidae', 'tantum', 'in', 'nomine', 'discipuli', ':', 'ame', '-ne', 'dico', 'vobis', ',', 'non', 'perdet', 'mercedem', 'suam', '.', '11', 'Et', 'factum', 'est', ',', 'cum', 'consummasset', 'Jesus', ',', 'praecipiens', 'duodecim', 'discipulis', 'suis', ',', 'transiit', 'inde', 'ut', 'doceret', ',', 'et', 'praedicaret', 'in', 'civitatibus', 'eorum', '.', '2', 'Joannes', 'autem', 'cum', 'audisset', 'in', 'vinculis', 'opera', 'Christi', ',', 'mittens', 'duos', 'de', 'discipulis', 'suis', ',', '3', 'ait', 'illi', ':', 'Tu', 'es', ',', 'qui', 'venturus', 'es', ',', 'an', 'alium', 'exspectamus', '?', '4', 'Et', 'respondens', 'Jesus', 'ait', 'illis', ':', 'Euntes', 'renuntiate', 'Joanni', 'quae', 'audistis', ',', 'et', 'vidistis', '.', '5', 'Caeci', 'vident', ',', 'claudi', 'ambulant', ',', 'leprosi', 'mundantur', ',', 'surdi', 'audiunt', ',', 'mortui', 'resurgunt', ',', 'pauperes', 'evangelizantur', ':', '6', 'et', 'beatus', 'est', ',', 'qui', 'non', 'fuerit', 'scandalizatus', 'in', 'me', '.', '7', 'Illis', 'autem', 'abeuntibus', ',', 'coepit', 'Jesus', 'dicere', 'ad', 'turbas', 'de', 'Joanne', ':', 'Quid', 'existis', 'in', 'desertum', 'videre', '?', 'arundinem', 'vento', 'agitatam', '?', '8', 'Sed', 'quid', 'existis', 'videre', '?', 'hominem', 'mollibus', 'vestitum', '?', 'Ecce', 'qui', 'mollibus', 'vestiuntur', ',', 'in', 'domibus', 'regum', 'sunt', '.', '9', 'Sed', 'quid', 'existis', 'videre', '?', 'prophetam', '?', 'Etiam', 'dico', 'vobis', ',', 'et', 'plus', 'quam', 'prophetam', '.', '10', 'Hic', 'est', 'enim', 'de', 'quo', 'scriptum', 'est', ':', 'Ecce', 'ego', 'mitto', 'angelum', 'meum', 'ante', 'faciem', 'tuam', ',', 'qui', 'praeparabit', 'viam', 'tuam', 'ante', 'te', '.', '11', 'Ame', '-ne', 'dico', 'vobis', ',', 'non', 'surrexit', 'inter', 'natos', 'mulierum', 'major', 'Joanne', 'Baptista', ':', 'qui', 'autem', 'minor', 'est', 'in', 'regno', 'caelorum', ',', 'major', 'est', 'illo', '.', '12', 'A', 'diebus', 'autem', 'Joannis', 'Baptistae', 'usque', 'nunc', ',', 'regnum', 'caelorum', 'vim', 'patitur', ',', 'et', 'violenti', 'rapiunt', 'illud', '.', '13', 'Omnes', 'enim', 'prophetae', 'et', 'lex', 'usque', 'ad', 'Joannem', 'prophetaverunt', ':', '14', 'et', 'si', 'vultis', 'recipere', ',', 'ipse', 'est', 'Elias', ',', 'qui', 'venturus', 'est', '.', '15', 'Qui', 'habet', 'aures', 'audiendi', ',', 'audiat', '.', '16', 'Cui', 'autem', 'similem', 'aestimabo', 'generationem', 'istam', '?', 'Similis', 'est', 'pueris', 'sedentibus', 'in', 'foro', ':', 'qui', 'clamantes', 'coaequalibus', '17', 'dicunt', ':', 'Cecinimus', 'vobis', ',', 'et', 'non', 'saltastis', ':', 'lamentavimus', ',', 'et', 'non', 'planxistis', '.', '18', 'Venit', 'enim', 'Joannes', 'neque', 'manducans', ',', 'neque', 'bibens', ',', 'et', 'dicunt', ':', 'Daemonium', 'habet', '.', '19', 'Venit', 'Filius', 'hominis', 'manducans', ',', 'et', 'bibens', ',', 'et', 'dicunt', ':', 'Ecce', 'homo', 'vorax', ',', 'et', 'potator', 'vini', ',', 'publicanorum', 'et', 'peccatorum', 'amicus', '.', 'Et', 'justificata', 'est', 'sapientia', 'a', 'filiis', 'suis', '.', '20', 'Tunc', 'coepit', 'exprobrare', 'civitatibus', ',', 'in', 'quibus', 'factae', 'sunt', 'plurimae', 'virtutes', 'ejus', ',', 'quia', 'non', 'egissent', 'poenitentiam', ':', '21', 'Vae', 'tibi', 'Corozai', '-ne', ',', 'vae', 'tibi', 'Bethsaida', ':', 'quia', ',', 'si', 'in', 'Tyro', 'et', 'Sidone', 'factae', 'essent', 'virtutes', 'quae', 'factae', 'sunt', 'in', 'vobis', ',', 'olim', 'in', 'cilicio', 'et', 'cinere', 'poenitentiam', 'egissent', '.', '22', 'Verumtame', '-ne', 'dico', 'vobis', ':', 'Tyro', 'et', 'Sidoni', 'remissius', 'erit', 'in', 'die', 'judicii', ',', 'quam', 'vobis', '.', '23', 'Et', 'tu', 'Capharnaum', ',', 'numquid', 'usque', 'in', 'caelum', 'exaltaberis', '?', 'usque', 'in', 'infernum', 'descendes', ',', 'quia', 'si', 'in', 'Sodomis', 'factae', 'fuissent', 'virtutes', 'quae', 'factae', 'sunt', 'in', 'te', ',', 'forte', 'mansissent', 'usque', 'in', 'hanc', 'diem', '.', '24', 'Verumtame', '-ne', 'dico', 'vobis', ',', 'quia', 'terrae', 'Sodomorum', 'remissius', 'erit', 'in', 'die', 'judicii', ',', 'quam', 'tibi', '.', '25', 'In', 'illo', 'tempore', 'respondens', 'Jesus', 'dixit', ':', 'Confiteor', 'tibi', ',', 'Pater', ',', 'Domine', 'caeli', 'et', 'terrae', ',', 'quia', 'abscondisti', 'haec', 'a', 'sapientibus', ',', 'et', 'prudentibus', ',', 'et', 'revelasti', 'ea', 'parvulis', '.', '26', 'Ita', 'Pater', ':', 'quoniam', 'sic', 'fuit', 'placitum', 'ante', 'te', '.', '27', 'Omnia', 'mihi', 'tradita', 'sunt', 'a', 'Patre', 'meo', '.', 'Et', 'nemo', 'novit', 'Filium', ',', 'nisi', 'Pater', ':', 'neque', 'Patrem', 'quis', 'novit', ',', 'nisi', 'Filius', ',', 'et', 'cui', 'voluerit', 'Filius', 'revelare', '.', '28', 'Venite', 'ad', 'me', 'omnes', 'qui', 'laboratis', ',', 'et', 'onerati', 'estis', ',', 'et', 'ego', 'reficiam', 'vos', '.', '29', 'Tollite', 'jugum', 'meum', 'super', 'vos', ',', 'et', 'discite', 'a', 'me', ',', 'quia', 'mitis', 'sum', ',', 'et', 'humilis', 'corde', ':', 'et', 'invenietis', 'requiem', 'animabus', 'vestris', '.', '30', 'Jugum', 'enim', 'meum', 'suave', 'est', ',', 'et', 'onus', 'meum', 'leve', '.', '12', 'In', 'illo', 'tempore', 'abiit', 'Jesus', 'per', 'sata', 'sabbato', ':', 'discipuli', 'autem', 'ejus', 'esurientes', 'coeperunt', 'vellere', 'spicas', ',', 'et', 'manducare', '.', '2', 'Pharisaei', 'autem', 'videntes', ',', 'dixerunt', 'ei', ':', 'Ecce', 'discipuli', 'tui', 'faciunt', 'quod', 'non', 'licet', 'facere', 'sabbatis', '.', '3', 'At', 'ille', 'dixit', 'eis', ':', 'Non', 'legistis', 'quid', 'fecerit', 'David', ',', 'quando', 'esuriit', ',', 'et', 'qui', 'cum', 'eo', 'erant', ':', '4', 'quomodo', 'intravit', 'in', 'domum', 'Dei', ',', 'et', 'panes', 'propositionis', 'comedit', ',', 'quos', 'non', 'licebat', 'ei', 'edere', ',', 'neque', 'his', 'qui', 'cum', 'eo', 'erant', ',', 'nisi', 'solis', 'sacerdotibus', '?', '5', 'aut', 'non', 'legistis', 'in', 'lege', 'quia', 'sabbatis', 'sacerdotes', 'in', 'templo', 'sabbatum', 'violant', ',', 'et', 'sine', 'crimine', 'sunt', '?', '6', 'Dico', 'autem', 'vobis', ',', 'quia', 'templo', 'major', 'est', 'hic', '.', '7', 'Si', 'autem', 'sciretis', ',', 'quid', 'est', ':', 'Misericordiam', 'volo', ',', 'et', 'non', 'sacrificium', ':', 'numquam', 'condemnassetis', 'innocentes', ':', '8', 'dominus', 'enim', 'est', 'Filius', 'hominis', 'etiam', 'sabbati', '.', '9', 'Et', 'cum', 'inde', 'transisset', ',', 'venit', 'in', 'synagogam', 'eorum', '.', '10', 'Et', 'ecce', 'homo', 'manum', 'habens', 'aridam', ',', 'et', 'interrogabant', 'eum', ',', 'dicentes', ':', 'Si', 'licet', 'sabbatis', 'curare', '?', 'ut', 'accusarent', 'eum', '.', '11', 'Ipse', 'autem', 'dixit', 'illis', ':', 'Quis', 'erit', 'ex', 'vobis', 'homo', ',', 'qui', 'habeat', 'ovem', 'unam', ',', 'et', 'si', 'ceciderit', 'haec', 'sabbatis', 'in', 'foveam', ',', 'nonne', 'tenebit', 'et', 'levabit', 'eam', '?', '12', 'Quanto', 'magis', 'melior', 'est', 'homo', 'ove', '?', 'itaque', 'licet', 'sabbatis', 'benefacere', '.', '13', 'Tunc', 'ait', 'homini', ':', 'Extende', 'manum', 'tuam', '.', 'Et', 'extendit', ',', 'et', 'restituta', 'est', 'sanitati', 'sicut', 'altera', '.', '14', 'Exeuntes', 'autem', 'pharisaei', ',', 'consilium', 'faciebant', 'adversus', 'eum', ',', 'quomodo', 'perderent', 'eum', '.', '15', 'Jesus', 'autem', 'sciens', 'recessit', 'inde', ':', 'et', 'secuti', 'sunt', 'eum', 'multi', ',', 'et', 'curavit', 'eos', 'omnes', ':', '16', 'et', 'praecepit', 'eis', 'ne', 'manifestum', 'eum', 'facerent', '.', '17', 'Ut', 'adimpleretur', 'quod', 'dictum', 'est', 'per', 'Isaiam', 'prophetam', ',', 'dicentem', ':', '18', 'Ecce', 'puer', 'meus', ',', 'quem', 'elegi', ',', 'dilectus', 'meus', ',', 'in', 'quo', 'bene', 'complacuit', 'animae', 'meae', '.', 'Ponam', 'spiritum', 'meum', 'super', 'eum', ',', 'et', 'judicium', 'gentibus', 'nuntiabit', '.', '19', 'Non', 'contendet', ',', 'neque', 'clamabit', ',', 'neque', 'audiet', 'aliquis', 'in', 'plateis', 'vocem', 'ejus', ':', '20', 'arundinem', 'quassatam', 'non', 'confringet', ',', 'et', 'linum', 'fumigans', 'non', 'extinguet', ',', 'donec', 'ejiciat', 'ad', 'victoriam', 'judicium', ':', '21', 'et', 'in', 'nomine', 'ejus', 'gentes', 'sperabunt', '.', '22', 'Tunc', 'oblatus', 'est', 'ei', 'daemonium', 'habens', ',', 'caecus', ',', 'et', 'mutus', ',', 'et', 'curavit', 'eum', 'ita', 'ut', 'loqueretur', ',', 'et', 'videret', '.', '23', 'Et', 'stupebant', 'omnes', 'turbae', ',', 'et', 'dicebant', ':', 'Numquid', 'hic', 'est', 'filius', 'David', '?', '24', 'Pharisaei', 'autem', 'audientes', ',', 'dixerunt', ':', 'Hic', 'non', 'ejicit', 'daemones', 'nisi', 'in', 'Beelzebub', 'principe', 'daemoniorum', '.', '25', 'Jesus', 'autem', 'sciens', 'cogitationes', 'eorum', ',', 'dixit', 'eis', ':', 'Omne', 'regnum', 'divisum', 'contra', 'se', 'desolabitur', ':', 'et', 'omnis', 'civitas', 'vel', 'domus', 'divisa', 'contra', 'se', ',', 'non', 'stabit', '.', '26', 'Et', 'si', 'Satanas', 'Satanam', 'ejicit', ',', 'adversus', 'se', 'divisus', 'est', ':', 'quomodo', 'ergo', 'stabit', 'regnum', 'ejus', '?', '27', 'Et', 'si', 'ego', 'in', 'Beelzebub', 'ejicio', 'daemones', ',', 'filii', 'vestri', 'in', 'quo', 'ejiciunt', '?', 'ideo', 'ipsi', 'judices', 'vestri', 'erunt', '.', '28', 'Si', 'autem', 'ego', 'in', 'Spiritu', 'Dei', 'ejicio', 'daemones', ',', 'igitur', 'pervenit', 'in', 'vos', 'regnum', 'Dei', '.', '29', 'Aut', 'quomodo', 'potest', 'quisquam', 'intrare', 'in', 'domum', 'fortis', ',', 'et', 'vasa', 'ejus', 'diripere', ',', 'nisi', 'prius', 'alligaverit', 'fortem', '?', 'et', 'tunc', 'domum', 'illius', 'diripiet', '.', '30', 'Qui', 'non', 'est', 'cum', 'me', ',', 'contra', 'me', 'est', ';', 'et', 'qui', 'non', 'congregat', 'cum', 'me', ',', 'spargit', '.', '31', 'Ideo', 'dico', 'vobis', ':', 'Omne', 'peccatum', 'et', 'blasphemia', 'remittetur', 'hominibus', ',', 'Spiritus', 'autem', 'blasphemia', 'non', 'remittetur', '.', '32', 'Et', 'quicumque', 'dixerit', 'verbum', 'contra', 'Filium', 'hominis', ',', 'remittetur', 'ei', ':', 'qui', 'autem', 'dixerit', 'contra', 'Spiritum', 'Sanctum', ',', 'non', 'remittetur', 'ei', ',', 'neque', 'in', 'hoc', 'saeculo', ',', 'neque', 'in', 'futuro', '.', '33', 'Aut', 'facite', 'arborem', 'bonam', ',', 'et', 'fructum', 'ejus', 'bonum', ':', 'aut', 'facite', 'arborem', 'malam', ',', 'et', 'fructum', 'ejus', 'malum', ':', 'siquidem', 'ex', 'fructu', 'arbor', 'agnoscitur', '.', '34', 'Progenies', 'viperarum', ',', 'quomodo', 'potestis', 'bona', 'loqui', ',', 'cum', 'sitis', 'mali', '?', 'ex', 'abundantia', 'enim', 'cordis', 'os', 'loquitur', '.', '35', 'Bonus', 'homo', 'de', 'bono', 'thesauro', 'profert', 'bona', ':', 'et', 'malus', 'homo', 'de', 'malo', 'thesauro', 'profert', 'mala', '.', '36', 'Dico', 'autem', 'vobis', 'quoniam', 'omne', 'verbum', 'otiosum', ',', 'quod', 'locuti', 'fuerint', 'homines', ',', 'reddent', 'rationem', 'de', 'eo', 'in', 'die', 'judicii', '.', '37', 'Ex', 'verbis', 'enim', 'tuis', 'justificaberis', 'et', 'ex', 'verbis', 'tuis', 'condemnaberis', '.', '38', 'Tunc', 'responderunt', 'ei', 'quidam', 'de', 'scribis', 'et', 'pharisaeis', ',', 'dicentes', ':', 'Magister', ',', 'volumus', 'a', 'te', 'signum', 'videre', '.', '39', 'Qui', 'respondens', 'ait', 'illis', ':', 'Generatio', 'mala', 'et', 'adultera', 'signum', 'quaerit', ':', 'et', 'signum', 'non', 'dabitur', 'ei', ',', 'nisi', 'signum', 'Jonae', 'prophetae', '.', '40', 'Sicut', 'enim', 'fuit', 'Jonas', 'in', 'ventre', 'ceti', 'tribus', 'diebus', ',', 'et', 'tribus', 'noctibus', ',', 'sic', 'erit', 'Filius', 'hominis', 'in', 'corde', 'terrae', 'tribus', 'diebus', 'et', 'tribus', 'noctibus', '.', '41', 'Viri', 'Ninivitae', 'surgent', 'in', 'judicio', 'cum', 'generatione', 'ista', ',', 'et', 'condemnabunt', 'eam', ':', 'quia', 'poenitentiam', 'egerunt', 'in', 'praedicatione', 'Jonae', ',', 'et', 'ecce', 'plus', 'quam', 'Jonas', 'hic', '.', '42', 'Regina', 'austri', 'surget', 'in', 'judicio', 'cum', 'generatione', 'ista', ',', 'et', 'condemnabit', 'eam', ':', 'quia', 'venit', 'a', 'finibus', 'terrae', 'audire', 'sapientiam', 'Salomonis', ',', 'et', 'ecce', 'plus', 'quam', 'Salomo', '-ne', 'hic', '.', '43', 'Cum', 'autem', 'immundus', 'spiritus', 'exierit', 'ab', 'homine', ',', 'ambulat', 'per', 'loca', 'arida', ',', 'quaerens', 'requiem', ',', 'et', 'non', 'invenit', '.', '44', 'Tunc', 'dicit', ':', 'Revertar', 'in', 'domum', 'meam', ',', 'unde', 'exivi', '.', 'Et', 'veniens', 'invenit', 'eam', 'vacantem', ',', 'scopis', 'mundatam', ',', 'et', 'ornatam', '.', '45', 'Tunc', 'vadit', ',', 'et', 'assumit', 'septem', 'alios', 'spiritus', 'cum', 'se', 'nequiores', 'se', ',', 'et', 'intrantes', 'habitant', 'ibi', ':', 'et', 'fiunt', 'novissima', 'hominis', 'illius', 'pejora', 'prioribus', '.', 'Sic', 'erit', 'et', 'generationi', 'huic', 'pessimae', '.', '46', 'Adhuc', 'eo', 'loquente', 'ad', 'turbas', ',', 'ecce', 'mater', 'ejus', 'et', 'fratres', 'stabant', 'foris', ',', 'quaerentes', 'loqui', 'ei', '.', '47', 'Dixit', 'autem', 'ei', 'quidam', ':', 'Ecce', 'mater', 'tua', ',', 'et', 'fratres', 'tui', 'foris', 'stant', 'quaerentes', 'te', '.', '48', 'At', 'ipse', 'respondens', 'dicenti', 'sibi', ',', 'ait', ':', 'Quae', 'est', 'mater', 'mea', ',', 'et', 'qui', 'sunt', 'fratres', 'mei', '?', '49', 'Et', 'extendens', 'manum', 'in', 'discipulos', 'suos', ',', 'dixit', ':', 'Ecce', 'mater', 'mea', ',', 'et', 'fratres', 'mei', '.', '50', 'Quicumque', 'enim', 'fecerit', 'voluntatem', 'Patris', 'mei', ',', 'qui', 'in', 'caelis', 'est', ',', 'ipse', 'meus', 'frater', ',', 'et', 'soror', ',', 'et', 'mater', 'est', '.', '13', 'In', 'illo', 'die', 'exiens', 'Jesus', 'de', 'domo', ',', 'sedebat', 'secus', 'mare', '.', '2', 'Et', 'congregatae', 'sunt', 'ad', 'eum', 'turbae', 'multae', ',', 'ita', 'ut', 'naviculam', 'ascendens', 'sederet', ':', 'et', 'omnis', 'turba', 'stabat', 'in', 'littore', ',', '3', 'et', 'locutus', 'est', 'eis', 'multa', 'in', 'parabolis', ',', 'dicens', ':', 'Ecce', 'exiit', 'qui', 'seminat', ',', 'seminare', '.', '4', 'Et', 'dum', 'seminat', ',', 'quaedam', 'ceciderunt', 'secus', 'viam', ',', 'et', 'venerunt', 'volucres', 'caeli', ',', 'et', 'comederunt', 'ea', '.', '5', 'Alia', 'autem', 'ceciderunt', 'in', 'petrosa', ',', 'ubi', 'non', 'habebant', 'terram', 'multam', ':', 'et', 'continuo', 'exorta', 'sunt', ',', 'quia', 'non', 'habebant', 'altitudinem', 'terrae', ':', '6', 'sole', 'autem', 'orto', 'aestuaverunt', ';', 'et', 'quia', 'non', 'habebant', 'radicem', ',', 'aruerunt', '.', '7', 'Alia', 'autem', 'ceciderunt', 'in', 'spinas', ':', 'et', 'creverunt', 'spinae', ',', 'et', 'suffocaverunt', 'ea', '.', '8', 'Alia', 'autem', 'ceciderunt', 'in', 'terram', 'bonam', ':', 'et', 'dabant', 'fructum', ',', 'aliud', 'centesimum', ',', 'aliud', 'sexagesimum', ',', 'aliud', 'trigesimum', '.', '9', 'Qui', 'habet', 'aures', 'audiendi', ',', 'audiat', '.', '10', 'Et', 'accedentes', 'discipuli', 'dixerunt', 'ei', ':', 'Quare', 'in', 'parabolis', 'loqueris', 'eis', '?', '11', 'Qui', 'respondens', ',', 'ait', 'illis', ':', 'Quia', 'vobis', 'datum', 'est', 'nosse', 'mysteria', 'regni', 'caelorum', ':', 'illis', 'autem', 'non', 'est', 'datum', '.', '12', 'Qui', 'enim', 'habet', ',', 'dabitur', 'ei', ',', 'et', 'abundabit', ':', 'qui', 'autem', 'non', 'habet', ',', 'et', 'quod', 'habet', 'auferetur', 'ab', 'eo', '.', '13', 'Ideo', 'in', 'parabolis', 'loquor', 'eis', ':', 'quia', 'videntes', 'non', 'vident', ',', 'et', 'audientes', 'non', 'audiunt', ',', 'neque', 'intelligunt', '.', '14', 'Et', 'adimpletur', 'in', 'eis', 'prophetia', 'Isaiae', ',', 'dicentis', ':', 'Auditu', 'audietis', ',', 'et', 'non', 'intelligetis', ':', 'et', 'videntes', 'videbitis', ',', 'et', 'non', 'videbitis', '.', '15', 'Incrassatum', 'est', 'enim', 'cor', 'populi', 'hujus', ',', 'et', 'auribus', 'graviter', 'audierunt', ',', 'et', 'oculos', 'suos', 'clauserunt', ':', 'nequando', 'videant', 'oculis', ',', 'et', 'auribus', 'audiant', ',', 'et', 'corde', 'intelligant', ',', 'et', 'convertantur', ',', 'et', 'sanem', 'eos', '.', '16', 'Vestri', 'autem', 'beati', 'oculi', 'quia', 'vident', ',', 'et', 'aures', 'vestrae', 'quia', 'audiunt', '.', '17', 'Ame', '-ne', 'quippe', 'dico', 'vobis', ',', 'quia', 'multi', 'prophetae', 'et', 'justi', 'cupierunt', 'videre', 'quae', 'videtis', ',', 'et', 'non', 'viderunt', ':', 'et', 'audire', 'quae', 'auditis', ',', 'et', 'non', 'audierunt', '.', '18', 'Vos', 'ergo', 'audite', 'parabolam', 'seminantis', '.', '19', 'Omnis', 'qui', 'audit', 'verbum', 'regni', ',', 'et', 'non', 'intelligit', ',', 'venit', 'malus', ',', 'et', 'rapit', 'quod', 'seminatum', 'est', 'in', 'corde', 'ejus', ':', 'hic', 'est', 'qui', 'secus', 'viam', 'seminatus', 'est', '.', '20', 'Qui', 'autem', 'super', 'petrosa', 'seminatus', 'est', ',', 'hic', 'est', 'qui', 'verbum', 'audit', ',', 'et', 'continuo', 'cum', 'gaudio', 'accipit', 'illud', ':', '21', 'non', 'habet', 'autem', 'in', 'se', 'radicem', ',', 'sed', 'est', 'temporalis', ':', 'facta', 'autem', 'tribulatione', 'et', 'persecutione', 'propter', 'verbum', ',', 'continuo', 'scandalizatur', '.', '22', 'Qui', 'autem', 'seminatus', 'est', 'in', 'spinis', ',', 'hic', 'est', 'qui', 'verbum', 'audit', ',', 'et', 'sollicitudo', 'saeculi', 'istius', ',', 'et', 'fallacia', 'divitiarum', 'suffocat', 'verbum', ',', 'et', 'sine', 'fructu', 'efficitur', '.', '23', 'Qui', 'vero', 'in', 'terram', 'bonam', 'seminatus', 'est', ',', 'hic', 'est', 'qui', 'audit', 'verbum', ',', 'et', 'intelligit', ',', 'et', 'fructum', 'affert', ',', 'et', 'facit', 'aliud', 'quidem', 'centesimum', ',', 'aliud', 'autem', 'sexagesimum', ',', 'aliud', 'vero', 'trigesimum', '.', '24', 'Aliam', 'parabolam', 'proposuit', 'illis', ',', 'dicens', ':', 'Simile', 'factum', 'est', 'regnum', 'caelorum', 'homini', ',', 'qui', 'seminavit', 'bonum', 'semen', 'in', 'agro', 'suo', ':', '25', 'cum', 'autem', 'dormirent', 'homines', ',', 'venit', 'inimicus', 'ejus', ',', 'et', 'superseminavit', 'zizania', 'in', 'medio', 'tritici', ',', 'et', 'abiit', '.', '26', 'Cum', 'autem', 'crevisset', 'herba', ',', 'et', 'fructum', 'fecisset', ',', 'tunc', 'apparuerunt', 'et', 'zizania', '.', '27', 'Accedentes', 'autem', 'servi', 'patrisfamilias', ',', 'dixerunt', 'ei', ':', 'Domine', ',', 'nonne', 'bonum', 'semen', 'seminasti', 'in', 'agro', 'tuo', '?', 'unde', 'ergo', 'habet', 'zizania', '?', '28', 'Et', 'ait', 'illis', ':', 'Inimicus', 'homo', 'hoc', 'fecit', '.', 'Servi', 'autem', 'dixerunt', 'ei', ':', 'Vis', ',', 'imus', ',', 'et', 'colligimus', 'ea', '?', '29', 'Et', 'ait', ':', 'Non', ':', 'ne', 'forte', 'colligentes', 'zizania', ',', 'eradicetis', 'simul', 'cum', 'eis', 'et', 'triticum', '.', '30', 'Sinite', 'utraque', 'crescere', 'usque', 'ad', 'messem', ',', 'et', 'in', 'tempore', 'messis', 'dicam', 'messoribus', ':', 'Colligite', 'primum', 'zizania', ',', 'et', 'alligate', 'ea', 'in', 'fasciculos', 'ad', 'comburendum', ':', 'triticum', 'autem', 'congregate', 'in', 'horreum', 'meum', '.', '31', 'Aliam', 'parabolam', 'proposuit', 'eis', 'dicens', ':', 'Simile', 'est', 'regnum', 'caelorum', 'grano', 'sinapis', ',', 'quod', 'accipiens', 'homo', 'seminavit', 'in', 'agro', 'suo', ':', '32', 'quod', 'minimum', 'quidem', 'est', 'omnibus', 'seminibus', ':', 'cum', 'autem', 'creverit', ',', 'majus', 'est', 'omnibus', 'oleribus', ',', 'et', 'fit', 'arbor', ',', 'ita', 'ut', 'volucres', 'caeli', 'veniant', ',', 'et', 'habitent', 'in', 'ramis', 'ejus', '.', '33', 'Aliam', 'parabolam', 'locutus', 'est', 'eis', ':', 'Simile', 'est', 'regnum', 'caelorum', 'fermento', ',', 'quod', 'acceptum', 'mulier', 'abscondit', 'in', 'farinae', 'satis', 'tribus', ',', 'donec', 'fermentatum', 'est', 'totum', '.', '34', 'Haec', 'omnia', 'locutus', 'est', 'Jesus', 'in', 'parabolis', 'ad', 'turbas', ':', 'et', 'sine', 'parabolis', 'non', 'loquebatur', 'eis', ':', '35', 'ut', 'impleretur', 'quod', 'dictum', 'erat', 'per', 'prophetam', 'dicentem', ':', 'Aperiam', 'in', 'parabolis', 'os', 'meum', ';', 'eructabo', 'abscondita', 'a', 'constitutione', 'mundi', '.', '36', 'Tunc', ',', 'dimissis', 'turbis', ',', 'venit', 'in', 'domum', ':', 'et', 'accesserunt', 'ad', 'eum', 'discipuli', 'ejus', ',', 'dicentes', ':', 'Edissere', 'nobis', 'parabolam', 'zizaniorum', 'agri', '.', '37', 'Qui', 'respondens', 'ait', 'illis', ':', 'Qui', 'seminat', 'bonum', 'semen', ',', 'est', 'Filius', 'hominis', '.', '38', 'Ager', 'autem', 'est', 'mundus', '.', 'Bonum', 'vero', 'semen', ',', 'hi', 'sunt', 'filii', 'regni', '.', 'Zizania', 'autem', ',', 'filii', 'sunt', 'nequam', '.', '39', 'Inimicus', 'autem', ',', 'qui', 'seminavit', 'ea', ',', 'est', 'diabolus', '.', 'Messis', 'vero', ',', 'consummatio', 'saeculi', 'est', '.', 'Messores', 'autem', ',', 'angeli', 'sunt', '.', '40', 'Sicut', 'ergo', 'colliguntur', 'zizania', ',', 'et', 'igni', 'comburuntur', ':', 'sic', 'erit', 'in', 'consummatione', 'saeculi', '.', '41', 'Mittet', 'Filius', 'hominis', 'angelos', 'suos', ',', 'et', 'colligent', 'de', 'regno', 'ejus', 'omnia', 'scandala', ',', 'et', 'eos', 'qui', 'faciunt', 'iniquitatem', ':', '42', 'et', 'mittent', 'eos', 'in', 'caminum', 'ignis', '.', 'Ibi', 'erit', 'fletus', 'et', 'stridor', 'dentium', '.', '43', 'Tunc', 'justi', 'fulgebunt', 'sicut', 'sol', 'in', 'regno', 'Patris', 'eorum', '.', 'Qui', 'habet', 'aures', 'audiendi', ',', 'audiat', '.', '44', 'Simile', 'est', 'regnum', 'caelorum', 'thesauro', 'abscondito', 'in', 'agro', ':', 'quem', 'qui', 'invenit', 'homo', ',', 'abscondit', ',', 'et', 'prae', 'gaudio', 'illius', 'vadit', ',', 'et', 'vendit', 'universa', 'quae', 'habet', ',', 'et', 'emit', 'agrum', 'illum', '.', '45', 'Iterum', 'simile', 'est', 'regnum', 'caelorum', 'homini', 'negotiatori', ',', 'quaerenti', 'bonas', 'margaritas', '.', '46', 'Inventa', 'autem', 'una', 'pretiosa', 'margarita', ',', 'abiit', ',', 'et', 'vendidit', 'omnia', 'quae', 'habuit', ',', 'et', 'emit', 'eam', '.', '47', 'Iterum', 'simile', 'est', 'regnum', 'caelorum', 'sagenae', 'missae', 'in', 'mare', ',', 'et', 'ex', 'omni', 'genere', 'piscium', 'congreganti', '.', '48', 'Quam', ',', 'cum', 'impleta', 'esset', ',', 'educentes', ',', 'et', 'secus', 'littus', 'sedentes', ',', 'elegerunt', 'bonos', 'in', 'vasa', ',', 'malos', 'autem', 'foras', 'miserunt', '.', '49', 'Sic', 'erit', 'in', 'consummatione', 'saeculi', ':', 'exibunt', 'angeli', ',', 'et', 'separabunt', 'malos', 'de', 'medio', 'justorum', ',', '50', 'et', 'mittent', 'eos', 'in', 'caminum', 'ignis', ':', 'ibi', 'erit', 'fletus', ',', 'et', 'stridor', 'dentium', '.', '51', 'Intellexistis', 'haec', 'omnia', '?', 'Dicunt', 'ei', ':', 'Etiam', '.', '52', 'Ait', 'illis', ':', 'Ideo', 'omnis', 'scriba', 'doctus', 'in', 'regno', 'caelorum', ',', 'similis', 'est', 'homini', 'patrifamilias', ',', 'qui', 'profert', 'de', 'thesauro', 'suo', 'nova', 'et', 'vetera', '.', '53', 'Et', 'factum', 'est', ',', 'cum', 'consummasset', 'Jesus', 'parabolas', 'istas', ',', 'transiit', 'inde', '.', '54', 'Et', 'veniens', 'in', 'patriam', 'suam', ',', 'docebat', 'eos', 'in', 'synagogis', 'eorum', ',', 'ita', 'ut', 'mirarentur', ',', 'et', 'dicerent', ':', 'Unde', 'huic', 'sapientia', 'haec', ',', 'et', 'virtutes', '?', '55', 'Nonne', 'hic', 'est', 'fabri', 'filius', '?', 'nonne', 'mater', 'ejus', 'dicitur', 'Maria', ',', 'et', 'fratres', 'ejus', ',', 'Jacobus', ',', 'et', 'Joseph', ',', 'et', 'Simo', '-ne', ',', 'et', 'Judas', '?', '56', 'et', 'sorores', 'ejus', ',', 'nonne', 'omnes', 'apud', 'nos', 'sunt', '?', 'unde', 'ergo', 'huic', 'omnia', 'ista', '?', '57', 'Et', 'scandalizabantur', 'in', 'eo', '.', 'Jesus', 'autem', 'dixit', 'eis', ':', 'Non', 'est', 'propheta', 'sine', 'honore', ',', 'nisi', 'in', 'patria', 'sua', ',', 'et', 'in', 'domo', 'sua', '.', '58', 'Et', 'non', 'fecit', 'ibi', 'virtutes', 'multas', 'propter', 'incredulitatem', 'illorum', '.', '14', 'In', 'illo', 'tempore', 'audivit', 'Herodes', 'tetrarcha', 'famam', 'Jesu', ':', '2', 'et', 'ait', 'pueris', 'suis', ':', 'Hic', 'est', 'Joannes', 'Baptista', ':', 'ipse', 'surrexit', 'a', 'mortuis', ',', 'et', 'ideo', 'virtutes', 'operantur', 'in', 'eo', '.', '3', 'Herodes', 'enim', 'tenuit', 'Joannem', ',', 'et', 'alligavit', 'eum', ':', 'et', 'posuit', 'in', 'carcerem', 'propter', 'Herodiadem', 'uxorem', 'fratris', 'sui', '.', '4', 'Dicebat', 'enim', 'illi', 'Joannes', ':', 'Non', 'licet', 'tibi', 'habere', 'eam', '.', '5', 'Et', 'volens', 'illum', 'occidere', ',', 'timuit', 'populum', ':', 'quia', 'sicut', 'prophetam', 'eum', 'habebant', '.', '6', 'Die', 'autem', 'natalis', 'Herodis', 'saltavit', 'filia', 'Herodiadis', 'in', 'medio', ',', 'et', 'placuit', 'Herodi', ':', '7', 'unde', 'cum', 'juramento', 'pollicitus', 'est', 'ei', 'dare', 'quodcumque', 'postulasset', 'ab', 'eo', '.', '8', 'At', 'illa', 'praemonita', 'a', 'matre', 'sua', ':', 'Da', 'mihi', ',', 'inquit', ',', 'hic', 'in', 'disco', 'caput', 'Joannis', 'Baptistae', '.', '9', 'Et', 'contristatus', 'est', 'rex', ':', 'propter', 'juramentum', 'autem', ',', 'et', 'eos', 'qui', 'pariter', 'recumbebant', ',', 'jussit', 'dari', '.', '10', 'Misitque', 'et', 'decollavit', 'Joannem', 'in', 'carcere', '.', '11', 'Et', 'allatum', 'est', 'caput', 'ejus', 'in', 'disco', ',', 'et', 'datum', 'est', 'puellae', ',', 'et', 'attulit', 'matri', 'suae', '.', '12', 'Et', 'accedentes', 'discipuli', 'ejus', ',', 'tulerunt', 'corpus', 'ejus', ',', 'et', 'sepelierunt', 'illud', ':', 'et', 'venientes', 'nuntiaverunt', 'Jesu', '.', '13', 'Quod', 'cum', 'audisset', 'Jesus', ',', 'secessit', 'inde', 'in', 'navicula', ',', 'in', 'locum', 'desertum', 'seorsum', ':', 'et', 'cum', 'audissent', 'turbae', ',', 'secutae', 'sunt', 'eum', 'pedestres', 'de', 'civitatibus', '.', '14', 'Et', 'exiens', 'vidit', 'turbam', 'multam', ',', 'et', 'misertus', 'est', 'eis', ',', 'et', 'curavit', 'languidos', 'eorum', '.', '15', 'Vespere', 'autem', 'facto', ',', 'accesserunt', 'ad', 'eum', 'discipuli', 'ejus', ',', 'dicentes', ':', 'Desertus', 'est', 'locus', ',', 'et', 'hora', 'jam', 'praeteriit', ':', 'dimitte', 'turbas', ',', 'ut', 'euntes', 'in', 'castella', ',', 'emant', 'sibi', 'escas', '.', '16', 'Jesus', 'autem', 'dixit', 'eis', ':', 'Non', 'habent', 'necesse', 'ire', ':', 'date', 'illis', 'vos', 'manducare', '.', '17', 'Responderunt', 'ei', ':', 'Non', 'habemus', 'hic', 'nisi', 'quinque', 'panes', 'et', 'duos', 'pisces', '.', '18', 'Qui', 'ait', 'eis', ':', 'Afferte', 'mihi', 'illos', 'huc', '.', '19', 'Et', 'cum', 'jussisset', 'turbam', 'discumbere', 'super', 'foenum', ',', 'acceptis', 'quinque', 'panibus', 'et', 'duobus', 'piscibus', ',', 'aspiciens', 'in', 'caelum', 'benedixit', ',', 'et', 'fregit', ',', 'et', 'dedit', 'discipulis', 'panes', ',', 'discipuli', 'autem', 'turbis', '.', '20', 'Et', 'manducaverunt', 'omnes', ',', 'et', 'saturati', 'sunt', '.', 'Et', 'tulerunt', 'reliquias', ',', 'duodecim', 'cophinos', 'fragmentorum', 'plenos', '.', '21', 'Manducantium', 'autem', 'fuit', 'numerus', 'quinque', 'millia', 'virorum', ',', 'exceptis', 'mulieribus', 'et', 'parvulis', '.', '22', 'Et', 'statim', 'compulit', 'Jesus', 'discipulos', 'ascendere', 'in', 'naviculam', ',', 'et', 'praecedere', 'eum', 'trans', 'fretum', ',', 'donec', 'dimitteret', 'turbas', '.', '23', 'Et', 'dimissa', 'turba', ',', 'ascendit', 'in', 'montem', 'solus', 'orare', '.', 'Vespere', 'autem', 'facto', 'solus', 'erat', 'ibi', ':', '24', 'navicula', 'autem', 'in', 'medio', 'mari', 'jactabatur', 'fluctibus', ':', 'erat', 'enim', 'contrarius', 'ventus', '.', '25', 'Quarta', 'enim', 'vigilia', 'noctis', ',', 'venit', 'ad', 'eos', 'ambulans', 'super', 'mare', '.', '26', 'Et', 'videntes', 'eum', 'super', 'mare', 'ambulantem', ',', 'turbati', 'sunt', ',', 'dicentes', ':', 'Quia', 'phantasma', 'est', '.', 'Et', 'prae', 'timore', 'clamaverunt', '.', '27', 'Statimque', 'Jesus', 'locutus', 'est', 'eis', ',', 'dicens', ':', 'Habete', 'fiduciam', ':', 'ego', 'sum', ',', 'nolite', 'timere', '.', '28', 'Respondens', 'autem', 'Petrus', ',', 'dixit', ':', 'Domine', ',', 'si', 'tu', 'es', ',', 'jube', 'me', 'ad', 'te', 'venire', 'super', 'aquas', '.', '29', 'At', 'ipse', 'ait', ':', 'Veni', '.', 'Et', 'descendens', 'Petrus', 'de', 'navicula', ',', 'ambulabat', 'super', 'aquam', 'ut', 'veniret', 'ad', 'Jesum', '.', '30', 'Videns', 'vero', 'ventum', 'validum', ',', 'timuit', ':', 'et', 'cum', 'coepisset', 'mergi', ',', 'clamavit', 'dicens', ':', 'Domine', ',', 'salvum', 'me', 'fac', '.', '31', 'Et', 'continuo', 'Jesus', 'extendens', 'manum', ',', 'apprehendit', 'eum', ':', 'et', 'ait', 'illi', ':', 'Modicae', 'fidei', ',', 'quare', 'dubitasti', '?', '32', 'Et', 'cum', 'ascendissent', 'in', 'naviculam', ',', 'cessavit', 'ventus', '.', '33', 'Qui', 'autem', 'in', 'navicula', 'erant', ',', 'venerunt', ',', 'et', 'adoraverunt', 'eum', ',', 'dicentes', ':', 'Vere', 'Filius', 'Dei', 'es', '.', '34', 'Et', 'cum', 'transfretassent', ',', 'venerunt', 'in', 'terram', 'Genesar', '.', '35', 'Et', 'cum', 'cognovissent', 'eum', 'viri', 'loci', 'illius', ',', 'miserunt', 'in', 'universam', 'regionem', 'illam', ',', 'et', 'obtulerunt', 'ei', 'omnes', 'male', 'habentes', ':', '36', 'et', 'rogabant', 'eum', 'ut', 'vel', 'fimbriam', 'vestimenti', 'ejus', 'tangerent', '.', 'Et', 'quicumque', 'tetigerunt', ',', 'salvi', 'facti', 'sunt', '.', '15', 'Tunc', 'accesserunt', 'ad', 'eum', 'ab', 'Jerosolymis', 'scribae', 'et', 'pharisaei', ',', 'dicentes', ':', '2', 'Quare', 'discipuli', 'tui', 'transgrediuntur', 'traditionem', 'seniorum', '?', 'non', 'enim', 'lavant', 'manus', 'suas', 'cum', 'panem', 'manducant', '.', '3', 'Ipse', 'autem', 'respondens', 'ait', 'illis', ':', 'Quare', 'et', 'vos', 'transgredimini', 'mandatum', 'Dei', 'propter', 'traditionem', 'vestram', '?', 'Nam', 'Deus', 'dixit', ':', '4', 'Honora', 'patrem', ',', 'et', 'matrem', ':', 'et', ',', 'Qui', 'maledixerit', 'patri', ',', 'vel', 'matri', ',', 'morte', 'moriatur', '.', '5', 'Vos', 'autem', 'dicitis', ':', 'Quicumque', 'dixerit', 'patri', ',', 'vel', 'matri', ':', 'Munus', ',', 'quodcumque', 'est', 'ex', 'me', ',', 'tibi', 'proderit', ':', '6', 'et', 'non', 'honorificabit', 'patrem', 'suum', ',', 'aut', 'matrem', 'suam', ':', 'et', 'irritum', 'fecistis', 'mandatum', 'Dei', 'propter', 'traditionem', 'vestram', '.', '7', 'Hypocritae', ',', 'bene', 'prophetavit', 'de', 'vobis', 'Isaias', ',', 'dicens', ':', '8', 'Populus', 'hic', 'labiis', 'me', 'honorat', ':', 'cor', 'autem', 'eorum', 'longe', 'est', 'a', 'me', '.', '9', 'Sine', 'causa', 'autem', 'colunt', 'me', ',', 'docentes', 'doctrinas', 'et', 'mandata', 'hominum', '.', '10', 'Et', 'convocatis', 'ad', 'se', 'turbis', ',', 'dixit', 'eis', ':', 'Audite', ',', 'et', 'intelligite', '.', '11', 'Non', 'quod', 'intrat', 'in', 'os', ',', 'coinquinat', 'hominem', ':', 'sed', 'quod', 'procedit', 'ex', 'ore', ',', 'hoc', 'coinquinat', 'hominem', '.', '12', 'Tunc', 'accedentes', 'discipuli', 'ejus', ',', 'dixerunt', 'ei', ':', 'Scis', 'quia', 'pharisaei', 'audito', 'verbo', 'hoc', ',', 'scandalizati', 'sunt', '?', '13', 'At', 'ille', 'respondens', 'ait', ':', 'Omnis', 'plantatio', ',', 'quam', 'non', 'plantavit', 'Pater', 'meus', 'caelestis', ',', 'eradicabitur', '.', '14', 'Sinite', 'illos', ':', 'caeci', 'sunt', ',', 'et', 'duces', 'caecorum', ';', 'caecus', 'autem', 'si', 'caeco', 'ducatum', 'praestet', ',', 'ambo', 'in', 'foveam', 'cadunt', '.', '15', 'Respondens', 'autem', 'Petrus', 'dixit', 'ei', ':', 'Edissere', 'nobis', 'parabolam', 'istam', '.', '16', 'At', 'ille', 'dixit', ':', 'Adhuc', 'et', 'vos', 'sine', 'intellectu', 'estis', '?', '17', 'Non', 'intelligitis', 'quia', 'omne', 'quod', 'in', 'os', 'intrat', ',', 'in', 'ventrem', 'vadit', ',', 'et', 'in', 'secessum', 'emittitur', '?', '18', 'Quae', 'autem', 'procedunt', 'de', 'ore', ',', 'de', 'corde', 'exeunt', ',', 'et', 'ea', 'coinquinant', 'hominem', ':', '19', 'de', 'corde', 'enim', 'exeunt', 'cogitationes', 'malae', ',', 'homicidia', ',', 'adulteria', ',', 'fornicationes', ',', 'furta', ',', 'falsa', 'testimonia', ',', 'blasphemiae', ':', '20', 'haec', 'sunt', ',', 'quae', 'coinquinant', 'hominem', '.', 'Non', 'lotis', 'autem', 'manibus', 'manducare', ',', 'non', 'coinquinat', 'hominem', '.', '21', 'Et', 'egressus', 'inde', 'Jesus', 'secessit', 'in', 'partes', 'Tyri', 'et', 'Sidonis', '.', '22', 'Et', 'ecce', 'mulier', 'chananaea', 'a', 'finibus', 'illis', 'egressa', 'clamavit', ',', 'dicens', 'ei', ':', 'Miserere', 'mei', ',', 'Domine', 'fili', 'David', ':', 'filia', 'mea', 'male', 'a', 'daemonio', 'vexatur', '.', '23', 'Qui', 'non', 'respondit', 'ei', 'verbum', '.', 'Et', 'accedentes', 'discipuli', 'ejus', 'rogabant', 'eum', 'dicentes', ':', 'Dimitte', 'eam', ':', 'quia', 'clamat', 'post', 'nos', '.', '24', 'Ipse', 'autem', 'respondens', 'ait', ':', 'Non', 'sum', 'missus', 'nisi', 'ad', 'oves', ',', 'quae', 'perierunt', 'domus', 'Israel', '.', '25', 'At', 'illa', 'venit', ',', 'et', 'adoravit', 'eum', ',', 'dicens', ':', 'Domine', ',', 'adjuva', 'me', '.', '26', 'Qui', 'respondens', 'ait', ':', 'Non', 'est', 'bonum', 'sumere', 'panem', 'filiorum', ',', 'et', 'mittere', 'canibus', '.', '27', 'At', 'illa', 'dixit', ':', 'Etiam', 'Domine', ':', 'nam', 'et', 'catelli', 'edunt', 'de', 'micis', 'quae', 'cadunt', 'de', 'mensa', 'dominorum', 'suorum', '.', '28', 'Tunc', 'respondens', 'Jesus', ',', 'ait', 'illi', ':', 'O', 'mulier', ',', 'magna', 'est', 'fides', 'tua', ':', 'fiat', 'tibi', 'sicut', 'vis', '.', 'Et', 'sanata', 'est', 'filia', 'ejus', 'ex', 'illa', 'hora', '.', '29', 'Et', 'cum', 'transisset', 'inde', 'Jesus', ',', 'venit', 'secus', 'mare', 'Galilaeae', ':', 'et', 'ascendens', 'in', 'montem', ',', 'sedebat', 'ibi', '.', '30', 'Et', 'accesserunt', 'ad', 'eum', 'turbae', 'multae', ',', 'habentes', 'cum', 'se', 'mutos', ',', 'caecos', ',', 'claudos', ',', 'debiles', ',', 'et', 'alios', 'multos', ':', 'et', 'projecerunt', 'eos', 'ad', 'pedes', 'ejus', ',', 'et', 'curavit', 'eos', ',', '31', 'ita', 'ut', 'turbae', 'mirarentur', ',', 'videntes', 'mutos', 'loquentes', ',', 'claudos', 'ambulantes', ',', 'caecos', 'videntes', ':', 'et', 'magnificabant', 'Deum', 'Israel', '.', '32', 'Jesus', 'autem', ',', 'convocatis', 'discipulis', 'suis', ',', 'dixit', ':', 'Misereor', 'turbae', ',', 'quia', 'triduo', 'jam', 'perseverant', 'cum', 'me', ',', 'et', 'non', 'habent', 'quod', 'manducent', ':', 'et', 'dimittere', 'eos', 'jejunos', 'nolo', ',', 'ne', 'deficiant', 'in', 'via', '.', '33', 'Et', 'dicunt', 'ei', 'discipuli', ':', 'Unde', 'ergo', 'nobis', 'in', 'deserto', 'panes', 'tantos', ',', 'ut', 'saturemus', 'turbam', 'tantam', '?', '34', 'Et', 'ait', 'illis', 'Jesus', ':', 'Quot', 'habetis', 'panes', '?', 'At', 'illi', 'dixerunt', ':', 'Septem', ',', 'et', 'paucos', 'pisciculos', '.', '35', 'Et', 'praecepit', 'turbae', 'ut', 'discumberent', 'super', 'terram', '.', '36', 'Et', 'accipiens', 'septem', 'panes', ',', 'et', 'pisces', ',', 'et', 'gratias', 'agens', ',', 'fregit', ',', 'et', 'dedit', 'discipulis', 'suis', ',', 'et', 'discipuli', 'dederunt', 'populo', '.', '37', 'Et', 'comederunt', 'omnes', ',', 'et', 'saturati', 'sunt', '.', 'Et', 'quod', 'superfuit', 'de', 'fragmentis', ',', 'tulerunt', 'septem', 'sportas', 'plenas', '.', '38', 'Erant', 'autem', 'qui', 'manducaverunt', 'quatuor', 'millia', 'hominum', ',', 'extra', 'parvulos', 'et', 'mulieres', '.', '39', 'Et', ',', 'dimissa', 'turba', ',', 'ascendit', 'in', 'naviculam', ':', 'et', 'venit', 'in', 'fines', 'Mageda', '-ne', '.', '16', 'Et', 'accesserunt', 'ad', 'eum', 'pharisaei', 'et', 'sadducaei', 'tentantes', ':', 'et', 'rogaverunt', 'eum', 'ut', 'signum', 'de', 'caelo', 'ostenderet', 'eis', '.', '2', 'At', 'ille', 'respondens', ',', 'ait', 'illis', ':', 'Facto', 'vespere', 'dicitis', ':', 'Serenum', 'erit', ',', 'rubicundum', 'est', 'enim', 'caelum', '.', '3', 'Et', 'mane', ':', 'Hodie', 'tempestas', ',', 'rutilat', 'enim', 'triste', 'caelum', '.', '4', 'Faciem', 'ergo', 'caeli', 'dijudicare', 'nostis', ':', 'signa', 'autem', 'temporum', 'non', 'potestis', 'scire', '?', 'Generatio', 'mala', 'et', 'adultera', 'signum', 'quaerit', ':', 'et', 'signum', 'non', 'dabitur', 'ei', ',', 'nisi', 'signum', 'Jonae', 'prophetae', '.', 'Et', 'relictis', 'illis', ',', 'abiit', '.', '5', 'Et', 'cum', 'venissent', 'discipuli', 'ejus', 'trans', 'fretum', ',', 'obliti', 'sunt', 'panes', 'accipere', '.', '6', 'Qui', 'dixit', 'illis', ':', 'Intuemini', ',', 'et', 'cavete', 'a', 'fermento', 'pharisaeorum', 'et', 'sadducaeorum', '.', '7', 'At', 'illi', 'cogitabant', 'intra', 'se', 'dicentes', ':', 'Quia', 'panes', 'non', 'accepimus', '.', '8', 'Sciens', 'autem', 'Jesus', ',', 'dixit', ':', 'Quid', 'cogitatis', 'intra', 'vos', 'modicae', 'fidei', ',', 'quia', 'panes', 'non', 'habetis', '?', '9', 'Nondum', 'intelligitis', ',', 'neque', 'recordamini', 'quinque', 'panum', 'in', 'quinque', 'millia', 'hominum', ',', 'et', 'quot', 'cophinos', 'sumpsistis', '?', '10', 'neque', 'septem', 'panum', 'in', 'quatuor', 'millia', 'hominum', ',', 'et', 'quot', 'sportas', 'sumpsistis', '?', '11', 'Quare', 'non', 'intelligitis', ',', 'quia', 'non', 'de', 'pane', 'dixi', 'vobis', ':', 'Cavete', 'a', 'fermento', 'pharisaeorum', 'et', 'sadducaeorum', '?', '12', 'Tunc', 'intellexerunt', 'quia', 'non', 'dixerit', 'cavendum', 'a', 'fermento', 'panum', ',', 'sed', 'a', 'doctrina', 'pharisaeorum', 'et', 'sadducaeorum', '.', '13', 'Venit', 'autem', 'Jesus', 'in', 'partes', 'Caesareae', 'Philippi', ':', 'et', 'interrogabat', 'discipulos', 'suos', ',', 'dicens', ':', 'Quem', 'dicunt', 'homines', 'esse', 'Filium', 'hominis', '?', '14', 'At', 'illi', 'dixerunt', ':', 'Alii', 'Joannem', 'Baptistam', ',', 'alii', 'autem', 'Eliam', ',', 'alii', 'vero', 'Jeremiam', ',', 'aut', 'unum', 'ex', 'prophetis', '.', '15', 'Dicit', 'illis', 'Jesus', ':', 'Vos', 'autem', ',', 'quem', 'me', 'esse', 'dicitis', '?', '16', 'Respondens', 'Simo', '-ne', 'Petrus', 'dixit', ':', 'Tu', 'es', 'Christus', ',', 'Filius', 'Dei', 'vivi', '.', '17', 'Respondens', 'autem', 'Jesus', ',', 'dixit', 'ei', ':', 'Beatus', 'es', 'Simo', '-ne', 'Bar', 'Jona', ':', 'quia', 'caro', 'et', 'sanguis', 'non', 'revelavit', 'tibi', ',', 'sed', 'Pater', 'meus', ',', 'qui', 'in', 'caelis', 'est', '.', '18', 'Et', 'ego', 'dico', 'tibi', ',', 'quia', 'tu', 'es', 'Petrus', ',', 'et', 'super', 'hanc', 'petram', 'aedificabo', 'Ecclesiam', 'meam', ',', 'et', 'portae', 'inferi', 'non', 'praevalebunt', 'adversus', 'eam', '.', '19', 'Et', 'tibi', 'dabo', 'claves', 'regni', 'caelorum', '.', 'Et', 'quodcumque', 'ligaveris', 'super', 'terram', ',', 'erit', 'ligatum', 'et', 'in', 'caelis', ':', 'et', 'quodcumque', 'solveris', 'super', 'terram', ',', 'erit', 'solutum', 'et', 'in', 'caelis', '.', '20', 'Tunc', 'praecepit', 'discipulis', 'suis', 'ut', 'nemini', 'dicerent', 'quia', 'ipse', 'esset', 'Jesus', 'Christus', '.', '21', 'Exinde', 'coepit', 'Jesus', 'ostendere', 'discipulis', 'suis', ',', 'quia', 'oporteret', 'eum', 'ire', 'Jerosolymam', ',', 'et', 'multa', 'pati', 'a', 'senioribus', ',', 'et', 'scribis', ',', 'et', 'principibus', 'sacerdotum', ',', 'et', 'occidi', ',', 'et', 'tertia', 'die', 'resurgere', '.', '22', 'Et', 'assumens', 'eum', 'Petrus', ',', 'coepit', 'increpare', 'illum', 'dicens', ':', 'Absit', 'a', 'te', ',', 'Domine', ':', 'non', 'erit', 'tibi', 'hoc', '.', '23', 'Qui', 'conversus', ',', 'dixit', 'Petro', ':', 'Vade', 'post', 'me', 'Satana', ',', 'scandalum', 'es', 'mihi', ':', 'quia', 'non', 'sapis', 'ea', 'quae', 'Dei', 'sunt', ',', 'sed', 'ea', 'quae', 'hominum', '.', '24', 'Tunc', 'Jesus', 'dixit', 'discipulis', 'suis', ':', 'Si', 'quis', 'vult', 'post', 'me', 'venire', ',', 'abneget', 'semetipsum', ',', 'et', 'tollat', 'crucem', 'suam', ',', 'et', 'sequatur', 'me', '.', '25', 'Qui', 'enim', 'voluerit', 'animam', 'suam', 'salvam', 'facere', ',', 'perdet', 'eam', ':', 'qui', 'autem', 'perdiderit', 'animam', 'suam', 'propter', 'me', ',', 'inveniet', 'eam', '.', '26', 'Quid', 'enim', 'prodest', 'homini', ',', 'si', 'mundum', 'universum', 'lucretur', ',', 'animae', 'vero', 'suae', 'detrimentum', 'patiatur', '?', 'aut', 'quam', 'dabit', 'homo', 'commutationem', 'pro', 'anima', 'sua', '?', '27', 'Filius', 'enim', 'hominis', 'venturus', 'est', 'in', 'gloria', 'Patris', 'sui', 'cum', 'angelis', 'suis', ':', 'et', 'tunc', 'reddet', 'unicuique', 'secundum', 'opera', 'ejus', '.', '28', 'Ame', '-ne', 'dico', 'vobis', ',', 'sunt', 'quidam', 'de', 'hic', 'stantibus', ',', 'qui', 'non', 'gustabunt', 'mortem', ',', 'donec', 'videant', 'Filium', 'hominis', 'venientem', 'in', 'regno', 'suo', '.', '17', 'Et', 'post', 'dies', 'sex', 'assumit', 'Jesus', 'Petrum', ',', 'et', 'Jacobum', ',', 'et', 'Joannem', 'fratrem', 'ejus', ',', 'et', 'ducit', 'illos', 'in', 'montem', 'excelsum', 'seorsum', ':', '2', 'et', 'transfiguratus', 'est', 'ante', 'eos', '.', 'Et', 'resplenduit', 'facies', 'ejus', 'sicut', 'sol', ':', 'vestimenta', 'autem', 'ejus', 'facta', 'sunt', 'alba', 'sicut', 'nix', '.', '3', 'Et', 'ecce', 'apparuerunt', 'illis', 'Moyses', 'et', 'Elias', 'cum', 'eo', 'loquentes', '.', '4', 'Respondens', 'autem', 'Petrus', ',', 'dixit', 'ad', 'Jesum', ':', 'Domine', ',', 'bonum', 'est', 'nos', 'hic', 'esse', ':', 'si', 'vis', ',', 'faciamus', 'tria', 'tabernacula', ',', 'tibi', 'unum', ',', 'Moysi', 'unum', ',', 'et', 'Eliae', 'unum', '.', '5', 'Adhuc', 'eo', 'loquente', ',', 'ecce', 'nubes', 'lucida', 'obumbravit', 'eos', '.', 'Et', 'ecce', 'vox', 'de', 'nube', ',', 'dicens', ':', 'Hic', 'est', 'Filius', 'meus', 'dilectus', ',', 'in', 'quo', 'mihi', 'bene', 'complacui', ':', 'ipsum', 'audite', '.', '6', 'Et', 'audientes', 'discipuli', 'ceciderunt', 'in', 'faciem', 'suam', ',', 'et', 'timuerunt', 'valde', '.', '7', 'Et', 'accessit', 'Jesus', ',', 'et', 'tetigit', 'eos', ':', 'dixitque', 'eis', ':', 'Surgite', ',', 'et', 'nolite', 'timere', '.', '8', 'Levantes', 'autem', 'oculos', 'suos', ',', 'neminem', 'viderunt', ',', 'nisi', 'solum', 'Jesum', '.', '9', 'Et', 'descendentibus', 'illis', 'de', 'monte', ',', 'praecepit', 'eis', 'Jesus', ',', 'dicens', ':', 'Nemini', 'dixeritis', 'visionem', ',', 'donec', 'Filius', 'hominis', 'a', 'mortuis', 'resurgat', '.', '10', 'Et', 'interrogaverunt', 'eum', 'discipuli', ',', 'dicentes', ':', 'Quid', 'ergo', 'scribae', 'dicunt', ',', 'quod', 'Eliam', 'oporteat', 'primum', 'venire', '?', '11', 'At', 'ille', 'respondens', ',', 'ait', 'eis', ':', 'Elias', 'quidem', 'venturus', 'est', ',', 'et', 'restituet', 'omnia', '.', '12', 'Dico', 'autem', 'vobis', ',', 'quia', 'Elias', 'jam', 'venit', ',', 'et', 'non', 'cognoverunt', 'eum', ',', 'sed', 'fecerunt', 'in', 'eo', 'quaecumque', 'voluerunt', '.', 'Sic', 'et', 'Filius', 'hominis', 'passurus', 'est', 'ab', 'eis', '.', '13', 'Tunc', 'intellexerunt', 'discipuli', ',', 'quia', 'de', 'Joanne', 'Baptista', 'dixisset', 'eis', '.', '14', 'Et', 'cum', 'venisset', 'ad', 'turbam', ',', 'accessit', 'ad', 'eum', 'homo', 'genibus', 'provolutus', 'ante', 'eum', ',', 'dicens', ':', 'Domine', ',', 'miserere', 'filio', 'meo', ',', 'quia', 'lunaticus', 'est', ',', 'et', 'male', 'patitur', ':', 'nam', 'saepe', 'cadit', 'in', 'ignem', ',', 'et', 'crebro', 'in', 'aquam', '.', '15', 'Et', 'obtuli', 'eum', 'discipulis', 'tuis', ',', 'et', 'non', 'potuerunt', 'curare', 'eum', '.', '16', 'Respondens', 'autem', 'Jesus', ',', 'ait', ':', 'O', 'generatio', 'incredula', ',', 'et', 'perversa', ',', 'quousque', 'ero', 'cum', 'vobis', '?', 'usquequo', 'patiar', 'vos', '?', 'Afferte', 'huc', 'illum', 'ad', 'me', '.', '17', 'Et', 'increpavit', 'illum', 'Jesus', ',', 'et', 'exiit', 'ab', 'eo', 'daemonium', ',', 'et', 'curatus', 'est', 'puer', 'ex', 'illa', 'hora', '.', '18', 'Tunc', 'accesserunt', 'discipuli', 'ad', 'Jesum', 'secreto', ',', 'et', 'dixerunt', ':', 'Quare', 'nos', 'non', 'potuimus', 'ejicere', 'illum', '?', '19', 'Dixit', 'illis', 'Jesus', ':', 'Propter', 'incredulitatem', 'vestram', '.', 'Ame', '-ne', 'quippe', 'dico', 'vobis', ',', 'si', 'habueritis', 'fidem', 'sicut', 'granum', 'sinapis', ',', 'dicetis', 'monti', 'huic', ':', 'Transi', 'hinc', 'illuc', ',', 'et', 'transibit', ',', 'et', 'nihil', 'impossibile', 'erit', 'vobis', '.', '20', 'Hoc', 'autem', 'genus', 'non', 'ejicitur', 'nisi', 'per', 'orationem', 'et', 'jejunium', '.', '21', 'Conversantibus', 'autem', 'eis', 'in', 'Galilaea', ',', 'dixit', 'illis', 'Jesus', ':', 'Filius', 'hominis', 'tradendus', 'est', 'in', 'manus', 'hominum', ':', '22', 'et', 'occident', 'eum', ',', 'et', 'tertia', 'die', 'resurget', '.', 'Et', 'contristati', 'sunt', 'vehementer', '.', '23', 'Et', 'cum', 'venissent', 'Capharnaum', ',', 'accesserunt', 'qui', 'didrachma', 'accipiebant', 'ad', 'Petrum', ',', 'et', 'dixerunt', 'ei', ':', 'Magister', 'vester', 'non', 'solvit', 'didrachma', '?', '24', 'Ait', ':', 'Etiam', '.', 'Et', 'cum', 'intrasset', 'in', 'domum', ',', 'praevenit', 'eum', 'Jesus', ',', 'dicens', ':', 'Quid', 'tibi', 'videtur', 'Simo', '-ne', '?', 'reges', 'terrae', 'a', 'quibus', 'accipiunt', 'tributum', 'vel', 'censum', '?', 'a', 'filiis', 'suis', ',', 'an', 'ab', 'alienis', '?', '25', 'Et', 'ille', 'dixit', ':', 'Ab', 'alienis', '.', 'Dixit', 'illi', 'Jesus', ':', 'Ergo', 'liberi', 'sunt', 'filii', '.', '26', 'Ut', 'autem', 'non', 'scandalizemus', 'eos', ',', 'vade', 'ad', 'mare', ',', 'et', 'mitte', 'hamum', ':', 'et', 'eum', 'piscem', ',', 'qui', 'primus', 'ascenderit', ',', 'tolle', ':', 'et', 'aperto', 'ore', 'ejus', ',', 'invenies', 'staterem', ':', 'illum', 'sumens', ',', 'da', 'eis', 'pro', 'me', 'et', 'te', '.', '18', 'In', 'illa', 'hora', 'accesserunt', 'discipuli', 'ad', 'Jesum', ',', 'dicentes', ':', 'Quis', ',', 'putas', ',', 'major', 'est', 'in', 'regno', 'caelorum', '?', '2', 'Et', 'advocans', 'Jesus', 'parvulum', ',', 'statuit', 'eum', 'in', 'medio', 'eorum', ',', '3', 'et', 'dixit', ':', 'Ame', '-ne', 'dico', 'vobis', ',', 'nisi', 'conversi', 'fueritis', ',', 'et', 'efficiamini', 'sicut', 'parvuli', ',', 'non', 'intrabitis', 'in', 'regnum', 'caelorum', '.', '4', 'Quicumque', 'ergo', 'humiliaverit', 'se', 'sicut', 'parvulus', 'iste', ',', 'hic', 'est', 'major', 'in', 'regno', 'caelorum', '.', '5', 'Et', 'qui', 'susceperit', 'unum', 'parvulum', 'talem', 'in', 'nomine', 'meo', ',', 'me', 'suscipit', ':', '6', 'qui', 'autem', 'scandalizaverit', 'unum', 'de', 'pusillis', 'istis', ',', 'qui', 'in', 'me', 'credunt', ',', 'expedit', 'ei', 'ut', 'suspendatur', 'mola', 'asinaria', 'in', 'collo', 'ejus', ',', 'et', 'demergatur', 'in', 'profundum', 'maris', '.', '7', 'Vae', 'mundo', 'a', 'scandalis', '!', 'Necesse', 'est', 'enim', 'ut', 'veniant', 'scandala', ':', 'verumtame', '-ne', 'vae', 'homini', 'illi', ',', 'per', 'quem', 'scandalum', 'venit', '.', '8', 'Si', 'autem', 'manus', 'tua', ',', 'vel', 'pes', 'tuus', 'scandalizat', 'te', ',', 'abscide', 'eum', ',', 'et', 'projice', 'abs', 'te', ':', 'bonum', 'tibi', 'est', 'ad', 'vitam', 'ingredi', 'debilem', ',', 'vel', 'claudum', ',', 'quam', 'duas', 'manus', 'vel', 'duos', 'pedes', 'habentem', 'mitti', 'in', 'ignem', 'aeternum', '.', '9', 'Et', 'si', 'oculus', 'tuus', 'scandalizat', 'te', ',', 'erue', 'eum', ',', 'et', 'projice', 'abs', 'te', ':', 'bonum', 'tibi', 'est', 'cum', 'uno', 'oculo', 'in', 'vitam', 'intrare', ',', 'quam', 'duos', 'oculos', 'habentem', 'mitti', 'in', 'gehennam', 'ignis', '.', '10', 'Videte', 'ne', 'contemnatis', 'unum', 'ex', 'his', 'pusillis', ':', 'dico', 'enim', 'vobis', ',', 'quia', 'angeli', 'eorum', 'in', 'caelis', 'semper', 'vident', 'faciem', 'Patris', 'mei', ',', 'qui', 'in', 'caelis', 'est', '.', '11', 'Venit', 'enim', 'Filius', 'hominis', 'salvare', 'quod', 'perierat', '.', '12', 'Quid', 'vobis', 'videtur', '?', 'si', 'fuerint', 'alicui', 'centum', 'oves', ',', 'et', 'erravit', 'una', 'ex', 'eis', ':', 'nonne', 'relinquit', 'nonaginta', 'novem', 'in', 'montibus', ',', 'et', 'vadit', 'quaerere', 'eam', 'quae', 'erravit', '?', '13', 'Et', 'si', 'contigerit', 'ut', 'inveniat', 'eam', ':', 'ame', '-ne', 'dico', 'vobis', ',', 'quia', 'gaudet', 'super', 'eam', 'magis', 'quam', 'super', 'nonaginta', 'novem', ',', 'quae', 'non', 'erraverunt', '.', '14', 'Sic', 'non', 'est', 'voluntas', 'ante', 'Patrem', 'vestrum', ',', 'qui', 'in', 'caelis', 'est', ',', 'ut', 'pereat', 'unus', 'de', 'pusillis', 'istis', '.', '15', 'Si', 'autem', 'peccaverit', 'in', 'te', 'frater', 'tuus', ',', 'vade', ',', 'et', 'corripe', 'eum', 'inter', 'te', ',', 'et', 'ipsum', 'solum', ':', 'si', 'te', 'audierit', ',', 'lucratus', 'eris', 'fratrem', 'tuum', '.', '16', 'Si', 'autem', 'te', 'non', 'audierit', ',', 'adhibe', 'cum', 'te', 'adhuc', 'unum', ',', 'vel', 'duos', ',', 'ut', 'in', 'ore', 'duorum', ',', 'vel', 'trium', 'testium', 'stet', 'omne', 'verbum', '.', '17', 'Quod', 'si', 'non', 'audierit', 'eos', ':', 'dic', 'ecclesiae', '.', 'Si', 'autem', 'ecclesiam', 'non', 'audierit', ',', 'sit', 'tibi', 'sicut', 'ethnicus', 'et', 'publicanus', '.', '18', 'Ame', '-ne', 'dico', 'vobis', ',', 'quaecumque', 'alligaveritis', 'super', 'terram', ',', 'erunt', 'ligata', 'et', 'in', 'caelo', ':', 'et', 'quaecumque', 'solveritis', 'super', 'terram', ',', 'erunt', 'soluta', 'et', 'in', 'caelo', '.', '19', 'Iterum', 'dico', 'vobis', ',', 'quia', 'si', 'duo', 'ex', 'vobis', 'consenserint', 'super', 'terram', ',', 'de', 'omni', 're', 'quamcumque', 'petierint', ',', 'fiet', 'illis', 'a', 'Patre', 'meo', ',', 'qui', 'in', 'caelis', 'est', '.', '20', 'Ubi', 'enim', 'sunt', 'duo', 'vel', 'tres', 'congregati', 'in', 'nomine', 'meo', ',', 'ibi', 'sum', 'in', 'medio', 'eorum', '.', '21', 'Tunc', 'accedens', 'Petrus', 'ad', 'eum', ',', 'dixit', ':', 'Domine', ',', 'quoties', 'peccabit', 'in', 'me', 'frater', 'meus', ',', 'et', 'dimittam', 'ei', '?', 'usque', 'septies', '?', '22', 'Dicit', 'illi', 'Jesus', ':', 'Non', 'dico', 'tibi', 'usque', 'septies', ':', 'sed', 'usque', 'septuagies', 'septies', '.', '23', 'Ideo', 'assimilatum', 'est', 'regnum', 'caelorum', 'homini', 'regi', ',', 'qui', 'voluit', 'rationem', 'ponere', 'cum', 'servis', 'suis', '.', '24', 'Et', 'cum', 'coepisset', 'rationem', 'ponere', ',', 'oblatus', 'est', 'ei', 'unus', ',', 'qui', 'debebat', 'ei', 'decem', 'millia', 'talenta', '.', '25', 'Cum', 'autem', 'non', 'haberet', 'unde', 'redderet', ',', 'jussit', 'eum', 'dominus', 'ejus', 'venundari', ',', 'et', 'uxorem', 'ejus', ',', 'et', 'filios', ',', 'et', 'omnia', 'quae', 'habebat', ',', 'et', 'reddi', '.', '26', 'Procidens', 'autem', 'servus', 'ille', ',', 'orabat', 'eum', ',', 'dicens', ':', 'Patientiam', 'habe', 'in', 'me', ',', 'et', 'omnia', 'reddam', 'tibi', '.', '27', 'Misertus', 'autem', 'dominus', 'servi', 'illius', ',', 'dimisit', 'eum', ',', 'et', 'debitum', 'dimisit', 'ei', '.', '28', 'Egressus', 'autem', 'servus', 'ille', 'invenit', 'unum', 'de', 'conservis', 'suis', ',', 'qui', 'debebat', 'ei', 'centum', 'denarios', ':', 'et', 'tenens', 'suffocavit', 'eum', ',', 'dicens', ':', 'Redde', 'quod', 'debes', '.', '29', 'Et', 'procidens', 'conservus', 'ejus', ',', 'rogabat', 'eum', ',', 'dicens', ':', 'Patientiam', 'habe', 'in', 'me', ',', 'et', 'omnia', 'reddam', 'tibi', '.', '30', 'Ille', 'autem', 'noluit', ':', 'sed', 'abiit', ',', 'et', 'misit', 'eum', 'in', 'carcerem', 'donec', 'redderet', 'debitum', '.', '31', 'Videntes', 'autem', 'conservi', 'ejus', 'quae', 'fiebant', ',', 'contristati', 'sunt', 'valde', ':', 'et', 'venerunt', ',', 'et', 'narraverunt', 'domino', 'suo', 'omnia', 'quae', 'facta', 'fuerant', '.', '32', 'Tunc', 'vocavit', 'illum', 'dominus', 'suus', ':', 'et', 'ait', 'illi', ':', 'Serve', 'nequam', ',', 'omne', 'debitum', 'dimisi', 'tibi', 'quoniam', 'rogasti', 'me', ':', '33', 'nonne', 'ergo', 'oportuit', 'et', 'te', 'misereri', 'conservi', 'tui', ',', 'sicut', 'et', 'ego', 'tui', 'misertus', 'sum', '?', '34', 'Et', 'iratus', 'dominus', 'ejus', 'tradidit', 'eum', 'tortoribus', ',', 'quoadusque', 'redderet', 'universum', 'debitum', '.', '35', 'Sic', 'et', 'Pater', 'meus', 'caelestis', 'faciet', 'vobis', ',', 'si', 'non', 'remiseritis', 'unusquisque', 'fratri', 'suo', 'de', 'cordibus', 'vestris', '.', '19', 'Et', 'factum', 'est', ',', 'cum', 'consummasset', 'Jesus', 'sermones', 'istos', ',', 'migravit', 'a', 'Galilaea', ',', 'et', 'venit', 'in', 'fines', 'Judaeae', 'trans', 'Jordanem', ',', '2', 'et', 'secutae', 'sunt', 'eum', 'turbae', 'multae', ',', 'et', 'curavit', 'eos', 'ibi', '.', '3', 'Et', 'accesserunt', 'ad', 'eum', 'pharisaei', 'tentantes', 'eum', ',', 'et', 'dicentes', ':', 'Si', 'licet', 'homini', 'dimittere', 'uxorem', 'suam', ',', 'quacumque', 'ex', 'causa', '?', '4', 'Qui', 'respondens', ',', 'ait', 'eis', ':', 'Non', 'legistis', ',', 'quia', 'qui', 'fecit', 'hominem', 'ab', 'initio', ',', 'masculum', 'et', 'feminam', 'fecit', 'eos', '?', 'Et', 'dixit', ':', '5', 'Propter', 'hoc', 'dimittet', 'homo', 'patrem', ',', 'et', 'matrem', ',', 'et', 'adhaerebit', 'uxori', 'suae', ',', 'et', 'erunt', 'duo', 'in', 'carne', 'una', '.', '6', 'Itaque', 'jam', 'non', 'sunt', 'duo', ',', 'sed', 'una', 'caro', '.', 'Quod', 'ergo', 'Deus', 'conjunxit', ',', 'homo', 'non', 'separet', '.', '7', 'Dicunt', 'illi', ':', 'Quid', 'ergo', 'Moyses', 'mandavit', 'dare', 'libellum', 'repudii', ',', 'et', 'dimittere', '?', '8', 'Ait', 'illis', ':', 'Quoniam', 'Moyses', 'ad', 'duritiam', 'cordis', 'vestri', 'permisit', 'vobis', 'dimittere', 'uxores', 'vestras', ':', 'ab', 'initio', 'autem', 'non', 'fuit', 'sic', '.', '9', 'Dico', 'autem', 'vobis', ',', 'quia', 'quicumque', 'dimiserit', 'uxorem', 'suam', ',', 'nisi', 'ob', 'fornicationem', ',', 'et', 'aliam', 'duxerit', ',', 'moechatur', ':', 'et', 'qui', 'dimissam', 'duxerit', ',', 'moechatur', '.', '10', 'Dicunt', 'ei', 'discipuli', 'ejus', ':', 'Si', 'ita', 'est', 'causa', 'hominis', 'cum', 'uxore', ',', 'non', 'expedit', 'nubere', '.', '11', 'Qui', 'dixit', 'illis', ':', 'Non', 'omnes', 'capiunt', 'verbum', 'istud', ',', 'sed', 'quibus', 'datum', 'est', '.', '12', 'Sunt', 'enim', 'eunuchi', ',', 'qui', 'de', 'matris', 'utero', 'sic', 'nati', 'sunt', ':', 'et', 'sunt', 'eunuchi', ',', 'qui', 'facti', 'sunt', 'ab', 'hominibus', ':', 'et', 'sunt', 'eunuchi', ',', 'qui', 'seipsos', 'castraverunt', 'propter', 'regnum', 'caelorum', '.', 'Qui', 'potest', 'capere', 'capiat', '.', '13', 'Tunc', 'oblati', 'sunt', 'ei', 'parvuli', ',', 'ut', 'manus', 'eis', 'imponeret', ',', 'et', 'oraret', '.', 'Discipuli', 'autem', 'increpabant', 'eos', '.', '14', 'Jesus', 'vero', 'ait', 'eis', ':', 'Sinite', 'parvulos', ',', 'et', 'nolite', 'eos', 'prohibere', 'ad', 'me', 'venire', ':', 'talium', 'est', 'enim', 'regnum', 'caelorum', '.', '15', 'Et', 'cum', 'imposuisset', 'eis', 'manus', ',', 'abiit', 'inde', '.', '16', 'Et', 'ecce', 'unus', 'accedens', ',', 'ait', 'illi', ':', 'Magister', 'bone', ',', 'quid', 'boni', 'faciam', 'ut', 'habeam', 'vitam', 'aeternam', '?', '17', 'Qui', 'dixit', 'ei', ':', 'Quid', 'me', 'interrogas', 'de', 'bono', '?', 'Unus', 'est', 'bonus', ',', 'Deus', '.', 'Si', 'autem', 'vis', 'ad', 'vitam', 'ingredi', ',', 'serva', 'mandata', '.', '18', 'Dicit', 'illi', ':', 'Quae', '?', 'Jesus', 'autem', 'dixit', ':', 'Non', 'homicidium', 'facies', ';', 'non', 'adulterabis', ';', 'non', 'facies', 'furtum', ';', 'non', 'falsum', 'testimonium', 'dices', ';', '19', 'honora', 'patrem', 'tuum', ',', 'et', 'matrem', 'tuam', ',', 'et', 'diliges', 'proximum', 'tuum', 'sicut', 'teipsum', '.', '20', 'Dicit', 'illi', 'adolescens', ':', 'Omnia', 'haec', 'custodivi', 'a', 'juventute', 'mea', ':', 'quid', 'adhuc', 'mihi', 'deest', '?', '21', 'Ait', 'illi', 'Jesus', ':', 'Si', 'vis', 'perfectus', 'esse', ',', 'vade', ',', 'vende', 'quae', 'habes', ',', 'et', 'da', 'pauperibus', ',', 'et', 'habebis', 'thesaurum', 'in', 'caelo', ':', 'et', 'veni', ',', 'sequere', 'me', '.', '22', 'Cum', 'audisset', 'autem', 'adolescens', 'verbum', ',', 'abiit', 'tristis', ':', 'erat', 'enim', 'habens', 'multas', 'possessiones', '.', '23', 'Jesus', 'autem', 'dixit', 'discipulis', 'suis', ':', 'Ame', '-ne', 'dico', 'vobis', ',', 'quia', 'dives', 'difficile', 'intrabit', 'in', 'regnum', 'caelorum', '.', '24', 'Et', 'iterum', 'dico', 'vobis', ':', 'Facilius', 'est', 'camelum', 'per', 'forame', '-ne', 'acus', 'transire', ',', 'quam', 'divitem', 'intrare', 'in', 'regnum', 'caelorum', '.', '25', 'Auditis', 'autem', 'his', ',', 'discipuli', 'mirabantur', 'valde', ',', 'dicentes', ':', 'Quis', 'ergo', 'poterit', 'salvus', 'esse', '?', '26', 'Aspiciens', 'autem', 'Jesus', ',', 'dixit', 'illis', ':', 'Apud', 'homines', 'hoc', 'impossibile', 'est', ':', 'apud', 'Deum', 'autem', 'omnia', 'possibilia', 'sunt', '.', '27', 'Tunc', 'respondens', 'Petrus', ',', 'dixit', 'ei', ':', 'Ecce', 'nos', 'reliquimus', 'omnia', ',', 'et', 'secuti', 'sumus', 'te', ':', 'quid', 'ergo', 'erit', 'nobis', '?', '28', 'Jesus', 'autem', 'dixit', 'illis', ':', 'Ame', '-ne', 'dico', 'vobis', ',', 'quod', 'vos', ',', 'qui', 'secuti', 'estis', 'me', ',', 'in', 'regeneratione', 'cum', 'sederit', 'Filius', 'hominis', 'in', 'sede', 'majestatis', 'suae', ',', 'sedebitis', 'et', 'vos', 'super', 'sedes', 'duodecim', ',', 'judicantes', 'duodecim', 'tribus', 'Israel', '.', '29', 'Et', 'omnis', 'qui', 'reliquerit', 'domum', ',', 'vel', 'fratres', ',', 'aut', 'sorores', ',', 'aut', 'patrem', ',', 'aut', 'matrem', ',', 'aut', 'uxorem', ',', 'aut', 'filios', ',', 'aut', 'agros', 'propter', 'nomen', 'meum', ',', 'centuplum', 'accipiet', ',', 'et', 'vitam', 'aeternam', 'possidebit', '.', '30', 'Multi', 'autem', 'erunt', 'primi', 'novissimi', ',', 'et', 'novissimi', 'primi', '.', '20', 'Simile', 'est', 'regnum', 'caelorum', 'homini', 'patrifamilias', ',', 'qui', 'exiit', 'primo', 'mane', 'conducere', 'operarios', 'in', 'vineam', 'suam', '.', '2', 'Conventione', 'autem', 'facta', 'cum', 'operariis', 'ex', 'denario', 'diurno', ',', 'misit', 'eos', 'in', 'vineam', 'suam', '.', '3', 'Et', 'egressus', 'circa', 'horam', 'tertiam', ',', 'vidit', 'alios', 'stantes', 'in', 'foro', 'otiosos', ',', '4', 'et', 'dixit', 'illis', ':', 'Ite', 'et', 'vos', 'in', 'vineam', 'meam', ',', 'et', 'quod', 'justum', 'fuerit', 'dabo', 'vobis', '.', '5', 'Illi', 'autem', 'abierunt', '.', 'Iterum', 'autem', 'exiit', 'circa', 'sextam', 'et', 'nonam', 'horam', ':', 'et', 'fecit', 'similiter', '.', '6', 'Circa', 'undecimam', 'vero', 'exiit', ',', 'et', 'invenit', 'alios', 'stantes', ',', 'et', 'dicit', 'illis', ':', 'Quid', 'hic', 'statis', 'tota', 'die', 'otiosi', '?', '7', 'Dicunt', 'ei', ':', 'Quia', 'nemo', 'nos', 'conduxit', '.', 'Dicit', 'illis', ':', 'Ite', 'et', 'vos', 'in', 'vineam', 'meam', '.', '8', 'Cum', 'sero', 'autem', 'factum', 'esset', ',', 'dicit', 'dominus', 'vineae', 'procuratori', 'suo', ':', 'Voca', 'operarios', ',', 'et', 'redde', 'illis', 'mercedem', 'incipiens', 'a', 'novissimis', 'usque', 'ad', 'primos', '.', '9', 'Cum', 'venissent', 'ergo', 'qui', 'circa', 'undecimam', 'horam', 'venerant', ',', 'acceperunt', 'singulos', 'denarios', '.', '10', 'Venientes', 'autem', 'et', 'primi', ',', 'arbitrati', 'sunt', 'quod', 'plus', 'essent', 'accepturi', ':', 'acceperunt', 'autem', 'et', 'ipsi', 'singulos', 'denarios', '.', '11', 'Et', 'accipientes', 'murmurabant', 'adversus', 'patremfamilias', ',', '12', 'dicentes', ':', 'Hi', 'novissimi', 'una', 'hora', 'fecerunt', ',', 'et', 'pares', 'illos', 'nobis', 'fecisti', ',', 'qui', 'portavimus', 'pondus', 'diei', ',', 'et', 'aestus', '.', '13', 'At', 'ille', 'respondens', 'uni', 'eorum', ',', 'dixit', ':', 'Amice', ',', 'non', 'facio', 'tibi', 'injuriam', ':', 'nonne', 'ex', 'denario', 'convenisti', 'cum', 'me', '?', '14', 'Tolle', 'quod', 'tuum', 'est', ',', 'et', 'vade', ':', 'volo', 'autem', 'et', 'huic', 'novissimo', 'dare', 'sicut', 'et', 'tibi', '.', '15', 'Aut', 'non', 'licet', 'mihi', 'quod', 'volo', ',', 'facere', '?', 'an', 'oculus', 'tuus', 'nequam', 'est', ',', 'quia', 'ego', 'bonus', 'sum', '?', '16', 'Sic', 'erunt', 'novissimi', 'primi', ',', 'et', 'primi', 'novissimi', '.', 'Multi', 'enim', 'sunt', 'vocati', ',', 'pauci', 'vero', 'electi', '.', '17', 'Et', 'ascendens', 'Jesus', 'Jerosolymam', ',', 'assumpsit', 'duodecim', 'discipulos', 'secreto', ',', 'et', 'ait', 'illis', ':', '18', 'Ecce', 'ascendimus', 'Jerosolymam', ',', 'et', 'Filius', 'hominis', 'tradetur', 'principibus', 'sacerdotum', ',', 'et', 'scribis', ',', 'et', 'condemnabunt', 'eum', 'morte', ',', '19', 'et', 'tradent', 'eum', 'gentibus', 'ad', 'illudendum', ',', 'et', 'flagellandum', ',', 'et', 'crucifigendum', ',', 'et', 'tertia', 'die', 'resurget', '.', '20', 'Tunc', 'accessit', 'ad', 'eum', 'mater', 'filiorum', 'Zebedaei', 'cum', 'filiis', 'suis', ',', 'adorans', 'et', 'petens', 'aliquid', 'ab', 'eo', '.', '21', 'Qui', 'dixit', 'ei', ':', 'Quid', 'vis', '?', 'Ait', 'illi', ':', 'Dic', 'ut', 'sedeant', 'hi', 'duo', 'filii', 'mei', ',', 'unus', 'ad', 'dexteram', 'tuam', ',', 'et', 'unus', 'ad', 'sinistram', 'in', 'regno', 'tuo', '.', '22', 'Respondens', 'autem', 'Jesus', ',', 'dixit', ':', 'Nescitis', 'quid', 'petatis', '.', 'Potestis', 'bibere', 'calicem', ',', 'quem', 'ego', 'bibiturus', 'sum', '?', 'Dicunt', 'ei', ':', 'Possumus', '.', '23', 'Ait', 'illis', ':', 'Calicem', 'quidem', 'meum', 'bibetis', ':', 'sedere', 'autem', 'ad', 'dexteram', 'meam', 'vel', 'sinistram', 'non', 'est', 'meum', 'dare', 'vobis', ',', 'sed', 'quibus', 'paratum', 'est', 'a', 'Patre', 'meo', '.', '24', 'Et', 'audientes', 'decem', ',', 'indignati', 'sunt', 'de', 'duobus', 'fratribus', '.', '25', 'Jesus', 'autem', 'vocavit', 'eos', 'ad', 'se', ',', 'et', 'ait', ':', 'Scitis', 'quia', 'principes', 'gentium', 'dominantur', 'eorum', ':', 'et', 'qui', 'majores', 'sunt', ',', 'potestatem', 'exercent', 'in', 'eos', '.', '26', 'Non', 'ita', 'erit', 'inter', 'vos', ':', 'sed', 'quicumque', 'voluerit', 'inter', 'vos', 'major', 'fieri', ',', 'sit', 'vester', 'minister', ':', '27', 'et', 'qui', 'voluerit', 'inter', 'vos', 'primus', 'esse', ',', 'erit', 'vester', 'servus', '.', '28', 'Sicut', 'Filius', 'hominis', 'non', 'venit', 'ministrari', ',', 'sed', 'ministrare', ',', 'et', 'dare', 'animam', 'suam', 'redemptionem', 'pro', 'multis', '.', '29', 'Et', 'egredientibus', 'illis', 'ab', 'Jericho', ',', 'secuta', 'est', 'eum', 'turba', 'multa', ',', '30', 'et', 'ecce', 'duo', 'caeci', 'sedentes', 'secus', 'viam', 'audierunt', 'quia', 'Jesus', 'transiret', ':', 'et', 'clamaverunt', ',', 'dicentes', ':', 'Domine', ',', 'miserere', 'nostri', ',', 'fili', 'David', '.', '31', 'Turba', 'autem', 'increpabat', 'eos', 'ut', 'tacerent', '.', 'At', 'illi', 'magis', 'clamabant', ',', 'dicentes', ':', 'Domine', ',', 'miserere', 'nostri', ',', 'fili', 'David', '.', '32', 'Et', 'stetit', 'Jesus', ',', 'et', 'vocavit', 'eos', ',', 'et', 'ait', ':', 'Quid', 'vultis', 'ut', 'faciam', 'vobis', '?', '33', 'Dicunt', 'illi', ':', 'Domine', ',', 'ut', 'aperiantur', 'oculi', 'nostri', '.', '34', 'Misertus', 'autem', 'eorum', 'Jesus', ',', 'tetigit', 'oculos', 'eorum', '.', 'Et', 'confestim', 'viderunt', ',', 'et', 'secuti', 'sunt', 'eum', '.', '21', 'Et', 'cum', 'appropinquassent', 'Jerosolymis', ',', 'et', 'venissent', 'Bethphage', 'ad', 'montem', 'Oliveti', ':', 'tunc', 'Jesus', 'misit', 'duos', 'discipulos', ',', '2', 'dicens', 'eis', ':', 'Ite', 'in', 'castellum', ',', 'quod', 'contra', 'vos', 'est', ',', 'et', 'statim', 'invenietis', 'asinam', 'alligatam', ',', 'et', 'pullum', 'cum', 'ea', ':', 'solvite', ',', 'et', 'adducite', 'mihi', ':', '3', 'et', 'si', 'quis', 'vobis', 'aliquid', 'dixerit', ',', 'dicite', 'quia', 'Dominus', 'his', 'opus', 'habet', ':', 'et', 'confestim', 'dimittet', 'eos', '.', '4', 'Hoc', 'autem', 'totum', 'factum', 'est', ',', 'ut', 'adimpleretur', 'quod', 'dictum', 'est', 'per', 'prophetam', 'dicentem', ':', '5', 'Dicite', 'filiae', 'Sio', '-ne', ':', 'Ecce', 'rex', 'tuus', 'venit', 'tibi', 'mansuetus', ',', 'sedens', 'super', 'asinam', ',', 'et', 'pullum', 'filium', 'subjugalis', '.', '6', 'Euntes', 'autem', 'discipuli', 'fecerunt', 'sicut', 'praecepit', 'illis', 'Jesus', '.', '7', 'Et', 'adduxerunt', 'asinam', ',', 'et', 'pullum', ':', 'et', 'imposuerunt', 'super', 'eos', 'vestimenta', 'sua', ',', 'et', 'eum', 'desuper', 'sedere', 'fecerunt', '.', '8', 'Plurima', 'autem', 'turba', 'straverunt', 'vestimenta', 'sua', 'in', 'via', ':', 'alii', 'autem', 'caedebant', 'ramos', 'de', 'arboribus', ',', 'et', 'sternebant', 'in', 'via', ':', '9', 'turbae', 'autem', ',', 'quae', 'praecedebant', ',', 'et', 'quae', 'sequebantur', ',', 'clamabant', ',', 'dicentes', ':', 'Hosanna', 'filio', 'David', ':', 'benedictus', ',', 'qui', 'venit', 'in', 'nomine', 'Domini', ':', 'hosanna', 'in', 'altissimis', '.', '10', 'Et', 'cum', 'intrasset', 'Jerosolymam', ',', 'commota', 'est', 'universa', 'civitas', ',', 'dicens', ':', 'Quis', 'est', 'hic', '?', '11', 'Populi', 'autem', 'dicebant', ':', 'Hic', 'est', 'Jesus', 'propheta', 'a', 'Nazareth', 'Galilaeae', '.', '12', 'Et', 'intravit', 'Jesus', 'in', 'templum', 'Dei', ',', 'et', 'ejiciebat', 'omnes', 'vendentes', 'et', 'ementes', 'in', 'templo', ',', 'et', 'mensas', 'numulariorum', ',', 'et', 'cathedras', 'vendentium', 'columbas', 'evertit', ':', '13', 'et', 'dicit', 'eis', ':', 'Scriptum', 'est', ':', 'Domus', 'mea', 'domus', 'orationis', 'vocabitur', ':', 'vos', 'autem', 'fecistis', 'illam', 'speluncam', 'latronum', '.', '14', 'Et', 'accesserunt', 'ad', 'eum', 'caeci', ',', 'et', 'claudi', 'in', 'templo', ':', 'et', 'sanavit', 'eos', '.', '15', 'Videntes', 'autem', 'principes', 'sacerdotum', 'et', 'scribae', 'mirabilia', 'quae', 'fecit', ',', 'et', 'pueros', 'clamantes', 'in', 'templo', ',', 'et', 'dicentes', ':', 'Hosanna', 'filio', 'David', ':', 'indignati', 'sunt', ',', '16', 'et', 'dixerunt', 'ei', ':', 'Audis', 'quid', 'isti', 'dicunt', '?', 'Jesus', 'autem', 'dixit', 'eis', ':', 'Utique', '.', 'Numquam', 'legistis', ':', 'Quia', 'ex', 'ore', 'infantium', 'et', 'lactentium', 'perfecisti', 'laudem', '?', '17', 'Et', 'relictis', 'illis', ',', 'abiit', 'foras', 'extra', 'civitatem', 'in', 'Bethaniam', ':', 'ibique', 'mansit', '.', '18', 'Mane', 'autem', 'revertens', 'in', 'civitatem', ',', 'esuriit', '.', '19', 'Et', 'videns', 'fici', 'arborem', 'unam', 'secus', 'viam', ',', 'venit', 'ad', 'eam', ':', 'et', 'nihil', 'invenit', 'in', 'ea', 'nisi', 'folia', 'tantum', ',', 'et', 'ait', 'illi', ':', 'Numquam', 'ex', 'te', 'fructus', 'nascatur', 'in', 'sempiternum', '.', 'Et', 'arefacta', 'est', 'continuo', 'ficulnea', '.', '20', 'Et', 'videntes', 'discipuli', ',', 'mirati', 'sunt', ',', 'dicentes', ':', 'Quomodo', 'continuo', 'aruit', '?', '21', 'Respondens', 'autem', 'Jesus', ',', 'ait', 'eis', ':', 'Ame', '-ne', 'dico', 'vobis', ',', 'si', 'habueritis', 'fidem', ',', 'et', 'non', 'haesitaveritis', ',', 'non', 'solum', 'de', 'ficulnea', 'facietis', ',', 'sed', 'et', 'si', 'monti', 'huic', 'dixeritis', ':', 'Tolle', ',', 'et', 'jacta', 'te', 'in', 'mare', ',', 'fiet', '.', '22', 'Et', 'omnia', 'quaecumque', 'petieritis', 'in', 'oratione', 'credentes', ',', 'accipietis', '.', '23', 'Et', 'cum', 'venisset', 'in', 'templum', ',', 'accesserunt', 'ad', 'eum', 'docentem', 'principes', 'sacerdotum', ',', 'et', 'seniores', 'populi', ',', 'dicentes', ':', 'In', 'qua', 'potestate', 'haec', 'facis', '?', 'et', 'quis', 'tibi', 'dedit', 'hanc', 'potestatem', '?', '24', 'Respondens', 'Jesus', 'dixit', 'eis', ':', 'Interrogabo', 'vos', 'et', 'ego', 'unum', 'sermonem', ':', 'quem', 'si', 'dixeritis', 'mihi', ',', 'et', 'ego', 'vobis', 'dicam', 'in', 'qua', 'potestate', 'haec', 'facio', '.', '25', 'Baptismus', 'Joannis', 'unde', 'erat', '?', 'e', 'caelo', ',', 'an', 'ex', 'hominibus', '?', 'At', 'illi', 'cogitabant', 'inter', 'se', ',', 'dicentes', ':', '26', 'Si', 'dixerimus', ',', 'e', 'caelo', ',', 'dicet', 'nobis', ':', 'Quare', 'ergo', 'non', 'credidistis', 'illi', '?', 'Si', 'autem', 'dixerimus', ',', 'ex', 'hominibus', ',', 'timemus', 'turbam', ':', 'omnes', 'enim', 'habebant', 'Joannem', 'sicut', 'prophetam', '.', '27', 'Et', 'respondentes', 'Jesu', ',', 'dixerunt', ':', 'Nescimus', '.', 'Ait', 'illis', 'et', 'ipse', ':', 'Nec', 'ego', 'dico', 'vobis', 'in', 'qua', 'potestate', 'haec', 'facio', '.', '28', 'Quid', 'autem', 'vobis', 'videtur', '?', 'Homo', 'quidam', 'habebat', 'duos', 'filios', ',', 'et', 'accedens', 'ad', 'primum', ',', 'dixit', ':', 'Fili', ',', 'vade', 'hodie', ',', 'operare', 'in', 'vinea', 'mea', '.', '29', 'Ille', 'autem', 'respondens', ',', 'ait', ':', 'Nolo', '.', 'Postea', 'autem', ',', 'poenitentia', 'motus', ',', 'abiit', '.', '30', 'Accedens', 'autem', 'ad', 'alterum', ',', 'dixit', 'similiter', '.', 'At', 'ille', 'respondens', ',', 'ait', ':', 'Eo', ',', 'domine', ',', 'et', 'non', 'ivit', ':', '31', 'quis', 'ex', 'duobus', 'fecit', 'voluntatem', 'patris', '?', 'Dicunt', 'ei', ':', 'Primus', '.', 'Dicit', 'illis', 'Jesus', ':', 'Ame', '-ne', 'dico', 'vobis', ',', 'quia', 'publicani', 'et', 'meretrices', 'praecedent', 'vos', 'in', 'regnum', 'Dei', '.', '32', 'Venit', 'enim', 'ad', 'vos', 'Joannes', 'in', 'via', 'justitiae', ',', 'et', 'non', 'credidistis', 'ei', ':', 'publicani', 'autem', 'et', 'meretrices', 'crediderunt', 'ei', ':', 'vos', 'autem', 'videntes', 'nec', 'poenitentiam', 'habuistis', 'postea', ',', 'ut', 'crederetis', 'ei', '.', '33', 'Aliam', 'parabolam', 'audite', ':', 'Homo', 'erat', 'paterfamilias', ',', 'qui', 'plantavit', 'vineam', ',', 'et', 'sepem', 'circumdedit', 'ei', ',', 'et', 'fodit', 'in', 'ea', 'torcular', ',', 'et', 'aedificavit', 'turrim', ',', 'et', 'locavit', 'eam', 'agricolis', ',', 'et', 'peregre', 'profectus', 'est', '.', '34', 'Cum', 'autem', 'tempus', 'fructuum', 'appropinquasset', ',', 'misit', 'servos', 'suos', 'ad', 'agricolas', ',', 'ut', 'acciperent', 'fructus', 'ejus', '.', '35', 'Et', 'agricolae', ',', 'apprehensis', 'servis', 'ejus', ',', 'alium', 'ceciderunt', ',', 'alium', 'occiderunt', ',', 'alium', 'vero', 'lapidaverunt', '.', '36', 'Iterum', 'misit', 'alios', 'servos', 'plures', 'prioribus', ',', 'et', 'fecerunt', 'illis', 'similiter', '.', '37', 'Novissime', 'autem', 'misit', 'ad', 'eos', 'filium', 'suum', ',', 'dicens', ':', 'Verebuntur', 'filium', 'meum', '.', '38', 'Agricolae', 'autem', 'videntes', 'filium', 'dixerunt', 'intra', 'se', ':', 'Hic', 'est', 'haeres', ',', 'venite', ',', 'occidamus', 'eum', ',', 'et', 'habebimus', 'haereditatem', 'ejus', '.', '39', 'Et', 'apprehensum', 'eum', 'ejecerunt', 'extra', 'vineam', ',', 'et', 'occiderunt', '.', '40', 'Cum', 'ergo', 'venerit', 'dominus', 'vineae', ',', 'quid', 'faciet', 'agricolis', 'illis', '?', '41', 'Aiunt', 'illi', ':', 'Malos', 'male', 'perdet', ':', 'et', 'vineam', 'suam', 'locabit', 'aliis', 'agricolis', ',', 'qui', 'reddant', 'ei', 'fructum', 'temporibus', 'suis', '.', '42', 'Dicit', 'illis', 'Jesus', ':', 'Numquam', 'legistis', 'in', 'Scripturis', ':', 'Lapidem', 'quem', 'reprobaverunt', 'aedificantes', ',', 'hic', 'factus', 'est', 'in', 'caput', 'anguli', ':', 'a', 'Domino', 'factum', 'est', 'istud', ',', 'et', 'est', 'mirabile', 'in', 'oculis', 'nostris', '?', '43', 'Ideo', 'dico', 'vobis', ',', 'quia', 'auferetur', 'a', 'vobis', 'regnum', 'Dei', ',', 'et', 'dabitur', 'genti', 'facienti', 'fructus', 'ejus', '.', '44', 'Et', 'qui', 'ceciderit', 'super', 'lapidem', 'istum', ',', 'confringetur', ':', 'super', 'quem', 'vero', 'ceciderit', ',', 'conteret', 'eum', '.', '45', 'Et', 'cum', 'audissent', 'principes', 'sacerdotum', 'et', 'pharisaei', 'parabolas', 'ejus', ',', 'cognoverunt', 'quod', 'de', 'ipsis', 'diceret', '.', '46', 'Et', 'quaerentes', 'eum', 'tenere', ',', 'timuerunt', 'turbas', ':', 'quoniam', 'sicut', 'prophetam', 'eum', 'habebant', '.', '22', 'Et', 'respondens', 'Jesus', ',', 'dixit', 'iterum', 'in', 'parabolis', 'eis', ',', 'dicens', ':', '2', 'Simile', 'factum', 'est', 'regnum', 'caelorum', 'homini', 'regi', ',', 'qui', 'fecit', 'nuptias', 'filio', 'suo', '.', '3', 'Et', 'misit', 'servos', 'suos', 'vocare', 'invitatos', 'ad', 'nuptias', ',', 'et', 'nolebant', 'venire', '.', '4', 'Iterum', 'misit', 'alios', 'servos', ',', 'dicens', ':', 'Dicite', 'invitatis', ':', 'Ecce', 'prandium', 'meum', 'paravi', ',', 'tauri', 'mei', 'et', 'altilia', 'occisa', 'sunt', ',', 'et', 'omnia', 'parata', ':', 'venite', 'ad', 'nuptias', '.', '5', 'Illi', 'autem', 'neglexerunt', ':', 'et', 'abierunt', ',', 'alius', 'in', 'villam', 'suam', ',', 'alius', 'vero', 'ad', 'negotiationem', 'suam', ':', '6', 'reliqui', 'vero', 'tenuerunt', 'servos', 'ejus', ',', 'et', 'contumeliis', 'affectos', 'occiderunt', '.', '7', 'Rex', 'autem', 'cum', 'audisset', ',', 'iratus', 'est', ':', 'et', 'missis', 'exercitibus', 'suis', ',', 'perdidit', 'homicidas', 'illos', ',', 'et', 'civitatem', 'illorum', 'succendit', '.', '8', 'Tunc', 'ait', 'servis', 'suis', ':', 'Nuptiae', 'quidem', 'paratae', 'sunt', ',', 'sed', 'qui', 'invitati', 'erant', ',', 'non', 'fuerunt', 'digni', ':', '9', 'ite', 'ergo', 'ad', 'exitus', 'viarum', ',', 'et', 'quoscumque', 'inveneritis', ',', 'vocate', 'ad', 'nuptias', '.', '10', 'Et', 'egressi', 'servi', 'ejus', 'in', 'vias', ',', 'congregaverunt', 'omnes', 'quos', 'invenerunt', ',', 'malos', 'et', 'bonos', ':', 'et', 'impletae', 'sunt', 'nuptiae', 'discumbentium', '.', '11', 'Intravit', 'autem', 'rex', 'ut', 'videret', 'discumbentes', ',', 'et', 'vidit', 'ibi', 'hominem', 'non', 'vestitum', 'veste', 'nuptiali', '.', '12', 'Et', 'ait', 'illi', ':', 'Amice', ',', 'quomodo', 'huc', 'intrasti', 'non', 'habens', 'vestem', 'nuptialem', '?', 'At', 'ille', 'obmutuit', '.', '13', 'Tunc', 'dicit', 'rex', 'ministris', ':', 'Ligatis', 'manibus', 'et', 'pedibus', 'ejus', ',', 'mittite', 'eum', 'in', 'tenebras', 'exteriores', ':', 'ibi', 'erit', 'fletus', 'et', 'stridor', 'dentium', '.', '14', 'Multi', 'enim', 'sunt', 'vocati', ',', 'pauci', 'vero', 'electi', '.', '15', 'Tunc', 'abeuntes', 'pharisaei', ',', 'consilium', 'inierunt', 'ut', 'caperent', 'eum', 'in', 'sermone', '.', '16', 'Et', 'mittunt', 'ei', 'discipulos', 'suos', 'cum', 'Herodianis', ',', 'dicentes', ':', 'Magister', ',', 'scimus', 'quia', 'verax', 'es', ',', 'et', 'viam', 'Dei', 'in', 'veritate', 'doces', ',', 'et', 'non', 'est', 'tibi', 'cura', 'de', 'aliquo', ':', 'non', 'enim', 'respicis', 'personam', 'hominum', ':', '17', 'dic', 'ergo', 'nobis', 'quid', 'tibi', 'videtur', ',', 'licet', 'censum', 'dare', 'Caesari', ',', 'an', 'non', '?', '18', 'Cognita', 'autem', 'Jesus', 'nequitia', 'eorum', ',', 'ait', ':', 'Quid', 'me', 'tentatis', ',', 'hypocritae', '?', '19', 'ostendite', 'mihi', 'numisma', 'census', '.', 'At', 'illi', 'obtulerunt', 'ei', 'denarium', '.', '20', 'Et', 'ait', 'illis', 'Jesus', ':', 'Cujus', 'est', 'imago', 'haec', ',', 'et', 'superscriptio', '?', '21', 'Dicunt', 'ei', ':', 'Caesaris', '.', 'Tunc', 'ait', 'illis', ':', 'Reddite', 'ergo', 'quae', 'sunt', 'Caesaris', ',', 'Caesari', ':', 'et', 'quae', 'sunt', 'Dei', ',', 'Deo', '.', '22', 'Et', 'audientes', 'mirati', 'sunt', ',', 'et', 'relicto', 'eo', 'abierunt', '.', '23', 'In', 'illo', 'die', 'accesserunt', 'ad', 'eum', 'sadducaei', ',', 'qui', 'dicunt', 'non', 'esse', 'resurrectionem', ':', 'et', 'interrogaverunt', 'eum', ',', '24', 'dicentes', ':', 'Magister', ',', 'Moyses', 'dixit', ':', 'Si', 'quis', 'mortuus', 'fuerit', 'non', 'habens', 'filium', ',', 'ut', 'ducat', 'frater', 'ejus', 'uxorem', 'illius', ',', 'et', 'suscitet', 'semen', 'fratri', 'suo', '.', '25', 'Erant', 'autem', 'apud', 'nos', 'septem', 'fratres', ':', 'et', 'primus', ',', 'uxore', 'ducta', ',', 'defunctus', 'est', ':', 'et', 'non', 'habens', 'semen', ',', 'reliquit', 'uxorem', 'suam', 'fratri', 'suo', '.', '26', 'Similiter', 'secundus', ',', 'et', 'tertius', 'usque', 'ad', 'septimum', '.', '27', 'Novissime', 'autem', 'omnium', 'et', 'mulier', 'defuncta', 'est', '.', '28', 'In', 'resurrectione', 'ergo', 'cujus', 'erit', 'de', 'septem', 'uxor', '?', 'omnes', 'enim', 'habuerunt', 'eam', '.', '29', 'Respondens', 'autem', 'Jesus', ',', 'ait', 'illis', ':', 'Erratis', 'nescientes', 'Scripturas', ',', 'neque', 'virtutem', 'Dei', '.', '30', 'In', 'resurrectione', 'enim', 'neque', 'nubent', ',', 'neque', 'nubentur', ':', 'sed', 'erunt', 'sicut', 'angeli', 'Dei', 'in', 'caelo', '.', '31', 'De', 'resurrectione', 'autem', 'mortuorum', 'non', 'legistis', 'quod', 'dictum', 'est', 'a', 'Deo', 'dicente', 'vobis', ':', '32', 'Ego', 'sum', 'Deus', 'Abraham', ',', 'et', 'Deus', 'Isaac', ',', 'et', 'Deus', 'Jacob', '?', 'Non', 'est', 'Deus', 'mortuorum', ',', 'sed', 'viventium', '.', '33', 'Et', 'audientes', 'turbae', ',', 'mirabantur', 'in', 'doctrina', 'ejus', '.', '34', 'Pharisaei', 'autem', 'audientes', 'quod', 'silentium', 'imposuisset', 'sadducaeis', ',', 'convenerunt', 'in', 'unum', ':', '35', 'et', 'interrogavit', 'eum', 'unus', 'ex', 'eis', 'legis', 'doctor', ',', 'tentans', 'eum', ':', '36', 'Magister', ',', 'quod', 'est', 'mandatum', 'magnum', 'in', 'lege', '?', '37', 'Ait', 'illi', 'Jesus', ':', 'Diliges', 'Dominum', 'Deum', 'tuum', 'ex', 'toto', 'corde', 'tuo', ',', 'et', 'in', 'tota', 'anima', 'tua', ',', 'et', 'in', 'tota', 'mente', 'tua', '.', '38', 'Hoc', 'est', 'maximum', ',', 'et', 'primum', 'mandatum', '.', '39', 'Secundum', 'autem', 'simile', 'est', 'huic', ':', 'Diliges', 'proximum', 'tuum', ',', 'sicut', 'teipsum', '.', '40', 'In', 'his', 'duobus', 'mandatis', 'universa', 'lex', 'pendet', ',', 'et', 'prophetae', '.', '41', 'Congregatis', 'autem', 'pharisaeis', ',', 'interrogavit', 'eos', 'Jesus', ',', '42', 'dicens', ':', 'Quid', 'vobis', 'videtur', 'de', 'Christo', '?', 'cujus', 'filius', 'est', '?', 'Dicunt', 'ei', ':', 'David', '.', '43', 'Ait', 'illis', ':', 'Quomodo', 'ergo', 'David', 'in', 'spiritu', 'vocat', 'eum', 'Dominum', ',', 'dicens', ':', '44', 'Dixit', 'Dominus', 'Domino', 'meo', ':', 'Sede', 'a', 'dextris', 'meis', ',', 'donec', 'ponam', 'inimicos', 'tuos', 'scabellum', 'pedum', 'tuorum', '?', '45', 'Si', 'ergo', 'David', 'vocat', 'eum', 'Dominum', ',', 'quomodo', 'filius', 'ejus', 'est', '?', '46', 'Et', 'nemo', 'poterat', 'ei', 'respondere', 'verbum', ':', 'neque', 'ausus', 'fuit', 'quisquam', 'ex', 'illa', 'die', 'eum', 'amplius', 'interrogare', '.', '23', 'Tunc', 'Jesus', 'locutus', 'est', 'ad', 'turbas', ',', 'et', 'ad', 'discipulos', 'suos', ',', '2', 'dicens', ':', 'Super', 'cathedram', 'Moysi', 'sederunt', 'scribae', 'et', 'pharisaei', '.', '3', 'Omnia', 'ergo', 'quaecumque', 'dixerint', 'vobis', ',', 'servate', ',', 'et', 'facite', ':', 'secundum', 'opera', 'vero', 'eorum', 'nolite', 'facere', ':', 'dicunt', 'enim', ',', 'et', 'non', 'faciunt', '.', '4', 'Alligant', 'enim', 'onera', 'gravia', ',', 'et', 'importabilia', ',', 'et', 'imponunt', 'in', 'humeros', 'hominum', ':', 'digito', 'autem', 'suo', 'nolunt', 'ea', 'movere', '.', '5', 'Omnia', 'vero', 'opera', 'sua', 'faciunt', 'ut', 'videantur', 'ab', 'hominibus', ':', 'dilatant', 'enim', 'phylacteria', 'sua', ',', 'et', 'magnificant', 'fimbrias', '.', '6', 'Amant', 'autem', 'primos', 'recubitus', 'in', 'coenis', ',', 'et', 'primas', 'cathedras', 'in', 'synagogis', ',', '7', 'et', 'salutationes', 'in', 'foro', ',', 'et', 'vocari', 'ab', 'hominibus', 'Rabbi', '.', '8', 'Vos', 'autem', 'nolite', 'vocari', 'Rabbi', ':', 'unus', 'est', 'enim', 'magister', 'vester', ',', 'omnes', 'autem', 'vos', 'fratres', 'estis', '.', '9', 'Et', 'patrem', 'nolite', 'vocare', 'vobis', 'super', 'terram', ':', 'unus', 'est', 'enim', 'pater', 'vester', 'qui', 'in', 'caelis', 'est', '.', '10', 'Nec', 'vocemini', 'magistri', ':', 'quia', 'magister', 'vester', 'unus', 'est', ',', 'Christus', '.', '11', 'Qui', 'major', 'est', 'vestrum', ',', 'erit', 'minister', 'vester', '.', '12', 'Qui', 'autem', 'se', 'exaltaverit', ',', 'humiliabitur', ':', 'et', 'qui', 'se', 'humiliaverit', ',', 'exaltabitur', '.', '13', 'Vae', 'autem', 'vobis', 'scribae', 'et', 'pharisaei', 'hypocritae', ',', 'quia', 'clauditis', 'regnum', 'caelorum', 'ante', 'homines', '!', 'vos', 'enim', 'non', 'intratis', ',', 'nec', 'introeuntes', 'sinitis', 'intrare', '.', '14', 'Vae', 'vobis', 'scribae', 'et', 'pharisaei', 'hypocritae', ',', 'quia', 'comeditis', 'domos', 'viduarum', ',', 'orationes', 'longas', 'orantes', '!', 'propter', 'hoc', 'amplius', 'accipietis', 'judicium', '.', '15', 'Vae', 'vobis', 'scribae', 'et', 'pharisaei', 'hypocritae', ',', 'quia', 'circuitis', 'mare', ',', 'et', 'aridam', ',', 'ut', 'faciatis', 'unum', 'proselytum', ',', 'et', 'cum', 'fuerit', 'factus', ',', 'facitis', 'eum', 'filium', 'gehennae', 'duplo', 'quam', 'vos', '.', '16', 'Vae', 'vobis', 'duces', 'caeci', ',', 'qui', 'dicitis', ':', 'Quicumque', 'juraverit', 'per', 'templum', ',', 'nihil', 'est', ':', 'qui', 'autem', 'juraverit', 'in', 'auro', 'templi', ',', 'debet', '.', '17', 'Stulti', 'et', 'caeci', ':', 'quid', 'enim', 'majus', 'est', '?', 'aurum', ',', 'an', 'templum', ',', 'quod', 'sanctificat', 'aurum', '?', '18', 'Et', 'quicumque', 'juraverit', 'in', 'altari', ',', 'nihil', 'est', ':', 'quicumque', 'autem', 'juraverit', 'in', 'dono', ',', 'quod', 'est', 'super', 'illud', ',', 'debet', '.', '19', 'Caeci', ':', 'quid', 'enim', 'majus', 'est', ',', 'donum', ',', 'an', 'altare', ',', 'quod', 'sanctificat', 'donum', '?', '20', 'Qui', 'ergo', 'jurat', 'in', 'altari', ',', 'jurat', 'in', 'eo', ',', 'et', 'in', 'omnibus', 'quae', 'super', 'illud', 'sunt', '.', '21', 'Et', 'quicumque', 'juraverit', 'in', 'templo', ',', 'jurat', 'in', 'illo', ',', 'et', 'in', 'eo', 'qui', 'habitat', 'in', 'ipso', ':', '22', 'et', 'qui', 'jurat', 'in', 'caelo', ',', 'jurat', 'in', 'throno', 'Dei', ',', 'et', 'in', 'eo', 'qui', 'sedet', 'super', 'eum', '.', '23', 'Vae', 'vobis', 'scribae', 'et', 'pharisaei', 'hypocritae', ',', 'qui', 'decimatis', 'mentham', ',', 'et', 'anethum', ',', 'et', 'cyminum', ',', 'et', 'reliquistis', 'quae', 'graviora', 'sunt', 'legis', ',', 'judicium', ',', 'et', 'misericordiam', ',', 'et', 'fidem', '!', 'haec', 'oportuit', 'facere', ',', 'et', 'illa', 'non', 'omittere', '.', '24', 'Duces', 'caeci', ',', 'excolantes', 'culicem', ',', 'camelum', 'autem', 'glutientes', '.', '25', 'Vae', 'vobis', 'scribae', 'et', 'pharisaei', 'hypocritae', ',', 'quia', 'mundatis', 'quod', 'deforis', 'est', 'calicis', 'et', 'paropsidis', ';', 'intus', 'autem', 'pleni', 'estis', 'rapina', 'et', 'immunditia', '!', '26', 'Pharisaee', 'caece', ',', 'munda', 'prius', 'quod', 'intus', 'est', 'calicis', ',', 'et', 'paropsidis', ',', 'ut', 'fiat', 'id', ',', 'quod', 'deforis', 'est', ',', 'mundum', '.', '27', 'Vae', 'vobis', 'scribae', 'et', 'pharisaei', 'hypocritae', ',', 'quia', 'similes', 'estis', 'sepulchris', 'dealbatis', ',', 'quae', 'a', 'foris', 'parent', 'hominibus', 'speciosa', ',', 'intus', 'vero', 'pleni', 'sunt', 'ossibus', 'mortuorum', ',', 'et', 'omni', 'spurcitia', '!', '28', 'Sic', 'et', 'vos', 'a', 'foris', 'quidem', 'paretis', 'hominibus', 'justi', ':', 'intus', 'autem', 'pleni', 'estis', 'hypocrisi', 'et', 'iniquitate', '.', '29', 'Vae', 'vobis', 'scribae', 'et', 'pharisaei', 'hypocritae', ',', 'qui', 'aedificatis', 'sepulchra', 'prophetarum', ',', 'et', 'ornatis', 'monumenta', 'justorum', ',', '30', 'et', 'dicitis', ':', 'Si', 'fuissemus', 'in', 'diebus', 'patrum', 'nostrorum', ',', 'non', 'essemus', 'socii', 'eorum', 'in', 'sanguine', 'prophetarum', '!', '31', 'itaque', 'testimonio', 'estis', 'vobismetipsis', ',', 'quia', 'filii', 'estis', 'eorum', ',', 'qui', 'prophetas', 'occiderunt', '.', '32', 'Et', 'vos', 'implete', 'mensuram', 'patrum', 'vestrorum', '.', '33', 'Serpentes', ',', 'genimina', 'viperarum', ',', 'quomodo', 'fugietis', 'a', 'judicio', 'gehennae', '?', '34', 'Ideo', 'ecce', 'ego', 'mitto', 'ad', 'vos', 'prophetas', ',', 'et', 'sapientes', ',', 'et', 'scribas', ',', 'et', 'ex', 'illis', 'occidetis', ',', 'et', 'crucifigetis', ',', 'et', 'ex', 'eis', 'flagellabitis', 'in', 'synagogis', 'vestris', ',', 'et', 'persequemini', 'de', 'civitate', 'in', 'civitatem', ':', '35', 'ut', 'veniat', 'super', 'vos', 'omnis', 'sanguis', 'justus', ',', 'qui', 'effusus', 'est', 'super', 'terram', ',', 'a', 'sanguine', 'Abel', 'justi', 'usque', 'ad', 'sanguinem', 'Zachariae', ',', 'filii', 'Barachiae', ',', 'quem', 'occidistis', 'inter', 'templum', 'et', 'altare', '.', '36', 'Ame', '-ne', 'dico', 'vobis', ',', 'venient', 'haec', 'omnia', 'super', 'generationem', 'istam', '.', '37', 'Jerusalem', ',', 'Jerusalem', ',', 'quae', 'occidis', 'prophetas', ',', 'et', 'lapidas', 'eos', ',', 'qui', 'ad', 'te', 'missi', 'sunt', ',', 'quoties', 'volui', 'congregare', 'filios', 'tuos', ',', 'quemadmodum', 'gallina', 'congregat', 'pullos', 'suos', 'sub', 'alas', ',', 'et', 'noluisti', '?', '38', 'Ecce', 'relinquetur', 'vobis', 'domus', 'vestra', 'deserta', '.', '39', 'Dico', 'enim', 'vobis', ',', 'non', 'me', 'videbitis', 'amodo', ',', 'donec', 'dicatis', ':', 'Benedictus', ',', 'qui', 'venit', 'in', 'nomine', 'Domini', '.', '24', 'Et', 'egressus', 'Jesus', 'de', 'templo', ',', 'ibat', '.', 'Et', 'accesserunt', 'discipuli', 'ejus', ',', 'ut', 'ostenderent', 'ei', 'aedificationes', 'templi', '.', '2', 'Ipse', 'autem', 'respondens', 'dixit', 'illis', ':', 'Videtis', 'haec', 'omnia', '?', 'ame', '-ne', 'dico', 'vobis', ',', 'non', 'relinquetur', 'hic', 'lapis', 'super', 'lapidem', ',', 'qui', 'non', 'destruatur', '.', '3', 'Sedente', 'autem', 'eo', 'super', 'montem', 'Oliveti', ',', 'accesserunt', 'ad', 'eum', 'discipuli', 'secreto', ',', 'dicentes', ':', 'Dic', 'nobis', ',', 'quando', 'haec', 'erunt', '?', 'et', 'quod', 'signum', 'adventus', 'tui', ',', 'et', 'consummationis', 'saeculi', '?', '4', 'Et', 'respondens', 'Jesus', ',', 'dixit', 'eis', ':', 'Videte', 'ne', 'quis', 'vos', 'seducat', ':', '5', 'multi', 'enim', 'venient', 'in', 'nomine', 'meo', ',', 'dicentes', ':', 'Ego', 'sum', 'Christus', ':', 'et', 'multos', 'seducent', '.', '6', 'Audituri', 'enim', 'estis', 'praelia', ',', 'et', 'opiniones', 'praeliorum', '.', 'Videte', 'ne', 'turbemini', ':', 'oportet', 'enim', 'haec', 'fieri', ',', 'sed', 'nondum', 'est', 'finis', ':', '7', 'consurget', 'enim', 'gens', 'in', 'gentem', ',', 'et', 'regnum', 'in', 'regnum', ',', 'et', 'erunt', 'pestilentiae', ',', 'et', 'fames', ',', 'et', 'terraemotus', 'per', 'loca', ':', '8', 'haec', 'autem', 'omnia', 'initia', 'sunt', 'dolorum', '.', '9', 'Tunc', 'tradent', 'vos', 'in', 'tribulationem', ',', 'et', 'occident', 'vos', ':', 'et', 'eritis', 'odio', 'omnibus', 'gentibus', 'propter', 'nomen', 'meum', '.', '10', 'Et', 'tunc', 'scandalizabuntur', 'multi', ',', 'et', 'invicem', 'tradent', ',', 'et', 'odio', 'habebunt', 'invicem', '.', '11', 'Et', 'multi', 'pseudoprophetae', 'surgent', ',', 'et', 'seducent', 'multos', '.', '12', 'Et', 'quoniam', 'abundavit', 'iniquitas', ',', 'refrigescet', 'caritas', 'multorum', ':', '13', 'qui', 'autem', 'perseveraverit', 'usque', 'in', 'finem', ',', 'hic', 'salvus', 'erit', '.', '14', 'Et', 'praedicabitur', 'hoc', 'Evangelium', 'regni', 'in', 'universo', 'orbe', ',', 'in', 'testimonium', 'omnibus', 'gentibus', ':', 'et', 'tunc', 'veniet', 'consummatio', '.', '15', 'Cum', 'ergo', 'videritis', 'abominationem', 'desolationis', ',', 'quae', 'dicta', 'est', 'a', 'Daniele', 'propheta', ',', 'stantem', 'in', 'loco', 'sancto', ',', 'qui', 'legit', ',', 'intelligat', ':', '16', 'tunc', 'qui', 'in', 'Judaea', 'sunt', ',', 'fugiant', 'ad', 'montes', ':', '17', 'et', 'qui', 'in', 'tecto', ',', 'non', 'descendat', 'tollere', 'aliquid', 'de', 'domo', 'sua', ':', '18', 'et', 'qui', 'in', 'agro', ',', 'non', 'revertatur', 'tollere', 'tunicam', 'suam', '.', '19', 'Vae', 'autem', 'praegnantibus', 'et', 'nutrientibus', 'in', 'illis', 'diebus', '!', '20', 'Orate', 'autem', 'ut', 'non', 'fiat', 'fuga', 'vestra', 'in', 'hieme', ',', 'vel', 'sabbato', ':', '21', 'erit', 'enim', 'tunc', 'tribulatio', 'magna', ',', 'qualis', 'non', 'fuit', 'ab', 'initio', 'mundi', 'usque', 'modo', ',', 'neque', 'fiet', '.', '22', 'Et', 'nisi', 'breviati', 'fuissent', 'dies', 'illi', ',', 'non', 'fieret', 'salva', 'omnis', 'caro', ':', 'sed', 'propter', 'electos', 'breviabuntur', 'dies', 'illi', '.', '23', 'Tunc', 'si', 'quis', 'vobis', 'dixerit', ':', 'Ecce', 'hic', 'est', 'Christus', ',', 'aut', 'illic', ':', 'nolite', 'credere', '.', '24', 'Surgent', 'enim', 'pseudochristi', ',', 'et', 'pseudoprophetae', ':', 'et', 'dabunt', 'signa', 'magna', ',', 'et', 'prodigia', ',', 'ita', 'ut', 'in', 'errorem', 'inducantur', '(', 'si', 'fieri', 'potest', ')', 'etiam', 'electi', '.', '25', 'Ecce', 'praedixi', 'vobis', '.', '26', 'Si', 'ergo', 'dixerint', 'vobis', ':', 'Ecce', 'in', 'deserto', 'est', ',', 'nolite', 'exire', ';', 'Ecce', 'in', 'penetralibus', ',', 'nolite', 'credere', '.', '27', 'Sicut', 'enim', 'fulgur', 'exit', 'ab', 'oriente', ',', 'et', 'paret', 'usque', 'in', 'occidentem', ':', 'ita', 'erit', 'et', 'adventus', 'Filii', 'hominis', '.', '28', 'Ubicumque', 'fuerit', 'corpus', ',', 'illic', 'congregabuntur', 'et', 'aquilae', '.', '29', 'Statim', 'autem', 'post', 'tribulationem', 'dierum', 'illorum', 'sol', 'obscurabitur', ',', 'et', 'luna', 'non', 'dabit', 'lumen', 'suum', ',', 'et', 'stellae', 'cadent', 'de', 'caelo', ',', 'et', 'virtutes', 'caelorum', 'commovebuntur', ':', '30', 'et', 'tunc', 'parebit', 'signum', 'Filii', 'hominis', 'in', 'caelo', ':', 'et', 'tunc', 'plangent', 'omnes', 'tribus', 'terrae', ':', 'et', 'videbunt', 'Filium', 'hominis', 'venientem', 'in', 'nubibus', 'caeli', 'cum', 'virtute', 'multa', 'et', 'majestate', '.', '31', 'Et', 'mittet', 'angelos', 'suos', 'cum', 'tuba', ',', 'et', 'voce', 'magna', ':', 'et', 'congregabunt', 'electos', 'ejus', 'a', 'quatuor', 'ventis', ',', 'a', 'summis', 'caelorum', 'usque', 'ad', 'terminos', 'eorum', '.', '32', 'Ab', 'arbore', 'autem', 'fici', 'discite', 'parabolam', ':', 'cum', 'jam', 'ramus', 'ejus', 'tener', 'fuerit', ',', 'et', 'folia', 'nata', ',', 'scitis', 'quia', 'prope', 'est', 'aestas', ':', '33', 'ita', 'et', 'vos', 'cum', 'videritis', 'haec', 'omnia', ',', 'scitote', 'quia', 'prope', 'est', ',', 'in', 'januis', '.', '34', 'Ame', '-ne', 'dico', 'vobis', ',', 'quia', 'non', 'praeteribit', 'generatio', 'haec', ',', 'donec', 'omnia', 'haec', 'fiant', '.', '35', 'Caelum', 'et', 'terra', 'transibunt', ',', 'verba', 'autem', 'mea', 'non', 'praeteribunt', '.', '36', 'De', 'die', 'autem', 'illa', 'et', 'hora', 'nemo', 'scit', ',', 'neque', 'angeli', 'caelorum', ',', 'nisi', 'solus', 'Pater', '.', '37', 'Sicut', 'autem', 'in', 'diebus', 'Noe', ',', 'ita', 'erit', 'et', 'adventus', 'Filii', 'hominis', ':', '38', 'sicut', 'enim', 'erant', 'in', 'diebus', 'ante', 'diluvium', 'comedentes', 'et', 'bibentes', ',', 'nubentes', 'et', 'nuptum', 'tradentes', ',', 'usque', 'ad', 'eum', 'diem', ',', 'quo', 'intravit', 'Noe', 'in', 'arcam', ',', '39', 'et', 'non', 'cognoverunt', 'donec', 'venit', 'diluvium', ',', 'et', 'tulit', 'omnes', ':', 'ita', 'erit', 'et', 'adventus', 'Filii', 'hominis', '.', '40', 'Tunc', 'duo', 'erunt', 'in', 'agro', ':', 'unus', 'assumetur', ',', 'et', 'unus', 'relinquetur', '.', '41', 'Duae', 'molentes', 'in', 'mola', ':', 'una', 'assumetur', ',', 'et', 'una', 'relinquetur', '.', '42', 'Vigilate', 'ergo', ',', 'quia', 'nescitis', 'qua', 'hora', 'Dominus', 'vester', 'venturus', 'sit', '.', '43', 'Illud', 'autem', 'scitote', ',', 'quoniam', 'si', 'sciret', 'paterfamilias', 'qua', 'hora', 'fur', 'venturus', 'esset', ',', 'vigilaret', 'utique', ',', 'et', 'non', 'sineret', 'perfodi', 'domum', 'suam', '.', '44', 'Ideo', 'et', 'vos', 'estote', 'parati', ':', 'quia', 'qua', 'nescitis', 'hora', 'Filius', 'hominis', 'venturus', 'est', '.', '45', 'Quis', ',', 'putas', ',', 'est', 'fidelis', 'servus', ',', 'et', 'prudens', ',', 'quem', 'constituit', 'dominus', 'suus', 'super', 'familiam', 'suam', 'ut', 'det', 'illis', 'cibum', 'in', 'tempore', '?', '46', 'Beatus', 'ille', 'servus', ',', 'quem', 'cum', 'venerit', 'dominus', 'ejus', ',', 'invenerit', 'sic', 'facientem', '.', '47', 'Ame', '-ne', 'dico', 'vobis', ',', 'quoniam', 'super', 'omnia', 'bona', 'sua', 'constituet', 'eum', '.', '48', 'Si', 'autem', 'dixerit', 'malus', 'servus', 'ille', 'in', 'corde', 'suo', ':', 'Moram', 'fecit', 'dominus', 'meus', 'venire', ':', '49', 'et', 'coeperit', 'percutere', 'conservos', 'suos', ',', 'manducet', 'autem', 'et', 'bibat', 'cum', 'ebriosis', ':', '50', 'veniet', 'dominus', 'servi', 'illius', 'in', 'die', 'qua', 'non', 'sperat', ',', 'et', 'hora', 'qua', 'ignorat', ':', '51', 'et', 'dividet', 'eum', ',', 'partemque', 'ejus', 'ponet', 'cum', 'hypocritis', ':', 'illic', 'erit', 'fletus', 'et', 'stridor', 'dentium', '.', '25', 'Tunc', 'simile', 'erit', 'regnum', 'caelorum', 'decem', 'virginibus', ':', 'quae', 'accipientes', 'lampades', 'suas', 'exierunt', 'obviam', 'sponso', 'et', 'sponsae', '.', '2', 'Quinque', 'autem', 'ex', 'eis', 'erant', 'fatuae', ',', 'et', 'quinque', 'prudentes', ':', '3', 'sed', 'quinque', 'fatuae', ',', 'acceptis', 'lampadibus', ',', 'non', 'sumpserunt', 'oleum', 'cum', 'se', ':', '4', 'prudentes', 'vero', 'acceperunt', 'oleum', 'in', 'vasis', 'suis', 'cum', 'lampadibus', '.', '5', 'Moram', 'autem', 'faciente', 'sponso', ',', 'dormitaverunt', 'omnes', 'et', 'dormierunt', '.', '6', 'Media', 'autem', 'nocte', 'clamor', 'factus', 'est', ':', 'Ecce', 'sponsus', 'venit', ',', 'exite', 'obviam', 'ei', '.', '7', 'Tunc', 'surrexerunt', 'omnes', 'virgines', 'illae', ',', 'et', 'ornaverunt', 'lampades', 'suas', '.', '8', 'Fatuae', 'autem', 'sapientibus', 'dixerunt', ':', 'Date', 'nobis', 'de', 'oleo', 'vestro', ',', 'quia', 'lampades', 'nostrae', 'extinguuntur', '.', '9', 'Responderunt', 'prudentes', ',', 'dicentes', ':', 'Ne', 'forte', 'non', 'sufficiat', 'nobis', ',', 'et', 'vobis', ',', 'ite', 'potius', 'ad', 'vendentes', ',', 'et', 'emite', 'vobis', '.', '10', 'Dum', 'autem', 'irent', 'emere', ',', 'venit', 'sponsus', ':', 'et', 'quae', 'paratae', 'erant', ',', 'intraverunt', 'cum', 'eo', 'ad', 'nuptias', ',', 'et', 'clausa', 'est', 'janua', '.', '11', 'Novissime', 'vero', 'veniunt', 'et', 'reliquae', 'virgines', ',', 'dicentes', ':', 'Domine', ',', 'domine', ',', 'aperi', 'nobis', '.', '12', 'At', 'ille', 'respondens', ',', 'ait', ':', 'Ame', '-ne', 'dico', 'vobis', ',', 'nescio', 'vos', '.', '13', 'Vigilate', 'itaque', ',', 'quia', 'nescitis', 'diem', ',', 'neque', 'horam', '.', '14', 'Sicut', 'enim', 'homo', 'peregre', 'proficiscens', ',', 'vocavit', 'servos', 'suos', ',', 'et', 'tradidit', 'illis', 'bona', 'sua', '.', '15', 'Et', 'uni', 'dedit', 'quinque', 'talenta', ',', 'alii', 'autem', 'duo', ',', 'alii', 'vero', 'unum', ',', 'unicuique', 'secundum', 'propriam', 'virtutem', ':', 'et', 'profectus', 'est', 'statim', '.', '16', 'Abiit', 'autem', 'qui', 'quinque', 'talenta', 'acceperat', ',', 'et', 'operatus', 'est', 'in', 'eis', ',', 'et', 'lucratus', 'est', 'alia', 'quinque', '.', '17', 'Similiter', 'et', 'qui', 'duo', 'acceperat', ',', 'lucratus', 'est', 'alia', 'duo', '.', '18', 'Qui', 'autem', 'unum', 'acceperat', ',', 'abiens', 'fodit', 'in', 'terram', ',', 'et', 'abscondit', 'pecuniam', 'domini', 'sui', '.', '19', 'Post', 'multum', 'vero', 'temporis', 'venit', 'dominus', 'servorum', 'illorum', ',', 'et', 'posuit', 'rationem', 'cum', 'eis', '.', '20', 'Et', 'accedens', 'qui', 'quinque', 'talenta', 'acceperat', ',', 'obtulit', 'alia', 'quinque', 'talenta', ',', 'dicens', ':', 'Domine', ',', 'quinque', 'talenta', 'tradidisti', 'mihi', ',', 'ecce', 'alia', 'quinque', 'superlucratus', 'sum', '.', '21', 'Ait', 'illi', 'dominus', 'ejus', ':', 'Euge', 'serve', 'bone', ',', 'et', 'fidelis', ':', 'quia', 'super', 'pauca', 'fuisti', 'fidelis', ',', 'super', 'multa', 'te', 'constituam', ';', 'intra', 'in', 'gaudium', 'domini', 'tui', '.', '22', 'Accessit', 'autem', 'et', 'qui', 'duo', 'talenta', 'acceperat', ',', 'et', 'ait', ':', 'Domine', ',', 'duo', 'talenta', 'tradidisti', 'mihi', ',', 'ecce', 'alia', 'duo', 'lucratus', 'sum', '.', '23', 'Ait', 'illi', 'dominus', 'ejus', ':', 'Euge', 'serve', 'bone', ',', 'et', 'fidelis', ':', 'quia', 'super', 'pauca', 'fuisti', 'fidelis', ',', 'super', 'multa', 'te', 'constituam', ';', 'intra', 'in', 'gaudium', 'domini', 'tui', '.', '24', 'Accedens', 'autem', 'et', 'qui', 'unum', 'talentum', 'acceperat', ',', 'ait', ':', 'Domine', ',', 'scio', 'quia', 'homo', 'durus', 'es', ';', 'metis', 'ubi', 'non', 'seminasti', ',', 'et', 'congregas', 'ubi', 'non', 'sparsisti', ':', '25', 'et', 'timens', 'abii', ',', 'et', 'abscondi', 'talentum', 'tuum', 'in', 'terra', ':', 'ecce', 'habes', 'quod', 'tuum', 'est', '.', '26', 'Respondens', 'autem', 'dominus', 'ejus', ',', 'dixit', 'ei', ':', 'Serve', 'male', ',', 'et', 'piger', ',', 'sciebas', 'quia', 'meto', 'ubi', 'non', 'semino', ',', 'et', 'congrego', 'ubi', 'non', 'sparsi', ':', '27', 'oportuit', 'ergo', 'te', 'committere', 'pecuniam', 'meam', 'numulariis', ',', 'et', 'veniens', 'ego', 'recepissem', 'utique', 'quod', 'meum', 'est', 'cum', 'usura', '.', '28', 'Tollite', 'itaque', 'ab', 'eo', 'talentum', ',', 'et', 'date', 'ei', 'qui', 'habet', 'decem', 'talenta', ':', '29', 'omni', 'enim', 'habenti', 'dabitur', ',', 'et', 'abundabit', ':', 'ei', 'autem', 'qui', 'non', 'habet', ',', 'et', 'quod', 'videtur', 'habere', ',', 'auferetur', 'ab', 'eo', '.', '30', 'Et', 'inutilem', 'servum', 'ejicite', 'in', 'tenebras', 'exteriores', ':', 'illic', 'erit', 'fletus', ',', 'et', 'stridor', 'dentium', '.', '31', 'Cum', 'autem', 'venerit', 'Filius', 'hominis', 'in', 'majestate', 'sua', ',', 'et', 'omnes', 'angeli', 'cum', 'eo', ',', 'tunc', 'sedebit', 'super', 'sedem', 'majestatis', 'suae', ':', '32', 'et', 'congregabuntur', 'ante', 'eum', 'omnes', 'gentes', ',', 'et', 'separabit', 'eos', 'ab', 'invicem', ',', 'sicut', 'pastor', 'segregat', 'oves', 'ab', 'haedis', ':', '33', 'et', 'statuet', 'oves', 'quidem', 'a', 'dextris', 'suis', ',', 'haedos', 'autem', 'a', 'sinistris', '.', '34', 'Tunc', 'dicet', 'rex', 'his', 'qui', 'a', 'dextris', 'ejus', 'erunt', ':', 'Venite', 'benedicti', 'Patris', 'mei', ',', 'possidete', 'paratum', 'vobis', 'regnum', 'a', 'constitutione', 'mundi', ':', '35', 'esurivi', 'enim', ',', 'et', 'dedistis', 'mihi', 'manducare', ':', 'sitivi', ',', 'et', 'dedistis', 'mihi', 'bibere', ':', 'hospes', 'eram', ',', 'et', 'collegistis', 'me', ':', '36', 'nudus', ',', 'et', 'cooperuistis', 'me', ':', 'infirmus', ',', 'et', 'visitastis', 'me', ':', 'in', 'carcere', 'eram', ',', 'et', 'venistis', 'ad', 'me', '.', '37', 'Tunc', 'respondebunt', 'ei', 'justi', ',', 'dicentes', ':', 'Domine', ',', 'quando', 'te', 'vidimus', 'esurientem', ',', 'et', 'pavimus', 'te', ':', 'sitientem', ',', 'et', 'dedimus', 'tibi', 'potum', '?', '38', 'quando', 'autem', 'te', 'vidimus', 'hospitem', ',', 'et', 'collegimus', 'te', ':', 'aut', 'nudum', ',', 'et', 'cooperuimus', 'te', '?', '39', 'aut', 'quando', 'te', 'vidimus', 'infirmum', ',', 'aut', 'in', 'carcere', ',', 'et', 'venimus', 'ad', 'te', '?', '40', 'Et', 'respondens', 'rex', ',', 'dicet', 'illis', ':', 'Ame', '-ne', 'dico', 'vobis', ',', 'quamdiu', 'fecistis', 'uni', 'ex', 'his', 'fratribus', 'meis', 'minimis', ',', 'mihi', 'fecistis', '.', '41', 'Tunc', 'dicet', 'et', 'his', 'qui', 'a', 'sinistris', 'erunt', ':', 'Discedite', 'a', 'me', 'maledicti', 'in', 'ignem', 'aeternum', ',', 'qui', 'paratus', 'est', 'diabolo', ',', 'et', 'angelis', 'ejus', ':', '42', 'esurivi', 'enim', ',', 'et', 'non', 'dedistis', 'mihi', 'manducare', ':', 'sitivi', ',', 'et', 'non', 'dedistis', 'mihi', 'potum', ':', '43', 'hospes', 'eram', ',', 'et', 'non', 'collegistis', 'me', ':', 'nudus', ',', 'et', 'non', 'cooperuistis', 'me', ':', 'infirmus', ',', 'et', 'in', 'carcere', ',', 'et', 'non', 'visitastis', 'me', '.', '44', 'Tunc', 'respondebunt', 'ei', 'et', 'ipsi', ',', 'dicentes', ':', 'Domine', ',', 'quando', 'te', 'vidimus', 'esurientem', ',', 'aut', 'sitientem', ',', 'aut', 'hospitem', ',', 'aut', 'nudum', ',', 'aut', 'infirmum', ',', 'aut', 'in', 'carcere', ',', 'et', 'non', 'ministravimus', 'tibi', '?', '45', 'Tunc', 'respondebit', 'illis', ',', 'dicens', ':', 'Ame', '-ne', 'dico', 'vobis', ':', 'Quamdiu', 'non', 'fecistis', 'uni', 'de', 'minoribus', 'his', ',', 'nec', 'mihi', 'fecistis', '.', '46', 'Et', 'ibunt', 'hi', 'in', 'supplicium', 'aeternum', ':', 'justi', 'autem', 'in', 'vitam', 'aeternam', '.', '26', 'Et', 'factum', 'est', ':', 'cum', 'consummasset', 'Jesus', 'sermones', 'hos', 'omnes', ',', 'dixit', 'discipulis', 'suis', ':', '2', 'Scitis', 'quia', 'post', 'biduum', 'Pascha', 'fiet', ',', 'et', 'Filius', 'hominis', 'tradetur', 'ut', 'crucifigatur', '.', '3', 'Tunc', 'congregati', 'sunt', 'principes', 'sacerdotum', ',', 'et', 'seniores', 'populi', ',', 'in', 'atrium', 'principis', 'sacerdotum', ',', 'qui', 'dicebatur', 'Caiphas', ':', '4', 'et', 'consilium', 'fecerunt', 'ut', 'Jesum', 'dolo', 'tenerent', ',', 'et', 'occiderent', '.', '5', 'Dicebant', 'autem', ':', 'Non', 'in', 'die', 'festo', ',', 'ne', 'forte', 'tumultus', 'fieret', 'in', 'populo', '.', '6', 'Cum', 'autem', 'Jesus', 'esset', 'in', 'Bethania', 'in', 'domo', 'Simonis', 'leprosi', ',', '7', 'accessit', 'ad', 'eum', 'mulier', 'habens', 'alabastrum', 'unguenti', 'pretiosi', ',', 'et', 'effudit', 'super', 'caput', 'ipsius', 'recumbentis', '.', '8', 'Videntes', 'autem', 'discipuli', ',', 'indignati', 'sunt', ',', 'dicentes', ':', 'Ut', 'quid', 'perditio', 'haec', '?', '9', 'potuit', 'enim', 'istud', 'venundari', 'multo', ',', 'et', 'dari', 'pauperibus', '.', '10', 'Sciens', 'autem', 'Jesus', ',', 'ait', 'illis', ':', 'Quid', 'molesti', 'estis', 'huic', 'mulieri', '?', 'opus', 'enim', 'bonum', 'operata', 'est', 'in', 'me', '.', '11', 'Nam', 'semper', 'pauperes', 'habetis', 'cum', 'vobis', ':', 'me', 'autem', 'non', 'semper', 'habetis', '.', '12', 'Mittens', 'enim', 'haec', 'unguentum', 'hoc', 'in', 'corpus', 'meum', ',', 'ad', 'sepeliendum', 'me', 'fecit', '.', '13', 'Ame', '-ne', 'dico', 'vobis', ',', 'ubicumque', 'praedicatum', 'fuerit', 'hoc', 'Evangelium', 'in', 'toto', 'mundo', ',', 'dicetur', 'et', 'quod', 'haec', 'fecit', 'in', 'memoriam', 'ejus', '.', '14', 'Tunc', 'abiit', 'unus', 'de', 'duodecim', ',', 'qui', 'dicebatur', 'Judas', 'Iscariotes', ',', 'ad', 'principes', 'sacerdotum', ':', '15', 'et', 'ait', 'illis', ':', 'Quid', 'vultis', 'mihi', 'dare', ',', 'et', 'ego', 'vobis', 'eum', 'tradam', '?', 'At', 'illi', 'constituerunt', 'ei', 'triginta', 'argenteos', '.', '16', 'Et', 'exinde', 'quaerebat', 'opportunitatem', 'ut', 'eum', 'traderet', '.', '17', 'Prima', 'autem', 'die', 'azymorum', 'accesserunt', 'discipuli', 'ad', 'Jesum', ',', 'dicentes', ':', 'Ubi', 'vis', 'paremus', 'tibi', 'comedere', 'Pascha', '?', '18', 'At', 'Jesus', 'dixit', ':', 'Ite', 'in', 'civitatem', 'ad', 'quemdam', ',', 'et', 'dicite', 'ei', ':', 'Magister', 'dicit', ':', 'Tempus', 'meum', 'prope', 'est', ',', 'apud', 'te', 'facio', 'Pascha', 'cum', 'discipulis', 'meis', '.', '19', 'Et', 'fecerunt', 'discipuli', 'sicut', 'constituit', 'illis', 'Jesus', ',', 'et', 'paraverunt', 'Pascha', '.', '20', 'Vespere', 'autem', 'facto', ',', 'discumbebat', 'cum', 'duodecim', 'discipulis', 'suis', '.', '21', 'Et', 'edentibus', 'illis', ',', 'dixit', ':', 'Ame', '-ne', 'dico', 'vobis', ',', 'quia', 'unus', 'vestrum', 'me', 'traditurus', 'est', '.', '22', 'Et', 'contristati', 'valde', ',', 'coeperunt', 'singuli', 'dicere', ':', 'Numquid', 'ego', 'sum', 'Domine', '?', '23', 'At', 'ipse', 'respondens', ',', 'ait', ':', 'Qui', 'intingit', 'cum', 'me', 'manum', 'in', 'paropside', ',', 'hic', 'me', 'tradet', '.', '24', 'Filius', 'quidem', 'hominis', 'vadit', ',', 'sicut', 'scriptum', 'est', 'de', 'illo', ':', 'vae', 'autem', 'homini', 'illi', ',', 'per', 'quem', 'Filius', 'hominis', 'tradetur', '!', 'bonum', 'erat', 'ei', ',', 'si', 'natus', 'non', 'fuisset', 'homo', 'ille', '.', '25', 'Respondens', 'autem', 'Judas', ',', 'qui', 'tradidit', 'eum', ',', 'dixit', ':', 'Numquid', 'ego', 'sum', 'Rabbi', '?', 'Ait', 'illi', ':', 'Tu', 'dixisti', '.', '26', 'Coenantibus', 'autem', 'eis', ',', 'accepit', 'Jesus', 'panem', ',', 'et', 'benedixit', ',', 'ac', 'fregit', ',', 'deditque', 'discipulis', 'suis', ',', 'et', 'ait', ':', 'Accipite', ',', 'et', 'comedite', ':', 'hoc', 'est', 'corpus', 'meum', '.', '27', 'Et', 'accipiens', 'calicem', ',', 'gratias', 'egit', ':', 'et', 'dedit', 'illis', ',', 'dicens', ':', 'Bibite', 'ex', 'hoc', 'omnes', '.', '28', 'Hic', 'est', 'enim', 'sanguis', 'meus', 'novi', 'testamenti', ',', 'qui', 'pro', 'multis', 'effundetur', 'in', 'remissionem', 'peccatorum', '.', '29', 'Dico', 'autem', 'vobis', ':', 'non', 'bibam', 'amodo', 'de', 'hoc', 'genimine', 'vitis', 'usque', 'in', 'diem', 'illum', ',', 'cum', 'illud', 'bibam', 'cum', 'vobis', 'novum', 'in', 'regno', 'Patris', 'mei', '.', '30', 'Et', 'hymno', 'dicto', ',', 'exierunt', 'in', 'montem', 'Oliveti', '.', '31', 'Tunc', 'dicit', 'illis', 'Jesus', ':', 'Omnes', 'vos', 'scandalum', 'patiemini', 'in', 'me', 'in', 'ista', 'nocte', '.', 'Scriptum', 'est', 'enim', ':', 'Percutiam', 'pastorem', ',', 'et', 'dispergentur', 'oves', 'gregis', '.', '32', 'Postquam', 'autem', 'resurrexero', ',', 'praecedam', 'vos', 'in', 'Galilaeam', '.', '33', 'Respondens', 'autem', 'Petrus', ',', 'ait', 'illi', ':', 'Et', 'si', 'omnes', 'scandalizati', 'fuerint', 'in', 'te', ',', 'ego', 'numquam', 'scandalizabor', '.', '34', 'Ait', 'illi', 'Jesus', ':', 'Ame', '-ne', 'dico', 'tibi', ',', 'quia', 'in', 'hac', 'nocte', ',', 'antequam', 'gallus', 'cantet', ',', 'ter', 'me', 'negabis', '.', '35', 'Ait', 'illi', 'Petrus', ':', 'Etiamsi', 'oportuerit', 'me', 'mori', 'cum', 'te', ',', 'non', 'te', 'negabo', '.', 'Similiter', 'et', 'omnes', 'discipuli', 'dixerunt', '.', '36', 'Tunc', 'venit', 'Jesus', 'cum', 'illis', 'in', 'villam', ',', 'quae', 'dicitur', 'Gethsemani', ',', 'et', 'dixit', 'discipulis', 'suis', ':', 'Sedete', 'hic', 'donec', 'vadam', 'illuc', ',', 'et', 'orem', '.', '37', 'Et', 'assumpto', 'Petro', ',', 'et', 'duobus', 'filiis', 'Zebedaei', ',', 'coepit', 'contristari', 'et', 'moestus', 'esse', '.', '38', 'Tunc', 'ait', 'illis', ':', 'Tristis', 'est', 'anima', 'mea', 'usque', 'ad', 'mortem', ':', 'sustinete', 'hic', ',', 'et', 'vigilate', 'cum', 'me', '.', '39', 'Et', 'progressus', 'pusillum', ',', 'procidit', 'in', 'faciem', 'suam', ',', 'orans', ',', 'et', 'dicens', ':', 'Pater', 'mi', ',', 'si', 'possibile', 'est', ',', 'transeat', 'a', 'me', 'calix', 'iste', ':', 'verumtame', '-ne', 'non', 'sicut', 'ego', 'volo', ',', 'sed', 'sicut', 'tu', '.', '40', 'Et', 'venit', 'ad', 'discipulos', 'suos', ',', 'et', 'invenit', 'eos', 'dormientes', ',', 'et', 'dicit', 'Petro', ':', 'Sic', 'non', 'potuistis', 'una', 'hora', 'vigilare', 'cum', 'me', '?', '41', 'Vigilate', ',', 'et', 'orate', 'ut', 'non', 'intretis', 'in', 'tentationem', '.', 'Spiritus', 'quidem', 'promptus', 'est', ',', 'caro', 'autem', 'infirma', '.', '42', 'Iterum', 'secundo', 'abiit', ',', 'et', 'oravit', ',', 'dicens', ':', 'Pater', 'mi', ',', 'si', 'non', 'potest', 'hic', 'calix', 'transire', 'nisi', 'bibam', 'illum', ',', 'fiat', 'voluntas', 'tua', '.', '43', 'Et', 'venit', 'iterum', ',', 'et', 'invenit', 'eos', 'dormientes', ':', 'erant', 'enim', 'oculi', 'eorum', 'gravati', '.', '44', 'Et', 'relictis', 'illis', ',', 'iterum', 'abiit', ',', 'et', 'oravit', 'tertio', ',', 'eumdem', 'sermonem', 'dicens', '.', '45', 'Tunc', 'venit', 'ad', 'discipulos', 'suos', ',', 'et', 'dicit', 'illis', ':', 'Dormite', 'jam', ',', 'et', 'requiescite', ':', 'ecce', 'appropinquavit', 'hora', ',', 'et', 'Filius', 'hominis', 'tradetur', 'in', 'manus', 'peccatorum', '.', '46', 'Surgite', ',', 'eamus', ':', 'ecce', 'appropinquavit', 'qui', 'me', 'tradet', '.', '47', 'Adhuc', 'eo', 'loquente', ',', 'ecce', 'Judas', 'unus', 'de', 'duodecim', 'venit', ',', 'et', 'cum', 'eo', 'turba', 'multa', 'cum', 'gladiis', 'et', 'fustibus', ',', 'missi', 'a', 'principibus', 'sacerdotum', ',', 'et', 'senioribus', 'populi', '.', '48', 'Qui', 'autem', 'tradidit', 'eum', ',', 'dedit', 'illis', 'signum', ',', 'dicens', ':', 'Quemcumque', 'osculatus', 'fuero', ',', 'ipse', 'est', ',', 'tenete', 'eum', '.', '49', 'Et', 'confestim', 'accedens', 'ad', 'Jesum', ',', 'dixit', ':', 'Ave', 'Rabbi', '.', 'Et', 'osculatus', 'est', 'eum', '.', '50', 'Dixitque', 'illi', 'Jesus', ':', 'Amice', ',', 'ad', 'quid', 'venisti', '?', 'Tunc', 'accesserunt', ',', 'et', 'manus', 'injecerunt', 'in', 'Jesum', ',', 'et', 'tenuerunt', 'eum', '.', '51', 'Et', 'ecce', 'unus', 'ex', 'his', 'qui', 'erant', 'cum', 'Jesu', ',', 'extendens', 'manum', ',', 'exemit', 'gladium', 'suum', ',', 'et', 'percutiens', 'servum', 'principis', 'sacerdotum', 'amputavit', 'auriculam', 'ejus', '.', '52', 'Tunc', 'ait', 'illi', 'Jesus', ':', 'Converte', 'gladium', 'tuum', 'in', 'locum', 'suum', ':', 'omnes', 'enim', ',', 'qui', 'acceperint', 'gladium', ',', 'gladio', 'peribunt', '.', '53', 'An', 'putas', ',', 'quia', 'non', 'possum', 'rogare', 'patrem', 'meum', ',', 'et', 'exhibebit', 'mihi', 'modo', 'plusquam', 'duodecim', 'legiones', 'angelorum', '?', '54', 'Quomodo', 'ergo', 'implebuntur', 'Scripturae', ',', 'quia', 'sic', 'oportet', 'fieri', '?', '55', 'In', 'illa', 'hora', 'dixit', 'Jesus', 'turbis', ':', 'Tamquam', 'ad', 'latronem', 'existis', 'cum', 'gladiis', 'et', 'fustibus', 'comprehendere', 'me', ':', 'quotidie', 'apud', 'vos', 'sedebam', 'docens', 'in', 'templo', ',', 'et', 'non', 'me', 'tenuistis', '.', '56', 'Hoc', 'autem', 'totum', 'factum', 'est', ',', 'ut', 'adimplerentur', 'Scripturae', 'prophetarum', '.', 'Tunc', 'discipuli', 'omnes', ',', 'relicto', 'eo', ',', 'fugerunt', '.', '57', 'At', 'illi', 'tenentes', 'Jesum', ',', 'duxerunt', 'ad', 'Caipham', 'principem', 'sacerdotum', ',', 'ubi', 'scribae', 'et', 'seniores', 'convenerant', '.', '58', 'Petrus', 'autem', 'sequebatur', 'eum', 'a', 'longe', ',', 'usque', 'in', 'atrium', 'principis', 'sacerdotum', '.', 'Et', 'ingressus', 'intro', ',', 'sedebat', 'cum', 'ministris', ',', 'ut', 'videret', 'finem', '.', '59', 'Principes', 'autem', 'sacerdotum', ',', 'et', 'omne', 'concilium', ',', 'quaerebant', 'falsum', 'testimonium', 'contra', 'Jesum', ',', 'ut', 'eum', 'morti', 'traderent', ':', '60', 'et', 'non', 'invenerunt', ',', 'cum', 'multi', 'falsi', 'testes', 'accessissent', '.', 'Novissime', 'autem', 'venerunt', 'duo', 'falsi', 'testes', ',', '61', 'et', 'dixerunt', ':', 'Hic', 'dixit', ':', 'Possum', 'destruere', 'templum', 'Dei', ',', 'et', 'post', 'triduum', 'reaedificare', 'illud', '.', '62', 'Et', 'surgens', 'princeps', 'sacerdotum', ',', 'ait', 'illi', ':', 'Nihil', 'respondes', 'ad', 'ea', ',', 'quae', 'isti', 'adversum', 'te', 'testificantur', '?', '63', 'Jesus', 'autem', 'tacebat', '.', 'Et', 'princeps', 'sacerdotum', 'ait', 'illi', ':', 'Adjuro', 'te', 'per', 'Deum', 'vivum', ',', 'ut', 'dicas', 'nobis', 'si', 'tu', 'es', 'Christus', 'Filius', 'Dei', '.', '64', 'Dicit', 'illi', 'Jesus', ':', 'Tu', 'dixisti', '.', 'Verumtame', '-ne', 'dico', 'vobis', ',', 'amodo', 'videbitis', 'Filium', 'hominis', 'sedentem', 'a', 'dextris', 'virtutis', 'Dei', ',', 'et', 'venientem', 'in', 'nubibus', 'caeli', '.', '65', 'Tunc', 'princeps', 'sacerdotum', 'scidit', 'vestimenta', 'sua', ',', 'dicens', ':', 'Blasphemavit', ':', 'quid', 'adhuc', 'egemus', 'testibus', '?', 'ecce', 'nunc', 'audistis', 'blasphemiam', ':', '66', 'quid', 'vobis', 'videtur', '?', 'At', 'illi', 'respondentes', 'dixerunt', ':', 'Reus', 'est', 'mortis', '.', '67', 'Tunc', 'exspuerunt', 'in', 'faciem', 'ejus', ',', 'et', 'colaphis', 'eum', 'ceciderunt', ',', 'alii', 'autem', 'palmas', 'in', 'faciem', 'ejus', 'dederunt', ',', '68', 'dicentes', ':', 'Prophetiza', 'nobis', 'Christe', ',', 'quis', 'est', 'qui', 'te', 'percussit', '?', '69', 'Petrus', 'vero', 'sedebat', 'foris', 'in', 'atrio', ':', 'et', 'accessit', 'ad', 'eum', 'una', 'ancilla', ',', 'dicens', ':', 'Et', 'tu', 'cum', 'Jesu', 'Galilaeo', 'eras', '.', '70', 'At', 'ille', 'negavit', 'coram', 'omnibus', ',', 'dicens', ':', 'Nescio', 'quid', 'dicis', '.', '71', 'Exeunte', 'autem', 'illo', 'januam', ',', 'vidit', 'eum', 'alia', 'ancilla', ',', 'et', 'ait', 'his', 'qui', 'erant', 'ibi', ':', 'Et', 'hic', 'erat', 'cum', 'Jesu', 'Nazareno', '.', '72', 'Et', 'iterum', 'negavit', 'cum', 'juramento', ':', 'Quia', 'non', 'novi', 'hominem', '.', '73', 'Et', 'post', 'pusillum', 'accesserunt', 'qui', 'stabant', ',', 'et', 'dixerunt', 'Petro', ':', 'Vere', 'et', 'tu', 'ex', 'illis', 'es', ':', 'nam', 'et', 'loquela', 'tua', 'manifestum', 'te', 'facit', '.', '74', 'Tunc', 'coepit', 'detestari', 'et', 'jurare', 'quia', 'non', 'novisset', 'hominem', '.', 'Et', 'continuo', 'gallus', 'cantavit', '.', '75', 'Et', 'recordatus', 'est', 'Petrus', 'verbi', 'Jesu', ',', 'quod', 'dixerat', ':', 'Priusquam', 'gallus', 'cantet', ',', 'ter', 'me', 'negabis', '.', 'Et', 'egressus', 'foras', ',', 'flevit', 'amare', '.', '27', 'Mane', 'autem', 'facto', ',', 'consilium', 'inierunt', 'omnes', 'principes', 'sacerdotum', 'et', 'seniores', 'populi', 'adversus', 'Jesum', ',', 'ut', 'eum', 'morti', 'traderent', '.', '2', 'Et', 'vinctum', 'adduxerunt', 'eum', ',', 'et', 'tradiderunt', 'Pontio', 'Pilato', 'praesidi', '.', '3', 'Tunc', 'videns', 'Judas', ',', 'qui', 'eum', 'tradidit', ',', 'quod', 'damnatus', 'esset', ',', 'poenitentia', 'ductus', ',', 'retulit', 'triginta', 'argenteos', 'principibus', 'sacerdotum', ',', 'et', 'senioribus', ',', '4', 'dicens', ':', 'Peccavi', ',', 'tradens', 'sanguinem', 'justum', '.', 'At', 'illi', 'dixerunt', ':', 'Quid', 'ad', 'nos', '?', 'tu', 'videris', '.', '5', 'Et', 'projectis', 'argenteis', 'in', 'templo', ',', 'recessit', ':', 'et', 'abiens', 'laqueo', 'se', 'suspendit', '.', '6', 'Principes', 'autem', 'sacerdotum', ',', 'acceptis', 'argenteis', ',', 'dixerunt', ':', 'Non', 'licet', 'eos', 'mittere', 'in', 'corbonam', ':', 'quia', 'pretium', 'sanguinis', 'est', '.', '7', 'Consilio', 'autem', 'inito', ',', 'emerunt', 'ex', 'illis', 'agrum', 'figuli', ',', 'in', 'sepulturam', 'peregrinorum', '.', '8', 'Propter', 'hoc', 'vocatus', 'est', 'ager', 'ille', ',', 'Haceldama', ',', 'hoc', 'est', ',', 'Ager', 'sanguinis', ',', 'usque', 'in', 'hodiernum', 'diem', '.', '9', 'Tunc', 'impletum', 'est', 'quod', 'dictum', 'est', 'per', 'Jeremiam', 'prophetam', ',', 'dicentem', ':', 'Et', 'acceperunt', 'triginta', 'argenteos', 'pretium', 'appretiati', ',', 'quem', 'appretiaverunt', 'a', 'filiis', 'Israel', ':', '10', 'et', 'dederunt', 'eos', 'in', 'agrum', 'figuli', ',', 'sicut', 'constituit', 'mihi', 'Dominus', '.', '11', 'Jesus', 'autem', 'stetit', 'ante', 'praesidem', ',', 'et', 'interrogavit', 'eum', 'praeses', ',', 'dicens', ':', 'Tu', 'es', 'rex', 'Judaeorum', '?', 'Dicit', 'illi', 'Jesus', ':', 'Tu', 'dicis', '.', '12', 'Et', 'cum', 'accusaretur', 'a', 'principibus', 'sacerdotum', 'et', 'senioribus', ',', 'nihil', 'respondit', '.', '13', 'Tunc', 'dicit', 'illi', 'Pilatus', ':', 'Non', 'audis', 'quanta', 'adversum', 'te', 'dicunt', 'testimonia', '?', '14', 'Et', 'non', 'respondit', 'ei', 'ad', 'ullum', 'verbum', ',', 'ita', 'ut', 'miraretur', 'praeses', 'vehementer', '.', '15', 'Per', 'diem', 'autem', 'solemnem', 'consueverat', 'praeses', 'populo', 'dimittere', 'unum', 'vinctum', ',', 'quem', 'voluissent', ':', '16', 'habebat', 'autem', 'tunc', 'vinctum', 'insignem', ',', 'qui', 'dicebatur', 'Barabbas', '.', '17', 'Congregatis', 'ergo', 'illis', ',', 'dixit', 'Pilatus', ':', 'Quem', 'vultis', 'dimittam', 'vobis', ':', 'Barabbam', ',', 'an', 'Jesum', ',', 'qui', 'dicitur', 'Christus', '?', '18', 'Sciebat', 'enim', 'quod', 'per', 'invidiam', 'tradidissent', 'eum', '.', '19', 'Sedente', 'autem', 'illo', 'pro', 'tribunali', ',', 'misit', 'ad', 'eum', 'uxor', 'ejus', ',', 'dicens', ':', 'Nihil', 'tibi', ',', 'et', 'justo', 'illi', ':', 'multa', 'enim', 'passa', 'sum', 'hodie', 'per', 'visum', 'propter', 'eum', '.', '20', 'Principes', 'autem', 'sacerdotum', 'et', 'seniores', 'persuaserunt', 'populis', 'ut', 'peterent', 'Barabbam', ',', 'Jesum', 'vero', 'perderent', '.', '21', 'Respondens', 'autem', 'praeses', ',', 'ait', 'illis', ':', 'Quem', 'vultis', 'vobis', 'de', 'duobus', 'dimitti', '?', 'At', 'illi', 'dixerunt', ':', 'Barabbam', '.', '22', 'Dicit', 'illis', 'Pilatus', ':', 'Quid', 'igitur', 'faciam', 'de', 'Jesu', ',', 'qui', 'dicitur', 'Christus', '?', '23', 'Dicunt', 'omnes', ':', 'Crucifigatur', '.', 'Ait', 'illis', 'praeses', ':', 'Quid', 'enim', 'mali', 'fecit', '?', 'At', 'illi', 'magis', 'clamabant', 'dicentes', ':', 'Crucifigatur', '.', '24', 'Videns', 'autem', 'Pilatus', 'quia', 'nihil', 'proficeret', ',', 'sed', 'magis', 'tumultus', 'fieret', ':', 'accepta', 'aqua', ',', 'lavit', 'manus', 'coram', 'populo', ',', 'dicens', ':', 'Innocens', 'ego', 'sum', 'a', 'sanguine', 'justi', 'hujus', ':', 'vos', 'videritis', '.', '25', 'Et', 'respondens', 'universus', 'populus', ',', 'dixit', ':', 'Sanguis', 'ejus', 'super', 'nos', ',', 'et', 'super', 'filios', 'nostros', '.', '26', 'Tunc', 'dimisit', 'illis', 'Barabbam', ':', 'Jesum', 'autem', 'flagellatum', 'tradidit', 'eis', 'ut', 'crucifigeretur.', '27', 'Tunc', 'milites', 'praesidis', 'suscipientes', 'Jesum', 'in', 'praetorium', ',', 'congregaverunt', 'ad', 'eum', 'universam', 'cohortem', ':', '28', 'et', 'exuentes', 'eum', ',', 'chlamydem', 'coccineam', 'circumdederunt', 'ei', ',', '29', 'et', 'plectentes', 'coronam', 'de', 'spinis', ',', 'posuerunt', 'super', 'caput', 'ejus', ',', 'et', 'arundinem', 'in', 'dextera', 'ejus', '.', 'Et', 'genu', 'flexo', 'ante', 'eum', ',', 'illudebant', 'ei', ',', 'dicentes', ':', 'Ave', 'rex', 'Judaeorum', '.', '30', 'Et', 'exspuentes', 'in', 'eum', ',', 'acceperunt', 'arundinem', ',', 'et', 'percutiebant', 'caput', 'ejus', '.', '31', 'Et', 'postquam', 'illuserunt', 'ei', ',', 'exuerunt', 'eum', 'chlamyde', ',', 'et', 'induerunt', 'eum', 'vestimentis', 'ejus', ',', 'et', 'duxerunt', 'eum', 'ut', 'crucifigerent', '.', '32', 'Exeuntes', 'autem', 'invenerunt', 'hominem', 'Cyrenaeum', ',', 'nomine', 'Simonem', ':', 'hunc', 'angariaverunt', 'ut', 'tolleret', 'crucem', 'ejus', '.', '33', 'Et', 'venerunt', 'in', 'locum', 'qui', 'dicitur', 'Golgotha', ',', 'quod', 'est', 'Calvariae', 'locus', '.', '34', 'Et', 'dederunt', 'ei', 'vinum', 'bibere', 'cum', 'felle', 'mistum', '.', 'Et', 'cum', 'gustasset', ',', 'noluit', 'bibere', '.', '35', 'Postquam', 'autem', 'crucifixerunt', 'eum', ',', 'diviserunt', 'vestimenta', 'ejus', ',', 'sortem', 'mittentes', ':', 'ut', 'impleretur', 'quod', 'dictum', 'est', 'per', 'prophetam', 'dicentem', ':', 'Diviserunt', 'sibi', 'vestimenta', 'mea', ',', 'et', 'super', 'vestem', 'meam', 'miserunt', 'sortem', '.', '36', 'Et', 'sedentes', 'servabant', 'eum', '.', '37', 'Et', 'imposuerunt', 'super', 'caput', 'ejus', 'causam', 'ipsius', 'scriptam', ':', 'Hic', 'est', 'Jesus', 'rex', 'Judaeorum', '.', '38', 'Tunc', 'crucifixi', 'sunt', 'cum', 'eo', 'duo', 'latrones', ':', 'unus', 'a', 'dextris', ',', 'et', 'unus', 'a', 'sinistris', '.', '39', 'Praetereuntes', 'autem', 'blasphemabant', 'eum', 'moventes', 'capita', 'sua', ',', '40', 'et', 'dicentes', ':', 'Vah', '!', 'qui', 'destruis', 'templum', 'Dei', ',', 'et', 'in', 'triduo', 'illud', 'reaedificas', ':', 'salva', 'temetipsum', ':', 'si', 'Filius', 'Dei', 'es', ',', 'descende', 'de', 'cruce', '.', '41', 'Similiter', 'et', 'principes', 'sacerdotum', 'illudentes', 'cum', 'scribis', 'et', 'senioribus', 'dicebant', ':', '42', 'Alios', 'salvos', 'fecit', ',', 'seipsum', 'non', 'potest', 'salvum', 'facere', ':', 'si', 'rex', 'Israel', 'est', ',', 'descendat', 'nunc', 'de', 'cruce', ',', 'et', 'credimus', 'ei', ':', '43', 'confidit', 'in', 'Deo', ':', 'liberet', 'nunc', ',', 'si', 'vult', 'eum', ':', 'dixit', 'enim', ':', 'Quia', 'Filius', 'Dei', 'sum', '.', '44', 'Idipsum', 'autem', 'et', 'latrones', ',', 'qui', 'crucifixi', 'erant', 'cum', 'eo', ',', 'improperabant', 'ei', '.', '45', 'A', 'sexta', 'autem', 'hora', 'tenebrae', 'factae', 'sunt', 'super', 'universam', 'terram', 'usque', 'ad', 'horam', 'nonam', '.', '46', 'Et', 'circa', 'horam', 'nonam', 'clamavit', 'Jesus', 'voce', 'magna', ',', 'dicens', ':', 'Eli', ',', 'Eli', ',', 'lamma', 'sabacthani', '?', 'hoc', 'est', ':', 'Deus', 'meus', ',', 'Deus', 'meus', ',', 'ut', 'quid', 'dereliquisti', 'me', '?', '47', 'Quidam', 'autem', 'illic', 'stantes', ',', 'et', 'audientes', ',', 'dicebant', ':', 'Eliam', 'vocat', 'iste', '.', '48', 'Et', 'continuo', 'currens', 'unus', 'ex', 'eis', ',', 'acceptam', 'spongiam', 'implevit', 'aceto', ',', 'et', 'imposuit', 'arundini', ',', 'et', 'dabat', 'ei', 'bibere', '.', '49', 'Ceteri', 'vero', 'dicebant', ':', 'Sine', ',', 'videamus', 'an', 'veniat', 'Elias', 'liberans', 'eum', '.', '50', 'Jesus', 'autem', 'iterum', 'clamans', 'voce', 'magna', ',', 'emisit', 'spiritum', '.', '51', 'Et', 'ecce', 'velum', 'templi', 'scissum', 'est', 'in', 'duas', 'partes', 'a', 'summo', 'usque', 'deorsum', ':', 'et', 'terra', 'mota', 'est', ',', 'et', 'petrae', 'scissae', 'sunt', ',', '52', 'et', 'monumenta', 'aperta', 'sunt', ':', 'et', 'multa', 'corpora', 'sanctorum', ',', 'qui', 'dormierant', ',', 'surrexerunt', '.', '53', 'Et', 'exeuntes', 'de', 'monumentis', 'post', 'resurrectionem', 'ejus', ',', 'venerunt', 'in', 'sanctam', 'civitatem', ',', 'et', 'apparuerunt', 'multis', '.', '54', 'Centurio', 'autem', ',', 'et', 'qui', 'cum', 'eo', 'erant', ',', 'custodientes', 'Jesum', ',', 'viso', 'terraemotu', ',', 'et', 'his', 'quae', 'fiebant', ',', 'timuerunt', 'valde', ',', 'dicentes', ':', 'Vere', 'Filius', 'Dei', 'erat', 'iste', '.', '55', 'Erant', 'autem', 'ibi', 'mulieres', 'multae', 'a', 'longe', ',', 'quae', 'secutae', 'erant', 'Jesum', 'a', 'Galilaea', ',', 'ministrantes', 'ei', ':', '56', 'inter', 'quas', 'erat', 'Maria', 'Magdalene', ',', 'et', 'Maria', 'Jacobi', ',', 'et', 'Joseph', 'mater', ',', 'et', 'mater', 'filiorum', 'Zebedaei', '.', '57', 'Cum', 'autem', 'sero', 'factum', 'esset', ',', 'venit', 'quidam', 'homo', 'dives', 'ab', 'Arimathaea', ',', 'nomine', 'Joseph', ',', 'qui', 'et', 'ipse', 'discipulus', 'erat', 'Jesu', ':', '58', 'hic', 'accessit', 'ad', 'Pilatum', ',', 'et', 'petiit', 'corpus', 'Jesu', '.', 'Tunc', 'Pilatus', 'jussit', 'reddi', 'corpus', '.', '59', 'Et', 'accepto', 'corpore', ',', 'Joseph', 'involvit', 'illud', 'in', 'sindone', 'munda', ',', '60', 'et', 'posuit', 'illud', 'in', 'monumento', 'suo', 'novo', ',', 'quod', 'exciderat', 'in', 'petra', '.', 'Et', 'advolvit', 'saxum', 'magnum', 'ad', 'ostium', 'monumenti', ',', 'et', 'abiit', '.', '61', 'Erant', 'autem', 'ibi', 'Maria', 'Magdalene', ',', 'et', 'altera', 'Maria', ',', 'sedentes', 'contra', 'sepulchrum', '.', '62', 'Altera', 'autem', 'die', ',', 'quae', 'est', 'post', 'Parasceve', '-ne', ',', 'convenerunt', 'principes', 'sacerdotum', 'et', 'pharisaei', 'ad', 'Pilatum', ',', '63', 'dicentes', ':', 'Domine', ',', 'recordati', 'sumus', ',', 'quia', 'seductor', 'ille', 'dixit', 'adhuc', 'vivens', ':', 'Post', 'tres', 'dies', 'resurgam', '.', '64', 'Jube', 'ergo', 'custodiri', 'sepulchrum', 'usque', 'in', 'diem', 'tertium', ':', 'ne', 'forte', 'veniant', 'discipuli', 'ejus', ',', 'et', 'furentur', 'eum', ',', 'et', 'dicant', 'plebi', ':', 'Surrexit', 'a', 'mortuis', ':', 'et', 'erit', 'novissimus', 'error', 'pejor', 'priore', '.', '65', 'Ait', 'illis', 'Pilatus', ':', 'Habetis', 'custodiam', ',', 'ite', ',', 'custodite', 'sicut', 'scitis', '.', '66', 'Illi', 'autem', 'abeuntes', ',', 'munierunt', 'sepulchrum', ',', 'signantes', 'lapidem', ',', 'cum', 'custodibus', '.', '28', 'Vespere', 'autem', 'sabbati', ',', 'quae', 'lucescit', 'in', 'prima', 'sabbati', ',', 'venit', 'Maria', 'Magdalene', ',', 'et', 'altera', 'Maria', ',', 'videre', 'sepulchrum', '.', '2', 'Et', 'ecce', 'terraemotus', 'factus', 'est', 'magnus', '.', 'Angelus', 'enim', 'Domini', 'descendit', 'de', 'caelo', ':', 'et', 'accedens', 'revolvit', 'lapidem', ',', 'et', 'sedebat', 'super', 'eum', ':', '3', 'erat', 'autem', 'aspectus', 'ejus', 'sicut', 'fulgur', ':', 'et', 'vestimentum', 'ejus', 'sicut', 'nix', '.', '4', 'Prae', 'timore', 'autem', 'ejus', 'exterriti', 'sunt', 'custodes', ',', 'et', 'facti', 'sunt', 'velut', 'mortui', '.', '5', 'Respondens', 'autem', 'angelus', 'dixit', 'mulieribus', ':', 'Nolite', 'timere', 'vos', ':', 'scio', 'enim', ',', 'quod', 'Jesum', ',', 'qui', 'crucifixus', 'est', ',', 'quaeritis', '.', '6', 'Non', 'est', 'hic', ':', 'surrexit', 'enim', ',', 'sicut', 'dixit', ':', 'venite', ',', 'et', 'videte', 'locum', 'ubi', 'positus', 'erat', 'Dominus', '.', '7', 'Et', 'cito', 'euntes', ',', 'dicite', 'discipulis', 'ejus', 'quia', 'surrexit', ':', 'et', 'ecce', 'praecedit', 'vos', 'in', 'Galilaeam', ':', 'ibi', 'eum', 'videbitis', ':', 'ecce', 'praedixi', 'vobis', '.', '8', 'Et', 'exierunt', 'cito', 'de', 'monumento', 'cum', 'timore', 'et', 'gaudio', 'magno', ',', 'currentes', 'nuntiare', 'discipulis', 'ejus', '.', '9', 'Et', 'ecce', 'Jesus', 'occurrit', 'illis', ',', 'dicens', ':', 'Avete', '.', 'Illae', 'autem', 'accesserunt', ',', 'et', 'tenuerunt', 'pedes', 'ejus', ',', 'et', 'adoraverunt', 'eum', '.', '10', 'Tunc', 'ait', 'illis', 'Jesus', ':', 'Nolite', 'timere', ':', 'ite', ',', 'nuntiate', 'fratribus', 'meis', 'ut', 'eant', 'in', 'Galilaeam', ';', 'ibi', 'me', 'videbunt', '.', '11', 'Quae', 'cum', 'abiissent', ',', 'ecce', 'quidam', 'de', 'custodibus', 'venerunt', 'in', 'civitatem', ',', 'et', 'nuntiaverunt', 'principibus', 'sacerdotum', 'omnia', 'quae', 'facta', 'fuerant', '.', '12', 'Et', 'congregati', 'cum', 'senioribus', 'consilio', 'accepto', ',', 'pecuniam', 'copiosam', 'dederunt', 'militibus', ',', '13', 'dicentes', ':', 'Dicite', 'quia', 'discipuli', 'ejus', 'nocte', 'venerunt', ',', 'et', 'furati', 'sunt', 'eum', ',', 'nobis', 'dormientibus', '.', '14', 'Et', 'si', 'hoc', 'auditum', 'fuerit', 'a', 'praeside', ',', 'nos', 'suadebimus', 'ei', ',', 'et', 'securos', 'vos', 'faciemus', '.', '15', 'At', 'illi', ',', 'accepta', 'pecunia', ',', 'fecerunt', 'sicut', 'erant', 'edocti', '.', 'Et', 'divulgatum', 'est', 'verbum', 'istud', 'apud', 'Judaeos', ',', 'usque', 'in', 'hodiernum', 'diem', '.', '16', 'Undecim', 'autem', 'discipuli', 'abierunt', 'in', 'Galilaeam', 'in', 'montem', 'ubi', 'constituerat', 'illis', 'Jesus', '.', '17', 'Et', 'videntes', 'eum', 'adoraverunt', ':', 'quidam', 'autem', 'dubitaverunt', '.', '18', 'Et', 'accedens', 'Jesus', 'locutus', 'est', 'eis', ',', 'dicens', ':', 'Data', 'est', 'mihi', 'omnis', 'potestas', 'in', 'caelo', 'et', 'in', 'terra', ':', '19', 'euntes', 'ergo', 'docete', 'omnes', 'gentes', ':', 'baptizantes', 'eos', 'in', 'nomine', 'Patris', ',', 'et', 'Filii', ',', 'et', 'Spiritus', 'Sancti', ':', '20', 'docentes', 'eos', 'servare', 'omnia', 'quaecumque', 'mandavi', 'vobis', ':', 'et', 'ecce', 'ego', 'cum', 'vobis', 'sum', 'omnibus', 'diebus', ',', 'usque', 'ad', 'consummationem', 'saeculi', '.']\n"
     ]
    }
   ],
   "source": [
    "print(la_matthew)"
   ]
  },
  {
   "cell_type": "code",
   "execution_count": 62,
   "id": "1bcb7f81-d4dc-4a23-8fbf-04548077c5ac",
   "metadata": {
    "tags": []
   },
   "outputs": [
    {
     "name": "stdout",
     "output_type": "stream",
     "text": [
      "[('i', 'eo')]\n"
     ]
    }
   ],
   "source": [
    "sentences = sent_tokenize(text)\n",
    "for sent in sentences:\n",
    "    sent_word = RegexpTokenizer(r\"\\w+\").tokenize(sent)\n",
    "for sent in sent_word:\n",
    "    for w in sent:\n",
    "        la_matthew = lemmatizer.lemmatize(w)"
   ]
  },
  {
   "cell_type": "code",
   "execution_count": 90,
   "id": "a08e1cf6-60c6-4250-bbce-44ecfb309a0f",
   "metadata": {
    "tags": []
   },
   "outputs": [],
   "source": [
    "la_matthew_model = Word2Vec(sentences = la_matthew_nlp, \n",
    "                 vector_size = 100, \n",
    "                 window = 20,\n",
    "                 epochs = 100,\n",
    "                min_count = 1)"
   ]
  },
  {
   "cell_type": "code",
   "execution_count": 91,
   "id": "9f837cdb-80a0-42f7-ac24-9687840aad17",
   "metadata": {
    "collapsed": true,
    "jupyter": {
     "outputs_hidden": true
    },
    "tags": []
   },
   "outputs": [
    {
     "name": "stdout",
     "output_type": "stream",
     "text": [
      "e: 11088\n",
      "i: 9839\n",
      "t: 8199\n",
      "u: 6952\n",
      "s: 6731\n",
      "a: 6397\n",
      "n: 5489\n",
      "m: 4769\n",
      "r: 4490\n",
      "o: 4210\n",
      "c: 3235\n",
      "d: 2750\n",
      "l: 2329\n",
      ",: 2005\n",
      "p: 1757\n",
      "b: 1329\n",
      "v: 1316\n",
      ".: 932\n",
      "q: 921\n",
      ":: 907\n",
      "g: 812\n",
      "h: 705\n",
      "f: 663\n",
      "1: 380\n",
      "x: 373\n",
      "2: 371\n",
      "E: 367\n",
      "j: 305\n",
      "J: 281\n",
      "3: 277\n"
     ]
    }
   ],
   "source": [
    "word_counts = Counter({word: la_matthew_model.wv.get_vecattr(word, 'count') for word in la_matthew_model.wv.index_to_key})\n",
    "top_30_words = word_counts.most_common(30)\n",
    "for word, count in top_30_words:\n",
    "    print(f'{word}: {count}')"
   ]
  },
  {
   "cell_type": "code",
   "execution_count": 128,
   "id": "c3ef65c8-6adb-4942-b072-9e619d18cac4",
   "metadata": {
    "tags": []
   },
   "outputs": [],
   "source": [
    "la_matthew_words = ['homo', 'filius', 'dominus', 'caelum', 'discipuli', 'pater','regnum','deus', 'bonus', 'multus', 'dies', 'magnus', 'domus', 'filii', 'manus', 'terra', 'tempus', 'populus', 'propheta', 'scribae','servus', 'frater', 'hora', 'rex', 'templum']"
   ]
  },
  {
   "cell_type": "code",
   "execution_count": 129,
   "id": "7fbf2171-e57b-4d16-b2ac-541edc398156",
   "metadata": {
    "tags": []
   },
   "outputs": [],
   "source": [
    "la_matthew_vectors = {}\n",
    "for key in la_matthew_words:\n",
    "    la_matthew_vectors[key] = la_matthew_model.wv.get_vector(key)"
   ]
  },
  {
   "cell_type": "code",
   "execution_count": 130,
   "id": "e05791da-8ddc-4777-8086-858646ca041f",
   "metadata": {
    "tags": []
   },
   "outputs": [],
   "source": [
    "la_matthew_similarities = {}\n",
    "for word1 in la_matthew_words:\n",
    "    for word2 in la_matthew_words:\n",
    "        if word1 != word2:\n",
    "            similarity = la_matthew_model.wv.similarity(word1, word2)\n",
    "            la_matthew_similarities[(word1, word2)] = similarity\n",
    "la_matthew_codf = pd.DataFrame.from_dict(la_matthew_similarities, orient='index', columns=['Cosine Similarity'])\n",
    "la_matthew_codf = la_matthew_codf.reset_index()\n",
    "la_matthew_codf.to_csv('data/latin/la_matthew_cosines.csv', index=False)"
   ]
  },
  {
   "cell_type": "markdown",
   "id": "25a2616b-2dc6-4ca5-9ab9-33a52c42b195",
   "metadata": {},
   "source": [
    "### English"
   ]
  },
  {
   "cell_type": "code",
   "execution_count": 50,
   "id": "085690ea-72b5-4b5c-9fd4-d7738ed73ae3",
   "metadata": {
    "tags": []
   },
   "outputs": [],
   "source": [
    "with open (\"texts/matthew/eng_matthew.txt\", 'r', encoding=\"utf-8\") as f:\n",
    "  text = f.read()\n",
    "    \n",
    "eng_matthew = tokenize_corpus(text)\n",
    "eng_matthew_model = Word2Vec(sentences = eng_matthew, \n",
    "                 vector_size = 100, \n",
    "                 window = 20,\n",
    "                 epochs = 100,\n",
    "                 min_count = 1)"
   ]
  },
  {
   "cell_type": "code",
   "execution_count": 60,
   "id": "65529ce1-f07f-4b71-a47f-7328941f76db",
   "metadata": {
    "collapsed": true,
    "jupyter": {
     "outputs_hidden": true
    },
    "tags": []
   },
   "outputs": [
    {
     "name": "stdout",
     "output_type": "stream",
     "text": [
      "and: 1552\n",
      "the: 1405\n",
      "of: 673\n",
      "unto: 435\n",
      "he: 412\n",
      "that: 388\n",
      "him: 378\n",
      "to: 377\n",
      "shall: 344\n",
      "they: 307\n",
      "in: 305\n",
      "is: 289\n",
      "them: 268\n",
      "for: 267\n",
      "be: 264\n",
      "ye: 263\n",
      "his: 259\n",
      "not: 255\n",
      "a: 254\n",
      "but: 237\n",
      "it: 225\n",
      "i: 210\n",
      "said: 189\n",
      "when: 173\n",
      "jesus: 172\n",
      "you: 157\n",
      "which: 155\n",
      "was: 152\n",
      "thou: 151\n",
      "with: 138\n"
     ]
    }
   ],
   "source": [
    "word_counts = Counter({word: eng_matthew_model.wv.get_vecattr(word, 'count') for word in eng_matthew_model.wv.index_to_key})\n",
    "top_30_words = word_counts.most_common(30)\n",
    "for word, count in top_30_words:\n",
    "    print(f'{word}: {count}')"
   ]
  },
  {
   "cell_type": "code",
   "execution_count": 125,
   "id": "e9351008-22ef-4c13-8af8-a9f696892897",
   "metadata": {
    "tags": []
   },
   "outputs": [],
   "source": [
    "eng_matthew_words = ['man','son','lord','heaven','disciples','father','kingdom','god','good','many','day','great','house','children','hand','earth','time','people','prophet','scribes','servant','brother','hour','king','temple']"
   ]
  },
  {
   "cell_type": "code",
   "execution_count": 126,
   "id": "ff7a066f-8e09-43d3-b914-4d8892997c85",
   "metadata": {
    "tags": []
   },
   "outputs": [],
   "source": [
    "eng_matthew_vectors = {}\n",
    "for key in eng_matthew_words:\n",
    "    eng_matthew_vectors[key] = eng_matthew_model.wv.get_vector(key)"
   ]
  },
  {
   "cell_type": "code",
   "execution_count": 127,
   "id": "5828804b-f6ec-414e-bbb3-cdd92aee7635",
   "metadata": {
    "tags": []
   },
   "outputs": [],
   "source": [
    "eng_matthew_similarities = {}\n",
    "for word1 in eng_matthew_words:\n",
    "    for word2 in eng_matthew_words:\n",
    "        if word1 != word2:\n",
    "            similarity = eng_matthew_model.wv.similarity(word1, word2)\n",
    "            eng_matthew_similarities[(word1, word2)] = similarity\n",
    "eng_matthew_codf = pd.DataFrame.from_dict(eng_matthew_similarities, orient='index', columns=['Cosine Similarity'])\n",
    "eng_matthew_codf = eng_matthew_codf.reset_index()\n",
    "eng_matthew_codf.to_csv('data/english/eng_matthew_cosines.csv', index=False)"
   ]
  },
  {
   "cell_type": "markdown",
   "id": "37681d13-4f0b-4770-b1bf-fd343c7eea9a",
   "metadata": {},
   "source": [
    "### Old English"
   ]
  },
  {
   "cell_type": "code",
   "execution_count": 48,
   "id": "597e84fb-ef48-44f3-9467-f14bad240db1",
   "metadata": {
    "tags": []
   },
   "outputs": [],
   "source": [
    "with open (\"texts/matthew/oe_matthew.txt\", 'r', encoding=\"utf-8\") as f:\n",
    "  text = f.read()\n",
    "    \n",
    "oe_matthew = tokenize_corpus(text)\n",
    "oe_matthew_model = Word2Vec(sentences = oe_matthew, \n",
    "                 vector_size = 100, \n",
    "                 window = 20,\n",
    "                 epochs = 100,\n",
    "                 min_count = 1)"
   ]
  },
  {
   "cell_type": "code",
   "execution_count": 62,
   "id": "5b2b1eff-f0ad-4920-9d20-68220567b40d",
   "metadata": {
    "collapsed": true,
    "jupyter": {
     "outputs_hidden": true
    },
    "tags": []
   },
   "outputs": [
    {
     "name": "stdout",
     "output_type": "stream",
     "text": [
      "a: 1951\n",
      "and: 1515\n",
      "b: 998\n",
      "on: 648\n",
      "þā: 563\n",
      "þæt: 445\n",
      "hē: 430\n",
      "þe: 331\n",
      "sē: 331\n",
      "tō: 326\n",
      "hig: 306\n",
      "ne: 276\n",
      "þām: 272\n",
      "him: 262\n",
      "gē: 252\n",
      "hys: 226\n",
      "ic: 216\n",
      "for: 204\n",
      "swā: 184\n",
      "đā: 184\n",
      "of: 180\n",
      "the: 176\n",
      "ēow: 173\n",
      "corp: 170\n",
      "cwæð: 167\n",
      "ys: 158\n",
      "hyne: 139\n",
      "þū: 130\n",
      "mid: 120\n",
      "wæs: 120\n"
     ]
    }
   ],
   "source": [
    "word_counts = Counter({word: oe_matthew_model.wv.get_vecattr(word, 'count') for word in oe_matthew_model.wv.index_to_key})\n",
    "top_30_words = word_counts.most_common(30)\n",
    "for word, count in top_30_words:\n",
    "    print(f'{word}: {count}')"
   ]
  },
  {
   "cell_type": "code",
   "execution_count": 131,
   "id": "295942eb-2304-4913-85cb-1fe87b185d0f",
   "metadata": {
    "tags": []
   },
   "outputs": [],
   "source": [
    "oe_matthew_words = ['mann', 'sunu', 'hlaford', 'heofon', 'leorningcnihtas', 'fæder','rīce', 'god', 'god', 'fela', 'dæg', 'micel', 'hūs', 'bearn', 'hand', 'eorþe','tīd', 'folc', 'wītega', 'bōceras', 'þēowa', 'brōþor', 'tīd', 'cyning','tempel']"
   ]
  },
  {
   "cell_type": "code",
   "execution_count": 132,
   "id": "f7b0053e-28ce-4fa2-9ac1-c65ebf37cbbf",
   "metadata": {
    "tags": []
   },
   "outputs": [],
   "source": [
    "oe_matthew_vectors = {}\n",
    "for key in oe_matthew_words:\n",
    "    oe_matthew_vectors[key] = oe_matthew_model.wv.get_vector(key)"
   ]
  },
  {
   "cell_type": "code",
   "execution_count": 133,
   "id": "33190c10-97d7-4a7e-a4b1-63b349177038",
   "metadata": {
    "tags": []
   },
   "outputs": [],
   "source": [
    "oe_matthew_similarities = {}\n",
    "for word1 in oe_matthew_words:\n",
    "    for word2 in oe_matthew_words:\n",
    "        if word1 != word2:\n",
    "            similarity = oe_matthew_model.wv.similarity(word1, word2)\n",
    "            oe_matthew_similarities[(word1, word2)] = similarity\n",
    "oe_matthew_codf = pd.DataFrame.from_dict(oe_matthew_similarities, orient='index', columns=['Cosine Similarity'])\n",
    "oe_matthew_codf = oe_matthew_codf.reset_index()\n",
    "oe_matthew_codf.to_csv('data/old_english/oe_matthew_cosines.csv', index=False)"
   ]
  },
  {
   "cell_type": "markdown",
   "id": "b669eeee-ceab-4fce-8be9-f297da137e16",
   "metadata": {},
   "source": [
    "### Greek"
   ]
  },
  {
   "cell_type": "code",
   "execution_count": 46,
   "id": "a0bc2d89-98b9-48fe-97bf-e00766b72586",
   "metadata": {
    "tags": []
   },
   "outputs": [],
   "source": [
    "with open (\"texts/matthew/gr_matthew.txt\", 'r', encoding=\"utf-8\") as f:\n",
    "  text = f.read()\n",
    "    \n",
    "gr_matthew = tokenize_corpus(text)\n",
    "gr_matthew_model = Word2Vec(sentences = gr_matthew, \n",
    "                 vector_size = 100, \n",
    "                 window = 20,\n",
    "                 epochs = 100,\n",
    "                 min_count = 1)"
   ]
  },
  {
   "cell_type": "code",
   "execution_count": 64,
   "id": "8a14ba9c-7e8c-4225-b618-e4db9780e8a3",
   "metadata": {
    "collapsed": true,
    "jupyter": {
     "outputs_hidden": true
    },
    "tags": []
   },
   "outputs": [
    {
     "name": "stdout",
     "output_type": "stream",
     "text": [
      "και: 1220\n",
      "ο: 550\n",
      "δε: 485\n",
      "εν: 314\n",
      "του: 306\n",
      "αυτου: 279\n",
      "εις: 238\n",
      "το: 235\n",
      "οι: 231\n",
      "τον: 222\n",
      "την: 215\n",
      "των: 209\n",
      "η: 204\n",
      "αυτω: 185\n",
      "τω: 159\n",
      "οτι: 147\n",
      "ιησους: 130\n",
      "γαρ: 128\n",
      "μη: 127\n",
      "της: 124\n",
      "αυτον: 123\n",
      "εστιν: 121\n",
      "ειπεν: 120\n",
      "τα: 115\n",
      "σου: 114\n",
      "αυτων: 113\n",
      "τους: 112\n",
      "αυτοις: 112\n",
      "ου: 111\n",
      "τοις: 110\n"
     ]
    }
   ],
   "source": [
    "word_counts = Counter({word: gr_matthew_model.wv.get_vecattr(word, 'count') for word in gr_matthew_model.wv.index_to_key})\n",
    "top_30_words = word_counts.most_common(30)\n",
    "for word, count in top_30_words:\n",
    "    print(f'{word}: {count}')"
   ]
  },
  {
   "cell_type": "code",
   "execution_count": 99,
   "id": "ec7679ea-2db1-42ef-862e-5121699180ae",
   "metadata": {
    "tags": []
   },
   "outputs": [],
   "source": [
    "gr_matthew_words = ['ἀνήρ','υἱός', 'κύριος', 'οὐρανός', 'μαθητές', 'πατήρ', 'βασίλειον', 'θεός', 'καλός', 'πολλοί', 'ἡμέρα', 'μέγας', 'οἶκος', 'τέκνα', 'χείρ', 'γῆ', 'χρόνος', 'λαός', 'προφήτης', 'γραμματεῖς', 'δοῦλος', 'ἀδελφός', 'ὥρα', 'βασιλεύς', 'ναός']"
   ]
  },
  {
   "cell_type": "code",
   "execution_count": 100,
   "id": "de480a14-b51c-4be9-9e55-0fcd7bbd01c9",
   "metadata": {
    "collapsed": true,
    "jupyter": {
     "outputs_hidden": true
    },
    "tags": []
   },
   "outputs": [
    {
     "ename": "KeyError",
     "evalue": "\"Key 'ἀνήρ' not present\"",
     "output_type": "error",
     "traceback": [
      "\u001b[1;31m---------------------------------------------------------------------------\u001b[0m",
      "\u001b[1;31mKeyError\u001b[0m                                  Traceback (most recent call last)",
      "Cell \u001b[1;32mIn[100], line 3\u001b[0m\n\u001b[0;32m      1\u001b[0m gr_matthew_vectors \u001b[38;5;241m=\u001b[39m {}\n\u001b[0;32m      2\u001b[0m \u001b[38;5;28;01mfor\u001b[39;00m key \u001b[38;5;129;01min\u001b[39;00m gr_matthew_words:\n\u001b[1;32m----> 3\u001b[0m     gr_matthew_vectors[key] \u001b[38;5;241m=\u001b[39m \u001b[43mgr_matthew_model\u001b[49m\u001b[38;5;241;43m.\u001b[39;49m\u001b[43mwv\u001b[49m\u001b[38;5;241;43m.\u001b[39;49m\u001b[43mget_vector\u001b[49m\u001b[43m(\u001b[49m\u001b[43mkey\u001b[49m\u001b[43m)\u001b[49m\n",
      "File \u001b[1;32m~\\AppData\\Roaming\\jupyterlab-desktop\\jlab_server\\lib\\site-packages\\gensim\\models\\keyedvectors.py:446\u001b[0m, in \u001b[0;36mKeyedVectors.get_vector\u001b[1;34m(self, key, norm)\u001b[0m\n\u001b[0;32m    422\u001b[0m \u001b[38;5;28;01mdef\u001b[39;00m \u001b[38;5;21mget_vector\u001b[39m(\u001b[38;5;28mself\u001b[39m, key, norm\u001b[38;5;241m=\u001b[39m\u001b[38;5;28;01mFalse\u001b[39;00m):\n\u001b[0;32m    423\u001b[0m \u001b[38;5;250m    \u001b[39m\u001b[38;5;124;03m\"\"\"Get the key's vector, as a 1D numpy array.\u001b[39;00m\n\u001b[0;32m    424\u001b[0m \n\u001b[0;32m    425\u001b[0m \u001b[38;5;124;03m    Parameters\u001b[39;00m\n\u001b[1;32m   (...)\u001b[0m\n\u001b[0;32m    444\u001b[0m \n\u001b[0;32m    445\u001b[0m \u001b[38;5;124;03m    \"\"\"\u001b[39;00m\n\u001b[1;32m--> 446\u001b[0m     index \u001b[38;5;241m=\u001b[39m \u001b[38;5;28;43mself\u001b[39;49m\u001b[38;5;241;43m.\u001b[39;49m\u001b[43mget_index\u001b[49m\u001b[43m(\u001b[49m\u001b[43mkey\u001b[49m\u001b[43m)\u001b[49m\n\u001b[0;32m    447\u001b[0m     \u001b[38;5;28;01mif\u001b[39;00m norm:\n\u001b[0;32m    448\u001b[0m         \u001b[38;5;28mself\u001b[39m\u001b[38;5;241m.\u001b[39mfill_norms()\n",
      "File \u001b[1;32m~\\AppData\\Roaming\\jupyterlab-desktop\\jlab_server\\lib\\site-packages\\gensim\\models\\keyedvectors.py:420\u001b[0m, in \u001b[0;36mKeyedVectors.get_index\u001b[1;34m(self, key, default)\u001b[0m\n\u001b[0;32m    418\u001b[0m     \u001b[38;5;28;01mreturn\u001b[39;00m default\n\u001b[0;32m    419\u001b[0m \u001b[38;5;28;01melse\u001b[39;00m:\n\u001b[1;32m--> 420\u001b[0m     \u001b[38;5;28;01mraise\u001b[39;00m \u001b[38;5;167;01mKeyError\u001b[39;00m(\u001b[38;5;124mf\u001b[39m\u001b[38;5;124m\"\u001b[39m\u001b[38;5;124mKey \u001b[39m\u001b[38;5;124m'\u001b[39m\u001b[38;5;132;01m{\u001b[39;00mkey\u001b[38;5;132;01m}\u001b[39;00m\u001b[38;5;124m'\u001b[39m\u001b[38;5;124m not present\u001b[39m\u001b[38;5;124m\"\u001b[39m)\n",
      "\u001b[1;31mKeyError\u001b[0m: \"Key 'ἀνήρ' not present\""
     ]
    }
   ],
   "source": [
    "gr_matthew_vectors = {}\n",
    "for key in gr_matthew_words:\n",
    "    gr_matthew_vectors[key] = gr_matthew_model.wv.get_vector(key)"
   ]
  },
  {
   "cell_type": "markdown",
   "id": "32d5e257-be41-4adb-a08b-dbb362b03187",
   "metadata": {},
   "source": [
    "### Sanskrit"
   ]
  },
  {
   "cell_type": "code",
   "execution_count": 44,
   "id": "99e1ade3-8b05-41bb-bbca-ab378a49d615",
   "metadata": {
    "tags": []
   },
   "outputs": [],
   "source": [
    "with open (\"texts/matthew/ss_matthew.txt\", 'r', encoding=\"utf-8\") as f:\n",
    "  text = f.read()\n",
    "    \n",
    "ss_matthew = tokenize_corpus(text)\n",
    "ss_matthew_model = Word2Vec(sentences = ss_matthew, \n",
    "                 vector_size = 100, \n",
    "                 window = 20,\n",
    "                 epochs = 100,\n",
    "                 min_count = 1)"
   ]
  },
  {
   "cell_type": "code",
   "execution_count": 65,
   "id": "32415345-ca45-4e48-a24b-ffd130345ae2",
   "metadata": {
    "collapsed": true,
    "jupyter": {
     "outputs_hidden": true
    },
    "tags": []
   },
   "outputs": [
    {
     "name": "stdout",
     "output_type": "stream",
     "text": [
      "sa: 241\n",
      "na: 200\n",
      "kintu: 145\n",
      "tasya: 114\n",
      "tadā: 112\n",
      "yūyaṁ: 96\n",
      "ca: 91\n",
      "te: 91\n",
      "taṁ: 88\n",
      "he: 77\n",
      "tadānīṁ: 73\n",
      "tena: 73\n",
      "kiṁ: 72\n",
      "tarhi: 72\n",
      "anantaraṁ: 68\n",
      "tataḥ: 68\n",
      "tato: 65\n",
      "mama: 64\n",
      "yadi: 57\n",
      "tat: 56\n",
      "yuṣmān: 55\n",
      "aparaṁ: 54\n",
      "yuṣmākaṁ: 54\n",
      "tān: 52\n",
      "tava: 52\n",
      "tvaṁ: 51\n",
      "gatvā: 50\n",
      "vā: 48\n",
      "iti: 46\n",
      "mā: 44\n"
     ]
    }
   ],
   "source": [
    "word_counts = Counter({word: ss_matthew_model.wv.get_vecattr(word, 'count') for word in ss_matthew_model.wv.index_to_key})\n",
    "top_30_words = word_counts.most_common(30)\n",
    "for word, count in top_30_words:\n",
    "    print(f'{word}: {count}')"
   ]
  },
  {
   "cell_type": "code",
   "execution_count": 107,
   "id": "8f203cc6-44e4-424c-94b1-fe4cce846294",
   "metadata": {
    "tags": []
   },
   "outputs": [],
   "source": [
    "ss_matthew_words = ['manuṣya', 'putra', 'īśa', 'svarga', 'shishya', 'pitṛ', 'rājya', 'dev', 'shreṣṭha', 'bahu', 'dina', 'mahān', 'gṛha', 'putrāḥ', 'hasta', 'pṛthvī', 'kāla', 'jana', 'muni', 'lekhakāḥ', 'dāsa', 'bhrātṛ', 'ghaṛī', 'rājā', 'mandira']"
   ]
  },
  {
   "cell_type": "code",
   "execution_count": 108,
   "id": "2db45c52-44f5-4b10-a15c-0c8a4faa4851",
   "metadata": {
    "collapsed": true,
    "jupyter": {
     "outputs_hidden": true
    },
    "tags": []
   },
   "outputs": [
    {
     "ename": "KeyError",
     "evalue": "\"Key 'manuṣya' not present\"",
     "output_type": "error",
     "traceback": [
      "\u001b[1;31m---------------------------------------------------------------------------\u001b[0m",
      "\u001b[1;31mKeyError\u001b[0m                                  Traceback (most recent call last)",
      "Cell \u001b[1;32mIn[108], line 3\u001b[0m\n\u001b[0;32m      1\u001b[0m ss_matthew_vectors \u001b[38;5;241m=\u001b[39m {}\n\u001b[0;32m      2\u001b[0m \u001b[38;5;28;01mfor\u001b[39;00m key \u001b[38;5;129;01min\u001b[39;00m ss_matthew_words:\n\u001b[1;32m----> 3\u001b[0m     ss_matthew_vectors[key] \u001b[38;5;241m=\u001b[39m \u001b[43mss_matthew_model\u001b[49m\u001b[38;5;241;43m.\u001b[39;49m\u001b[43mwv\u001b[49m\u001b[38;5;241;43m.\u001b[39;49m\u001b[43mget_vector\u001b[49m\u001b[43m(\u001b[49m\u001b[43mkey\u001b[49m\u001b[43m)\u001b[49m\n",
      "File \u001b[1;32m~\\AppData\\Roaming\\jupyterlab-desktop\\jlab_server\\lib\\site-packages\\gensim\\models\\keyedvectors.py:446\u001b[0m, in \u001b[0;36mKeyedVectors.get_vector\u001b[1;34m(self, key, norm)\u001b[0m\n\u001b[0;32m    422\u001b[0m \u001b[38;5;28;01mdef\u001b[39;00m \u001b[38;5;21mget_vector\u001b[39m(\u001b[38;5;28mself\u001b[39m, key, norm\u001b[38;5;241m=\u001b[39m\u001b[38;5;28;01mFalse\u001b[39;00m):\n\u001b[0;32m    423\u001b[0m \u001b[38;5;250m    \u001b[39m\u001b[38;5;124;03m\"\"\"Get the key's vector, as a 1D numpy array.\u001b[39;00m\n\u001b[0;32m    424\u001b[0m \n\u001b[0;32m    425\u001b[0m \u001b[38;5;124;03m    Parameters\u001b[39;00m\n\u001b[1;32m   (...)\u001b[0m\n\u001b[0;32m    444\u001b[0m \n\u001b[0;32m    445\u001b[0m \u001b[38;5;124;03m    \"\"\"\u001b[39;00m\n\u001b[1;32m--> 446\u001b[0m     index \u001b[38;5;241m=\u001b[39m \u001b[38;5;28;43mself\u001b[39;49m\u001b[38;5;241;43m.\u001b[39;49m\u001b[43mget_index\u001b[49m\u001b[43m(\u001b[49m\u001b[43mkey\u001b[49m\u001b[43m)\u001b[49m\n\u001b[0;32m    447\u001b[0m     \u001b[38;5;28;01mif\u001b[39;00m norm:\n\u001b[0;32m    448\u001b[0m         \u001b[38;5;28mself\u001b[39m\u001b[38;5;241m.\u001b[39mfill_norms()\n",
      "File \u001b[1;32m~\\AppData\\Roaming\\jupyterlab-desktop\\jlab_server\\lib\\site-packages\\gensim\\models\\keyedvectors.py:420\u001b[0m, in \u001b[0;36mKeyedVectors.get_index\u001b[1;34m(self, key, default)\u001b[0m\n\u001b[0;32m    418\u001b[0m     \u001b[38;5;28;01mreturn\u001b[39;00m default\n\u001b[0;32m    419\u001b[0m \u001b[38;5;28;01melse\u001b[39;00m:\n\u001b[1;32m--> 420\u001b[0m     \u001b[38;5;28;01mraise\u001b[39;00m \u001b[38;5;167;01mKeyError\u001b[39;00m(\u001b[38;5;124mf\u001b[39m\u001b[38;5;124m\"\u001b[39m\u001b[38;5;124mKey \u001b[39m\u001b[38;5;124m'\u001b[39m\u001b[38;5;132;01m{\u001b[39;00mkey\u001b[38;5;132;01m}\u001b[39;00m\u001b[38;5;124m'\u001b[39m\u001b[38;5;124m not present\u001b[39m\u001b[38;5;124m\"\u001b[39m)\n",
      "\u001b[1;31mKeyError\u001b[0m: \"Key 'manuṣya' not present\""
     ]
    }
   ],
   "source": [
    "ss_matthew_vectors = {}\n",
    "for key in ss_matthew_words:\n",
    "    ss_matthew_vectors[key] = ss_matthew_model.wv.get_vector(key)"
   ]
  },
  {
   "cell_type": "markdown",
   "id": "f7e7050f-a8a1-4e03-8f30-5c42c7a839c4",
   "metadata": {},
   "source": [
    "### Armenian"
   ]
  },
  {
   "cell_type": "code",
   "execution_count": 67,
   "id": "d88cf93b-8342-4ec9-b2a2-ea18445a356c",
   "metadata": {
    "tags": []
   },
   "outputs": [],
   "source": [
    "with open (\"texts/matthew/ar_matthew.txt\", 'r', encoding=\"utf-8\") as f:\n",
    "  text = f.read()\n",
    "    \n",
    "ar_matthew = tokenize_corpus(text)\n",
    "ar_matthew_model = Word2Vec(sentences = ar_matthew, \n",
    "                 vector_size = 100, \n",
    "                 window = 20,\n",
    "                 epochs = 100,\n",
    "                 min_count = 1)"
   ]
  },
  {
   "cell_type": "code",
   "execution_count": 68,
   "id": "016d3b3e-1ed3-4d70-9893-10e3b5669876",
   "metadata": {
    "collapsed": true,
    "jupyter": {
     "outputs_hidden": true
    },
    "tags": []
   },
   "outputs": [
    {
     "name": "stdout",
     "output_type": "stream",
     "text": [
      "եւ: 790\n",
      "որ: 438\n",
      "է: 405\n",
      "ու: 298\n",
      "նրան: 226\n",
      "ասաց: 225\n",
      "նրանց: 191\n",
      "պիտի: 173\n",
      "իր: 173\n",
      "կը: 163\n",
      "նրա: 159\n",
      "մի: 146\n",
      "ձեզ: 141\n",
      "վրայ: 120\n",
      "նա: 120\n",
      "ր: 119\n",
      "մէջ: 116\n",
      "ասում: 115\n",
      "էր: 114\n",
      "են: 112\n",
      "այն: 111\n",
      "քո: 110\n",
      "ք: 108\n",
      "յիսուս: 104\n",
      "էլ: 102\n",
      "եմ: 100\n",
      "թէ: 99\n",
      "երբ: 97\n",
      "իմ: 96\n",
      "համար: 95\n"
     ]
    }
   ],
   "source": [
    "word_counts = Counter({word: ar_matthew_model.wv.get_vecattr(word, 'count') for word in ar_matthew_model.wv.index_to_key})\n",
    "top_30_words = word_counts.most_common(30)\n",
    "for word, count in top_30_words:\n",
    "    print(f'{word}: {count}')"
   ]
  },
  {
   "cell_type": "code",
   "execution_count": 26,
   "id": "49aacc9e-98a7-43f9-8aee-b097452f2375",
   "metadata": {
    "tags": []
   },
   "outputs": [],
   "source": [
    "ar_matthew_words = ['մարդ', 'որոգայթ', 'տիրակալ', 'երկիր', 'խորհուրդներ', 'հայր', 'թագավորություն', 'աստուած', 'լավ', 'էշերջ', 'օր', 'մեծ', 'բնակարան', 'երեխաներ', 'աղբ', 'երկիր', 'ժամ', 'ազրկային հանրապետություն', 'հայրենիք', 'գրողներ', 'աշխարհաբառ', 'աղջիկ', 'ժամ', 'թագ', 'նուսակ']"
   ]
  },
  {
   "cell_type": "code",
   "execution_count": 27,
   "id": "447ef2f6-6a02-4d82-8e20-e0bbbe71a7b2",
   "metadata": {
    "collapsed": true,
    "jupyter": {
     "outputs_hidden": true
    },
    "tags": []
   },
   "outputs": [
    {
     "ename": "KeyError",
     "evalue": "\"Key 'տիրակալ' not present\"",
     "output_type": "error",
     "traceback": [
      "\u001b[1;31m---------------------------------------------------------------------------\u001b[0m",
      "\u001b[1;31mKeyError\u001b[0m                                  Traceback (most recent call last)",
      "Cell \u001b[1;32mIn[27], line 3\u001b[0m\n\u001b[0;32m      1\u001b[0m ar_matthew_vectors \u001b[38;5;241m=\u001b[39m {}\n\u001b[0;32m      2\u001b[0m \u001b[38;5;28;01mfor\u001b[39;00m key \u001b[38;5;129;01min\u001b[39;00m ar_matthew_words:\n\u001b[1;32m----> 3\u001b[0m     ar_matthew_vectors[key] \u001b[38;5;241m=\u001b[39m \u001b[43mar_matthew_model\u001b[49m\u001b[38;5;241;43m.\u001b[39;49m\u001b[43mwv\u001b[49m\u001b[38;5;241;43m.\u001b[39;49m\u001b[43mget_vector\u001b[49m\u001b[43m(\u001b[49m\u001b[43mkey\u001b[49m\u001b[43m)\u001b[49m\n",
      "File \u001b[1;32m~\\AppData\\Roaming\\jupyterlab-desktop\\jlab_server\\lib\\site-packages\\gensim\\models\\keyedvectors.py:446\u001b[0m, in \u001b[0;36mKeyedVectors.get_vector\u001b[1;34m(self, key, norm)\u001b[0m\n\u001b[0;32m    422\u001b[0m \u001b[38;5;28;01mdef\u001b[39;00m \u001b[38;5;21mget_vector\u001b[39m(\u001b[38;5;28mself\u001b[39m, key, norm\u001b[38;5;241m=\u001b[39m\u001b[38;5;28;01mFalse\u001b[39;00m):\n\u001b[0;32m    423\u001b[0m \u001b[38;5;250m    \u001b[39m\u001b[38;5;124;03m\"\"\"Get the key's vector, as a 1D numpy array.\u001b[39;00m\n\u001b[0;32m    424\u001b[0m \n\u001b[0;32m    425\u001b[0m \u001b[38;5;124;03m    Parameters\u001b[39;00m\n\u001b[1;32m   (...)\u001b[0m\n\u001b[0;32m    444\u001b[0m \n\u001b[0;32m    445\u001b[0m \u001b[38;5;124;03m    \"\"\"\u001b[39;00m\n\u001b[1;32m--> 446\u001b[0m     index \u001b[38;5;241m=\u001b[39m \u001b[38;5;28;43mself\u001b[39;49m\u001b[38;5;241;43m.\u001b[39;49m\u001b[43mget_index\u001b[49m\u001b[43m(\u001b[49m\u001b[43mkey\u001b[49m\u001b[43m)\u001b[49m\n\u001b[0;32m    447\u001b[0m     \u001b[38;5;28;01mif\u001b[39;00m norm:\n\u001b[0;32m    448\u001b[0m         \u001b[38;5;28mself\u001b[39m\u001b[38;5;241m.\u001b[39mfill_norms()\n",
      "File \u001b[1;32m~\\AppData\\Roaming\\jupyterlab-desktop\\jlab_server\\lib\\site-packages\\gensim\\models\\keyedvectors.py:420\u001b[0m, in \u001b[0;36mKeyedVectors.get_index\u001b[1;34m(self, key, default)\u001b[0m\n\u001b[0;32m    418\u001b[0m     \u001b[38;5;28;01mreturn\u001b[39;00m default\n\u001b[0;32m    419\u001b[0m \u001b[38;5;28;01melse\u001b[39;00m:\n\u001b[1;32m--> 420\u001b[0m     \u001b[38;5;28;01mraise\u001b[39;00m \u001b[38;5;167;01mKeyError\u001b[39;00m(\u001b[38;5;124mf\u001b[39m\u001b[38;5;124m\"\u001b[39m\u001b[38;5;124mKey \u001b[39m\u001b[38;5;124m'\u001b[39m\u001b[38;5;132;01m{\u001b[39;00mkey\u001b[38;5;132;01m}\u001b[39;00m\u001b[38;5;124m'\u001b[39m\u001b[38;5;124m not present\u001b[39m\u001b[38;5;124m\"\u001b[39m)\n",
      "\u001b[1;31mKeyError\u001b[0m: \"Key 'տիրակալ' not present\""
     ]
    }
   ],
   "source": [
    "ar_matthew_vectors = {}\n",
    "for key in ar_matthew_words:\n",
    "    ar_matthew_vectors[key] = ar_matthew_model.wv.get_vector(key)"
   ]
  },
  {
   "cell_type": "code",
   "execution_count": 19,
   "id": "24140234-16c0-483f-b657-42352670273e",
   "metadata": {
    "tags": []
   },
   "outputs": [
    {
     "name": "stdout",
     "output_type": "stream",
     "text": [
      "Collecting openpyxl\n",
      "  Downloading openpyxl-3.1.2-py2.py3-none-any.whl (249 kB)\n",
      "                                              0.0/250.0 kB ? eta -:--:--\n",
      "                                              0.0/250.0 kB ? eta -:--:--\n",
      "     ----                                  30.7/250.0 kB 640.0 kB/s eta 0:00:01\n",
      "     ---------                             61.4/250.0 kB 656.4 kB/s eta 0:00:01\n",
      "     -----------------                    122.9/250.0 kB 901.1 kB/s eta 0:00:01\n",
      "     -------------------------------------- 250.0/250.0 kB 1.5 MB/s eta 0:00:00\n",
      "Collecting et-xmlfile (from openpyxl)\n",
      "  Downloading et_xmlfile-1.1.0-py3-none-any.whl (4.7 kB)\n",
      "Installing collected packages: et-xmlfile, openpyxl\n",
      "Successfully installed et-xmlfile-1.1.0 openpyxl-3.1.2\n",
      "Note: you may need to restart the kernel to use updated packages.\n"
     ]
    }
   ],
   "source": [
    "pip install openpyxl"
   ]
  },
  {
   "cell_type": "code",
   "execution_count": 115,
   "id": "36ad87ba-56b6-4af2-8317-646bd354a073",
   "metadata": {
    "tags": []
   },
   "outputs": [],
   "source": [
    "import pandas as pd"
   ]
  },
  {
   "cell_type": "code",
   "execution_count": 103,
   "id": "58b3c4e9-aef0-4293-bb9f-51359b5de3b6",
   "metadata": {
    "tags": []
   },
   "outputs": [],
   "source": [
    "latindataframe = pd.read_excel(r\"C:\\Users\\gpwal\\Desktop\\SURA\\la_cosines.xlsx\", sheet_name=0, index_col=None, na_values=False)"
   ]
  },
  {
   "cell_type": "code",
   "execution_count": 104,
   "id": "c6ad0d18-7d3e-4222-9e5f-6926be1fe253",
   "metadata": {
    "tags": []
   },
   "outputs": [],
   "source": [
    "ladf = latindataframe.iloc[:, 1:]"
   ]
  },
  {
   "cell_type": "code",
   "execution_count": 105,
   "id": "ed815a0d-6d78-498d-a773-b018f8790e8a",
   "metadata": {
    "tags": []
   },
   "outputs": [
    {
     "data": {
      "text/html": [
       "<div>\n",
       "<style scoped>\n",
       "    .dataframe tbody tr th:only-of-type {\n",
       "        vertical-align: middle;\n",
       "    }\n",
       "\n",
       "    .dataframe tbody tr th {\n",
       "        vertical-align: top;\n",
       "    }\n",
       "\n",
       "    .dataframe thead th {\n",
       "        text-align: right;\n",
       "    }\n",
       "</style>\n",
       "<table border=\"1\" class=\"dataframe\">\n",
       "  <thead>\n",
       "    <tr style=\"text-align: right;\">\n",
       "      <th></th>\n",
       "      <th>I</th>\n",
       "      <th>you</th>\n",
       "      <th>we</th>\n",
       "      <th>this</th>\n",
       "      <th>that</th>\n",
       "      <th>who?</th>\n",
       "      <th>what?</th>\n",
       "      <th>not</th>\n",
       "      <th>all</th>\n",
       "      <th>many</th>\n",
       "      <th>...</th>\n",
       "      <th>black</th>\n",
       "      <th>night</th>\n",
       "      <th>hot</th>\n",
       "      <th>cold</th>\n",
       "      <th>full</th>\n",
       "      <th>new</th>\n",
       "      <th>good</th>\n",
       "      <th>round</th>\n",
       "      <th>dry</th>\n",
       "      <th>name</th>\n",
       "    </tr>\n",
       "  </thead>\n",
       "  <tbody>\n",
       "    <tr>\n",
       "      <th>0</th>\n",
       "      <td>NaN</td>\n",
       "      <td>NaN</td>\n",
       "      <td>NaN</td>\n",
       "      <td>NaN</td>\n",
       "      <td>NaN</td>\n",
       "      <td>NaN</td>\n",
       "      <td>NaN</td>\n",
       "      <td>NaN</td>\n",
       "      <td>NaN</td>\n",
       "      <td>NaN</td>\n",
       "      <td>...</td>\n",
       "      <td>NaN</td>\n",
       "      <td>NaN</td>\n",
       "      <td>NaN</td>\n",
       "      <td>NaN</td>\n",
       "      <td>NaN</td>\n",
       "      <td>NaN</td>\n",
       "      <td>NaN</td>\n",
       "      <td>NaN</td>\n",
       "      <td>NaN</td>\n",
       "      <td>NaN</td>\n",
       "    </tr>\n",
       "    <tr>\n",
       "      <th>1</th>\n",
       "      <td>0.544908</td>\n",
       "      <td>NaN</td>\n",
       "      <td>NaN</td>\n",
       "      <td>NaN</td>\n",
       "      <td>NaN</td>\n",
       "      <td>NaN</td>\n",
       "      <td>NaN</td>\n",
       "      <td>NaN</td>\n",
       "      <td>NaN</td>\n",
       "      <td>NaN</td>\n",
       "      <td>...</td>\n",
       "      <td>NaN</td>\n",
       "      <td>NaN</td>\n",
       "      <td>NaN</td>\n",
       "      <td>NaN</td>\n",
       "      <td>NaN</td>\n",
       "      <td>NaN</td>\n",
       "      <td>NaN</td>\n",
       "      <td>NaN</td>\n",
       "      <td>NaN</td>\n",
       "      <td>NaN</td>\n",
       "    </tr>\n",
       "    <tr>\n",
       "      <th>2</th>\n",
       "      <td>0.312870</td>\n",
       "      <td>0.299855</td>\n",
       "      <td>NaN</td>\n",
       "      <td>NaN</td>\n",
       "      <td>NaN</td>\n",
       "      <td>NaN</td>\n",
       "      <td>NaN</td>\n",
       "      <td>NaN</td>\n",
       "      <td>NaN</td>\n",
       "      <td>NaN</td>\n",
       "      <td>...</td>\n",
       "      <td>NaN</td>\n",
       "      <td>NaN</td>\n",
       "      <td>NaN</td>\n",
       "      <td>NaN</td>\n",
       "      <td>NaN</td>\n",
       "      <td>NaN</td>\n",
       "      <td>NaN</td>\n",
       "      <td>NaN</td>\n",
       "      <td>NaN</td>\n",
       "      <td>NaN</td>\n",
       "    </tr>\n",
       "    <tr>\n",
       "      <th>3</th>\n",
       "      <td>0.055817</td>\n",
       "      <td>0.086633</td>\n",
       "      <td>0.314305</td>\n",
       "      <td>NaN</td>\n",
       "      <td>NaN</td>\n",
       "      <td>NaN</td>\n",
       "      <td>NaN</td>\n",
       "      <td>NaN</td>\n",
       "      <td>NaN</td>\n",
       "      <td>NaN</td>\n",
       "      <td>...</td>\n",
       "      <td>NaN</td>\n",
       "      <td>NaN</td>\n",
       "      <td>NaN</td>\n",
       "      <td>NaN</td>\n",
       "      <td>NaN</td>\n",
       "      <td>NaN</td>\n",
       "      <td>NaN</td>\n",
       "      <td>NaN</td>\n",
       "      <td>NaN</td>\n",
       "      <td>NaN</td>\n",
       "    </tr>\n",
       "    <tr>\n",
       "      <th>4</th>\n",
       "      <td>0.370825</td>\n",
       "      <td>0.502738</td>\n",
       "      <td>0.264221</td>\n",
       "      <td>0.080526</td>\n",
       "      <td>NaN</td>\n",
       "      <td>NaN</td>\n",
       "      <td>NaN</td>\n",
       "      <td>NaN</td>\n",
       "      <td>NaN</td>\n",
       "      <td>NaN</td>\n",
       "      <td>...</td>\n",
       "      <td>NaN</td>\n",
       "      <td>NaN</td>\n",
       "      <td>NaN</td>\n",
       "      <td>NaN</td>\n",
       "      <td>NaN</td>\n",
       "      <td>NaN</td>\n",
       "      <td>NaN</td>\n",
       "      <td>NaN</td>\n",
       "      <td>NaN</td>\n",
       "      <td>NaN</td>\n",
       "    </tr>\n",
       "    <tr>\n",
       "      <th>...</th>\n",
       "      <td>...</td>\n",
       "      <td>...</td>\n",
       "      <td>...</td>\n",
       "      <td>...</td>\n",
       "      <td>...</td>\n",
       "      <td>...</td>\n",
       "      <td>...</td>\n",
       "      <td>...</td>\n",
       "      <td>...</td>\n",
       "      <td>...</td>\n",
       "      <td>...</td>\n",
       "      <td>...</td>\n",
       "      <td>...</td>\n",
       "      <td>...</td>\n",
       "      <td>...</td>\n",
       "      <td>...</td>\n",
       "      <td>...</td>\n",
       "      <td>...</td>\n",
       "      <td>...</td>\n",
       "      <td>...</td>\n",
       "      <td>...</td>\n",
       "    </tr>\n",
       "    <tr>\n",
       "      <th>95</th>\n",
       "      <td>-0.191671</td>\n",
       "      <td>0.039225</td>\n",
       "      <td>-0.181005</td>\n",
       "      <td>-0.111448</td>\n",
       "      <td>-0.091186</td>\n",
       "      <td>-0.092863</td>\n",
       "      <td>-0.082766</td>\n",
       "      <td>-0.174769</td>\n",
       "      <td>0.014443</td>\n",
       "      <td>0.058463</td>\n",
       "      <td>...</td>\n",
       "      <td>0.159416</td>\n",
       "      <td>0.204198</td>\n",
       "      <td>0.102652</td>\n",
       "      <td>0.212046</td>\n",
       "      <td>-0.008237</td>\n",
       "      <td>NaN</td>\n",
       "      <td>NaN</td>\n",
       "      <td>NaN</td>\n",
       "      <td>NaN</td>\n",
       "      <td>NaN</td>\n",
       "    </tr>\n",
       "    <tr>\n",
       "      <th>96</th>\n",
       "      <td>0.018465</td>\n",
       "      <td>0.180097</td>\n",
       "      <td>0.009688</td>\n",
       "      <td>-0.064131</td>\n",
       "      <td>0.135996</td>\n",
       "      <td>0.194732</td>\n",
       "      <td>0.114797</td>\n",
       "      <td>0.192002</td>\n",
       "      <td>0.100327</td>\n",
       "      <td>0.018703</td>\n",
       "      <td>...</td>\n",
       "      <td>0.048462</td>\n",
       "      <td>0.082991</td>\n",
       "      <td>0.198504</td>\n",
       "      <td>-0.183914</td>\n",
       "      <td>0.131250</td>\n",
       "      <td>-0.120443</td>\n",
       "      <td>NaN</td>\n",
       "      <td>NaN</td>\n",
       "      <td>NaN</td>\n",
       "      <td>NaN</td>\n",
       "    </tr>\n",
       "    <tr>\n",
       "      <th>97</th>\n",
       "      <td>-0.136534</td>\n",
       "      <td>-0.084607</td>\n",
       "      <td>-0.073926</td>\n",
       "      <td>-0.130337</td>\n",
       "      <td>-0.069499</td>\n",
       "      <td>0.001035</td>\n",
       "      <td>0.025118</td>\n",
       "      <td>0.026889</td>\n",
       "      <td>0.150900</td>\n",
       "      <td>-0.096043</td>\n",
       "      <td>...</td>\n",
       "      <td>0.036229</td>\n",
       "      <td>0.285919</td>\n",
       "      <td>0.225559</td>\n",
       "      <td>0.021000</td>\n",
       "      <td>0.181853</td>\n",
       "      <td>0.142220</td>\n",
       "      <td>0.096916</td>\n",
       "      <td>NaN</td>\n",
       "      <td>NaN</td>\n",
       "      <td>NaN</td>\n",
       "    </tr>\n",
       "    <tr>\n",
       "      <th>98</th>\n",
       "      <td>-0.116682</td>\n",
       "      <td>-0.055338</td>\n",
       "      <td>0.008966</td>\n",
       "      <td>0.028429</td>\n",
       "      <td>0.075011</td>\n",
       "      <td>-0.033859</td>\n",
       "      <td>0.021521</td>\n",
       "      <td>0.145854</td>\n",
       "      <td>0.090141</td>\n",
       "      <td>-0.074379</td>\n",
       "      <td>...</td>\n",
       "      <td>0.252054</td>\n",
       "      <td>0.122005</td>\n",
       "      <td>0.473896</td>\n",
       "      <td>0.081594</td>\n",
       "      <td>0.085232</td>\n",
       "      <td>0.019322</td>\n",
       "      <td>0.220685</td>\n",
       "      <td>0.030865</td>\n",
       "      <td>NaN</td>\n",
       "      <td>NaN</td>\n",
       "    </tr>\n",
       "    <tr>\n",
       "      <th>99</th>\n",
       "      <td>0.006012</td>\n",
       "      <td>-0.184154</td>\n",
       "      <td>0.081367</td>\n",
       "      <td>-0.058055</td>\n",
       "      <td>0.115930</td>\n",
       "      <td>0.050511</td>\n",
       "      <td>0.300947</td>\n",
       "      <td>0.307662</td>\n",
       "      <td>0.182701</td>\n",
       "      <td>0.196728</td>\n",
       "      <td>...</td>\n",
       "      <td>-0.183677</td>\n",
       "      <td>-0.053900</td>\n",
       "      <td>0.013339</td>\n",
       "      <td>-0.141866</td>\n",
       "      <td>0.120873</td>\n",
       "      <td>-0.101129</td>\n",
       "      <td>0.076199</td>\n",
       "      <td>0.066825</td>\n",
       "      <td>-0.012415</td>\n",
       "      <td>NaN</td>\n",
       "    </tr>\n",
       "  </tbody>\n",
       "</table>\n",
       "<p>100 rows × 100 columns</p>\n",
       "</div>"
      ],
      "text/plain": [
       "           I       you        we      this      that      who?     what?   \n",
       "0        NaN       NaN       NaN       NaN       NaN       NaN       NaN  \\\n",
       "1   0.544908       NaN       NaN       NaN       NaN       NaN       NaN   \n",
       "2   0.312870  0.299855       NaN       NaN       NaN       NaN       NaN   \n",
       "3   0.055817  0.086633  0.314305       NaN       NaN       NaN       NaN   \n",
       "4   0.370825  0.502738  0.264221  0.080526       NaN       NaN       NaN   \n",
       "..       ...       ...       ...       ...       ...       ...       ...   \n",
       "95 -0.191671  0.039225 -0.181005 -0.111448 -0.091186 -0.092863 -0.082766   \n",
       "96  0.018465  0.180097  0.009688 -0.064131  0.135996  0.194732  0.114797   \n",
       "97 -0.136534 -0.084607 -0.073926 -0.130337 -0.069499  0.001035  0.025118   \n",
       "98 -0.116682 -0.055338  0.008966  0.028429  0.075011 -0.033859  0.021521   \n",
       "99  0.006012 -0.184154  0.081367 -0.058055  0.115930  0.050511  0.300947   \n",
       "\n",
       "         not       all      many  ...     black     night       hot      cold   \n",
       "0        NaN       NaN       NaN  ...       NaN       NaN       NaN       NaN  \\\n",
       "1        NaN       NaN       NaN  ...       NaN       NaN       NaN       NaN   \n",
       "2        NaN       NaN       NaN  ...       NaN       NaN       NaN       NaN   \n",
       "3        NaN       NaN       NaN  ...       NaN       NaN       NaN       NaN   \n",
       "4        NaN       NaN       NaN  ...       NaN       NaN       NaN       NaN   \n",
       "..       ...       ...       ...  ...       ...       ...       ...       ...   \n",
       "95 -0.174769  0.014443  0.058463  ...  0.159416  0.204198  0.102652  0.212046   \n",
       "96  0.192002  0.100327  0.018703  ...  0.048462  0.082991  0.198504 -0.183914   \n",
       "97  0.026889  0.150900 -0.096043  ...  0.036229  0.285919  0.225559  0.021000   \n",
       "98  0.145854  0.090141 -0.074379  ...  0.252054  0.122005  0.473896  0.081594   \n",
       "99  0.307662  0.182701  0.196728  ... -0.183677 -0.053900  0.013339 -0.141866   \n",
       "\n",
       "        full       new      good     round       dry  name  \n",
       "0        NaN       NaN       NaN       NaN       NaN   NaN  \n",
       "1        NaN       NaN       NaN       NaN       NaN   NaN  \n",
       "2        NaN       NaN       NaN       NaN       NaN   NaN  \n",
       "3        NaN       NaN       NaN       NaN       NaN   NaN  \n",
       "4        NaN       NaN       NaN       NaN       NaN   NaN  \n",
       "..       ...       ...       ...       ...       ...   ...  \n",
       "95 -0.008237       NaN       NaN       NaN       NaN   NaN  \n",
       "96  0.131250 -0.120443       NaN       NaN       NaN   NaN  \n",
       "97  0.181853  0.142220  0.096916       NaN       NaN   NaN  \n",
       "98  0.085232  0.019322  0.220685  0.030865       NaN   NaN  \n",
       "99  0.120873 -0.101129  0.076199  0.066825 -0.012415   NaN  \n",
       "\n",
       "[100 rows x 100 columns]"
      ]
     },
     "execution_count": 105,
     "metadata": {},
     "output_type": "execute_result"
    }
   ],
   "source": [
    "latindataframe.iloc[:, 1:]"
   ]
  },
  {
   "cell_type": "code",
   "execution_count": 106,
   "id": "8239753f-31e2-4244-8354-666c563f39f1",
   "metadata": {
    "tags": []
   },
   "outputs": [],
   "source": [
    "latinmatrix = ladf.to_numpy()"
   ]
  },
  {
   "cell_type": "code",
   "execution_count": 121,
   "id": "5b79e739-59ee-41cf-9cc9-2107ffb5ec05",
   "metadata": {
    "tags": []
   },
   "outputs": [],
   "source": [
    "lavector = np.squeeze(np.asarray(latinmatrix))"
   ]
  },
  {
   "cell_type": "code",
   "execution_count": 124,
   "id": "593f7eab-db82-4603-af16-e32e9f78f4d1",
   "metadata": {
    "tags": []
   },
   "outputs": [
    {
     "name": "stdout",
     "output_type": "stream",
     "text": [
      "[[        nan         nan         nan ...         nan         nan\n",
      "          nan]\n",
      " [ 0.5449078          nan         nan ...         nan         nan\n",
      "          nan]\n",
      " [ 0.31286967  0.29985464         nan ...         nan         nan\n",
      "          nan]\n",
      " ...\n",
      " [-0.13653412 -0.08460693 -0.07392614 ...         nan         nan\n",
      "          nan]\n",
      " [-0.11668243 -0.05533811  0.00896553 ...  0.03086516         nan\n",
      "          nan]\n",
      " [ 0.00601181 -0.18415412  0.08136679 ...  0.0668251  -0.01241536\n",
      "          nan]]\n"
     ]
    }
   ],
   "source": [
    "print(lavector)"
   ]
  },
  {
   "cell_type": "code",
   "execution_count": 128,
   "id": "cd4d00c8-42de-4f20-b9dc-869ba52c7ab3",
   "metadata": {
    "tags": []
   },
   "outputs": [],
   "source": [
    "ladf_flat = np.hstack(lavector)"
   ]
  },
  {
   "cell_type": "code",
   "execution_count": 109,
   "id": "770b5b63-449f-4133-a3bc-390760288574",
   "metadata": {
    "tags": []
   },
   "outputs": [
    {
     "name": "stdout",
     "output_type": "stream",
     "text": [
      "[        nan         nan         nan ...  0.0668251  -0.01241536\n",
      "         nan]\n"
     ]
    }
   ],
   "source": [
    "print(ladf_flat)"
   ]
  },
  {
   "cell_type": "code",
   "execution_count": 110,
   "id": "a45b8b2d-2a7f-4d9c-86d1-31d2e0b24d93",
   "metadata": {
    "tags": []
   },
   "outputs": [],
   "source": [
    "oedataframe = pd.read_excel(r\"C:\\Users\\gpwal\\Desktop\\SURA\\oe_cosines.xlsx\", sheet_name=0)"
   ]
  },
  {
   "cell_type": "code",
   "execution_count": 111,
   "id": "a4ff6f8d-cea7-4dc5-b77f-d9bcb2c3bdb0",
   "metadata": {
    "tags": []
   },
   "outputs": [],
   "source": [
    "oedf = oedataframe.iloc[:, 1:]"
   ]
  },
  {
   "cell_type": "code",
   "execution_count": 112,
   "id": "80dcf75e-efcc-464c-8a5a-4145b7978bff",
   "metadata": {
    "tags": []
   },
   "outputs": [
    {
     "data": {
      "text/html": [
       "<div>\n",
       "<style scoped>\n",
       "    .dataframe tbody tr th:only-of-type {\n",
       "        vertical-align: middle;\n",
       "    }\n",
       "\n",
       "    .dataframe tbody tr th {\n",
       "        vertical-align: top;\n",
       "    }\n",
       "\n",
       "    .dataframe thead th {\n",
       "        text-align: right;\n",
       "    }\n",
       "</style>\n",
       "<table border=\"1\" class=\"dataframe\">\n",
       "  <thead>\n",
       "    <tr style=\"text-align: right;\">\n",
       "      <th></th>\n",
       "      <th>I</th>\n",
       "      <th>you</th>\n",
       "      <th>we</th>\n",
       "      <th>this</th>\n",
       "      <th>that</th>\n",
       "      <th>who?</th>\n",
       "      <th>what?</th>\n",
       "      <th>not</th>\n",
       "      <th>all</th>\n",
       "      <th>many</th>\n",
       "      <th>...</th>\n",
       "      <th>black</th>\n",
       "      <th>night</th>\n",
       "      <th>hot</th>\n",
       "      <th>cold</th>\n",
       "      <th>full</th>\n",
       "      <th>new</th>\n",
       "      <th>good</th>\n",
       "      <th>round</th>\n",
       "      <th>dry</th>\n",
       "      <th>name</th>\n",
       "    </tr>\n",
       "  </thead>\n",
       "  <tbody>\n",
       "    <tr>\n",
       "      <th>0</th>\n",
       "      <td>NaN</td>\n",
       "      <td>NaN</td>\n",
       "      <td>NaN</td>\n",
       "      <td>NaN</td>\n",
       "      <td>NaN</td>\n",
       "      <td>NaN</td>\n",
       "      <td>NaN</td>\n",
       "      <td>NaN</td>\n",
       "      <td>NaN</td>\n",
       "      <td>NaN</td>\n",
       "      <td>...</td>\n",
       "      <td>NaN</td>\n",
       "      <td>NaN</td>\n",
       "      <td>NaN</td>\n",
       "      <td>NaN</td>\n",
       "      <td>NaN</td>\n",
       "      <td>NaN</td>\n",
       "      <td>NaN</td>\n",
       "      <td>NaN</td>\n",
       "      <td>NaN</td>\n",
       "      <td>NaN</td>\n",
       "    </tr>\n",
       "    <tr>\n",
       "      <th>1</th>\n",
       "      <td>0.199586</td>\n",
       "      <td>NaN</td>\n",
       "      <td>NaN</td>\n",
       "      <td>NaN</td>\n",
       "      <td>NaN</td>\n",
       "      <td>NaN</td>\n",
       "      <td>NaN</td>\n",
       "      <td>NaN</td>\n",
       "      <td>NaN</td>\n",
       "      <td>NaN</td>\n",
       "      <td>...</td>\n",
       "      <td>NaN</td>\n",
       "      <td>NaN</td>\n",
       "      <td>NaN</td>\n",
       "      <td>NaN</td>\n",
       "      <td>NaN</td>\n",
       "      <td>NaN</td>\n",
       "      <td>NaN</td>\n",
       "      <td>NaN</td>\n",
       "      <td>NaN</td>\n",
       "      <td>NaN</td>\n",
       "    </tr>\n",
       "    <tr>\n",
       "      <th>2</th>\n",
       "      <td>-0.048378</td>\n",
       "      <td>0.049767</td>\n",
       "      <td>NaN</td>\n",
       "      <td>NaN</td>\n",
       "      <td>NaN</td>\n",
       "      <td>NaN</td>\n",
       "      <td>NaN</td>\n",
       "      <td>NaN</td>\n",
       "      <td>NaN</td>\n",
       "      <td>NaN</td>\n",
       "      <td>...</td>\n",
       "      <td>NaN</td>\n",
       "      <td>NaN</td>\n",
       "      <td>NaN</td>\n",
       "      <td>NaN</td>\n",
       "      <td>NaN</td>\n",
       "      <td>NaN</td>\n",
       "      <td>NaN</td>\n",
       "      <td>NaN</td>\n",
       "      <td>NaN</td>\n",
       "      <td>NaN</td>\n",
       "    </tr>\n",
       "    <tr>\n",
       "      <th>3</th>\n",
       "      <td>0.372696</td>\n",
       "      <td>0.107592</td>\n",
       "      <td>0.134606</td>\n",
       "      <td>NaN</td>\n",
       "      <td>NaN</td>\n",
       "      <td>NaN</td>\n",
       "      <td>NaN</td>\n",
       "      <td>NaN</td>\n",
       "      <td>NaN</td>\n",
       "      <td>NaN</td>\n",
       "      <td>...</td>\n",
       "      <td>NaN</td>\n",
       "      <td>NaN</td>\n",
       "      <td>NaN</td>\n",
       "      <td>NaN</td>\n",
       "      <td>NaN</td>\n",
       "      <td>NaN</td>\n",
       "      <td>NaN</td>\n",
       "      <td>NaN</td>\n",
       "      <td>NaN</td>\n",
       "      <td>NaN</td>\n",
       "    </tr>\n",
       "    <tr>\n",
       "      <th>4</th>\n",
       "      <td>-0.064112</td>\n",
       "      <td>0.214491</td>\n",
       "      <td>-0.045460</td>\n",
       "      <td>0.061424</td>\n",
       "      <td>NaN</td>\n",
       "      <td>NaN</td>\n",
       "      <td>NaN</td>\n",
       "      <td>NaN</td>\n",
       "      <td>NaN</td>\n",
       "      <td>NaN</td>\n",
       "      <td>...</td>\n",
       "      <td>NaN</td>\n",
       "      <td>NaN</td>\n",
       "      <td>NaN</td>\n",
       "      <td>NaN</td>\n",
       "      <td>NaN</td>\n",
       "      <td>NaN</td>\n",
       "      <td>NaN</td>\n",
       "      <td>NaN</td>\n",
       "      <td>NaN</td>\n",
       "      <td>NaN</td>\n",
       "    </tr>\n",
       "    <tr>\n",
       "      <th>...</th>\n",
       "      <td>...</td>\n",
       "      <td>...</td>\n",
       "      <td>...</td>\n",
       "      <td>...</td>\n",
       "      <td>...</td>\n",
       "      <td>...</td>\n",
       "      <td>...</td>\n",
       "      <td>...</td>\n",
       "      <td>...</td>\n",
       "      <td>...</td>\n",
       "      <td>...</td>\n",
       "      <td>...</td>\n",
       "      <td>...</td>\n",
       "      <td>...</td>\n",
       "      <td>...</td>\n",
       "      <td>...</td>\n",
       "      <td>...</td>\n",
       "      <td>...</td>\n",
       "      <td>...</td>\n",
       "      <td>...</td>\n",
       "      <td>...</td>\n",
       "    </tr>\n",
       "    <tr>\n",
       "      <th>95</th>\n",
       "      <td>-0.149057</td>\n",
       "      <td>-0.252582</td>\n",
       "      <td>-0.251755</td>\n",
       "      <td>0.007109</td>\n",
       "      <td>0.041825</td>\n",
       "      <td>-0.184093</td>\n",
       "      <td>-0.184093</td>\n",
       "      <td>-0.119370</td>\n",
       "      <td>-0.024166</td>\n",
       "      <td>0.346713</td>\n",
       "      <td>...</td>\n",
       "      <td>0.283899</td>\n",
       "      <td>-0.011850</td>\n",
       "      <td>0.462567</td>\n",
       "      <td>0.249191</td>\n",
       "      <td>0.062608</td>\n",
       "      <td>NaN</td>\n",
       "      <td>NaN</td>\n",
       "      <td>NaN</td>\n",
       "      <td>NaN</td>\n",
       "      <td>NaN</td>\n",
       "    </tr>\n",
       "    <tr>\n",
       "      <th>96</th>\n",
       "      <td>-0.117195</td>\n",
       "      <td>-0.115000</td>\n",
       "      <td>-0.047314</td>\n",
       "      <td>-0.242004</td>\n",
       "      <td>0.104801</td>\n",
       "      <td>0.035051</td>\n",
       "      <td>0.035051</td>\n",
       "      <td>-0.077499</td>\n",
       "      <td>0.104012</td>\n",
       "      <td>0.089248</td>\n",
       "      <td>...</td>\n",
       "      <td>0.113303</td>\n",
       "      <td>-0.010459</td>\n",
       "      <td>0.282670</td>\n",
       "      <td>0.240813</td>\n",
       "      <td>0.041215</td>\n",
       "      <td>0.128523</td>\n",
       "      <td>NaN</td>\n",
       "      <td>NaN</td>\n",
       "      <td>NaN</td>\n",
       "      <td>NaN</td>\n",
       "    </tr>\n",
       "    <tr>\n",
       "      <th>97</th>\n",
       "      <td>NaN</td>\n",
       "      <td>NaN</td>\n",
       "      <td>NaN</td>\n",
       "      <td>NaN</td>\n",
       "      <td>NaN</td>\n",
       "      <td>NaN</td>\n",
       "      <td>NaN</td>\n",
       "      <td>NaN</td>\n",
       "      <td>NaN</td>\n",
       "      <td>NaN</td>\n",
       "      <td>...</td>\n",
       "      <td>NaN</td>\n",
       "      <td>NaN</td>\n",
       "      <td>NaN</td>\n",
       "      <td>NaN</td>\n",
       "      <td>NaN</td>\n",
       "      <td>NaN</td>\n",
       "      <td>NaN</td>\n",
       "      <td>NaN</td>\n",
       "      <td>NaN</td>\n",
       "      <td>NaN</td>\n",
       "    </tr>\n",
       "    <tr>\n",
       "      <th>98</th>\n",
       "      <td>0.093428</td>\n",
       "      <td>-0.137481</td>\n",
       "      <td>-0.044798</td>\n",
       "      <td>-0.086108</td>\n",
       "      <td>-0.156708</td>\n",
       "      <td>0.065059</td>\n",
       "      <td>0.065059</td>\n",
       "      <td>0.139210</td>\n",
       "      <td>0.131342</td>\n",
       "      <td>0.117317</td>\n",
       "      <td>...</td>\n",
       "      <td>0.180317</td>\n",
       "      <td>0.086777</td>\n",
       "      <td>0.357596</td>\n",
       "      <td>0.358349</td>\n",
       "      <td>0.255548</td>\n",
       "      <td>0.203906</td>\n",
       "      <td>0.007764</td>\n",
       "      <td>NaN</td>\n",
       "      <td>NaN</td>\n",
       "      <td>NaN</td>\n",
       "    </tr>\n",
       "    <tr>\n",
       "      <th>99</th>\n",
       "      <td>0.016126</td>\n",
       "      <td>0.090657</td>\n",
       "      <td>-0.146445</td>\n",
       "      <td>-0.011483</td>\n",
       "      <td>0.161981</td>\n",
       "      <td>-0.055366</td>\n",
       "      <td>-0.055366</td>\n",
       "      <td>-0.037310</td>\n",
       "      <td>0.092868</td>\n",
       "      <td>0.129474</td>\n",
       "      <td>...</td>\n",
       "      <td>0.127968</td>\n",
       "      <td>-0.083451</td>\n",
       "      <td>0.023874</td>\n",
       "      <td>-0.034881</td>\n",
       "      <td>0.119939</td>\n",
       "      <td>0.251601</td>\n",
       "      <td>0.065940</td>\n",
       "      <td>NaN</td>\n",
       "      <td>-0.000104</td>\n",
       "      <td>NaN</td>\n",
       "    </tr>\n",
       "  </tbody>\n",
       "</table>\n",
       "<p>100 rows × 100 columns</p>\n",
       "</div>"
      ],
      "text/plain": [
       "           I       you        we      this      that      who?     what?   \n",
       "0        NaN       NaN       NaN       NaN       NaN       NaN       NaN  \\\n",
       "1   0.199586       NaN       NaN       NaN       NaN       NaN       NaN   \n",
       "2  -0.048378  0.049767       NaN       NaN       NaN       NaN       NaN   \n",
       "3   0.372696  0.107592  0.134606       NaN       NaN       NaN       NaN   \n",
       "4  -0.064112  0.214491 -0.045460  0.061424       NaN       NaN       NaN   \n",
       "..       ...       ...       ...       ...       ...       ...       ...   \n",
       "95 -0.149057 -0.252582 -0.251755  0.007109  0.041825 -0.184093 -0.184093   \n",
       "96 -0.117195 -0.115000 -0.047314 -0.242004  0.104801  0.035051  0.035051   \n",
       "97       NaN       NaN       NaN       NaN       NaN       NaN       NaN   \n",
       "98  0.093428 -0.137481 -0.044798 -0.086108 -0.156708  0.065059  0.065059   \n",
       "99  0.016126  0.090657 -0.146445 -0.011483  0.161981 -0.055366 -0.055366   \n",
       "\n",
       "         not       all      many  ...     black     night       hot      cold   \n",
       "0        NaN       NaN       NaN  ...       NaN       NaN       NaN       NaN  \\\n",
       "1        NaN       NaN       NaN  ...       NaN       NaN       NaN       NaN   \n",
       "2        NaN       NaN       NaN  ...       NaN       NaN       NaN       NaN   \n",
       "3        NaN       NaN       NaN  ...       NaN       NaN       NaN       NaN   \n",
       "4        NaN       NaN       NaN  ...       NaN       NaN       NaN       NaN   \n",
       "..       ...       ...       ...  ...       ...       ...       ...       ...   \n",
       "95 -0.119370 -0.024166  0.346713  ...  0.283899 -0.011850  0.462567  0.249191   \n",
       "96 -0.077499  0.104012  0.089248  ...  0.113303 -0.010459  0.282670  0.240813   \n",
       "97       NaN       NaN       NaN  ...       NaN       NaN       NaN       NaN   \n",
       "98  0.139210  0.131342  0.117317  ...  0.180317  0.086777  0.357596  0.358349   \n",
       "99 -0.037310  0.092868  0.129474  ...  0.127968 -0.083451  0.023874 -0.034881   \n",
       "\n",
       "        full       new      good  round       dry  name  \n",
       "0        NaN       NaN       NaN    NaN       NaN   NaN  \n",
       "1        NaN       NaN       NaN    NaN       NaN   NaN  \n",
       "2        NaN       NaN       NaN    NaN       NaN   NaN  \n",
       "3        NaN       NaN       NaN    NaN       NaN   NaN  \n",
       "4        NaN       NaN       NaN    NaN       NaN   NaN  \n",
       "..       ...       ...       ...    ...       ...   ...  \n",
       "95  0.062608       NaN       NaN    NaN       NaN   NaN  \n",
       "96  0.041215  0.128523       NaN    NaN       NaN   NaN  \n",
       "97       NaN       NaN       NaN    NaN       NaN   NaN  \n",
       "98  0.255548  0.203906  0.007764    NaN       NaN   NaN  \n",
       "99  0.119939  0.251601  0.065940    NaN -0.000104   NaN  \n",
       "\n",
       "[100 rows x 100 columns]"
      ]
     },
     "execution_count": 112,
     "metadata": {},
     "output_type": "execute_result"
    }
   ],
   "source": [
    "oedataframe.iloc[:, 1:]"
   ]
  },
  {
   "cell_type": "code",
   "execution_count": 113,
   "id": "0f04a6ab-8568-4a78-8924-233d8f98ee51",
   "metadata": {
    "tags": []
   },
   "outputs": [],
   "source": [
    "oematrix = oedf.to_numpy()"
   ]
  },
  {
   "cell_type": "code",
   "execution_count": 118,
   "id": "031d53f8-ec43-4129-a923-8350081c3fec",
   "metadata": {
    "tags": []
   },
   "outputs": [],
   "source": [
    "oevector = np.squeeze(np.asarray(oematrix))"
   ]
  },
  {
   "cell_type": "code",
   "execution_count": 119,
   "id": "a44ae6f7-a4a0-4ce4-8c21-222334f5b761",
   "metadata": {
    "tags": []
   },
   "outputs": [
    {
     "name": "stdout",
     "output_type": "stream",
     "text": [
      "[[           nan            nan            nan ...            nan\n",
      "             nan            nan]\n",
      " [ 1.9958644e-01            nan            nan ...            nan\n",
      "             nan            nan]\n",
      " [-4.8378120e-02  4.9767070e-02            nan ...            nan\n",
      "             nan            nan]\n",
      " ...\n",
      " [           nan            nan            nan ...            nan\n",
      "             nan            nan]\n",
      " [ 9.3427880e-02 -1.3748070e-01 -4.4797942e-02 ...            nan\n",
      "             nan            nan]\n",
      " [ 1.6125979e-02  9.0657026e-02 -1.4644535e-01 ...            nan\n",
      "  -1.0405481e-04            nan]]\n"
     ]
    }
   ],
   "source": [
    "print(oevector)"
   ]
  },
  {
   "cell_type": "code",
   "execution_count": 126,
   "id": "e02afa7c-178c-403b-b34c-05e4776e79fc",
   "metadata": {
    "tags": []
   },
   "outputs": [],
   "source": [
    "oedf_flat = np.hstack(oevector)"
   ]
  },
  {
   "cell_type": "code",
   "execution_count": 116,
   "id": "841c18f7-0d4c-4470-9fc4-198d50a41be0",
   "metadata": {
    "tags": []
   },
   "outputs": [
    {
     "name": "stdout",
     "output_type": "stream",
     "text": [
      "[        nan         nan         nan ...         nan -0.00010405\n",
      "         nan]\n"
     ]
    }
   ],
   "source": [
    "print(oedf_flat)"
   ]
  },
  {
   "cell_type": "code",
   "execution_count": 171,
   "id": "2f4b32eb-bc19-4c52-8ce1-cd1e8369c9cd",
   "metadata": {
    "collapsed": true,
    "jupyter": {
     "outputs_hidden": true
    },
    "tags": []
   },
   "outputs": [
    {
     "ename": "ValueError",
     "evalue": "Input vector should be 1-D.",
     "output_type": "error",
     "traceback": [
      "\u001b[1;31m---------------------------------------------------------------------------\u001b[0m",
      "\u001b[1;31mValueError\u001b[0m                                Traceback (most recent call last)",
      "Cell \u001b[1;32mIn[171], line 1\u001b[0m\n\u001b[1;32m----> 1\u001b[0m \u001b[38;5;241m1\u001b[39m \u001b[38;5;241m-\u001b[39m \u001b[43mspatial\u001b[49m\u001b[38;5;241;43m.\u001b[39;49m\u001b[43mdistance\u001b[49m\u001b[38;5;241;43m.\u001b[39;49m\u001b[43mcosine\u001b[49m\u001b[43m(\u001b[49m\u001b[43moevector\u001b[49m\u001b[43m,\u001b[49m\u001b[43m \u001b[49m\u001b[43mlavector\u001b[49m\u001b[43m)\u001b[49m\n",
      "File \u001b[1;32m~\\AppData\\Roaming\\jupyterlab-desktop\\jlab_server\\lib\\site-packages\\scipy\\spatial\\distance.py:670\u001b[0m, in \u001b[0;36mcosine\u001b[1;34m(u, v, w)\u001b[0m\n\u001b[0;32m    628\u001b[0m \u001b[38;5;250m\u001b[39m\u001b[38;5;124;03m\"\"\"\u001b[39;00m\n\u001b[0;32m    629\u001b[0m \u001b[38;5;124;03mCompute the Cosine distance between 1-D arrays.\u001b[39;00m\n\u001b[0;32m    630\u001b[0m \n\u001b[1;32m   (...)\u001b[0m\n\u001b[0;32m    665\u001b[0m \n\u001b[0;32m    666\u001b[0m \u001b[38;5;124;03m\"\"\"\u001b[39;00m\n\u001b[0;32m    667\u001b[0m \u001b[38;5;66;03m# cosine distance is also referred to as 'uncentered correlation',\u001b[39;00m\n\u001b[0;32m    668\u001b[0m \u001b[38;5;66;03m#   or 'reflective correlation'\u001b[39;00m\n\u001b[0;32m    669\u001b[0m \u001b[38;5;66;03m# clamp the result to 0-2\u001b[39;00m\n\u001b[1;32m--> 670\u001b[0m \u001b[38;5;28;01mreturn\u001b[39;00m \u001b[38;5;28mmax\u001b[39m(\u001b[38;5;241m0\u001b[39m, \u001b[38;5;28mmin\u001b[39m(\u001b[43mcorrelation\u001b[49m\u001b[43m(\u001b[49m\u001b[43mu\u001b[49m\u001b[43m,\u001b[49m\u001b[43m \u001b[49m\u001b[43mv\u001b[49m\u001b[43m,\u001b[49m\u001b[43m \u001b[49m\u001b[43mw\u001b[49m\u001b[38;5;241;43m=\u001b[39;49m\u001b[43mw\u001b[49m\u001b[43m,\u001b[49m\u001b[43m \u001b[49m\u001b[43mcentered\u001b[49m\u001b[38;5;241;43m=\u001b[39;49m\u001b[38;5;28;43;01mFalse\u001b[39;49;00m\u001b[43m)\u001b[49m, \u001b[38;5;241m2.0\u001b[39m))\n",
      "File \u001b[1;32m~\\AppData\\Roaming\\jupyterlab-desktop\\jlab_server\\lib\\site-packages\\scipy\\spatial\\distance.py:610\u001b[0m, in \u001b[0;36mcorrelation\u001b[1;34m(u, v, w, centered)\u001b[0m\n\u001b[0;32m    577\u001b[0m \u001b[38;5;28;01mdef\u001b[39;00m \u001b[38;5;21mcorrelation\u001b[39m(u, v, w\u001b[38;5;241m=\u001b[39m\u001b[38;5;28;01mNone\u001b[39;00m, centered\u001b[38;5;241m=\u001b[39m\u001b[38;5;28;01mTrue\u001b[39;00m):\n\u001b[0;32m    578\u001b[0m \u001b[38;5;250m    \u001b[39m\u001b[38;5;124;03m\"\"\"\u001b[39;00m\n\u001b[0;32m    579\u001b[0m \u001b[38;5;124;03m    Compute the correlation distance between two 1-D arrays.\u001b[39;00m\n\u001b[0;32m    580\u001b[0m \n\u001b[1;32m   (...)\u001b[0m\n\u001b[0;32m    608\u001b[0m \n\u001b[0;32m    609\u001b[0m \u001b[38;5;124;03m    \"\"\"\u001b[39;00m\n\u001b[1;32m--> 610\u001b[0m     u \u001b[38;5;241m=\u001b[39m \u001b[43m_validate_vector\u001b[49m\u001b[43m(\u001b[49m\u001b[43mu\u001b[49m\u001b[43m)\u001b[49m\n\u001b[0;32m    611\u001b[0m     v \u001b[38;5;241m=\u001b[39m _validate_vector(v)\n\u001b[0;32m    612\u001b[0m     \u001b[38;5;28;01mif\u001b[39;00m w \u001b[38;5;129;01mis\u001b[39;00m \u001b[38;5;129;01mnot\u001b[39;00m \u001b[38;5;28;01mNone\u001b[39;00m:\n",
      "File \u001b[1;32m~\\AppData\\Roaming\\jupyterlab-desktop\\jlab_server\\lib\\site-packages\\scipy\\spatial\\distance.py:302\u001b[0m, in \u001b[0;36m_validate_vector\u001b[1;34m(u, dtype)\u001b[0m\n\u001b[0;32m    300\u001b[0m \u001b[38;5;28;01mif\u001b[39;00m u\u001b[38;5;241m.\u001b[39mndim \u001b[38;5;241m==\u001b[39m \u001b[38;5;241m1\u001b[39m:\n\u001b[0;32m    301\u001b[0m     \u001b[38;5;28;01mreturn\u001b[39;00m u\n\u001b[1;32m--> 302\u001b[0m \u001b[38;5;28;01mraise\u001b[39;00m \u001b[38;5;167;01mValueError\u001b[39;00m(\u001b[38;5;124m\"\u001b[39m\u001b[38;5;124mInput vector should be 1-D.\u001b[39m\u001b[38;5;124m\"\u001b[39m)\n",
      "\u001b[1;31mValueError\u001b[0m: Input vector should be 1-D."
     ]
    }
   ],
   "source": [
    "1 - spatial.distance.cosine(oevector, lavector)"
   ]
  },
  {
   "cell_type": "markdown",
   "id": "3a70c854-4b21-4f70-a009-3a254f49a6b5",
   "metadata": {},
   "source": [
    "## Greek CLTK"
   ]
  },
  {
   "cell_type": "code",
   "execution_count": 3,
   "id": "cb275ed3-9db3-450e-9c75-bc3626312605",
   "metadata": {
    "tags": []
   },
   "outputs": [
    {
     "name": "stdout",
     "output_type": "stream",
     "text": [
      "‎𐤀 CLTK version '1.1.6'.\n",
      "Pipeline for language 'Ancient Greek' (ISO: 'grc'): `GreekNormalizeProcess`, `GreekStanzaProcess`, `GreekEmbeddingsProcess`, `StopsProcess`.\n"
     ]
    }
   ],
   "source": [
    "cltk_nlp_gr=NLP(\"grc\")"
   ]
  },
  {
   "cell_type": "code",
   "execution_count": 4,
   "id": "7b48cf36-28f7-47e9-8383-d93b8a14851c",
   "metadata": {
    "tags": []
   },
   "outputs": [],
   "source": [
    "with open(r\"C:\\Users\\gpwal\\cltk_data\\grc\\grc_text_tesserae-master\\texts\\greekcorpus.txt\", 'r', encoding='utf-8') as f:\n",
    "    greek_full = f.read()"
   ]
  },
  {
   "cell_type": "code",
   "execution_count": 5,
   "id": "6f8aae1e-690d-46ff-b4f2-1a47bbd65cdd",
   "metadata": {
    "tags": []
   },
   "outputs": [
    {
     "name": "stdout",
     "output_type": "stream",
     "text": [
      "66422728\n",
      "6642272\n"
     ]
    }
   ],
   "source": [
    "greek_part = greek_full[:len(greek_full) // 10]\n",
    "print(len(greek_full))\n",
    "print(len(greek_part))"
   ]
  },
  {
   "cell_type": "code",
   "execution_count": 6,
   "id": "f227f9b0-5a37-4fdc-8047-538ba04a7304",
   "metadata": {
    "tags": []
   },
   "outputs": [],
   "source": [
    "from cltk.languages.pipelines import GreekPipeline"
   ]
  },
  {
   "cell_type": "code",
   "execution_count": 7,
   "id": "59a4155f-b74b-4d37-84f6-138547f22cd7",
   "metadata": {
    "tags": []
   },
   "outputs": [],
   "source": [
    "gr_pipe = GreekPipeline()"
   ]
  },
  {
   "cell_type": "code",
   "execution_count": 8,
   "id": "edf5307a-8539-425b-91db-150dd6c0f9d3",
   "metadata": {
    "tags": []
   },
   "outputs": [],
   "source": [
    "gr_nlp = NLP(language='grc', custom_pipeline=gr_pipe, suppress_banner=True)"
   ]
  },
  {
   "cell_type": "code",
   "execution_count": 9,
   "id": "209ea290-e659-467c-901c-2b94e5423051",
   "metadata": {
    "tags": []
   },
   "outputs": [],
   "source": [
    "gr_corpus = r\"C:\\Users\\gpwal\\cltk_data\\grc\\grc_text_tesserae-master\\texts\\greekcorpus.txt\""
   ]
  },
  {
   "cell_type": "code",
   "execution_count": 10,
   "id": "efa9e703-4b20-483c-9552-13a580a1f96d",
   "metadata": {
    "tags": []
   },
   "outputs": [],
   "source": [
    "cltk_gr = gr_nlp(text=greek_part).lemmata"
   ]
  },
  {
   "cell_type": "code",
   "execution_count": 15,
   "id": "8623b23c-9157-4ecb-a7b5-686dc55cbcf3",
   "metadata": {
    "tags": []
   },
   "outputs": [],
   "source": [
    "with open(f\"{directory_path}/gr_texts/nlp_gr.txt\", \"w\", encoding='utf-8') as f:\n",
    "    f.write(str(cltk_gr))"
   ]
  },
  {
   "cell_type": "markdown",
   "id": "556e476e-8fed-43a6-a3b8-c5ca719f664d",
   "metadata": {},
   "source": [
    "## WordNet"
   ]
  },
  {
   "cell_type": "code",
   "execution_count": 21,
   "id": "9dcc8483-98c2-4e35-a2b5-b8937e7ec08e",
   "metadata": {
    "tags": []
   },
   "outputs": [
    {
     "name": "stderr",
     "output_type": "stream",
     "text": [
      "[nltk_data] Downloading package wordnet to\n",
      "[nltk_data]     C:\\Users\\gpwal\\AppData\\Roaming\\nltk_data...\n",
      "[nltk_data]   Package wordnet is already up-to-date!\n"
     ]
    },
    {
     "data": {
      "text/plain": [
       "True"
      ]
     },
     "execution_count": 21,
     "metadata": {},
     "output_type": "execute_result"
    }
   ],
   "source": [
    "from nltk.corpus import wordnet\n",
    "nltk.download('wordnet')"
   ]
  },
  {
   "cell_type": "code",
   "execution_count": 22,
   "id": "55b251bc-cbbf-4e16-979b-69150609247a",
   "metadata": {
    "tags": []
   },
   "outputs": [],
   "source": [
    "from nltk.corpus import wordnet as wn\n",
    "dog = wn.synset('dog.n.01')"
   ]
  },
  {
   "cell_type": "code",
   "execution_count": 90,
   "id": "49938bae-db9c-4d6b-af61-af700de187dd",
   "metadata": {
    "tags": []
   },
   "outputs": [],
   "source": [
    "word1 = wn.synset('animal.n.01')"
   ]
  },
  {
   "cell_type": "code",
   "execution_count": 93,
   "id": "34f62bf3-0278-4917-8f79-ada4f28fe805",
   "metadata": {
    "tags": []
   },
   "outputs": [],
   "source": [
    "word2 = wn.synset('bear.n.01')"
   ]
  },
  {
   "cell_type": "code",
   "execution_count": 94,
   "id": "3f6d2978-57e5-429f-8c40-723a22621841",
   "metadata": {
    "tags": []
   },
   "outputs": [
    {
     "data": {
      "text/plain": [
       "0.14285714285714285"
      ]
     },
     "execution_count": 94,
     "metadata": {},
     "output_type": "execute_result"
    }
   ],
   "source": [
    "word1.path_similarity(word2)"
   ]
  },
  {
   "cell_type": "markdown",
   "id": "88f666b8-1a8f-48c9-81dc-741c516a3f03",
   "metadata": {},
   "source": [
    "## Averaging the Matrices"
   ]
  },
  {
   "cell_type": "code",
   "execution_count": 32,
   "id": "f2981c90-f3e0-4674-959f-8be18512448f",
   "metadata": {
    "tags": []
   },
   "outputs": [
    {
     "data": {
      "text/plain": [
       "array([-4.9039516e-01,  1.3531958e+00,  2.9505689e+00, -1.2124805e+00,\n",
       "        2.1559963e+00, -6.8303943e-04,  3.7989001e+00,  7.0233423e-01,\n",
       "        1.5537136e+00, -2.6195500e+00,  2.9677916e-01,  1.2441676e+00,\n",
       "       -7.6479912e-02, -2.0551915e+00,  1.5396655e+00,  2.4400959e+00,\n",
       "        7.0302010e-01,  1.0705575e+00, -1.4944966e+00,  3.4811196e+00,\n",
       "       -1.2725792e+00, -2.3775463e+00, -5.5292070e-01, -1.6500245e+00,\n",
       "       -1.5041418e+00, -2.2960887e+00, -4.0826386e-01,  1.1082954e+00,\n",
       "        1.8929701e+00,  6.5527695e-01,  5.1773558e+00, -2.7952635e+00,\n",
       "        4.5645204e+00, -2.5225875e+00,  3.4321680e+00,  3.0744672e+00,\n",
       "        1.7981055e+00,  3.9910021e+00,  3.4023499e-01,  3.1530142e+00,\n",
       "        2.4398871e-01, -1.8820057e+00, -5.2444162e+00, -4.2332940e+00,\n",
       "       -2.6225692e-01,  1.1630237e+00,  1.6394482e+00,  5.6425929e-03,\n",
       "        1.4398419e+00,  3.4363015e+00, -3.6244550e-01, -2.5222120e-01,\n",
       "       -7.0941031e-02, -8.9785993e-01, -4.2154942e+00,  7.8646463e-01,\n",
       "       -9.3576598e-01,  2.7121129e+00, -4.3484086e-01,  2.3828685e+00,\n",
       "        1.4425083e-01,  1.3750910e+00, -1.2100513e+00, -2.4111705e+00,\n",
       "       -1.3997889e+00, -4.4352646e+00,  3.0868628e+00, -1.6798735e-01,\n",
       "        1.0572317e+00,  9.8918505e-02, -4.6500225e+00,  2.1329637e+00,\n",
       "        7.9403639e-01, -1.2751255e+00,  4.9340940e-01,  4.9407873e+00,\n",
       "        1.6760192e+00,  2.3693819e+00,  2.1607645e+00,  8.7278724e-02,\n",
       "        3.8355641e+00, -2.0727358e+00,  1.6095117e+00, -5.3422918e+00,\n",
       "       -1.8027806e+00,  5.4327792e-01,  8.8540614e-01,  4.1885951e-01,\n",
       "        2.9727650e-01, -1.3601273e+00, -6.3012111e-01, -1.2523898e+00,\n",
       "       -9.6381629e-01,  3.9754665e+00, -1.2275852e+00, -1.4410187e-01,\n",
       "       -2.2922947e+00,  3.5176816e+00,  2.8671029e+00, -1.9428468e-01],\n",
       "      dtype=float32)"
      ]
     },
     "execution_count": 32,
     "metadata": {},
     "output_type": "execute_result"
    }
   ],
   "source": [
    "ego_vec = la_model.wv.get_vector('ego')\n",
    "tu_vec = la_model.wv.get_vector('tu')\n",
    "(ego_vec + tu_vec)/2"
   ]
  },
  {
   "cell_type": "code",
   "execution_count": 33,
   "id": "4f5011bb-3e3d-48fe-b0bc-711bc5f6fc1e",
   "metadata": {
    "tags": []
   },
   "outputs": [],
   "source": [
    "mod_eng_swa=['i', 'you', 'we', 'this', 'that', 'who', 'what', 'not', 'all', 'many', 'one', 'two', 'big', 'long', 'small', 'woman', 'man', 'person', 'fish', 'bird', 'dog','tree', 'seed', 'leaf', 'root','skin', 'flesh', 'blood', 'bone', 'grease', 'egg', 'horn', 'tail','hair', 'head', 'ear', 'eye','mouth', 'tongue', 'claw', 'foot', 'knee', 'hand', 'belly', 'neck', 'breasts', 'heart', 'drink', 'eat', 'bite', 'see', 'hear', 'know', 'sleep', 'die', 'kill', 'fly', 'walk', 'come', 'lie', 'sit', 'stand', 'give', 'say', 'sun', 'moon', 'star', 'water', 'rain', 'stone', 'sand', 'earth', 'cloud', 'smoke', 'fire', 'ashes', 'burn', 'path', 'mountain', 'red', 'green', 'yellow', 'white', 'black', 'night', 'hot', 'cold', 'full', 'new', 'good', 'dry', 'name']"
   ]
  },
  {
   "cell_type": "code",
   "execution_count": 34,
   "id": "5b6ba791-e089-4b7c-9172-49ca5c403e76",
   "metadata": {
    "tags": []
   },
   "outputs": [],
   "source": [
    "mod_la_swadesh = ['ego', 'tu','nos','cis','istud','qui','quid','non','omnis','multi','unus','duo','magnus','longus','minutus','femina','vir','persona','piscis','avis','canis','dryas','semen','folium','radix','cutis','membrana','sanguis','os','medulla','ovum','cornu','cauda','pilus','caput','auris','oculus','os','lingua','unguis','pes','genu','manus','uterus','monile','pectora','cor','bibere','edere','mordeo','cautio','cautio','cognoscere','somnus','funus','caedo','volare','pontis','venire','lectus','sedere','stare','dare','inquam','sol','mensis','stella','aqua','pluvia','lapis','harena','solum','nimbus','fumus','ignis','ardere','ardere','pontis','mons','rubeus','gramen','flavo','albus','ater','nox','calidus','gelu','plenus','novus','bonus','siccus','nomen']"
   ]
  },
  {
   "cell_type": "code",
   "execution_count": 35,
   "id": "35836036-524f-412e-82bc-ccc0f4c62d8d",
   "metadata": {
    "tags": []
   },
   "outputs": [],
   "source": [
    "oe_swadesh = ['ic', 'ðu', 'us', 'he', 'ðæt', 'hwa','hwa','ne','eall','manig','an','twegen', 'micel', 'lang', 'min', 'cwen', 'mann', 'mann', 'fisc','fugol', 'hund', 'treow','sæd','blæd','rot','hyd','flæsc','blod','ban', 'gelynd','æg', 'horn','steort', 'hær', 'heafod', 'eare', 'eage', 'muþ', 'tunge', 'clea', 'fot', 'cneow', 'mund','cwiþ', 'sweora','bosm', 'heorte', 'drincan', 'etan', 'bitan', 'seon', 'gehiran', 'cunnan', 'swefan', 'dead','cwellan','fleogan', 'findan', 'cuman', 'licgan', 'sittan', 'standan','gesellan', 'sæcgan', 'sunne', 'mona', 'steorra', 'ea', 'regn', 'stan','sand', 'eorþe', 'neowol', 'þrosm','fyr', 'axe', 'bærnan', 'foldweg', 'beorg', 'read', 'grene', 'geolo', 'hwit','blæc', 'niht', 'wearm', 'ceald', 'full', 'niwe', 'betra', 'dryge', 'nama']"
   ]
  },
  {
   "cell_type": "code",
   "execution_count": 36,
   "id": "d54bd94d-5610-4a9a-991c-1e37da755615",
   "metadata": {
    "tags": []
   },
   "outputs": [],
   "source": [
    "pie_swa = ['eg̑ō','tū̆','nē̆s-, nō̆s-','k̑o-, k̑e-','to-, tā-, ti̯o-','who?','what?','nĕ, nē, nei','all','men(e)gh','one','du̯ō(u)','meg̑(h)-','del-','mei-','gu̯ē̆nā','manu-s (man)','manu-s (person)','peisk-','au̯ei-','k̑u̯on-, k̑un-','deru-','seed','bhel-','u̯(e)rād-','gu̯ēi-','mēmso-','ē̆s-r̥(gu̯)','ost(h)-','smeru-','ō(u̯)i̯-om','k̑er-','tail','pi-lo-','kap-ut','ōus-','oku̯-','ōus- : əus-','dn̥g̑hū','onogh-','pē̆d-, pō̆d-','g̑enu-, g̑neu-','mə-r','udero-','mono-','breasts','k̑ered-','pō(i)-','ed-','bheid-','keu-, skeu- (to see)','keu-, skeu- (to hear)','g̑en-','su̯ep-','dheu-','per-, per-g-','pleu-','pent-','gu̯ā-, gu̯em-','legh-','sed-','stā- : stə-','dō- : də-','seku̯-','sā́u̯el-','mēnōt','stē̆r-','aku̯ā-','reg̑-','stāi-','sand','er-','enebh-','(s)meukh-','egnis', 'ā̆s- (ashes)','ā̆s- (to burn)','pent-','bhereg̑h-','reudh-','ghrē-','bhlē-u̯o-s','albho-','mel-','noku̯-t-s','gu̯her-','gel(ə)-','pel-, pelə-','neu̯os','bhā̆d-','saus','en(o)mn̥-']"
   ]
  },
  {
   "cell_type": "code",
   "execution_count": 79,
   "id": "53a61d11-f5d0-4710-a1d5-a702af9195b3",
   "metadata": {
    "tags": []
   },
   "outputs": [],
   "source": [
    "def vec_get(li):\n",
    "    with open(\"data/pie/pie_averaged_swadesh_vectors.csv\", \"w\", encoding='utf-8') as f:\n",
    "        for i in li:\n",
    "            pie_vectors = ((wv.get_vector(mod_eng_swa[i])+la_model.wv.get_vector(mod_la_swadesh[i])+oe_model.wv.get_vector(oe_swadesh[i]))/3)\n",
    "            w = csv.DictWriter(f, pie_vectors)\n",
    "            w.writeheader()"
   ]
  },
  {
   "cell_type": "code",
   "execution_count": 80,
   "id": "64835427-fa47-4eb3-8255-dd6a8e433be0",
   "metadata": {
    "tags": []
   },
   "outputs": [],
   "source": [
    "li = range(0,92)\n",
    "vec_get(li)"
   ]
  },
  {
   "cell_type": "markdown",
   "id": "ced5a825-822c-448f-a846-2c078fdc951b",
   "metadata": {},
   "source": [
    "## Gloss Vectors"
   ]
  },
  {
   "cell_type": "code",
   "execution_count": 134,
   "id": "9a3cbd93-a79b-4f02-a885-f9474e5e78ee",
   "metadata": {
    "tags": []
   },
   "outputs": [
    {
     "data": {
      "text/plain": [
       "array([-0.5399333 ,  0.172343  ,  0.44473997, -0.46749333,  0.09087332,\n",
       "       -0.02529001,  0.35929596, -0.00916633, -0.10567   ,  0.05108633,\n",
       "        0.42659   , -0.21941666, -0.02831133,  0.15929534,  0.526757  ,\n",
       "       -0.14903   , -0.03233467, -0.24763   ,  0.46574664, -0.5762333 ,\n",
       "       -0.39161   ,  0.07641333,  0.08514667, -0.06663889, -0.06800334,\n",
       "        0.45779666, -0.10429666, -0.28504   , -0.04071333, -0.19550265,\n",
       "       -0.16818567,  0.49442998, -0.77203995, -0.10320965,  0.31538332,\n",
       "       -0.014627  ,  0.48109064,  0.37337336, -0.28760934, -0.12989332,\n",
       "       -0.36092332, -0.8605537 , -0.38069   , -0.4613    ,  0.48777032,\n",
       "        0.05189334, -0.25918534, -0.10098767,  0.30724868, -0.43061998,\n",
       "        0.29808334,  0.21877001,  0.0217    ,  0.48217466, -0.00966332,\n",
       "       -1.3073467 ,  0.00367333, -0.22801332,  1.6671333 , -0.15244833,\n",
       "        0.19142334,  0.5494343 , -0.23077267,  0.12203334,  0.92999333,\n",
       "        0.29794666,  0.91155   , -0.76929   ,  0.21481967, -1.0161834 ,\n",
       "        0.10950934, -0.5393567 ,  0.7798233 ,  0.211623  ,  0.09547666,\n",
       "        0.15529966, -0.24365436, -0.70141333, -0.10666666,  0.186211  ,\n",
       "        0.62797   ,  0.02794334, -0.89059335,  0.37127003, -0.24031468,\n",
       "        0.23819602,  0.72739667,  0.54781336, -0.13253067,  0.16860783,\n",
       "       -0.22372   , -0.26466   , -0.36046   , -0.06402767, -0.18682666,\n",
       "       -0.26113334,  0.29903468, -0.155248  ,  0.36223498,  0.33838665],\n",
       "      dtype=float32)"
      ]
     },
     "execution_count": 134,
     "metadata": {},
     "output_type": "execute_result"
    }
   ],
   "source": [
    "(wv.get_vector('free')+wv.get_vector('liquid')+wv.get_vector('moisture'))/3"
   ]
  },
  {
   "cell_type": "markdown",
   "id": "7840655f-abe0-45df-afbe-93a36eaf77c8",
   "metadata": {},
   "source": [
    "## Cosine Similarity Between Each Word in the PIE Average Vectors"
   ]
  },
  {
   "cell_type": "code",
   "execution_count": 25,
   "id": "b391c624-441d-4242-ab98-27a203908d8e",
   "metadata": {
    "tags": []
   },
   "outputs": [],
   "source": [
    "from sklearn.metrics.pairwise import cosine_similarity"
   ]
  },
  {
   "cell_type": "code",
   "execution_count": 21,
   "id": "9688ef72-6a2e-40f4-bf44-a1c6b2baf96e",
   "metadata": {
    "tags": []
   },
   "outputs": [],
   "source": [
    "pie_averaged_vectors = pd.read_csv('data/pie/pie_averaged_swadesh_vectors.csv')"
   ]
  },
  {
   "cell_type": "code",
   "execution_count": 22,
   "id": "aa6aa102-0873-4192-ade2-20039cc3a5b6",
   "metadata": {
    "tags": []
   },
   "outputs": [
    {
     "data": {
      "text/html": [
       "<div>\n",
       "<style scoped>\n",
       "    .dataframe tbody tr th:only-of-type {\n",
       "        vertical-align: middle;\n",
       "    }\n",
       "\n",
       "    .dataframe tbody tr th {\n",
       "        vertical-align: top;\n",
       "    }\n",
       "\n",
       "    .dataframe thead th {\n",
       "        text-align: right;\n",
       "    }\n",
       "</style>\n",
       "<table border=\"1\" class=\"dataframe\">\n",
       "  <thead>\n",
       "    <tr style=\"text-align: right;\">\n",
       "      <th></th>\n",
       "      <th>i</th>\n",
       "      <th>-2.1831324</th>\n",
       "      <th>0.6693887</th>\n",
       "      <th>0.49756894</th>\n",
       "      <th>0.09482726</th>\n",
       "      <th>-0.37906513</th>\n",
       "      <th>1.7279035</th>\n",
       "      <th>3.9370353</th>\n",
       "      <th>0.39876786</th>\n",
       "      <th>0.64911115</th>\n",
       "      <th>...</th>\n",
       "      <th>0.02339972</th>\n",
       "      <th>0.13793518</th>\n",
       "      <th>0.7841725</th>\n",
       "      <th>1.6160952</th>\n",
       "      <th>-0.13686585</th>\n",
       "      <th>-1.1479222</th>\n",
       "      <th>0.5457731</th>\n",
       "      <th>1.1325048</th>\n",
       "      <th>1.4865007</th>\n",
       "      <th>1.4927431</th>\n",
       "    </tr>\n",
       "  </thead>\n",
       "  <tbody>\n",
       "    <tr>\n",
       "      <th>0</th>\n",
       "      <td>you</td>\n",
       "      <td>-0.707398</td>\n",
       "      <td>-0.935154</td>\n",
       "      <td>1.066272</td>\n",
       "      <td>0.858782</td>\n",
       "      <td>0.529518</td>\n",
       "      <td>1.053117</td>\n",
       "      <td>1.610284</td>\n",
       "      <td>-0.580836</td>\n",
       "      <td>-0.447363</td>\n",
       "      <td>...</td>\n",
       "      <td>-1.339419</td>\n",
       "      <td>1.653344</td>\n",
       "      <td>1.761845</td>\n",
       "      <td>3.884670</td>\n",
       "      <td>0.174681</td>\n",
       "      <td>1.930954</td>\n",
       "      <td>-4.085159</td>\n",
       "      <td>2.482562</td>\n",
       "      <td>0.050925</td>\n",
       "      <td>1.622832</td>\n",
       "    </tr>\n",
       "    <tr>\n",
       "      <th>1</th>\n",
       "      <td>we</td>\n",
       "      <td>-0.722815</td>\n",
       "      <td>0.867734</td>\n",
       "      <td>2.196573</td>\n",
       "      <td>-1.056881</td>\n",
       "      <td>-1.069858</td>\n",
       "      <td>-0.111197</td>\n",
       "      <td>-2.014542</td>\n",
       "      <td>-1.716652</td>\n",
       "      <td>-0.834361</td>\n",
       "      <td>...</td>\n",
       "      <td>1.345689</td>\n",
       "      <td>-0.109149</td>\n",
       "      <td>0.408599</td>\n",
       "      <td>1.536341</td>\n",
       "      <td>-1.465457</td>\n",
       "      <td>0.412691</td>\n",
       "      <td>0.947772</td>\n",
       "      <td>3.393633</td>\n",
       "      <td>0.486058</td>\n",
       "      <td>-1.321338</td>\n",
       "    </tr>\n",
       "    <tr>\n",
       "      <th>2</th>\n",
       "      <td>this</td>\n",
       "      <td>-0.593048</td>\n",
       "      <td>-0.455434</td>\n",
       "      <td>-1.652625</td>\n",
       "      <td>0.629210</td>\n",
       "      <td>0.158229</td>\n",
       "      <td>0.380907</td>\n",
       "      <td>-0.254655</td>\n",
       "      <td>-1.102786</td>\n",
       "      <td>-1.306796</td>\n",
       "      <td>...</td>\n",
       "      <td>-0.656983</td>\n",
       "      <td>1.849788</td>\n",
       "      <td>1.983506</td>\n",
       "      <td>1.287086</td>\n",
       "      <td>-1.829553</td>\n",
       "      <td>-1.753720</td>\n",
       "      <td>2.898797</td>\n",
       "      <td>-0.524925</td>\n",
       "      <td>-0.553461</td>\n",
       "      <td>2.560318</td>\n",
       "    </tr>\n",
       "    <tr>\n",
       "      <th>3</th>\n",
       "      <td>that</td>\n",
       "      <td>0.055502</td>\n",
       "      <td>-1.740404</td>\n",
       "      <td>1.591422</td>\n",
       "      <td>0.093416</td>\n",
       "      <td>1.698930</td>\n",
       "      <td>-0.057187</td>\n",
       "      <td>0.335867</td>\n",
       "      <td>-0.323730</td>\n",
       "      <td>0.718463</td>\n",
       "      <td>...</td>\n",
       "      <td>-0.539902</td>\n",
       "      <td>1.491653</td>\n",
       "      <td>-0.889883</td>\n",
       "      <td>3.094569</td>\n",
       "      <td>-2.102448</td>\n",
       "      <td>-0.204647</td>\n",
       "      <td>0.873948</td>\n",
       "      <td>0.362691</td>\n",
       "      <td>1.868349</td>\n",
       "      <td>1.613197</td>\n",
       "    </tr>\n",
       "    <tr>\n",
       "      <th>4</th>\n",
       "      <td>who</td>\n",
       "      <td>0.009390</td>\n",
       "      <td>-0.455100</td>\n",
       "      <td>-0.696457</td>\n",
       "      <td>-2.558726</td>\n",
       "      <td>0.416868</td>\n",
       "      <td>0.532356</td>\n",
       "      <td>0.952069</td>\n",
       "      <td>-0.709935</td>\n",
       "      <td>1.648626</td>\n",
       "      <td>...</td>\n",
       "      <td>-1.524325</td>\n",
       "      <td>0.380421</td>\n",
       "      <td>-0.087333</td>\n",
       "      <td>-0.672454</td>\n",
       "      <td>-0.364523</td>\n",
       "      <td>0.457877</td>\n",
       "      <td>-0.737388</td>\n",
       "      <td>-0.169623</td>\n",
       "      <td>-0.552580</td>\n",
       "      <td>1.624209</td>\n",
       "    </tr>\n",
       "    <tr>\n",
       "      <th>...</th>\n",
       "      <td>...</td>\n",
       "      <td>...</td>\n",
       "      <td>...</td>\n",
       "      <td>...</td>\n",
       "      <td>...</td>\n",
       "      <td>...</td>\n",
       "      <td>...</td>\n",
       "      <td>...</td>\n",
       "      <td>...</td>\n",
       "      <td>...</td>\n",
       "      <td>...</td>\n",
       "      <td>...</td>\n",
       "      <td>...</td>\n",
       "      <td>...</td>\n",
       "      <td>...</td>\n",
       "      <td>...</td>\n",
       "      <td>...</td>\n",
       "      <td>...</td>\n",
       "      <td>...</td>\n",
       "      <td>...</td>\n",
       "      <td>...</td>\n",
       "    </tr>\n",
       "    <tr>\n",
       "      <th>86</th>\n",
       "      <td>full</td>\n",
       "      <td>2.836695</td>\n",
       "      <td>0.210085</td>\n",
       "      <td>-0.177164</td>\n",
       "      <td>-1.641374</td>\n",
       "      <td>0.996745</td>\n",
       "      <td>0.804302</td>\n",
       "      <td>-0.505808</td>\n",
       "      <td>2.335029</td>\n",
       "      <td>-0.614797</td>\n",
       "      <td>...</td>\n",
       "      <td>-0.055549</td>\n",
       "      <td>0.017821</td>\n",
       "      <td>0.243118</td>\n",
       "      <td>0.268862</td>\n",
       "      <td>-1.160358</td>\n",
       "      <td>-1.126983</td>\n",
       "      <td>1.305956</td>\n",
       "      <td>-1.470316</td>\n",
       "      <td>0.622372</td>\n",
       "      <td>-0.321959</td>\n",
       "    </tr>\n",
       "    <tr>\n",
       "      <th>87</th>\n",
       "      <td>new</td>\n",
       "      <td>-0.848811</td>\n",
       "      <td>0.413793</td>\n",
       "      <td>-0.360981</td>\n",
       "      <td>-0.008849</td>\n",
       "      <td>-0.430257</td>\n",
       "      <td>0.124750</td>\n",
       "      <td>-0.116913</td>\n",
       "      <td>1.325520</td>\n",
       "      <td>-0.154522</td>\n",
       "      <td>...</td>\n",
       "      <td>0.885433</td>\n",
       "      <td>-1.104305</td>\n",
       "      <td>0.087446</td>\n",
       "      <td>-0.451088</td>\n",
       "      <td>-0.261512</td>\n",
       "      <td>0.102193</td>\n",
       "      <td>-1.713750</td>\n",
       "      <td>0.300475</td>\n",
       "      <td>0.350046</td>\n",
       "      <td>0.706614</td>\n",
       "    </tr>\n",
       "    <tr>\n",
       "      <th>88</th>\n",
       "      <td>good</td>\n",
       "      <td>0.360639</td>\n",
       "      <td>-0.191084</td>\n",
       "      <td>0.858989</td>\n",
       "      <td>-1.212356</td>\n",
       "      <td>0.545637</td>\n",
       "      <td>1.106014</td>\n",
       "      <td>0.439437</td>\n",
       "      <td>0.854986</td>\n",
       "      <td>-0.011469</td>\n",
       "      <td>...</td>\n",
       "      <td>-1.464392</td>\n",
       "      <td>0.245952</td>\n",
       "      <td>-0.529257</td>\n",
       "      <td>0.354011</td>\n",
       "      <td>-1.267165</td>\n",
       "      <td>0.490690</td>\n",
       "      <td>-1.406387</td>\n",
       "      <td>-0.497885</td>\n",
       "      <td>-0.584639</td>\n",
       "      <td>0.224439</td>\n",
       "    </tr>\n",
       "    <tr>\n",
       "      <th>89</th>\n",
       "      <td>dry</td>\n",
       "      <td>-0.721985</td>\n",
       "      <td>0.398144</td>\n",
       "      <td>-0.147805</td>\n",
       "      <td>-1.012769</td>\n",
       "      <td>-0.482481</td>\n",
       "      <td>-1.221666</td>\n",
       "      <td>0.834861</td>\n",
       "      <td>0.953803</td>\n",
       "      <td>0.006443</td>\n",
       "      <td>...</td>\n",
       "      <td>0.207739</td>\n",
       "      <td>0.790020</td>\n",
       "      <td>-0.039818</td>\n",
       "      <td>-0.319001</td>\n",
       "      <td>-0.016312</td>\n",
       "      <td>0.483680</td>\n",
       "      <td>0.696246</td>\n",
       "      <td>-0.426180</td>\n",
       "      <td>0.189408</td>\n",
       "      <td>0.954416</td>\n",
       "    </tr>\n",
       "    <tr>\n",
       "      <th>90</th>\n",
       "      <td>name</td>\n",
       "      <td>-0.479457</td>\n",
       "      <td>-1.158186</td>\n",
       "      <td>0.548613</td>\n",
       "      <td>1.821767</td>\n",
       "      <td>-0.287434</td>\n",
       "      <td>-0.089963</td>\n",
       "      <td>0.342045</td>\n",
       "      <td>0.132479</td>\n",
       "      <td>-1.045794</td>\n",
       "      <td>...</td>\n",
       "      <td>2.118324</td>\n",
       "      <td>2.456575</td>\n",
       "      <td>0.344520</td>\n",
       "      <td>-1.683328</td>\n",
       "      <td>-1.884346</td>\n",
       "      <td>-0.309742</td>\n",
       "      <td>0.344084</td>\n",
       "      <td>0.051373</td>\n",
       "      <td>-0.716932</td>\n",
       "      <td>0.652692</td>\n",
       "    </tr>\n",
       "  </tbody>\n",
       "</table>\n",
       "<p>91 rows × 101 columns</p>\n",
       "</div>"
      ],
      "text/plain": [
       "       i  -2.1831324  0.6693887  0.49756894  0.09482726  -0.37906513   \n",
       "0    you   -0.707398  -0.935154    1.066272    0.858782     0.529518  \\\n",
       "1     we   -0.722815   0.867734    2.196573   -1.056881    -1.069858   \n",
       "2   this   -0.593048  -0.455434   -1.652625    0.629210     0.158229   \n",
       "3   that    0.055502  -1.740404    1.591422    0.093416     1.698930   \n",
       "4    who    0.009390  -0.455100   -0.696457   -2.558726     0.416868   \n",
       "..   ...         ...        ...         ...         ...          ...   \n",
       "86  full    2.836695   0.210085   -0.177164   -1.641374     0.996745   \n",
       "87   new   -0.848811   0.413793   -0.360981   -0.008849    -0.430257   \n",
       "88  good    0.360639  -0.191084    0.858989   -1.212356     0.545637   \n",
       "89   dry   -0.721985   0.398144   -0.147805   -1.012769    -0.482481   \n",
       "90  name   -0.479457  -1.158186    0.548613    1.821767    -0.287434   \n",
       "\n",
       "    1.7279035  3.9370353  0.39876786  0.64911115  ...  0.02339972  0.13793518   \n",
       "0    1.053117   1.610284   -0.580836   -0.447363  ...   -1.339419    1.653344  \\\n",
       "1   -0.111197  -2.014542   -1.716652   -0.834361  ...    1.345689   -0.109149   \n",
       "2    0.380907  -0.254655   -1.102786   -1.306796  ...   -0.656983    1.849788   \n",
       "3   -0.057187   0.335867   -0.323730    0.718463  ...   -0.539902    1.491653   \n",
       "4    0.532356   0.952069   -0.709935    1.648626  ...   -1.524325    0.380421   \n",
       "..        ...        ...         ...         ...  ...         ...         ...   \n",
       "86   0.804302  -0.505808    2.335029   -0.614797  ...   -0.055549    0.017821   \n",
       "87   0.124750  -0.116913    1.325520   -0.154522  ...    0.885433   -1.104305   \n",
       "88   1.106014   0.439437    0.854986   -0.011469  ...   -1.464392    0.245952   \n",
       "89  -1.221666   0.834861    0.953803    0.006443  ...    0.207739    0.790020   \n",
       "90  -0.089963   0.342045    0.132479   -1.045794  ...    2.118324    2.456575   \n",
       "\n",
       "    0.7841725  1.6160952  -0.13686585  -1.1479222  0.5457731  1.1325048   \n",
       "0    1.761845   3.884670     0.174681    1.930954  -4.085159   2.482562  \\\n",
       "1    0.408599   1.536341    -1.465457    0.412691   0.947772   3.393633   \n",
       "2    1.983506   1.287086    -1.829553   -1.753720   2.898797  -0.524925   \n",
       "3   -0.889883   3.094569    -2.102448   -0.204647   0.873948   0.362691   \n",
       "4   -0.087333  -0.672454    -0.364523    0.457877  -0.737388  -0.169623   \n",
       "..        ...        ...          ...         ...        ...        ...   \n",
       "86   0.243118   0.268862    -1.160358   -1.126983   1.305956  -1.470316   \n",
       "87   0.087446  -0.451088    -0.261512    0.102193  -1.713750   0.300475   \n",
       "88  -0.529257   0.354011    -1.267165    0.490690  -1.406387  -0.497885   \n",
       "89  -0.039818  -0.319001    -0.016312    0.483680   0.696246  -0.426180   \n",
       "90   0.344520  -1.683328    -1.884346   -0.309742   0.344084   0.051373   \n",
       "\n",
       "    1.4865007  1.4927431  \n",
       "0    0.050925   1.622832  \n",
       "1    0.486058  -1.321338  \n",
       "2   -0.553461   2.560318  \n",
       "3    1.868349   1.613197  \n",
       "4   -0.552580   1.624209  \n",
       "..        ...        ...  \n",
       "86   0.622372  -0.321959  \n",
       "87   0.350046   0.706614  \n",
       "88  -0.584639   0.224439  \n",
       "89   0.189408   0.954416  \n",
       "90  -0.716932   0.652692  \n",
       "\n",
       "[91 rows x 101 columns]"
      ]
     },
     "execution_count": 22,
     "metadata": {},
     "output_type": "execute_result"
    }
   ],
   "source": [
    "pie_averaged_vectors"
   ]
  },
  {
   "cell_type": "code",
   "execution_count": 41,
   "id": "e7e1406a-4cbb-4b4b-9739-c285ce1d66dd",
   "metadata": {
    "collapsed": true,
    "jupyter": {
     "outputs_hidden": true
    },
    "tags": []
   },
   "outputs": [
    {
     "ename": "ValueError",
     "evalue": "Input contains NaN.",
     "output_type": "error",
     "traceback": [
      "\u001b[1;31m---------------------------------------------------------------------------\u001b[0m",
      "\u001b[1;31mValueError\u001b[0m                                Traceback (most recent call last)",
      "Cell \u001b[1;32mIn[41], line 5\u001b[0m\n\u001b[0;32m      3\u001b[0m     row1 \u001b[38;5;241m=\u001b[39m pie_averaged_vectors\u001b[38;5;241m.\u001b[39miloc[i, \u001b[38;5;241m2\u001b[39m:]\u001b[38;5;241m.\u001b[39mvalues\u001b[38;5;241m.\u001b[39mreshape(\u001b[38;5;241m1\u001b[39m, \u001b[38;5;241m-\u001b[39m\u001b[38;5;241m1\u001b[39m)\n\u001b[0;32m      4\u001b[0m     row2 \u001b[38;5;241m=\u001b[39m pie_averaged_vectors\u001b[38;5;241m.\u001b[39miloc[i\u001b[38;5;241m+\u001b[39m\u001b[38;5;241m1\u001b[39m, \u001b[38;5;241m2\u001b[39m:]\u001b[38;5;241m.\u001b[39mvalues\u001b[38;5;241m.\u001b[39mreshape(\u001b[38;5;241m1\u001b[39m, \u001b[38;5;241m-\u001b[39m\u001b[38;5;241m1\u001b[39m)\n\u001b[1;32m----> 5\u001b[0m     similarity \u001b[38;5;241m=\u001b[39m \u001b[43mcosine_similarity\u001b[49m\u001b[43m(\u001b[49m\u001b[43mrow1\u001b[49m\u001b[43m,\u001b[49m\u001b[43m \u001b[49m\u001b[43mrow2\u001b[49m\u001b[43m)\u001b[49m[\u001b[38;5;241m0\u001b[39m][\u001b[38;5;241m0\u001b[39m]\n\u001b[0;32m      6\u001b[0m     similarity_list\u001b[38;5;241m.\u001b[39mappend(similarity)\n\u001b[0;32m      8\u001b[0m \u001b[38;5;66;03m# Add similarity values to DataFrame\u001b[39;00m\n",
      "File \u001b[1;32m~\\AppData\\Roaming\\jupyterlab-desktop\\jlab_server\\lib\\site-packages\\sklearn\\metrics\\pairwise.py:1393\u001b[0m, in \u001b[0;36mcosine_similarity\u001b[1;34m(X, Y, dense_output)\u001b[0m\n\u001b[0;32m   1358\u001b[0m \u001b[38;5;250m\u001b[39m\u001b[38;5;124;03m\"\"\"Compute cosine similarity between samples in X and Y.\u001b[39;00m\n\u001b[0;32m   1359\u001b[0m \n\u001b[0;32m   1360\u001b[0m \u001b[38;5;124;03mCosine similarity, or the cosine kernel, computes similarity as the\u001b[39;00m\n\u001b[1;32m   (...)\u001b[0m\n\u001b[0;32m   1389\u001b[0m \u001b[38;5;124;03m    Returns the cosine similarity between samples in X and Y.\u001b[39;00m\n\u001b[0;32m   1390\u001b[0m \u001b[38;5;124;03m\"\"\"\u001b[39;00m\n\u001b[0;32m   1391\u001b[0m \u001b[38;5;66;03m# to avoid recursive import\u001b[39;00m\n\u001b[1;32m-> 1393\u001b[0m X, Y \u001b[38;5;241m=\u001b[39m \u001b[43mcheck_pairwise_arrays\u001b[49m\u001b[43m(\u001b[49m\u001b[43mX\u001b[49m\u001b[43m,\u001b[49m\u001b[43m \u001b[49m\u001b[43mY\u001b[49m\u001b[43m)\u001b[49m\n\u001b[0;32m   1395\u001b[0m X_normalized \u001b[38;5;241m=\u001b[39m normalize(X, copy\u001b[38;5;241m=\u001b[39m\u001b[38;5;28;01mTrue\u001b[39;00m)\n\u001b[0;32m   1396\u001b[0m \u001b[38;5;28;01mif\u001b[39;00m X \u001b[38;5;129;01mis\u001b[39;00m Y:\n",
      "File \u001b[1;32m~\\AppData\\Roaming\\jupyterlab-desktop\\jlab_server\\lib\\site-packages\\sklearn\\metrics\\pairwise.py:155\u001b[0m, in \u001b[0;36mcheck_pairwise_arrays\u001b[1;34m(X, Y, precomputed, dtype, accept_sparse, force_all_finite, copy)\u001b[0m\n\u001b[0;32m    146\u001b[0m     X \u001b[38;5;241m=\u001b[39m Y \u001b[38;5;241m=\u001b[39m check_array(\n\u001b[0;32m    147\u001b[0m         X,\n\u001b[0;32m    148\u001b[0m         accept_sparse\u001b[38;5;241m=\u001b[39maccept_sparse,\n\u001b[1;32m   (...)\u001b[0m\n\u001b[0;32m    152\u001b[0m         estimator\u001b[38;5;241m=\u001b[39mestimator,\n\u001b[0;32m    153\u001b[0m     )\n\u001b[0;32m    154\u001b[0m \u001b[38;5;28;01melse\u001b[39;00m:\n\u001b[1;32m--> 155\u001b[0m     X \u001b[38;5;241m=\u001b[39m \u001b[43mcheck_array\u001b[49m\u001b[43m(\u001b[49m\n\u001b[0;32m    156\u001b[0m \u001b[43m        \u001b[49m\u001b[43mX\u001b[49m\u001b[43m,\u001b[49m\n\u001b[0;32m    157\u001b[0m \u001b[43m        \u001b[49m\u001b[43maccept_sparse\u001b[49m\u001b[38;5;241;43m=\u001b[39;49m\u001b[43maccept_sparse\u001b[49m\u001b[43m,\u001b[49m\n\u001b[0;32m    158\u001b[0m \u001b[43m        \u001b[49m\u001b[43mdtype\u001b[49m\u001b[38;5;241;43m=\u001b[39;49m\u001b[43mdtype\u001b[49m\u001b[43m,\u001b[49m\n\u001b[0;32m    159\u001b[0m \u001b[43m        \u001b[49m\u001b[43mcopy\u001b[49m\u001b[38;5;241;43m=\u001b[39;49m\u001b[43mcopy\u001b[49m\u001b[43m,\u001b[49m\n\u001b[0;32m    160\u001b[0m \u001b[43m        \u001b[49m\u001b[43mforce_all_finite\u001b[49m\u001b[38;5;241;43m=\u001b[39;49m\u001b[43mforce_all_finite\u001b[49m\u001b[43m,\u001b[49m\n\u001b[0;32m    161\u001b[0m \u001b[43m        \u001b[49m\u001b[43mestimator\u001b[49m\u001b[38;5;241;43m=\u001b[39;49m\u001b[43mestimator\u001b[49m\u001b[43m,\u001b[49m\n\u001b[0;32m    162\u001b[0m \u001b[43m    \u001b[49m\u001b[43m)\u001b[49m\n\u001b[0;32m    163\u001b[0m     Y \u001b[38;5;241m=\u001b[39m check_array(\n\u001b[0;32m    164\u001b[0m         Y,\n\u001b[0;32m    165\u001b[0m         accept_sparse\u001b[38;5;241m=\u001b[39maccept_sparse,\n\u001b[1;32m   (...)\u001b[0m\n\u001b[0;32m    169\u001b[0m         estimator\u001b[38;5;241m=\u001b[39mestimator,\n\u001b[0;32m    170\u001b[0m     )\n\u001b[0;32m    172\u001b[0m \u001b[38;5;28;01mif\u001b[39;00m precomputed:\n",
      "File \u001b[1;32m~\\AppData\\Roaming\\jupyterlab-desktop\\jlab_server\\lib\\site-packages\\sklearn\\utils\\validation.py:921\u001b[0m, in \u001b[0;36mcheck_array\u001b[1;34m(array, accept_sparse, accept_large_sparse, dtype, order, copy, force_all_finite, ensure_2d, allow_nd, ensure_min_samples, ensure_min_features, estimator, input_name)\u001b[0m\n\u001b[0;32m    915\u001b[0m         \u001b[38;5;28;01mraise\u001b[39;00m \u001b[38;5;167;01mValueError\u001b[39;00m(\n\u001b[0;32m    916\u001b[0m             \u001b[38;5;124m\"\u001b[39m\u001b[38;5;124mFound array with dim \u001b[39m\u001b[38;5;132;01m%d\u001b[39;00m\u001b[38;5;124m. \u001b[39m\u001b[38;5;132;01m%s\u001b[39;00m\u001b[38;5;124m expected <= 2.\u001b[39m\u001b[38;5;124m\"\u001b[39m\n\u001b[0;32m    917\u001b[0m             \u001b[38;5;241m%\u001b[39m (array\u001b[38;5;241m.\u001b[39mndim, estimator_name)\n\u001b[0;32m    918\u001b[0m         )\n\u001b[0;32m    920\u001b[0m     \u001b[38;5;28;01mif\u001b[39;00m force_all_finite:\n\u001b[1;32m--> 921\u001b[0m         \u001b[43m_assert_all_finite\u001b[49m\u001b[43m(\u001b[49m\n\u001b[0;32m    922\u001b[0m \u001b[43m            \u001b[49m\u001b[43marray\u001b[49m\u001b[43m,\u001b[49m\n\u001b[0;32m    923\u001b[0m \u001b[43m            \u001b[49m\u001b[43minput_name\u001b[49m\u001b[38;5;241;43m=\u001b[39;49m\u001b[43minput_name\u001b[49m\u001b[43m,\u001b[49m\n\u001b[0;32m    924\u001b[0m \u001b[43m            \u001b[49m\u001b[43mestimator_name\u001b[49m\u001b[38;5;241;43m=\u001b[39;49m\u001b[43mestimator_name\u001b[49m\u001b[43m,\u001b[49m\n\u001b[0;32m    925\u001b[0m \u001b[43m            \u001b[49m\u001b[43mallow_nan\u001b[49m\u001b[38;5;241;43m=\u001b[39;49m\u001b[43mforce_all_finite\u001b[49m\u001b[43m \u001b[49m\u001b[38;5;241;43m==\u001b[39;49m\u001b[43m \u001b[49m\u001b[38;5;124;43m\"\u001b[39;49m\u001b[38;5;124;43mallow-nan\u001b[39;49m\u001b[38;5;124;43m\"\u001b[39;49m\u001b[43m,\u001b[49m\n\u001b[0;32m    926\u001b[0m \u001b[43m        \u001b[49m\u001b[43m)\u001b[49m\n\u001b[0;32m    928\u001b[0m \u001b[38;5;28;01mif\u001b[39;00m ensure_min_samples \u001b[38;5;241m>\u001b[39m \u001b[38;5;241m0\u001b[39m:\n\u001b[0;32m    929\u001b[0m     n_samples \u001b[38;5;241m=\u001b[39m _num_samples(array)\n",
      "File \u001b[1;32m~\\AppData\\Roaming\\jupyterlab-desktop\\jlab_server\\lib\\site-packages\\sklearn\\utils\\validation.py:161\u001b[0m, in \u001b[0;36m_assert_all_finite\u001b[1;34m(X, allow_nan, msg_dtype, estimator_name, input_name)\u001b[0m\n\u001b[0;32m    144\u001b[0m \u001b[38;5;28;01mif\u001b[39;00m estimator_name \u001b[38;5;129;01mand\u001b[39;00m input_name \u001b[38;5;241m==\u001b[39m \u001b[38;5;124m\"\u001b[39m\u001b[38;5;124mX\u001b[39m\u001b[38;5;124m\"\u001b[39m \u001b[38;5;129;01mand\u001b[39;00m has_nan_error:\n\u001b[0;32m    145\u001b[0m     \u001b[38;5;66;03m# Improve the error message on how to handle missing values in\u001b[39;00m\n\u001b[0;32m    146\u001b[0m     \u001b[38;5;66;03m# scikit-learn.\u001b[39;00m\n\u001b[0;32m    147\u001b[0m     msg_err \u001b[38;5;241m+\u001b[39m\u001b[38;5;241m=\u001b[39m (\n\u001b[0;32m    148\u001b[0m         \u001b[38;5;124mf\u001b[39m\u001b[38;5;124m\"\u001b[39m\u001b[38;5;130;01m\\n\u001b[39;00m\u001b[38;5;132;01m{\u001b[39;00mestimator_name\u001b[38;5;132;01m}\u001b[39;00m\u001b[38;5;124m does not accept missing values\u001b[39m\u001b[38;5;124m\"\u001b[39m\n\u001b[0;32m    149\u001b[0m         \u001b[38;5;124m\"\u001b[39m\u001b[38;5;124m encoded as NaN natively. For supervised learning, you might want\u001b[39m\u001b[38;5;124m\"\u001b[39m\n\u001b[1;32m   (...)\u001b[0m\n\u001b[0;32m    159\u001b[0m         \u001b[38;5;124m\"\u001b[39m\u001b[38;5;124m#estimators-that-handle-nan-values\u001b[39m\u001b[38;5;124m\"\u001b[39m\n\u001b[0;32m    160\u001b[0m     )\n\u001b[1;32m--> 161\u001b[0m \u001b[38;5;28;01mraise\u001b[39;00m \u001b[38;5;167;01mValueError\u001b[39;00m(msg_err)\n",
      "\u001b[1;31mValueError\u001b[0m: Input contains NaN."
     ]
    }
   ],
   "source": [
    "similarity_list = []\n",
    "for i in range(len(pie_averaged_vectors) - 1):\n",
    "    row1 = pie_averaged_vectors.iloc[i, 2:].values.reshape(1, -1)\n",
    "    row2 = pie_averaged_vectors.iloc[i+1, 2:].values.reshape(1, -1)\n",
    "    similarity = cosine_similarity(row1, row2)[0][0]\n",
    "    similarity_list.append(similarity)\n",
    "\n",
    "# Add similarity values to DataFrame\n",
    "pie_averaged_vectors['Distance'] = [np.nan] + similarity_list"
   ]
  },
  {
   "cell_type": "code",
   "execution_count": 30,
   "id": "56ee7254-fe0a-44b0-9c79-defa601108de",
   "metadata": {
    "collapsed": true,
    "jupyter": {
     "outputs_hidden": true
    },
    "tags": []
   },
   "outputs": [
    {
     "data": {
      "text/plain": [
       "[0.06531771294202746,\n",
       " 0.09617782764556762,\n",
       " 0.006011650520598905,\n",
       " 0.2114830376231441,\n",
       " 0.5072006777222464,\n",
       " 0.266446881057787,\n",
       " 0.013275557880616767,\n",
       " -0.007491818221701196,\n",
       " 0.16897721231473292,\n",
       " 0.22848226151554182,\n",
       " -0.09606832738178482,\n",
       " 0.17582407879425455,\n",
       " 0.0020799041042775246,\n",
       " 0.02779696398515356,\n",
       " 0.18989817216574945,\n",
       " 0.3273440826091256,\n",
       " -0.0174729016541693,\n",
       " 0.2634680303002798,\n",
       " 0.17655538794614656,\n",
       " 0.12333185920259734,\n",
       " -0.04679616239555482,\n",
       " 0.11866051713321529,\n",
       " 0.31942157244598957,\n",
       " 0.20992432525755406,\n",
       " 0.41685039167231286,\n",
       " 0.13382780223189125,\n",
       " 0.39853892503345645,\n",
       " 0.28345202813076764,\n",
       " 0.20060733426442331,\n",
       " 0.05583824480602807,\n",
       " 0.23679123686338807,\n",
       " 0.23271582016001538,\n",
       " 0.1153543677230973,\n",
       " 0.35680411106606086,\n",
       " 0.24317543106090067,\n",
       " 0.33024575876048334,\n",
       " 0.3312718743990289,\n",
       " 0.22756784631051982,\n",
       " 0.21349821762984345,\n",
       " 0.004524119345013983,\n",
       " 0.22812132295500434,\n",
       " 0.1057959907149674,\n",
       " 0.13185481834293267,\n",
       " -0.021918860936148747,\n",
       " 0.027745520042137234,\n",
       " -0.025522949384465275,\n",
       " 0.13260677584515715,\n",
       " 0.166600204340032,\n",
       " 0.07259773564289389,\n",
       " 0.8583885874014374,\n",
       " -0.04787274043800059,\n",
       " 0.04842316488943134,\n",
       " 0.14630525084206286,\n",
       " 0.13734980031523497,\n",
       " 0.17278898862188116,\n",
       " 0.12471781786630089,\n",
       " 0.19632371836955975,\n",
       " 0.2550213129658132,\n",
       " 0.061123681866586545,\n",
       " 0.3617125861592515,\n",
       " 0.14997459257338752,\n",
       " 0.03930835460157905,\n",
       " -0.017254565273781795,\n",
       " 0.46231891982098616,\n",
       " 0.2834416342184233,\n",
       " 0.14745740251648087,\n",
       " 0.1601526762229078,\n",
       " 0.1536820227954884,\n",
       " 0.10475194183089329,\n",
       " 0.06262038746910131,\n",
       " -0.045191067135183796,\n",
       " 0.13980338133188983,\n",
       " 0.27268394178808086,\n",
       " 0.1154845351261317,\n",
       " 0.9015777373349438,\n",
       " 0.1331172734225019,\n",
       " -0.16823232540943758,\n",
       " 0.21997820068001805,\n",
       " 0.09097712218676378,\n",
       " 0.15030155501197598,\n",
       " 0.1382870371974504,\n",
       " 0.23415742820014362,\n",
       " 0.18468312729225927,\n",
       " 0.07851761572307743,\n",
       " 0.1659158042184232,\n",
       " 0.009860684911224691,\n",
       " 0.01535428899715522,\n",
       " -0.09504013174653714,\n",
       " 0.15090857497805157,\n",
       " -0.041997764893790084]"
      ]
     },
     "execution_count": 30,
     "metadata": {},
     "output_type": "execute_result"
    }
   ],
   "source": [
    "similarity_list"
   ]
  },
  {
   "cell_type": "markdown",
   "id": "a4865372-11ca-4c4f-b4c6-40464dca2f2d",
   "metadata": {
    "tags": []
   },
   "source": [
    "## Cosine Similarity Between Each Word in the PIE Gloss Vectors"
   ]
  },
  {
   "cell_type": "code",
   "execution_count": null,
   "id": "8bea818f-37cf-48b9-87c9-e2ebdd85ca5e",
   "metadata": {},
   "outputs": [],
   "source": []
  },
  {
   "cell_type": "markdown",
   "id": "e484f990-1e1c-4fc6-8988-37e16e2cbb8b",
   "metadata": {},
   "source": [
    "## Cosine Similarity Between the Cosine Similarities"
   ]
  },
  {
   "cell_type": "code",
   "execution_count": null,
   "id": "80f5a969-16c4-4717-8ef4-68a8144b9112",
   "metadata": {},
   "outputs": [],
   "source": []
  }
 ],
 "metadata": {
  "kernelspec": {
   "display_name": "Python 3 (ipykernel)",
   "language": "python",
   "name": "python3"
  },
  "language_info": {
   "codemirror_mode": {
    "name": "ipython",
    "version": 3
   },
   "file_extension": ".py",
   "mimetype": "text/x-python",
   "name": "python",
   "nbconvert_exporter": "python",
   "pygments_lexer": "ipython3",
   "version": "3.8.16"
  }
 },
 "nbformat": 4,
 "nbformat_minor": 5
}
