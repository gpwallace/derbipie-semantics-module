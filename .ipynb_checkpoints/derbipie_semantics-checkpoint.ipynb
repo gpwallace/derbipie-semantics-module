{
 "cells": [
  {
   "cell_type": "markdown",
   "id": "a4a1b6fa-be17-4083-b209-0ca13de1a55b",
   "metadata": {},
   "source": [
    "# DERBi PIE Semantics Module"
   ]
  },
  {
   "cell_type": "code",
   "execution_count": 1,
   "id": "bf800dee-f6c6-4559-b2b5-8d4dda5b3d92",
   "metadata": {
    "tags": []
   },
   "outputs": [],
   "source": [
    "# installing modules below:"
   ]
  },
  {
   "cell_type": "code",
   "execution_count": 2,
   "id": "9bc52003-b440-42b8-b3e8-04ecf6226e45",
   "metadata": {
    "collapsed": true,
    "jupyter": {
     "outputs_hidden": true
    },
    "tags": []
   },
   "outputs": [
    {
     "name": "stdout",
     "output_type": "stream",
     "text": [
      "Requirement already satisfied: gensim in c:\\users\\gpwal\\appdata\\roaming\\jupyterlab-desktop\\jlab_server\\lib\\site-packages (4.3.1)\n",
      "Requirement already satisfied: numpy>=1.18.5 in c:\\users\\gpwal\\appdata\\roaming\\jupyterlab-desktop\\jlab_server\\lib\\site-packages (from gensim) (1.24.3)\n",
      "Requirement already satisfied: scipy>=1.7.0 in c:\\users\\gpwal\\appdata\\roaming\\jupyterlab-desktop\\jlab_server\\lib\\site-packages (from gensim) (1.10.1)\n",
      "Requirement already satisfied: smart-open>=1.8.1 in c:\\users\\gpwal\\appdata\\roaming\\jupyterlab-desktop\\jlab_server\\lib\\site-packages (from gensim) (6.3.0)\n",
      "Note: you may need to restart the kernel to use updated packages.\n"
     ]
    }
   ],
   "source": [
    "pip install gensim"
   ]
  },
  {
   "cell_type": "code",
   "execution_count": 3,
   "id": "5e8388d7-c4fc-4e22-878d-134926eb7c56",
   "metadata": {
    "collapsed": true,
    "jupyter": {
     "outputs_hidden": true
    },
    "tags": []
   },
   "outputs": [
    {
     "name": "stdout",
     "output_type": "stream",
     "text": [
      "Requirement already satisfied: nltk in c:\\users\\gpwal\\appdata\\roaming\\jupyterlab-desktop\\jlab_server\\lib\\site-packages (3.8.1)\n",
      "Requirement already satisfied: click in c:\\users\\gpwal\\appdata\\roaming\\jupyterlab-desktop\\jlab_server\\lib\\site-packages (from nltk) (8.1.3)\n",
      "Requirement already satisfied: joblib in c:\\users\\gpwal\\appdata\\roaming\\jupyterlab-desktop\\jlab_server\\lib\\site-packages (from nltk) (1.2.0)\n",
      "Requirement already satisfied: regex>=2021.8.3 in c:\\users\\gpwal\\appdata\\roaming\\jupyterlab-desktop\\jlab_server\\lib\\site-packages (from nltk) (2023.5.5)\n",
      "Requirement already satisfied: tqdm in c:\\users\\gpwal\\appdata\\roaming\\jupyterlab-desktop\\jlab_server\\lib\\site-packages (from nltk) (4.65.0)\n",
      "Requirement already satisfied: colorama in c:\\users\\gpwal\\appdata\\roaming\\jupyterlab-desktop\\jlab_server\\lib\\site-packages (from click->nltk) (0.4.6)\n",
      "Note: you may need to restart the kernel to use updated packages.\n"
     ]
    }
   ],
   "source": [
    "pip install nltk"
   ]
  },
  {
   "cell_type": "code",
   "execution_count": 4,
   "id": "83bd716a-0822-4d73-a590-0d6753eab633",
   "metadata": {
    "collapsed": true,
    "jupyter": {
     "outputs_hidden": true
    },
    "tags": []
   },
   "outputs": [
    {
     "name": "stdout",
     "output_type": "stream",
     "text": [
      "Requirement already satisfied: scipy in c:\\users\\gpwal\\appdata\\roaming\\jupyterlab-desktop\\jlab_server\\lib\\site-packages (1.10.1)\n",
      "Requirement already satisfied: numpy<1.27.0,>=1.19.5 in c:\\users\\gpwal\\appdata\\roaming\\jupyterlab-desktop\\jlab_server\\lib\\site-packages (from scipy) (1.24.3)\n",
      "Note: you may need to restart the kernel to use updated packages.\n"
     ]
    }
   ],
   "source": [
    "pip install scipy"
   ]
  },
  {
   "cell_type": "code",
   "execution_count": 5,
   "id": "ffd5d8b2-cdc4-4390-b8f0-917f799e8c77",
   "metadata": {
    "collapsed": true,
    "jupyter": {
     "outputs_hidden": true
    },
    "tags": []
   },
   "outputs": [
    {
     "name": "stdout",
     "output_type": "stream",
     "text": [
      "Requirement already satisfied: gutenbergpy in c:\\users\\gpwal\\appdata\\roaming\\jupyterlab-desktop\\jlab_server\\lib\\site-packages (0.3.5)\n",
      "Requirement already satisfied: future>=0.15.2 in c:\\users\\gpwal\\appdata\\roaming\\jupyterlab-desktop\\jlab_server\\lib\\site-packages (from gutenbergpy) (0.18.3)\n",
      "Requirement already satisfied: httpsproxy-urllib2 in c:\\users\\gpwal\\appdata\\roaming\\jupyterlab-desktop\\jlab_server\\lib\\site-packages (from gutenbergpy) (1.0)\n",
      "Requirement already satisfied: lxml>=3.2.0 in c:\\users\\gpwal\\appdata\\roaming\\jupyterlab-desktop\\jlab_server\\lib\\site-packages (from gutenbergpy) (4.9.2)\n",
      "Requirement already satisfied: pymongo in c:\\users\\gpwal\\appdata\\roaming\\jupyterlab-desktop\\jlab_server\\lib\\site-packages (from gutenbergpy) (4.3.3)\n",
      "Requirement already satisfied: setuptools>=18.5 in c:\\users\\gpwal\\appdata\\roaming\\jupyterlab-desktop\\jlab_server\\lib\\site-packages (from gutenbergpy) (67.7.2)\n",
      "Requirement already satisfied: chardet in c:\\users\\gpwal\\appdata\\roaming\\jupyterlab-desktop\\jlab_server\\lib\\site-packages (from gutenbergpy) (3.0.4)\n",
      "Requirement already satisfied: dnspython<3.0.0,>=1.16.0 in c:\\users\\gpwal\\appdata\\roaming\\jupyterlab-desktop\\jlab_server\\lib\\site-packages (from pymongo->gutenbergpy) (2.3.0)\n",
      "Note: you may need to restart the kernel to use updated packages.\n"
     ]
    }
   ],
   "source": [
    "pip install gutenbergpy"
   ]
  },
  {
   "cell_type": "code",
   "execution_count": 6,
   "id": "4b128a28-17ce-4e65-b12d-e492c229c1e6",
   "metadata": {
    "collapsed": true,
    "jupyter": {
     "outputs_hidden": true
    },
    "tags": []
   },
   "outputs": [
    {
     "name": "stdout",
     "output_type": "stream",
     "text": [
      "Requirement already satisfied: matplotlib in c:\\users\\gpwal\\appdata\\roaming\\jupyterlab-desktop\\jlab_server\\lib\\site-packages (3.7.1)\n",
      "Requirement already satisfied: contourpy>=1.0.1 in c:\\users\\gpwal\\appdata\\roaming\\jupyterlab-desktop\\jlab_server\\lib\\site-packages (from matplotlib) (1.0.7)\n",
      "Requirement already satisfied: cycler>=0.10 in c:\\users\\gpwal\\appdata\\roaming\\jupyterlab-desktop\\jlab_server\\lib\\site-packages (from matplotlib) (0.11.0)\n",
      "Requirement already satisfied: fonttools>=4.22.0 in c:\\users\\gpwal\\appdata\\roaming\\jupyterlab-desktop\\jlab_server\\lib\\site-packages (from matplotlib) (4.39.4)\n",
      "Requirement already satisfied: kiwisolver>=1.0.1 in c:\\users\\gpwal\\appdata\\roaming\\jupyterlab-desktop\\jlab_server\\lib\\site-packages (from matplotlib) (1.4.4)\n",
      "Requirement already satisfied: numpy>=1.20 in c:\\users\\gpwal\\appdata\\roaming\\jupyterlab-desktop\\jlab_server\\lib\\site-packages (from matplotlib) (1.24.3)\n",
      "Requirement already satisfied: packaging>=20.0 in c:\\users\\gpwal\\appdata\\roaming\\jupyterlab-desktop\\jlab_server\\lib\\site-packages (from matplotlib) (23.1)\n",
      "Requirement already satisfied: pillow>=6.2.0 in c:\\users\\gpwal\\appdata\\roaming\\jupyterlab-desktop\\jlab_server\\lib\\site-packages (from matplotlib) (9.5.0)\n",
      "Requirement already satisfied: pyparsing>=2.3.1 in c:\\users\\gpwal\\appdata\\roaming\\jupyterlab-desktop\\jlab_server\\lib\\site-packages (from matplotlib) (3.0.9)\n",
      "Requirement already satisfied: python-dateutil>=2.7 in c:\\users\\gpwal\\appdata\\roaming\\jupyterlab-desktop\\jlab_server\\lib\\site-packages (from matplotlib) (2.8.2)\n",
      "Requirement already satisfied: importlib-resources>=3.2.0 in c:\\users\\gpwal\\appdata\\roaming\\jupyterlab-desktop\\jlab_server\\lib\\site-packages (from matplotlib) (5.12.0)\n",
      "Requirement already satisfied: zipp>=3.1.0 in c:\\users\\gpwal\\appdata\\roaming\\jupyterlab-desktop\\jlab_server\\lib\\site-packages (from importlib-resources>=3.2.0->matplotlib) (3.15.0)\n",
      "Requirement already satisfied: six>=1.5 in c:\\users\\gpwal\\appdata\\roaming\\jupyterlab-desktop\\jlab_server\\lib\\site-packages (from python-dateutil>=2.7->matplotlib) (1.16.0)\n",
      "Note: you may need to restart the kernel to use updated packages.\n"
     ]
    }
   ],
   "source": [
    "pip install matplotlib"
   ]
  },
  {
   "cell_type": "code",
   "execution_count": 7,
   "id": "f4e04ee1-1740-4af5-83a0-04693e1babb7",
   "metadata": {
    "collapsed": true,
    "jupyter": {
     "outputs_hidden": true
    },
    "tags": []
   },
   "outputs": [
    {
     "name": "stdout",
     "output_type": "stream",
     "text": [
      "Requirement already satisfied: tabulate in c:\\users\\gpwal\\appdata\\roaming\\jupyterlab-desktop\\jlab_server\\lib\\site-packages (0.9.0)\n",
      "Note: you may need to restart the kernel to use updated packages.\n"
     ]
    }
   ],
   "source": [
    "pip install tabulate"
   ]
  },
  {
   "cell_type": "code",
   "execution_count": 8,
   "id": "49865743-d078-4b05-a321-24dc4362c7d4",
   "metadata": {
    "collapsed": true,
    "jupyter": {
     "outputs_hidden": true
    },
    "tags": []
   },
   "outputs": [
    {
     "name": "stdout",
     "output_type": "stream",
     "text": [
      "Requirement already satisfied: sklearn in c:\\users\\gpwal\\appdata\\roaming\\jupyterlab-desktop\\jlab_server\\lib\\site-packages (0.0.post5)Note: you may need to restart the kernel to use updated packages.\n",
      "\n"
     ]
    }
   ],
   "source": [
    "pip install sklearn"
   ]
  },
  {
   "cell_type": "code",
   "execution_count": 9,
   "id": "dd8741f6-868d-4b32-800f-5732391ec6c9",
   "metadata": {
    "collapsed": true,
    "jupyter": {
     "outputs_hidden": true
    },
    "tags": []
   },
   "outputs": [
    {
     "name": "stdout",
     "output_type": "stream",
     "text": [
      "Requirement already satisfied: plotly in c:\\users\\gpwal\\appdata\\roaming\\jupyterlab-desktop\\jlab_server\\lib\\site-packages (5.14.1)\n",
      "Requirement already satisfied: tenacity>=6.2.0 in c:\\users\\gpwal\\appdata\\roaming\\jupyterlab-desktop\\jlab_server\\lib\\site-packages (from plotly) (8.2.2)\n",
      "Requirement already satisfied: packaging in c:\\users\\gpwal\\appdata\\roaming\\jupyterlab-desktop\\jlab_server\\lib\\site-packages (from plotly) (23.1)\n",
      "Note: you may need to restart the kernel to use updated packages.\n"
     ]
    }
   ],
   "source": [
    "pip install plotly"
   ]
  },
  {
   "cell_type": "code",
   "execution_count": 10,
   "id": "30d1ec80-726e-48cf-a51e-06d24e883ad7",
   "metadata": {
    "collapsed": true,
    "jupyter": {
     "outputs_hidden": true
    },
    "tags": []
   },
   "outputs": [
    {
     "name": "stdout",
     "output_type": "stream",
     "text": [
      "Requirement already satisfied: wheel in c:\\users\\gpwal\\appdata\\roaming\\jupyterlab-desktop\\jlab_server\\lib\\site-packages (0.40.0)\n",
      "Note: you may need to restart the kernel to use updated packages.\n"
     ]
    }
   ],
   "source": [
    "pip install wheel"
   ]
  },
  {
   "cell_type": "code",
   "execution_count": 11,
   "id": "fd61abbf-7303-4ce2-bd76-54f194c35cfc",
   "metadata": {
    "collapsed": true,
    "jupyter": {
     "outputs_hidden": true
    },
    "tags": []
   },
   "outputs": [
    {
     "name": "stdout",
     "output_type": "stream",
     "text": [
      "Requirement already satisfied: cltk in c:\\users\\gpwal\\appdata\\roaming\\jupyterlab-desktop\\jlab_server\\lib\\site-packages (1.1.6)\n",
      "Requirement already satisfied: PyYAML<7.0.0,>=6.0.0 in c:\\users\\gpwal\\appdata\\roaming\\jupyterlab-desktop\\jlab_server\\lib\\site-packages (from cltk) (6.0)\n",
      "Requirement already satisfied: boltons<22.0.0,>=21.0.0 in c:\\users\\gpwal\\appdata\\roaming\\jupyterlab-desktop\\jlab_server\\lib\\site-packages (from cltk) (21.0.0)\n",
      "Requirement already satisfied: gensim<5.0.0,>=4.1.2 in c:\\users\\gpwal\\appdata\\roaming\\jupyterlab-desktop\\jlab_server\\lib\\site-packages (from cltk) (4.3.1)\n",
      "Requirement already satisfied: gitpython<4.0,>=3.0 in c:\\users\\gpwal\\appdata\\roaming\\jupyterlab-desktop\\jlab_server\\lib\\site-packages (from cltk) (3.1.31)\n",
      "Requirement already satisfied: greek-accentuation<2.0.0,>=1.2.0 in c:\\users\\gpwal\\appdata\\roaming\\jupyterlab-desktop\\jlab_server\\lib\\site-packages (from cltk) (1.2.0)\n",
      "Requirement already satisfied: nltk<4.0,>=3.7 in c:\\users\\gpwal\\appdata\\roaming\\jupyterlab-desktop\\jlab_server\\lib\\site-packages (from cltk) (3.8.1)\n",
      "Requirement already satisfied: python-Levenshtein<0.13.0,>=0.12.0 in c:\\users\\gpwal\\appdata\\roaming\\jupyterlab-desktop\\jlab_server\\lib\\site-packages (from cltk) (0.12.2)\n",
      "Requirement already satisfied: requests<3.0.0,>=2.22.0 in c:\\users\\gpwal\\appdata\\roaming\\jupyterlab-desktop\\jlab_server\\lib\\site-packages (from cltk) (2.29.0)\n",
      "Requirement already satisfied: scikit-learn<2.0.0,>=1.0.2 in c:\\users\\gpwal\\appdata\\roaming\\jupyterlab-desktop\\jlab_server\\lib\\site-packages (from cltk) (1.2.2)\n",
      "Requirement already satisfied: scipy<2.0.0,>=1.8.0 in c:\\users\\gpwal\\appdata\\roaming\\jupyterlab-desktop\\jlab_server\\lib\\site-packages (from cltk) (1.10.1)\n",
      "Requirement already satisfied: spacy<4.0.0,>=3.2.4 in c:\\users\\gpwal\\appdata\\roaming\\jupyterlab-desktop\\jlab_server\\lib\\site-packages (from cltk) (3.5.3)\n",
      "Requirement already satisfied: stanza<2.0.0,>=1.3.0 in c:\\users\\gpwal\\appdata\\roaming\\jupyterlab-desktop\\jlab_server\\lib\\site-packages (from cltk) (1.5.0)\n",
      "Requirement already satisfied: stringcase<2.0,>=1.2 in c:\\users\\gpwal\\appdata\\roaming\\jupyterlab-desktop\\jlab_server\\lib\\site-packages (from cltk) (1.2.0)\n",
      "Requirement already satisfied: tqdm<5.0.0,>=4.41.1 in c:\\users\\gpwal\\appdata\\roaming\\jupyterlab-desktop\\jlab_server\\lib\\site-packages (from cltk) (4.65.0)\n",
      "Requirement already satisfied: numpy>=1.18.5 in c:\\users\\gpwal\\appdata\\roaming\\jupyterlab-desktop\\jlab_server\\lib\\site-packages (from gensim<5.0.0,>=4.1.2->cltk) (1.24.3)\n",
      "Requirement already satisfied: smart-open>=1.8.1 in c:\\users\\gpwal\\appdata\\roaming\\jupyterlab-desktop\\jlab_server\\lib\\site-packages (from gensim<5.0.0,>=4.1.2->cltk) (6.3.0)\n",
      "Requirement already satisfied: gitdb<5,>=4.0.1 in c:\\users\\gpwal\\appdata\\roaming\\jupyterlab-desktop\\jlab_server\\lib\\site-packages (from gitpython<4.0,>=3.0->cltk) (4.0.10)\n",
      "Requirement already satisfied: click in c:\\users\\gpwal\\appdata\\roaming\\jupyterlab-desktop\\jlab_server\\lib\\site-packages (from nltk<4.0,>=3.7->cltk) (8.1.3)\n",
      "Requirement already satisfied: joblib in c:\\users\\gpwal\\appdata\\roaming\\jupyterlab-desktop\\jlab_server\\lib\\site-packages (from nltk<4.0,>=3.7->cltk) (1.2.0)\n",
      "Requirement already satisfied: regex>=2021.8.3 in c:\\users\\gpwal\\appdata\\roaming\\jupyterlab-desktop\\jlab_server\\lib\\site-packages (from nltk<4.0,>=3.7->cltk) (2023.5.5)\n",
      "Requirement already satisfied: setuptools in c:\\users\\gpwal\\appdata\\roaming\\jupyterlab-desktop\\jlab_server\\lib\\site-packages (from python-Levenshtein<0.13.0,>=0.12.0->cltk) (67.7.2)\n",
      "Requirement already satisfied: charset-normalizer<4,>=2 in c:\\users\\gpwal\\appdata\\roaming\\jupyterlab-desktop\\jlab_server\\lib\\site-packages (from requests<3.0.0,>=2.22.0->cltk) (3.1.0)\n",
      "Requirement already satisfied: idna<4,>=2.5 in c:\\users\\gpwal\\appdata\\roaming\\jupyterlab-desktop\\jlab_server\\lib\\site-packages (from requests<3.0.0,>=2.22.0->cltk) (2.10)\n",
      "Requirement already satisfied: urllib3<1.27,>=1.21.1 in c:\\users\\gpwal\\appdata\\roaming\\jupyterlab-desktop\\jlab_server\\lib\\site-packages (from requests<3.0.0,>=2.22.0->cltk) (1.26.15)\n",
      "Requirement already satisfied: certifi>=2017.4.17 in c:\\users\\gpwal\\appdata\\roaming\\jupyterlab-desktop\\jlab_server\\lib\\site-packages (from requests<3.0.0,>=2.22.0->cltk) (2023.5.7)\n",
      "Requirement already satisfied: threadpoolctl>=2.0.0 in c:\\users\\gpwal\\appdata\\roaming\\jupyterlab-desktop\\jlab_server\\lib\\site-packages (from scikit-learn<2.0.0,>=1.0.2->cltk) (3.1.0)\n",
      "Requirement already satisfied: spacy-legacy<3.1.0,>=3.0.11 in c:\\users\\gpwal\\appdata\\roaming\\jupyterlab-desktop\\jlab_server\\lib\\site-packages (from spacy<4.0.0,>=3.2.4->cltk) (3.0.12)\n",
      "Requirement already satisfied: spacy-loggers<2.0.0,>=1.0.0 in c:\\users\\gpwal\\appdata\\roaming\\jupyterlab-desktop\\jlab_server\\lib\\site-packages (from spacy<4.0.0,>=3.2.4->cltk) (1.0.4)\n",
      "Requirement already satisfied: murmurhash<1.1.0,>=0.28.0 in c:\\users\\gpwal\\appdata\\roaming\\jupyterlab-desktop\\jlab_server\\lib\\site-packages (from spacy<4.0.0,>=3.2.4->cltk) (1.0.9)\n",
      "Requirement already satisfied: cymem<2.1.0,>=2.0.2 in c:\\users\\gpwal\\appdata\\roaming\\jupyterlab-desktop\\jlab_server\\lib\\site-packages (from spacy<4.0.0,>=3.2.4->cltk) (2.0.7)\n",
      "Requirement already satisfied: preshed<3.1.0,>=3.0.2 in c:\\users\\gpwal\\appdata\\roaming\\jupyterlab-desktop\\jlab_server\\lib\\site-packages (from spacy<4.0.0,>=3.2.4->cltk) (3.0.8)\n",
      "Requirement already satisfied: thinc<8.2.0,>=8.1.8 in c:\\users\\gpwal\\appdata\\roaming\\jupyterlab-desktop\\jlab_server\\lib\\site-packages (from spacy<4.0.0,>=3.2.4->cltk) (8.1.10)\n",
      "Requirement already satisfied: wasabi<1.2.0,>=0.9.1 in c:\\users\\gpwal\\appdata\\roaming\\jupyterlab-desktop\\jlab_server\\lib\\site-packages (from spacy<4.0.0,>=3.2.4->cltk) (1.1.2)\n",
      "Requirement already satisfied: srsly<3.0.0,>=2.4.3 in c:\\users\\gpwal\\appdata\\roaming\\jupyterlab-desktop\\jlab_server\\lib\\site-packages (from spacy<4.0.0,>=3.2.4->cltk) (2.4.6)\n",
      "Requirement already satisfied: catalogue<2.1.0,>=2.0.6 in c:\\users\\gpwal\\appdata\\roaming\\jupyterlab-desktop\\jlab_server\\lib\\site-packages (from spacy<4.0.0,>=3.2.4->cltk) (2.0.8)\n",
      "Requirement already satisfied: typer<0.8.0,>=0.3.0 in c:\\users\\gpwal\\appdata\\roaming\\jupyterlab-desktop\\jlab_server\\lib\\site-packages (from spacy<4.0.0,>=3.2.4->cltk) (0.7.0)\n",
      "Requirement already satisfied: pathy>=0.10.0 in c:\\users\\gpwal\\appdata\\roaming\\jupyterlab-desktop\\jlab_server\\lib\\site-packages (from spacy<4.0.0,>=3.2.4->cltk) (0.10.1)\n",
      "Requirement already satisfied: pydantic!=1.8,!=1.8.1,<1.11.0,>=1.7.4 in c:\\users\\gpwal\\appdata\\roaming\\jupyterlab-desktop\\jlab_server\\lib\\site-packages (from spacy<4.0.0,>=3.2.4->cltk) (1.10.9)\n",
      "Requirement already satisfied: jinja2 in c:\\users\\gpwal\\appdata\\roaming\\jupyterlab-desktop\\jlab_server\\lib\\site-packages (from spacy<4.0.0,>=3.2.4->cltk) (3.1.2)\n",
      "Requirement already satisfied: packaging>=20.0 in c:\\users\\gpwal\\appdata\\roaming\\jupyterlab-desktop\\jlab_server\\lib\\site-packages (from spacy<4.0.0,>=3.2.4->cltk) (23.1)\n",
      "Requirement already satisfied: langcodes<4.0.0,>=3.2.0 in c:\\users\\gpwal\\appdata\\roaming\\jupyterlab-desktop\\jlab_server\\lib\\site-packages (from spacy<4.0.0,>=3.2.4->cltk) (3.3.0)\n",
      "Requirement already satisfied: emoji in c:\\users\\gpwal\\appdata\\roaming\\jupyterlab-desktop\\jlab_server\\lib\\site-packages (from stanza<2.0.0,>=1.3.0->cltk) (2.5.0)\n",
      "Requirement already satisfied: protobuf in c:\\users\\gpwal\\appdata\\roaming\\jupyterlab-desktop\\jlab_server\\lib\\site-packages (from stanza<2.0.0,>=1.3.0->cltk) (4.23.2)\n",
      "Requirement already satisfied: six in c:\\users\\gpwal\\appdata\\roaming\\jupyterlab-desktop\\jlab_server\\lib\\site-packages (from stanza<2.0.0,>=1.3.0->cltk) (1.16.0)\n",
      "Requirement already satisfied: torch>=1.3.0 in c:\\users\\gpwal\\appdata\\roaming\\jupyterlab-desktop\\jlab_server\\lib\\site-packages (from stanza<2.0.0,>=1.3.0->cltk) (2.0.1)\n",
      "Requirement already satisfied: colorama in c:\\users\\gpwal\\appdata\\roaming\\jupyterlab-desktop\\jlab_server\\lib\\site-packages (from tqdm<5.0.0,>=4.41.1->cltk) (0.4.6)\n",
      "Requirement already satisfied: smmap<6,>=3.0.1 in c:\\users\\gpwal\\appdata\\roaming\\jupyterlab-desktop\\jlab_server\\lib\\site-packages (from gitdb<5,>=4.0.1->gitpython<4.0,>=3.0->cltk) (5.0.0)\n",
      "Requirement already satisfied: typing-extensions>=4.2.0 in c:\\users\\gpwal\\appdata\\roaming\\jupyterlab-desktop\\jlab_server\\lib\\site-packages (from pydantic!=1.8,!=1.8.1,<1.11.0,>=1.7.4->spacy<4.0.0,>=3.2.4->cltk) (4.5.0)\n",
      "Requirement already satisfied: blis<0.8.0,>=0.7.8 in c:\\users\\gpwal\\appdata\\roaming\\jupyterlab-desktop\\jlab_server\\lib\\site-packages (from thinc<8.2.0,>=8.1.8->spacy<4.0.0,>=3.2.4->cltk) (0.7.9)\n",
      "Requirement already satisfied: confection<1.0.0,>=0.0.1 in c:\\users\\gpwal\\appdata\\roaming\\jupyterlab-desktop\\jlab_server\\lib\\site-packages (from thinc<8.2.0,>=8.1.8->spacy<4.0.0,>=3.2.4->cltk) (0.0.4)\n",
      "Requirement already satisfied: filelock in c:\\users\\gpwal\\appdata\\roaming\\jupyterlab-desktop\\jlab_server\\lib\\site-packages (from torch>=1.3.0->stanza<2.0.0,>=1.3.0->cltk) (3.12.2)\n",
      "Requirement already satisfied: sympy in c:\\users\\gpwal\\appdata\\roaming\\jupyterlab-desktop\\jlab_server\\lib\\site-packages (from torch>=1.3.0->stanza<2.0.0,>=1.3.0->cltk) (1.12)\n",
      "Requirement already satisfied: networkx in c:\\users\\gpwal\\appdata\\roaming\\jupyterlab-desktop\\jlab_server\\lib\\site-packages (from torch>=1.3.0->stanza<2.0.0,>=1.3.0->cltk) (3.1)\n",
      "Requirement already satisfied: MarkupSafe>=2.0 in c:\\users\\gpwal\\appdata\\roaming\\jupyterlab-desktop\\jlab_server\\lib\\site-packages (from jinja2->spacy<4.0.0,>=3.2.4->cltk) (2.1.2)\n",
      "Requirement already satisfied: mpmath>=0.19 in c:\\users\\gpwal\\appdata\\roaming\\jupyterlab-desktop\\jlab_server\\lib\\site-packages (from sympy->torch>=1.3.0->stanza<2.0.0,>=1.3.0->cltk) (1.3.0)\n",
      "Note: you may need to restart the kernel to use updated packages.\n"
     ]
    }
   ],
   "source": [
    "pip install cltk"
   ]
  },
  {
   "cell_type": "code",
   "execution_count": 12,
   "id": "ea0e656b-1262-4eaa-b26e-ce30ce07bada",
   "metadata": {
    "collapsed": true,
    "jupyter": {
     "outputs_hidden": true
    },
    "tags": []
   },
   "outputs": [
    {
     "name": "stdout",
     "output_type": "stream",
     "text": [
      "Requirement already satisfied: cltk in c:\\users\\gpwal\\appdata\\roaming\\jupyterlab-desktop\\jlab_server\\lib\\site-packages (1.1.6)\n",
      "Requirement already satisfied: PyYAML<7.0.0,>=6.0.0 in c:\\users\\gpwal\\appdata\\roaming\\jupyterlab-desktop\\jlab_server\\lib\\site-packages (from cltk) (6.0)\n",
      "Requirement already satisfied: boltons<22.0.0,>=21.0.0 in c:\\users\\gpwal\\appdata\\roaming\\jupyterlab-desktop\\jlab_server\\lib\\site-packages (from cltk) (21.0.0)\n",
      "Requirement already satisfied: gensim<5.0.0,>=4.1.2 in c:\\users\\gpwal\\appdata\\roaming\\jupyterlab-desktop\\jlab_server\\lib\\site-packages (from cltk) (4.3.1)\n",
      "Requirement already satisfied: gitpython<4.0,>=3.0 in c:\\users\\gpwal\\appdata\\roaming\\jupyterlab-desktop\\jlab_server\\lib\\site-packages (from cltk) (3.1.31)\n",
      "Requirement already satisfied: greek-accentuation<2.0.0,>=1.2.0 in c:\\users\\gpwal\\appdata\\roaming\\jupyterlab-desktop\\jlab_server\\lib\\site-packages (from cltk) (1.2.0)\n",
      "Requirement already satisfied: nltk<4.0,>=3.7 in c:\\users\\gpwal\\appdata\\roaming\\jupyterlab-desktop\\jlab_server\\lib\\site-packages (from cltk) (3.8.1)\n",
      "Requirement already satisfied: python-Levenshtein<0.13.0,>=0.12.0 in c:\\users\\gpwal\\appdata\\roaming\\jupyterlab-desktop\\jlab_server\\lib\\site-packages (from cltk) (0.12.2)\n",
      "Requirement already satisfied: requests<3.0.0,>=2.22.0 in c:\\users\\gpwal\\appdata\\roaming\\jupyterlab-desktop\\jlab_server\\lib\\site-packages (from cltk) (2.29.0)\n",
      "Requirement already satisfied: scikit-learn<2.0.0,>=1.0.2 in c:\\users\\gpwal\\appdata\\roaming\\jupyterlab-desktop\\jlab_server\\lib\\site-packages (from cltk) (1.2.2)\n",
      "Requirement already satisfied: scipy<2.0.0,>=1.8.0 in c:\\users\\gpwal\\appdata\\roaming\\jupyterlab-desktop\\jlab_server\\lib\\site-packages (from cltk) (1.10.1)\n",
      "Requirement already satisfied: spacy<4.0.0,>=3.2.4 in c:\\users\\gpwal\\appdata\\roaming\\jupyterlab-desktop\\jlab_server\\lib\\site-packages (from cltk) (3.5.3)\n",
      "Requirement already satisfied: stanza<2.0.0,>=1.3.0 in c:\\users\\gpwal\\appdata\\roaming\\jupyterlab-desktop\\jlab_server\\lib\\site-packages (from cltk) (1.5.0)\n",
      "Requirement already satisfied: stringcase<2.0,>=1.2 in c:\\users\\gpwal\\appdata\\roaming\\jupyterlab-desktop\\jlab_server\\lib\\site-packages (from cltk) (1.2.0)\n",
      "Requirement already satisfied: tqdm<5.0.0,>=4.41.1 in c:\\users\\gpwal\\appdata\\roaming\\jupyterlab-desktop\\jlab_server\\lib\\site-packages (from cltk) (4.65.0)\n",
      "Requirement already satisfied: numpy>=1.18.5 in c:\\users\\gpwal\\appdata\\roaming\\jupyterlab-desktop\\jlab_server\\lib\\site-packages (from gensim<5.0.0,>=4.1.2->cltk) (1.24.3)\n",
      "Requirement already satisfied: smart-open>=1.8.1 in c:\\users\\gpwal\\appdata\\roaming\\jupyterlab-desktop\\jlab_server\\lib\\site-packages (from gensim<5.0.0,>=4.1.2->cltk) (6.3.0)\n",
      "Requirement already satisfied: gitdb<5,>=4.0.1 in c:\\users\\gpwal\\appdata\\roaming\\jupyterlab-desktop\\jlab_server\\lib\\site-packages (from gitpython<4.0,>=3.0->cltk) (4.0.10)\n",
      "Requirement already satisfied: click in c:\\users\\gpwal\\appdata\\roaming\\jupyterlab-desktop\\jlab_server\\lib\\site-packages (from nltk<4.0,>=3.7->cltk) (8.1.3)\n",
      "Requirement already satisfied: joblib in c:\\users\\gpwal\\appdata\\roaming\\jupyterlab-desktop\\jlab_server\\lib\\site-packages (from nltk<4.0,>=3.7->cltk) (1.2.0)\n",
      "Requirement already satisfied: regex>=2021.8.3 in c:\\users\\gpwal\\appdata\\roaming\\jupyterlab-desktop\\jlab_server\\lib\\site-packages (from nltk<4.0,>=3.7->cltk) (2023.5.5)\n",
      "Requirement already satisfied: setuptools in c:\\users\\gpwal\\appdata\\roaming\\jupyterlab-desktop\\jlab_server\\lib\\site-packages (from python-Levenshtein<0.13.0,>=0.12.0->cltk) (67.7.2)\n",
      "Requirement already satisfied: charset-normalizer<4,>=2 in c:\\users\\gpwal\\appdata\\roaming\\jupyterlab-desktop\\jlab_server\\lib\\site-packages (from requests<3.0.0,>=2.22.0->cltk) (3.1.0)\n",
      "Requirement already satisfied: idna<4,>=2.5 in c:\\users\\gpwal\\appdata\\roaming\\jupyterlab-desktop\\jlab_server\\lib\\site-packages (from requests<3.0.0,>=2.22.0->cltk) (2.10)\n",
      "Requirement already satisfied: urllib3<1.27,>=1.21.1 in c:\\users\\gpwal\\appdata\\roaming\\jupyterlab-desktop\\jlab_server\\lib\\site-packages (from requests<3.0.0,>=2.22.0->cltk) (1.26.15)\n",
      "Requirement already satisfied: certifi>=2017.4.17 in c:\\users\\gpwal\\appdata\\roaming\\jupyterlab-desktop\\jlab_server\\lib\\site-packages (from requests<3.0.0,>=2.22.0->cltk) (2023.5.7)\n",
      "Requirement already satisfied: threadpoolctl>=2.0.0 in c:\\users\\gpwal\\appdata\\roaming\\jupyterlab-desktop\\jlab_server\\lib\\site-packages (from scikit-learn<2.0.0,>=1.0.2->cltk) (3.1.0)\n",
      "Requirement already satisfied: spacy-legacy<3.1.0,>=3.0.11 in c:\\users\\gpwal\\appdata\\roaming\\jupyterlab-desktop\\jlab_server\\lib\\site-packages (from spacy<4.0.0,>=3.2.4->cltk) (3.0.12)\n",
      "Requirement already satisfied: spacy-loggers<2.0.0,>=1.0.0 in c:\\users\\gpwal\\appdata\\roaming\\jupyterlab-desktop\\jlab_server\\lib\\site-packages (from spacy<4.0.0,>=3.2.4->cltk) (1.0.4)\n",
      "Requirement already satisfied: murmurhash<1.1.0,>=0.28.0 in c:\\users\\gpwal\\appdata\\roaming\\jupyterlab-desktop\\jlab_server\\lib\\site-packages (from spacy<4.0.0,>=3.2.4->cltk) (1.0.9)\n",
      "Requirement already satisfied: cymem<2.1.0,>=2.0.2 in c:\\users\\gpwal\\appdata\\roaming\\jupyterlab-desktop\\jlab_server\\lib\\site-packages (from spacy<4.0.0,>=3.2.4->cltk) (2.0.7)\n",
      "Requirement already satisfied: preshed<3.1.0,>=3.0.2 in c:\\users\\gpwal\\appdata\\roaming\\jupyterlab-desktop\\jlab_server\\lib\\site-packages (from spacy<4.0.0,>=3.2.4->cltk) (3.0.8)\n",
      "Requirement already satisfied: thinc<8.2.0,>=8.1.8 in c:\\users\\gpwal\\appdata\\roaming\\jupyterlab-desktop\\jlab_server\\lib\\site-packages (from spacy<4.0.0,>=3.2.4->cltk) (8.1.10)\n",
      "Requirement already satisfied: wasabi<1.2.0,>=0.9.1 in c:\\users\\gpwal\\appdata\\roaming\\jupyterlab-desktop\\jlab_server\\lib\\site-packages (from spacy<4.0.0,>=3.2.4->cltk) (1.1.2)\n",
      "Requirement already satisfied: srsly<3.0.0,>=2.4.3 in c:\\users\\gpwal\\appdata\\roaming\\jupyterlab-desktop\\jlab_server\\lib\\site-packages (from spacy<4.0.0,>=3.2.4->cltk) (2.4.6)\n",
      "Requirement already satisfied: catalogue<2.1.0,>=2.0.6 in c:\\users\\gpwal\\appdata\\roaming\\jupyterlab-desktop\\jlab_server\\lib\\site-packages (from spacy<4.0.0,>=3.2.4->cltk) (2.0.8)\n",
      "Requirement already satisfied: typer<0.8.0,>=0.3.0 in c:\\users\\gpwal\\appdata\\roaming\\jupyterlab-desktop\\jlab_server\\lib\\site-packages (from spacy<4.0.0,>=3.2.4->cltk) (0.7.0)\n",
      "Requirement already satisfied: pathy>=0.10.0 in c:\\users\\gpwal\\appdata\\roaming\\jupyterlab-desktop\\jlab_server\\lib\\site-packages (from spacy<4.0.0,>=3.2.4->cltk) (0.10.1)\n",
      "Requirement already satisfied: pydantic!=1.8,!=1.8.1,<1.11.0,>=1.7.4 in c:\\users\\gpwal\\appdata\\roaming\\jupyterlab-desktop\\jlab_server\\lib\\site-packages (from spacy<4.0.0,>=3.2.4->cltk) (1.10.9)\n",
      "Requirement already satisfied: jinja2 in c:\\users\\gpwal\\appdata\\roaming\\jupyterlab-desktop\\jlab_server\\lib\\site-packages (from spacy<4.0.0,>=3.2.4->cltk) (3.1.2)\n",
      "Requirement already satisfied: packaging>=20.0 in c:\\users\\gpwal\\appdata\\roaming\\jupyterlab-desktop\\jlab_server\\lib\\site-packages (from spacy<4.0.0,>=3.2.4->cltk) (23.1)\n",
      "Requirement already satisfied: langcodes<4.0.0,>=3.2.0 in c:\\users\\gpwal\\appdata\\roaming\\jupyterlab-desktop\\jlab_server\\lib\\site-packages (from spacy<4.0.0,>=3.2.4->cltk) (3.3.0)\n",
      "Requirement already satisfied: emoji in c:\\users\\gpwal\\appdata\\roaming\\jupyterlab-desktop\\jlab_server\\lib\\site-packages (from stanza<2.0.0,>=1.3.0->cltk) (2.5.0)\n",
      "Requirement already satisfied: protobuf in c:\\users\\gpwal\\appdata\\roaming\\jupyterlab-desktop\\jlab_server\\lib\\site-packages (from stanza<2.0.0,>=1.3.0->cltk) (4.23.2)\n",
      "Requirement already satisfied: six in c:\\users\\gpwal\\appdata\\roaming\\jupyterlab-desktop\\jlab_server\\lib\\site-packages (from stanza<2.0.0,>=1.3.0->cltk) (1.16.0)\n",
      "Requirement already satisfied: torch>=1.3.0 in c:\\users\\gpwal\\appdata\\roaming\\jupyterlab-desktop\\jlab_server\\lib\\site-packages (from stanza<2.0.0,>=1.3.0->cltk) (2.0.1)\n",
      "Requirement already satisfied: colorama in c:\\users\\gpwal\\appdata\\roaming\\jupyterlab-desktop\\jlab_server\\lib\\site-packages (from tqdm<5.0.0,>=4.41.1->cltk) (0.4.6)\n",
      "Requirement already satisfied: smmap<6,>=3.0.1 in c:\\users\\gpwal\\appdata\\roaming\\jupyterlab-desktop\\jlab_server\\lib\\site-packages (from gitdb<5,>=4.0.1->gitpython<4.0,>=3.0->cltk) (5.0.0)\n",
      "Requirement already satisfied: typing-extensions>=4.2.0 in c:\\users\\gpwal\\appdata\\roaming\\jupyterlab-desktop\\jlab_server\\lib\\site-packages (from pydantic!=1.8,!=1.8.1,<1.11.0,>=1.7.4->spacy<4.0.0,>=3.2.4->cltk) (4.5.0)\n",
      "Requirement already satisfied: blis<0.8.0,>=0.7.8 in c:\\users\\gpwal\\appdata\\roaming\\jupyterlab-desktop\\jlab_server\\lib\\site-packages (from thinc<8.2.0,>=8.1.8->spacy<4.0.0,>=3.2.4->cltk) (0.7.9)\n",
      "Requirement already satisfied: confection<1.0.0,>=0.0.1 in c:\\users\\gpwal\\appdata\\roaming\\jupyterlab-desktop\\jlab_server\\lib\\site-packages (from thinc<8.2.0,>=8.1.8->spacy<4.0.0,>=3.2.4->cltk) (0.0.4)\n",
      "Requirement already satisfied: filelock in c:\\users\\gpwal\\appdata\\roaming\\jupyterlab-desktop\\jlab_server\\lib\\site-packages (from torch>=1.3.0->stanza<2.0.0,>=1.3.0->cltk) (3.12.2)\n",
      "Requirement already satisfied: sympy in c:\\users\\gpwal\\appdata\\roaming\\jupyterlab-desktop\\jlab_server\\lib\\site-packages (from torch>=1.3.0->stanza<2.0.0,>=1.3.0->cltk) (1.12)\n",
      "Requirement already satisfied: networkx in c:\\users\\gpwal\\appdata\\roaming\\jupyterlab-desktop\\jlab_server\\lib\\site-packages (from torch>=1.3.0->stanza<2.0.0,>=1.3.0->cltk) (3.1)\n",
      "Requirement already satisfied: MarkupSafe>=2.0 in c:\\users\\gpwal\\appdata\\roaming\\jupyterlab-desktop\\jlab_server\\lib\\site-packages (from jinja2->spacy<4.0.0,>=3.2.4->cltk) (2.1.2)\n",
      "Requirement already satisfied: mpmath>=0.19 in c:\\users\\gpwal\\appdata\\roaming\\jupyterlab-desktop\\jlab_server\\lib\\site-packages (from sympy->torch>=1.3.0->stanza<2.0.0,>=1.3.0->cltk) (1.3.0)\n",
      "Note: you may need to restart the kernel to use updated packages.\n"
     ]
    }
   ],
   "source": [
    "pip install --upgrade cltk"
   ]
  },
  {
   "cell_type": "code",
   "execution_count": 13,
   "id": "7fda0274-3107-4c83-9758-217b1951d94e",
   "metadata": {
    "tags": []
   },
   "outputs": [],
   "source": [
    "#importing modules below:"
   ]
  },
  {
   "cell_type": "code",
   "execution_count": 1,
   "id": "d3012de7-d750-4a8a-bec8-001db1ed7ae8",
   "metadata": {
    "tags": []
   },
   "outputs": [],
   "source": [
    "import gensim.downloader as api\n",
    "wv = api.load('glove-wiki-gigaword-100')"
   ]
  },
  {
   "cell_type": "code",
   "execution_count": 2,
   "id": "776ec2f5-e901-444e-b330-50892e604b04",
   "metadata": {
    "tags": []
   },
   "outputs": [
    {
     "name": "stderr",
     "output_type": "stream",
     "text": [
      "[nltk_data] Downloading package punkt to\n",
      "[nltk_data]     C:\\Users\\gpwal\\AppData\\Roaming\\nltk_data...\n",
      "[nltk_data]   Package punkt is already up-to-date!\n"
     ]
    },
    {
     "data": {
      "text/plain": [
       "True"
      ]
     },
     "execution_count": 2,
     "metadata": {},
     "output_type": "execute_result"
    }
   ],
   "source": [
    "from gensim.models import Word2Vec\n",
    "import nltk\n",
    "nltk.download('punkt')"
   ]
  },
  {
   "cell_type": "code",
   "execution_count": 3,
   "id": "403b145c-9ca3-42c5-a903-d4e4c08cd3b2",
   "metadata": {
    "tags": []
   },
   "outputs": [],
   "source": [
    "from nltk.tokenize import sent_tokenize, RegexpTokenizer"
   ]
  },
  {
   "cell_type": "code",
   "execution_count": 4,
   "id": "39db9812-0892-4a0c-b6c4-64d65ea8c50c",
   "metadata": {
    "tags": []
   },
   "outputs": [],
   "source": [
    "import nltk\n",
    "from nltk.corpus import stopwords"
   ]
  },
  {
   "cell_type": "code",
   "execution_count": 5,
   "id": "a61b3e0d-127d-4d28-8c7d-be58e4c2efa8",
   "metadata": {
    "tags": []
   },
   "outputs": [],
   "source": [
    "from pprint import pprint"
   ]
  },
  {
   "cell_type": "code",
   "execution_count": 6,
   "id": "c1c9ae09-cd68-4d58-b702-0bb946ceb8da",
   "metadata": {
    "tags": []
   },
   "outputs": [],
   "source": [
    "import numpy as np"
   ]
  },
  {
   "cell_type": "code",
   "execution_count": 7,
   "id": "29e1f2d0-bb06-4761-b487-c2e6b5f3e67e",
   "metadata": {
    "tags": []
   },
   "outputs": [],
   "source": [
    "from scipy import spatial"
   ]
  },
  {
   "cell_type": "code",
   "execution_count": 8,
   "id": "a678af4c-ace4-4371-af3d-facf1a7366b4",
   "metadata": {
    "tags": []
   },
   "outputs": [],
   "source": [
    "from nltk.tokenize import RegexpTokenizer\n",
    "from collections import Counter"
   ]
  },
  {
   "cell_type": "code",
   "execution_count": 9,
   "id": "20ca7f17-cd30-4148-9cd5-1aa72b52aa90",
   "metadata": {
    "tags": []
   },
   "outputs": [],
   "source": [
    "import gutenbergpy.textget"
   ]
  },
  {
   "cell_type": "code",
   "execution_count": 10,
   "id": "120d5fb7-c878-4100-9ffc-bae7c5318c4b",
   "metadata": {
    "tags": []
   },
   "outputs": [],
   "source": [
    "import matplotlib.pyplot as plt"
   ]
  },
  {
   "cell_type": "code",
   "execution_count": 11,
   "id": "c7c5edaa-0443-4818-b9db-b21c4e947ed5",
   "metadata": {
    "tags": []
   },
   "outputs": [],
   "source": [
    "from tabulate import tabulate"
   ]
  },
  {
   "cell_type": "code",
   "execution_count": 12,
   "id": "dfa64753-ac9b-494a-8723-32e849683653",
   "metadata": {
    "tags": []
   },
   "outputs": [],
   "source": [
    "from sklearn.manifold import TSNE"
   ]
  },
  {
   "cell_type": "code",
   "execution_count": 13,
   "id": "d3bd3c6a-3383-41ab-9134-303afa2739c7",
   "metadata": {
    "tags": []
   },
   "outputs": [],
   "source": [
    "import plotly.express as px"
   ]
  },
  {
   "cell_type": "code",
   "execution_count": 14,
   "id": "09b1238c-434d-4354-9a6c-da41274269e8",
   "metadata": {
    "tags": []
   },
   "outputs": [],
   "source": [
    "import os"
   ]
  },
  {
   "cell_type": "code",
   "execution_count": 15,
   "id": "308fb11f-adae-40b7-980e-6b9fb17b5b80",
   "metadata": {
    "tags": []
   },
   "outputs": [],
   "source": [
    "from cltk import NLP"
   ]
  },
  {
   "cell_type": "code",
   "execution_count": 16,
   "id": "b7aaa074-a273-458a-b2c9-3401a93e2c92",
   "metadata": {
    "tags": []
   },
   "outputs": [],
   "source": [
    "import csv"
   ]
  },
  {
   "cell_type": "code",
   "execution_count": 17,
   "id": "436572e2-c3c2-4172-a4b0-885de8362136",
   "metadata": {
    "tags": []
   },
   "outputs": [
    {
     "name": "stdout",
     "output_type": "stream",
     "text": [
      "C:\\Users\\gpwal\\derbipie-semantics\\texts\n"
     ]
    }
   ],
   "source": [
    "# creating a directory path to make running code on other computers easier\n",
    "directory_path = os.path.join(os.environ['USERPROFILE'],'derbipie-semantics','texts')\n",
    "print(directory_path)"
   ]
  },
  {
   "cell_type": "code",
   "execution_count": 18,
   "id": "f0871d4d-b89a-48bf-8f70-4385275967ba",
   "metadata": {},
   "outputs": [],
   "source": [
    "# creating plots and arrays for the languages below:"
   ]
  },
  {
   "cell_type": "code",
   "execution_count": 19,
   "id": "6eec9399-2bca-42cd-8e3c-e036dc40b333",
   "metadata": {
    "tags": []
   },
   "outputs": [],
   "source": [
    "# tokenization function:\n",
    "def tokenize_corpus(text):\n",
    "    sentences = sent_tokenize(text.replace(\"\\n\", \" \").lower())\n",
    "    tokenized_sentences = [\n",
    "        RegexpTokenizer(r\"\\w+\").tokenize(sentence)\n",
    "        for sentence in sentences\n",
    "    ]\n",
    "    tokenized_corpus = [\n",
    "        [word for word in sentence]\n",
    "        for sentence in tokenized_sentences\n",
    "    ]\n",
    "    return tokenized_corpus"
   ]
  },
  {
   "cell_type": "markdown",
   "id": "3b168b0c-69c9-44e7-b383-05acf83be8f8",
   "metadata": {},
   "source": [
    "## English"
   ]
  },
  {
   "cell_type": "code",
   "execution_count": 20,
   "id": "34ac3dc7-f9ab-4535-a00f-55b5106d3239",
   "metadata": {
    "tags": []
   },
   "outputs": [],
   "source": [
    "# creating a list of the Swadesh words\n",
    "swadesh =  ['i', 'you', 'we', 'this', 'that', 'who', 'what', 'not', 'all', 'many', 'one', 'two', 'big', 'long', 'small', 'woman', 'man', 'person', 'fish', 'bird', 'dog', 'louse', 'tree', 'seed', 'leaf', 'root', 'bark', 'skin', 'flesh', 'blood', 'bone', 'grease', 'egg', 'horn', 'tail', 'feather', 'hair', 'head', 'ear', 'eye', 'nose', 'mouth', 'tooth', 'tongue', 'claw', 'foot', 'knee', 'hand', 'belly', 'neck', 'breasts', 'heart', 'liver', 'drink', 'eat', 'bite', 'see', 'hear', 'know', 'sleep', 'die', 'kill', 'swim', 'fly', 'walk', 'come', 'lie', 'sit', 'stand', 'give', 'say', 'sun', 'moon', 'star', 'water', 'rain', 'stone', 'sand', 'earth', 'cloud', 'smoke', 'fire', 'ashes', 'burn', 'path', 'mountain', 'red', 'green', 'yellow', 'white', 'black', 'night', 'hot', 'cold', 'full', 'new', 'good', 'round', 'dry', 'name']"
   ]
  },
  {
   "cell_type": "code",
   "execution_count": 21,
   "id": "35828220-0d08-4564-80f4-a1193fa6f5bc",
   "metadata": {
    "tags": []
   },
   "outputs": [],
   "source": [
    "# creating an empty dictionary\n",
    "en_vectors = ({})\n",
    "# for every word in the Swadesh list, get its vector and put them in the dictionary\n",
    "for key in swadesh:\n",
    "    en_vectors[key] = wv.get_vector(key)"
   ]
  },
  {
   "cell_type": "code",
   "execution_count": 24,
   "id": "0912f8a9-9e49-46be-acbe-927a861a3746",
   "metadata": {
    "tags": []
   },
   "outputs": [],
   "source": [
    "# put the dictionary into a text file by converting it into a string\n",
    "with open(\"data/english/en_vectors.csv\", \"w\") as f:\n",
    "    w = csv.DictWriter(f, en_vectors.keys())\n",
    "    w.writeheader()\n",
    "    w.writerow(en_vectors)"
   ]
  },
  {
   "cell_type": "markdown",
   "id": "e1bddbe0-14bf-4733-bd08-483cdd228ec8",
   "metadata": {},
   "source": [
    "## Latin"
   ]
  },
  {
   "cell_type": "code",
   "execution_count": 25,
   "id": "ee385b04-7ad8-437d-ba51-16dc2710ac9c",
   "metadata": {
    "tags": []
   },
   "outputs": [],
   "source": [
    "with open (\"texts/latintexts/latin_corpus.txt\", 'r', encoding=\"ISO-8859-1\") as f:\n",
    "  text = f.read()\n",
    "    \n",
    "lat_corpus = tokenize_corpus(text)"
   ]
  },
  {
   "cell_type": "code",
   "execution_count": 27,
   "id": "5f90763c-e086-4be6-a1bf-8be3f0632512",
   "metadata": {
    "tags": []
   },
   "outputs": [],
   "source": [
    "# Creating a word2vec model based on our Latin corpus\n",
    "la_model = Word2Vec(sentences = lat_corpus, \n",
    "                 vector_size = 100, \n",
    "                 window = 20,\n",
    "                 epochs = 100)"
   ]
  },
  {
   "cell_type": "code",
   "execution_count": 28,
   "id": "9710d51e-52fd-4740-b527-9ef9b0db3870",
   "metadata": {
    "tags": []
   },
   "outputs": [],
   "source": [
    "latin_swadesh = ['ego', 'tu','nos','cis','istud','qui','quid','non','omnis','multi','unus','duo','magnus','longus','minutus','femina','vir','persona','piscis','avis','canis','pedis','dryas','semen','folium','radix','cortex','cutis','membrana','sanguis','os','medulla','ovum','cornu','cauda','pluma','pilus','caput','auris','oculus','nasus','os','gemma','lingua','unguis','pes','genu','manus','uterus','monile','pectora','cor','iecur','bibere','edere','mordeo','cautio','cautio','cognoscere','somnus','funus','caedo','nare','volare','pontis','venire','lectus','sedere','stare','dare','inquam','sol','mensis','stella','aqua','pluvia','lapis','harena','solum','nimbus','fumus','ignis','ardere','ardere','pontis','mons','rubeus','gramen','flavo','albus','ater','nox','calidus','gelu','plenus','novus','bonus','circularis','siccus','nomen']"
   ]
  },
  {
   "cell_type": "code",
   "execution_count": 29,
   "id": "7a4ea973-610c-4f34-8f0c-240adf468799",
   "metadata": {
    "tags": []
   },
   "outputs": [],
   "source": [
    "# creating an empty dictionary\n",
    "la_vectors = ({})\n",
    "# for every word in the Swadesh list, get its vector and put them in the dictionary\n",
    "for key in latin_swadesh:\n",
    "    la_vectors[key] = la_model.wv.get_vector(key)"
   ]
  },
  {
   "cell_type": "code",
   "execution_count": 30,
   "id": "6ed5991c-e983-4622-b3d4-01a0a2854efc",
   "metadata": {
    "tags": []
   },
   "outputs": [],
   "source": [
    "with open(\"data/latin/latin_swadesh_vectors.csv\", \"w\") as f:\n",
    "    w = csv.DictWriter(f, la_vectors.keys())\n",
    "    w.writeheader()\n",
    "    w.writerow(la_vectors)"
   ]
  },
  {
   "cell_type": "markdown",
   "id": "abd3744c-8450-4ae0-9e0c-ffc21924f90a",
   "metadata": {},
   "source": [
    "## Old English"
   ]
  },
  {
   "cell_type": "code",
   "execution_count": 45,
   "id": "e00ea981-56a7-4e32-966f-37b16fc463e3",
   "metadata": {
    "tags": []
   },
   "outputs": [],
   "source": [
    "with open (\"texts/oe_texts/oecorpus.txt\", 'r', encoding='utf-8') as f:\n",
    "  text = f.read()\n",
    "  \n",
    "oldenglish_corpus = tokenize_corpus(text)"
   ]
  },
  {
   "cell_type": "code",
   "execution_count": 46,
   "id": "ad996897-6c95-4b91-9ec3-a026481f867b",
   "metadata": {
    "tags": []
   },
   "outputs": [],
   "source": [
    "# Creating a word2vec model based on our OE corpus\n",
    "oe_model = Word2Vec(sentences = oldenglish_corpus, \n",
    "                 vector_size = 100, \n",
    "                 window = 20,\n",
    "                 epochs = 100,\n",
    "                 min_count = 1)"
   ]
  },
  {
   "cell_type": "code",
   "execution_count": 47,
   "id": "bd8627b5-7168-4df2-a292-2620c618f76c",
   "metadata": {
    "tags": []
   },
   "outputs": [],
   "source": [
    "oe_swadesh = ['ic', 'ðu', 'us', 'he', 'ðæt', 'ne', 'manig', 'twegen', 'micel', 'lang', 'min', 'cwen', 'mann', 'mann', 'fisc', 'hund', 'treow', 'blæd', 'gelynd','æg', 'horn', 'hær', 'heafod', 'eare', 'eage', 'muþ', 'tunge', 'clea', 'fot', 'cneow', 'mund', 'sweora', 'heorte', 'drincan', 'etan', 'bitan', 'seon', 'gehiran', 'cunnan', 'swefan', 'dead','fleogan', 'findan', 'cuman', 'licgan', 'sittan', 'standan', 'sæcgan', 'sunne', 'mona', 'steorra', 'ea', 'regn', 'stan', 'eorþe', 'neowol', 'þrosm', 'axe', 'bærnan', 'findan', 'beorg', 'read', 'grene', 'geolo', 'hwit', 'niht', 'wearm', 'ceald', 'full', 'niwe', 'betra', 'dryge', 'nama']"
   ]
  },
  {
   "cell_type": "code",
   "execution_count": 48,
   "id": "71755302-a327-4264-afe1-d730ccd31404",
   "metadata": {
    "tags": []
   },
   "outputs": [],
   "source": [
    "# creating an empty dictionary\n",
    "oe_vectors = ({})\n",
    "#for every word in the Swadesh list, get its vector and put them in the dictionary\n",
    "for key in oe_swadesh:\n",
    "    oe_vectors[key] = oe_model.wv.get_vector(key)"
   ]
  },
  {
   "cell_type": "code",
   "execution_count": 49,
   "id": "3e4c3962-4b87-446b-9c87-716fbcc29b37",
   "metadata": {
    "tags": []
   },
   "outputs": [],
   "source": [
    "with open(\"data/old_english/oe_swadesh_vectors.csv\", \"w\", encoding='utf-8') as f:\n",
    "    w = csv.DictWriter(f, oe_vectors.keys())\n",
    "    w.writeheader()\n",
    "    w.writerow(oe_vectors)"
   ]
  },
  {
   "cell_type": "markdown",
   "id": "226fc979-cba6-4209-b468-d9fb1113ebc9",
   "metadata": {},
   "source": [
    "## Sanskrit"
   ]
  },
  {
   "cell_type": "code",
   "execution_count": null,
   "id": "7ec584d6-0ebb-4f11-a38d-1968f6d46f19",
   "metadata": {
    "tags": []
   },
   "outputs": [],
   "source": [
    "with open (\"texts/ss_texts/sanskritcorpus.txt\", 'r', encoding = 'utf-8') as f:\n",
    "  text = f.read()\n",
    "  \n",
    "sanskrit_corpus = tokenize_corpus(text)"
   ]
  },
  {
   "cell_type": "code",
   "execution_count": null,
   "id": "c4d989f4-02f0-49ee-8182-e4e3a2cbe6b1",
   "metadata": {
    "tags": []
   },
   "outputs": [],
   "source": [
    "ss_model = Word2Vec(sentences = sanskrit_corpus, \n",
    "                 vector_size = 100, \n",
    "                 window = 20,\n",
    "                 epochs = 100)"
   ]
  },
  {
   "cell_type": "markdown",
   "id": "a7049945-741e-471b-93b6-33fae59fa70b",
   "metadata": {
    "tags": []
   },
   "source": [
    "### Our current Sanskrit corpus does not contain several words within the Swadesh list, will need to fix the list and/or find a bigger corpus"
   ]
  },
  {
   "cell_type": "markdown",
   "id": "e2c167aa-a45b-409f-9f9c-e085baa9c26c",
   "metadata": {},
   "source": [
    "## Greek"
   ]
  },
  {
   "cell_type": "code",
   "execution_count": null,
   "id": "a8dffe53-998d-4743-98c4-87c78473f334",
   "metadata": {
    "tags": []
   },
   "outputs": [],
   "source": [
    "with open (\"texts/gr_texts/greekcorpus.txt\", 'r', encoding='utf-8') as f:\n",
    "  text = f.read()\n",
    "  \n",
    "greek_corpus = tokenize_corpus(text)"
   ]
  },
  {
   "cell_type": "code",
   "execution_count": null,
   "id": "3dc05109-51fa-4e16-887c-2fa97c71cab7",
   "metadata": {
    "tags": []
   },
   "outputs": [],
   "source": [
    "gr_model = Word2Vec(sentences = greek_corpus, \n",
    "                 vector_size = 100, \n",
    "                 window = 20,\n",
    "                 epochs = 100)"
   ]
  },
  {
   "cell_type": "markdown",
   "id": "1c7305d3-36e2-4f62-ad96-a1e8b22bbfe2",
   "metadata": {
    "tags": []
   },
   "source": [
    "### Our current Greek corpus does not contain several words within the Swadesh list, will need to fix the list and/or find a bigger corpus"
   ]
  },
  {
   "cell_type": "markdown",
   "id": "bc99ec15-2aca-4781-aab7-b02f0273c285",
   "metadata": {},
   "source": [
    "## CLTK Latin"
   ]
  },
  {
   "cell_type": "markdown",
   "id": "0bfbb1dc-885e-4173-bc04-6200f5da78fb",
   "metadata": {},
   "source": [
    "### NLP-ing our Latin Corpus"
   ]
  },
  {
   "cell_type": "code",
   "execution_count": 126,
   "id": "432c6cfd-6af8-4022-87ea-4110fb0ca4b3",
   "metadata": {
    "tags": []
   },
   "outputs": [],
   "source": [
    "from cltk.data.fetch import FetchCorpus\n",
    "corpus_downloader = FetchCorpus(language=\"lat\")\n",
    "corpus_downloader.list_corpora\n",
    "corpus_downloader.import_corpus(\"lat_text_perseus\")"
   ]
  },
  {
   "cell_type": "code",
   "execution_count": 127,
   "id": "0b19a6ba-3761-457b-87fa-131fc6fcf77e",
   "metadata": {
    "tags": []
   },
   "outputs": [],
   "source": [
    "with open(\"texts/latintexts/latin_corpus.txt\", encoding='utf-8') as f:\n",
    "    latin_full = f.read()"
   ]
  },
  {
   "cell_type": "code",
   "execution_count": 128,
   "id": "8eb14fa5-5829-461d-bf2b-08397b146153",
   "metadata": {
    "tags": []
   },
   "outputs": [
    {
     "name": "stdout",
     "output_type": "stream",
     "text": [
      "27394534\n",
      "2739453\n"
     ]
    }
   ],
   "source": [
    "latin_part = latin_full[:len(latin_full) // 10]\n",
    "print(len(latin_full))\n",
    "print(len(latin_part))"
   ]
  },
  {
   "cell_type": "code",
   "execution_count": 129,
   "id": "1db987be-ca50-4882-a114-27d13e7d1863",
   "metadata": {
    "tags": []
   },
   "outputs": [],
   "source": [
    "from cltk.core.data_types import Process, Pipeline\n",
    "from cltk.tokenizers import LatinTokenizationProcess\n",
    "from cltk.lemmatize import LatinLemmatizationProcess\n",
    "from cltk.languages.utils import get_lang"
   ]
  },
  {
   "cell_type": "code",
   "execution_count": 130,
   "id": "ead2e98b-ee7d-485c-a790-32697f2e641e",
   "metadata": {
    "tags": []
   },
   "outputs": [],
   "source": [
    "pipe = Pipeline(description=\"A custom Latin pipeline\",     processes=[LatinTokenizationProcess, LatinLemmatizationProcess],     language=get_lang(\"lat\"))"
   ]
  },
  {
   "cell_type": "code",
   "execution_count": 131,
   "id": "89db0bd9-bf30-4116-baf5-eb29cca9a7c9",
   "metadata": {
    "tags": []
   },
   "outputs": [],
   "source": [
    "nlp = NLP(language='lat', custom_pipeline=pipe, suppress_banner=True)"
   ]
  },
  {
   "cell_type": "code",
   "execution_count": 132,
   "id": "fe160337-6424-4441-ac4a-79a6b02f7c7d",
   "metadata": {
    "tags": []
   },
   "outputs": [],
   "source": [
    "latin_corpus = \"texts/latintexts/latin_corpus.txt\""
   ]
  },
  {
   "cell_type": "code",
   "execution_count": 134,
   "id": "435bf03a-8dd7-42e6-bf01-1bb820a6317d",
   "metadata": {
    "tags": []
   },
   "outputs": [
    {
     "name": "stdout",
     "output_type": "stream",
     "text": [
      "[':', 'David', 'Paniagua', 'Codifica', 'XML', ':', 'David', 'Paniagua', '2011', 'digilibLT']\n"
     ]
    }
   ],
   "source": [
    "cltk_latin = nlp(text=latin_part).lemmata\n",
    "print(cltk_latin[30:40])"
   ]
  },
  {
   "cell_type": "code",
   "execution_count": null,
   "id": "23c08320-cdc3-4365-a0e8-32ee487e529e",
   "metadata": {
    "tags": []
   },
   "outputs": [],
   "source": [
    "with open(\"texts/latintexts/nlp_latin.txt\", \"w\", encoding='utf-8') as f:\n",
    "    f.write(str(cltk_latin))"
   ]
  },
  {
   "cell_type": "markdown",
   "id": "9db55d66-2893-4193-86a0-24cb7aa59d16",
   "metadata": {},
   "source": [
    "## CLTK Old English"
   ]
  },
  {
   "cell_type": "code",
   "execution_count": null,
   "id": "4ed882fa-e3f6-420a-aa9f-596973e89144",
   "metadata": {
    "tags": []
   },
   "outputs": [],
   "source": [
    "### NLP-ing our OE corpus"
   ]
  },
  {
   "cell_type": "code",
   "execution_count": 147,
   "id": "8a4ff403-c545-40e3-81c3-e6f34bf565ce",
   "metadata": {
    "tags": []
   },
   "outputs": [],
   "source": [
    "from cltk.data.fetch import FetchCorpus"
   ]
  },
  {
   "cell_type": "code",
   "execution_count": 148,
   "id": "6ccf1533-8509-411c-bc16-72ba6745696a",
   "metadata": {
    "tags": []
   },
   "outputs": [],
   "source": [
    "oe_corpus_downloader = FetchCorpus(language=\"ang\")"
   ]
  },
  {
   "cell_type": "code",
   "execution_count": 149,
   "id": "46ef1c47-9f02-4264-8d91-e265c49a091d",
   "metadata": {
    "tags": []
   },
   "outputs": [
    {
     "data": {
      "text/plain": [
       "['old_english_text_sacred_texts', 'ang_models_cltk']"
      ]
     },
     "execution_count": 149,
     "metadata": {},
     "output_type": "execute_result"
    }
   ],
   "source": [
    "oe_corpus_downloader.list_corpora"
   ]
  },
  {
   "cell_type": "code",
   "execution_count": 150,
   "id": "2477ac61-82d5-4644-9f91-15c8765ecf6d",
   "metadata": {
    "tags": []
   },
   "outputs": [],
   "source": [
    "oe_corpus_downloader.import_corpus('old_english_text_sacred_texts')"
   ]
  },
  {
   "cell_type": "code",
   "execution_count": 151,
   "id": "2265c5c7-8a09-4ff9-bb72-b256a4386b83",
   "metadata": {
    "tags": []
   },
   "outputs": [
    {
     "name": "stdout",
     "output_type": "stream",
     "text": [
      "‎𐤀 CLTK version '1.1.6'.\n",
      "Pipeline for language 'Old English (ca. 450-1100)' (ISO: 'ang'): `MultilingualTokenizationProcess`, `OldEnglishLemmatizationProcess`, `OldEnglishEmbeddingsProcess`, `StopsProcess`.\n"
     ]
    }
   ],
   "source": [
    "cltk_nlp_oe=NLP(\"ang\")"
   ]
  },
  {
   "cell_type": "code",
   "execution_count": 152,
   "id": "7de4f57d-3fe9-4580-86d5-9668d096d610",
   "metadata": {
    "tags": []
   },
   "outputs": [],
   "source": [
    "oe_corpus_downloader.import_corpus('old_english_text_sacred_texts', r'C:\\Users\\gpwal\\cltk_data\\ang\\html\\old_english_text_sacred_texts')"
   ]
  },
  {
   "cell_type": "code",
   "execution_count": null,
   "id": "b0a51515-6bfe-4d82-ba86-ad3df7517bae",
   "metadata": {
    "tags": []
   },
   "outputs": [],
   "source": [
    "#with open(r\"C:\\Users\\gpwal\\cltk_data\\ang\\model\\ang_models_cltk\\texts\\oe\\oe_all.txt\", encoding ='utf-8') as f:\n",
    " #   cltk_nlp_oe.analyze(text=f)"
   ]
  },
  {
   "cell_type": "code",
   "execution_count": null,
   "id": "5d2dc555-c6d4-47cf-abab-1e2456ca4292",
   "metadata": {
    "tags": []
   },
   "outputs": [],
   "source": [
    "#with open(f\"{directory_path}/oe_texts/cltk_oe_texts.txt\", 'w', encoding='utf-8') as f:\n",
    " #   f.write(str(cltk_doc_oe))"
   ]
  },
  {
   "cell_type": "markdown",
   "id": "d9cb7e46-5382-48aa-bde7-a9ccc03a1247",
   "metadata": {},
   "source": [
    "## CLTK Sanskrit"
   ]
  },
  {
   "cell_type": "code",
   "execution_count": 135,
   "id": "82561db3-65be-4936-8648-7e916ef95b07",
   "metadata": {
    "tags": []
   },
   "outputs": [],
   "source": [
    "ss_corpus_downloader =  FetchCorpus(language=\"san\")"
   ]
  },
  {
   "cell_type": "code",
   "execution_count": 136,
   "id": "d96635f5-d968-4d27-acaa-6e9217f2bad0",
   "metadata": {
    "tags": []
   },
   "outputs": [
    {
     "data": {
      "text/plain": [
       "['sanskrit_text_jnu',\n",
       " 'sanskrit_text_dcs',\n",
       " 'sanskrit_parallel_sacred_texts',\n",
       " 'sanskrit_text_sacred_texts',\n",
       " 'sanskrit_parallel_gitasupersite',\n",
       " 'sanskrit_text_gitasupersite',\n",
       " 'sanskrit_text_wikipedia',\n",
       " 'sanskrit_text_sanskrit_documents',\n",
       " 'san_models_cltk']"
      ]
     },
     "execution_count": 136,
     "metadata": {},
     "output_type": "execute_result"
    }
   ],
   "source": [
    "ss_corpus_downloader.list_corpora"
   ]
  },
  {
   "cell_type": "code",
   "execution_count": 137,
   "id": "4ff2701e-b2c0-46bc-8838-fe1f1e7f011e",
   "metadata": {
    "tags": []
   },
   "outputs": [],
   "source": [
    "ss_corpus_downloader.import_corpus('sanskrit_text_sacred_texts')"
   ]
  },
  {
   "cell_type": "code",
   "execution_count": 273,
   "id": "4ef16074-3209-4be8-8371-964a3eb2c09f",
   "metadata": {
    "collapsed": true,
    "jupyter": {
     "outputs_hidden": true
    },
    "tags": []
   },
   "outputs": [
    {
     "ename": "GitCommandError",
     "evalue": "Cmd('git') failed due to: exit code(128)\n  cmdline: git clone -v --branch=master --depth=1 --progress -- https://github.com/cltk/sanskrit_text_dcs.git C:\\Users\\gpwal\\cltk_data\\san\\text\\sanskrit_text_dcs",
     "output_type": "error",
     "traceback": [
      "\u001b[1;31m---------------------------------------------------------------------------\u001b[0m",
      "\u001b[1;31mGitCommandError\u001b[0m                           Traceback (most recent call last)",
      "Cell \u001b[1;32mIn[273], line 1\u001b[0m\n\u001b[1;32m----> 1\u001b[0m \u001b[43mss_corpus_downloader\u001b[49m\u001b[38;5;241;43m.\u001b[39;49m\u001b[43mimport_corpus\u001b[49m\u001b[43m(\u001b[49m\u001b[38;5;124;43m'\u001b[39;49m\u001b[38;5;124;43msanskrit_text_dcs\u001b[39;49m\u001b[38;5;124;43m'\u001b[39;49m\u001b[43m)\u001b[49m\n",
      "File \u001b[1;32m~\\AppData\\Roaming\\jupyterlab-desktop\\jlab_server\\lib\\site-packages\\cltk\\data\\fetch.py:767\u001b[0m, in \u001b[0;36mFetchCorpus.import_corpus\u001b[1;34m(self, corpus_name, local_path, branch)\u001b[0m\n\u001b[0;32m    765\u001b[0m     msg \u001b[38;5;241m=\u001b[39m \u001b[38;5;124m\"\u001b[39m\u001b[38;5;124mCloning \u001b[39m\u001b[38;5;124m'\u001b[39m\u001b[38;5;132;01m{}\u001b[39;00m\u001b[38;5;124m'\u001b[39m\u001b[38;5;124m from \u001b[39m\u001b[38;5;124m'\u001b[39m\u001b[38;5;132;01m{}\u001b[39;00m\u001b[38;5;124m'\u001b[39m\u001b[38;5;124m\"\u001b[39m\u001b[38;5;241m.\u001b[39mformat(corpus_name, git_uri)\n\u001b[0;32m    766\u001b[0m     logger\u001b[38;5;241m.\u001b[39minfo(msg)\n\u001b[1;32m--> 767\u001b[0m     \u001b[43mRepo\u001b[49m\u001b[38;5;241;43m.\u001b[39;49m\u001b[43mclone_from\u001b[49m\u001b[43m(\u001b[49m\n\u001b[0;32m    768\u001b[0m \u001b[43m        \u001b[49m\u001b[43mgit_uri\u001b[49m\u001b[43m,\u001b[49m\n\u001b[0;32m    769\u001b[0m \u001b[43m        \u001b[49m\u001b[43mtarget_dir\u001b[49m\u001b[43m,\u001b[49m\n\u001b[0;32m    770\u001b[0m \u001b[43m        \u001b[49m\u001b[43mbranch\u001b[49m\u001b[38;5;241;43m=\u001b[39;49m\u001b[43mbranch\u001b[49m\u001b[43m,\u001b[49m\n\u001b[0;32m    771\u001b[0m \u001b[43m        \u001b[49m\u001b[43mdepth\u001b[49m\u001b[38;5;241;43m=\u001b[39;49m\u001b[38;5;241;43m1\u001b[39;49m\u001b[43m,\u001b[49m\n\u001b[0;32m    772\u001b[0m \u001b[43m        \u001b[49m\u001b[43mprogress\u001b[49m\u001b[38;5;241;43m=\u001b[39;49m\u001b[43mProgressPrinter\u001b[49m\u001b[43m(\u001b[49m\u001b[43m)\u001b[49m\u001b[43m,\u001b[49m\n\u001b[0;32m    773\u001b[0m \u001b[43m    \u001b[49m\u001b[43m)\u001b[49m\n\u001b[0;32m    774\u001b[0m \u001b[38;5;28;01mexcept\u001b[39;00m CorpusImportError \u001b[38;5;28;01mas\u001b[39;00m corpus_imp_err:\n\u001b[0;32m    775\u001b[0m     msg \u001b[38;5;241m=\u001b[39m \u001b[38;5;124m\"\u001b[39m\u001b[38;5;124mGit clone of \u001b[39m\u001b[38;5;124m'\u001b[39m\u001b[38;5;132;01m{}\u001b[39;00m\u001b[38;5;124m'\u001b[39m\u001b[38;5;124m failed: \u001b[39m\u001b[38;5;124m'\u001b[39m\u001b[38;5;132;01m{}\u001b[39;00m\u001b[38;5;124m'\u001b[39m\u001b[38;5;124m\"\u001b[39m\u001b[38;5;241m.\u001b[39mformat(\n\u001b[0;32m    776\u001b[0m         git_uri, corpus_imp_err\n\u001b[0;32m    777\u001b[0m     )\n",
      "File \u001b[1;32m~\\AppData\\Roaming\\jupyterlab-desktop\\jlab_server\\lib\\site-packages\\git\\repo\\base.py:1325\u001b[0m, in \u001b[0;36mRepo.clone_from\u001b[1;34m(cls, url, to_path, progress, env, multi_options, allow_unsafe_protocols, allow_unsafe_options, **kwargs)\u001b[0m\n\u001b[0;32m   1323\u001b[0m \u001b[38;5;28;01mif\u001b[39;00m env \u001b[38;5;129;01mis\u001b[39;00m \u001b[38;5;129;01mnot\u001b[39;00m \u001b[38;5;28;01mNone\u001b[39;00m:\n\u001b[0;32m   1324\u001b[0m     git\u001b[38;5;241m.\u001b[39mupdate_environment(\u001b[38;5;241m*\u001b[39m\u001b[38;5;241m*\u001b[39menv)\n\u001b[1;32m-> 1325\u001b[0m \u001b[38;5;28;01mreturn\u001b[39;00m \u001b[38;5;28;43mcls\u001b[39;49m\u001b[38;5;241;43m.\u001b[39;49m\u001b[43m_clone\u001b[49m\u001b[43m(\u001b[49m\n\u001b[0;32m   1326\u001b[0m \u001b[43m    \u001b[49m\u001b[43mgit\u001b[49m\u001b[43m,\u001b[49m\n\u001b[0;32m   1327\u001b[0m \u001b[43m    \u001b[49m\u001b[43murl\u001b[49m\u001b[43m,\u001b[49m\n\u001b[0;32m   1328\u001b[0m \u001b[43m    \u001b[49m\u001b[43mto_path\u001b[49m\u001b[43m,\u001b[49m\n\u001b[0;32m   1329\u001b[0m \u001b[43m    \u001b[49m\u001b[43mGitCmdObjectDB\u001b[49m\u001b[43m,\u001b[49m\n\u001b[0;32m   1330\u001b[0m \u001b[43m    \u001b[49m\u001b[43mprogress\u001b[49m\u001b[43m,\u001b[49m\n\u001b[0;32m   1331\u001b[0m \u001b[43m    \u001b[49m\u001b[43mmulti_options\u001b[49m\u001b[43m,\u001b[49m\n\u001b[0;32m   1332\u001b[0m \u001b[43m    \u001b[49m\u001b[43mallow_unsafe_protocols\u001b[49m\u001b[38;5;241;43m=\u001b[39;49m\u001b[43mallow_unsafe_protocols\u001b[49m\u001b[43m,\u001b[49m\n\u001b[0;32m   1333\u001b[0m \u001b[43m    \u001b[49m\u001b[43mallow_unsafe_options\u001b[49m\u001b[38;5;241;43m=\u001b[39;49m\u001b[43mallow_unsafe_options\u001b[49m\u001b[43m,\u001b[49m\n\u001b[0;32m   1334\u001b[0m \u001b[43m    \u001b[49m\u001b[38;5;241;43m*\u001b[39;49m\u001b[38;5;241;43m*\u001b[39;49m\u001b[43mkwargs\u001b[49m\u001b[43m,\u001b[49m\n\u001b[0;32m   1335\u001b[0m \u001b[43m\u001b[49m\u001b[43m)\u001b[49m\n",
      "File \u001b[1;32m~\\AppData\\Roaming\\jupyterlab-desktop\\jlab_server\\lib\\site-packages\\git\\repo\\base.py:1221\u001b[0m, in \u001b[0;36mRepo._clone\u001b[1;34m(cls, git, url, path, odb_default_type, progress, multi_options, allow_unsafe_protocols, allow_unsafe_options, **kwargs)\u001b[0m\n\u001b[0;32m   1209\u001b[0m proc \u001b[38;5;241m=\u001b[39m git\u001b[38;5;241m.\u001b[39mclone(\n\u001b[0;32m   1210\u001b[0m     multi,\n\u001b[0;32m   1211\u001b[0m     \u001b[38;5;124m\"\u001b[39m\u001b[38;5;124m--\u001b[39m\u001b[38;5;124m\"\u001b[39m,\n\u001b[1;32m   (...)\u001b[0m\n\u001b[0;32m   1218\u001b[0m     \u001b[38;5;241m*\u001b[39m\u001b[38;5;241m*\u001b[39madd_progress(kwargs, git, progress),\n\u001b[0;32m   1219\u001b[0m )\n\u001b[0;32m   1220\u001b[0m \u001b[38;5;28;01mif\u001b[39;00m progress:\n\u001b[1;32m-> 1221\u001b[0m     \u001b[43mhandle_process_output\u001b[49m\u001b[43m(\u001b[49m\n\u001b[0;32m   1222\u001b[0m \u001b[43m        \u001b[49m\u001b[43mproc\u001b[49m\u001b[43m,\u001b[49m\n\u001b[0;32m   1223\u001b[0m \u001b[43m        \u001b[49m\u001b[38;5;28;43;01mNone\u001b[39;49;00m\u001b[43m,\u001b[49m\n\u001b[0;32m   1224\u001b[0m \u001b[43m        \u001b[49m\u001b[43mto_progress_instance\u001b[49m\u001b[43m(\u001b[49m\u001b[43mprogress\u001b[49m\u001b[43m)\u001b[49m\u001b[38;5;241;43m.\u001b[39;49m\u001b[43mnew_message_handler\u001b[49m\u001b[43m(\u001b[49m\u001b[43m)\u001b[49m\u001b[43m,\u001b[49m\n\u001b[0;32m   1225\u001b[0m \u001b[43m        \u001b[49m\u001b[43mfinalize_process\u001b[49m\u001b[43m,\u001b[49m\n\u001b[0;32m   1226\u001b[0m \u001b[43m        \u001b[49m\u001b[43mdecode_streams\u001b[49m\u001b[38;5;241;43m=\u001b[39;49m\u001b[38;5;28;43;01mFalse\u001b[39;49;00m\u001b[43m,\u001b[49m\n\u001b[0;32m   1227\u001b[0m \u001b[43m    \u001b[49m\u001b[43m)\u001b[49m\n\u001b[0;32m   1228\u001b[0m \u001b[38;5;28;01melse\u001b[39;00m:\n\u001b[0;32m   1229\u001b[0m     (stdout, stderr) \u001b[38;5;241m=\u001b[39m proc\u001b[38;5;241m.\u001b[39mcommunicate()\n",
      "File \u001b[1;32m~\\AppData\\Roaming\\jupyterlab-desktop\\jlab_server\\lib\\site-packages\\git\\cmd.py:204\u001b[0m, in \u001b[0;36mhandle_process_output\u001b[1;34m(process, stdout_handler, stderr_handler, finalizer, decode_streams, kill_after_timeout)\u001b[0m\n\u001b[0;32m    201\u001b[0m             stderr_handler(error_str)  \u001b[38;5;66;03m# type: ignore\u001b[39;00m\n\u001b[0;32m    203\u001b[0m \u001b[38;5;28;01mif\u001b[39;00m finalizer:\n\u001b[1;32m--> 204\u001b[0m     \u001b[38;5;28;01mreturn\u001b[39;00m \u001b[43mfinalizer\u001b[49m\u001b[43m(\u001b[49m\u001b[43mprocess\u001b[49m\u001b[43m)\u001b[49m\n\u001b[0;32m    205\u001b[0m \u001b[38;5;28;01melse\u001b[39;00m:\n\u001b[0;32m    206\u001b[0m     \u001b[38;5;28;01mreturn\u001b[39;00m \u001b[38;5;28;01mNone\u001b[39;00m\n",
      "File \u001b[1;32m~\\AppData\\Roaming\\jupyterlab-desktop\\jlab_server\\lib\\site-packages\\git\\util.py:419\u001b[0m, in \u001b[0;36mfinalize_process\u001b[1;34m(proc, **kwargs)\u001b[0m\n\u001b[0;32m    417\u001b[0m \u001b[38;5;250m\u001b[39m\u001b[38;5;124;03m\"\"\"Wait for the process (clone, fetch, pull or push) and handle its errors accordingly\"\"\"\u001b[39;00m\n\u001b[0;32m    418\u001b[0m \u001b[38;5;66;03m# TODO: No close proc-streams??\u001b[39;00m\n\u001b[1;32m--> 419\u001b[0m \u001b[43mproc\u001b[49m\u001b[38;5;241;43m.\u001b[39;49m\u001b[43mwait\u001b[49m\u001b[43m(\u001b[49m\u001b[38;5;241;43m*\u001b[39;49m\u001b[38;5;241;43m*\u001b[39;49m\u001b[43mkwargs\u001b[49m\u001b[43m)\u001b[49m\n",
      "File \u001b[1;32m~\\AppData\\Roaming\\jupyterlab-desktop\\jlab_server\\lib\\site-packages\\git\\cmd.py:604\u001b[0m, in \u001b[0;36mGit.AutoInterrupt.wait\u001b[1;34m(self, stderr)\u001b[0m\n\u001b[0;32m    602\u001b[0m     errstr \u001b[38;5;241m=\u001b[39m read_all_from_possibly_closed_stream(p_stderr)\n\u001b[0;32m    603\u001b[0m     log\u001b[38;5;241m.\u001b[39mdebug(\u001b[38;5;124m\"\u001b[39m\u001b[38;5;124mAutoInterrupt wait stderr: \u001b[39m\u001b[38;5;132;01m%r\u001b[39;00m\u001b[38;5;124m\"\u001b[39m \u001b[38;5;241m%\u001b[39m (errstr,))\n\u001b[1;32m--> 604\u001b[0m     \u001b[38;5;28;01mraise\u001b[39;00m GitCommandError(remove_password_if_present(\u001b[38;5;28mself\u001b[39m\u001b[38;5;241m.\u001b[39margs), status, errstr)\n\u001b[0;32m    605\u001b[0m \u001b[38;5;28;01mreturn\u001b[39;00m status\n",
      "\u001b[1;31mGitCommandError\u001b[0m: Cmd('git') failed due to: exit code(128)\n  cmdline: git clone -v --branch=master --depth=1 --progress -- https://github.com/cltk/sanskrit_text_dcs.git C:\\Users\\gpwal\\cltk_data\\san\\text\\sanskrit_text_dcs"
     ]
    }
   ],
   "source": [
    "ss_corpus_downloader.import_corpus('sanskrit_text_dcs')"
   ]
  },
  {
   "cell_type": "code",
   "execution_count": 138,
   "id": "80710f4b-3d81-42c8-a571-92abdc77668e",
   "metadata": {
    "tags": []
   },
   "outputs": [
    {
     "name": "stdout",
     "output_type": "stream",
     "text": [
      "‎𐤀 CLTK version '1.1.6'.\n",
      "Pipeline for language 'Sanskrit' (ISO: 'san'): `MultilingualTokenizationProcess`, `SanskritEmbeddingsProcess`, `StopsProcess`.\n"
     ]
    }
   ],
   "source": [
    "cltk_nlp_ss=NLP(\"san\")"
   ]
  },
  {
   "cell_type": "code",
   "execution_count": 139,
   "id": "3e5301c1-ed69-419e-8961-3d7d65161229",
   "metadata": {
    "tags": []
   },
   "outputs": [],
   "source": [
    "with open(r\"C:\\Users\\gpwal\\cltk_data\\san\\text\\sanskrit_text_sacred_texts\\latin\\sanskritcorpus.txt\", 'r', encoding='utf-8') as f:\n",
    "    sanskrit_full = f.read()"
   ]
  },
  {
   "cell_type": "code",
   "execution_count": 140,
   "id": "37cb91bb-90e6-4e8b-9e78-716aa27471f4",
   "metadata": {
    "tags": []
   },
   "outputs": [
    {
     "name": "stdout",
     "output_type": "stream",
     "text": [
      "9036432\n",
      "903643\n"
     ]
    }
   ],
   "source": [
    "sanskrit_part = sanskrit_full[:len(sanskrit_full) // 10]\n",
    "print(len(sanskrit_full))\n",
    "print(len(sanskrit_part))"
   ]
  },
  {
   "cell_type": "code",
   "execution_count": 141,
   "id": "79f4f74a-34a5-4128-a45c-c4a0d3a7c82e",
   "metadata": {
    "tags": []
   },
   "outputs": [],
   "source": [
    "from cltk.languages.pipelines import SanskritPipeline"
   ]
  },
  {
   "cell_type": "code",
   "execution_count": 142,
   "id": "6d8115d7-0d86-460e-a795-31cf394266b2",
   "metadata": {
    "tags": []
   },
   "outputs": [],
   "source": [
    "ss_pipe = SanskritPipeline()"
   ]
  },
  {
   "cell_type": "code",
   "execution_count": 143,
   "id": "9e672aab-0797-4078-852d-89a9de02527c",
   "metadata": {
    "tags": []
   },
   "outputs": [],
   "source": [
    "ss_nlp = NLP(language='san', custom_pipeline=ss_pipe, suppress_banner=True)"
   ]
  },
  {
   "cell_type": "code",
   "execution_count": 144,
   "id": "91a39eb1-9260-4473-b985-f721aa8a7bfa",
   "metadata": {
    "tags": []
   },
   "outputs": [],
   "source": [
    "ss_corpus = r\"C:\\Users\\gpwal\\cltk_data\\san\\text\\sanskrit_text_sacred_texts\\latin\\sanskritcorpus.txt\""
   ]
  },
  {
   "cell_type": "code",
   "execution_count": 158,
   "id": "6223e243-2b61-47f3-8166-80db04eeab35",
   "metadata": {
    "tags": []
   },
   "outputs": [],
   "source": [
    "cltk_ss = ss_nlp(text=sanskrit_part)"
   ]
  },
  {
   "cell_type": "code",
   "execution_count": 159,
   "id": "493ef8c7-567a-469b-8fe5-2d68ed5a1b90",
   "metadata": {
    "tags": []
   },
   "outputs": [],
   "source": [
    "# this didn't seem to give what we wanted\n",
    "with open(f\"{directory_path}/ss_texts/nlp_ss.txt\", \"w\", encoding='utf-8') as f:\n",
    "    f.write(str(cltk_ss))"
   ]
  },
  {
   "cell_type": "markdown",
   "id": "b4d75c4e-33ca-48ce-bd22-787c376070d6",
   "metadata": {},
   "source": [
    "## Comparing Latin and English Vectors"
   ]
  },
  {
   "cell_type": "code",
   "execution_count": null,
   "id": "270a975f-bc79-43cf-86c6-bc408ec680d4",
   "metadata": {
    "tags": []
   },
   "outputs": [],
   "source": [
    "with open(f\"{directory_path}/la_en_compared.txt\", 'w') as f:\n",
    "    f.write(\"Latin Words: \\n\")\n",
    "    for key in latin_swadesh:\n",
    "        f.write(f\"{key} \\n\")\n",
    "        g = la_model.wv.most_similar(key)\n",
    "        f.write(str(g))\n",
    "        f.write(\"\\n \\n\")\n",
    "    f.write(\"\\n \\n English Words: \\n\")\n",
    "    for key in swadesh:\n",
    "        f.write(f\"{key} \\n\")\n",
    "        h = wv.most_similar(key)\n",
    "        f.write(str(h))\n",
    "        f.write(\"\\n \\n\")"
   ]
  },
  {
   "cell_type": "code",
   "execution_count": 180,
   "id": "03e9f8ab-e8da-4877-836c-19a7859eaf04",
   "metadata": {
    "tags": []
   },
   "outputs": [],
   "source": [
    "en_swadesh = ['i','you','we','this','that','who','what','not','all','many','one','two','big','long','small','woman','man','person','fish','bird','dog','louse','tree','seed','leaf','root','bark','skin','flesh','blood','bone','grease','egg','horn','tail','feather','hair','head','ear','eye','nose','mouth','tooth','tongue','claw','foot','knee','hand','belly','neck','breasts','heart','liver','drink','eat','bite','see','hear','know','sleep','die','kill','swim','fly','walk','come','lie','sit','stand','give','say','sun','moon','star','water','rain','stone','sand','earth','cloud','smoke','fire','ashes','burn','path','mountain','red','green','yellow','white','black','night','hot','cold','full','new','good','round','dry','name']"
   ]
  },
  {
   "cell_type": "code",
   "execution_count": 225,
   "id": "b692d35e-a336-4f6d-b3c7-82702ff94fb4",
   "metadata": {
    "tags": []
   },
   "outputs": [],
   "source": [
    "keybox = []\n",
    "def encosgetter():\n",
    "    with open(r\"C:\\Users\\gpwal\\Desktop\\en_cosines.txt\", 'w', encoding='utf-8') as f:\n",
    "        for key in en_swadesh:\n",
    "            if key in keybox:\n",
    "                en_swadesh.pop(key)\n",
    "            else:\n",
    "                keybox.append(key)\n",
    "                for i in en_swadesh:\n",
    "                    if i in keybox:\n",
    "                        pass\n",
    "                    else:\n",
    "                        f.write(str(i) + ',' + str(key) + ':' + str(wv.similarity(i, key))+'\\n')"
   ]
  },
  {
   "cell_type": "code",
   "execution_count": 207,
   "id": "079f9749-602e-43ee-9335-861803ee3912",
   "metadata": {
    "tags": []
   },
   "outputs": [],
   "source": [
    "encosgetter()"
   ]
  },
  {
   "cell_type": "code",
   "execution_count": 234,
   "id": "4764b8a0-15f8-4125-93be-5695ad8061ea",
   "metadata": {
    "tags": []
   },
   "outputs": [],
   "source": [
    "lakeybox = []\n",
    "def lacosgetter():\n",
    "    with open(r\"C:\\Users\\gpwal\\Desktop\\la_cosines.txt\", 'w', encoding='utf-8') as f:\n",
    "        for key in latin_swadesh:\n",
    "            if key in lakeybox:\n",
    "                latin_swadesh.pop(0)\n",
    "            else:\n",
    "                lakeybox.append(key)\n",
    "                for i in latin_swadesh:\n",
    "                    if i in lakeybox:\n",
    "                        pass\n",
    "                    else:\n",
    "                       # f.write(str(i) + ',' + str(key) + ':' + str(la_model.wv.similarity(i, key))+'\\n')\n",
    "                        f.write(str(la_model.wv.similarity(i, key))+'\\n')"
   ]
  },
  {
   "cell_type": "code",
   "execution_count": 235,
   "id": "2f611bf9-ef0e-4061-a6e7-daab86067208",
   "metadata": {
    "tags": []
   },
   "outputs": [],
   "source": [
    "lacosgetter()"
   ]
  },
  {
   "cell_type": "markdown",
   "id": "9ecc31d5-35ae-4f41-bd31-f8833a8383ea",
   "metadata": {},
   "source": [
    "## Comparing Latin and OE"
   ]
  },
  {
   "cell_type": "markdown",
   "id": "dd2fa591-5249-4aa3-83af-1c321187f976",
   "metadata": {},
   "source": [
    "### Getting OE cosign similarities for 92/100 Swadesh words"
   ]
  },
  {
   "cell_type": "code",
   "execution_count": 208,
   "id": "0827fc0d-1a64-4000-ac10-6ea45c960b7c",
   "metadata": {
    "tags": []
   },
   "outputs": [],
   "source": [
    "oe_swadesh = ['ic', 'ðu', 'us', 'he', 'ðæt', 'ne', 'manig', 'twegen', 'micel', 'lang', 'min', 'cwen', 'mann', 'mann', 'fisc', 'hund', 'treow', 'blæd', 'gelynd','æg', 'horn', 'hær', 'heafod', 'eare', 'eage', 'muþ', 'tunge', 'clea', 'fot', 'cneow', 'mund', 'sweora', 'heorte', 'drincan', 'etan', 'bitan', 'seon', 'gehiran', 'cunnan', 'swefan', 'dead','fleogan', 'findan', 'cuman', 'licgan', 'sittan', 'standan', 'sæcgan', 'sunne', 'mona', 'steorra', 'ea', 'regn', 'stan', 'eorþe', 'neowol', 'þrosm', 'axe', 'bærnan', 'findan', 'beorg', 'read', 'grene', 'geolo', 'hwit', 'niht', 'wearm', 'ceald', 'full', 'niwe', 'betra', 'dryge', 'nama']"
   ]
  },
  {
   "cell_type": "code",
   "execution_count": 221,
   "id": "0d89d71c-ce16-447a-ac5d-2d9bc9480ab2",
   "metadata": {
    "tags": []
   },
   "outputs": [],
   "source": [
    "oekeybox = []\n",
    "def oecosgetter():\n",
    "    with open(r\"C:\\Users\\gpwal\\Desktop\\oe_cosines.txt\", 'w', encoding='utf-8') as f:\n",
    "        for key in oe_swadesh:\n",
    "            if key in oekeybox:\n",
    "                oe_swadesh.pop(0)\n",
    "            else:\n",
    "                oekeybox.append(key)\n",
    "                for i in oe_swadesh:\n",
    "                    if i in oekeybox:\n",
    "                        pass\n",
    "                    else:\n",
    "                        f.write(str(i) + ',' + str(key) + ':' + str(oe_model.wv.similarity(i, key))+'\\n')\n",
    "        f.write(str(oekeybox))"
   ]
  },
  {
   "cell_type": "code",
   "execution_count": 222,
   "id": "ac45384a-75e9-4ad8-b4f7-bf89e4b26c41",
   "metadata": {
    "tags": []
   },
   "outputs": [],
   "source": [
    "oecosgetter()"
   ]
  },
  {
   "cell_type": "code",
   "execution_count": 615,
   "id": "d5919a97-0694-4b2f-a9fd-0b6a1572d21c",
   "metadata": {
    "tags": []
   },
   "outputs": [],
   "source": [
    "hundred_swadesh = ['siccus','nomen']"
   ]
  },
  {
   "cell_type": "code",
   "execution_count": 617,
   "id": "119d96f0-60e6-4beb-8c4d-077a888cdcb4",
   "metadata": {
    "tags": []
   },
   "outputs": [],
   "source": [
    "with open(r\"C:\\Users\\gpwal\\Desktop\\la_cosines.txt\", 'w', encoding='utf-8') as f:\n",
    "    for key in hundred_swadesh:\n",
    "        f.write(str(la_model.wv.similarity('siccus', key))+'\\n')"
   ]
  },
  {
   "cell_type": "code",
   "execution_count": 19,
   "id": "24140234-16c0-483f-b657-42352670273e",
   "metadata": {
    "tags": []
   },
   "outputs": [
    {
     "name": "stdout",
     "output_type": "stream",
     "text": [
      "Collecting openpyxl\n",
      "  Downloading openpyxl-3.1.2-py2.py3-none-any.whl (249 kB)\n",
      "                                              0.0/250.0 kB ? eta -:--:--\n",
      "                                              0.0/250.0 kB ? eta -:--:--\n",
      "     ----                                  30.7/250.0 kB 640.0 kB/s eta 0:00:01\n",
      "     ---------                             61.4/250.0 kB 656.4 kB/s eta 0:00:01\n",
      "     -----------------                    122.9/250.0 kB 901.1 kB/s eta 0:00:01\n",
      "     -------------------------------------- 250.0/250.0 kB 1.5 MB/s eta 0:00:00\n",
      "Collecting et-xmlfile (from openpyxl)\n",
      "  Downloading et_xmlfile-1.1.0-py3-none-any.whl (4.7 kB)\n",
      "Installing collected packages: et-xmlfile, openpyxl\n",
      "Successfully installed et-xmlfile-1.1.0 openpyxl-3.1.2\n",
      "Note: you may need to restart the kernel to use updated packages.\n"
     ]
    }
   ],
   "source": [
    "pip install openpyxl"
   ]
  },
  {
   "cell_type": "code",
   "execution_count": 16,
   "id": "36ad87ba-56b6-4af2-8317-646bd354a073",
   "metadata": {
    "tags": []
   },
   "outputs": [],
   "source": [
    "import pandas as pd"
   ]
  },
  {
   "cell_type": "code",
   "execution_count": 103,
   "id": "58b3c4e9-aef0-4293-bb9f-51359b5de3b6",
   "metadata": {
    "tags": []
   },
   "outputs": [],
   "source": [
    "latindataframe = pd.read_excel(r\"C:\\Users\\gpwal\\Desktop\\SURA\\la_cosines.xlsx\", sheet_name=0, index_col=None, na_values=False)"
   ]
  },
  {
   "cell_type": "code",
   "execution_count": 104,
   "id": "c6ad0d18-7d3e-4222-9e5f-6926be1fe253",
   "metadata": {
    "tags": []
   },
   "outputs": [],
   "source": [
    "ladf = latindataframe.iloc[:, 1:]"
   ]
  },
  {
   "cell_type": "code",
   "execution_count": 105,
   "id": "ed815a0d-6d78-498d-a773-b018f8790e8a",
   "metadata": {
    "tags": []
   },
   "outputs": [
    {
     "data": {
      "text/html": [
       "<div>\n",
       "<style scoped>\n",
       "    .dataframe tbody tr th:only-of-type {\n",
       "        vertical-align: middle;\n",
       "    }\n",
       "\n",
       "    .dataframe tbody tr th {\n",
       "        vertical-align: top;\n",
       "    }\n",
       "\n",
       "    .dataframe thead th {\n",
       "        text-align: right;\n",
       "    }\n",
       "</style>\n",
       "<table border=\"1\" class=\"dataframe\">\n",
       "  <thead>\n",
       "    <tr style=\"text-align: right;\">\n",
       "      <th></th>\n",
       "      <th>I</th>\n",
       "      <th>you</th>\n",
       "      <th>we</th>\n",
       "      <th>this</th>\n",
       "      <th>that</th>\n",
       "      <th>who?</th>\n",
       "      <th>what?</th>\n",
       "      <th>not</th>\n",
       "      <th>all</th>\n",
       "      <th>many</th>\n",
       "      <th>...</th>\n",
       "      <th>black</th>\n",
       "      <th>night</th>\n",
       "      <th>hot</th>\n",
       "      <th>cold</th>\n",
       "      <th>full</th>\n",
       "      <th>new</th>\n",
       "      <th>good</th>\n",
       "      <th>round</th>\n",
       "      <th>dry</th>\n",
       "      <th>name</th>\n",
       "    </tr>\n",
       "  </thead>\n",
       "  <tbody>\n",
       "    <tr>\n",
       "      <th>0</th>\n",
       "      <td>NaN</td>\n",
       "      <td>NaN</td>\n",
       "      <td>NaN</td>\n",
       "      <td>NaN</td>\n",
       "      <td>NaN</td>\n",
       "      <td>NaN</td>\n",
       "      <td>NaN</td>\n",
       "      <td>NaN</td>\n",
       "      <td>NaN</td>\n",
       "      <td>NaN</td>\n",
       "      <td>...</td>\n",
       "      <td>NaN</td>\n",
       "      <td>NaN</td>\n",
       "      <td>NaN</td>\n",
       "      <td>NaN</td>\n",
       "      <td>NaN</td>\n",
       "      <td>NaN</td>\n",
       "      <td>NaN</td>\n",
       "      <td>NaN</td>\n",
       "      <td>NaN</td>\n",
       "      <td>NaN</td>\n",
       "    </tr>\n",
       "    <tr>\n",
       "      <th>1</th>\n",
       "      <td>0.544908</td>\n",
       "      <td>NaN</td>\n",
       "      <td>NaN</td>\n",
       "      <td>NaN</td>\n",
       "      <td>NaN</td>\n",
       "      <td>NaN</td>\n",
       "      <td>NaN</td>\n",
       "      <td>NaN</td>\n",
       "      <td>NaN</td>\n",
       "      <td>NaN</td>\n",
       "      <td>...</td>\n",
       "      <td>NaN</td>\n",
       "      <td>NaN</td>\n",
       "      <td>NaN</td>\n",
       "      <td>NaN</td>\n",
       "      <td>NaN</td>\n",
       "      <td>NaN</td>\n",
       "      <td>NaN</td>\n",
       "      <td>NaN</td>\n",
       "      <td>NaN</td>\n",
       "      <td>NaN</td>\n",
       "    </tr>\n",
       "    <tr>\n",
       "      <th>2</th>\n",
       "      <td>0.312870</td>\n",
       "      <td>0.299855</td>\n",
       "      <td>NaN</td>\n",
       "      <td>NaN</td>\n",
       "      <td>NaN</td>\n",
       "      <td>NaN</td>\n",
       "      <td>NaN</td>\n",
       "      <td>NaN</td>\n",
       "      <td>NaN</td>\n",
       "      <td>NaN</td>\n",
       "      <td>...</td>\n",
       "      <td>NaN</td>\n",
       "      <td>NaN</td>\n",
       "      <td>NaN</td>\n",
       "      <td>NaN</td>\n",
       "      <td>NaN</td>\n",
       "      <td>NaN</td>\n",
       "      <td>NaN</td>\n",
       "      <td>NaN</td>\n",
       "      <td>NaN</td>\n",
       "      <td>NaN</td>\n",
       "    </tr>\n",
       "    <tr>\n",
       "      <th>3</th>\n",
       "      <td>0.055817</td>\n",
       "      <td>0.086633</td>\n",
       "      <td>0.314305</td>\n",
       "      <td>NaN</td>\n",
       "      <td>NaN</td>\n",
       "      <td>NaN</td>\n",
       "      <td>NaN</td>\n",
       "      <td>NaN</td>\n",
       "      <td>NaN</td>\n",
       "      <td>NaN</td>\n",
       "      <td>...</td>\n",
       "      <td>NaN</td>\n",
       "      <td>NaN</td>\n",
       "      <td>NaN</td>\n",
       "      <td>NaN</td>\n",
       "      <td>NaN</td>\n",
       "      <td>NaN</td>\n",
       "      <td>NaN</td>\n",
       "      <td>NaN</td>\n",
       "      <td>NaN</td>\n",
       "      <td>NaN</td>\n",
       "    </tr>\n",
       "    <tr>\n",
       "      <th>4</th>\n",
       "      <td>0.370825</td>\n",
       "      <td>0.502738</td>\n",
       "      <td>0.264221</td>\n",
       "      <td>0.080526</td>\n",
       "      <td>NaN</td>\n",
       "      <td>NaN</td>\n",
       "      <td>NaN</td>\n",
       "      <td>NaN</td>\n",
       "      <td>NaN</td>\n",
       "      <td>NaN</td>\n",
       "      <td>...</td>\n",
       "      <td>NaN</td>\n",
       "      <td>NaN</td>\n",
       "      <td>NaN</td>\n",
       "      <td>NaN</td>\n",
       "      <td>NaN</td>\n",
       "      <td>NaN</td>\n",
       "      <td>NaN</td>\n",
       "      <td>NaN</td>\n",
       "      <td>NaN</td>\n",
       "      <td>NaN</td>\n",
       "    </tr>\n",
       "    <tr>\n",
       "      <th>...</th>\n",
       "      <td>...</td>\n",
       "      <td>...</td>\n",
       "      <td>...</td>\n",
       "      <td>...</td>\n",
       "      <td>...</td>\n",
       "      <td>...</td>\n",
       "      <td>...</td>\n",
       "      <td>...</td>\n",
       "      <td>...</td>\n",
       "      <td>...</td>\n",
       "      <td>...</td>\n",
       "      <td>...</td>\n",
       "      <td>...</td>\n",
       "      <td>...</td>\n",
       "      <td>...</td>\n",
       "      <td>...</td>\n",
       "      <td>...</td>\n",
       "      <td>...</td>\n",
       "      <td>...</td>\n",
       "      <td>...</td>\n",
       "      <td>...</td>\n",
       "    </tr>\n",
       "    <tr>\n",
       "      <th>95</th>\n",
       "      <td>-0.191671</td>\n",
       "      <td>0.039225</td>\n",
       "      <td>-0.181005</td>\n",
       "      <td>-0.111448</td>\n",
       "      <td>-0.091186</td>\n",
       "      <td>-0.092863</td>\n",
       "      <td>-0.082766</td>\n",
       "      <td>-0.174769</td>\n",
       "      <td>0.014443</td>\n",
       "      <td>0.058463</td>\n",
       "      <td>...</td>\n",
       "      <td>0.159416</td>\n",
       "      <td>0.204198</td>\n",
       "      <td>0.102652</td>\n",
       "      <td>0.212046</td>\n",
       "      <td>-0.008237</td>\n",
       "      <td>NaN</td>\n",
       "      <td>NaN</td>\n",
       "      <td>NaN</td>\n",
       "      <td>NaN</td>\n",
       "      <td>NaN</td>\n",
       "    </tr>\n",
       "    <tr>\n",
       "      <th>96</th>\n",
       "      <td>0.018465</td>\n",
       "      <td>0.180097</td>\n",
       "      <td>0.009688</td>\n",
       "      <td>-0.064131</td>\n",
       "      <td>0.135996</td>\n",
       "      <td>0.194732</td>\n",
       "      <td>0.114797</td>\n",
       "      <td>0.192002</td>\n",
       "      <td>0.100327</td>\n",
       "      <td>0.018703</td>\n",
       "      <td>...</td>\n",
       "      <td>0.048462</td>\n",
       "      <td>0.082991</td>\n",
       "      <td>0.198504</td>\n",
       "      <td>-0.183914</td>\n",
       "      <td>0.131250</td>\n",
       "      <td>-0.120443</td>\n",
       "      <td>NaN</td>\n",
       "      <td>NaN</td>\n",
       "      <td>NaN</td>\n",
       "      <td>NaN</td>\n",
       "    </tr>\n",
       "    <tr>\n",
       "      <th>97</th>\n",
       "      <td>-0.136534</td>\n",
       "      <td>-0.084607</td>\n",
       "      <td>-0.073926</td>\n",
       "      <td>-0.130337</td>\n",
       "      <td>-0.069499</td>\n",
       "      <td>0.001035</td>\n",
       "      <td>0.025118</td>\n",
       "      <td>0.026889</td>\n",
       "      <td>0.150900</td>\n",
       "      <td>-0.096043</td>\n",
       "      <td>...</td>\n",
       "      <td>0.036229</td>\n",
       "      <td>0.285919</td>\n",
       "      <td>0.225559</td>\n",
       "      <td>0.021000</td>\n",
       "      <td>0.181853</td>\n",
       "      <td>0.142220</td>\n",
       "      <td>0.096916</td>\n",
       "      <td>NaN</td>\n",
       "      <td>NaN</td>\n",
       "      <td>NaN</td>\n",
       "    </tr>\n",
       "    <tr>\n",
       "      <th>98</th>\n",
       "      <td>-0.116682</td>\n",
       "      <td>-0.055338</td>\n",
       "      <td>0.008966</td>\n",
       "      <td>0.028429</td>\n",
       "      <td>0.075011</td>\n",
       "      <td>-0.033859</td>\n",
       "      <td>0.021521</td>\n",
       "      <td>0.145854</td>\n",
       "      <td>0.090141</td>\n",
       "      <td>-0.074379</td>\n",
       "      <td>...</td>\n",
       "      <td>0.252054</td>\n",
       "      <td>0.122005</td>\n",
       "      <td>0.473896</td>\n",
       "      <td>0.081594</td>\n",
       "      <td>0.085232</td>\n",
       "      <td>0.019322</td>\n",
       "      <td>0.220685</td>\n",
       "      <td>0.030865</td>\n",
       "      <td>NaN</td>\n",
       "      <td>NaN</td>\n",
       "    </tr>\n",
       "    <tr>\n",
       "      <th>99</th>\n",
       "      <td>0.006012</td>\n",
       "      <td>-0.184154</td>\n",
       "      <td>0.081367</td>\n",
       "      <td>-0.058055</td>\n",
       "      <td>0.115930</td>\n",
       "      <td>0.050511</td>\n",
       "      <td>0.300947</td>\n",
       "      <td>0.307662</td>\n",
       "      <td>0.182701</td>\n",
       "      <td>0.196728</td>\n",
       "      <td>...</td>\n",
       "      <td>-0.183677</td>\n",
       "      <td>-0.053900</td>\n",
       "      <td>0.013339</td>\n",
       "      <td>-0.141866</td>\n",
       "      <td>0.120873</td>\n",
       "      <td>-0.101129</td>\n",
       "      <td>0.076199</td>\n",
       "      <td>0.066825</td>\n",
       "      <td>-0.012415</td>\n",
       "      <td>NaN</td>\n",
       "    </tr>\n",
       "  </tbody>\n",
       "</table>\n",
       "<p>100 rows × 100 columns</p>\n",
       "</div>"
      ],
      "text/plain": [
       "           I       you        we      this      that      who?     what?   \n",
       "0        NaN       NaN       NaN       NaN       NaN       NaN       NaN  \\\n",
       "1   0.544908       NaN       NaN       NaN       NaN       NaN       NaN   \n",
       "2   0.312870  0.299855       NaN       NaN       NaN       NaN       NaN   \n",
       "3   0.055817  0.086633  0.314305       NaN       NaN       NaN       NaN   \n",
       "4   0.370825  0.502738  0.264221  0.080526       NaN       NaN       NaN   \n",
       "..       ...       ...       ...       ...       ...       ...       ...   \n",
       "95 -0.191671  0.039225 -0.181005 -0.111448 -0.091186 -0.092863 -0.082766   \n",
       "96  0.018465  0.180097  0.009688 -0.064131  0.135996  0.194732  0.114797   \n",
       "97 -0.136534 -0.084607 -0.073926 -0.130337 -0.069499  0.001035  0.025118   \n",
       "98 -0.116682 -0.055338  0.008966  0.028429  0.075011 -0.033859  0.021521   \n",
       "99  0.006012 -0.184154  0.081367 -0.058055  0.115930  0.050511  0.300947   \n",
       "\n",
       "         not       all      many  ...     black     night       hot      cold   \n",
       "0        NaN       NaN       NaN  ...       NaN       NaN       NaN       NaN  \\\n",
       "1        NaN       NaN       NaN  ...       NaN       NaN       NaN       NaN   \n",
       "2        NaN       NaN       NaN  ...       NaN       NaN       NaN       NaN   \n",
       "3        NaN       NaN       NaN  ...       NaN       NaN       NaN       NaN   \n",
       "4        NaN       NaN       NaN  ...       NaN       NaN       NaN       NaN   \n",
       "..       ...       ...       ...  ...       ...       ...       ...       ...   \n",
       "95 -0.174769  0.014443  0.058463  ...  0.159416  0.204198  0.102652  0.212046   \n",
       "96  0.192002  0.100327  0.018703  ...  0.048462  0.082991  0.198504 -0.183914   \n",
       "97  0.026889  0.150900 -0.096043  ...  0.036229  0.285919  0.225559  0.021000   \n",
       "98  0.145854  0.090141 -0.074379  ...  0.252054  0.122005  0.473896  0.081594   \n",
       "99  0.307662  0.182701  0.196728  ... -0.183677 -0.053900  0.013339 -0.141866   \n",
       "\n",
       "        full       new      good     round       dry  name  \n",
       "0        NaN       NaN       NaN       NaN       NaN   NaN  \n",
       "1        NaN       NaN       NaN       NaN       NaN   NaN  \n",
       "2        NaN       NaN       NaN       NaN       NaN   NaN  \n",
       "3        NaN       NaN       NaN       NaN       NaN   NaN  \n",
       "4        NaN       NaN       NaN       NaN       NaN   NaN  \n",
       "..       ...       ...       ...       ...       ...   ...  \n",
       "95 -0.008237       NaN       NaN       NaN       NaN   NaN  \n",
       "96  0.131250 -0.120443       NaN       NaN       NaN   NaN  \n",
       "97  0.181853  0.142220  0.096916       NaN       NaN   NaN  \n",
       "98  0.085232  0.019322  0.220685  0.030865       NaN   NaN  \n",
       "99  0.120873 -0.101129  0.076199  0.066825 -0.012415   NaN  \n",
       "\n",
       "[100 rows x 100 columns]"
      ]
     },
     "execution_count": 105,
     "metadata": {},
     "output_type": "execute_result"
    }
   ],
   "source": [
    "latindataframe.iloc[:, 1:]"
   ]
  },
  {
   "cell_type": "code",
   "execution_count": 106,
   "id": "8239753f-31e2-4244-8354-666c563f39f1",
   "metadata": {
    "tags": []
   },
   "outputs": [],
   "source": [
    "latinmatrix = ladf.to_numpy()"
   ]
  },
  {
   "cell_type": "code",
   "execution_count": 121,
   "id": "5b79e739-59ee-41cf-9cc9-2107ffb5ec05",
   "metadata": {
    "tags": []
   },
   "outputs": [],
   "source": [
    "lavector = np.squeeze(np.asarray(latinmatrix))"
   ]
  },
  {
   "cell_type": "code",
   "execution_count": 124,
   "id": "593f7eab-db82-4603-af16-e32e9f78f4d1",
   "metadata": {
    "tags": []
   },
   "outputs": [
    {
     "name": "stdout",
     "output_type": "stream",
     "text": [
      "[[        nan         nan         nan ...         nan         nan\n",
      "          nan]\n",
      " [ 0.5449078          nan         nan ...         nan         nan\n",
      "          nan]\n",
      " [ 0.31286967  0.29985464         nan ...         nan         nan\n",
      "          nan]\n",
      " ...\n",
      " [-0.13653412 -0.08460693 -0.07392614 ...         nan         nan\n",
      "          nan]\n",
      " [-0.11668243 -0.05533811  0.00896553 ...  0.03086516         nan\n",
      "          nan]\n",
      " [ 0.00601181 -0.18415412  0.08136679 ...  0.0668251  -0.01241536\n",
      "          nan]]\n"
     ]
    }
   ],
   "source": [
    "print(lavector)"
   ]
  },
  {
   "cell_type": "code",
   "execution_count": 128,
   "id": "cd4d00c8-42de-4f20-b9dc-869ba52c7ab3",
   "metadata": {
    "tags": []
   },
   "outputs": [],
   "source": [
    "ladf_flat = np.hstack(lavector)"
   ]
  },
  {
   "cell_type": "code",
   "execution_count": 109,
   "id": "770b5b63-449f-4133-a3bc-390760288574",
   "metadata": {
    "tags": []
   },
   "outputs": [
    {
     "name": "stdout",
     "output_type": "stream",
     "text": [
      "[        nan         nan         nan ...  0.0668251  -0.01241536\n",
      "         nan]\n"
     ]
    }
   ],
   "source": [
    "print(ladf_flat)"
   ]
  },
  {
   "cell_type": "code",
   "execution_count": 110,
   "id": "a45b8b2d-2a7f-4d9c-86d1-31d2e0b24d93",
   "metadata": {
    "tags": []
   },
   "outputs": [],
   "source": [
    "oedataframe = pd.read_excel(r\"C:\\Users\\gpwal\\Desktop\\SURA\\oe_cosines.xlsx\", sheet_name=0)"
   ]
  },
  {
   "cell_type": "code",
   "execution_count": 111,
   "id": "a4ff6f8d-cea7-4dc5-b77f-d9bcb2c3bdb0",
   "metadata": {
    "tags": []
   },
   "outputs": [],
   "source": [
    "oedf = oedataframe.iloc[:, 1:]"
   ]
  },
  {
   "cell_type": "code",
   "execution_count": 112,
   "id": "80dcf75e-efcc-464c-8a5a-4145b7978bff",
   "metadata": {
    "tags": []
   },
   "outputs": [
    {
     "data": {
      "text/html": [
       "<div>\n",
       "<style scoped>\n",
       "    .dataframe tbody tr th:only-of-type {\n",
       "        vertical-align: middle;\n",
       "    }\n",
       "\n",
       "    .dataframe tbody tr th {\n",
       "        vertical-align: top;\n",
       "    }\n",
       "\n",
       "    .dataframe thead th {\n",
       "        text-align: right;\n",
       "    }\n",
       "</style>\n",
       "<table border=\"1\" class=\"dataframe\">\n",
       "  <thead>\n",
       "    <tr style=\"text-align: right;\">\n",
       "      <th></th>\n",
       "      <th>I</th>\n",
       "      <th>you</th>\n",
       "      <th>we</th>\n",
       "      <th>this</th>\n",
       "      <th>that</th>\n",
       "      <th>who?</th>\n",
       "      <th>what?</th>\n",
       "      <th>not</th>\n",
       "      <th>all</th>\n",
       "      <th>many</th>\n",
       "      <th>...</th>\n",
       "      <th>black</th>\n",
       "      <th>night</th>\n",
       "      <th>hot</th>\n",
       "      <th>cold</th>\n",
       "      <th>full</th>\n",
       "      <th>new</th>\n",
       "      <th>good</th>\n",
       "      <th>round</th>\n",
       "      <th>dry</th>\n",
       "      <th>name</th>\n",
       "    </tr>\n",
       "  </thead>\n",
       "  <tbody>\n",
       "    <tr>\n",
       "      <th>0</th>\n",
       "      <td>NaN</td>\n",
       "      <td>NaN</td>\n",
       "      <td>NaN</td>\n",
       "      <td>NaN</td>\n",
       "      <td>NaN</td>\n",
       "      <td>NaN</td>\n",
       "      <td>NaN</td>\n",
       "      <td>NaN</td>\n",
       "      <td>NaN</td>\n",
       "      <td>NaN</td>\n",
       "      <td>...</td>\n",
       "      <td>NaN</td>\n",
       "      <td>NaN</td>\n",
       "      <td>NaN</td>\n",
       "      <td>NaN</td>\n",
       "      <td>NaN</td>\n",
       "      <td>NaN</td>\n",
       "      <td>NaN</td>\n",
       "      <td>NaN</td>\n",
       "      <td>NaN</td>\n",
       "      <td>NaN</td>\n",
       "    </tr>\n",
       "    <tr>\n",
       "      <th>1</th>\n",
       "      <td>0.199586</td>\n",
       "      <td>NaN</td>\n",
       "      <td>NaN</td>\n",
       "      <td>NaN</td>\n",
       "      <td>NaN</td>\n",
       "      <td>NaN</td>\n",
       "      <td>NaN</td>\n",
       "      <td>NaN</td>\n",
       "      <td>NaN</td>\n",
       "      <td>NaN</td>\n",
       "      <td>...</td>\n",
       "      <td>NaN</td>\n",
       "      <td>NaN</td>\n",
       "      <td>NaN</td>\n",
       "      <td>NaN</td>\n",
       "      <td>NaN</td>\n",
       "      <td>NaN</td>\n",
       "      <td>NaN</td>\n",
       "      <td>NaN</td>\n",
       "      <td>NaN</td>\n",
       "      <td>NaN</td>\n",
       "    </tr>\n",
       "    <tr>\n",
       "      <th>2</th>\n",
       "      <td>-0.048378</td>\n",
       "      <td>0.049767</td>\n",
       "      <td>NaN</td>\n",
       "      <td>NaN</td>\n",
       "      <td>NaN</td>\n",
       "      <td>NaN</td>\n",
       "      <td>NaN</td>\n",
       "      <td>NaN</td>\n",
       "      <td>NaN</td>\n",
       "      <td>NaN</td>\n",
       "      <td>...</td>\n",
       "      <td>NaN</td>\n",
       "      <td>NaN</td>\n",
       "      <td>NaN</td>\n",
       "      <td>NaN</td>\n",
       "      <td>NaN</td>\n",
       "      <td>NaN</td>\n",
       "      <td>NaN</td>\n",
       "      <td>NaN</td>\n",
       "      <td>NaN</td>\n",
       "      <td>NaN</td>\n",
       "    </tr>\n",
       "    <tr>\n",
       "      <th>3</th>\n",
       "      <td>0.372696</td>\n",
       "      <td>0.107592</td>\n",
       "      <td>0.134606</td>\n",
       "      <td>NaN</td>\n",
       "      <td>NaN</td>\n",
       "      <td>NaN</td>\n",
       "      <td>NaN</td>\n",
       "      <td>NaN</td>\n",
       "      <td>NaN</td>\n",
       "      <td>NaN</td>\n",
       "      <td>...</td>\n",
       "      <td>NaN</td>\n",
       "      <td>NaN</td>\n",
       "      <td>NaN</td>\n",
       "      <td>NaN</td>\n",
       "      <td>NaN</td>\n",
       "      <td>NaN</td>\n",
       "      <td>NaN</td>\n",
       "      <td>NaN</td>\n",
       "      <td>NaN</td>\n",
       "      <td>NaN</td>\n",
       "    </tr>\n",
       "    <tr>\n",
       "      <th>4</th>\n",
       "      <td>-0.064112</td>\n",
       "      <td>0.214491</td>\n",
       "      <td>-0.045460</td>\n",
       "      <td>0.061424</td>\n",
       "      <td>NaN</td>\n",
       "      <td>NaN</td>\n",
       "      <td>NaN</td>\n",
       "      <td>NaN</td>\n",
       "      <td>NaN</td>\n",
       "      <td>NaN</td>\n",
       "      <td>...</td>\n",
       "      <td>NaN</td>\n",
       "      <td>NaN</td>\n",
       "      <td>NaN</td>\n",
       "      <td>NaN</td>\n",
       "      <td>NaN</td>\n",
       "      <td>NaN</td>\n",
       "      <td>NaN</td>\n",
       "      <td>NaN</td>\n",
       "      <td>NaN</td>\n",
       "      <td>NaN</td>\n",
       "    </tr>\n",
       "    <tr>\n",
       "      <th>...</th>\n",
       "      <td>...</td>\n",
       "      <td>...</td>\n",
       "      <td>...</td>\n",
       "      <td>...</td>\n",
       "      <td>...</td>\n",
       "      <td>...</td>\n",
       "      <td>...</td>\n",
       "      <td>...</td>\n",
       "      <td>...</td>\n",
       "      <td>...</td>\n",
       "      <td>...</td>\n",
       "      <td>...</td>\n",
       "      <td>...</td>\n",
       "      <td>...</td>\n",
       "      <td>...</td>\n",
       "      <td>...</td>\n",
       "      <td>...</td>\n",
       "      <td>...</td>\n",
       "      <td>...</td>\n",
       "      <td>...</td>\n",
       "      <td>...</td>\n",
       "    </tr>\n",
       "    <tr>\n",
       "      <th>95</th>\n",
       "      <td>-0.149057</td>\n",
       "      <td>-0.252582</td>\n",
       "      <td>-0.251755</td>\n",
       "      <td>0.007109</td>\n",
       "      <td>0.041825</td>\n",
       "      <td>-0.184093</td>\n",
       "      <td>-0.184093</td>\n",
       "      <td>-0.119370</td>\n",
       "      <td>-0.024166</td>\n",
       "      <td>0.346713</td>\n",
       "      <td>...</td>\n",
       "      <td>0.283899</td>\n",
       "      <td>-0.011850</td>\n",
       "      <td>0.462567</td>\n",
       "      <td>0.249191</td>\n",
       "      <td>0.062608</td>\n",
       "      <td>NaN</td>\n",
       "      <td>NaN</td>\n",
       "      <td>NaN</td>\n",
       "      <td>NaN</td>\n",
       "      <td>NaN</td>\n",
       "    </tr>\n",
       "    <tr>\n",
       "      <th>96</th>\n",
       "      <td>-0.117195</td>\n",
       "      <td>-0.115000</td>\n",
       "      <td>-0.047314</td>\n",
       "      <td>-0.242004</td>\n",
       "      <td>0.104801</td>\n",
       "      <td>0.035051</td>\n",
       "      <td>0.035051</td>\n",
       "      <td>-0.077499</td>\n",
       "      <td>0.104012</td>\n",
       "      <td>0.089248</td>\n",
       "      <td>...</td>\n",
       "      <td>0.113303</td>\n",
       "      <td>-0.010459</td>\n",
       "      <td>0.282670</td>\n",
       "      <td>0.240813</td>\n",
       "      <td>0.041215</td>\n",
       "      <td>0.128523</td>\n",
       "      <td>NaN</td>\n",
       "      <td>NaN</td>\n",
       "      <td>NaN</td>\n",
       "      <td>NaN</td>\n",
       "    </tr>\n",
       "    <tr>\n",
       "      <th>97</th>\n",
       "      <td>NaN</td>\n",
       "      <td>NaN</td>\n",
       "      <td>NaN</td>\n",
       "      <td>NaN</td>\n",
       "      <td>NaN</td>\n",
       "      <td>NaN</td>\n",
       "      <td>NaN</td>\n",
       "      <td>NaN</td>\n",
       "      <td>NaN</td>\n",
       "      <td>NaN</td>\n",
       "      <td>...</td>\n",
       "      <td>NaN</td>\n",
       "      <td>NaN</td>\n",
       "      <td>NaN</td>\n",
       "      <td>NaN</td>\n",
       "      <td>NaN</td>\n",
       "      <td>NaN</td>\n",
       "      <td>NaN</td>\n",
       "      <td>NaN</td>\n",
       "      <td>NaN</td>\n",
       "      <td>NaN</td>\n",
       "    </tr>\n",
       "    <tr>\n",
       "      <th>98</th>\n",
       "      <td>0.093428</td>\n",
       "      <td>-0.137481</td>\n",
       "      <td>-0.044798</td>\n",
       "      <td>-0.086108</td>\n",
       "      <td>-0.156708</td>\n",
       "      <td>0.065059</td>\n",
       "      <td>0.065059</td>\n",
       "      <td>0.139210</td>\n",
       "      <td>0.131342</td>\n",
       "      <td>0.117317</td>\n",
       "      <td>...</td>\n",
       "      <td>0.180317</td>\n",
       "      <td>0.086777</td>\n",
       "      <td>0.357596</td>\n",
       "      <td>0.358349</td>\n",
       "      <td>0.255548</td>\n",
       "      <td>0.203906</td>\n",
       "      <td>0.007764</td>\n",
       "      <td>NaN</td>\n",
       "      <td>NaN</td>\n",
       "      <td>NaN</td>\n",
       "    </tr>\n",
       "    <tr>\n",
       "      <th>99</th>\n",
       "      <td>0.016126</td>\n",
       "      <td>0.090657</td>\n",
       "      <td>-0.146445</td>\n",
       "      <td>-0.011483</td>\n",
       "      <td>0.161981</td>\n",
       "      <td>-0.055366</td>\n",
       "      <td>-0.055366</td>\n",
       "      <td>-0.037310</td>\n",
       "      <td>0.092868</td>\n",
       "      <td>0.129474</td>\n",
       "      <td>...</td>\n",
       "      <td>0.127968</td>\n",
       "      <td>-0.083451</td>\n",
       "      <td>0.023874</td>\n",
       "      <td>-0.034881</td>\n",
       "      <td>0.119939</td>\n",
       "      <td>0.251601</td>\n",
       "      <td>0.065940</td>\n",
       "      <td>NaN</td>\n",
       "      <td>-0.000104</td>\n",
       "      <td>NaN</td>\n",
       "    </tr>\n",
       "  </tbody>\n",
       "</table>\n",
       "<p>100 rows × 100 columns</p>\n",
       "</div>"
      ],
      "text/plain": [
       "           I       you        we      this      that      who?     what?   \n",
       "0        NaN       NaN       NaN       NaN       NaN       NaN       NaN  \\\n",
       "1   0.199586       NaN       NaN       NaN       NaN       NaN       NaN   \n",
       "2  -0.048378  0.049767       NaN       NaN       NaN       NaN       NaN   \n",
       "3   0.372696  0.107592  0.134606       NaN       NaN       NaN       NaN   \n",
       "4  -0.064112  0.214491 -0.045460  0.061424       NaN       NaN       NaN   \n",
       "..       ...       ...       ...       ...       ...       ...       ...   \n",
       "95 -0.149057 -0.252582 -0.251755  0.007109  0.041825 -0.184093 -0.184093   \n",
       "96 -0.117195 -0.115000 -0.047314 -0.242004  0.104801  0.035051  0.035051   \n",
       "97       NaN       NaN       NaN       NaN       NaN       NaN       NaN   \n",
       "98  0.093428 -0.137481 -0.044798 -0.086108 -0.156708  0.065059  0.065059   \n",
       "99  0.016126  0.090657 -0.146445 -0.011483  0.161981 -0.055366 -0.055366   \n",
       "\n",
       "         not       all      many  ...     black     night       hot      cold   \n",
       "0        NaN       NaN       NaN  ...       NaN       NaN       NaN       NaN  \\\n",
       "1        NaN       NaN       NaN  ...       NaN       NaN       NaN       NaN   \n",
       "2        NaN       NaN       NaN  ...       NaN       NaN       NaN       NaN   \n",
       "3        NaN       NaN       NaN  ...       NaN       NaN       NaN       NaN   \n",
       "4        NaN       NaN       NaN  ...       NaN       NaN       NaN       NaN   \n",
       "..       ...       ...       ...  ...       ...       ...       ...       ...   \n",
       "95 -0.119370 -0.024166  0.346713  ...  0.283899 -0.011850  0.462567  0.249191   \n",
       "96 -0.077499  0.104012  0.089248  ...  0.113303 -0.010459  0.282670  0.240813   \n",
       "97       NaN       NaN       NaN  ...       NaN       NaN       NaN       NaN   \n",
       "98  0.139210  0.131342  0.117317  ...  0.180317  0.086777  0.357596  0.358349   \n",
       "99 -0.037310  0.092868  0.129474  ...  0.127968 -0.083451  0.023874 -0.034881   \n",
       "\n",
       "        full       new      good  round       dry  name  \n",
       "0        NaN       NaN       NaN    NaN       NaN   NaN  \n",
       "1        NaN       NaN       NaN    NaN       NaN   NaN  \n",
       "2        NaN       NaN       NaN    NaN       NaN   NaN  \n",
       "3        NaN       NaN       NaN    NaN       NaN   NaN  \n",
       "4        NaN       NaN       NaN    NaN       NaN   NaN  \n",
       "..       ...       ...       ...    ...       ...   ...  \n",
       "95  0.062608       NaN       NaN    NaN       NaN   NaN  \n",
       "96  0.041215  0.128523       NaN    NaN       NaN   NaN  \n",
       "97       NaN       NaN       NaN    NaN       NaN   NaN  \n",
       "98  0.255548  0.203906  0.007764    NaN       NaN   NaN  \n",
       "99  0.119939  0.251601  0.065940    NaN -0.000104   NaN  \n",
       "\n",
       "[100 rows x 100 columns]"
      ]
     },
     "execution_count": 112,
     "metadata": {},
     "output_type": "execute_result"
    }
   ],
   "source": [
    "oedataframe.iloc[:, 1:]"
   ]
  },
  {
   "cell_type": "code",
   "execution_count": 113,
   "id": "0f04a6ab-8568-4a78-8924-233d8f98ee51",
   "metadata": {
    "tags": []
   },
   "outputs": [],
   "source": [
    "oematrix = oedf.to_numpy()"
   ]
  },
  {
   "cell_type": "code",
   "execution_count": 118,
   "id": "031d53f8-ec43-4129-a923-8350081c3fec",
   "metadata": {
    "tags": []
   },
   "outputs": [],
   "source": [
    "oevector = np.squeeze(np.asarray(oematrix))"
   ]
  },
  {
   "cell_type": "code",
   "execution_count": 119,
   "id": "a44ae6f7-a4a0-4ce4-8c21-222334f5b761",
   "metadata": {
    "tags": []
   },
   "outputs": [
    {
     "name": "stdout",
     "output_type": "stream",
     "text": [
      "[[           nan            nan            nan ...            nan\n",
      "             nan            nan]\n",
      " [ 1.9958644e-01            nan            nan ...            nan\n",
      "             nan            nan]\n",
      " [-4.8378120e-02  4.9767070e-02            nan ...            nan\n",
      "             nan            nan]\n",
      " ...\n",
      " [           nan            nan            nan ...            nan\n",
      "             nan            nan]\n",
      " [ 9.3427880e-02 -1.3748070e-01 -4.4797942e-02 ...            nan\n",
      "             nan            nan]\n",
      " [ 1.6125979e-02  9.0657026e-02 -1.4644535e-01 ...            nan\n",
      "  -1.0405481e-04            nan]]\n"
     ]
    }
   ],
   "source": [
    "print(oevector)"
   ]
  },
  {
   "cell_type": "code",
   "execution_count": 126,
   "id": "e02afa7c-178c-403b-b34c-05e4776e79fc",
   "metadata": {
    "tags": []
   },
   "outputs": [],
   "source": [
    "oedf_flat = np.hstack(oevector)"
   ]
  },
  {
   "cell_type": "code",
   "execution_count": 116,
   "id": "841c18f7-0d4c-4470-9fc4-198d50a41be0",
   "metadata": {
    "tags": []
   },
   "outputs": [
    {
     "name": "stdout",
     "output_type": "stream",
     "text": [
      "[        nan         nan         nan ...         nan -0.00010405\n",
      "         nan]\n"
     ]
    }
   ],
   "source": [
    "print(oedf_flat)"
   ]
  },
  {
   "cell_type": "code",
   "execution_count": 171,
   "id": "2f4b32eb-bc19-4c52-8ce1-cd1e8369c9cd",
   "metadata": {
    "collapsed": true,
    "jupyter": {
     "outputs_hidden": true
    },
    "tags": []
   },
   "outputs": [
    {
     "ename": "ValueError",
     "evalue": "Input vector should be 1-D.",
     "output_type": "error",
     "traceback": [
      "\u001b[1;31m---------------------------------------------------------------------------\u001b[0m",
      "\u001b[1;31mValueError\u001b[0m                                Traceback (most recent call last)",
      "Cell \u001b[1;32mIn[171], line 1\u001b[0m\n\u001b[1;32m----> 1\u001b[0m \u001b[38;5;241m1\u001b[39m \u001b[38;5;241m-\u001b[39m \u001b[43mspatial\u001b[49m\u001b[38;5;241;43m.\u001b[39;49m\u001b[43mdistance\u001b[49m\u001b[38;5;241;43m.\u001b[39;49m\u001b[43mcosine\u001b[49m\u001b[43m(\u001b[49m\u001b[43moevector\u001b[49m\u001b[43m,\u001b[49m\u001b[43m \u001b[49m\u001b[43mlavector\u001b[49m\u001b[43m)\u001b[49m\n",
      "File \u001b[1;32m~\\AppData\\Roaming\\jupyterlab-desktop\\jlab_server\\lib\\site-packages\\scipy\\spatial\\distance.py:670\u001b[0m, in \u001b[0;36mcosine\u001b[1;34m(u, v, w)\u001b[0m\n\u001b[0;32m    628\u001b[0m \u001b[38;5;250m\u001b[39m\u001b[38;5;124;03m\"\"\"\u001b[39;00m\n\u001b[0;32m    629\u001b[0m \u001b[38;5;124;03mCompute the Cosine distance between 1-D arrays.\u001b[39;00m\n\u001b[0;32m    630\u001b[0m \n\u001b[1;32m   (...)\u001b[0m\n\u001b[0;32m    665\u001b[0m \n\u001b[0;32m    666\u001b[0m \u001b[38;5;124;03m\"\"\"\u001b[39;00m\n\u001b[0;32m    667\u001b[0m \u001b[38;5;66;03m# cosine distance is also referred to as 'uncentered correlation',\u001b[39;00m\n\u001b[0;32m    668\u001b[0m \u001b[38;5;66;03m#   or 'reflective correlation'\u001b[39;00m\n\u001b[0;32m    669\u001b[0m \u001b[38;5;66;03m# clamp the result to 0-2\u001b[39;00m\n\u001b[1;32m--> 670\u001b[0m \u001b[38;5;28;01mreturn\u001b[39;00m \u001b[38;5;28mmax\u001b[39m(\u001b[38;5;241m0\u001b[39m, \u001b[38;5;28mmin\u001b[39m(\u001b[43mcorrelation\u001b[49m\u001b[43m(\u001b[49m\u001b[43mu\u001b[49m\u001b[43m,\u001b[49m\u001b[43m \u001b[49m\u001b[43mv\u001b[49m\u001b[43m,\u001b[49m\u001b[43m \u001b[49m\u001b[43mw\u001b[49m\u001b[38;5;241;43m=\u001b[39;49m\u001b[43mw\u001b[49m\u001b[43m,\u001b[49m\u001b[43m \u001b[49m\u001b[43mcentered\u001b[49m\u001b[38;5;241;43m=\u001b[39;49m\u001b[38;5;28;43;01mFalse\u001b[39;49;00m\u001b[43m)\u001b[49m, \u001b[38;5;241m2.0\u001b[39m))\n",
      "File \u001b[1;32m~\\AppData\\Roaming\\jupyterlab-desktop\\jlab_server\\lib\\site-packages\\scipy\\spatial\\distance.py:610\u001b[0m, in \u001b[0;36mcorrelation\u001b[1;34m(u, v, w, centered)\u001b[0m\n\u001b[0;32m    577\u001b[0m \u001b[38;5;28;01mdef\u001b[39;00m \u001b[38;5;21mcorrelation\u001b[39m(u, v, w\u001b[38;5;241m=\u001b[39m\u001b[38;5;28;01mNone\u001b[39;00m, centered\u001b[38;5;241m=\u001b[39m\u001b[38;5;28;01mTrue\u001b[39;00m):\n\u001b[0;32m    578\u001b[0m \u001b[38;5;250m    \u001b[39m\u001b[38;5;124;03m\"\"\"\u001b[39;00m\n\u001b[0;32m    579\u001b[0m \u001b[38;5;124;03m    Compute the correlation distance between two 1-D arrays.\u001b[39;00m\n\u001b[0;32m    580\u001b[0m \n\u001b[1;32m   (...)\u001b[0m\n\u001b[0;32m    608\u001b[0m \n\u001b[0;32m    609\u001b[0m \u001b[38;5;124;03m    \"\"\"\u001b[39;00m\n\u001b[1;32m--> 610\u001b[0m     u \u001b[38;5;241m=\u001b[39m \u001b[43m_validate_vector\u001b[49m\u001b[43m(\u001b[49m\u001b[43mu\u001b[49m\u001b[43m)\u001b[49m\n\u001b[0;32m    611\u001b[0m     v \u001b[38;5;241m=\u001b[39m _validate_vector(v)\n\u001b[0;32m    612\u001b[0m     \u001b[38;5;28;01mif\u001b[39;00m w \u001b[38;5;129;01mis\u001b[39;00m \u001b[38;5;129;01mnot\u001b[39;00m \u001b[38;5;28;01mNone\u001b[39;00m:\n",
      "File \u001b[1;32m~\\AppData\\Roaming\\jupyterlab-desktop\\jlab_server\\lib\\site-packages\\scipy\\spatial\\distance.py:302\u001b[0m, in \u001b[0;36m_validate_vector\u001b[1;34m(u, dtype)\u001b[0m\n\u001b[0;32m    300\u001b[0m \u001b[38;5;28;01mif\u001b[39;00m u\u001b[38;5;241m.\u001b[39mndim \u001b[38;5;241m==\u001b[39m \u001b[38;5;241m1\u001b[39m:\n\u001b[0;32m    301\u001b[0m     \u001b[38;5;28;01mreturn\u001b[39;00m u\n\u001b[1;32m--> 302\u001b[0m \u001b[38;5;28;01mraise\u001b[39;00m \u001b[38;5;167;01mValueError\u001b[39;00m(\u001b[38;5;124m\"\u001b[39m\u001b[38;5;124mInput vector should be 1-D.\u001b[39m\u001b[38;5;124m\"\u001b[39m)\n",
      "\u001b[1;31mValueError\u001b[0m: Input vector should be 1-D."
     ]
    }
   ],
   "source": [
    "1 - spatial.distance.cosine(oevector, lavector)"
   ]
  },
  {
   "cell_type": "markdown",
   "id": "3a70c854-4b21-4f70-a009-3a254f49a6b5",
   "metadata": {},
   "source": [
    "## Greek CLTK"
   ]
  },
  {
   "cell_type": "code",
   "execution_count": 3,
   "id": "cb275ed3-9db3-450e-9c75-bc3626312605",
   "metadata": {
    "tags": []
   },
   "outputs": [
    {
     "name": "stdout",
     "output_type": "stream",
     "text": [
      "‎𐤀 CLTK version '1.1.6'.\n",
      "Pipeline for language 'Ancient Greek' (ISO: 'grc'): `GreekNormalizeProcess`, `GreekStanzaProcess`, `GreekEmbeddingsProcess`, `StopsProcess`.\n"
     ]
    }
   ],
   "source": [
    "cltk_nlp_gr=NLP(\"grc\")"
   ]
  },
  {
   "cell_type": "code",
   "execution_count": 4,
   "id": "7b48cf36-28f7-47e9-8383-d93b8a14851c",
   "metadata": {
    "tags": []
   },
   "outputs": [],
   "source": [
    "with open(r\"C:\\Users\\gpwal\\cltk_data\\grc\\grc_text_tesserae-master\\texts\\greekcorpus.txt\", 'r', encoding='utf-8') as f:\n",
    "    greek_full = f.read()"
   ]
  },
  {
   "cell_type": "code",
   "execution_count": 5,
   "id": "6f8aae1e-690d-46ff-b4f2-1a47bbd65cdd",
   "metadata": {
    "tags": []
   },
   "outputs": [
    {
     "name": "stdout",
     "output_type": "stream",
     "text": [
      "66422728\n",
      "6642272\n"
     ]
    }
   ],
   "source": [
    "greek_part = greek_full[:len(greek_full) // 10]\n",
    "print(len(greek_full))\n",
    "print(len(greek_part))"
   ]
  },
  {
   "cell_type": "code",
   "execution_count": 6,
   "id": "f227f9b0-5a37-4fdc-8047-538ba04a7304",
   "metadata": {
    "tags": []
   },
   "outputs": [],
   "source": [
    "from cltk.languages.pipelines import GreekPipeline"
   ]
  },
  {
   "cell_type": "code",
   "execution_count": 7,
   "id": "59a4155f-b74b-4d37-84f6-138547f22cd7",
   "metadata": {
    "tags": []
   },
   "outputs": [],
   "source": [
    "gr_pipe = GreekPipeline()"
   ]
  },
  {
   "cell_type": "code",
   "execution_count": 8,
   "id": "edf5307a-8539-425b-91db-150dd6c0f9d3",
   "metadata": {
    "tags": []
   },
   "outputs": [],
   "source": [
    "gr_nlp = NLP(language='grc', custom_pipeline=gr_pipe, suppress_banner=True)"
   ]
  },
  {
   "cell_type": "code",
   "execution_count": 9,
   "id": "209ea290-e659-467c-901c-2b94e5423051",
   "metadata": {
    "tags": []
   },
   "outputs": [],
   "source": [
    "gr_corpus = r\"C:\\Users\\gpwal\\cltk_data\\grc\\grc_text_tesserae-master\\texts\\greekcorpus.txt\""
   ]
  },
  {
   "cell_type": "code",
   "execution_count": 10,
   "id": "efa9e703-4b20-483c-9552-13a580a1f96d",
   "metadata": {
    "tags": []
   },
   "outputs": [],
   "source": [
    "cltk_gr = gr_nlp(text=greek_part).lemmata"
   ]
  },
  {
   "cell_type": "code",
   "execution_count": 15,
   "id": "8623b23c-9157-4ecb-a7b5-686dc55cbcf3",
   "metadata": {
    "tags": []
   },
   "outputs": [],
   "source": [
    "with open(f\"{directory_path}/gr_texts/nlp_gr.txt\", \"w\", encoding='utf-8') as f:\n",
    "    f.write(str(cltk_gr))"
   ]
  },
  {
   "cell_type": "markdown",
   "id": "556e476e-8fed-43a6-a3b8-c5ca719f664d",
   "metadata": {},
   "source": [
    "## WordNet"
   ]
  },
  {
   "cell_type": "code",
   "execution_count": 245,
   "id": "9dcc8483-98c2-4e35-a2b5-b8937e7ec08e",
   "metadata": {
    "tags": []
   },
   "outputs": [
    {
     "name": "stderr",
     "output_type": "stream",
     "text": [
      "[nltk_data] Downloading package wordnet to\n",
      "[nltk_data]     C:\\Users\\gpwal\\AppData\\Roaming\\nltk_data...\n"
     ]
    },
    {
     "data": {
      "text/plain": [
       "True"
      ]
     },
     "execution_count": 245,
     "metadata": {},
     "output_type": "execute_result"
    }
   ],
   "source": [
    "from nltk.corpus import wordnet\n",
    "nltk.download('wordnet')"
   ]
  },
  {
   "cell_type": "code",
   "execution_count": 255,
   "id": "55b251bc-cbbf-4e16-979b-69150609247a",
   "metadata": {
    "tags": []
   },
   "outputs": [],
   "source": [
    "from nltk.corpus import wordnet as wn\n",
    "dog = wn.synset('dog.n.01')"
   ]
  },
  {
   "cell_type": "code",
   "execution_count": 328,
   "id": "49938bae-db9c-4d6b-af61-af700de187dd",
   "metadata": {
    "collapsed": true,
    "jupyter": {
     "outputs_hidden": true
    },
    "tags": []
   },
   "outputs": [
    {
     "ename": "WordNetError",
     "evalue": "No lemma 'drying' with part of speech 'v'",
     "output_type": "error",
     "traceback": [
      "\u001b[1;31m---------------------------------------------------------------------------\u001b[0m",
      "\u001b[1;31mKeyError\u001b[0m                                  Traceback (most recent call last)",
      "File \u001b[1;32m~\\AppData\\Roaming\\jupyterlab-desktop\\jlab_server\\lib\\site-packages\\nltk\\corpus\\reader\\wordnet.py:1498\u001b[0m, in \u001b[0;36mWordNetCorpusReader.synset\u001b[1;34m(self, name)\u001b[0m\n\u001b[0;32m   1497\u001b[0m \u001b[38;5;28;01mtry\u001b[39;00m:\n\u001b[1;32m-> 1498\u001b[0m     offset \u001b[38;5;241m=\u001b[39m \u001b[38;5;28;43mself\u001b[39;49m\u001b[38;5;241;43m.\u001b[39;49m\u001b[43m_lemma_pos_offset_map\u001b[49m\u001b[43m[\u001b[49m\u001b[43mlemma\u001b[49m\u001b[43m]\u001b[49m\u001b[43m[\u001b[49m\u001b[43mpos\u001b[49m\u001b[43m]\u001b[49m[synset_index]\n\u001b[0;32m   1499\u001b[0m \u001b[38;5;28;01mexcept\u001b[39;00m \u001b[38;5;167;01mKeyError\u001b[39;00m \u001b[38;5;28;01mas\u001b[39;00m e:\n",
      "\u001b[1;31mKeyError\u001b[0m: 'v'",
      "\nThe above exception was the direct cause of the following exception:\n",
      "\u001b[1;31mWordNetError\u001b[0m                              Traceback (most recent call last)",
      "Cell \u001b[1;32mIn[328], line 2\u001b[0m\n\u001b[0;32m      1\u001b[0m dry \u001b[38;5;241m=\u001b[39m wn\u001b[38;5;241m.\u001b[39msynset(\u001b[38;5;124m'\u001b[39m\u001b[38;5;124mdry.a.01\u001b[39m\u001b[38;5;124m'\u001b[39m)\n\u001b[1;32m----> 2\u001b[0m drying \u001b[38;5;241m=\u001b[39m \u001b[43mwn\u001b[49m\u001b[38;5;241;43m.\u001b[39;49m\u001b[43msynset\u001b[49m\u001b[43m(\u001b[49m\u001b[38;5;124;43m'\u001b[39;49m\u001b[38;5;124;43mdrying.v.01\u001b[39;49m\u001b[38;5;124;43m'\u001b[39;49m\u001b[43m)\u001b[49m\n\u001b[0;32m      3\u001b[0m dry\u001b[38;5;241m.\u001b[39mpath_similarity(drying)\n",
      "File \u001b[1;32m~\\AppData\\Roaming\\jupyterlab-desktop\\jlab_server\\lib\\site-packages\\nltk\\corpus\\reader\\wordnet.py:1500\u001b[0m, in \u001b[0;36mWordNetCorpusReader.synset\u001b[1;34m(self, name)\u001b[0m\n\u001b[0;32m   1498\u001b[0m     offset \u001b[38;5;241m=\u001b[39m \u001b[38;5;28mself\u001b[39m\u001b[38;5;241m.\u001b[39m_lemma_pos_offset_map[lemma][pos][synset_index]\n\u001b[0;32m   1499\u001b[0m \u001b[38;5;28;01mexcept\u001b[39;00m \u001b[38;5;167;01mKeyError\u001b[39;00m \u001b[38;5;28;01mas\u001b[39;00m e:\n\u001b[1;32m-> 1500\u001b[0m     \u001b[38;5;28;01mraise\u001b[39;00m WordNetError(\u001b[38;5;124mf\u001b[39m\u001b[38;5;124m\"\u001b[39m\u001b[38;5;124mNo lemma \u001b[39m\u001b[38;5;132;01m{\u001b[39;00mlemma\u001b[38;5;132;01m!r}\u001b[39;00m\u001b[38;5;124m with part of speech \u001b[39m\u001b[38;5;132;01m{\u001b[39;00mpos\u001b[38;5;132;01m!r}\u001b[39;00m\u001b[38;5;124m\"\u001b[39m) \u001b[38;5;28;01mfrom\u001b[39;00m \u001b[38;5;21;01me\u001b[39;00m\n\u001b[0;32m   1501\u001b[0m \u001b[38;5;28;01mexcept\u001b[39;00m \u001b[38;5;167;01mIndexError\u001b[39;00m \u001b[38;5;28;01mas\u001b[39;00m e:\n\u001b[0;32m   1502\u001b[0m     n_senses \u001b[38;5;241m=\u001b[39m \u001b[38;5;28mlen\u001b[39m(\u001b[38;5;28mself\u001b[39m\u001b[38;5;241m.\u001b[39m_lemma_pos_offset_map[lemma][pos])\n",
      "\u001b[1;31mWordNetError\u001b[0m: No lemma 'drying' with part of speech 'v'"
     ]
    }
   ],
   "source": [
    "dry = wn.synset('dry.a.01')\n",
    "drying = wn.synset('drying.v.01')\n",
    "dry.path_similarity(drying)"
   ]
  },
  {
   "cell_type": "code",
   "execution_count": 254,
   "id": "3f6d2978-57e5-429f-8c40-723a22621841",
   "metadata": {
    "tags": []
   },
   "outputs": [
    {
     "data": {
      "text/plain": [
       "1.0"
      ]
     },
     "execution_count": 254,
     "metadata": {},
     "output_type": "execute_result"
    }
   ],
   "source": [
    "dog.path_similarity(dog)"
   ]
  },
  {
   "cell_type": "markdown",
   "id": "88f666b8-1a8f-48c9-81dc-741c516a3f03",
   "metadata": {},
   "source": [
    "## Averaging the Matrices"
   ]
  },
  {
   "cell_type": "code",
   "execution_count": 38,
   "id": "f2981c90-f3e0-4674-959f-8be18512448f",
   "metadata": {
    "tags": []
   },
   "outputs": [
    {
     "data": {
      "text/plain": [
       "array([-3.345136  , -0.22597477,  4.394199  , -0.6507459 , -2.9478197 ,\n",
       "       -1.6359758 ,  0.18920696,  4.2571645 , -0.17898393, -1.3134415 ,\n",
       "        2.8850293 ,  0.39335018, -0.502337  , -0.05812126,  0.84897184,\n",
       "        1.7085358 ,  1.9459614 ,  2.6120338 ,  0.8368722 ,  1.6242878 ,\n",
       "       -0.6149734 , -3.8058014 , -0.68495274, -0.39879066, -4.009558  ,\n",
       "        0.7951968 , -0.43707073,  3.104135  , -1.6375182 ,  2.903899  ,\n",
       "        4.3154783 ,  1.0456897 ,  3.7502494 , -2.1680894 , -0.4195248 ,\n",
       "        2.7985945 ,  1.7917209 , -0.53114   , -0.98471856,  2.0998657 ,\n",
       "        0.45094645, -2.9192557 , -2.766733  , -1.8392596 , -0.67439514,\n",
       "        1.3227551 ,  3.8208437 , -1.638521  ,  2.0595963 ,  0.10124397,\n",
       "        1.8939261 ,  1.1737587 ,  1.0646576 , -3.9905653 , -5.3638525 ,\n",
       "       -0.23235749,  0.2221579 ,  0.67206347, -3.5051339 ,  2.7883296 ,\n",
       "       -1.2256931 , -0.765734  , -0.09949195, -3.173418  , -0.45206994,\n",
       "       -4.644164  ,  2.268163  , -5.5372934 ,  2.9270465 , -0.55641305,\n",
       "       -2.7685432 , -1.716068  , -0.5119935 , -0.4723484 ,  0.81464523,\n",
       "        0.8008415 , -2.4202986 ,  1.0358642 ,  0.5939294 ,  1.1317476 ,\n",
       "        1.497849  , -0.08898148,  4.8547244 , -2.7090344 , -0.5034274 ,\n",
       "        1.1911005 ,  1.5495576 ,  2.2784348 , -0.12450844, -5.1497736 ,\n",
       "        0.47652358, -1.676477  ,  1.5576831 ,  1.6416306 , -1.0492686 ,\n",
       "       -0.86305135, -2.5037088 ,  2.9455094 , -0.13900286, -0.6345445 ],\n",
       "      dtype=float32)"
      ]
     },
     "execution_count": 38,
     "metadata": {},
     "output_type": "execute_result"
    }
   ],
   "source": [
    "ego_vec = la_model.wv.get_vector('ego')\n",
    "tu_vec = la_model.wv.get_vector('tu')\n",
    "(ego_vec + tu_vec)/2"
   ]
  },
  {
   "cell_type": "code",
   "execution_count": 53,
   "id": "4f5011bb-3e3d-48fe-b0bc-711bc5f6fc1e",
   "metadata": {
    "tags": []
   },
   "outputs": [],
   "source": [
    "mod_eng_swa=['i', 'you', 'we', 'this', 'that', 'who', 'what', 'not', 'all', 'many', 'one', 'two', 'big', 'long', 'small', 'woman', 'man', 'person', 'fish', 'bird', 'dog','tree', 'seed', 'leaf', 'root','skin', 'flesh', 'blood', 'bone', 'grease', 'egg', 'horn', 'tail','hair', 'head', 'ear', 'eye','mouth', 'tongue', 'claw', 'foot', 'knee', 'hand', 'belly', 'neck', 'breasts', 'heart', 'drink', 'eat', 'bite', 'see', 'hear', 'know', 'sleep', 'die', 'kill', 'fly', 'walk', 'come', 'lie', 'sit', 'stand', 'give', 'say', 'sun', 'moon', 'star', 'water', 'rain', 'stone', 'sand', 'earth', 'cloud', 'smoke', 'fire', 'ashes', 'burn', 'path', 'mountain', 'red', 'green', 'yellow', 'white', 'black', 'night', 'hot', 'cold', 'full', 'new', 'good', 'dry', 'name']"
   ]
  },
  {
   "cell_type": "code",
   "execution_count": 54,
   "id": "5b6ba791-e089-4b7c-9172-49ca5c403e76",
   "metadata": {
    "tags": []
   },
   "outputs": [],
   "source": [
    "mod_la_swadesh = ['ego', 'tu','nos','cis','istud','qui','quid','non','omnis','multi','unus','duo','magnus','longus','minutus','femina','vir','persona','piscis','avis','canis','dryas','semen','folium','radix','cutis','membrana','sanguis','os','medulla','ovum','cornu','cauda','pilus','caput','auris','oculus','os','lingua','unguis','pes','genu','manus','uterus','monile','pectora','cor','bibere','edere','mordeo','cautio','cautio','cognoscere','somnus','funus','caedo','volare','pontis','venire','lectus','sedere','stare','dare','inquam','sol','mensis','stella','aqua','pluvia','lapis','harena','solum','nimbus','fumus','ignis','ardere','ardere','pontis','mons','rubeus','gramen','flavo','albus','ater','nox','calidus','gelu','plenus','novus','bonus','siccus','nomen']"
   ]
  },
  {
   "cell_type": "code",
   "execution_count": 55,
   "id": "35836036-524f-412e-82bc-ccc0f4c62d8d",
   "metadata": {
    "tags": []
   },
   "outputs": [],
   "source": [
    "oe_swadesh = ['ic', 'ðu', 'us', 'he', 'ðæt', 'hwa','hwa','ne','eall','manig','an','twegen', 'micel', 'lang', 'min', 'cwen', 'mann', 'mann', 'fisc','fugol', 'hund', 'treow','sæd','blæd','rot','hyd','flæsc','blod','ban', 'gelynd','æg', 'horn','steort', 'hær', 'heafod', 'eare', 'eage', 'muþ', 'tunge', 'clea', 'fot', 'cneow', 'mund','cwiþ', 'sweora','bosm', 'heorte', 'drincan', 'etan', 'bitan', 'seon', 'gehiran', 'cunnan', 'swefan', 'dead','cwellan','fleogan', 'findan', 'cuman', 'licgan', 'sittan', 'standan','gesellan', 'sæcgan', 'sunne', 'mona', 'steorra', 'ea', 'regn', 'stan','sand', 'eorþe', 'neowol', 'þrosm','fyr', 'axe', 'bærnan', 'foldweg', 'beorg', 'read', 'grene', 'geolo', 'hwit','blæc', 'niht', 'wearm', 'ceald', 'full', 'niwe', 'betra', 'dryge', 'nama']"
   ]
  },
  {
   "cell_type": "code",
   "execution_count": 56,
   "id": "d54bd94d-5610-4a9a-991c-1e37da755615",
   "metadata": {
    "tags": []
   },
   "outputs": [],
   "source": [
    "pie_swa = ['eg̑ō','tū̆','nē̆s-, nō̆s-','k̑o-, k̑e-','to-, tā-, ti̯o-','who?','what?','nĕ, nē, nei','all','men(e)gh','one','du̯ō(u)','meg̑(h)-','del-','mei-','gu̯ē̆nā','manu-s (man)','manu-s (person)','peisk-','au̯ei-','k̑u̯on-, k̑un-','deru-','seed','bhel-','u̯(e)rād-','gu̯ēi-','mēmso-','ē̆s-r̥(gu̯)','ost(h)-','smeru-','ō(u̯)i̯-om','k̑er-','tail','pi-lo-','kap-ut','ōus-','oku̯-','ōus- : əus-','dn̥g̑hū','onogh-','pē̆d-, pō̆d-','g̑enu-, g̑neu-','mə-r','udero-','mono-','breasts','k̑ered-','pō(i)-','ed-','bheid-','keu-, skeu- (to see)','keu-, skeu- (to hear)','g̑en-','su̯ep-','dheu-','per-, per-g-','pleu-','pent-','gu̯ā-, gu̯em-','legh-','sed-','stā- : stə-','dō- : də-','seku̯-','sā́u̯el-','mēnōt','stē̆r-','aku̯ā-','reg̑-','stāi-','sand','er-','enebh-','(s)meukh-','egnis', 'ā̆s- (ashes)','ā̆s- (to burn)','pent-','bhereg̑h-','reudh-','ghrē-','bhlē-u̯o-s','albho-','mel-','noku̯-t-s','gu̯her-','gel(ə)-','pel-, pelə-','neu̯os','bhā̆d-','saus','en(o)mn̥-']"
   ]
  },
  {
   "cell_type": "code",
   "execution_count": 69,
   "id": "53a61d11-f5d0-4710-a1d5-a702af9195b3",
   "metadata": {
    "tags": []
   },
   "outputs": [],
   "source": [
    "def vec_get(li):\n",
    "    li = range(0,92)\n",
    "    with open(f\"{directory_path}/pie_averaged_swadesh_vectors.txt\", \"w\", encoding='utf-8') as f:\n",
    "        for i in li:\n",
    "            f.write(str(pie_swa[i]+'\\n')+str((wv.get_vector(mod_eng_swa[i])+la_model.wv.get_vector(mod_la_swadesh[i])+oe_model.wv.get_vector(oe_swadesh[i]))/3)+'\\n')"
   ]
  },
  {
   "cell_type": "code",
   "execution_count": 68,
   "id": "64835427-fa47-4eb3-8255-dd6a8e433be0",
   "metadata": {
    "tags": []
   },
   "outputs": [],
   "source": [
    "vec_get(li)"
   ]
  },
  {
   "cell_type": "code",
   "execution_count": 21,
   "id": "00917399-7ca0-472d-ba36-cb79e1c238d4",
   "metadata": {
    "tags": []
   },
   "outputs": [
    {
     "ename": "TypeError",
     "evalue": "unsupported operand type(s) for +: 'KeyedVectors' and 'KeyedVectors'",
     "output_type": "error",
     "traceback": [
      "\u001b[1;31m---------------------------------------------------------------------------\u001b[0m",
      "\u001b[1;31mTypeError\u001b[0m                                 Traceback (most recent call last)",
      "Cell \u001b[1;32mIn[21], line 1\u001b[0m\n\u001b[1;32m----> 1\u001b[0m avg_model \u001b[38;5;241m=\u001b[39m (\u001b[43mla_model\u001b[49m\u001b[38;5;241;43m.\u001b[39;49m\u001b[43mwv\u001b[49m\u001b[43m \u001b[49m\u001b[38;5;241;43m+\u001b[39;49m\u001b[43m \u001b[49m\u001b[43moe_model\u001b[49m\u001b[38;5;241;43m.\u001b[39;49m\u001b[43mwv\u001b[49m \u001b[38;5;241m+\u001b[39m wv)\u001b[38;5;241m/\u001b[39m\u001b[38;5;241m3\u001b[39m\n",
      "\u001b[1;31mTypeError\u001b[0m: unsupported operand type(s) for +: 'KeyedVectors' and 'KeyedVectors'"
     ]
    }
   ],
   "source": [
    "avg_model = (la_model.wv + oe_model.wv + wv)/3"
   ]
  },
  {
   "cell_type": "markdown",
   "id": "ced5a825-822c-448f-a846-2c078fdc951b",
   "metadata": {},
   "source": [
    "## Gloss Vectors"
   ]
  },
  {
   "cell_type": "code",
   "execution_count": 134,
   "id": "9a3cbd93-a79b-4f02-a885-f9474e5e78ee",
   "metadata": {
    "tags": []
   },
   "outputs": [
    {
     "data": {
      "text/plain": [
       "array([-0.5399333 ,  0.172343  ,  0.44473997, -0.46749333,  0.09087332,\n",
       "       -0.02529001,  0.35929596, -0.00916633, -0.10567   ,  0.05108633,\n",
       "        0.42659   , -0.21941666, -0.02831133,  0.15929534,  0.526757  ,\n",
       "       -0.14903   , -0.03233467, -0.24763   ,  0.46574664, -0.5762333 ,\n",
       "       -0.39161   ,  0.07641333,  0.08514667, -0.06663889, -0.06800334,\n",
       "        0.45779666, -0.10429666, -0.28504   , -0.04071333, -0.19550265,\n",
       "       -0.16818567,  0.49442998, -0.77203995, -0.10320965,  0.31538332,\n",
       "       -0.014627  ,  0.48109064,  0.37337336, -0.28760934, -0.12989332,\n",
       "       -0.36092332, -0.8605537 , -0.38069   , -0.4613    ,  0.48777032,\n",
       "        0.05189334, -0.25918534, -0.10098767,  0.30724868, -0.43061998,\n",
       "        0.29808334,  0.21877001,  0.0217    ,  0.48217466, -0.00966332,\n",
       "       -1.3073467 ,  0.00367333, -0.22801332,  1.6671333 , -0.15244833,\n",
       "        0.19142334,  0.5494343 , -0.23077267,  0.12203334,  0.92999333,\n",
       "        0.29794666,  0.91155   , -0.76929   ,  0.21481967, -1.0161834 ,\n",
       "        0.10950934, -0.5393567 ,  0.7798233 ,  0.211623  ,  0.09547666,\n",
       "        0.15529966, -0.24365436, -0.70141333, -0.10666666,  0.186211  ,\n",
       "        0.62797   ,  0.02794334, -0.89059335,  0.37127003, -0.24031468,\n",
       "        0.23819602,  0.72739667,  0.54781336, -0.13253067,  0.16860783,\n",
       "       -0.22372   , -0.26466   , -0.36046   , -0.06402767, -0.18682666,\n",
       "       -0.26113334,  0.29903468, -0.155248  ,  0.36223498,  0.33838665],\n",
       "      dtype=float32)"
      ]
     },
     "execution_count": 134,
     "metadata": {},
     "output_type": "execute_result"
    }
   ],
   "source": [
    "(wv.get_vector('free')+wv.get_vector('liquid')+wv.get_vector('moisture'))/3"
   ]
  }
 ],
 "metadata": {
  "kernelspec": {
   "display_name": "Python 3 (ipykernel)",
   "language": "python",
   "name": "python3"
  },
  "language_info": {
   "codemirror_mode": {
    "name": "ipython",
    "version": 3
   },
   "file_extension": ".py",
   "mimetype": "text/x-python",
   "name": "python",
   "nbconvert_exporter": "python",
   "pygments_lexer": "ipython3",
   "version": "3.8.16"
  }
 },
 "nbformat": 4,
 "nbformat_minor": 5
}
