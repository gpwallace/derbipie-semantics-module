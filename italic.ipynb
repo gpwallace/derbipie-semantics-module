{
 "cells": [
  {
   "cell_type": "markdown",
   "id": "3191b436-bf86-47e4-b767-862460ddfbcd",
   "metadata": {},
   "source": [
    "# Italic Bibles"
   ]
  },
  {
   "cell_type": "markdown",
   "id": "61244e71-2b7f-49de-a6d9-de0e9066fc42",
   "metadata": {},
   "source": [
    "## French"
   ]
  },
  {
   "cell_type": "code",
   "execution_count": 5,
   "id": "99f16690-4306-4c53-9d99-771928fc7727",
   "metadata": {
    "collapsed": true,
    "jupyter": {
     "outputs_hidden": true
    },
    "tags": []
   },
   "outputs": [
    {
     "name": "stdout",
     "output_type": "stream",
     "text": [
      "Collecting simplemma\n",
      "  Downloading simplemma-0.9.1-py3-none-any.whl (75.5 MB)\n",
      "                                              0.0/75.5 MB ? eta -:--:--\n",
      "                                              0.0/75.5 MB ? eta -:--:--\n",
      "                                             0.0/75.5 MB 393.8 kB/s eta 0:03:12\n",
      "                                             0.1/75.5 MB 901.1 kB/s eta 0:01:24\n",
      "                                              0.3/75.5 MB 1.5 MB/s eta 0:00:49\n",
      "                                              0.5/75.5 MB 2.3 MB/s eta 0:00:33\n",
      "                                              0.9/75.5 MB 3.3 MB/s eta 0:00:23\n",
      "                                              1.4/75.5 MB 4.5 MB/s eta 0:00:17\n",
      "     -                                        2.4/75.5 MB 6.7 MB/s eta 0:00:11\n",
      "     --                                       4.1/75.5 MB 10.0 MB/s eta 0:00:08\n",
      "     ---                                      6.0/75.5 MB 12.8 MB/s eta 0:00:06\n",
      "     ----                                     8.3/75.5 MB 16.5 MB/s eta 0:00:05\n",
      "     -----                                   10.4/75.5 MB 24.2 MB/s eta 0:00:03\n",
      "     -----                                   10.5/75.5 MB 26.2 MB/s eta 0:00:03\n",
      "     -----                                   10.5/75.5 MB 26.2 MB/s eta 0:00:03\n",
      "     -----                                   10.5/75.5 MB 26.2 MB/s eta 0:00:03\n",
      "     -----                                   10.5/75.5 MB 26.2 MB/s eta 0:00:03\n",
      "     -----                                   10.5/75.5 MB 26.2 MB/s eta 0:00:03\n",
      "     -----                                   10.5/75.5 MB 26.2 MB/s eta 0:00:03\n",
      "     ------                                  12.4/75.5 MB 19.3 MB/s eta 0:00:04\n",
      "     -------                                 14.6/75.5 MB 20.5 MB/s eta 0:00:03\n",
      "     --------                                16.3/75.5 MB 19.9 MB/s eta 0:00:03\n",
      "     --------                                17.2/75.5 MB 18.7 MB/s eta 0:00:04\n",
      "     --------                                17.2/75.5 MB 18.7 MB/s eta 0:00:04\n",
      "     --------                                17.2/75.5 MB 18.7 MB/s eta 0:00:04\n",
      "     --------                                17.2/75.5 MB 18.7 MB/s eta 0:00:04\n",
      "     ----------                              19.7/75.5 MB 14.2 MB/s eta 0:00:04\n",
      "     ------------                            24.9/75.5 MB 31.2 MB/s eta 0:00:02\n",
      "     -------------                           27.1/75.5 MB 32.8 MB/s eta 0:00:02\n",
      "     --------------                          29.0/75.5 MB 65.6 MB/s eta 0:00:01\n",
      "     ---------------                         30.4/75.5 MB 65.6 MB/s eta 0:00:01\n",
      "     ----------------                        31.4/75.5 MB 46.7 MB/s eta 0:00:01\n",
      "     ----------------                        32.5/75.5 MB 40.9 MB/s eta 0:00:02\n",
      "     ----------------                        32.5/75.5 MB 40.9 MB/s eta 0:00:02\n",
      "     -----------------                       33.6/75.5 MB 29.8 MB/s eta 0:00:02\n",
      "     ------------------                      35.8/75.5 MB 28.5 MB/s eta 0:00:02\n",
      "     -------------------                     38.0/75.5 MB 29.7 MB/s eta 0:00:02\n",
      "     --------------------                    40.2/75.5 MB 29.7 MB/s eta 0:00:02\n",
      "     ---------------------                   42.2/75.5 MB 32.8 MB/s eta 0:00:02\n",
      "     ----------------------                  44.1/75.5 MB 43.7 MB/s eta 0:00:01\n",
      "     -----------------------                 46.4/75.5 MB 43.7 MB/s eta 0:00:01\n",
      "     ------------------------                48.2/75.5 MB 46.9 MB/s eta 0:00:01\n",
      "     -------------------------               48.5/75.5 MB 38.6 MB/s eta 0:00:01\n",
      "     --------------------------              50.6/75.5 MB 36.4 MB/s eta 0:00:01\n",
      "     ---------------------------             52.7/75.5 MB 38.5 MB/s eta 0:00:01\n",
      "     ----------------------------            54.8/75.5 MB 43.7 MB/s eta 0:00:01\n",
      "     -----------------------------           56.7/75.5 MB 36.4 MB/s eta 0:00:01\n",
      "     ------------------------------          58.8/75.5 MB 40.9 MB/s eta 0:00:01\n",
      "     -------------------------------         60.9/75.5 MB 43.7 MB/s eta 0:00:01\n",
      "     --------------------------------        63.0/75.5 MB 43.7 MB/s eta 0:00:01\n",
      "     ---------------------------------       64.0/75.5 MB 40.9 MB/s eta 0:00:01\n",
      "     ---------------------------------       64.8/75.5 MB 34.4 MB/s eta 0:00:01\n",
      "     ----------------------------------      66.6/75.5 MB 36.3 MB/s eta 0:00:01\n",
      "     -----------------------------------     68.6/75.5 MB 36.3 MB/s eta 0:00:01\n",
      "     ------------------------------------    70.5/75.5 MB 36.4 MB/s eta 0:00:01\n",
      "     ------------------------------------    71.5/75.5 MB 31.2 MB/s eta 0:00:01\n",
      "     -------------------------------------   72.3/75.5 MB 31.1 MB/s eta 0:00:01\n",
      "     -------------------------------------   72.3/75.5 MB 31.1 MB/s eta 0:00:01\n",
      "     --------------------------------------  74.1/75.5 MB 25.1 MB/s eta 0:00:01\n",
      "     --------------------------------------  75.5/75.5 MB 31.2 MB/s eta 0:00:01\n",
      "     --------------------------------------  75.5/75.5 MB 31.2 MB/s eta 0:00:01\n",
      "     --------------------------------------  75.5/75.5 MB 31.2 MB/s eta 0:00:01\n",
      "     --------------------------------------  75.5/75.5 MB 31.2 MB/s eta 0:00:01\n",
      "     --------------------------------------- 75.5/75.5 MB 19.3 MB/s eta 0:00:00\n",
      "Installing collected packages: simplemma\n",
      "Successfully installed simplemma-0.9.1\n",
      "Note: you may need to restart the kernel to use updated packages.\n"
     ]
    }
   ],
   "source": [
    "pip install simplemma"
   ]
  },
  {
   "cell_type": "code",
   "execution_count": 6,
   "id": "84c86dce-b876-4b54-a54e-2dfa6e060d58",
   "metadata": {
    "tags": []
   },
   "outputs": [],
   "source": [
    "from gensim.models import Word2Vec\n",
    "import nltk\n",
    "from nltk.tokenize import sent_tokenize, RegexpTokenizer\n",
    "from nltk.corpus import stopwords\n",
    "from nltk import word_tokenize\n",
    "from nltk.corpus import stopwords\n",
    "from nltk.stem import WordNetLemmatizer\n",
    "from french_lefff_lemmatizer.french_lefff_lemmatizer import FrenchLefffLemmatizer\n",
    "import simplemma"
   ]
  },
  {
   "cell_type": "code",
   "execution_count": 48,
   "id": "20d8b367-c602-4261-8d28-2b0394835fd0",
   "metadata": {
    "tags": []
   },
   "outputs": [],
   "source": [
    "with open('data/bibles/french/french_bible_processed.txt', 'w', encoding = 'utf-8') as f:\n",
    "    with open(\"texts/italic_bibles/french_bible.txt\", 'r') as g:\n",
    "        text = g.read()\n",
    "        tokens = word_tokenize(text)\n",
    "        stop = set(stopwords.words('french'))\n",
    "        for i in tokens:\n",
    "            f.write(simplemma.lemmatize(i, lang = 'fr') + ' ')"
   ]
  },
  {
   "cell_type": "code",
   "execution_count": 55,
   "id": "e65294b8-5f89-472f-ac9b-5fad292ef8f2",
   "metadata": {
    "tags": []
   },
   "outputs": [],
   "source": [
    "with open('data/bibles/french/french_bible_processed.txt', 'r', encoding = 'utf-8') as f:\n",
    "    corpus = f.read()\n",
    "    fr_model = Word2Vec(sentences = corpus, \n",
    "                 vector_size = 100, \n",
    "                 window = 20,\n",
    "                 epochs = 100)"
   ]
  },
  {
   "cell_type": "markdown",
   "id": "85caca5a-fe29-472e-94b1-c87a1082d797",
   "metadata": {},
   "source": [
    "### Spanish"
   ]
  },
  {
   "cell_type": "code",
   "execution_count": 49,
   "id": "9a09ad0f-0985-4a1c-8fc3-6fb2d38e90e8",
   "metadata": {
    "tags": []
   },
   "outputs": [],
   "source": [
    "with open('data/bibles/spanish/spanish_bible_processed.txt', 'w', encoding = 'utf-8') as f:\n",
    "    with open(\"texts/italic_bibles/spanish_bible.txt\", 'r') as g:\n",
    "        text = g.read()\n",
    "        tokens = word_tokenize(text)\n",
    "        stop = set(stopwords.words('spanish'))\n",
    "        for i in tokens:\n",
    "            f.write(simplemma.lemmatize(i, lang = 'es') + ' ')"
   ]
  },
  {
   "cell_type": "code",
   "execution_count": 56,
   "id": "81bae4d8-b7fe-4ab7-a322-c448bb871413",
   "metadata": {
    "tags": []
   },
   "outputs": [],
   "source": [
    "with open('data/bibles/spanish/spanish_bible_processed.txt', 'r', encoding = 'utf-8') as f:\n",
    "    corpus = f.read()\n",
    "    es_model = Word2Vec(sentences = corpus, \n",
    "                 vector_size = 100, \n",
    "                 window = 20,\n",
    "                 epochs = 100)"
   ]
  },
  {
   "cell_type": "markdown",
   "id": "a7f2caf3-d02f-4297-aa78-8bbe78902278",
   "metadata": {},
   "source": [
    "### Italian"
   ]
  },
  {
   "cell_type": "code",
   "execution_count": 50,
   "id": "97fd56a3-2e57-4659-8ff1-e6916f20eb3d",
   "metadata": {
    "tags": []
   },
   "outputs": [],
   "source": [
    "with open('data/bibles/italian/italian_bible_processed.txt', 'w', encoding = 'utf-8') as f:\n",
    "    with open(\"texts/italic_bibles/italian_bible.txt\", 'r') as g:\n",
    "        text = g.read()\n",
    "        tokens = word_tokenize(text)\n",
    "        stop = set(stopwords.words('italian'))\n",
    "        for i in tokens:\n",
    "            f.write(simplemma.lemmatize(i, lang = 'it') + ' ')"
   ]
  },
  {
   "cell_type": "code",
   "execution_count": 57,
   "id": "ddfc0be5-162a-46e9-9918-b5dbb76f3a2f",
   "metadata": {
    "tags": []
   },
   "outputs": [],
   "source": [
    "with open('data/bibles/italian/italian_bible_processed.txt', 'r', encoding = 'utf-8') as f:\n",
    "    corpus = f.read()\n",
    "    it_model = Word2Vec(sentences = corpus, \n",
    "                 vector_size = 100, \n",
    "                 window = 20,\n",
    "                 epochs = 100)"
   ]
  },
  {
   "cell_type": "markdown",
   "id": "942b1cc7-9df7-417b-b7b7-b7facc729522",
   "metadata": {},
   "source": [
    "### Latin"
   ]
  },
  {
   "cell_type": "code",
   "execution_count": 52,
   "id": "9217726f-f4ee-47f8-81bb-cf5194d9747c",
   "metadata": {
    "tags": []
   },
   "outputs": [],
   "source": [
    "with open('data/bibles/latin/latin_bible_processed.txt', 'w', encoding = 'utf-8') as f:\n",
    "    with open(\"texts/italic_bibles/latin_bible.txt\", 'r') as g:\n",
    "        text = g.read()\n",
    "        tokens = word_tokenize(text)\n",
    "        for i in tokens:\n",
    "            f.write(simplemma.lemmatize(i, lang = 'la') + ' ')"
   ]
  },
  {
   "cell_type": "code",
   "execution_count": 58,
   "id": "66097f06-4705-48f3-a8e9-d5a7a527adcc",
   "metadata": {
    "tags": []
   },
   "outputs": [],
   "source": [
    "with open('data/bibles/latin/latin_bible_processed.txt', 'r', encoding = 'utf-8') as f:\n",
    "    corpus = f.read()\n",
    "    la_model = Word2Vec(sentences = corpus, \n",
    "                 vector_size = 100, \n",
    "                 window = 20,\n",
    "                 epochs = 100)"
   ]
  }
 ],
 "metadata": {
  "kernelspec": {
   "display_name": "Python 3 (ipykernel)",
   "language": "python",
   "name": "python3"
  },
  "language_info": {
   "codemirror_mode": {
    "name": "ipython",
    "version": 3
   },
   "file_extension": ".py",
   "mimetype": "text/x-python",
   "name": "python",
   "nbconvert_exporter": "python",
   "pygments_lexer": "ipython3",
   "version": "3.8.16"
  }
 },
 "nbformat": 4,
 "nbformat_minor": 5
}
