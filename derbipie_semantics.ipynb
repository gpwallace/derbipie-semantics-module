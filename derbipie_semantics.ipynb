{
 "cells": [
  {
   "cell_type": "markdown",
   "id": "a4a1b6fa-be17-4083-b209-0ca13de1a55b",
   "metadata": {},
   "source": [
    "# DERBi PIE Semantics Module"
   ]
  },
  {
   "cell_type": "code",
   "execution_count": 1,
   "id": "bf800dee-f6c6-4559-b2b5-8d4dda5b3d92",
   "metadata": {
    "tags": []
   },
   "outputs": [],
   "source": [
    "# installing modules below:"
   ]
  },
  {
   "cell_type": "code",
   "execution_count": 2,
   "id": "9bc52003-b440-42b8-b3e8-04ecf6226e45",
   "metadata": {
    "collapsed": true,
    "jupyter": {
     "outputs_hidden": true
    },
    "tags": []
   },
   "outputs": [
    {
     "name": "stdout",
     "output_type": "stream",
     "text": [
      "Requirement already satisfied: gensim in c:\\users\\gpwal\\appdata\\roaming\\jupyterlab-desktop\\jlab_server\\lib\\site-packages (4.3.1)\n",
      "Requirement already satisfied: numpy>=1.18.5 in c:\\users\\gpwal\\appdata\\roaming\\jupyterlab-desktop\\jlab_server\\lib\\site-packages (from gensim) (1.24.3)\n",
      "Requirement already satisfied: scipy>=1.7.0 in c:\\users\\gpwal\\appdata\\roaming\\jupyterlab-desktop\\jlab_server\\lib\\site-packages (from gensim) (1.10.1)\n",
      "Requirement already satisfied: smart-open>=1.8.1 in c:\\users\\gpwal\\appdata\\roaming\\jupyterlab-desktop\\jlab_server\\lib\\site-packages (from gensim) (6.3.0)\n",
      "Note: you may need to restart the kernel to use updated packages.\n"
     ]
    }
   ],
   "source": [
    "pip install gensim"
   ]
  },
  {
   "cell_type": "code",
   "execution_count": 3,
   "id": "5e8388d7-c4fc-4e22-878d-134926eb7c56",
   "metadata": {
    "collapsed": true,
    "jupyter": {
     "outputs_hidden": true
    },
    "tags": []
   },
   "outputs": [
    {
     "name": "stdout",
     "output_type": "stream",
     "text": [
      "Requirement already satisfied: nltk in c:\\users\\gpwal\\appdata\\roaming\\jupyterlab-desktop\\jlab_server\\lib\\site-packages (3.8.1)\n",
      "Requirement already satisfied: click in c:\\users\\gpwal\\appdata\\roaming\\jupyterlab-desktop\\jlab_server\\lib\\site-packages (from nltk) (8.1.3)\n",
      "Requirement already satisfied: joblib in c:\\users\\gpwal\\appdata\\roaming\\jupyterlab-desktop\\jlab_server\\lib\\site-packages (from nltk) (1.2.0)\n",
      "Requirement already satisfied: regex>=2021.8.3 in c:\\users\\gpwal\\appdata\\roaming\\jupyterlab-desktop\\jlab_server\\lib\\site-packages (from nltk) (2023.5.5)\n",
      "Requirement already satisfied: tqdm in c:\\users\\gpwal\\appdata\\roaming\\jupyterlab-desktop\\jlab_server\\lib\\site-packages (from nltk) (4.65.0)\n",
      "Requirement already satisfied: colorama in c:\\users\\gpwal\\appdata\\roaming\\jupyterlab-desktop\\jlab_server\\lib\\site-packages (from click->nltk) (0.4.6)\n",
      "Note: you may need to restart the kernel to use updated packages.\n"
     ]
    }
   ],
   "source": [
    "pip install nltk"
   ]
  },
  {
   "cell_type": "code",
   "execution_count": 4,
   "id": "83bd716a-0822-4d73-a590-0d6753eab633",
   "metadata": {
    "collapsed": true,
    "jupyter": {
     "outputs_hidden": true
    },
    "tags": []
   },
   "outputs": [
    {
     "name": "stdout",
     "output_type": "stream",
     "text": [
      "Requirement already satisfied: scipy in c:\\users\\gpwal\\appdata\\roaming\\jupyterlab-desktop\\jlab_server\\lib\\site-packages (1.10.1)\n",
      "Requirement already satisfied: numpy<1.27.0,>=1.19.5 in c:\\users\\gpwal\\appdata\\roaming\\jupyterlab-desktop\\jlab_server\\lib\\site-packages (from scipy) (1.24.3)\n",
      "Note: you may need to restart the kernel to use updated packages.\n"
     ]
    }
   ],
   "source": [
    "pip install scipy"
   ]
  },
  {
   "cell_type": "code",
   "execution_count": 5,
   "id": "ffd5d8b2-cdc4-4390-b8f0-917f799e8c77",
   "metadata": {
    "collapsed": true,
    "jupyter": {
     "outputs_hidden": true
    },
    "tags": []
   },
   "outputs": [
    {
     "name": "stdout",
     "output_type": "stream",
     "text": [
      "Requirement already satisfied: gutenbergpy in c:\\users\\gpwal\\appdata\\roaming\\jupyterlab-desktop\\jlab_server\\lib\\site-packages (0.3.5)\n",
      "Requirement already satisfied: future>=0.15.2 in c:\\users\\gpwal\\appdata\\roaming\\jupyterlab-desktop\\jlab_server\\lib\\site-packages (from gutenbergpy) (0.18.3)\n",
      "Requirement already satisfied: httpsproxy-urllib2 in c:\\users\\gpwal\\appdata\\roaming\\jupyterlab-desktop\\jlab_server\\lib\\site-packages (from gutenbergpy) (1.0)\n",
      "Requirement already satisfied: lxml>=3.2.0 in c:\\users\\gpwal\\appdata\\roaming\\jupyterlab-desktop\\jlab_server\\lib\\site-packages (from gutenbergpy) (4.9.2)\n",
      "Requirement already satisfied: pymongo in c:\\users\\gpwal\\appdata\\roaming\\jupyterlab-desktop\\jlab_server\\lib\\site-packages (from gutenbergpy) (4.3.3)\n",
      "Requirement already satisfied: setuptools>=18.5 in c:\\users\\gpwal\\appdata\\roaming\\jupyterlab-desktop\\jlab_server\\lib\\site-packages (from gutenbergpy) (67.7.2)\n",
      "Requirement already satisfied: chardet in c:\\users\\gpwal\\appdata\\roaming\\jupyterlab-desktop\\jlab_server\\lib\\site-packages (from gutenbergpy) (3.0.4)\n",
      "Requirement already satisfied: dnspython<3.0.0,>=1.16.0 in c:\\users\\gpwal\\appdata\\roaming\\jupyterlab-desktop\\jlab_server\\lib\\site-packages (from pymongo->gutenbergpy) (2.3.0)\n",
      "Note: you may need to restart the kernel to use updated packages.\n"
     ]
    }
   ],
   "source": [
    "pip install gutenbergpy"
   ]
  },
  {
   "cell_type": "code",
   "execution_count": 6,
   "id": "4b128a28-17ce-4e65-b12d-e492c229c1e6",
   "metadata": {
    "collapsed": true,
    "jupyter": {
     "outputs_hidden": true
    },
    "tags": []
   },
   "outputs": [
    {
     "name": "stdout",
     "output_type": "stream",
     "text": [
      "Requirement already satisfied: matplotlib in c:\\users\\gpwal\\appdata\\roaming\\jupyterlab-desktop\\jlab_server\\lib\\site-packages (3.7.1)\n",
      "Requirement already satisfied: contourpy>=1.0.1 in c:\\users\\gpwal\\appdata\\roaming\\jupyterlab-desktop\\jlab_server\\lib\\site-packages (from matplotlib) (1.0.7)\n",
      "Requirement already satisfied: cycler>=0.10 in c:\\users\\gpwal\\appdata\\roaming\\jupyterlab-desktop\\jlab_server\\lib\\site-packages (from matplotlib) (0.11.0)\n",
      "Requirement already satisfied: fonttools>=4.22.0 in c:\\users\\gpwal\\appdata\\roaming\\jupyterlab-desktop\\jlab_server\\lib\\site-packages (from matplotlib) (4.39.4)\n",
      "Requirement already satisfied: kiwisolver>=1.0.1 in c:\\users\\gpwal\\appdata\\roaming\\jupyterlab-desktop\\jlab_server\\lib\\site-packages (from matplotlib) (1.4.4)\n",
      "Requirement already satisfied: numpy>=1.20 in c:\\users\\gpwal\\appdata\\roaming\\jupyterlab-desktop\\jlab_server\\lib\\site-packages (from matplotlib) (1.24.3)\n",
      "Requirement already satisfied: packaging>=20.0 in c:\\users\\gpwal\\appdata\\roaming\\jupyterlab-desktop\\jlab_server\\lib\\site-packages (from matplotlib) (23.1)\n",
      "Requirement already satisfied: pillow>=6.2.0 in c:\\users\\gpwal\\appdata\\roaming\\jupyterlab-desktop\\jlab_server\\lib\\site-packages (from matplotlib) (9.5.0)\n",
      "Requirement already satisfied: pyparsing>=2.3.1 in c:\\users\\gpwal\\appdata\\roaming\\jupyterlab-desktop\\jlab_server\\lib\\site-packages (from matplotlib) (3.0.9)\n",
      "Requirement already satisfied: python-dateutil>=2.7 in c:\\users\\gpwal\\appdata\\roaming\\jupyterlab-desktop\\jlab_server\\lib\\site-packages (from matplotlib) (2.8.2)\n",
      "Requirement already satisfied: importlib-resources>=3.2.0 in c:\\users\\gpwal\\appdata\\roaming\\jupyterlab-desktop\\jlab_server\\lib\\site-packages (from matplotlib) (5.12.0)\n",
      "Requirement already satisfied: zipp>=3.1.0 in c:\\users\\gpwal\\appdata\\roaming\\jupyterlab-desktop\\jlab_server\\lib\\site-packages (from importlib-resources>=3.2.0->matplotlib) (3.15.0)\n",
      "Requirement already satisfied: six>=1.5 in c:\\users\\gpwal\\appdata\\roaming\\jupyterlab-desktop\\jlab_server\\lib\\site-packages (from python-dateutil>=2.7->matplotlib) (1.16.0)\n",
      "Note: you may need to restart the kernel to use updated packages.\n"
     ]
    }
   ],
   "source": [
    "pip install matplotlib"
   ]
  },
  {
   "cell_type": "code",
   "execution_count": 7,
   "id": "f4e04ee1-1740-4af5-83a0-04693e1babb7",
   "metadata": {
    "collapsed": true,
    "jupyter": {
     "outputs_hidden": true
    },
    "tags": []
   },
   "outputs": [
    {
     "name": "stdout",
     "output_type": "stream",
     "text": [
      "Requirement already satisfied: tabulate in c:\\users\\gpwal\\appdata\\roaming\\jupyterlab-desktop\\jlab_server\\lib\\site-packages (0.9.0)\n",
      "Note: you may need to restart the kernel to use updated packages.\n"
     ]
    }
   ],
   "source": [
    "pip install tabulate"
   ]
  },
  {
   "cell_type": "code",
   "execution_count": 8,
   "id": "49865743-d078-4b05-a321-24dc4362c7d4",
   "metadata": {
    "collapsed": true,
    "jupyter": {
     "outputs_hidden": true
    },
    "tags": []
   },
   "outputs": [
    {
     "name": "stdout",
     "output_type": "stream",
     "text": [
      "Requirement already satisfied: sklearn in c:\\users\\gpwal\\appdata\\roaming\\jupyterlab-desktop\\jlab_server\\lib\\site-packages (0.0.post5)Note: you may need to restart the kernel to use updated packages.\n",
      "\n"
     ]
    }
   ],
   "source": [
    "pip install sklearn"
   ]
  },
  {
   "cell_type": "code",
   "execution_count": 9,
   "id": "dd8741f6-868d-4b32-800f-5732391ec6c9",
   "metadata": {
    "collapsed": true,
    "jupyter": {
     "outputs_hidden": true
    },
    "tags": []
   },
   "outputs": [
    {
     "name": "stdout",
     "output_type": "stream",
     "text": [
      "Requirement already satisfied: plotly in c:\\users\\gpwal\\appdata\\roaming\\jupyterlab-desktop\\jlab_server\\lib\\site-packages (5.14.1)\n",
      "Requirement already satisfied: tenacity>=6.2.0 in c:\\users\\gpwal\\appdata\\roaming\\jupyterlab-desktop\\jlab_server\\lib\\site-packages (from plotly) (8.2.2)\n",
      "Requirement already satisfied: packaging in c:\\users\\gpwal\\appdata\\roaming\\jupyterlab-desktop\\jlab_server\\lib\\site-packages (from plotly) (23.1)\n",
      "Note: you may need to restart the kernel to use updated packages.\n"
     ]
    }
   ],
   "source": [
    "pip install plotly"
   ]
  },
  {
   "cell_type": "code",
   "execution_count": 10,
   "id": "30d1ec80-726e-48cf-a51e-06d24e883ad7",
   "metadata": {
    "collapsed": true,
    "jupyter": {
     "outputs_hidden": true
    },
    "tags": []
   },
   "outputs": [
    {
     "name": "stdout",
     "output_type": "stream",
     "text": [
      "Requirement already satisfied: wheel in c:\\users\\gpwal\\appdata\\roaming\\jupyterlab-desktop\\jlab_server\\lib\\site-packages (0.40.0)\n",
      "Note: you may need to restart the kernel to use updated packages.\n"
     ]
    }
   ],
   "source": [
    "pip install wheel"
   ]
  },
  {
   "cell_type": "code",
   "execution_count": 11,
   "id": "fd61abbf-7303-4ce2-bd76-54f194c35cfc",
   "metadata": {
    "collapsed": true,
    "jupyter": {
     "outputs_hidden": true
    },
    "tags": []
   },
   "outputs": [
    {
     "name": "stdout",
     "output_type": "stream",
     "text": [
      "Requirement already satisfied: cltk in c:\\users\\gpwal\\appdata\\roaming\\jupyterlab-desktop\\jlab_server\\lib\\site-packages (1.1.6)\n",
      "Requirement already satisfied: PyYAML<7.0.0,>=6.0.0 in c:\\users\\gpwal\\appdata\\roaming\\jupyterlab-desktop\\jlab_server\\lib\\site-packages (from cltk) (6.0)\n",
      "Requirement already satisfied: boltons<22.0.0,>=21.0.0 in c:\\users\\gpwal\\appdata\\roaming\\jupyterlab-desktop\\jlab_server\\lib\\site-packages (from cltk) (21.0.0)\n",
      "Requirement already satisfied: gensim<5.0.0,>=4.1.2 in c:\\users\\gpwal\\appdata\\roaming\\jupyterlab-desktop\\jlab_server\\lib\\site-packages (from cltk) (4.3.1)\n",
      "Requirement already satisfied: gitpython<4.0,>=3.0 in c:\\users\\gpwal\\appdata\\roaming\\jupyterlab-desktop\\jlab_server\\lib\\site-packages (from cltk) (3.1.31)\n",
      "Requirement already satisfied: greek-accentuation<2.0.0,>=1.2.0 in c:\\users\\gpwal\\appdata\\roaming\\jupyterlab-desktop\\jlab_server\\lib\\site-packages (from cltk) (1.2.0)\n",
      "Requirement already satisfied: nltk<4.0,>=3.7 in c:\\users\\gpwal\\appdata\\roaming\\jupyterlab-desktop\\jlab_server\\lib\\site-packages (from cltk) (3.8.1)\n",
      "Requirement already satisfied: python-Levenshtein<0.13.0,>=0.12.0 in c:\\users\\gpwal\\appdata\\roaming\\jupyterlab-desktop\\jlab_server\\lib\\site-packages (from cltk) (0.12.2)\n",
      "Requirement already satisfied: requests<3.0.0,>=2.22.0 in c:\\users\\gpwal\\appdata\\roaming\\jupyterlab-desktop\\jlab_server\\lib\\site-packages (from cltk) (2.29.0)\n",
      "Requirement already satisfied: scikit-learn<2.0.0,>=1.0.2 in c:\\users\\gpwal\\appdata\\roaming\\jupyterlab-desktop\\jlab_server\\lib\\site-packages (from cltk) (1.2.2)\n",
      "Requirement already satisfied: scipy<2.0.0,>=1.8.0 in c:\\users\\gpwal\\appdata\\roaming\\jupyterlab-desktop\\jlab_server\\lib\\site-packages (from cltk) (1.10.1)\n",
      "Requirement already satisfied: spacy<4.0.0,>=3.2.4 in c:\\users\\gpwal\\appdata\\roaming\\jupyterlab-desktop\\jlab_server\\lib\\site-packages (from cltk) (3.5.3)\n",
      "Requirement already satisfied: stanza<2.0.0,>=1.3.0 in c:\\users\\gpwal\\appdata\\roaming\\jupyterlab-desktop\\jlab_server\\lib\\site-packages (from cltk) (1.5.0)\n",
      "Requirement already satisfied: stringcase<2.0,>=1.2 in c:\\users\\gpwal\\appdata\\roaming\\jupyterlab-desktop\\jlab_server\\lib\\site-packages (from cltk) (1.2.0)\n",
      "Requirement already satisfied: tqdm<5.0.0,>=4.41.1 in c:\\users\\gpwal\\appdata\\roaming\\jupyterlab-desktop\\jlab_server\\lib\\site-packages (from cltk) (4.65.0)\n",
      "Requirement already satisfied: numpy>=1.18.5 in c:\\users\\gpwal\\appdata\\roaming\\jupyterlab-desktop\\jlab_server\\lib\\site-packages (from gensim<5.0.0,>=4.1.2->cltk) (1.24.3)\n",
      "Requirement already satisfied: smart-open>=1.8.1 in c:\\users\\gpwal\\appdata\\roaming\\jupyterlab-desktop\\jlab_server\\lib\\site-packages (from gensim<5.0.0,>=4.1.2->cltk) (6.3.0)\n",
      "Requirement already satisfied: gitdb<5,>=4.0.1 in c:\\users\\gpwal\\appdata\\roaming\\jupyterlab-desktop\\jlab_server\\lib\\site-packages (from gitpython<4.0,>=3.0->cltk) (4.0.10)\n",
      "Requirement already satisfied: click in c:\\users\\gpwal\\appdata\\roaming\\jupyterlab-desktop\\jlab_server\\lib\\site-packages (from nltk<4.0,>=3.7->cltk) (8.1.3)\n",
      "Requirement already satisfied: joblib in c:\\users\\gpwal\\appdata\\roaming\\jupyterlab-desktop\\jlab_server\\lib\\site-packages (from nltk<4.0,>=3.7->cltk) (1.2.0)\n",
      "Requirement already satisfied: regex>=2021.8.3 in c:\\users\\gpwal\\appdata\\roaming\\jupyterlab-desktop\\jlab_server\\lib\\site-packages (from nltk<4.0,>=3.7->cltk) (2023.5.5)\n",
      "Requirement already satisfied: setuptools in c:\\users\\gpwal\\appdata\\roaming\\jupyterlab-desktop\\jlab_server\\lib\\site-packages (from python-Levenshtein<0.13.0,>=0.12.0->cltk) (67.7.2)\n",
      "Requirement already satisfied: charset-normalizer<4,>=2 in c:\\users\\gpwal\\appdata\\roaming\\jupyterlab-desktop\\jlab_server\\lib\\site-packages (from requests<3.0.0,>=2.22.0->cltk) (3.1.0)\n",
      "Requirement already satisfied: idna<4,>=2.5 in c:\\users\\gpwal\\appdata\\roaming\\jupyterlab-desktop\\jlab_server\\lib\\site-packages (from requests<3.0.0,>=2.22.0->cltk) (2.10)\n",
      "Requirement already satisfied: urllib3<1.27,>=1.21.1 in c:\\users\\gpwal\\appdata\\roaming\\jupyterlab-desktop\\jlab_server\\lib\\site-packages (from requests<3.0.0,>=2.22.0->cltk) (1.26.15)\n",
      "Requirement already satisfied: certifi>=2017.4.17 in c:\\users\\gpwal\\appdata\\roaming\\jupyterlab-desktop\\jlab_server\\lib\\site-packages (from requests<3.0.0,>=2.22.0->cltk) (2023.5.7)\n",
      "Requirement already satisfied: threadpoolctl>=2.0.0 in c:\\users\\gpwal\\appdata\\roaming\\jupyterlab-desktop\\jlab_server\\lib\\site-packages (from scikit-learn<2.0.0,>=1.0.2->cltk) (3.1.0)\n",
      "Requirement already satisfied: spacy-legacy<3.1.0,>=3.0.11 in c:\\users\\gpwal\\appdata\\roaming\\jupyterlab-desktop\\jlab_server\\lib\\site-packages (from spacy<4.0.0,>=3.2.4->cltk) (3.0.12)\n",
      "Requirement already satisfied: spacy-loggers<2.0.0,>=1.0.0 in c:\\users\\gpwal\\appdata\\roaming\\jupyterlab-desktop\\jlab_server\\lib\\site-packages (from spacy<4.0.0,>=3.2.4->cltk) (1.0.4)\n",
      "Requirement already satisfied: murmurhash<1.1.0,>=0.28.0 in c:\\users\\gpwal\\appdata\\roaming\\jupyterlab-desktop\\jlab_server\\lib\\site-packages (from spacy<4.0.0,>=3.2.4->cltk) (1.0.9)\n",
      "Requirement already satisfied: cymem<2.1.0,>=2.0.2 in c:\\users\\gpwal\\appdata\\roaming\\jupyterlab-desktop\\jlab_server\\lib\\site-packages (from spacy<4.0.0,>=3.2.4->cltk) (2.0.7)\n",
      "Requirement already satisfied: preshed<3.1.0,>=3.0.2 in c:\\users\\gpwal\\appdata\\roaming\\jupyterlab-desktop\\jlab_server\\lib\\site-packages (from spacy<4.0.0,>=3.2.4->cltk) (3.0.8)\n",
      "Requirement already satisfied: thinc<8.2.0,>=8.1.8 in c:\\users\\gpwal\\appdata\\roaming\\jupyterlab-desktop\\jlab_server\\lib\\site-packages (from spacy<4.0.0,>=3.2.4->cltk) (8.1.10)\n",
      "Requirement already satisfied: wasabi<1.2.0,>=0.9.1 in c:\\users\\gpwal\\appdata\\roaming\\jupyterlab-desktop\\jlab_server\\lib\\site-packages (from spacy<4.0.0,>=3.2.4->cltk) (1.1.2)\n",
      "Requirement already satisfied: srsly<3.0.0,>=2.4.3 in c:\\users\\gpwal\\appdata\\roaming\\jupyterlab-desktop\\jlab_server\\lib\\site-packages (from spacy<4.0.0,>=3.2.4->cltk) (2.4.6)\n",
      "Requirement already satisfied: catalogue<2.1.0,>=2.0.6 in c:\\users\\gpwal\\appdata\\roaming\\jupyterlab-desktop\\jlab_server\\lib\\site-packages (from spacy<4.0.0,>=3.2.4->cltk) (2.0.8)\n",
      "Requirement already satisfied: typer<0.8.0,>=0.3.0 in c:\\users\\gpwal\\appdata\\roaming\\jupyterlab-desktop\\jlab_server\\lib\\site-packages (from spacy<4.0.0,>=3.2.4->cltk) (0.7.0)\n",
      "Requirement already satisfied: pathy>=0.10.0 in c:\\users\\gpwal\\appdata\\roaming\\jupyterlab-desktop\\jlab_server\\lib\\site-packages (from spacy<4.0.0,>=3.2.4->cltk) (0.10.1)\n",
      "Requirement already satisfied: pydantic!=1.8,!=1.8.1,<1.11.0,>=1.7.4 in c:\\users\\gpwal\\appdata\\roaming\\jupyterlab-desktop\\jlab_server\\lib\\site-packages (from spacy<4.0.0,>=3.2.4->cltk) (1.10.9)\n",
      "Requirement already satisfied: jinja2 in c:\\users\\gpwal\\appdata\\roaming\\jupyterlab-desktop\\jlab_server\\lib\\site-packages (from spacy<4.0.0,>=3.2.4->cltk) (3.1.2)\n",
      "Requirement already satisfied: packaging>=20.0 in c:\\users\\gpwal\\appdata\\roaming\\jupyterlab-desktop\\jlab_server\\lib\\site-packages (from spacy<4.0.0,>=3.2.4->cltk) (23.1)\n",
      "Requirement already satisfied: langcodes<4.0.0,>=3.2.0 in c:\\users\\gpwal\\appdata\\roaming\\jupyterlab-desktop\\jlab_server\\lib\\site-packages (from spacy<4.0.0,>=3.2.4->cltk) (3.3.0)\n",
      "Requirement already satisfied: emoji in c:\\users\\gpwal\\appdata\\roaming\\jupyterlab-desktop\\jlab_server\\lib\\site-packages (from stanza<2.0.0,>=1.3.0->cltk) (2.5.0)\n",
      "Requirement already satisfied: protobuf in c:\\users\\gpwal\\appdata\\roaming\\jupyterlab-desktop\\jlab_server\\lib\\site-packages (from stanza<2.0.0,>=1.3.0->cltk) (4.23.2)\n",
      "Requirement already satisfied: six in c:\\users\\gpwal\\appdata\\roaming\\jupyterlab-desktop\\jlab_server\\lib\\site-packages (from stanza<2.0.0,>=1.3.0->cltk) (1.16.0)\n",
      "Requirement already satisfied: torch>=1.3.0 in c:\\users\\gpwal\\appdata\\roaming\\jupyterlab-desktop\\jlab_server\\lib\\site-packages (from stanza<2.0.0,>=1.3.0->cltk) (2.0.1)\n",
      "Requirement already satisfied: colorama in c:\\users\\gpwal\\appdata\\roaming\\jupyterlab-desktop\\jlab_server\\lib\\site-packages (from tqdm<5.0.0,>=4.41.1->cltk) (0.4.6)\n",
      "Requirement already satisfied: smmap<6,>=3.0.1 in c:\\users\\gpwal\\appdata\\roaming\\jupyterlab-desktop\\jlab_server\\lib\\site-packages (from gitdb<5,>=4.0.1->gitpython<4.0,>=3.0->cltk) (5.0.0)\n",
      "Requirement already satisfied: typing-extensions>=4.2.0 in c:\\users\\gpwal\\appdata\\roaming\\jupyterlab-desktop\\jlab_server\\lib\\site-packages (from pydantic!=1.8,!=1.8.1,<1.11.0,>=1.7.4->spacy<4.0.0,>=3.2.4->cltk) (4.5.0)\n",
      "Requirement already satisfied: blis<0.8.0,>=0.7.8 in c:\\users\\gpwal\\appdata\\roaming\\jupyterlab-desktop\\jlab_server\\lib\\site-packages (from thinc<8.2.0,>=8.1.8->spacy<4.0.0,>=3.2.4->cltk) (0.7.9)\n",
      "Requirement already satisfied: confection<1.0.0,>=0.0.1 in c:\\users\\gpwal\\appdata\\roaming\\jupyterlab-desktop\\jlab_server\\lib\\site-packages (from thinc<8.2.0,>=8.1.8->spacy<4.0.0,>=3.2.4->cltk) (0.0.4)\n",
      "Requirement already satisfied: filelock in c:\\users\\gpwal\\appdata\\roaming\\jupyterlab-desktop\\jlab_server\\lib\\site-packages (from torch>=1.3.0->stanza<2.0.0,>=1.3.0->cltk) (3.12.2)\n",
      "Requirement already satisfied: sympy in c:\\users\\gpwal\\appdata\\roaming\\jupyterlab-desktop\\jlab_server\\lib\\site-packages (from torch>=1.3.0->stanza<2.0.0,>=1.3.0->cltk) (1.12)\n",
      "Requirement already satisfied: networkx in c:\\users\\gpwal\\appdata\\roaming\\jupyterlab-desktop\\jlab_server\\lib\\site-packages (from torch>=1.3.0->stanza<2.0.0,>=1.3.0->cltk) (3.1)\n",
      "Requirement already satisfied: MarkupSafe>=2.0 in c:\\users\\gpwal\\appdata\\roaming\\jupyterlab-desktop\\jlab_server\\lib\\site-packages (from jinja2->spacy<4.0.0,>=3.2.4->cltk) (2.1.2)\n",
      "Requirement already satisfied: mpmath>=0.19 in c:\\users\\gpwal\\appdata\\roaming\\jupyterlab-desktop\\jlab_server\\lib\\site-packages (from sympy->torch>=1.3.0->stanza<2.0.0,>=1.3.0->cltk) (1.3.0)\n",
      "Note: you may need to restart the kernel to use updated packages.\n"
     ]
    }
   ],
   "source": [
    "pip install cltk"
   ]
  },
  {
   "cell_type": "code",
   "execution_count": 12,
   "id": "ea0e656b-1262-4eaa-b26e-ce30ce07bada",
   "metadata": {
    "collapsed": true,
    "jupyter": {
     "outputs_hidden": true
    },
    "tags": []
   },
   "outputs": [
    {
     "name": "stdout",
     "output_type": "stream",
     "text": [
      "Requirement already satisfied: cltk in c:\\users\\gpwal\\appdata\\roaming\\jupyterlab-desktop\\jlab_server\\lib\\site-packages (1.1.6)\n",
      "Requirement already satisfied: PyYAML<7.0.0,>=6.0.0 in c:\\users\\gpwal\\appdata\\roaming\\jupyterlab-desktop\\jlab_server\\lib\\site-packages (from cltk) (6.0)\n",
      "Requirement already satisfied: boltons<22.0.0,>=21.0.0 in c:\\users\\gpwal\\appdata\\roaming\\jupyterlab-desktop\\jlab_server\\lib\\site-packages (from cltk) (21.0.0)\n",
      "Requirement already satisfied: gensim<5.0.0,>=4.1.2 in c:\\users\\gpwal\\appdata\\roaming\\jupyterlab-desktop\\jlab_server\\lib\\site-packages (from cltk) (4.3.1)\n",
      "Requirement already satisfied: gitpython<4.0,>=3.0 in c:\\users\\gpwal\\appdata\\roaming\\jupyterlab-desktop\\jlab_server\\lib\\site-packages (from cltk) (3.1.31)\n",
      "Requirement already satisfied: greek-accentuation<2.0.0,>=1.2.0 in c:\\users\\gpwal\\appdata\\roaming\\jupyterlab-desktop\\jlab_server\\lib\\site-packages (from cltk) (1.2.0)\n",
      "Requirement already satisfied: nltk<4.0,>=3.7 in c:\\users\\gpwal\\appdata\\roaming\\jupyterlab-desktop\\jlab_server\\lib\\site-packages (from cltk) (3.8.1)\n",
      "Requirement already satisfied: python-Levenshtein<0.13.0,>=0.12.0 in c:\\users\\gpwal\\appdata\\roaming\\jupyterlab-desktop\\jlab_server\\lib\\site-packages (from cltk) (0.12.2)\n",
      "Requirement already satisfied: requests<3.0.0,>=2.22.0 in c:\\users\\gpwal\\appdata\\roaming\\jupyterlab-desktop\\jlab_server\\lib\\site-packages (from cltk) (2.29.0)\n",
      "Requirement already satisfied: scikit-learn<2.0.0,>=1.0.2 in c:\\users\\gpwal\\appdata\\roaming\\jupyterlab-desktop\\jlab_server\\lib\\site-packages (from cltk) (1.2.2)\n",
      "Requirement already satisfied: scipy<2.0.0,>=1.8.0 in c:\\users\\gpwal\\appdata\\roaming\\jupyterlab-desktop\\jlab_server\\lib\\site-packages (from cltk) (1.10.1)\n",
      "Requirement already satisfied: spacy<4.0.0,>=3.2.4 in c:\\users\\gpwal\\appdata\\roaming\\jupyterlab-desktop\\jlab_server\\lib\\site-packages (from cltk) (3.5.3)\n",
      "Requirement already satisfied: stanza<2.0.0,>=1.3.0 in c:\\users\\gpwal\\appdata\\roaming\\jupyterlab-desktop\\jlab_server\\lib\\site-packages (from cltk) (1.5.0)\n",
      "Requirement already satisfied: stringcase<2.0,>=1.2 in c:\\users\\gpwal\\appdata\\roaming\\jupyterlab-desktop\\jlab_server\\lib\\site-packages (from cltk) (1.2.0)\n",
      "Requirement already satisfied: tqdm<5.0.0,>=4.41.1 in c:\\users\\gpwal\\appdata\\roaming\\jupyterlab-desktop\\jlab_server\\lib\\site-packages (from cltk) (4.65.0)\n",
      "Requirement already satisfied: numpy>=1.18.5 in c:\\users\\gpwal\\appdata\\roaming\\jupyterlab-desktop\\jlab_server\\lib\\site-packages (from gensim<5.0.0,>=4.1.2->cltk) (1.24.3)\n",
      "Requirement already satisfied: smart-open>=1.8.1 in c:\\users\\gpwal\\appdata\\roaming\\jupyterlab-desktop\\jlab_server\\lib\\site-packages (from gensim<5.0.0,>=4.1.2->cltk) (6.3.0)\n",
      "Requirement already satisfied: gitdb<5,>=4.0.1 in c:\\users\\gpwal\\appdata\\roaming\\jupyterlab-desktop\\jlab_server\\lib\\site-packages (from gitpython<4.0,>=3.0->cltk) (4.0.10)\n",
      "Requirement already satisfied: click in c:\\users\\gpwal\\appdata\\roaming\\jupyterlab-desktop\\jlab_server\\lib\\site-packages (from nltk<4.0,>=3.7->cltk) (8.1.3)\n",
      "Requirement already satisfied: joblib in c:\\users\\gpwal\\appdata\\roaming\\jupyterlab-desktop\\jlab_server\\lib\\site-packages (from nltk<4.0,>=3.7->cltk) (1.2.0)\n",
      "Requirement already satisfied: regex>=2021.8.3 in c:\\users\\gpwal\\appdata\\roaming\\jupyterlab-desktop\\jlab_server\\lib\\site-packages (from nltk<4.0,>=3.7->cltk) (2023.5.5)\n",
      "Requirement already satisfied: setuptools in c:\\users\\gpwal\\appdata\\roaming\\jupyterlab-desktop\\jlab_server\\lib\\site-packages (from python-Levenshtein<0.13.0,>=0.12.0->cltk) (67.7.2)\n",
      "Requirement already satisfied: charset-normalizer<4,>=2 in c:\\users\\gpwal\\appdata\\roaming\\jupyterlab-desktop\\jlab_server\\lib\\site-packages (from requests<3.0.0,>=2.22.0->cltk) (3.1.0)\n",
      "Requirement already satisfied: idna<4,>=2.5 in c:\\users\\gpwal\\appdata\\roaming\\jupyterlab-desktop\\jlab_server\\lib\\site-packages (from requests<3.0.0,>=2.22.0->cltk) (2.10)\n",
      "Requirement already satisfied: urllib3<1.27,>=1.21.1 in c:\\users\\gpwal\\appdata\\roaming\\jupyterlab-desktop\\jlab_server\\lib\\site-packages (from requests<3.0.0,>=2.22.0->cltk) (1.26.15)\n",
      "Requirement already satisfied: certifi>=2017.4.17 in c:\\users\\gpwal\\appdata\\roaming\\jupyterlab-desktop\\jlab_server\\lib\\site-packages (from requests<3.0.0,>=2.22.0->cltk) (2023.5.7)\n",
      "Requirement already satisfied: threadpoolctl>=2.0.0 in c:\\users\\gpwal\\appdata\\roaming\\jupyterlab-desktop\\jlab_server\\lib\\site-packages (from scikit-learn<2.0.0,>=1.0.2->cltk) (3.1.0)\n",
      "Requirement already satisfied: spacy-legacy<3.1.0,>=3.0.11 in c:\\users\\gpwal\\appdata\\roaming\\jupyterlab-desktop\\jlab_server\\lib\\site-packages (from spacy<4.0.0,>=3.2.4->cltk) (3.0.12)\n",
      "Requirement already satisfied: spacy-loggers<2.0.0,>=1.0.0 in c:\\users\\gpwal\\appdata\\roaming\\jupyterlab-desktop\\jlab_server\\lib\\site-packages (from spacy<4.0.0,>=3.2.4->cltk) (1.0.4)\n",
      "Requirement already satisfied: murmurhash<1.1.0,>=0.28.0 in c:\\users\\gpwal\\appdata\\roaming\\jupyterlab-desktop\\jlab_server\\lib\\site-packages (from spacy<4.0.0,>=3.2.4->cltk) (1.0.9)\n",
      "Requirement already satisfied: cymem<2.1.0,>=2.0.2 in c:\\users\\gpwal\\appdata\\roaming\\jupyterlab-desktop\\jlab_server\\lib\\site-packages (from spacy<4.0.0,>=3.2.4->cltk) (2.0.7)\n",
      "Requirement already satisfied: preshed<3.1.0,>=3.0.2 in c:\\users\\gpwal\\appdata\\roaming\\jupyterlab-desktop\\jlab_server\\lib\\site-packages (from spacy<4.0.0,>=3.2.4->cltk) (3.0.8)\n",
      "Requirement already satisfied: thinc<8.2.0,>=8.1.8 in c:\\users\\gpwal\\appdata\\roaming\\jupyterlab-desktop\\jlab_server\\lib\\site-packages (from spacy<4.0.0,>=3.2.4->cltk) (8.1.10)\n",
      "Requirement already satisfied: wasabi<1.2.0,>=0.9.1 in c:\\users\\gpwal\\appdata\\roaming\\jupyterlab-desktop\\jlab_server\\lib\\site-packages (from spacy<4.0.0,>=3.2.4->cltk) (1.1.2)\n",
      "Requirement already satisfied: srsly<3.0.0,>=2.4.3 in c:\\users\\gpwal\\appdata\\roaming\\jupyterlab-desktop\\jlab_server\\lib\\site-packages (from spacy<4.0.0,>=3.2.4->cltk) (2.4.6)\n",
      "Requirement already satisfied: catalogue<2.1.0,>=2.0.6 in c:\\users\\gpwal\\appdata\\roaming\\jupyterlab-desktop\\jlab_server\\lib\\site-packages (from spacy<4.0.0,>=3.2.4->cltk) (2.0.8)\n",
      "Requirement already satisfied: typer<0.8.0,>=0.3.0 in c:\\users\\gpwal\\appdata\\roaming\\jupyterlab-desktop\\jlab_server\\lib\\site-packages (from spacy<4.0.0,>=3.2.4->cltk) (0.7.0)\n",
      "Requirement already satisfied: pathy>=0.10.0 in c:\\users\\gpwal\\appdata\\roaming\\jupyterlab-desktop\\jlab_server\\lib\\site-packages (from spacy<4.0.0,>=3.2.4->cltk) (0.10.1)\n",
      "Requirement already satisfied: pydantic!=1.8,!=1.8.1,<1.11.0,>=1.7.4 in c:\\users\\gpwal\\appdata\\roaming\\jupyterlab-desktop\\jlab_server\\lib\\site-packages (from spacy<4.0.0,>=3.2.4->cltk) (1.10.9)\n",
      "Requirement already satisfied: jinja2 in c:\\users\\gpwal\\appdata\\roaming\\jupyterlab-desktop\\jlab_server\\lib\\site-packages (from spacy<4.0.0,>=3.2.4->cltk) (3.1.2)\n",
      "Requirement already satisfied: packaging>=20.0 in c:\\users\\gpwal\\appdata\\roaming\\jupyterlab-desktop\\jlab_server\\lib\\site-packages (from spacy<4.0.0,>=3.2.4->cltk) (23.1)\n",
      "Requirement already satisfied: langcodes<4.0.0,>=3.2.0 in c:\\users\\gpwal\\appdata\\roaming\\jupyterlab-desktop\\jlab_server\\lib\\site-packages (from spacy<4.0.0,>=3.2.4->cltk) (3.3.0)\n",
      "Requirement already satisfied: emoji in c:\\users\\gpwal\\appdata\\roaming\\jupyterlab-desktop\\jlab_server\\lib\\site-packages (from stanza<2.0.0,>=1.3.0->cltk) (2.5.0)\n",
      "Requirement already satisfied: protobuf in c:\\users\\gpwal\\appdata\\roaming\\jupyterlab-desktop\\jlab_server\\lib\\site-packages (from stanza<2.0.0,>=1.3.0->cltk) (4.23.2)\n",
      "Requirement already satisfied: six in c:\\users\\gpwal\\appdata\\roaming\\jupyterlab-desktop\\jlab_server\\lib\\site-packages (from stanza<2.0.0,>=1.3.0->cltk) (1.16.0)\n",
      "Requirement already satisfied: torch>=1.3.0 in c:\\users\\gpwal\\appdata\\roaming\\jupyterlab-desktop\\jlab_server\\lib\\site-packages (from stanza<2.0.0,>=1.3.0->cltk) (2.0.1)\n",
      "Requirement already satisfied: colorama in c:\\users\\gpwal\\appdata\\roaming\\jupyterlab-desktop\\jlab_server\\lib\\site-packages (from tqdm<5.0.0,>=4.41.1->cltk) (0.4.6)\n",
      "Requirement already satisfied: smmap<6,>=3.0.1 in c:\\users\\gpwal\\appdata\\roaming\\jupyterlab-desktop\\jlab_server\\lib\\site-packages (from gitdb<5,>=4.0.1->gitpython<4.0,>=3.0->cltk) (5.0.0)\n",
      "Requirement already satisfied: typing-extensions>=4.2.0 in c:\\users\\gpwal\\appdata\\roaming\\jupyterlab-desktop\\jlab_server\\lib\\site-packages (from pydantic!=1.8,!=1.8.1,<1.11.0,>=1.7.4->spacy<4.0.0,>=3.2.4->cltk) (4.5.0)\n",
      "Requirement already satisfied: blis<0.8.0,>=0.7.8 in c:\\users\\gpwal\\appdata\\roaming\\jupyterlab-desktop\\jlab_server\\lib\\site-packages (from thinc<8.2.0,>=8.1.8->spacy<4.0.0,>=3.2.4->cltk) (0.7.9)\n",
      "Requirement already satisfied: confection<1.0.0,>=0.0.1 in c:\\users\\gpwal\\appdata\\roaming\\jupyterlab-desktop\\jlab_server\\lib\\site-packages (from thinc<8.2.0,>=8.1.8->spacy<4.0.0,>=3.2.4->cltk) (0.0.4)\n",
      "Requirement already satisfied: filelock in c:\\users\\gpwal\\appdata\\roaming\\jupyterlab-desktop\\jlab_server\\lib\\site-packages (from torch>=1.3.0->stanza<2.0.0,>=1.3.0->cltk) (3.12.2)\n",
      "Requirement already satisfied: sympy in c:\\users\\gpwal\\appdata\\roaming\\jupyterlab-desktop\\jlab_server\\lib\\site-packages (from torch>=1.3.0->stanza<2.0.0,>=1.3.0->cltk) (1.12)\n",
      "Requirement already satisfied: networkx in c:\\users\\gpwal\\appdata\\roaming\\jupyterlab-desktop\\jlab_server\\lib\\site-packages (from torch>=1.3.0->stanza<2.0.0,>=1.3.0->cltk) (3.1)\n",
      "Requirement already satisfied: MarkupSafe>=2.0 in c:\\users\\gpwal\\appdata\\roaming\\jupyterlab-desktop\\jlab_server\\lib\\site-packages (from jinja2->spacy<4.0.0,>=3.2.4->cltk) (2.1.2)\n",
      "Requirement already satisfied: mpmath>=0.19 in c:\\users\\gpwal\\appdata\\roaming\\jupyterlab-desktop\\jlab_server\\lib\\site-packages (from sympy->torch>=1.3.0->stanza<2.0.0,>=1.3.0->cltk) (1.3.0)\n",
      "Note: you may need to restart the kernel to use updated packages.\n"
     ]
    }
   ],
   "source": [
    "pip install --upgrade cltk"
   ]
  },
  {
   "cell_type": "code",
   "execution_count": 13,
   "id": "7fda0274-3107-4c83-9758-217b1951d94e",
   "metadata": {
    "tags": []
   },
   "outputs": [],
   "source": [
    "#importing modules below:"
   ]
  },
  {
   "cell_type": "code",
   "execution_count": 1,
   "id": "d3012de7-d750-4a8a-bec8-001db1ed7ae8",
   "metadata": {
    "tags": []
   },
   "outputs": [],
   "source": [
    "import gensim.downloader as api\n",
    "wv = api.load('glove-wiki-gigaword-100')"
   ]
  },
  {
   "cell_type": "code",
   "execution_count": 41,
   "id": "776ec2f5-e901-444e-b330-50892e604b04",
   "metadata": {
    "tags": []
   },
   "outputs": [
    {
     "name": "stderr",
     "output_type": "stream",
     "text": [
      "[nltk_data] Downloading package punkt to\n",
      "[nltk_data]     C:\\Users\\gpwal\\AppData\\Roaming\\nltk_data...\n",
      "[nltk_data]   Package punkt is already up-to-date!\n"
     ]
    },
    {
     "data": {
      "text/plain": [
       "True"
      ]
     },
     "execution_count": 41,
     "metadata": {},
     "output_type": "execute_result"
    }
   ],
   "source": [
    "from gensim.models import Word2Vec\n",
    "import nltk\n",
    "nltk.data.path.append(f'C:\\\\Users\\\\gpwal\\\\AppData\\\\Roaming\\\\jupyterlab-desktop\\\\jlab_server\\\\nltk_data')\n",
    "nltk.download('punkt')"
   ]
  },
  {
   "cell_type": "code",
   "execution_count": 3,
   "id": "403b145c-9ca3-42c5-a903-d4e4c08cd3b2",
   "metadata": {
    "tags": []
   },
   "outputs": [],
   "source": [
    "from nltk.tokenize import sent_tokenize, RegexpTokenizer"
   ]
  },
  {
   "cell_type": "code",
   "execution_count": 4,
   "id": "39db9812-0892-4a0c-b6c4-64d65ea8c50c",
   "metadata": {
    "tags": []
   },
   "outputs": [],
   "source": [
    "import nltk\n",
    "from nltk.corpus import stopwords"
   ]
  },
  {
   "cell_type": "code",
   "execution_count": 5,
   "id": "a61b3e0d-127d-4d28-8c7d-be58e4c2efa8",
   "metadata": {
    "tags": []
   },
   "outputs": [],
   "source": [
    "from pprint import pprint"
   ]
  },
  {
   "cell_type": "code",
   "execution_count": 6,
   "id": "c1c9ae09-cd68-4d58-b702-0bb946ceb8da",
   "metadata": {
    "tags": []
   },
   "outputs": [],
   "source": [
    "import numpy as np"
   ]
  },
  {
   "cell_type": "code",
   "execution_count": 7,
   "id": "29e1f2d0-bb06-4761-b487-c2e6b5f3e67e",
   "metadata": {
    "tags": []
   },
   "outputs": [],
   "source": [
    "from scipy import spatial"
   ]
  },
  {
   "cell_type": "code",
   "execution_count": 8,
   "id": "a678af4c-ace4-4371-af3d-facf1a7366b4",
   "metadata": {
    "tags": []
   },
   "outputs": [],
   "source": [
    "from nltk.tokenize import RegexpTokenizer\n",
    "from collections import Counter"
   ]
  },
  {
   "cell_type": "code",
   "execution_count": 9,
   "id": "20ca7f17-cd30-4148-9cd5-1aa72b52aa90",
   "metadata": {
    "tags": []
   },
   "outputs": [],
   "source": [
    "import gutenbergpy.textget"
   ]
  },
  {
   "cell_type": "code",
   "execution_count": 10,
   "id": "120d5fb7-c878-4100-9ffc-bae7c5318c4b",
   "metadata": {
    "tags": []
   },
   "outputs": [],
   "source": [
    "import matplotlib.pyplot as plt"
   ]
  },
  {
   "cell_type": "code",
   "execution_count": 11,
   "id": "c7c5edaa-0443-4818-b9db-b21c4e947ed5",
   "metadata": {
    "tags": []
   },
   "outputs": [],
   "source": [
    "from tabulate import tabulate"
   ]
  },
  {
   "cell_type": "code",
   "execution_count": 12,
   "id": "dfa64753-ac9b-494a-8723-32e849683653",
   "metadata": {
    "tags": []
   },
   "outputs": [],
   "source": [
    "from sklearn.manifold import TSNE"
   ]
  },
  {
   "cell_type": "code",
   "execution_count": 13,
   "id": "d3bd3c6a-3383-41ab-9134-303afa2739c7",
   "metadata": {
    "tags": []
   },
   "outputs": [],
   "source": [
    "import plotly.express as px"
   ]
  },
  {
   "cell_type": "code",
   "execution_count": 14,
   "id": "09b1238c-434d-4354-9a6c-da41274269e8",
   "metadata": {
    "tags": []
   },
   "outputs": [],
   "source": [
    "import os"
   ]
  },
  {
   "cell_type": "code",
   "execution_count": 15,
   "id": "308fb11f-adae-40b7-980e-6b9fb17b5b80",
   "metadata": {
    "tags": []
   },
   "outputs": [],
   "source": [
    "from cltk import NLP"
   ]
  },
  {
   "cell_type": "code",
   "execution_count": 16,
   "id": "b7aaa074-a273-458a-b2c9-3401a93e2c92",
   "metadata": {
    "tags": []
   },
   "outputs": [],
   "source": [
    "import csv"
   ]
  },
  {
   "cell_type": "code",
   "execution_count": 28,
   "id": "e4b8bbf6-cc49-4696-9f8a-3f494ee81bf9",
   "metadata": {
    "tags": []
   },
   "outputs": [],
   "source": [
    "import pandas as pd"
   ]
  },
  {
   "cell_type": "code",
   "execution_count": 29,
   "id": "b30c3a5f-5aa9-4a65-8573-cbcaa8f21599",
   "metadata": {
    "tags": []
   },
   "outputs": [],
   "source": [
    "from collections import Counter"
   ]
  },
  {
   "cell_type": "code",
   "execution_count": 17,
   "id": "f0871d4d-b89a-48bf-8f70-4385275967ba",
   "metadata": {},
   "outputs": [],
   "source": [
    "# creating plots and arrays for the languages below:"
   ]
  },
  {
   "cell_type": "code",
   "execution_count": 18,
   "id": "6eec9399-2bca-42cd-8e3c-e036dc40b333",
   "metadata": {
    "tags": []
   },
   "outputs": [],
   "source": [
    "# tokenization function:\n",
    "def tokenize_corpus(text):\n",
    "    sentences = sent_tokenize(text.replace(\"\\n\", \" \").lower())\n",
    "    tokenized_sentences = [\n",
    "        RegexpTokenizer(r\"\\w+\").tokenize(sentence)\n",
    "        for sentence in sentences\n",
    "    ]\n",
    "    tokenized_corpus = [\n",
    "        [word for word in sentence]\n",
    "        for sentence in tokenized_sentences\n",
    "    ]\n",
    "    return tokenized_corpus"
   ]
  },
  {
   "cell_type": "markdown",
   "id": "3b168b0c-69c9-44e7-b383-05acf83be8f8",
   "metadata": {},
   "source": [
    "## English"
   ]
  },
  {
   "cell_type": "code",
   "execution_count": 20,
   "id": "34ac3dc7-f9ab-4535-a00f-55b5106d3239",
   "metadata": {
    "tags": []
   },
   "outputs": [],
   "source": [
    "# creating a list of the Swadesh words\n",
    "swadesh =  ['i', 'you', 'we', 'this', 'that', 'who', 'what', 'not', 'all', 'many', 'one', 'two', 'big', 'long', 'small', 'woman', 'man', 'person', 'fish', 'bird', 'dog', 'louse', 'tree', 'seed', 'leaf', 'root', 'bark', 'skin', 'flesh', 'blood', 'bone', 'grease', 'egg', 'horn', 'tail', 'feather', 'hair', 'head', 'ear', 'eye', 'nose', 'mouth', 'tooth', 'tongue', 'claw', 'foot', 'knee', 'hand', 'belly', 'neck', 'breasts', 'heart', 'liver', 'drink', 'eat', 'bite', 'see', 'hear', 'know', 'sleep', 'die', 'kill', 'swim', 'fly', 'walk', 'come', 'lie', 'sit', 'stand', 'give', 'say', 'sun', 'moon', 'star', 'water', 'rain', 'stone', 'sand', 'earth', 'cloud', 'smoke', 'fire', 'ashes', 'burn', 'path', 'mountain', 'red', 'green', 'yellow', 'white', 'black', 'night', 'hot', 'cold', 'full', 'new', 'good', 'round', 'dry', 'name']"
   ]
  },
  {
   "cell_type": "code",
   "execution_count": 21,
   "id": "35828220-0d08-4564-80f4-a1193fa6f5bc",
   "metadata": {
    "tags": []
   },
   "outputs": [],
   "source": [
    "# creating an empty dictionary\n",
    "en_vectors = ({})\n",
    "# for every word in the Swadesh list, get its vector and put them in the dictionary\n",
    "for key in swadesh:\n",
    "    en_vectors[key] = wv.get_vector(key)"
   ]
  },
  {
   "cell_type": "code",
   "execution_count": 24,
   "id": "0912f8a9-9e49-46be-acbe-927a861a3746",
   "metadata": {
    "tags": []
   },
   "outputs": [],
   "source": [
    "# put the dictionary into a text file by converting it into a string\n",
    "with open(\"data/english/en_vectors.csv\", \"w\") as f:\n",
    "    w = csv.DictWriter(f, en_vectors.keys())\n",
    "    w.writeheader()\n",
    "    w.writerow(en_vectors)"
   ]
  },
  {
   "cell_type": "markdown",
   "id": "e1bddbe0-14bf-4733-bd08-483cdd228ec8",
   "metadata": {},
   "source": [
    "## Latin"
   ]
  },
  {
   "cell_type": "code",
   "execution_count": 19,
   "id": "ee385b04-7ad8-437d-ba51-16dc2710ac9c",
   "metadata": {
    "tags": []
   },
   "outputs": [],
   "source": [
    "with open (\"texts/latintexts/latin_corpus.txt\", 'r', encoding=\"ISO-8859-1\") as f:\n",
    "  text = f.read()\n",
    "    \n",
    "lat_corpus = tokenize_corpus(text)"
   ]
  },
  {
   "cell_type": "code",
   "execution_count": 20,
   "id": "5f90763c-e086-4be6-a1bf-8be3f0632512",
   "metadata": {
    "tags": []
   },
   "outputs": [],
   "source": [
    "# Creating a word2vec model based on our Latin corpus\n",
    "la_model = Word2Vec(sentences = lat_corpus, \n",
    "                 vector_size = 100, \n",
    "                 window = 20,\n",
    "                 epochs = 100)"
   ]
  },
  {
   "cell_type": "code",
   "execution_count": 27,
   "id": "9710d51e-52fd-4740-b527-9ef9b0db3870",
   "metadata": {
    "tags": []
   },
   "outputs": [],
   "source": [
    "latin_swadesh = ['ego', 'tu','nos','cis','istud','qui','quid','non','omnis','multi','unus','duo','magnus','longus','minutus','femina','vir','persona','piscis','avis','canis','pedis','dryas','semen','folium','radix','cortex','cutis','membrana','sanguis','os','medulla','ovum','cornu','cauda','pluma','pilus','caput','auris','oculus','nasus','os','gemma','lingua','unguis','pes','genu','manus','uterus','monile','pectora','cor','iecur','bibere','edere','mordeo','cautio','cautio','cognoscere','somnus','funus','caedo','nare','volare','pontis','venire','lectus','sedere','stare','dare','inquam','sol','mensis','stella','aqua','pluvia','lapis','harena','solum','nimbus','fumus','ignis','ardere','ardere','pontis','mons','rubeus','gramen','flavo','albus','ater','nox','calidus','gelu','plenus','novus','bonus','circularis','siccus','nomen']"
   ]
  },
  {
   "cell_type": "code",
   "execution_count": 38,
   "id": "7a4ea973-610c-4f34-8f0c-240adf468799",
   "metadata": {
    "tags": []
   },
   "outputs": [],
   "source": [
    "# creating an empty dictionary\n",
    "la_vectors = ({})\n",
    "# for every word in the Swadesh list, get its vector and put them in the dictionary\n",
    "for key in latin_swadesh:\n",
    "    la_vectors[key] = la_model.wv.get_vector(key)"
   ]
  },
  {
   "cell_type": "code",
   "execution_count": 39,
   "id": "6ed5991c-e983-4622-b3d4-01a0a2854efc",
   "metadata": {
    "tags": []
   },
   "outputs": [],
   "source": [
    "with open(\"data/latin/latin_swadesh_vectors.csv\", \"w\") as f:\n",
    "    w = csv.DictWriter(f, la_vectors.keys())\n",
    "    w.writeheader()\n",
    "    w.writerow(la_vectors)"
   ]
  },
  {
   "cell_type": "markdown",
   "id": "abd3744c-8450-4ae0-9e0c-ffc21924f90a",
   "metadata": {},
   "source": [
    "## Old English"
   ]
  },
  {
   "cell_type": "code",
   "execution_count": 21,
   "id": "e00ea981-56a7-4e32-966f-37b16fc463e3",
   "metadata": {
    "tags": []
   },
   "outputs": [],
   "source": [
    "with open (\"texts/oe_texts/oecorpus.txt\", 'r', encoding='utf-8') as f:\n",
    "  text = f.read()\n",
    "  \n",
    "oldenglish_corpus = tokenize_corpus(text)"
   ]
  },
  {
   "cell_type": "code",
   "execution_count": 22,
   "id": "ad996897-6c95-4b91-9ec3-a026481f867b",
   "metadata": {
    "tags": []
   },
   "outputs": [],
   "source": [
    "# Creating a word2vec model based on our OE corpus\n",
    "oe_model = Word2Vec(sentences = oldenglish_corpus, \n",
    "                 vector_size = 100, \n",
    "                 window = 20,\n",
    "                 epochs = 100,\n",
    "                 min_count = 1)"
   ]
  },
  {
   "cell_type": "code",
   "execution_count": 40,
   "id": "bd8627b5-7168-4df2-a292-2620c618f76c",
   "metadata": {
    "tags": []
   },
   "outputs": [],
   "source": [
    "oe_swadesh = ['ic', 'ðu', 'us', 'he', 'ðæt', 'ne', 'manig', 'twegen', 'micel', 'lang', 'min', 'cwen', 'mann', 'mann', 'fisc', 'hund', 'treow', 'blæd', 'gelynd','æg', 'horn', 'hær', 'heafod', 'eare', 'eage', 'muþ', 'tunge', 'clea', 'fot', 'cneow', 'mund', 'sweora', 'heorte', 'drincan', 'etan', 'bitan', 'seon', 'gehiran', 'cunnan', 'swefan', 'dead','fleogan', 'findan', 'cuman', 'licgan', 'sittan', 'standan', 'sæcgan', 'sunne', 'mona', 'steorra', 'ea', 'regn', 'stan', 'eorþe', 'neowol', 'þrosm', 'axe', 'bærnan', 'findan', 'beorg', 'read', 'grene', 'geolo', 'hwit', 'niht', 'wearm', 'ceald', 'full', 'niwe', 'betra', 'dryge', 'nama']"
   ]
  },
  {
   "cell_type": "code",
   "execution_count": 41,
   "id": "71755302-a327-4264-afe1-d730ccd31404",
   "metadata": {
    "tags": []
   },
   "outputs": [],
   "source": [
    "# creating an empty dictionary\n",
    "oe_vectors = ({})\n",
    "#for every word in the Swadesh list, get its vector and put them in the dictionary\n",
    "for key in oe_swadesh:\n",
    "    oe_vectors[key] = oe_model.wv.get_vector(key)"
   ]
  },
  {
   "cell_type": "code",
   "execution_count": 42,
   "id": "3e4c3962-4b87-446b-9c87-716fbcc29b37",
   "metadata": {
    "tags": []
   },
   "outputs": [],
   "source": [
    "with open(\"data/old_english/oe_swadesh_vectors.csv\", \"w\", encoding='utf-8') as f:\n",
    "    w = csv.DictWriter(f, oe_vectors.keys())\n",
    "    w.writeheader()\n",
    "    w.writerow(oe_vectors)"
   ]
  },
  {
   "cell_type": "markdown",
   "id": "226fc979-cba6-4209-b468-d9fb1113ebc9",
   "metadata": {},
   "source": [
    "## Sanskrit"
   ]
  },
  {
   "cell_type": "code",
   "execution_count": 23,
   "id": "7ec584d6-0ebb-4f11-a38d-1968f6d46f19",
   "metadata": {
    "tags": []
   },
   "outputs": [],
   "source": [
    "with open (\"texts/ss_texts/sanskritcorpus.txt\", 'r', encoding = 'utf-8') as f:\n",
    "  text = f.read()\n",
    "  \n",
    "sanskrit_corpus = tokenize_corpus(text)"
   ]
  },
  {
   "cell_type": "code",
   "execution_count": 24,
   "id": "c4d989f4-02f0-49ee-8182-e4e3a2cbe6b1",
   "metadata": {
    "tags": []
   },
   "outputs": [],
   "source": [
    "ss_model = Word2Vec(sentences = sanskrit_corpus, \n",
    "                 vector_size = 100, \n",
    "                 window = 20,\n",
    "                 epochs = 100)"
   ]
  },
  {
   "cell_type": "markdown",
   "id": "a7049945-741e-471b-93b6-33fae59fa70b",
   "metadata": {
    "tags": []
   },
   "source": [
    "### Our current Sanskrit corpus does not contain several words within the Swadesh list, will need to fix the list and/or find a bigger corpus"
   ]
  },
  {
   "cell_type": "markdown",
   "id": "e2c167aa-a45b-409f-9f9c-e085baa9c26c",
   "metadata": {},
   "source": [
    "## Greek"
   ]
  },
  {
   "cell_type": "code",
   "execution_count": 25,
   "id": "a8dffe53-998d-4743-98c4-87c78473f334",
   "metadata": {
    "tags": []
   },
   "outputs": [],
   "source": [
    "with open (r'C:\\Users\\gpwal\\cltk_data\\grc\\grc_text_tesserae-master\\texts\\greekcorpus.txt', 'r', encoding='ISO-8859-1') as f:\n",
    "  text = f.read()\n",
    "  \n",
    "greek_corpus = tokenize_corpus(text)"
   ]
  },
  {
   "cell_type": "code",
   "execution_count": 26,
   "id": "3dc05109-51fa-4e16-887c-2fa97c71cab7",
   "metadata": {
    "collapsed": true,
    "jupyter": {
     "outputs_hidden": true
    },
    "tags": []
   },
   "outputs": [
    {
     "ename": "KeyboardInterrupt",
     "evalue": "",
     "output_type": "error",
     "traceback": [
      "\u001b[1;31m---------------------------------------------------------------------------\u001b[0m",
      "\u001b[1;31mKeyboardInterrupt\u001b[0m                         Traceback (most recent call last)",
      "Cell \u001b[1;32mIn[26], line 1\u001b[0m\n\u001b[1;32m----> 1\u001b[0m gr_model \u001b[38;5;241m=\u001b[39m \u001b[43mWord2Vec\u001b[49m\u001b[43m(\u001b[49m\u001b[43msentences\u001b[49m\u001b[43m \u001b[49m\u001b[38;5;241;43m=\u001b[39;49m\u001b[43m \u001b[49m\u001b[43mgreek_corpus\u001b[49m\u001b[43m,\u001b[49m\u001b[43m \u001b[49m\n\u001b[0;32m      2\u001b[0m \u001b[43m                 \u001b[49m\u001b[43mvector_size\u001b[49m\u001b[43m \u001b[49m\u001b[38;5;241;43m=\u001b[39;49m\u001b[43m \u001b[49m\u001b[38;5;241;43m100\u001b[39;49m\u001b[43m,\u001b[49m\u001b[43m \u001b[49m\n\u001b[0;32m      3\u001b[0m \u001b[43m                 \u001b[49m\u001b[43mwindow\u001b[49m\u001b[43m \u001b[49m\u001b[38;5;241;43m=\u001b[39;49m\u001b[43m \u001b[49m\u001b[38;5;241;43m20\u001b[39;49m\u001b[43m,\u001b[49m\n\u001b[0;32m      4\u001b[0m \u001b[43m                 \u001b[49m\u001b[43mepochs\u001b[49m\u001b[43m \u001b[49m\u001b[38;5;241;43m=\u001b[39;49m\u001b[43m \u001b[49m\u001b[38;5;241;43m100\u001b[39;49m\u001b[43m)\u001b[49m\n",
      "File \u001b[1;32m~\\AppData\\Roaming\\jupyterlab-desktop\\jlab_server\\lib\\site-packages\\gensim\\models\\word2vec.py:430\u001b[0m, in \u001b[0;36mWord2Vec.__init__\u001b[1;34m(self, sentences, corpus_file, vector_size, alpha, window, min_count, max_vocab_size, sample, seed, workers, min_alpha, sg, hs, negative, ns_exponent, cbow_mean, hashfxn, epochs, null_word, trim_rule, sorted_vocab, batch_words, compute_loss, callbacks, comment, max_final_vocab, shrink_windows)\u001b[0m\n\u001b[0;32m    428\u001b[0m     \u001b[38;5;28mself\u001b[39m\u001b[38;5;241m.\u001b[39m_check_corpus_sanity(corpus_iterable\u001b[38;5;241m=\u001b[39mcorpus_iterable, corpus_file\u001b[38;5;241m=\u001b[39mcorpus_file, passes\u001b[38;5;241m=\u001b[39m(epochs \u001b[38;5;241m+\u001b[39m \u001b[38;5;241m1\u001b[39m))\n\u001b[0;32m    429\u001b[0m     \u001b[38;5;28mself\u001b[39m\u001b[38;5;241m.\u001b[39mbuild_vocab(corpus_iterable\u001b[38;5;241m=\u001b[39mcorpus_iterable, corpus_file\u001b[38;5;241m=\u001b[39mcorpus_file, trim_rule\u001b[38;5;241m=\u001b[39mtrim_rule)\n\u001b[1;32m--> 430\u001b[0m     \u001b[38;5;28;43mself\u001b[39;49m\u001b[38;5;241;43m.\u001b[39;49m\u001b[43mtrain\u001b[49m\u001b[43m(\u001b[49m\n\u001b[0;32m    431\u001b[0m \u001b[43m        \u001b[49m\u001b[43mcorpus_iterable\u001b[49m\u001b[38;5;241;43m=\u001b[39;49m\u001b[43mcorpus_iterable\u001b[49m\u001b[43m,\u001b[49m\u001b[43m \u001b[49m\u001b[43mcorpus_file\u001b[49m\u001b[38;5;241;43m=\u001b[39;49m\u001b[43mcorpus_file\u001b[49m\u001b[43m,\u001b[49m\u001b[43m \u001b[49m\u001b[43mtotal_examples\u001b[49m\u001b[38;5;241;43m=\u001b[39;49m\u001b[38;5;28;43mself\u001b[39;49m\u001b[38;5;241;43m.\u001b[39;49m\u001b[43mcorpus_count\u001b[49m\u001b[43m,\u001b[49m\n\u001b[0;32m    432\u001b[0m \u001b[43m        \u001b[49m\u001b[43mtotal_words\u001b[49m\u001b[38;5;241;43m=\u001b[39;49m\u001b[38;5;28;43mself\u001b[39;49m\u001b[38;5;241;43m.\u001b[39;49m\u001b[43mcorpus_total_words\u001b[49m\u001b[43m,\u001b[49m\u001b[43m \u001b[49m\u001b[43mepochs\u001b[49m\u001b[38;5;241;43m=\u001b[39;49m\u001b[38;5;28;43mself\u001b[39;49m\u001b[38;5;241;43m.\u001b[39;49m\u001b[43mepochs\u001b[49m\u001b[43m,\u001b[49m\u001b[43m \u001b[49m\u001b[43mstart_alpha\u001b[49m\u001b[38;5;241;43m=\u001b[39;49m\u001b[38;5;28;43mself\u001b[39;49m\u001b[38;5;241;43m.\u001b[39;49m\u001b[43malpha\u001b[49m\u001b[43m,\u001b[49m\n\u001b[0;32m    433\u001b[0m \u001b[43m        \u001b[49m\u001b[43mend_alpha\u001b[49m\u001b[38;5;241;43m=\u001b[39;49m\u001b[38;5;28;43mself\u001b[39;49m\u001b[38;5;241;43m.\u001b[39;49m\u001b[43mmin_alpha\u001b[49m\u001b[43m,\u001b[49m\u001b[43m \u001b[49m\u001b[43mcompute_loss\u001b[49m\u001b[38;5;241;43m=\u001b[39;49m\u001b[38;5;28;43mself\u001b[39;49m\u001b[38;5;241;43m.\u001b[39;49m\u001b[43mcompute_loss\u001b[49m\u001b[43m,\u001b[49m\u001b[43m \u001b[49m\u001b[43mcallbacks\u001b[49m\u001b[38;5;241;43m=\u001b[39;49m\u001b[43mcallbacks\u001b[49m\u001b[43m)\u001b[49m\n\u001b[0;32m    434\u001b[0m \u001b[38;5;28;01melse\u001b[39;00m:\n\u001b[0;32m    435\u001b[0m     \u001b[38;5;28;01mif\u001b[39;00m trim_rule \u001b[38;5;129;01mis\u001b[39;00m \u001b[38;5;129;01mnot\u001b[39;00m \u001b[38;5;28;01mNone\u001b[39;00m:\n",
      "File \u001b[1;32m~\\AppData\\Roaming\\jupyterlab-desktop\\jlab_server\\lib\\site-packages\\gensim\\models\\word2vec.py:1073\u001b[0m, in \u001b[0;36mWord2Vec.train\u001b[1;34m(self, corpus_iterable, corpus_file, total_examples, total_words, epochs, start_alpha, end_alpha, word_count, queue_factor, report_delay, compute_loss, callbacks, **kwargs)\u001b[0m\n\u001b[0;32m   1070\u001b[0m     callback\u001b[38;5;241m.\u001b[39mon_epoch_begin(\u001b[38;5;28mself\u001b[39m)\n\u001b[0;32m   1072\u001b[0m \u001b[38;5;28;01mif\u001b[39;00m corpus_iterable \u001b[38;5;129;01mis\u001b[39;00m \u001b[38;5;129;01mnot\u001b[39;00m \u001b[38;5;28;01mNone\u001b[39;00m:\n\u001b[1;32m-> 1073\u001b[0m     trained_word_count_epoch, raw_word_count_epoch, job_tally_epoch \u001b[38;5;241m=\u001b[39m \u001b[38;5;28;43mself\u001b[39;49m\u001b[38;5;241;43m.\u001b[39;49m\u001b[43m_train_epoch\u001b[49m\u001b[43m(\u001b[49m\n\u001b[0;32m   1074\u001b[0m \u001b[43m        \u001b[49m\u001b[43mcorpus_iterable\u001b[49m\u001b[43m,\u001b[49m\u001b[43m \u001b[49m\u001b[43mcur_epoch\u001b[49m\u001b[38;5;241;43m=\u001b[39;49m\u001b[43mcur_epoch\u001b[49m\u001b[43m,\u001b[49m\u001b[43m \u001b[49m\u001b[43mtotal_examples\u001b[49m\u001b[38;5;241;43m=\u001b[39;49m\u001b[43mtotal_examples\u001b[49m\u001b[43m,\u001b[49m\n\u001b[0;32m   1075\u001b[0m \u001b[43m        \u001b[49m\u001b[43mtotal_words\u001b[49m\u001b[38;5;241;43m=\u001b[39;49m\u001b[43mtotal_words\u001b[49m\u001b[43m,\u001b[49m\u001b[43m \u001b[49m\u001b[43mqueue_factor\u001b[49m\u001b[38;5;241;43m=\u001b[39;49m\u001b[43mqueue_factor\u001b[49m\u001b[43m,\u001b[49m\u001b[43m \u001b[49m\u001b[43mreport_delay\u001b[49m\u001b[38;5;241;43m=\u001b[39;49m\u001b[43mreport_delay\u001b[49m\u001b[43m,\u001b[49m\n\u001b[0;32m   1076\u001b[0m \u001b[43m        \u001b[49m\u001b[43mcallbacks\u001b[49m\u001b[38;5;241;43m=\u001b[39;49m\u001b[43mcallbacks\u001b[49m\u001b[43m,\u001b[49m\u001b[43m \u001b[49m\u001b[38;5;241;43m*\u001b[39;49m\u001b[38;5;241;43m*\u001b[39;49m\u001b[43mkwargs\u001b[49m\u001b[43m)\u001b[49m\n\u001b[0;32m   1077\u001b[0m \u001b[38;5;28;01melse\u001b[39;00m:\n\u001b[0;32m   1078\u001b[0m     trained_word_count_epoch, raw_word_count_epoch, job_tally_epoch \u001b[38;5;241m=\u001b[39m \u001b[38;5;28mself\u001b[39m\u001b[38;5;241m.\u001b[39m_train_epoch_corpusfile(\n\u001b[0;32m   1079\u001b[0m         corpus_file, cur_epoch\u001b[38;5;241m=\u001b[39mcur_epoch, total_examples\u001b[38;5;241m=\u001b[39mtotal_examples, total_words\u001b[38;5;241m=\u001b[39mtotal_words,\n\u001b[0;32m   1080\u001b[0m         callbacks\u001b[38;5;241m=\u001b[39mcallbacks, \u001b[38;5;241m*\u001b[39m\u001b[38;5;241m*\u001b[39mkwargs)\n",
      "File \u001b[1;32m~\\AppData\\Roaming\\jupyterlab-desktop\\jlab_server\\lib\\site-packages\\gensim\\models\\word2vec.py:1434\u001b[0m, in \u001b[0;36mWord2Vec._train_epoch\u001b[1;34m(self, data_iterable, cur_epoch, total_examples, total_words, queue_factor, report_delay, callbacks)\u001b[0m\n\u001b[0;32m   1431\u001b[0m     thread\u001b[38;5;241m.\u001b[39mdaemon \u001b[38;5;241m=\u001b[39m \u001b[38;5;28;01mTrue\u001b[39;00m  \u001b[38;5;66;03m# make interrupting the process with ctrl+c easier\u001b[39;00m\n\u001b[0;32m   1432\u001b[0m     thread\u001b[38;5;241m.\u001b[39mstart()\n\u001b[1;32m-> 1434\u001b[0m trained_word_count, raw_word_count, job_tally \u001b[38;5;241m=\u001b[39m \u001b[38;5;28;43mself\u001b[39;49m\u001b[38;5;241;43m.\u001b[39;49m\u001b[43m_log_epoch_progress\u001b[49m\u001b[43m(\u001b[49m\n\u001b[0;32m   1435\u001b[0m \u001b[43m    \u001b[49m\u001b[43mprogress_queue\u001b[49m\u001b[43m,\u001b[49m\u001b[43m \u001b[49m\u001b[43mjob_queue\u001b[49m\u001b[43m,\u001b[49m\u001b[43m \u001b[49m\u001b[43mcur_epoch\u001b[49m\u001b[38;5;241;43m=\u001b[39;49m\u001b[43mcur_epoch\u001b[49m\u001b[43m,\u001b[49m\u001b[43m \u001b[49m\u001b[43mtotal_examples\u001b[49m\u001b[38;5;241;43m=\u001b[39;49m\u001b[43mtotal_examples\u001b[49m\u001b[43m,\u001b[49m\n\u001b[0;32m   1436\u001b[0m \u001b[43m    \u001b[49m\u001b[43mtotal_words\u001b[49m\u001b[38;5;241;43m=\u001b[39;49m\u001b[43mtotal_words\u001b[49m\u001b[43m,\u001b[49m\u001b[43m \u001b[49m\u001b[43mreport_delay\u001b[49m\u001b[38;5;241;43m=\u001b[39;49m\u001b[43mreport_delay\u001b[49m\u001b[43m,\u001b[49m\u001b[43m \u001b[49m\u001b[43mis_corpus_file_mode\u001b[49m\u001b[38;5;241;43m=\u001b[39;49m\u001b[38;5;28;43;01mFalse\u001b[39;49;00m\u001b[43m,\u001b[49m\n\u001b[0;32m   1437\u001b[0m \u001b[43m\u001b[49m\u001b[43m)\u001b[49m\n\u001b[0;32m   1439\u001b[0m \u001b[38;5;28;01mreturn\u001b[39;00m trained_word_count, raw_word_count, job_tally\n",
      "File \u001b[1;32m~\\AppData\\Roaming\\jupyterlab-desktop\\jlab_server\\lib\\site-packages\\gensim\\models\\word2vec.py:1289\u001b[0m, in \u001b[0;36mWord2Vec._log_epoch_progress\u001b[1;34m(self, progress_queue, job_queue, cur_epoch, total_examples, total_words, report_delay, is_corpus_file_mode)\u001b[0m\n\u001b[0;32m   1286\u001b[0m unfinished_worker_count \u001b[38;5;241m=\u001b[39m \u001b[38;5;28mself\u001b[39m\u001b[38;5;241m.\u001b[39mworkers\n\u001b[0;32m   1288\u001b[0m \u001b[38;5;28;01mwhile\u001b[39;00m unfinished_worker_count \u001b[38;5;241m>\u001b[39m \u001b[38;5;241m0\u001b[39m:\n\u001b[1;32m-> 1289\u001b[0m     report \u001b[38;5;241m=\u001b[39m \u001b[43mprogress_queue\u001b[49m\u001b[38;5;241;43m.\u001b[39;49m\u001b[43mget\u001b[49m\u001b[43m(\u001b[49m\u001b[43m)\u001b[49m  \u001b[38;5;66;03m# blocks if workers too slow\u001b[39;00m\n\u001b[0;32m   1290\u001b[0m     \u001b[38;5;28;01mif\u001b[39;00m report \u001b[38;5;129;01mis\u001b[39;00m \u001b[38;5;28;01mNone\u001b[39;00m:  \u001b[38;5;66;03m# a thread reporting that it finished\u001b[39;00m\n\u001b[0;32m   1291\u001b[0m         unfinished_worker_count \u001b[38;5;241m-\u001b[39m\u001b[38;5;241m=\u001b[39m \u001b[38;5;241m1\u001b[39m\n",
      "File \u001b[1;32m~\\AppData\\Roaming\\jupyterlab-desktop\\jlab_server\\lib\\queue.py:170\u001b[0m, in \u001b[0;36mQueue.get\u001b[1;34m(self, block, timeout)\u001b[0m\n\u001b[0;32m    168\u001b[0m \u001b[38;5;28;01melif\u001b[39;00m timeout \u001b[38;5;129;01mis\u001b[39;00m \u001b[38;5;28;01mNone\u001b[39;00m:\n\u001b[0;32m    169\u001b[0m     \u001b[38;5;28;01mwhile\u001b[39;00m \u001b[38;5;129;01mnot\u001b[39;00m \u001b[38;5;28mself\u001b[39m\u001b[38;5;241m.\u001b[39m_qsize():\n\u001b[1;32m--> 170\u001b[0m         \u001b[38;5;28;43mself\u001b[39;49m\u001b[38;5;241;43m.\u001b[39;49m\u001b[43mnot_empty\u001b[49m\u001b[38;5;241;43m.\u001b[39;49m\u001b[43mwait\u001b[49m\u001b[43m(\u001b[49m\u001b[43m)\u001b[49m\n\u001b[0;32m    171\u001b[0m \u001b[38;5;28;01melif\u001b[39;00m timeout \u001b[38;5;241m<\u001b[39m \u001b[38;5;241m0\u001b[39m:\n\u001b[0;32m    172\u001b[0m     \u001b[38;5;28;01mraise\u001b[39;00m \u001b[38;5;167;01mValueError\u001b[39;00m(\u001b[38;5;124m\"\u001b[39m\u001b[38;5;124m'\u001b[39m\u001b[38;5;124mtimeout\u001b[39m\u001b[38;5;124m'\u001b[39m\u001b[38;5;124m must be a non-negative number\u001b[39m\u001b[38;5;124m\"\u001b[39m)\n",
      "File \u001b[1;32m~\\AppData\\Roaming\\jupyterlab-desktop\\jlab_server\\lib\\threading.py:302\u001b[0m, in \u001b[0;36mCondition.wait\u001b[1;34m(self, timeout)\u001b[0m\n\u001b[0;32m    300\u001b[0m \u001b[38;5;28;01mtry\u001b[39;00m:    \u001b[38;5;66;03m# restore state no matter what (e.g., KeyboardInterrupt)\u001b[39;00m\n\u001b[0;32m    301\u001b[0m     \u001b[38;5;28;01mif\u001b[39;00m timeout \u001b[38;5;129;01mis\u001b[39;00m \u001b[38;5;28;01mNone\u001b[39;00m:\n\u001b[1;32m--> 302\u001b[0m         \u001b[43mwaiter\u001b[49m\u001b[38;5;241;43m.\u001b[39;49m\u001b[43macquire\u001b[49m\u001b[43m(\u001b[49m\u001b[43m)\u001b[49m\n\u001b[0;32m    303\u001b[0m         gotit \u001b[38;5;241m=\u001b[39m \u001b[38;5;28;01mTrue\u001b[39;00m\n\u001b[0;32m    304\u001b[0m     \u001b[38;5;28;01melse\u001b[39;00m:\n",
      "\u001b[1;31mKeyboardInterrupt\u001b[0m: "
     ]
    }
   ],
   "source": [
    "gr_model = Word2Vec(sentences = greek_corpus, \n",
    "                 vector_size = 100, \n",
    "                 window = 20,\n",
    "                 epochs = 100)"
   ]
  },
  {
   "cell_type": "markdown",
   "id": "1c7305d3-36e2-4f62-ad96-a1e8b22bbfe2",
   "metadata": {
    "tags": []
   },
   "source": [
    "### Our current Greek corpus does not contain several words within the Swadesh list, will need to fix the list and/or find a bigger corpus"
   ]
  },
  {
   "cell_type": "markdown",
   "id": "bc99ec15-2aca-4781-aab7-b02f0273c285",
   "metadata": {},
   "source": [
    "## CLTK Latin"
   ]
  },
  {
   "cell_type": "markdown",
   "id": "0bfbb1dc-885e-4173-bc04-6200f5da78fb",
   "metadata": {},
   "source": [
    "### NLP-ing our Latin Corpus"
   ]
  },
  {
   "cell_type": "code",
   "execution_count": 126,
   "id": "432c6cfd-6af8-4022-87ea-4110fb0ca4b3",
   "metadata": {
    "tags": []
   },
   "outputs": [],
   "source": [
    "from cltk.data.fetch import FetchCorpus\n",
    "corpus_downloader = FetchCorpus(language=\"lat\")\n",
    "corpus_downloader.list_corpora\n",
    "corpus_downloader.import_corpus(\"lat_text_perseus\")"
   ]
  },
  {
   "cell_type": "code",
   "execution_count": 127,
   "id": "0b19a6ba-3761-457b-87fa-131fc6fcf77e",
   "metadata": {
    "tags": []
   },
   "outputs": [],
   "source": [
    "with open(\"texts/latintexts/latin_corpus.txt\", encoding='utf-8') as f:\n",
    "    latin_full = f.read()"
   ]
  },
  {
   "cell_type": "code",
   "execution_count": 128,
   "id": "8eb14fa5-5829-461d-bf2b-08397b146153",
   "metadata": {
    "tags": []
   },
   "outputs": [
    {
     "name": "stdout",
     "output_type": "stream",
     "text": [
      "27394534\n",
      "2739453\n"
     ]
    }
   ],
   "source": [
    "latin_part = latin_full[:len(latin_full) // 10]\n",
    "print(len(latin_full))\n",
    "print(len(latin_part))"
   ]
  },
  {
   "cell_type": "code",
   "execution_count": 129,
   "id": "1db987be-ca50-4882-a114-27d13e7d1863",
   "metadata": {
    "tags": []
   },
   "outputs": [],
   "source": [
    "from cltk.core.data_types import Process, Pipeline\n",
    "from cltk.tokenizers import LatinTokenizationProcess\n",
    "from cltk.lemmatize import LatinLemmatizationProcess\n",
    "from cltk.languages.utils import get_lang"
   ]
  },
  {
   "cell_type": "code",
   "execution_count": 130,
   "id": "ead2e98b-ee7d-485c-a790-32697f2e641e",
   "metadata": {
    "tags": []
   },
   "outputs": [],
   "source": [
    "pipe = Pipeline(description=\"A custom Latin pipeline\",     processes=[LatinTokenizationProcess, LatinLemmatizationProcess],     language=get_lang(\"lat\"))"
   ]
  },
  {
   "cell_type": "code",
   "execution_count": 131,
   "id": "89db0bd9-bf30-4116-baf5-eb29cca9a7c9",
   "metadata": {
    "tags": []
   },
   "outputs": [],
   "source": [
    "nlp = NLP(language='lat', custom_pipeline=pipe, suppress_banner=True)"
   ]
  },
  {
   "cell_type": "code",
   "execution_count": 132,
   "id": "fe160337-6424-4441-ac4a-79a6b02f7c7d",
   "metadata": {
    "tags": []
   },
   "outputs": [],
   "source": [
    "latin_corpus = \"texts/latintexts/latin_corpus.txt\""
   ]
  },
  {
   "cell_type": "code",
   "execution_count": 134,
   "id": "435bf03a-8dd7-42e6-bf01-1bb820a6317d",
   "metadata": {
    "tags": []
   },
   "outputs": [
    {
     "name": "stdout",
     "output_type": "stream",
     "text": [
      "[':', 'David', 'Paniagua', 'Codifica', 'XML', ':', 'David', 'Paniagua', '2011', 'digilibLT']\n"
     ]
    }
   ],
   "source": [
    "cltk_latin = nlp(text=latin_part).lemmata\n",
    "print(cltk_latin[30:40])"
   ]
  },
  {
   "cell_type": "code",
   "execution_count": null,
   "id": "23c08320-cdc3-4365-a0e8-32ee487e529e",
   "metadata": {
    "tags": []
   },
   "outputs": [],
   "source": [
    "with open(\"texts/latintexts/nlp_latin.txt\", \"w\", encoding='utf-8') as f:\n",
    "    f.write(str(cltk_latin))"
   ]
  },
  {
   "cell_type": "markdown",
   "id": "9db55d66-2893-4193-86a0-24cb7aa59d16",
   "metadata": {},
   "source": [
    "## CLTK Old English"
   ]
  },
  {
   "cell_type": "code",
   "execution_count": null,
   "id": "4ed882fa-e3f6-420a-aa9f-596973e89144",
   "metadata": {
    "tags": []
   },
   "outputs": [],
   "source": [
    "### NLP-ing our OE corpus"
   ]
  },
  {
   "cell_type": "code",
   "execution_count": 147,
   "id": "8a4ff403-c545-40e3-81c3-e6f34bf565ce",
   "metadata": {
    "tags": []
   },
   "outputs": [],
   "source": [
    "from cltk.data.fetch import FetchCorpus"
   ]
  },
  {
   "cell_type": "code",
   "execution_count": 148,
   "id": "6ccf1533-8509-411c-bc16-72ba6745696a",
   "metadata": {
    "tags": []
   },
   "outputs": [],
   "source": [
    "oe_corpus_downloader = FetchCorpus(language=\"ang\")"
   ]
  },
  {
   "cell_type": "code",
   "execution_count": 149,
   "id": "46ef1c47-9f02-4264-8d91-e265c49a091d",
   "metadata": {
    "tags": []
   },
   "outputs": [
    {
     "data": {
      "text/plain": [
       "['old_english_text_sacred_texts', 'ang_models_cltk']"
      ]
     },
     "execution_count": 149,
     "metadata": {},
     "output_type": "execute_result"
    }
   ],
   "source": [
    "oe_corpus_downloader.list_corpora"
   ]
  },
  {
   "cell_type": "code",
   "execution_count": 150,
   "id": "2477ac61-82d5-4644-9f91-15c8765ecf6d",
   "metadata": {
    "tags": []
   },
   "outputs": [],
   "source": [
    "oe_corpus_downloader.import_corpus('old_english_text_sacred_texts')"
   ]
  },
  {
   "cell_type": "code",
   "execution_count": 151,
   "id": "2265c5c7-8a09-4ff9-bb72-b256a4386b83",
   "metadata": {
    "tags": []
   },
   "outputs": [
    {
     "name": "stdout",
     "output_type": "stream",
     "text": [
      "‎𐤀 CLTK version '1.1.6'.\n",
      "Pipeline for language 'Old English (ca. 450-1100)' (ISO: 'ang'): `MultilingualTokenizationProcess`, `OldEnglishLemmatizationProcess`, `OldEnglishEmbeddingsProcess`, `StopsProcess`.\n"
     ]
    }
   ],
   "source": [
    "cltk_nlp_oe=NLP(\"ang\")"
   ]
  },
  {
   "cell_type": "code",
   "execution_count": 152,
   "id": "7de4f57d-3fe9-4580-86d5-9668d096d610",
   "metadata": {
    "tags": []
   },
   "outputs": [],
   "source": [
    "oe_corpus_downloader.import_corpus('old_english_text_sacred_texts', r'C:\\Users\\gpwal\\cltk_data\\ang\\html\\old_english_text_sacred_texts')"
   ]
  },
  {
   "cell_type": "code",
   "execution_count": null,
   "id": "b0a51515-6bfe-4d82-ba86-ad3df7517bae",
   "metadata": {
    "tags": []
   },
   "outputs": [],
   "source": [
    "#with open(r\"C:\\Users\\gpwal\\cltk_data\\ang\\model\\ang_models_cltk\\texts\\oe\\oe_all.txt\", encoding ='utf-8') as f:\n",
    " #   cltk_nlp_oe.analyze(text=f)"
   ]
  },
  {
   "cell_type": "code",
   "execution_count": null,
   "id": "5d2dc555-c6d4-47cf-abab-1e2456ca4292",
   "metadata": {
    "tags": []
   },
   "outputs": [],
   "source": [
    "#with open(f\"{directory_path}/oe_texts/cltk_oe_texts.txt\", 'w', encoding='utf-8') as f:\n",
    " #   f.write(str(cltk_doc_oe))"
   ]
  },
  {
   "cell_type": "markdown",
   "id": "d9cb7e46-5382-48aa-bde7-a9ccc03a1247",
   "metadata": {},
   "source": [
    "## CLTK Sanskrit"
   ]
  },
  {
   "cell_type": "code",
   "execution_count": 135,
   "id": "82561db3-65be-4936-8648-7e916ef95b07",
   "metadata": {
    "tags": []
   },
   "outputs": [],
   "source": [
    "ss_corpus_downloader =  FetchCorpus(language=\"san\")"
   ]
  },
  {
   "cell_type": "code",
   "execution_count": 136,
   "id": "d96635f5-d968-4d27-acaa-6e9217f2bad0",
   "metadata": {
    "tags": []
   },
   "outputs": [
    {
     "data": {
      "text/plain": [
       "['sanskrit_text_jnu',\n",
       " 'sanskrit_text_dcs',\n",
       " 'sanskrit_parallel_sacred_texts',\n",
       " 'sanskrit_text_sacred_texts',\n",
       " 'sanskrit_parallel_gitasupersite',\n",
       " 'sanskrit_text_gitasupersite',\n",
       " 'sanskrit_text_wikipedia',\n",
       " 'sanskrit_text_sanskrit_documents',\n",
       " 'san_models_cltk']"
      ]
     },
     "execution_count": 136,
     "metadata": {},
     "output_type": "execute_result"
    }
   ],
   "source": [
    "ss_corpus_downloader.list_corpora"
   ]
  },
  {
   "cell_type": "code",
   "execution_count": 137,
   "id": "4ff2701e-b2c0-46bc-8838-fe1f1e7f011e",
   "metadata": {
    "tags": []
   },
   "outputs": [],
   "source": [
    "ss_corpus_downloader.import_corpus('sanskrit_text_sacred_texts')"
   ]
  },
  {
   "cell_type": "code",
   "execution_count": 273,
   "id": "4ef16074-3209-4be8-8371-964a3eb2c09f",
   "metadata": {
    "collapsed": true,
    "jupyter": {
     "outputs_hidden": true
    },
    "tags": []
   },
   "outputs": [
    {
     "ename": "GitCommandError",
     "evalue": "Cmd('git') failed due to: exit code(128)\n  cmdline: git clone -v --branch=master --depth=1 --progress -- https://github.com/cltk/sanskrit_text_dcs.git C:\\Users\\gpwal\\cltk_data\\san\\text\\sanskrit_text_dcs",
     "output_type": "error",
     "traceback": [
      "\u001b[1;31m---------------------------------------------------------------------------\u001b[0m",
      "\u001b[1;31mGitCommandError\u001b[0m                           Traceback (most recent call last)",
      "Cell \u001b[1;32mIn[273], line 1\u001b[0m\n\u001b[1;32m----> 1\u001b[0m \u001b[43mss_corpus_downloader\u001b[49m\u001b[38;5;241;43m.\u001b[39;49m\u001b[43mimport_corpus\u001b[49m\u001b[43m(\u001b[49m\u001b[38;5;124;43m'\u001b[39;49m\u001b[38;5;124;43msanskrit_text_dcs\u001b[39;49m\u001b[38;5;124;43m'\u001b[39;49m\u001b[43m)\u001b[49m\n",
      "File \u001b[1;32m~\\AppData\\Roaming\\jupyterlab-desktop\\jlab_server\\lib\\site-packages\\cltk\\data\\fetch.py:767\u001b[0m, in \u001b[0;36mFetchCorpus.import_corpus\u001b[1;34m(self, corpus_name, local_path, branch)\u001b[0m\n\u001b[0;32m    765\u001b[0m     msg \u001b[38;5;241m=\u001b[39m \u001b[38;5;124m\"\u001b[39m\u001b[38;5;124mCloning \u001b[39m\u001b[38;5;124m'\u001b[39m\u001b[38;5;132;01m{}\u001b[39;00m\u001b[38;5;124m'\u001b[39m\u001b[38;5;124m from \u001b[39m\u001b[38;5;124m'\u001b[39m\u001b[38;5;132;01m{}\u001b[39;00m\u001b[38;5;124m'\u001b[39m\u001b[38;5;124m\"\u001b[39m\u001b[38;5;241m.\u001b[39mformat(corpus_name, git_uri)\n\u001b[0;32m    766\u001b[0m     logger\u001b[38;5;241m.\u001b[39minfo(msg)\n\u001b[1;32m--> 767\u001b[0m     \u001b[43mRepo\u001b[49m\u001b[38;5;241;43m.\u001b[39;49m\u001b[43mclone_from\u001b[49m\u001b[43m(\u001b[49m\n\u001b[0;32m    768\u001b[0m \u001b[43m        \u001b[49m\u001b[43mgit_uri\u001b[49m\u001b[43m,\u001b[49m\n\u001b[0;32m    769\u001b[0m \u001b[43m        \u001b[49m\u001b[43mtarget_dir\u001b[49m\u001b[43m,\u001b[49m\n\u001b[0;32m    770\u001b[0m \u001b[43m        \u001b[49m\u001b[43mbranch\u001b[49m\u001b[38;5;241;43m=\u001b[39;49m\u001b[43mbranch\u001b[49m\u001b[43m,\u001b[49m\n\u001b[0;32m    771\u001b[0m \u001b[43m        \u001b[49m\u001b[43mdepth\u001b[49m\u001b[38;5;241;43m=\u001b[39;49m\u001b[38;5;241;43m1\u001b[39;49m\u001b[43m,\u001b[49m\n\u001b[0;32m    772\u001b[0m \u001b[43m        \u001b[49m\u001b[43mprogress\u001b[49m\u001b[38;5;241;43m=\u001b[39;49m\u001b[43mProgressPrinter\u001b[49m\u001b[43m(\u001b[49m\u001b[43m)\u001b[49m\u001b[43m,\u001b[49m\n\u001b[0;32m    773\u001b[0m \u001b[43m    \u001b[49m\u001b[43m)\u001b[49m\n\u001b[0;32m    774\u001b[0m \u001b[38;5;28;01mexcept\u001b[39;00m CorpusImportError \u001b[38;5;28;01mas\u001b[39;00m corpus_imp_err:\n\u001b[0;32m    775\u001b[0m     msg \u001b[38;5;241m=\u001b[39m \u001b[38;5;124m\"\u001b[39m\u001b[38;5;124mGit clone of \u001b[39m\u001b[38;5;124m'\u001b[39m\u001b[38;5;132;01m{}\u001b[39;00m\u001b[38;5;124m'\u001b[39m\u001b[38;5;124m failed: \u001b[39m\u001b[38;5;124m'\u001b[39m\u001b[38;5;132;01m{}\u001b[39;00m\u001b[38;5;124m'\u001b[39m\u001b[38;5;124m\"\u001b[39m\u001b[38;5;241m.\u001b[39mformat(\n\u001b[0;32m    776\u001b[0m         git_uri, corpus_imp_err\n\u001b[0;32m    777\u001b[0m     )\n",
      "File \u001b[1;32m~\\AppData\\Roaming\\jupyterlab-desktop\\jlab_server\\lib\\site-packages\\git\\repo\\base.py:1325\u001b[0m, in \u001b[0;36mRepo.clone_from\u001b[1;34m(cls, url, to_path, progress, env, multi_options, allow_unsafe_protocols, allow_unsafe_options, **kwargs)\u001b[0m\n\u001b[0;32m   1323\u001b[0m \u001b[38;5;28;01mif\u001b[39;00m env \u001b[38;5;129;01mis\u001b[39;00m \u001b[38;5;129;01mnot\u001b[39;00m \u001b[38;5;28;01mNone\u001b[39;00m:\n\u001b[0;32m   1324\u001b[0m     git\u001b[38;5;241m.\u001b[39mupdate_environment(\u001b[38;5;241m*\u001b[39m\u001b[38;5;241m*\u001b[39menv)\n\u001b[1;32m-> 1325\u001b[0m \u001b[38;5;28;01mreturn\u001b[39;00m \u001b[38;5;28;43mcls\u001b[39;49m\u001b[38;5;241;43m.\u001b[39;49m\u001b[43m_clone\u001b[49m\u001b[43m(\u001b[49m\n\u001b[0;32m   1326\u001b[0m \u001b[43m    \u001b[49m\u001b[43mgit\u001b[49m\u001b[43m,\u001b[49m\n\u001b[0;32m   1327\u001b[0m \u001b[43m    \u001b[49m\u001b[43murl\u001b[49m\u001b[43m,\u001b[49m\n\u001b[0;32m   1328\u001b[0m \u001b[43m    \u001b[49m\u001b[43mto_path\u001b[49m\u001b[43m,\u001b[49m\n\u001b[0;32m   1329\u001b[0m \u001b[43m    \u001b[49m\u001b[43mGitCmdObjectDB\u001b[49m\u001b[43m,\u001b[49m\n\u001b[0;32m   1330\u001b[0m \u001b[43m    \u001b[49m\u001b[43mprogress\u001b[49m\u001b[43m,\u001b[49m\n\u001b[0;32m   1331\u001b[0m \u001b[43m    \u001b[49m\u001b[43mmulti_options\u001b[49m\u001b[43m,\u001b[49m\n\u001b[0;32m   1332\u001b[0m \u001b[43m    \u001b[49m\u001b[43mallow_unsafe_protocols\u001b[49m\u001b[38;5;241;43m=\u001b[39;49m\u001b[43mallow_unsafe_protocols\u001b[49m\u001b[43m,\u001b[49m\n\u001b[0;32m   1333\u001b[0m \u001b[43m    \u001b[49m\u001b[43mallow_unsafe_options\u001b[49m\u001b[38;5;241;43m=\u001b[39;49m\u001b[43mallow_unsafe_options\u001b[49m\u001b[43m,\u001b[49m\n\u001b[0;32m   1334\u001b[0m \u001b[43m    \u001b[49m\u001b[38;5;241;43m*\u001b[39;49m\u001b[38;5;241;43m*\u001b[39;49m\u001b[43mkwargs\u001b[49m\u001b[43m,\u001b[49m\n\u001b[0;32m   1335\u001b[0m \u001b[43m\u001b[49m\u001b[43m)\u001b[49m\n",
      "File \u001b[1;32m~\\AppData\\Roaming\\jupyterlab-desktop\\jlab_server\\lib\\site-packages\\git\\repo\\base.py:1221\u001b[0m, in \u001b[0;36mRepo._clone\u001b[1;34m(cls, git, url, path, odb_default_type, progress, multi_options, allow_unsafe_protocols, allow_unsafe_options, **kwargs)\u001b[0m\n\u001b[0;32m   1209\u001b[0m proc \u001b[38;5;241m=\u001b[39m git\u001b[38;5;241m.\u001b[39mclone(\n\u001b[0;32m   1210\u001b[0m     multi,\n\u001b[0;32m   1211\u001b[0m     \u001b[38;5;124m\"\u001b[39m\u001b[38;5;124m--\u001b[39m\u001b[38;5;124m\"\u001b[39m,\n\u001b[1;32m   (...)\u001b[0m\n\u001b[0;32m   1218\u001b[0m     \u001b[38;5;241m*\u001b[39m\u001b[38;5;241m*\u001b[39madd_progress(kwargs, git, progress),\n\u001b[0;32m   1219\u001b[0m )\n\u001b[0;32m   1220\u001b[0m \u001b[38;5;28;01mif\u001b[39;00m progress:\n\u001b[1;32m-> 1221\u001b[0m     \u001b[43mhandle_process_output\u001b[49m\u001b[43m(\u001b[49m\n\u001b[0;32m   1222\u001b[0m \u001b[43m        \u001b[49m\u001b[43mproc\u001b[49m\u001b[43m,\u001b[49m\n\u001b[0;32m   1223\u001b[0m \u001b[43m        \u001b[49m\u001b[38;5;28;43;01mNone\u001b[39;49;00m\u001b[43m,\u001b[49m\n\u001b[0;32m   1224\u001b[0m \u001b[43m        \u001b[49m\u001b[43mto_progress_instance\u001b[49m\u001b[43m(\u001b[49m\u001b[43mprogress\u001b[49m\u001b[43m)\u001b[49m\u001b[38;5;241;43m.\u001b[39;49m\u001b[43mnew_message_handler\u001b[49m\u001b[43m(\u001b[49m\u001b[43m)\u001b[49m\u001b[43m,\u001b[49m\n\u001b[0;32m   1225\u001b[0m \u001b[43m        \u001b[49m\u001b[43mfinalize_process\u001b[49m\u001b[43m,\u001b[49m\n\u001b[0;32m   1226\u001b[0m \u001b[43m        \u001b[49m\u001b[43mdecode_streams\u001b[49m\u001b[38;5;241;43m=\u001b[39;49m\u001b[38;5;28;43;01mFalse\u001b[39;49;00m\u001b[43m,\u001b[49m\n\u001b[0;32m   1227\u001b[0m \u001b[43m    \u001b[49m\u001b[43m)\u001b[49m\n\u001b[0;32m   1228\u001b[0m \u001b[38;5;28;01melse\u001b[39;00m:\n\u001b[0;32m   1229\u001b[0m     (stdout, stderr) \u001b[38;5;241m=\u001b[39m proc\u001b[38;5;241m.\u001b[39mcommunicate()\n",
      "File \u001b[1;32m~\\AppData\\Roaming\\jupyterlab-desktop\\jlab_server\\lib\\site-packages\\git\\cmd.py:204\u001b[0m, in \u001b[0;36mhandle_process_output\u001b[1;34m(process, stdout_handler, stderr_handler, finalizer, decode_streams, kill_after_timeout)\u001b[0m\n\u001b[0;32m    201\u001b[0m             stderr_handler(error_str)  \u001b[38;5;66;03m# type: ignore\u001b[39;00m\n\u001b[0;32m    203\u001b[0m \u001b[38;5;28;01mif\u001b[39;00m finalizer:\n\u001b[1;32m--> 204\u001b[0m     \u001b[38;5;28;01mreturn\u001b[39;00m \u001b[43mfinalizer\u001b[49m\u001b[43m(\u001b[49m\u001b[43mprocess\u001b[49m\u001b[43m)\u001b[49m\n\u001b[0;32m    205\u001b[0m \u001b[38;5;28;01melse\u001b[39;00m:\n\u001b[0;32m    206\u001b[0m     \u001b[38;5;28;01mreturn\u001b[39;00m \u001b[38;5;28;01mNone\u001b[39;00m\n",
      "File \u001b[1;32m~\\AppData\\Roaming\\jupyterlab-desktop\\jlab_server\\lib\\site-packages\\git\\util.py:419\u001b[0m, in \u001b[0;36mfinalize_process\u001b[1;34m(proc, **kwargs)\u001b[0m\n\u001b[0;32m    417\u001b[0m \u001b[38;5;250m\u001b[39m\u001b[38;5;124;03m\"\"\"Wait for the process (clone, fetch, pull or push) and handle its errors accordingly\"\"\"\u001b[39;00m\n\u001b[0;32m    418\u001b[0m \u001b[38;5;66;03m# TODO: No close proc-streams??\u001b[39;00m\n\u001b[1;32m--> 419\u001b[0m \u001b[43mproc\u001b[49m\u001b[38;5;241;43m.\u001b[39;49m\u001b[43mwait\u001b[49m\u001b[43m(\u001b[49m\u001b[38;5;241;43m*\u001b[39;49m\u001b[38;5;241;43m*\u001b[39;49m\u001b[43mkwargs\u001b[49m\u001b[43m)\u001b[49m\n",
      "File \u001b[1;32m~\\AppData\\Roaming\\jupyterlab-desktop\\jlab_server\\lib\\site-packages\\git\\cmd.py:604\u001b[0m, in \u001b[0;36mGit.AutoInterrupt.wait\u001b[1;34m(self, stderr)\u001b[0m\n\u001b[0;32m    602\u001b[0m     errstr \u001b[38;5;241m=\u001b[39m read_all_from_possibly_closed_stream(p_stderr)\n\u001b[0;32m    603\u001b[0m     log\u001b[38;5;241m.\u001b[39mdebug(\u001b[38;5;124m\"\u001b[39m\u001b[38;5;124mAutoInterrupt wait stderr: \u001b[39m\u001b[38;5;132;01m%r\u001b[39;00m\u001b[38;5;124m\"\u001b[39m \u001b[38;5;241m%\u001b[39m (errstr,))\n\u001b[1;32m--> 604\u001b[0m     \u001b[38;5;28;01mraise\u001b[39;00m GitCommandError(remove_password_if_present(\u001b[38;5;28mself\u001b[39m\u001b[38;5;241m.\u001b[39margs), status, errstr)\n\u001b[0;32m    605\u001b[0m \u001b[38;5;28;01mreturn\u001b[39;00m status\n",
      "\u001b[1;31mGitCommandError\u001b[0m: Cmd('git') failed due to: exit code(128)\n  cmdline: git clone -v --branch=master --depth=1 --progress -- https://github.com/cltk/sanskrit_text_dcs.git C:\\Users\\gpwal\\cltk_data\\san\\text\\sanskrit_text_dcs"
     ]
    }
   ],
   "source": [
    "ss_corpus_downloader.import_corpus('sanskrit_text_dcs')"
   ]
  },
  {
   "cell_type": "code",
   "execution_count": 138,
   "id": "80710f4b-3d81-42c8-a571-92abdc77668e",
   "metadata": {
    "tags": []
   },
   "outputs": [
    {
     "name": "stdout",
     "output_type": "stream",
     "text": [
      "‎𐤀 CLTK version '1.1.6'.\n",
      "Pipeline for language 'Sanskrit' (ISO: 'san'): `MultilingualTokenizationProcess`, `SanskritEmbeddingsProcess`, `StopsProcess`.\n"
     ]
    }
   ],
   "source": [
    "cltk_nlp_ss=NLP(\"san\")"
   ]
  },
  {
   "cell_type": "code",
   "execution_count": 139,
   "id": "3e5301c1-ed69-419e-8961-3d7d65161229",
   "metadata": {
    "tags": []
   },
   "outputs": [],
   "source": [
    "with open(r\"C:\\Users\\gpwal\\cltk_data\\san\\text\\sanskrit_text_sacred_texts\\latin\\sanskritcorpus.txt\", 'r', encoding='utf-8') as f:\n",
    "    sanskrit_full = f.read()"
   ]
  },
  {
   "cell_type": "code",
   "execution_count": 140,
   "id": "37cb91bb-90e6-4e8b-9e78-716aa27471f4",
   "metadata": {
    "tags": []
   },
   "outputs": [
    {
     "name": "stdout",
     "output_type": "stream",
     "text": [
      "9036432\n",
      "903643\n"
     ]
    }
   ],
   "source": [
    "sanskrit_part = sanskrit_full[:len(sanskrit_full) // 10]\n",
    "print(len(sanskrit_full))\n",
    "print(len(sanskrit_part))"
   ]
  },
  {
   "cell_type": "code",
   "execution_count": 141,
   "id": "79f4f74a-34a5-4128-a45c-c4a0d3a7c82e",
   "metadata": {
    "tags": []
   },
   "outputs": [],
   "source": [
    "from cltk.languages.pipelines import SanskritPipeline"
   ]
  },
  {
   "cell_type": "code",
   "execution_count": 142,
   "id": "6d8115d7-0d86-460e-a795-31cf394266b2",
   "metadata": {
    "tags": []
   },
   "outputs": [],
   "source": [
    "ss_pipe = SanskritPipeline()"
   ]
  },
  {
   "cell_type": "code",
   "execution_count": 143,
   "id": "9e672aab-0797-4078-852d-89a9de02527c",
   "metadata": {
    "tags": []
   },
   "outputs": [],
   "source": [
    "ss_nlp = NLP(language='san', custom_pipeline=ss_pipe, suppress_banner=True)"
   ]
  },
  {
   "cell_type": "code",
   "execution_count": 144,
   "id": "91a39eb1-9260-4473-b985-f721aa8a7bfa",
   "metadata": {
    "tags": []
   },
   "outputs": [],
   "source": [
    "ss_corpus = r\"C:\\Users\\gpwal\\cltk_data\\san\\text\\sanskrit_text_sacred_texts\\latin\\sanskritcorpus.txt\""
   ]
  },
  {
   "cell_type": "code",
   "execution_count": 158,
   "id": "6223e243-2b61-47f3-8166-80db04eeab35",
   "metadata": {
    "tags": []
   },
   "outputs": [],
   "source": [
    "cltk_ss = ss_nlp(text=sanskrit_part)"
   ]
  },
  {
   "cell_type": "code",
   "execution_count": 159,
   "id": "493ef8c7-567a-469b-8fe5-2d68ed5a1b90",
   "metadata": {
    "tags": []
   },
   "outputs": [],
   "source": [
    "# this didn't seem to give what we wanted\n",
    "with open(f\"{directory_path}/ss_texts/nlp_ss.txt\", \"w\", encoding='utf-8') as f:\n",
    "    f.write(str(cltk_ss))"
   ]
  },
  {
   "cell_type": "markdown",
   "id": "b4d75c4e-33ca-48ce-bd22-787c376070d6",
   "metadata": {},
   "source": [
    "## Gettin Language Internal Cosine Similarities"
   ]
  },
  {
   "cell_type": "code",
   "execution_count": 29,
   "id": "03e9f8ab-e8da-4877-836c-19a7859eaf04",
   "metadata": {
    "tags": []
   },
   "outputs": [],
   "source": [
    "en_swadesh = ['i','you','we','this','that','who','what','not','all','many','one','two','big','long','small','woman','man','person','fish','bird','dog','louse','tree','seed','leaf','root','bark','skin','flesh','blood','bone','grease','egg','horn','tail','feather','hair','head','ear','eye','nose','mouth','tooth','tongue','claw','foot','knee','hand','belly','neck','breasts','heart','liver','drink','eat','bite','see','hear','know','sleep','die','kill','swim','fly','walk','come','lie','sit','stand','give','say','sun','moon','star','water','rain','stone','sand','earth','cloud','smoke','fire','ashes','burn','path','mountain','red','green','yellow','white','black','night','hot','cold','full','new','good','round','dry','name']"
   ]
  },
  {
   "cell_type": "code",
   "execution_count": 30,
   "id": "c1a2923d-6ea3-448e-8e06-d611dc2e04c1",
   "metadata": {
    "tags": []
   },
   "outputs": [],
   "source": [
    "lasimilarities = {}"
   ]
  },
  {
   "cell_type": "code",
   "execution_count": 32,
   "id": "b692d35e-a336-4f6d-b3c7-82702ff94fb4",
   "metadata": {
    "tags": []
   },
   "outputs": [],
   "source": [
    "for word1 in latin_swadesh:\n",
    "    for word2 in latin_swadesh:\n",
    "        if word1 != word2:\n",
    "            similarity = la_model.wv.similarity(word1, word2)\n",
    "            lasimilarities[(word1, word2)] = similarity"
   ]
  },
  {
   "cell_type": "code",
   "execution_count": 36,
   "id": "a54c8b27-6f0a-4046-a404-4883bca8d1fd",
   "metadata": {
    "tags": []
   },
   "outputs": [],
   "source": [
    "lacodf = pd.DataFrame.from_dict(lasimilarities, orient='index', columns=['Cosine Similarity'])\n",
    "lacodf = lacodf.reset_index()\n",
    "lacodf.to_csv('data/latin/la_cosines.csv', index=False)"
   ]
  },
  {
   "cell_type": "code",
   "execution_count": 37,
   "id": "4764b8a0-15f8-4125-93be-5695ad8061ea",
   "metadata": {
    "tags": []
   },
   "outputs": [],
   "source": [
    "ensimilarities = {}\n",
    "for word1 in en_swadesh:\n",
    "    for word2 in en_swadesh:\n",
    "        if word1 != word2:\n",
    "            similarity = wv.similarity(word1, word2)\n",
    "            ensimilarities[(word1, word2)] = similarity\n",
    "encodf = pd.DataFrame.from_dict(ensimilarities, orient='index', columns=['Cosine Similarity'])\n",
    "encodf = encodf.reset_index()\n",
    "encodf.to_csv('data/english/english_cosines.csv', index=False)"
   ]
  },
  {
   "cell_type": "code",
   "execution_count": 40,
   "id": "0827fc0d-1a64-4000-ac10-6ea45c960b7c",
   "metadata": {
    "tags": []
   },
   "outputs": [],
   "source": [
    "oe_swadesh = ['ic', 'ðu', 'us', 'he', 'ðæt', 'hwa','hwa','ne','eall','manig','an','twegen', 'micel', 'lang', 'min', 'cwen', 'mann', 'mann', 'fisc','fugol', 'hund', 'treow','sæd','blæd','rot','hyd','flæsc','blod','ban', 'gelynd','æg', 'horn','steort', 'hær', 'heafod', 'eare', 'eage', 'muþ', 'tunge', 'clea', 'fot', 'cneow', 'mund','cwiþ', 'sweora','bosm', 'heorte', 'drincan', 'etan', 'bitan', 'seon', 'gehiran', 'cunnan', 'swefan', 'dead','cwellan','fleogan', 'findan', 'cuman', 'licgan', 'sittan', 'standan','gesellan', 'sæcgan', 'sunne', 'mona', 'steorra', 'ea', 'regn', 'stan','sand', 'eorþe', 'neowol', 'þrosm','fyr', 'axe', 'bærnan', 'foldweg', 'beorg', 'read', 'grene', 'geolo', 'hwit','blæc', 'niht', 'wearm', 'ceald', 'full', 'niwe', 'betra', 'dryge', 'nama']"
   ]
  },
  {
   "cell_type": "code",
   "execution_count": 41,
   "id": "0d89d71c-ce16-447a-ac5d-2d9bc9480ab2",
   "metadata": {
    "tags": []
   },
   "outputs": [],
   "source": [
    "oesimilarities = {}\n",
    "for word1 in oe_swadesh:\n",
    "    for word2 in oe_swadesh:\n",
    "        if word1 != word2:\n",
    "            similarity = oe_model.wv.similarity(word1, word2)\n",
    "            oesimilarities[(word1, word2)] = similarity\n",
    "oecodf = pd.DataFrame.from_dict(oesimilarities, orient='index', columns=['Cosine Similarity'])\n",
    "oecodf = oecodf.reset_index()\n",
    "oecodf.to_csv('data/old_english/oe_cosines.csv', index=False)"
   ]
  },
  {
   "cell_type": "markdown",
   "id": "2010ccab-bf1f-414d-a91a-6195f9b8dd5c",
   "metadata": {},
   "source": [
    "## Using the Gospel Matthew to Compare Languages"
   ]
  },
  {
   "cell_type": "markdown",
   "id": "a0e5e32d-6393-433e-ae30-9995a4b94a7a",
   "metadata": {},
   "source": [
    "### Latin"
   ]
  },
  {
   "cell_type": "code",
   "execution_count": 52,
   "id": "30329ba0-64a3-40b6-868c-b2fb2e9f738f",
   "metadata": {
    "tags": []
   },
   "outputs": [],
   "source": [
    "with open (\"texts/matthew/la_matthew.txt\", 'r', encoding=\"utf-8\") as f:\n",
    "  text = f.read()\n",
    "    \n",
    "la_matthew = tokenize_corpus(text)\n",
    "la_matthew_model = Word2Vec(sentences = la_matthew, \n",
    "                 vector_size = 100, \n",
    "                 window = 20,\n",
    "                 epochs = 100,\n",
    "                min_count = 1)"
   ]
  },
  {
   "cell_type": "code",
   "execution_count": 61,
   "id": "9f837cdb-80a0-42f7-ac24-9687840aad17",
   "metadata": {
    "tags": []
   },
   "outputs": [
    {
     "name": "stdout",
     "output_type": "stream",
     "text": [
      "et: 1270\n",
      "in: 515\n",
      "autem: 368\n",
      "est: 297\n",
      "qui: 223\n",
      "non: 221\n",
      "eum: 159\n",
      "cum: 134\n",
      "jesus: 129\n",
      "ejus: 124\n",
      "ad: 122\n",
      "vobis: 117\n",
      "enim: 116\n",
      "quia: 107\n",
      "ei: 95\n",
      "ut: 92\n",
      "de: 91\n",
      "sunt: 91\n",
      "illis: 89\n",
      "tunc: 87\n",
      "a: 85\n",
      "ait: 83\n",
      "me: 78\n",
      "si: 77\n",
      "vos: 76\n",
      "dixit: 76\n",
      "quod: 74\n",
      "illi: 68\n",
      "ecce: 66\n",
      "super: 62\n"
     ]
    }
   ],
   "source": [
    "word_counts = Counter({word: la_matthew_model.wv.get_vecattr(word, 'count') for word in la_matthew_model.wv.index_to_key})\n",
    "top_30_words = word_counts.most_common(30)\n",
    "for word, count in top_30_words:\n",
    "    print(f'{word}: {count}')"
   ]
  },
  {
   "cell_type": "code",
   "execution_count": 128,
   "id": "c3ef65c8-6adb-4942-b072-9e619d18cac4",
   "metadata": {
    "tags": []
   },
   "outputs": [],
   "source": [
    "la_matthew_words = ['homo', 'filius', 'dominus', 'caelum', 'discipuli', 'pater','regnum','deus', 'bonus', 'multus', 'dies', 'magnus', 'domus', 'filii', 'manus', 'terra', 'tempus', 'populus', 'propheta', 'scribae','servus', 'frater', 'hora', 'rex', 'templum']"
   ]
  },
  {
   "cell_type": "code",
   "execution_count": 129,
   "id": "7fbf2171-e57b-4d16-b2ac-541edc398156",
   "metadata": {
    "tags": []
   },
   "outputs": [],
   "source": [
    "la_matthew_vectors = {}\n",
    "for key in la_matthew_words:\n",
    "    la_matthew_vectors[key] = la_matthew_model.wv.get_vector(key)"
   ]
  },
  {
   "cell_type": "code",
   "execution_count": 130,
   "id": "e05791da-8ddc-4777-8086-858646ca041f",
   "metadata": {
    "tags": []
   },
   "outputs": [],
   "source": [
    "la_matthew_similarities = {}\n",
    "for word1 in la_matthew_words:\n",
    "    for word2 in la_matthew_words:\n",
    "        if word1 != word2:\n",
    "            similarity = la_matthew_model.wv.similarity(word1, word2)\n",
    "            la_matthew_similarities[(word1, word2)] = similarity\n",
    "la_matthew_codf = pd.DataFrame.from_dict(la_matthew_similarities, orient='index', columns=['Cosine Similarity'])\n",
    "la_matthew_codf = la_matthew_codf.reset_index()\n",
    "la_matthew_codf.to_csv('data/latin/la_matthew_cosines.csv', index=False)"
   ]
  },
  {
   "cell_type": "markdown",
   "id": "25a2616b-2dc6-4ca5-9ab9-33a52c42b195",
   "metadata": {},
   "source": [
    "### English"
   ]
  },
  {
   "cell_type": "code",
   "execution_count": 50,
   "id": "085690ea-72b5-4b5c-9fd4-d7738ed73ae3",
   "metadata": {
    "tags": []
   },
   "outputs": [],
   "source": [
    "with open (\"texts/matthew/eng_matthew.txt\", 'r', encoding=\"utf-8\") as f:\n",
    "  text = f.read()\n",
    "    \n",
    "eng_matthew = tokenize_corpus(text)\n",
    "eng_matthew_model = Word2Vec(sentences = eng_matthew, \n",
    "                 vector_size = 100, \n",
    "                 window = 20,\n",
    "                 epochs = 100,\n",
    "                 min_count = 1)"
   ]
  },
  {
   "cell_type": "code",
   "execution_count": 60,
   "id": "65529ce1-f07f-4b71-a47f-7328941f76db",
   "metadata": {
    "tags": []
   },
   "outputs": [
    {
     "name": "stdout",
     "output_type": "stream",
     "text": [
      "and: 1552\n",
      "the: 1405\n",
      "of: 673\n",
      "unto: 435\n",
      "he: 412\n",
      "that: 388\n",
      "him: 378\n",
      "to: 377\n",
      "shall: 344\n",
      "they: 307\n",
      "in: 305\n",
      "is: 289\n",
      "them: 268\n",
      "for: 267\n",
      "be: 264\n",
      "ye: 263\n",
      "his: 259\n",
      "not: 255\n",
      "a: 254\n",
      "but: 237\n",
      "it: 225\n",
      "i: 210\n",
      "said: 189\n",
      "when: 173\n",
      "jesus: 172\n",
      "you: 157\n",
      "which: 155\n",
      "was: 152\n",
      "thou: 151\n",
      "with: 138\n"
     ]
    }
   ],
   "source": [
    "word_counts = Counter({word: eng_matthew_model.wv.get_vecattr(word, 'count') for word in eng_matthew_model.wv.index_to_key})\n",
    "top_30_words = word_counts.most_common(30)\n",
    "for word, count in top_30_words:\n",
    "    print(f'{word}: {count}')"
   ]
  },
  {
   "cell_type": "code",
   "execution_count": 125,
   "id": "e9351008-22ef-4c13-8af8-a9f696892897",
   "metadata": {
    "tags": []
   },
   "outputs": [],
   "source": [
    "eng_matthew_words = ['man','son','lord','heaven','disciples','father','kingdom','god','good','many','day','great','house','children','hand','earth','time','people','prophet','scribes','servant','brother','hour','king','temple']"
   ]
  },
  {
   "cell_type": "code",
   "execution_count": 126,
   "id": "ff7a066f-8e09-43d3-b914-4d8892997c85",
   "metadata": {
    "tags": []
   },
   "outputs": [],
   "source": [
    "eng_matthew_vectors = {}\n",
    "for key in eng_matthew_words:\n",
    "    eng_matthew_vectors[key] = eng_matthew_model.wv.get_vector(key)"
   ]
  },
  {
   "cell_type": "code",
   "execution_count": 127,
   "id": "5828804b-f6ec-414e-bbb3-cdd92aee7635",
   "metadata": {
    "tags": []
   },
   "outputs": [],
   "source": [
    "eng_matthew_similarities = {}\n",
    "for word1 in eng_matthew_words:\n",
    "    for word2 in eng_matthew_words:\n",
    "        if word1 != word2:\n",
    "            similarity = eng_matthew_model.wv.similarity(word1, word2)\n",
    "            eng_matthew_similarities[(word1, word2)] = similarity\n",
    "eng_matthew_codf = pd.DataFrame.from_dict(eng_matthew_similarities, orient='index', columns=['Cosine Similarity'])\n",
    "eng_matthew_codf = eng_matthew_codf.reset_index()\n",
    "eng_matthew_codf.to_csv('data/english/eng_matthew_cosines.csv', index=False)"
   ]
  },
  {
   "cell_type": "markdown",
   "id": "37681d13-4f0b-4770-b1bf-fd343c7eea9a",
   "metadata": {},
   "source": [
    "### Old English"
   ]
  },
  {
   "cell_type": "code",
   "execution_count": 48,
   "id": "597e84fb-ef48-44f3-9467-f14bad240db1",
   "metadata": {
    "tags": []
   },
   "outputs": [],
   "source": [
    "with open (\"texts/matthew/oe_matthew.txt\", 'r', encoding=\"utf-8\") as f:\n",
    "  text = f.read()\n",
    "    \n",
    "oe_matthew = tokenize_corpus(text)\n",
    "oe_matthew_model = Word2Vec(sentences = oe_matthew, \n",
    "                 vector_size = 100, \n",
    "                 window = 20,\n",
    "                 epochs = 100,\n",
    "                 min_count = 1)"
   ]
  },
  {
   "cell_type": "code",
   "execution_count": 62,
   "id": "5b2b1eff-f0ad-4920-9d20-68220567b40d",
   "metadata": {
    "tags": []
   },
   "outputs": [
    {
     "name": "stdout",
     "output_type": "stream",
     "text": [
      "a: 1951\n",
      "and: 1515\n",
      "b: 998\n",
      "on: 648\n",
      "þā: 563\n",
      "þæt: 445\n",
      "hē: 430\n",
      "þe: 331\n",
      "sē: 331\n",
      "tō: 326\n",
      "hig: 306\n",
      "ne: 276\n",
      "þām: 272\n",
      "him: 262\n",
      "gē: 252\n",
      "hys: 226\n",
      "ic: 216\n",
      "for: 204\n",
      "swā: 184\n",
      "đā: 184\n",
      "of: 180\n",
      "the: 176\n",
      "ēow: 173\n",
      "corp: 170\n",
      "cwæð: 167\n",
      "ys: 158\n",
      "hyne: 139\n",
      "þū: 130\n",
      "mid: 120\n",
      "wæs: 120\n"
     ]
    }
   ],
   "source": [
    "word_counts = Counter({word: oe_matthew_model.wv.get_vecattr(word, 'count') for word in oe_matthew_model.wv.index_to_key})\n",
    "top_30_words = word_counts.most_common(30)\n",
    "for word, count in top_30_words:\n",
    "    print(f'{word}: {count}')"
   ]
  },
  {
   "cell_type": "code",
   "execution_count": 131,
   "id": "295942eb-2304-4913-85cb-1fe87b185d0f",
   "metadata": {
    "tags": []
   },
   "outputs": [],
   "source": [
    "oe_matthew_words = ['mann', 'sunu', 'hlaford', 'heofon', 'leorningcnihtas', 'fæder','rīce', 'god', 'god', 'fela', 'dæg', 'micel', 'hūs', 'bearn', 'hand', 'eorþe','tīd', 'folc', 'wītega', 'bōceras', 'þēowa', 'brōþor', 'tīd', 'cyning','tempel']"
   ]
  },
  {
   "cell_type": "code",
   "execution_count": 132,
   "id": "f7b0053e-28ce-4fa2-9ac1-c65ebf37cbbf",
   "metadata": {
    "tags": []
   },
   "outputs": [],
   "source": [
    "oe_matthew_vectors = {}\n",
    "for key in oe_matthew_words:\n",
    "    oe_matthew_vectors[key] = oe_matthew_model.wv.get_vector(key)"
   ]
  },
  {
   "cell_type": "code",
   "execution_count": 133,
   "id": "33190c10-97d7-4a7e-a4b1-63b349177038",
   "metadata": {
    "tags": []
   },
   "outputs": [],
   "source": [
    "oe_matthew_similarities = {}\n",
    "for word1 in oe_matthew_words:\n",
    "    for word2 in oe_matthew_words:\n",
    "        if word1 != word2:\n",
    "            similarity = oe_matthew_model.wv.similarity(word1, word2)\n",
    "            oe_matthew_similarities[(word1, word2)] = similarity\n",
    "oe_matthew_codf = pd.DataFrame.from_dict(oe_matthew_similarities, orient='index', columns=['Cosine Similarity'])\n",
    "oe_matthew_codf = oe_matthew_codf.reset_index()\n",
    "oe_matthew_codf.to_csv('data/old_english/oe_matthew_cosines.csv', index=False)"
   ]
  },
  {
   "cell_type": "markdown",
   "id": "b669eeee-ceab-4fce-8be9-f297da137e16",
   "metadata": {},
   "source": [
    "### Greek"
   ]
  },
  {
   "cell_type": "code",
   "execution_count": 46,
   "id": "a0bc2d89-98b9-48fe-97bf-e00766b72586",
   "metadata": {
    "tags": []
   },
   "outputs": [],
   "source": [
    "with open (\"texts/matthew/gr_matthew.txt\", 'r', encoding=\"utf-8\") as f:\n",
    "  text = f.read()\n",
    "    \n",
    "gr_matthew = tokenize_corpus(text)\n",
    "gr_matthew_model = Word2Vec(sentences = gr_matthew, \n",
    "                 vector_size = 100, \n",
    "                 window = 20,\n",
    "                 epochs = 100,\n",
    "                 min_count = 1)"
   ]
  },
  {
   "cell_type": "code",
   "execution_count": 64,
   "id": "8a14ba9c-7e8c-4225-b618-e4db9780e8a3",
   "metadata": {
    "tags": []
   },
   "outputs": [
    {
     "name": "stdout",
     "output_type": "stream",
     "text": [
      "και: 1220\n",
      "ο: 550\n",
      "δε: 485\n",
      "εν: 314\n",
      "του: 306\n",
      "αυτου: 279\n",
      "εις: 238\n",
      "το: 235\n",
      "οι: 231\n",
      "τον: 222\n",
      "την: 215\n",
      "των: 209\n",
      "η: 204\n",
      "αυτω: 185\n",
      "τω: 159\n",
      "οτι: 147\n",
      "ιησους: 130\n",
      "γαρ: 128\n",
      "μη: 127\n",
      "της: 124\n",
      "αυτον: 123\n",
      "εστιν: 121\n",
      "ειπεν: 120\n",
      "τα: 115\n",
      "σου: 114\n",
      "αυτων: 113\n",
      "τους: 112\n",
      "αυτοις: 112\n",
      "ου: 111\n",
      "τοις: 110\n"
     ]
    }
   ],
   "source": [
    "word_counts = Counter({word: gr_matthew_model.wv.get_vecattr(word, 'count') for word in gr_matthew_model.wv.index_to_key})\n",
    "top_30_words = word_counts.most_common(30)\n",
    "for word, count in top_30_words:\n",
    "    print(f'{word}: {count}')"
   ]
  },
  {
   "cell_type": "code",
   "execution_count": 99,
   "id": "ec7679ea-2db1-42ef-862e-5121699180ae",
   "metadata": {
    "tags": []
   },
   "outputs": [],
   "source": [
    "gr_matthew_words = ['ἀνήρ','υἱός', 'κύριος', 'οὐρανός', 'μαθητές', 'πατήρ', 'βασίλειον', 'θεός', 'καλός', 'πολλοί', 'ἡμέρα', 'μέγας', 'οἶκος', 'τέκνα', 'χείρ', 'γῆ', 'χρόνος', 'λαός', 'προφήτης', 'γραμματεῖς', 'δοῦλος', 'ἀδελφός', 'ὥρα', 'βασιλεύς', 'ναός']"
   ]
  },
  {
   "cell_type": "code",
   "execution_count": 100,
   "id": "de480a14-b51c-4be9-9e55-0fcd7bbd01c9",
   "metadata": {
    "collapsed": true,
    "jupyter": {
     "outputs_hidden": true
    },
    "tags": []
   },
   "outputs": [
    {
     "ename": "KeyError",
     "evalue": "\"Key 'ἀνήρ' not present\"",
     "output_type": "error",
     "traceback": [
      "\u001b[1;31m---------------------------------------------------------------------------\u001b[0m",
      "\u001b[1;31mKeyError\u001b[0m                                  Traceback (most recent call last)",
      "Cell \u001b[1;32mIn[100], line 3\u001b[0m\n\u001b[0;32m      1\u001b[0m gr_matthew_vectors \u001b[38;5;241m=\u001b[39m {}\n\u001b[0;32m      2\u001b[0m \u001b[38;5;28;01mfor\u001b[39;00m key \u001b[38;5;129;01min\u001b[39;00m gr_matthew_words:\n\u001b[1;32m----> 3\u001b[0m     gr_matthew_vectors[key] \u001b[38;5;241m=\u001b[39m \u001b[43mgr_matthew_model\u001b[49m\u001b[38;5;241;43m.\u001b[39;49m\u001b[43mwv\u001b[49m\u001b[38;5;241;43m.\u001b[39;49m\u001b[43mget_vector\u001b[49m\u001b[43m(\u001b[49m\u001b[43mkey\u001b[49m\u001b[43m)\u001b[49m\n",
      "File \u001b[1;32m~\\AppData\\Roaming\\jupyterlab-desktop\\jlab_server\\lib\\site-packages\\gensim\\models\\keyedvectors.py:446\u001b[0m, in \u001b[0;36mKeyedVectors.get_vector\u001b[1;34m(self, key, norm)\u001b[0m\n\u001b[0;32m    422\u001b[0m \u001b[38;5;28;01mdef\u001b[39;00m \u001b[38;5;21mget_vector\u001b[39m(\u001b[38;5;28mself\u001b[39m, key, norm\u001b[38;5;241m=\u001b[39m\u001b[38;5;28;01mFalse\u001b[39;00m):\n\u001b[0;32m    423\u001b[0m \u001b[38;5;250m    \u001b[39m\u001b[38;5;124;03m\"\"\"Get the key's vector, as a 1D numpy array.\u001b[39;00m\n\u001b[0;32m    424\u001b[0m \n\u001b[0;32m    425\u001b[0m \u001b[38;5;124;03m    Parameters\u001b[39;00m\n\u001b[1;32m   (...)\u001b[0m\n\u001b[0;32m    444\u001b[0m \n\u001b[0;32m    445\u001b[0m \u001b[38;5;124;03m    \"\"\"\u001b[39;00m\n\u001b[1;32m--> 446\u001b[0m     index \u001b[38;5;241m=\u001b[39m \u001b[38;5;28;43mself\u001b[39;49m\u001b[38;5;241;43m.\u001b[39;49m\u001b[43mget_index\u001b[49m\u001b[43m(\u001b[49m\u001b[43mkey\u001b[49m\u001b[43m)\u001b[49m\n\u001b[0;32m    447\u001b[0m     \u001b[38;5;28;01mif\u001b[39;00m norm:\n\u001b[0;32m    448\u001b[0m         \u001b[38;5;28mself\u001b[39m\u001b[38;5;241m.\u001b[39mfill_norms()\n",
      "File \u001b[1;32m~\\AppData\\Roaming\\jupyterlab-desktop\\jlab_server\\lib\\site-packages\\gensim\\models\\keyedvectors.py:420\u001b[0m, in \u001b[0;36mKeyedVectors.get_index\u001b[1;34m(self, key, default)\u001b[0m\n\u001b[0;32m    418\u001b[0m     \u001b[38;5;28;01mreturn\u001b[39;00m default\n\u001b[0;32m    419\u001b[0m \u001b[38;5;28;01melse\u001b[39;00m:\n\u001b[1;32m--> 420\u001b[0m     \u001b[38;5;28;01mraise\u001b[39;00m \u001b[38;5;167;01mKeyError\u001b[39;00m(\u001b[38;5;124mf\u001b[39m\u001b[38;5;124m\"\u001b[39m\u001b[38;5;124mKey \u001b[39m\u001b[38;5;124m'\u001b[39m\u001b[38;5;132;01m{\u001b[39;00mkey\u001b[38;5;132;01m}\u001b[39;00m\u001b[38;5;124m'\u001b[39m\u001b[38;5;124m not present\u001b[39m\u001b[38;5;124m\"\u001b[39m)\n",
      "\u001b[1;31mKeyError\u001b[0m: \"Key 'ἀνήρ' not present\""
     ]
    }
   ],
   "source": [
    "gr_matthew_vectors = {}\n",
    "for key in gr_matthew_words:\n",
    "    gr_matthew_vectors[key] = gr_matthew_model.wv.get_vector(key)"
   ]
  },
  {
   "cell_type": "markdown",
   "id": "32d5e257-be41-4adb-a08b-dbb362b03187",
   "metadata": {},
   "source": [
    "### Sanskrit"
   ]
  },
  {
   "cell_type": "code",
   "execution_count": 44,
   "id": "99e1ade3-8b05-41bb-bbca-ab378a49d615",
   "metadata": {
    "tags": []
   },
   "outputs": [],
   "source": [
    "with open (\"texts/matthew/ss_matthew.txt\", 'r', encoding=\"utf-8\") as f:\n",
    "  text = f.read()\n",
    "    \n",
    "ss_matthew = tokenize_corpus(text)\n",
    "ss_matthew_model = Word2Vec(sentences = ss_matthew, \n",
    "                 vector_size = 100, \n",
    "                 window = 20,\n",
    "                 epochs = 100,\n",
    "                 min_count = 1)"
   ]
  },
  {
   "cell_type": "code",
   "execution_count": 65,
   "id": "32415345-ca45-4e48-a24b-ffd130345ae2",
   "metadata": {
    "tags": []
   },
   "outputs": [
    {
     "name": "stdout",
     "output_type": "stream",
     "text": [
      "sa: 241\n",
      "na: 200\n",
      "kintu: 145\n",
      "tasya: 114\n",
      "tadā: 112\n",
      "yūyaṁ: 96\n",
      "ca: 91\n",
      "te: 91\n",
      "taṁ: 88\n",
      "he: 77\n",
      "tadānīṁ: 73\n",
      "tena: 73\n",
      "kiṁ: 72\n",
      "tarhi: 72\n",
      "anantaraṁ: 68\n",
      "tataḥ: 68\n",
      "tato: 65\n",
      "mama: 64\n",
      "yadi: 57\n",
      "tat: 56\n",
      "yuṣmān: 55\n",
      "aparaṁ: 54\n",
      "yuṣmākaṁ: 54\n",
      "tān: 52\n",
      "tava: 52\n",
      "tvaṁ: 51\n",
      "gatvā: 50\n",
      "vā: 48\n",
      "iti: 46\n",
      "mā: 44\n"
     ]
    }
   ],
   "source": [
    "word_counts = Counter({word: ss_matthew_model.wv.get_vecattr(word, 'count') for word in ss_matthew_model.wv.index_to_key})\n",
    "top_30_words = word_counts.most_common(30)\n",
    "for word, count in top_30_words:\n",
    "    print(f'{word}: {count}')"
   ]
  },
  {
   "cell_type": "code",
   "execution_count": 107,
   "id": "8f203cc6-44e4-424c-94b1-fe4cce846294",
   "metadata": {
    "tags": []
   },
   "outputs": [],
   "source": [
    "ss_matthew_words = ['manuṣya', 'putra', 'īśa', 'svarga', 'shishya', 'pitṛ', 'rājya', 'dev', 'shreṣṭha', 'bahu', 'dina', 'mahān', 'gṛha', 'putrāḥ', 'hasta', 'pṛthvī', 'kāla', 'jana', 'muni', 'lekhakāḥ', 'dāsa', 'bhrātṛ', 'ghaṛī', 'rājā', 'mandira']"
   ]
  },
  {
   "cell_type": "code",
   "execution_count": 108,
   "id": "2db45c52-44f5-4b10-a15c-0c8a4faa4851",
   "metadata": {
    "collapsed": true,
    "jupyter": {
     "outputs_hidden": true
    },
    "tags": []
   },
   "outputs": [
    {
     "ename": "KeyError",
     "evalue": "\"Key 'manuṣya' not present\"",
     "output_type": "error",
     "traceback": [
      "\u001b[1;31m---------------------------------------------------------------------------\u001b[0m",
      "\u001b[1;31mKeyError\u001b[0m                                  Traceback (most recent call last)",
      "Cell \u001b[1;32mIn[108], line 3\u001b[0m\n\u001b[0;32m      1\u001b[0m ss_matthew_vectors \u001b[38;5;241m=\u001b[39m {}\n\u001b[0;32m      2\u001b[0m \u001b[38;5;28;01mfor\u001b[39;00m key \u001b[38;5;129;01min\u001b[39;00m ss_matthew_words:\n\u001b[1;32m----> 3\u001b[0m     ss_matthew_vectors[key] \u001b[38;5;241m=\u001b[39m \u001b[43mss_matthew_model\u001b[49m\u001b[38;5;241;43m.\u001b[39;49m\u001b[43mwv\u001b[49m\u001b[38;5;241;43m.\u001b[39;49m\u001b[43mget_vector\u001b[49m\u001b[43m(\u001b[49m\u001b[43mkey\u001b[49m\u001b[43m)\u001b[49m\n",
      "File \u001b[1;32m~\\AppData\\Roaming\\jupyterlab-desktop\\jlab_server\\lib\\site-packages\\gensim\\models\\keyedvectors.py:446\u001b[0m, in \u001b[0;36mKeyedVectors.get_vector\u001b[1;34m(self, key, norm)\u001b[0m\n\u001b[0;32m    422\u001b[0m \u001b[38;5;28;01mdef\u001b[39;00m \u001b[38;5;21mget_vector\u001b[39m(\u001b[38;5;28mself\u001b[39m, key, norm\u001b[38;5;241m=\u001b[39m\u001b[38;5;28;01mFalse\u001b[39;00m):\n\u001b[0;32m    423\u001b[0m \u001b[38;5;250m    \u001b[39m\u001b[38;5;124;03m\"\"\"Get the key's vector, as a 1D numpy array.\u001b[39;00m\n\u001b[0;32m    424\u001b[0m \n\u001b[0;32m    425\u001b[0m \u001b[38;5;124;03m    Parameters\u001b[39;00m\n\u001b[1;32m   (...)\u001b[0m\n\u001b[0;32m    444\u001b[0m \n\u001b[0;32m    445\u001b[0m \u001b[38;5;124;03m    \"\"\"\u001b[39;00m\n\u001b[1;32m--> 446\u001b[0m     index \u001b[38;5;241m=\u001b[39m \u001b[38;5;28;43mself\u001b[39;49m\u001b[38;5;241;43m.\u001b[39;49m\u001b[43mget_index\u001b[49m\u001b[43m(\u001b[49m\u001b[43mkey\u001b[49m\u001b[43m)\u001b[49m\n\u001b[0;32m    447\u001b[0m     \u001b[38;5;28;01mif\u001b[39;00m norm:\n\u001b[0;32m    448\u001b[0m         \u001b[38;5;28mself\u001b[39m\u001b[38;5;241m.\u001b[39mfill_norms()\n",
      "File \u001b[1;32m~\\AppData\\Roaming\\jupyterlab-desktop\\jlab_server\\lib\\site-packages\\gensim\\models\\keyedvectors.py:420\u001b[0m, in \u001b[0;36mKeyedVectors.get_index\u001b[1;34m(self, key, default)\u001b[0m\n\u001b[0;32m    418\u001b[0m     \u001b[38;5;28;01mreturn\u001b[39;00m default\n\u001b[0;32m    419\u001b[0m \u001b[38;5;28;01melse\u001b[39;00m:\n\u001b[1;32m--> 420\u001b[0m     \u001b[38;5;28;01mraise\u001b[39;00m \u001b[38;5;167;01mKeyError\u001b[39;00m(\u001b[38;5;124mf\u001b[39m\u001b[38;5;124m\"\u001b[39m\u001b[38;5;124mKey \u001b[39m\u001b[38;5;124m'\u001b[39m\u001b[38;5;132;01m{\u001b[39;00mkey\u001b[38;5;132;01m}\u001b[39;00m\u001b[38;5;124m'\u001b[39m\u001b[38;5;124m not present\u001b[39m\u001b[38;5;124m\"\u001b[39m)\n",
      "\u001b[1;31mKeyError\u001b[0m: \"Key 'manuṣya' not present\""
     ]
    }
   ],
   "source": [
    "ss_matthew_vectors = {}\n",
    "for key in ss_matthew_words:\n",
    "    ss_matthew_vectors[key] = ss_matthew_model.wv.get_vector(key)"
   ]
  },
  {
   "cell_type": "markdown",
   "id": "f7e7050f-a8a1-4e03-8f30-5c42c7a839c4",
   "metadata": {},
   "source": [
    "### Armenian"
   ]
  },
  {
   "cell_type": "code",
   "execution_count": 67,
   "id": "d88cf93b-8342-4ec9-b2a2-ea18445a356c",
   "metadata": {
    "tags": []
   },
   "outputs": [],
   "source": [
    "with open (\"texts/matthew/ar_matthew.txt\", 'r', encoding=\"utf-8\") as f:\n",
    "  text = f.read()\n",
    "    \n",
    "ar_matthew = tokenize_corpus(text)\n",
    "ar_matthew_model = Word2Vec(sentences = ar_matthew, \n",
    "                 vector_size = 100, \n",
    "                 window = 20,\n",
    "                 epochs = 100,\n",
    "                 min_count = 1)"
   ]
  },
  {
   "cell_type": "code",
   "execution_count": 68,
   "id": "016d3b3e-1ed3-4d70-9893-10e3b5669876",
   "metadata": {
    "tags": []
   },
   "outputs": [
    {
     "name": "stdout",
     "output_type": "stream",
     "text": [
      "եւ: 790\n",
      "որ: 438\n",
      "է: 405\n",
      "ու: 298\n",
      "նրան: 226\n",
      "ասաց: 225\n",
      "նրանց: 191\n",
      "պիտի: 173\n",
      "իր: 173\n",
      "կը: 163\n",
      "նրա: 159\n",
      "մի: 146\n",
      "ձեզ: 141\n",
      "վրայ: 120\n",
      "նա: 120\n",
      "ր: 119\n",
      "մէջ: 116\n",
      "ասում: 115\n",
      "էր: 114\n",
      "են: 112\n",
      "այն: 111\n",
      "քո: 110\n",
      "ք: 108\n",
      "յիսուս: 104\n",
      "էլ: 102\n",
      "եմ: 100\n",
      "թէ: 99\n",
      "երբ: 97\n",
      "իմ: 96\n",
      "համար: 95\n"
     ]
    }
   ],
   "source": [
    "word_counts = Counter({word: ar_matthew_model.wv.get_vecattr(word, 'count') for word in ar_matthew_model.wv.index_to_key})\n",
    "top_30_words = word_counts.most_common(30)\n",
    "for word, count in top_30_words:\n",
    "    print(f'{word}: {count}')"
   ]
  },
  {
   "cell_type": "code",
   "execution_count": 26,
   "id": "49aacc9e-98a7-43f9-8aee-b097452f2375",
   "metadata": {
    "tags": []
   },
   "outputs": [],
   "source": [
    "ar_matthew_words = ['մարդ', 'որոգայթ', 'տիրակալ', 'երկիր', 'խորհուրդներ', 'հայր', 'թագավորություն', 'աստուած', 'լավ', 'էշերջ', 'օր', 'մեծ', 'բնակարան', 'երեխաներ', 'աղբ', 'երկիր', 'ժամ', 'ազրկային հանրապետություն', 'հայրենիք', 'գրողներ', 'աշխարհաբառ', 'աղջիկ', 'ժամ', 'թագ', 'նուսակ']"
   ]
  },
  {
   "cell_type": "code",
   "execution_count": 27,
   "id": "447ef2f6-6a02-4d82-8e20-e0bbbe71a7b2",
   "metadata": {
    "collapsed": true,
    "jupyter": {
     "outputs_hidden": true
    },
    "tags": []
   },
   "outputs": [
    {
     "ename": "KeyError",
     "evalue": "\"Key 'տիրակալ' not present\"",
     "output_type": "error",
     "traceback": [
      "\u001b[1;31m---------------------------------------------------------------------------\u001b[0m",
      "\u001b[1;31mKeyError\u001b[0m                                  Traceback (most recent call last)",
      "Cell \u001b[1;32mIn[27], line 3\u001b[0m\n\u001b[0;32m      1\u001b[0m ar_matthew_vectors \u001b[38;5;241m=\u001b[39m {}\n\u001b[0;32m      2\u001b[0m \u001b[38;5;28;01mfor\u001b[39;00m key \u001b[38;5;129;01min\u001b[39;00m ar_matthew_words:\n\u001b[1;32m----> 3\u001b[0m     ar_matthew_vectors[key] \u001b[38;5;241m=\u001b[39m \u001b[43mar_matthew_model\u001b[49m\u001b[38;5;241;43m.\u001b[39;49m\u001b[43mwv\u001b[49m\u001b[38;5;241;43m.\u001b[39;49m\u001b[43mget_vector\u001b[49m\u001b[43m(\u001b[49m\u001b[43mkey\u001b[49m\u001b[43m)\u001b[49m\n",
      "File \u001b[1;32m~\\AppData\\Roaming\\jupyterlab-desktop\\jlab_server\\lib\\site-packages\\gensim\\models\\keyedvectors.py:446\u001b[0m, in \u001b[0;36mKeyedVectors.get_vector\u001b[1;34m(self, key, norm)\u001b[0m\n\u001b[0;32m    422\u001b[0m \u001b[38;5;28;01mdef\u001b[39;00m \u001b[38;5;21mget_vector\u001b[39m(\u001b[38;5;28mself\u001b[39m, key, norm\u001b[38;5;241m=\u001b[39m\u001b[38;5;28;01mFalse\u001b[39;00m):\n\u001b[0;32m    423\u001b[0m \u001b[38;5;250m    \u001b[39m\u001b[38;5;124;03m\"\"\"Get the key's vector, as a 1D numpy array.\u001b[39;00m\n\u001b[0;32m    424\u001b[0m \n\u001b[0;32m    425\u001b[0m \u001b[38;5;124;03m    Parameters\u001b[39;00m\n\u001b[1;32m   (...)\u001b[0m\n\u001b[0;32m    444\u001b[0m \n\u001b[0;32m    445\u001b[0m \u001b[38;5;124;03m    \"\"\"\u001b[39;00m\n\u001b[1;32m--> 446\u001b[0m     index \u001b[38;5;241m=\u001b[39m \u001b[38;5;28;43mself\u001b[39;49m\u001b[38;5;241;43m.\u001b[39;49m\u001b[43mget_index\u001b[49m\u001b[43m(\u001b[49m\u001b[43mkey\u001b[49m\u001b[43m)\u001b[49m\n\u001b[0;32m    447\u001b[0m     \u001b[38;5;28;01mif\u001b[39;00m norm:\n\u001b[0;32m    448\u001b[0m         \u001b[38;5;28mself\u001b[39m\u001b[38;5;241m.\u001b[39mfill_norms()\n",
      "File \u001b[1;32m~\\AppData\\Roaming\\jupyterlab-desktop\\jlab_server\\lib\\site-packages\\gensim\\models\\keyedvectors.py:420\u001b[0m, in \u001b[0;36mKeyedVectors.get_index\u001b[1;34m(self, key, default)\u001b[0m\n\u001b[0;32m    418\u001b[0m     \u001b[38;5;28;01mreturn\u001b[39;00m default\n\u001b[0;32m    419\u001b[0m \u001b[38;5;28;01melse\u001b[39;00m:\n\u001b[1;32m--> 420\u001b[0m     \u001b[38;5;28;01mraise\u001b[39;00m \u001b[38;5;167;01mKeyError\u001b[39;00m(\u001b[38;5;124mf\u001b[39m\u001b[38;5;124m\"\u001b[39m\u001b[38;5;124mKey \u001b[39m\u001b[38;5;124m'\u001b[39m\u001b[38;5;132;01m{\u001b[39;00mkey\u001b[38;5;132;01m}\u001b[39;00m\u001b[38;5;124m'\u001b[39m\u001b[38;5;124m not present\u001b[39m\u001b[38;5;124m\"\u001b[39m)\n",
      "\u001b[1;31mKeyError\u001b[0m: \"Key 'տիրակալ' not present\""
     ]
    }
   ],
   "source": [
    "ar_matthew_vectors = {}\n",
    "for key in ar_matthew_words:\n",
    "    ar_matthew_vectors[key] = ar_matthew_model.wv.get_vector(key)"
   ]
  },
  {
   "cell_type": "code",
   "execution_count": 19,
   "id": "24140234-16c0-483f-b657-42352670273e",
   "metadata": {
    "tags": []
   },
   "outputs": [
    {
     "name": "stdout",
     "output_type": "stream",
     "text": [
      "Collecting openpyxl\n",
      "  Downloading openpyxl-3.1.2-py2.py3-none-any.whl (249 kB)\n",
      "                                              0.0/250.0 kB ? eta -:--:--\n",
      "                                              0.0/250.0 kB ? eta -:--:--\n",
      "     ----                                  30.7/250.0 kB 640.0 kB/s eta 0:00:01\n",
      "     ---------                             61.4/250.0 kB 656.4 kB/s eta 0:00:01\n",
      "     -----------------                    122.9/250.0 kB 901.1 kB/s eta 0:00:01\n",
      "     -------------------------------------- 250.0/250.0 kB 1.5 MB/s eta 0:00:00\n",
      "Collecting et-xmlfile (from openpyxl)\n",
      "  Downloading et_xmlfile-1.1.0-py3-none-any.whl (4.7 kB)\n",
      "Installing collected packages: et-xmlfile, openpyxl\n",
      "Successfully installed et-xmlfile-1.1.0 openpyxl-3.1.2\n",
      "Note: you may need to restart the kernel to use updated packages.\n"
     ]
    }
   ],
   "source": [
    "pip install openpyxl"
   ]
  },
  {
   "cell_type": "code",
   "execution_count": 115,
   "id": "36ad87ba-56b6-4af2-8317-646bd354a073",
   "metadata": {
    "tags": []
   },
   "outputs": [],
   "source": [
    "import pandas as pd"
   ]
  },
  {
   "cell_type": "code",
   "execution_count": 103,
   "id": "58b3c4e9-aef0-4293-bb9f-51359b5de3b6",
   "metadata": {
    "tags": []
   },
   "outputs": [],
   "source": [
    "latindataframe = pd.read_excel(r\"C:\\Users\\gpwal\\Desktop\\SURA\\la_cosines.xlsx\", sheet_name=0, index_col=None, na_values=False)"
   ]
  },
  {
   "cell_type": "code",
   "execution_count": 104,
   "id": "c6ad0d18-7d3e-4222-9e5f-6926be1fe253",
   "metadata": {
    "tags": []
   },
   "outputs": [],
   "source": [
    "ladf = latindataframe.iloc[:, 1:]"
   ]
  },
  {
   "cell_type": "code",
   "execution_count": 105,
   "id": "ed815a0d-6d78-498d-a773-b018f8790e8a",
   "metadata": {
    "tags": []
   },
   "outputs": [
    {
     "data": {
      "text/html": [
       "<div>\n",
       "<style scoped>\n",
       "    .dataframe tbody tr th:only-of-type {\n",
       "        vertical-align: middle;\n",
       "    }\n",
       "\n",
       "    .dataframe tbody tr th {\n",
       "        vertical-align: top;\n",
       "    }\n",
       "\n",
       "    .dataframe thead th {\n",
       "        text-align: right;\n",
       "    }\n",
       "</style>\n",
       "<table border=\"1\" class=\"dataframe\">\n",
       "  <thead>\n",
       "    <tr style=\"text-align: right;\">\n",
       "      <th></th>\n",
       "      <th>I</th>\n",
       "      <th>you</th>\n",
       "      <th>we</th>\n",
       "      <th>this</th>\n",
       "      <th>that</th>\n",
       "      <th>who?</th>\n",
       "      <th>what?</th>\n",
       "      <th>not</th>\n",
       "      <th>all</th>\n",
       "      <th>many</th>\n",
       "      <th>...</th>\n",
       "      <th>black</th>\n",
       "      <th>night</th>\n",
       "      <th>hot</th>\n",
       "      <th>cold</th>\n",
       "      <th>full</th>\n",
       "      <th>new</th>\n",
       "      <th>good</th>\n",
       "      <th>round</th>\n",
       "      <th>dry</th>\n",
       "      <th>name</th>\n",
       "    </tr>\n",
       "  </thead>\n",
       "  <tbody>\n",
       "    <tr>\n",
       "      <th>0</th>\n",
       "      <td>NaN</td>\n",
       "      <td>NaN</td>\n",
       "      <td>NaN</td>\n",
       "      <td>NaN</td>\n",
       "      <td>NaN</td>\n",
       "      <td>NaN</td>\n",
       "      <td>NaN</td>\n",
       "      <td>NaN</td>\n",
       "      <td>NaN</td>\n",
       "      <td>NaN</td>\n",
       "      <td>...</td>\n",
       "      <td>NaN</td>\n",
       "      <td>NaN</td>\n",
       "      <td>NaN</td>\n",
       "      <td>NaN</td>\n",
       "      <td>NaN</td>\n",
       "      <td>NaN</td>\n",
       "      <td>NaN</td>\n",
       "      <td>NaN</td>\n",
       "      <td>NaN</td>\n",
       "      <td>NaN</td>\n",
       "    </tr>\n",
       "    <tr>\n",
       "      <th>1</th>\n",
       "      <td>0.544908</td>\n",
       "      <td>NaN</td>\n",
       "      <td>NaN</td>\n",
       "      <td>NaN</td>\n",
       "      <td>NaN</td>\n",
       "      <td>NaN</td>\n",
       "      <td>NaN</td>\n",
       "      <td>NaN</td>\n",
       "      <td>NaN</td>\n",
       "      <td>NaN</td>\n",
       "      <td>...</td>\n",
       "      <td>NaN</td>\n",
       "      <td>NaN</td>\n",
       "      <td>NaN</td>\n",
       "      <td>NaN</td>\n",
       "      <td>NaN</td>\n",
       "      <td>NaN</td>\n",
       "      <td>NaN</td>\n",
       "      <td>NaN</td>\n",
       "      <td>NaN</td>\n",
       "      <td>NaN</td>\n",
       "    </tr>\n",
       "    <tr>\n",
       "      <th>2</th>\n",
       "      <td>0.312870</td>\n",
       "      <td>0.299855</td>\n",
       "      <td>NaN</td>\n",
       "      <td>NaN</td>\n",
       "      <td>NaN</td>\n",
       "      <td>NaN</td>\n",
       "      <td>NaN</td>\n",
       "      <td>NaN</td>\n",
       "      <td>NaN</td>\n",
       "      <td>NaN</td>\n",
       "      <td>...</td>\n",
       "      <td>NaN</td>\n",
       "      <td>NaN</td>\n",
       "      <td>NaN</td>\n",
       "      <td>NaN</td>\n",
       "      <td>NaN</td>\n",
       "      <td>NaN</td>\n",
       "      <td>NaN</td>\n",
       "      <td>NaN</td>\n",
       "      <td>NaN</td>\n",
       "      <td>NaN</td>\n",
       "    </tr>\n",
       "    <tr>\n",
       "      <th>3</th>\n",
       "      <td>0.055817</td>\n",
       "      <td>0.086633</td>\n",
       "      <td>0.314305</td>\n",
       "      <td>NaN</td>\n",
       "      <td>NaN</td>\n",
       "      <td>NaN</td>\n",
       "      <td>NaN</td>\n",
       "      <td>NaN</td>\n",
       "      <td>NaN</td>\n",
       "      <td>NaN</td>\n",
       "      <td>...</td>\n",
       "      <td>NaN</td>\n",
       "      <td>NaN</td>\n",
       "      <td>NaN</td>\n",
       "      <td>NaN</td>\n",
       "      <td>NaN</td>\n",
       "      <td>NaN</td>\n",
       "      <td>NaN</td>\n",
       "      <td>NaN</td>\n",
       "      <td>NaN</td>\n",
       "      <td>NaN</td>\n",
       "    </tr>\n",
       "    <tr>\n",
       "      <th>4</th>\n",
       "      <td>0.370825</td>\n",
       "      <td>0.502738</td>\n",
       "      <td>0.264221</td>\n",
       "      <td>0.080526</td>\n",
       "      <td>NaN</td>\n",
       "      <td>NaN</td>\n",
       "      <td>NaN</td>\n",
       "      <td>NaN</td>\n",
       "      <td>NaN</td>\n",
       "      <td>NaN</td>\n",
       "      <td>...</td>\n",
       "      <td>NaN</td>\n",
       "      <td>NaN</td>\n",
       "      <td>NaN</td>\n",
       "      <td>NaN</td>\n",
       "      <td>NaN</td>\n",
       "      <td>NaN</td>\n",
       "      <td>NaN</td>\n",
       "      <td>NaN</td>\n",
       "      <td>NaN</td>\n",
       "      <td>NaN</td>\n",
       "    </tr>\n",
       "    <tr>\n",
       "      <th>...</th>\n",
       "      <td>...</td>\n",
       "      <td>...</td>\n",
       "      <td>...</td>\n",
       "      <td>...</td>\n",
       "      <td>...</td>\n",
       "      <td>...</td>\n",
       "      <td>...</td>\n",
       "      <td>...</td>\n",
       "      <td>...</td>\n",
       "      <td>...</td>\n",
       "      <td>...</td>\n",
       "      <td>...</td>\n",
       "      <td>...</td>\n",
       "      <td>...</td>\n",
       "      <td>...</td>\n",
       "      <td>...</td>\n",
       "      <td>...</td>\n",
       "      <td>...</td>\n",
       "      <td>...</td>\n",
       "      <td>...</td>\n",
       "      <td>...</td>\n",
       "    </tr>\n",
       "    <tr>\n",
       "      <th>95</th>\n",
       "      <td>-0.191671</td>\n",
       "      <td>0.039225</td>\n",
       "      <td>-0.181005</td>\n",
       "      <td>-0.111448</td>\n",
       "      <td>-0.091186</td>\n",
       "      <td>-0.092863</td>\n",
       "      <td>-0.082766</td>\n",
       "      <td>-0.174769</td>\n",
       "      <td>0.014443</td>\n",
       "      <td>0.058463</td>\n",
       "      <td>...</td>\n",
       "      <td>0.159416</td>\n",
       "      <td>0.204198</td>\n",
       "      <td>0.102652</td>\n",
       "      <td>0.212046</td>\n",
       "      <td>-0.008237</td>\n",
       "      <td>NaN</td>\n",
       "      <td>NaN</td>\n",
       "      <td>NaN</td>\n",
       "      <td>NaN</td>\n",
       "      <td>NaN</td>\n",
       "    </tr>\n",
       "    <tr>\n",
       "      <th>96</th>\n",
       "      <td>0.018465</td>\n",
       "      <td>0.180097</td>\n",
       "      <td>0.009688</td>\n",
       "      <td>-0.064131</td>\n",
       "      <td>0.135996</td>\n",
       "      <td>0.194732</td>\n",
       "      <td>0.114797</td>\n",
       "      <td>0.192002</td>\n",
       "      <td>0.100327</td>\n",
       "      <td>0.018703</td>\n",
       "      <td>...</td>\n",
       "      <td>0.048462</td>\n",
       "      <td>0.082991</td>\n",
       "      <td>0.198504</td>\n",
       "      <td>-0.183914</td>\n",
       "      <td>0.131250</td>\n",
       "      <td>-0.120443</td>\n",
       "      <td>NaN</td>\n",
       "      <td>NaN</td>\n",
       "      <td>NaN</td>\n",
       "      <td>NaN</td>\n",
       "    </tr>\n",
       "    <tr>\n",
       "      <th>97</th>\n",
       "      <td>-0.136534</td>\n",
       "      <td>-0.084607</td>\n",
       "      <td>-0.073926</td>\n",
       "      <td>-0.130337</td>\n",
       "      <td>-0.069499</td>\n",
       "      <td>0.001035</td>\n",
       "      <td>0.025118</td>\n",
       "      <td>0.026889</td>\n",
       "      <td>0.150900</td>\n",
       "      <td>-0.096043</td>\n",
       "      <td>...</td>\n",
       "      <td>0.036229</td>\n",
       "      <td>0.285919</td>\n",
       "      <td>0.225559</td>\n",
       "      <td>0.021000</td>\n",
       "      <td>0.181853</td>\n",
       "      <td>0.142220</td>\n",
       "      <td>0.096916</td>\n",
       "      <td>NaN</td>\n",
       "      <td>NaN</td>\n",
       "      <td>NaN</td>\n",
       "    </tr>\n",
       "    <tr>\n",
       "      <th>98</th>\n",
       "      <td>-0.116682</td>\n",
       "      <td>-0.055338</td>\n",
       "      <td>0.008966</td>\n",
       "      <td>0.028429</td>\n",
       "      <td>0.075011</td>\n",
       "      <td>-0.033859</td>\n",
       "      <td>0.021521</td>\n",
       "      <td>0.145854</td>\n",
       "      <td>0.090141</td>\n",
       "      <td>-0.074379</td>\n",
       "      <td>...</td>\n",
       "      <td>0.252054</td>\n",
       "      <td>0.122005</td>\n",
       "      <td>0.473896</td>\n",
       "      <td>0.081594</td>\n",
       "      <td>0.085232</td>\n",
       "      <td>0.019322</td>\n",
       "      <td>0.220685</td>\n",
       "      <td>0.030865</td>\n",
       "      <td>NaN</td>\n",
       "      <td>NaN</td>\n",
       "    </tr>\n",
       "    <tr>\n",
       "      <th>99</th>\n",
       "      <td>0.006012</td>\n",
       "      <td>-0.184154</td>\n",
       "      <td>0.081367</td>\n",
       "      <td>-0.058055</td>\n",
       "      <td>0.115930</td>\n",
       "      <td>0.050511</td>\n",
       "      <td>0.300947</td>\n",
       "      <td>0.307662</td>\n",
       "      <td>0.182701</td>\n",
       "      <td>0.196728</td>\n",
       "      <td>...</td>\n",
       "      <td>-0.183677</td>\n",
       "      <td>-0.053900</td>\n",
       "      <td>0.013339</td>\n",
       "      <td>-0.141866</td>\n",
       "      <td>0.120873</td>\n",
       "      <td>-0.101129</td>\n",
       "      <td>0.076199</td>\n",
       "      <td>0.066825</td>\n",
       "      <td>-0.012415</td>\n",
       "      <td>NaN</td>\n",
       "    </tr>\n",
       "  </tbody>\n",
       "</table>\n",
       "<p>100 rows × 100 columns</p>\n",
       "</div>"
      ],
      "text/plain": [
       "           I       you        we      this      that      who?     what?   \n",
       "0        NaN       NaN       NaN       NaN       NaN       NaN       NaN  \\\n",
       "1   0.544908       NaN       NaN       NaN       NaN       NaN       NaN   \n",
       "2   0.312870  0.299855       NaN       NaN       NaN       NaN       NaN   \n",
       "3   0.055817  0.086633  0.314305       NaN       NaN       NaN       NaN   \n",
       "4   0.370825  0.502738  0.264221  0.080526       NaN       NaN       NaN   \n",
       "..       ...       ...       ...       ...       ...       ...       ...   \n",
       "95 -0.191671  0.039225 -0.181005 -0.111448 -0.091186 -0.092863 -0.082766   \n",
       "96  0.018465  0.180097  0.009688 -0.064131  0.135996  0.194732  0.114797   \n",
       "97 -0.136534 -0.084607 -0.073926 -0.130337 -0.069499  0.001035  0.025118   \n",
       "98 -0.116682 -0.055338  0.008966  0.028429  0.075011 -0.033859  0.021521   \n",
       "99  0.006012 -0.184154  0.081367 -0.058055  0.115930  0.050511  0.300947   \n",
       "\n",
       "         not       all      many  ...     black     night       hot      cold   \n",
       "0        NaN       NaN       NaN  ...       NaN       NaN       NaN       NaN  \\\n",
       "1        NaN       NaN       NaN  ...       NaN       NaN       NaN       NaN   \n",
       "2        NaN       NaN       NaN  ...       NaN       NaN       NaN       NaN   \n",
       "3        NaN       NaN       NaN  ...       NaN       NaN       NaN       NaN   \n",
       "4        NaN       NaN       NaN  ...       NaN       NaN       NaN       NaN   \n",
       "..       ...       ...       ...  ...       ...       ...       ...       ...   \n",
       "95 -0.174769  0.014443  0.058463  ...  0.159416  0.204198  0.102652  0.212046   \n",
       "96  0.192002  0.100327  0.018703  ...  0.048462  0.082991  0.198504 -0.183914   \n",
       "97  0.026889  0.150900 -0.096043  ...  0.036229  0.285919  0.225559  0.021000   \n",
       "98  0.145854  0.090141 -0.074379  ...  0.252054  0.122005  0.473896  0.081594   \n",
       "99  0.307662  0.182701  0.196728  ... -0.183677 -0.053900  0.013339 -0.141866   \n",
       "\n",
       "        full       new      good     round       dry  name  \n",
       "0        NaN       NaN       NaN       NaN       NaN   NaN  \n",
       "1        NaN       NaN       NaN       NaN       NaN   NaN  \n",
       "2        NaN       NaN       NaN       NaN       NaN   NaN  \n",
       "3        NaN       NaN       NaN       NaN       NaN   NaN  \n",
       "4        NaN       NaN       NaN       NaN       NaN   NaN  \n",
       "..       ...       ...       ...       ...       ...   ...  \n",
       "95 -0.008237       NaN       NaN       NaN       NaN   NaN  \n",
       "96  0.131250 -0.120443       NaN       NaN       NaN   NaN  \n",
       "97  0.181853  0.142220  0.096916       NaN       NaN   NaN  \n",
       "98  0.085232  0.019322  0.220685  0.030865       NaN   NaN  \n",
       "99  0.120873 -0.101129  0.076199  0.066825 -0.012415   NaN  \n",
       "\n",
       "[100 rows x 100 columns]"
      ]
     },
     "execution_count": 105,
     "metadata": {},
     "output_type": "execute_result"
    }
   ],
   "source": [
    "latindataframe.iloc[:, 1:]"
   ]
  },
  {
   "cell_type": "code",
   "execution_count": 106,
   "id": "8239753f-31e2-4244-8354-666c563f39f1",
   "metadata": {
    "tags": []
   },
   "outputs": [],
   "source": [
    "latinmatrix = ladf.to_numpy()"
   ]
  },
  {
   "cell_type": "code",
   "execution_count": 121,
   "id": "5b79e739-59ee-41cf-9cc9-2107ffb5ec05",
   "metadata": {
    "tags": []
   },
   "outputs": [],
   "source": [
    "lavector = np.squeeze(np.asarray(latinmatrix))"
   ]
  },
  {
   "cell_type": "code",
   "execution_count": 124,
   "id": "593f7eab-db82-4603-af16-e32e9f78f4d1",
   "metadata": {
    "tags": []
   },
   "outputs": [
    {
     "name": "stdout",
     "output_type": "stream",
     "text": [
      "[[        nan         nan         nan ...         nan         nan\n",
      "          nan]\n",
      " [ 0.5449078          nan         nan ...         nan         nan\n",
      "          nan]\n",
      " [ 0.31286967  0.29985464         nan ...         nan         nan\n",
      "          nan]\n",
      " ...\n",
      " [-0.13653412 -0.08460693 -0.07392614 ...         nan         nan\n",
      "          nan]\n",
      " [-0.11668243 -0.05533811  0.00896553 ...  0.03086516         nan\n",
      "          nan]\n",
      " [ 0.00601181 -0.18415412  0.08136679 ...  0.0668251  -0.01241536\n",
      "          nan]]\n"
     ]
    }
   ],
   "source": [
    "print(lavector)"
   ]
  },
  {
   "cell_type": "code",
   "execution_count": 128,
   "id": "cd4d00c8-42de-4f20-b9dc-869ba52c7ab3",
   "metadata": {
    "tags": []
   },
   "outputs": [],
   "source": [
    "ladf_flat = np.hstack(lavector)"
   ]
  },
  {
   "cell_type": "code",
   "execution_count": 109,
   "id": "770b5b63-449f-4133-a3bc-390760288574",
   "metadata": {
    "tags": []
   },
   "outputs": [
    {
     "name": "stdout",
     "output_type": "stream",
     "text": [
      "[        nan         nan         nan ...  0.0668251  -0.01241536\n",
      "         nan]\n"
     ]
    }
   ],
   "source": [
    "print(ladf_flat)"
   ]
  },
  {
   "cell_type": "code",
   "execution_count": 110,
   "id": "a45b8b2d-2a7f-4d9c-86d1-31d2e0b24d93",
   "metadata": {
    "tags": []
   },
   "outputs": [],
   "source": [
    "oedataframe = pd.read_excel(r\"C:\\Users\\gpwal\\Desktop\\SURA\\oe_cosines.xlsx\", sheet_name=0)"
   ]
  },
  {
   "cell_type": "code",
   "execution_count": 111,
   "id": "a4ff6f8d-cea7-4dc5-b77f-d9bcb2c3bdb0",
   "metadata": {
    "tags": []
   },
   "outputs": [],
   "source": [
    "oedf = oedataframe.iloc[:, 1:]"
   ]
  },
  {
   "cell_type": "code",
   "execution_count": 112,
   "id": "80dcf75e-efcc-464c-8a5a-4145b7978bff",
   "metadata": {
    "tags": []
   },
   "outputs": [
    {
     "data": {
      "text/html": [
       "<div>\n",
       "<style scoped>\n",
       "    .dataframe tbody tr th:only-of-type {\n",
       "        vertical-align: middle;\n",
       "    }\n",
       "\n",
       "    .dataframe tbody tr th {\n",
       "        vertical-align: top;\n",
       "    }\n",
       "\n",
       "    .dataframe thead th {\n",
       "        text-align: right;\n",
       "    }\n",
       "</style>\n",
       "<table border=\"1\" class=\"dataframe\">\n",
       "  <thead>\n",
       "    <tr style=\"text-align: right;\">\n",
       "      <th></th>\n",
       "      <th>I</th>\n",
       "      <th>you</th>\n",
       "      <th>we</th>\n",
       "      <th>this</th>\n",
       "      <th>that</th>\n",
       "      <th>who?</th>\n",
       "      <th>what?</th>\n",
       "      <th>not</th>\n",
       "      <th>all</th>\n",
       "      <th>many</th>\n",
       "      <th>...</th>\n",
       "      <th>black</th>\n",
       "      <th>night</th>\n",
       "      <th>hot</th>\n",
       "      <th>cold</th>\n",
       "      <th>full</th>\n",
       "      <th>new</th>\n",
       "      <th>good</th>\n",
       "      <th>round</th>\n",
       "      <th>dry</th>\n",
       "      <th>name</th>\n",
       "    </tr>\n",
       "  </thead>\n",
       "  <tbody>\n",
       "    <tr>\n",
       "      <th>0</th>\n",
       "      <td>NaN</td>\n",
       "      <td>NaN</td>\n",
       "      <td>NaN</td>\n",
       "      <td>NaN</td>\n",
       "      <td>NaN</td>\n",
       "      <td>NaN</td>\n",
       "      <td>NaN</td>\n",
       "      <td>NaN</td>\n",
       "      <td>NaN</td>\n",
       "      <td>NaN</td>\n",
       "      <td>...</td>\n",
       "      <td>NaN</td>\n",
       "      <td>NaN</td>\n",
       "      <td>NaN</td>\n",
       "      <td>NaN</td>\n",
       "      <td>NaN</td>\n",
       "      <td>NaN</td>\n",
       "      <td>NaN</td>\n",
       "      <td>NaN</td>\n",
       "      <td>NaN</td>\n",
       "      <td>NaN</td>\n",
       "    </tr>\n",
       "    <tr>\n",
       "      <th>1</th>\n",
       "      <td>0.199586</td>\n",
       "      <td>NaN</td>\n",
       "      <td>NaN</td>\n",
       "      <td>NaN</td>\n",
       "      <td>NaN</td>\n",
       "      <td>NaN</td>\n",
       "      <td>NaN</td>\n",
       "      <td>NaN</td>\n",
       "      <td>NaN</td>\n",
       "      <td>NaN</td>\n",
       "      <td>...</td>\n",
       "      <td>NaN</td>\n",
       "      <td>NaN</td>\n",
       "      <td>NaN</td>\n",
       "      <td>NaN</td>\n",
       "      <td>NaN</td>\n",
       "      <td>NaN</td>\n",
       "      <td>NaN</td>\n",
       "      <td>NaN</td>\n",
       "      <td>NaN</td>\n",
       "      <td>NaN</td>\n",
       "    </tr>\n",
       "    <tr>\n",
       "      <th>2</th>\n",
       "      <td>-0.048378</td>\n",
       "      <td>0.049767</td>\n",
       "      <td>NaN</td>\n",
       "      <td>NaN</td>\n",
       "      <td>NaN</td>\n",
       "      <td>NaN</td>\n",
       "      <td>NaN</td>\n",
       "      <td>NaN</td>\n",
       "      <td>NaN</td>\n",
       "      <td>NaN</td>\n",
       "      <td>...</td>\n",
       "      <td>NaN</td>\n",
       "      <td>NaN</td>\n",
       "      <td>NaN</td>\n",
       "      <td>NaN</td>\n",
       "      <td>NaN</td>\n",
       "      <td>NaN</td>\n",
       "      <td>NaN</td>\n",
       "      <td>NaN</td>\n",
       "      <td>NaN</td>\n",
       "      <td>NaN</td>\n",
       "    </tr>\n",
       "    <tr>\n",
       "      <th>3</th>\n",
       "      <td>0.372696</td>\n",
       "      <td>0.107592</td>\n",
       "      <td>0.134606</td>\n",
       "      <td>NaN</td>\n",
       "      <td>NaN</td>\n",
       "      <td>NaN</td>\n",
       "      <td>NaN</td>\n",
       "      <td>NaN</td>\n",
       "      <td>NaN</td>\n",
       "      <td>NaN</td>\n",
       "      <td>...</td>\n",
       "      <td>NaN</td>\n",
       "      <td>NaN</td>\n",
       "      <td>NaN</td>\n",
       "      <td>NaN</td>\n",
       "      <td>NaN</td>\n",
       "      <td>NaN</td>\n",
       "      <td>NaN</td>\n",
       "      <td>NaN</td>\n",
       "      <td>NaN</td>\n",
       "      <td>NaN</td>\n",
       "    </tr>\n",
       "    <tr>\n",
       "      <th>4</th>\n",
       "      <td>-0.064112</td>\n",
       "      <td>0.214491</td>\n",
       "      <td>-0.045460</td>\n",
       "      <td>0.061424</td>\n",
       "      <td>NaN</td>\n",
       "      <td>NaN</td>\n",
       "      <td>NaN</td>\n",
       "      <td>NaN</td>\n",
       "      <td>NaN</td>\n",
       "      <td>NaN</td>\n",
       "      <td>...</td>\n",
       "      <td>NaN</td>\n",
       "      <td>NaN</td>\n",
       "      <td>NaN</td>\n",
       "      <td>NaN</td>\n",
       "      <td>NaN</td>\n",
       "      <td>NaN</td>\n",
       "      <td>NaN</td>\n",
       "      <td>NaN</td>\n",
       "      <td>NaN</td>\n",
       "      <td>NaN</td>\n",
       "    </tr>\n",
       "    <tr>\n",
       "      <th>...</th>\n",
       "      <td>...</td>\n",
       "      <td>...</td>\n",
       "      <td>...</td>\n",
       "      <td>...</td>\n",
       "      <td>...</td>\n",
       "      <td>...</td>\n",
       "      <td>...</td>\n",
       "      <td>...</td>\n",
       "      <td>...</td>\n",
       "      <td>...</td>\n",
       "      <td>...</td>\n",
       "      <td>...</td>\n",
       "      <td>...</td>\n",
       "      <td>...</td>\n",
       "      <td>...</td>\n",
       "      <td>...</td>\n",
       "      <td>...</td>\n",
       "      <td>...</td>\n",
       "      <td>...</td>\n",
       "      <td>...</td>\n",
       "      <td>...</td>\n",
       "    </tr>\n",
       "    <tr>\n",
       "      <th>95</th>\n",
       "      <td>-0.149057</td>\n",
       "      <td>-0.252582</td>\n",
       "      <td>-0.251755</td>\n",
       "      <td>0.007109</td>\n",
       "      <td>0.041825</td>\n",
       "      <td>-0.184093</td>\n",
       "      <td>-0.184093</td>\n",
       "      <td>-0.119370</td>\n",
       "      <td>-0.024166</td>\n",
       "      <td>0.346713</td>\n",
       "      <td>...</td>\n",
       "      <td>0.283899</td>\n",
       "      <td>-0.011850</td>\n",
       "      <td>0.462567</td>\n",
       "      <td>0.249191</td>\n",
       "      <td>0.062608</td>\n",
       "      <td>NaN</td>\n",
       "      <td>NaN</td>\n",
       "      <td>NaN</td>\n",
       "      <td>NaN</td>\n",
       "      <td>NaN</td>\n",
       "    </tr>\n",
       "    <tr>\n",
       "      <th>96</th>\n",
       "      <td>-0.117195</td>\n",
       "      <td>-0.115000</td>\n",
       "      <td>-0.047314</td>\n",
       "      <td>-0.242004</td>\n",
       "      <td>0.104801</td>\n",
       "      <td>0.035051</td>\n",
       "      <td>0.035051</td>\n",
       "      <td>-0.077499</td>\n",
       "      <td>0.104012</td>\n",
       "      <td>0.089248</td>\n",
       "      <td>...</td>\n",
       "      <td>0.113303</td>\n",
       "      <td>-0.010459</td>\n",
       "      <td>0.282670</td>\n",
       "      <td>0.240813</td>\n",
       "      <td>0.041215</td>\n",
       "      <td>0.128523</td>\n",
       "      <td>NaN</td>\n",
       "      <td>NaN</td>\n",
       "      <td>NaN</td>\n",
       "      <td>NaN</td>\n",
       "    </tr>\n",
       "    <tr>\n",
       "      <th>97</th>\n",
       "      <td>NaN</td>\n",
       "      <td>NaN</td>\n",
       "      <td>NaN</td>\n",
       "      <td>NaN</td>\n",
       "      <td>NaN</td>\n",
       "      <td>NaN</td>\n",
       "      <td>NaN</td>\n",
       "      <td>NaN</td>\n",
       "      <td>NaN</td>\n",
       "      <td>NaN</td>\n",
       "      <td>...</td>\n",
       "      <td>NaN</td>\n",
       "      <td>NaN</td>\n",
       "      <td>NaN</td>\n",
       "      <td>NaN</td>\n",
       "      <td>NaN</td>\n",
       "      <td>NaN</td>\n",
       "      <td>NaN</td>\n",
       "      <td>NaN</td>\n",
       "      <td>NaN</td>\n",
       "      <td>NaN</td>\n",
       "    </tr>\n",
       "    <tr>\n",
       "      <th>98</th>\n",
       "      <td>0.093428</td>\n",
       "      <td>-0.137481</td>\n",
       "      <td>-0.044798</td>\n",
       "      <td>-0.086108</td>\n",
       "      <td>-0.156708</td>\n",
       "      <td>0.065059</td>\n",
       "      <td>0.065059</td>\n",
       "      <td>0.139210</td>\n",
       "      <td>0.131342</td>\n",
       "      <td>0.117317</td>\n",
       "      <td>...</td>\n",
       "      <td>0.180317</td>\n",
       "      <td>0.086777</td>\n",
       "      <td>0.357596</td>\n",
       "      <td>0.358349</td>\n",
       "      <td>0.255548</td>\n",
       "      <td>0.203906</td>\n",
       "      <td>0.007764</td>\n",
       "      <td>NaN</td>\n",
       "      <td>NaN</td>\n",
       "      <td>NaN</td>\n",
       "    </tr>\n",
       "    <tr>\n",
       "      <th>99</th>\n",
       "      <td>0.016126</td>\n",
       "      <td>0.090657</td>\n",
       "      <td>-0.146445</td>\n",
       "      <td>-0.011483</td>\n",
       "      <td>0.161981</td>\n",
       "      <td>-0.055366</td>\n",
       "      <td>-0.055366</td>\n",
       "      <td>-0.037310</td>\n",
       "      <td>0.092868</td>\n",
       "      <td>0.129474</td>\n",
       "      <td>...</td>\n",
       "      <td>0.127968</td>\n",
       "      <td>-0.083451</td>\n",
       "      <td>0.023874</td>\n",
       "      <td>-0.034881</td>\n",
       "      <td>0.119939</td>\n",
       "      <td>0.251601</td>\n",
       "      <td>0.065940</td>\n",
       "      <td>NaN</td>\n",
       "      <td>-0.000104</td>\n",
       "      <td>NaN</td>\n",
       "    </tr>\n",
       "  </tbody>\n",
       "</table>\n",
       "<p>100 rows × 100 columns</p>\n",
       "</div>"
      ],
      "text/plain": [
       "           I       you        we      this      that      who?     what?   \n",
       "0        NaN       NaN       NaN       NaN       NaN       NaN       NaN  \\\n",
       "1   0.199586       NaN       NaN       NaN       NaN       NaN       NaN   \n",
       "2  -0.048378  0.049767       NaN       NaN       NaN       NaN       NaN   \n",
       "3   0.372696  0.107592  0.134606       NaN       NaN       NaN       NaN   \n",
       "4  -0.064112  0.214491 -0.045460  0.061424       NaN       NaN       NaN   \n",
       "..       ...       ...       ...       ...       ...       ...       ...   \n",
       "95 -0.149057 -0.252582 -0.251755  0.007109  0.041825 -0.184093 -0.184093   \n",
       "96 -0.117195 -0.115000 -0.047314 -0.242004  0.104801  0.035051  0.035051   \n",
       "97       NaN       NaN       NaN       NaN       NaN       NaN       NaN   \n",
       "98  0.093428 -0.137481 -0.044798 -0.086108 -0.156708  0.065059  0.065059   \n",
       "99  0.016126  0.090657 -0.146445 -0.011483  0.161981 -0.055366 -0.055366   \n",
       "\n",
       "         not       all      many  ...     black     night       hot      cold   \n",
       "0        NaN       NaN       NaN  ...       NaN       NaN       NaN       NaN  \\\n",
       "1        NaN       NaN       NaN  ...       NaN       NaN       NaN       NaN   \n",
       "2        NaN       NaN       NaN  ...       NaN       NaN       NaN       NaN   \n",
       "3        NaN       NaN       NaN  ...       NaN       NaN       NaN       NaN   \n",
       "4        NaN       NaN       NaN  ...       NaN       NaN       NaN       NaN   \n",
       "..       ...       ...       ...  ...       ...       ...       ...       ...   \n",
       "95 -0.119370 -0.024166  0.346713  ...  0.283899 -0.011850  0.462567  0.249191   \n",
       "96 -0.077499  0.104012  0.089248  ...  0.113303 -0.010459  0.282670  0.240813   \n",
       "97       NaN       NaN       NaN  ...       NaN       NaN       NaN       NaN   \n",
       "98  0.139210  0.131342  0.117317  ...  0.180317  0.086777  0.357596  0.358349   \n",
       "99 -0.037310  0.092868  0.129474  ...  0.127968 -0.083451  0.023874 -0.034881   \n",
       "\n",
       "        full       new      good  round       dry  name  \n",
       "0        NaN       NaN       NaN    NaN       NaN   NaN  \n",
       "1        NaN       NaN       NaN    NaN       NaN   NaN  \n",
       "2        NaN       NaN       NaN    NaN       NaN   NaN  \n",
       "3        NaN       NaN       NaN    NaN       NaN   NaN  \n",
       "4        NaN       NaN       NaN    NaN       NaN   NaN  \n",
       "..       ...       ...       ...    ...       ...   ...  \n",
       "95  0.062608       NaN       NaN    NaN       NaN   NaN  \n",
       "96  0.041215  0.128523       NaN    NaN       NaN   NaN  \n",
       "97       NaN       NaN       NaN    NaN       NaN   NaN  \n",
       "98  0.255548  0.203906  0.007764    NaN       NaN   NaN  \n",
       "99  0.119939  0.251601  0.065940    NaN -0.000104   NaN  \n",
       "\n",
       "[100 rows x 100 columns]"
      ]
     },
     "execution_count": 112,
     "metadata": {},
     "output_type": "execute_result"
    }
   ],
   "source": [
    "oedataframe.iloc[:, 1:]"
   ]
  },
  {
   "cell_type": "code",
   "execution_count": 113,
   "id": "0f04a6ab-8568-4a78-8924-233d8f98ee51",
   "metadata": {
    "tags": []
   },
   "outputs": [],
   "source": [
    "oematrix = oedf.to_numpy()"
   ]
  },
  {
   "cell_type": "code",
   "execution_count": 118,
   "id": "031d53f8-ec43-4129-a923-8350081c3fec",
   "metadata": {
    "tags": []
   },
   "outputs": [],
   "source": [
    "oevector = np.squeeze(np.asarray(oematrix))"
   ]
  },
  {
   "cell_type": "code",
   "execution_count": 119,
   "id": "a44ae6f7-a4a0-4ce4-8c21-222334f5b761",
   "metadata": {
    "tags": []
   },
   "outputs": [
    {
     "name": "stdout",
     "output_type": "stream",
     "text": [
      "[[           nan            nan            nan ...            nan\n",
      "             nan            nan]\n",
      " [ 1.9958644e-01            nan            nan ...            nan\n",
      "             nan            nan]\n",
      " [-4.8378120e-02  4.9767070e-02            nan ...            nan\n",
      "             nan            nan]\n",
      " ...\n",
      " [           nan            nan            nan ...            nan\n",
      "             nan            nan]\n",
      " [ 9.3427880e-02 -1.3748070e-01 -4.4797942e-02 ...            nan\n",
      "             nan            nan]\n",
      " [ 1.6125979e-02  9.0657026e-02 -1.4644535e-01 ...            nan\n",
      "  -1.0405481e-04            nan]]\n"
     ]
    }
   ],
   "source": [
    "print(oevector)"
   ]
  },
  {
   "cell_type": "code",
   "execution_count": 126,
   "id": "e02afa7c-178c-403b-b34c-05e4776e79fc",
   "metadata": {
    "tags": []
   },
   "outputs": [],
   "source": [
    "oedf_flat = np.hstack(oevector)"
   ]
  },
  {
   "cell_type": "code",
   "execution_count": 116,
   "id": "841c18f7-0d4c-4470-9fc4-198d50a41be0",
   "metadata": {
    "tags": []
   },
   "outputs": [
    {
     "name": "stdout",
     "output_type": "stream",
     "text": [
      "[        nan         nan         nan ...         nan -0.00010405\n",
      "         nan]\n"
     ]
    }
   ],
   "source": [
    "print(oedf_flat)"
   ]
  },
  {
   "cell_type": "code",
   "execution_count": 171,
   "id": "2f4b32eb-bc19-4c52-8ce1-cd1e8369c9cd",
   "metadata": {
    "collapsed": true,
    "jupyter": {
     "outputs_hidden": true
    },
    "tags": []
   },
   "outputs": [
    {
     "ename": "ValueError",
     "evalue": "Input vector should be 1-D.",
     "output_type": "error",
     "traceback": [
      "\u001b[1;31m---------------------------------------------------------------------------\u001b[0m",
      "\u001b[1;31mValueError\u001b[0m                                Traceback (most recent call last)",
      "Cell \u001b[1;32mIn[171], line 1\u001b[0m\n\u001b[1;32m----> 1\u001b[0m \u001b[38;5;241m1\u001b[39m \u001b[38;5;241m-\u001b[39m \u001b[43mspatial\u001b[49m\u001b[38;5;241;43m.\u001b[39;49m\u001b[43mdistance\u001b[49m\u001b[38;5;241;43m.\u001b[39;49m\u001b[43mcosine\u001b[49m\u001b[43m(\u001b[49m\u001b[43moevector\u001b[49m\u001b[43m,\u001b[49m\u001b[43m \u001b[49m\u001b[43mlavector\u001b[49m\u001b[43m)\u001b[49m\n",
      "File \u001b[1;32m~\\AppData\\Roaming\\jupyterlab-desktop\\jlab_server\\lib\\site-packages\\scipy\\spatial\\distance.py:670\u001b[0m, in \u001b[0;36mcosine\u001b[1;34m(u, v, w)\u001b[0m\n\u001b[0;32m    628\u001b[0m \u001b[38;5;250m\u001b[39m\u001b[38;5;124;03m\"\"\"\u001b[39;00m\n\u001b[0;32m    629\u001b[0m \u001b[38;5;124;03mCompute the Cosine distance between 1-D arrays.\u001b[39;00m\n\u001b[0;32m    630\u001b[0m \n\u001b[1;32m   (...)\u001b[0m\n\u001b[0;32m    665\u001b[0m \n\u001b[0;32m    666\u001b[0m \u001b[38;5;124;03m\"\"\"\u001b[39;00m\n\u001b[0;32m    667\u001b[0m \u001b[38;5;66;03m# cosine distance is also referred to as 'uncentered correlation',\u001b[39;00m\n\u001b[0;32m    668\u001b[0m \u001b[38;5;66;03m#   or 'reflective correlation'\u001b[39;00m\n\u001b[0;32m    669\u001b[0m \u001b[38;5;66;03m# clamp the result to 0-2\u001b[39;00m\n\u001b[1;32m--> 670\u001b[0m \u001b[38;5;28;01mreturn\u001b[39;00m \u001b[38;5;28mmax\u001b[39m(\u001b[38;5;241m0\u001b[39m, \u001b[38;5;28mmin\u001b[39m(\u001b[43mcorrelation\u001b[49m\u001b[43m(\u001b[49m\u001b[43mu\u001b[49m\u001b[43m,\u001b[49m\u001b[43m \u001b[49m\u001b[43mv\u001b[49m\u001b[43m,\u001b[49m\u001b[43m \u001b[49m\u001b[43mw\u001b[49m\u001b[38;5;241;43m=\u001b[39;49m\u001b[43mw\u001b[49m\u001b[43m,\u001b[49m\u001b[43m \u001b[49m\u001b[43mcentered\u001b[49m\u001b[38;5;241;43m=\u001b[39;49m\u001b[38;5;28;43;01mFalse\u001b[39;49;00m\u001b[43m)\u001b[49m, \u001b[38;5;241m2.0\u001b[39m))\n",
      "File \u001b[1;32m~\\AppData\\Roaming\\jupyterlab-desktop\\jlab_server\\lib\\site-packages\\scipy\\spatial\\distance.py:610\u001b[0m, in \u001b[0;36mcorrelation\u001b[1;34m(u, v, w, centered)\u001b[0m\n\u001b[0;32m    577\u001b[0m \u001b[38;5;28;01mdef\u001b[39;00m \u001b[38;5;21mcorrelation\u001b[39m(u, v, w\u001b[38;5;241m=\u001b[39m\u001b[38;5;28;01mNone\u001b[39;00m, centered\u001b[38;5;241m=\u001b[39m\u001b[38;5;28;01mTrue\u001b[39;00m):\n\u001b[0;32m    578\u001b[0m \u001b[38;5;250m    \u001b[39m\u001b[38;5;124;03m\"\"\"\u001b[39;00m\n\u001b[0;32m    579\u001b[0m \u001b[38;5;124;03m    Compute the correlation distance between two 1-D arrays.\u001b[39;00m\n\u001b[0;32m    580\u001b[0m \n\u001b[1;32m   (...)\u001b[0m\n\u001b[0;32m    608\u001b[0m \n\u001b[0;32m    609\u001b[0m \u001b[38;5;124;03m    \"\"\"\u001b[39;00m\n\u001b[1;32m--> 610\u001b[0m     u \u001b[38;5;241m=\u001b[39m \u001b[43m_validate_vector\u001b[49m\u001b[43m(\u001b[49m\u001b[43mu\u001b[49m\u001b[43m)\u001b[49m\n\u001b[0;32m    611\u001b[0m     v \u001b[38;5;241m=\u001b[39m _validate_vector(v)\n\u001b[0;32m    612\u001b[0m     \u001b[38;5;28;01mif\u001b[39;00m w \u001b[38;5;129;01mis\u001b[39;00m \u001b[38;5;129;01mnot\u001b[39;00m \u001b[38;5;28;01mNone\u001b[39;00m:\n",
      "File \u001b[1;32m~\\AppData\\Roaming\\jupyterlab-desktop\\jlab_server\\lib\\site-packages\\scipy\\spatial\\distance.py:302\u001b[0m, in \u001b[0;36m_validate_vector\u001b[1;34m(u, dtype)\u001b[0m\n\u001b[0;32m    300\u001b[0m \u001b[38;5;28;01mif\u001b[39;00m u\u001b[38;5;241m.\u001b[39mndim \u001b[38;5;241m==\u001b[39m \u001b[38;5;241m1\u001b[39m:\n\u001b[0;32m    301\u001b[0m     \u001b[38;5;28;01mreturn\u001b[39;00m u\n\u001b[1;32m--> 302\u001b[0m \u001b[38;5;28;01mraise\u001b[39;00m \u001b[38;5;167;01mValueError\u001b[39;00m(\u001b[38;5;124m\"\u001b[39m\u001b[38;5;124mInput vector should be 1-D.\u001b[39m\u001b[38;5;124m\"\u001b[39m)\n",
      "\u001b[1;31mValueError\u001b[0m: Input vector should be 1-D."
     ]
    }
   ],
   "source": [
    "1 - spatial.distance.cosine(oevector, lavector)"
   ]
  },
  {
   "cell_type": "markdown",
   "id": "3a70c854-4b21-4f70-a009-3a254f49a6b5",
   "metadata": {},
   "source": [
    "## Greek CLTK"
   ]
  },
  {
   "cell_type": "code",
   "execution_count": 3,
   "id": "cb275ed3-9db3-450e-9c75-bc3626312605",
   "metadata": {
    "tags": []
   },
   "outputs": [
    {
     "name": "stdout",
     "output_type": "stream",
     "text": [
      "‎𐤀 CLTK version '1.1.6'.\n",
      "Pipeline for language 'Ancient Greek' (ISO: 'grc'): `GreekNormalizeProcess`, `GreekStanzaProcess`, `GreekEmbeddingsProcess`, `StopsProcess`.\n"
     ]
    }
   ],
   "source": [
    "cltk_nlp_gr=NLP(\"grc\")"
   ]
  },
  {
   "cell_type": "code",
   "execution_count": 4,
   "id": "7b48cf36-28f7-47e9-8383-d93b8a14851c",
   "metadata": {
    "tags": []
   },
   "outputs": [],
   "source": [
    "with open(r\"C:\\Users\\gpwal\\cltk_data\\grc\\grc_text_tesserae-master\\texts\\greekcorpus.txt\", 'r', encoding='utf-8') as f:\n",
    "    greek_full = f.read()"
   ]
  },
  {
   "cell_type": "code",
   "execution_count": 5,
   "id": "6f8aae1e-690d-46ff-b4f2-1a47bbd65cdd",
   "metadata": {
    "tags": []
   },
   "outputs": [
    {
     "name": "stdout",
     "output_type": "stream",
     "text": [
      "66422728\n",
      "6642272\n"
     ]
    }
   ],
   "source": [
    "greek_part = greek_full[:len(greek_full) // 10]\n",
    "print(len(greek_full))\n",
    "print(len(greek_part))"
   ]
  },
  {
   "cell_type": "code",
   "execution_count": 6,
   "id": "f227f9b0-5a37-4fdc-8047-538ba04a7304",
   "metadata": {
    "tags": []
   },
   "outputs": [],
   "source": [
    "from cltk.languages.pipelines import GreekPipeline"
   ]
  },
  {
   "cell_type": "code",
   "execution_count": 7,
   "id": "59a4155f-b74b-4d37-84f6-138547f22cd7",
   "metadata": {
    "tags": []
   },
   "outputs": [],
   "source": [
    "gr_pipe = GreekPipeline()"
   ]
  },
  {
   "cell_type": "code",
   "execution_count": 8,
   "id": "edf5307a-8539-425b-91db-150dd6c0f9d3",
   "metadata": {
    "tags": []
   },
   "outputs": [],
   "source": [
    "gr_nlp = NLP(language='grc', custom_pipeline=gr_pipe, suppress_banner=True)"
   ]
  },
  {
   "cell_type": "code",
   "execution_count": 9,
   "id": "209ea290-e659-467c-901c-2b94e5423051",
   "metadata": {
    "tags": []
   },
   "outputs": [],
   "source": [
    "gr_corpus = r\"C:\\Users\\gpwal\\cltk_data\\grc\\grc_text_tesserae-master\\texts\\greekcorpus.txt\""
   ]
  },
  {
   "cell_type": "code",
   "execution_count": 10,
   "id": "efa9e703-4b20-483c-9552-13a580a1f96d",
   "metadata": {
    "tags": []
   },
   "outputs": [],
   "source": [
    "cltk_gr = gr_nlp(text=greek_part).lemmata"
   ]
  },
  {
   "cell_type": "code",
   "execution_count": 15,
   "id": "8623b23c-9157-4ecb-a7b5-686dc55cbcf3",
   "metadata": {
    "tags": []
   },
   "outputs": [],
   "source": [
    "with open(f\"{directory_path}/gr_texts/nlp_gr.txt\", \"w\", encoding='utf-8') as f:\n",
    "    f.write(str(cltk_gr))"
   ]
  },
  {
   "cell_type": "markdown",
   "id": "556e476e-8fed-43a6-a3b8-c5ca719f664d",
   "metadata": {},
   "source": [
    "## WordNet"
   ]
  },
  {
   "cell_type": "code",
   "execution_count": 245,
   "id": "9dcc8483-98c2-4e35-a2b5-b8937e7ec08e",
   "metadata": {
    "tags": []
   },
   "outputs": [
    {
     "name": "stderr",
     "output_type": "stream",
     "text": [
      "[nltk_data] Downloading package wordnet to\n",
      "[nltk_data]     C:\\Users\\gpwal\\AppData\\Roaming\\nltk_data...\n"
     ]
    },
    {
     "data": {
      "text/plain": [
       "True"
      ]
     },
     "execution_count": 245,
     "metadata": {},
     "output_type": "execute_result"
    }
   ],
   "source": [
    "from nltk.corpus import wordnet\n",
    "nltk.download('wordnet')"
   ]
  },
  {
   "cell_type": "code",
   "execution_count": 255,
   "id": "55b251bc-cbbf-4e16-979b-69150609247a",
   "metadata": {
    "tags": []
   },
   "outputs": [],
   "source": [
    "from nltk.corpus import wordnet as wn\n",
    "dog = wn.synset('dog.n.01')"
   ]
  },
  {
   "cell_type": "code",
   "execution_count": 328,
   "id": "49938bae-db9c-4d6b-af61-af700de187dd",
   "metadata": {
    "collapsed": true,
    "jupyter": {
     "outputs_hidden": true
    },
    "tags": []
   },
   "outputs": [
    {
     "ename": "WordNetError",
     "evalue": "No lemma 'drying' with part of speech 'v'",
     "output_type": "error",
     "traceback": [
      "\u001b[1;31m---------------------------------------------------------------------------\u001b[0m",
      "\u001b[1;31mKeyError\u001b[0m                                  Traceback (most recent call last)",
      "File \u001b[1;32m~\\AppData\\Roaming\\jupyterlab-desktop\\jlab_server\\lib\\site-packages\\nltk\\corpus\\reader\\wordnet.py:1498\u001b[0m, in \u001b[0;36mWordNetCorpusReader.synset\u001b[1;34m(self, name)\u001b[0m\n\u001b[0;32m   1497\u001b[0m \u001b[38;5;28;01mtry\u001b[39;00m:\n\u001b[1;32m-> 1498\u001b[0m     offset \u001b[38;5;241m=\u001b[39m \u001b[38;5;28;43mself\u001b[39;49m\u001b[38;5;241;43m.\u001b[39;49m\u001b[43m_lemma_pos_offset_map\u001b[49m\u001b[43m[\u001b[49m\u001b[43mlemma\u001b[49m\u001b[43m]\u001b[49m\u001b[43m[\u001b[49m\u001b[43mpos\u001b[49m\u001b[43m]\u001b[49m[synset_index]\n\u001b[0;32m   1499\u001b[0m \u001b[38;5;28;01mexcept\u001b[39;00m \u001b[38;5;167;01mKeyError\u001b[39;00m \u001b[38;5;28;01mas\u001b[39;00m e:\n",
      "\u001b[1;31mKeyError\u001b[0m: 'v'",
      "\nThe above exception was the direct cause of the following exception:\n",
      "\u001b[1;31mWordNetError\u001b[0m                              Traceback (most recent call last)",
      "Cell \u001b[1;32mIn[328], line 2\u001b[0m\n\u001b[0;32m      1\u001b[0m dry \u001b[38;5;241m=\u001b[39m wn\u001b[38;5;241m.\u001b[39msynset(\u001b[38;5;124m'\u001b[39m\u001b[38;5;124mdry.a.01\u001b[39m\u001b[38;5;124m'\u001b[39m)\n\u001b[1;32m----> 2\u001b[0m drying \u001b[38;5;241m=\u001b[39m \u001b[43mwn\u001b[49m\u001b[38;5;241;43m.\u001b[39;49m\u001b[43msynset\u001b[49m\u001b[43m(\u001b[49m\u001b[38;5;124;43m'\u001b[39;49m\u001b[38;5;124;43mdrying.v.01\u001b[39;49m\u001b[38;5;124;43m'\u001b[39;49m\u001b[43m)\u001b[49m\n\u001b[0;32m      3\u001b[0m dry\u001b[38;5;241m.\u001b[39mpath_similarity(drying)\n",
      "File \u001b[1;32m~\\AppData\\Roaming\\jupyterlab-desktop\\jlab_server\\lib\\site-packages\\nltk\\corpus\\reader\\wordnet.py:1500\u001b[0m, in \u001b[0;36mWordNetCorpusReader.synset\u001b[1;34m(self, name)\u001b[0m\n\u001b[0;32m   1498\u001b[0m     offset \u001b[38;5;241m=\u001b[39m \u001b[38;5;28mself\u001b[39m\u001b[38;5;241m.\u001b[39m_lemma_pos_offset_map[lemma][pos][synset_index]\n\u001b[0;32m   1499\u001b[0m \u001b[38;5;28;01mexcept\u001b[39;00m \u001b[38;5;167;01mKeyError\u001b[39;00m \u001b[38;5;28;01mas\u001b[39;00m e:\n\u001b[1;32m-> 1500\u001b[0m     \u001b[38;5;28;01mraise\u001b[39;00m WordNetError(\u001b[38;5;124mf\u001b[39m\u001b[38;5;124m\"\u001b[39m\u001b[38;5;124mNo lemma \u001b[39m\u001b[38;5;132;01m{\u001b[39;00mlemma\u001b[38;5;132;01m!r}\u001b[39;00m\u001b[38;5;124m with part of speech \u001b[39m\u001b[38;5;132;01m{\u001b[39;00mpos\u001b[38;5;132;01m!r}\u001b[39;00m\u001b[38;5;124m\"\u001b[39m) \u001b[38;5;28;01mfrom\u001b[39;00m \u001b[38;5;21;01me\u001b[39;00m\n\u001b[0;32m   1501\u001b[0m \u001b[38;5;28;01mexcept\u001b[39;00m \u001b[38;5;167;01mIndexError\u001b[39;00m \u001b[38;5;28;01mas\u001b[39;00m e:\n\u001b[0;32m   1502\u001b[0m     n_senses \u001b[38;5;241m=\u001b[39m \u001b[38;5;28mlen\u001b[39m(\u001b[38;5;28mself\u001b[39m\u001b[38;5;241m.\u001b[39m_lemma_pos_offset_map[lemma][pos])\n",
      "\u001b[1;31mWordNetError\u001b[0m: No lemma 'drying' with part of speech 'v'"
     ]
    }
   ],
   "source": [
    "dry = wn.synset('dry.a.01')\n",
    "drying = wn.synset('drying.v.01')\n",
    "dry.path_similarity(drying)"
   ]
  },
  {
   "cell_type": "code",
   "execution_count": 254,
   "id": "3f6d2978-57e5-429f-8c40-723a22621841",
   "metadata": {
    "tags": []
   },
   "outputs": [
    {
     "data": {
      "text/plain": [
       "1.0"
      ]
     },
     "execution_count": 254,
     "metadata": {},
     "output_type": "execute_result"
    }
   ],
   "source": [
    "dog.path_similarity(dog)"
   ]
  },
  {
   "cell_type": "markdown",
   "id": "88f666b8-1a8f-48c9-81dc-741c516a3f03",
   "metadata": {},
   "source": [
    "## Averaging the Matrices"
   ]
  },
  {
   "cell_type": "code",
   "execution_count": 32,
   "id": "f2981c90-f3e0-4674-959f-8be18512448f",
   "metadata": {
    "tags": []
   },
   "outputs": [
    {
     "data": {
      "text/plain": [
       "array([-4.9039516e-01,  1.3531958e+00,  2.9505689e+00, -1.2124805e+00,\n",
       "        2.1559963e+00, -6.8303943e-04,  3.7989001e+00,  7.0233423e-01,\n",
       "        1.5537136e+00, -2.6195500e+00,  2.9677916e-01,  1.2441676e+00,\n",
       "       -7.6479912e-02, -2.0551915e+00,  1.5396655e+00,  2.4400959e+00,\n",
       "        7.0302010e-01,  1.0705575e+00, -1.4944966e+00,  3.4811196e+00,\n",
       "       -1.2725792e+00, -2.3775463e+00, -5.5292070e-01, -1.6500245e+00,\n",
       "       -1.5041418e+00, -2.2960887e+00, -4.0826386e-01,  1.1082954e+00,\n",
       "        1.8929701e+00,  6.5527695e-01,  5.1773558e+00, -2.7952635e+00,\n",
       "        4.5645204e+00, -2.5225875e+00,  3.4321680e+00,  3.0744672e+00,\n",
       "        1.7981055e+00,  3.9910021e+00,  3.4023499e-01,  3.1530142e+00,\n",
       "        2.4398871e-01, -1.8820057e+00, -5.2444162e+00, -4.2332940e+00,\n",
       "       -2.6225692e-01,  1.1630237e+00,  1.6394482e+00,  5.6425929e-03,\n",
       "        1.4398419e+00,  3.4363015e+00, -3.6244550e-01, -2.5222120e-01,\n",
       "       -7.0941031e-02, -8.9785993e-01, -4.2154942e+00,  7.8646463e-01,\n",
       "       -9.3576598e-01,  2.7121129e+00, -4.3484086e-01,  2.3828685e+00,\n",
       "        1.4425083e-01,  1.3750910e+00, -1.2100513e+00, -2.4111705e+00,\n",
       "       -1.3997889e+00, -4.4352646e+00,  3.0868628e+00, -1.6798735e-01,\n",
       "        1.0572317e+00,  9.8918505e-02, -4.6500225e+00,  2.1329637e+00,\n",
       "        7.9403639e-01, -1.2751255e+00,  4.9340940e-01,  4.9407873e+00,\n",
       "        1.6760192e+00,  2.3693819e+00,  2.1607645e+00,  8.7278724e-02,\n",
       "        3.8355641e+00, -2.0727358e+00,  1.6095117e+00, -5.3422918e+00,\n",
       "       -1.8027806e+00,  5.4327792e-01,  8.8540614e-01,  4.1885951e-01,\n",
       "        2.9727650e-01, -1.3601273e+00, -6.3012111e-01, -1.2523898e+00,\n",
       "       -9.6381629e-01,  3.9754665e+00, -1.2275852e+00, -1.4410187e-01,\n",
       "       -2.2922947e+00,  3.5176816e+00,  2.8671029e+00, -1.9428468e-01],\n",
       "      dtype=float32)"
      ]
     },
     "execution_count": 32,
     "metadata": {},
     "output_type": "execute_result"
    }
   ],
   "source": [
    "ego_vec = la_model.wv.get_vector('ego')\n",
    "tu_vec = la_model.wv.get_vector('tu')\n",
    "(ego_vec + tu_vec)/2"
   ]
  },
  {
   "cell_type": "code",
   "execution_count": 33,
   "id": "4f5011bb-3e3d-48fe-b0bc-711bc5f6fc1e",
   "metadata": {
    "tags": []
   },
   "outputs": [],
   "source": [
    "mod_eng_swa=['i', 'you', 'we', 'this', 'that', 'who', 'what', 'not', 'all', 'many', 'one', 'two', 'big', 'long', 'small', 'woman', 'man', 'person', 'fish', 'bird', 'dog','tree', 'seed', 'leaf', 'root','skin', 'flesh', 'blood', 'bone', 'grease', 'egg', 'horn', 'tail','hair', 'head', 'ear', 'eye','mouth', 'tongue', 'claw', 'foot', 'knee', 'hand', 'belly', 'neck', 'breasts', 'heart', 'drink', 'eat', 'bite', 'see', 'hear', 'know', 'sleep', 'die', 'kill', 'fly', 'walk', 'come', 'lie', 'sit', 'stand', 'give', 'say', 'sun', 'moon', 'star', 'water', 'rain', 'stone', 'sand', 'earth', 'cloud', 'smoke', 'fire', 'ashes', 'burn', 'path', 'mountain', 'red', 'green', 'yellow', 'white', 'black', 'night', 'hot', 'cold', 'full', 'new', 'good', 'dry', 'name']"
   ]
  },
  {
   "cell_type": "code",
   "execution_count": 34,
   "id": "5b6ba791-e089-4b7c-9172-49ca5c403e76",
   "metadata": {
    "tags": []
   },
   "outputs": [],
   "source": [
    "mod_la_swadesh = ['ego', 'tu','nos','cis','istud','qui','quid','non','omnis','multi','unus','duo','magnus','longus','minutus','femina','vir','persona','piscis','avis','canis','dryas','semen','folium','radix','cutis','membrana','sanguis','os','medulla','ovum','cornu','cauda','pilus','caput','auris','oculus','os','lingua','unguis','pes','genu','manus','uterus','monile','pectora','cor','bibere','edere','mordeo','cautio','cautio','cognoscere','somnus','funus','caedo','volare','pontis','venire','lectus','sedere','stare','dare','inquam','sol','mensis','stella','aqua','pluvia','lapis','harena','solum','nimbus','fumus','ignis','ardere','ardere','pontis','mons','rubeus','gramen','flavo','albus','ater','nox','calidus','gelu','plenus','novus','bonus','siccus','nomen']"
   ]
  },
  {
   "cell_type": "code",
   "execution_count": 35,
   "id": "35836036-524f-412e-82bc-ccc0f4c62d8d",
   "metadata": {
    "tags": []
   },
   "outputs": [],
   "source": [
    "oe_swadesh = ['ic', 'ðu', 'us', 'he', 'ðæt', 'hwa','hwa','ne','eall','manig','an','twegen', 'micel', 'lang', 'min', 'cwen', 'mann', 'mann', 'fisc','fugol', 'hund', 'treow','sæd','blæd','rot','hyd','flæsc','blod','ban', 'gelynd','æg', 'horn','steort', 'hær', 'heafod', 'eare', 'eage', 'muþ', 'tunge', 'clea', 'fot', 'cneow', 'mund','cwiþ', 'sweora','bosm', 'heorte', 'drincan', 'etan', 'bitan', 'seon', 'gehiran', 'cunnan', 'swefan', 'dead','cwellan','fleogan', 'findan', 'cuman', 'licgan', 'sittan', 'standan','gesellan', 'sæcgan', 'sunne', 'mona', 'steorra', 'ea', 'regn', 'stan','sand', 'eorþe', 'neowol', 'þrosm','fyr', 'axe', 'bærnan', 'foldweg', 'beorg', 'read', 'grene', 'geolo', 'hwit','blæc', 'niht', 'wearm', 'ceald', 'full', 'niwe', 'betra', 'dryge', 'nama']"
   ]
  },
  {
   "cell_type": "code",
   "execution_count": 36,
   "id": "d54bd94d-5610-4a9a-991c-1e37da755615",
   "metadata": {
    "tags": []
   },
   "outputs": [],
   "source": [
    "pie_swa = ['eg̑ō','tū̆','nē̆s-, nō̆s-','k̑o-, k̑e-','to-, tā-, ti̯o-','who?','what?','nĕ, nē, nei','all','men(e)gh','one','du̯ō(u)','meg̑(h)-','del-','mei-','gu̯ē̆nā','manu-s (man)','manu-s (person)','peisk-','au̯ei-','k̑u̯on-, k̑un-','deru-','seed','bhel-','u̯(e)rād-','gu̯ēi-','mēmso-','ē̆s-r̥(gu̯)','ost(h)-','smeru-','ō(u̯)i̯-om','k̑er-','tail','pi-lo-','kap-ut','ōus-','oku̯-','ōus- : əus-','dn̥g̑hū','onogh-','pē̆d-, pō̆d-','g̑enu-, g̑neu-','mə-r','udero-','mono-','breasts','k̑ered-','pō(i)-','ed-','bheid-','keu-, skeu- (to see)','keu-, skeu- (to hear)','g̑en-','su̯ep-','dheu-','per-, per-g-','pleu-','pent-','gu̯ā-, gu̯em-','legh-','sed-','stā- : stə-','dō- : də-','seku̯-','sā́u̯el-','mēnōt','stē̆r-','aku̯ā-','reg̑-','stāi-','sand','er-','enebh-','(s)meukh-','egnis', 'ā̆s- (ashes)','ā̆s- (to burn)','pent-','bhereg̑h-','reudh-','ghrē-','bhlē-u̯o-s','albho-','mel-','noku̯-t-s','gu̯her-','gel(ə)-','pel-, pelə-','neu̯os','bhā̆d-','saus','en(o)mn̥-']"
   ]
  },
  {
   "cell_type": "code",
   "execution_count": 79,
   "id": "53a61d11-f5d0-4710-a1d5-a702af9195b3",
   "metadata": {
    "tags": []
   },
   "outputs": [],
   "source": [
    "def vec_get(li):\n",
    "    with open(\"data/pie/pie_averaged_swadesh_vectors.csv\", \"w\", encoding='utf-8') as f:\n",
    "        for i in li:\n",
    "            pie_vectors = ((wv.get_vector(mod_eng_swa[i])+la_model.wv.get_vector(mod_la_swadesh[i])+oe_model.wv.get_vector(oe_swadesh[i]))/3)\n",
    "            w = csv.DictWriter(f, pie_vectors)\n",
    "            w.writeheader()"
   ]
  },
  {
   "cell_type": "code",
   "execution_count": 80,
   "id": "64835427-fa47-4eb3-8255-dd6a8e433be0",
   "metadata": {
    "tags": []
   },
   "outputs": [],
   "source": [
    "li = range(0,92)\n",
    "vec_get(li)"
   ]
  },
  {
   "cell_type": "markdown",
   "id": "ced5a825-822c-448f-a846-2c078fdc951b",
   "metadata": {},
   "source": [
    "## Gloss Vectors"
   ]
  },
  {
   "cell_type": "code",
   "execution_count": 134,
   "id": "9a3cbd93-a79b-4f02-a885-f9474e5e78ee",
   "metadata": {
    "tags": []
   },
   "outputs": [
    {
     "data": {
      "text/plain": [
       "array([-0.5399333 ,  0.172343  ,  0.44473997, -0.46749333,  0.09087332,\n",
       "       -0.02529001,  0.35929596, -0.00916633, -0.10567   ,  0.05108633,\n",
       "        0.42659   , -0.21941666, -0.02831133,  0.15929534,  0.526757  ,\n",
       "       -0.14903   , -0.03233467, -0.24763   ,  0.46574664, -0.5762333 ,\n",
       "       -0.39161   ,  0.07641333,  0.08514667, -0.06663889, -0.06800334,\n",
       "        0.45779666, -0.10429666, -0.28504   , -0.04071333, -0.19550265,\n",
       "       -0.16818567,  0.49442998, -0.77203995, -0.10320965,  0.31538332,\n",
       "       -0.014627  ,  0.48109064,  0.37337336, -0.28760934, -0.12989332,\n",
       "       -0.36092332, -0.8605537 , -0.38069   , -0.4613    ,  0.48777032,\n",
       "        0.05189334, -0.25918534, -0.10098767,  0.30724868, -0.43061998,\n",
       "        0.29808334,  0.21877001,  0.0217    ,  0.48217466, -0.00966332,\n",
       "       -1.3073467 ,  0.00367333, -0.22801332,  1.6671333 , -0.15244833,\n",
       "        0.19142334,  0.5494343 , -0.23077267,  0.12203334,  0.92999333,\n",
       "        0.29794666,  0.91155   , -0.76929   ,  0.21481967, -1.0161834 ,\n",
       "        0.10950934, -0.5393567 ,  0.7798233 ,  0.211623  ,  0.09547666,\n",
       "        0.15529966, -0.24365436, -0.70141333, -0.10666666,  0.186211  ,\n",
       "        0.62797   ,  0.02794334, -0.89059335,  0.37127003, -0.24031468,\n",
       "        0.23819602,  0.72739667,  0.54781336, -0.13253067,  0.16860783,\n",
       "       -0.22372   , -0.26466   , -0.36046   , -0.06402767, -0.18682666,\n",
       "       -0.26113334,  0.29903468, -0.155248  ,  0.36223498,  0.33838665],\n",
       "      dtype=float32)"
      ]
     },
     "execution_count": 134,
     "metadata": {},
     "output_type": "execute_result"
    }
   ],
   "source": [
    "(wv.get_vector('free')+wv.get_vector('liquid')+wv.get_vector('moisture'))/3"
   ]
  },
  {
   "cell_type": "markdown",
   "id": "7840655f-abe0-45df-afbe-93a36eaf77c8",
   "metadata": {},
   "source": [
    "## Cosine Similarity Between Each Word in the PIE Average Vectors"
   ]
  },
  {
   "cell_type": "code",
   "execution_count": 25,
   "id": "b391c624-441d-4242-ab98-27a203908d8e",
   "metadata": {
    "tags": []
   },
   "outputs": [],
   "source": [
    "from sklearn.metrics.pairwise import cosine_similarity"
   ]
  },
  {
   "cell_type": "code",
   "execution_count": 21,
   "id": "9688ef72-6a2e-40f4-bf44-a1c6b2baf96e",
   "metadata": {
    "tags": []
   },
   "outputs": [],
   "source": [
    "pie_averaged_vectors = pd.read_csv('data/pie/pie_averaged_swadesh_vectors.csv')"
   ]
  },
  {
   "cell_type": "code",
   "execution_count": 22,
   "id": "aa6aa102-0873-4192-ade2-20039cc3a5b6",
   "metadata": {
    "tags": []
   },
   "outputs": [
    {
     "data": {
      "text/html": [
       "<div>\n",
       "<style scoped>\n",
       "    .dataframe tbody tr th:only-of-type {\n",
       "        vertical-align: middle;\n",
       "    }\n",
       "\n",
       "    .dataframe tbody tr th {\n",
       "        vertical-align: top;\n",
       "    }\n",
       "\n",
       "    .dataframe thead th {\n",
       "        text-align: right;\n",
       "    }\n",
       "</style>\n",
       "<table border=\"1\" class=\"dataframe\">\n",
       "  <thead>\n",
       "    <tr style=\"text-align: right;\">\n",
       "      <th></th>\n",
       "      <th>i</th>\n",
       "      <th>-2.1831324</th>\n",
       "      <th>0.6693887</th>\n",
       "      <th>0.49756894</th>\n",
       "      <th>0.09482726</th>\n",
       "      <th>-0.37906513</th>\n",
       "      <th>1.7279035</th>\n",
       "      <th>3.9370353</th>\n",
       "      <th>0.39876786</th>\n",
       "      <th>0.64911115</th>\n",
       "      <th>...</th>\n",
       "      <th>0.02339972</th>\n",
       "      <th>0.13793518</th>\n",
       "      <th>0.7841725</th>\n",
       "      <th>1.6160952</th>\n",
       "      <th>-0.13686585</th>\n",
       "      <th>-1.1479222</th>\n",
       "      <th>0.5457731</th>\n",
       "      <th>1.1325048</th>\n",
       "      <th>1.4865007</th>\n",
       "      <th>1.4927431</th>\n",
       "    </tr>\n",
       "  </thead>\n",
       "  <tbody>\n",
       "    <tr>\n",
       "      <th>0</th>\n",
       "      <td>you</td>\n",
       "      <td>-0.707398</td>\n",
       "      <td>-0.935154</td>\n",
       "      <td>1.066272</td>\n",
       "      <td>0.858782</td>\n",
       "      <td>0.529518</td>\n",
       "      <td>1.053117</td>\n",
       "      <td>1.610284</td>\n",
       "      <td>-0.580836</td>\n",
       "      <td>-0.447363</td>\n",
       "      <td>...</td>\n",
       "      <td>-1.339419</td>\n",
       "      <td>1.653344</td>\n",
       "      <td>1.761845</td>\n",
       "      <td>3.884670</td>\n",
       "      <td>0.174681</td>\n",
       "      <td>1.930954</td>\n",
       "      <td>-4.085159</td>\n",
       "      <td>2.482562</td>\n",
       "      <td>0.050925</td>\n",
       "      <td>1.622832</td>\n",
       "    </tr>\n",
       "    <tr>\n",
       "      <th>1</th>\n",
       "      <td>we</td>\n",
       "      <td>-0.722815</td>\n",
       "      <td>0.867734</td>\n",
       "      <td>2.196573</td>\n",
       "      <td>-1.056881</td>\n",
       "      <td>-1.069858</td>\n",
       "      <td>-0.111197</td>\n",
       "      <td>-2.014542</td>\n",
       "      <td>-1.716652</td>\n",
       "      <td>-0.834361</td>\n",
       "      <td>...</td>\n",
       "      <td>1.345689</td>\n",
       "      <td>-0.109149</td>\n",
       "      <td>0.408599</td>\n",
       "      <td>1.536341</td>\n",
       "      <td>-1.465457</td>\n",
       "      <td>0.412691</td>\n",
       "      <td>0.947772</td>\n",
       "      <td>3.393633</td>\n",
       "      <td>0.486058</td>\n",
       "      <td>-1.321338</td>\n",
       "    </tr>\n",
       "    <tr>\n",
       "      <th>2</th>\n",
       "      <td>this</td>\n",
       "      <td>-0.593048</td>\n",
       "      <td>-0.455434</td>\n",
       "      <td>-1.652625</td>\n",
       "      <td>0.629210</td>\n",
       "      <td>0.158229</td>\n",
       "      <td>0.380907</td>\n",
       "      <td>-0.254655</td>\n",
       "      <td>-1.102786</td>\n",
       "      <td>-1.306796</td>\n",
       "      <td>...</td>\n",
       "      <td>-0.656983</td>\n",
       "      <td>1.849788</td>\n",
       "      <td>1.983506</td>\n",
       "      <td>1.287086</td>\n",
       "      <td>-1.829553</td>\n",
       "      <td>-1.753720</td>\n",
       "      <td>2.898797</td>\n",
       "      <td>-0.524925</td>\n",
       "      <td>-0.553461</td>\n",
       "      <td>2.560318</td>\n",
       "    </tr>\n",
       "    <tr>\n",
       "      <th>3</th>\n",
       "      <td>that</td>\n",
       "      <td>0.055502</td>\n",
       "      <td>-1.740404</td>\n",
       "      <td>1.591422</td>\n",
       "      <td>0.093416</td>\n",
       "      <td>1.698930</td>\n",
       "      <td>-0.057187</td>\n",
       "      <td>0.335867</td>\n",
       "      <td>-0.323730</td>\n",
       "      <td>0.718463</td>\n",
       "      <td>...</td>\n",
       "      <td>-0.539902</td>\n",
       "      <td>1.491653</td>\n",
       "      <td>-0.889883</td>\n",
       "      <td>3.094569</td>\n",
       "      <td>-2.102448</td>\n",
       "      <td>-0.204647</td>\n",
       "      <td>0.873948</td>\n",
       "      <td>0.362691</td>\n",
       "      <td>1.868349</td>\n",
       "      <td>1.613197</td>\n",
       "    </tr>\n",
       "    <tr>\n",
       "      <th>4</th>\n",
       "      <td>who</td>\n",
       "      <td>0.009390</td>\n",
       "      <td>-0.455100</td>\n",
       "      <td>-0.696457</td>\n",
       "      <td>-2.558726</td>\n",
       "      <td>0.416868</td>\n",
       "      <td>0.532356</td>\n",
       "      <td>0.952069</td>\n",
       "      <td>-0.709935</td>\n",
       "      <td>1.648626</td>\n",
       "      <td>...</td>\n",
       "      <td>-1.524325</td>\n",
       "      <td>0.380421</td>\n",
       "      <td>-0.087333</td>\n",
       "      <td>-0.672454</td>\n",
       "      <td>-0.364523</td>\n",
       "      <td>0.457877</td>\n",
       "      <td>-0.737388</td>\n",
       "      <td>-0.169623</td>\n",
       "      <td>-0.552580</td>\n",
       "      <td>1.624209</td>\n",
       "    </tr>\n",
       "    <tr>\n",
       "      <th>...</th>\n",
       "      <td>...</td>\n",
       "      <td>...</td>\n",
       "      <td>...</td>\n",
       "      <td>...</td>\n",
       "      <td>...</td>\n",
       "      <td>...</td>\n",
       "      <td>...</td>\n",
       "      <td>...</td>\n",
       "      <td>...</td>\n",
       "      <td>...</td>\n",
       "      <td>...</td>\n",
       "      <td>...</td>\n",
       "      <td>...</td>\n",
       "      <td>...</td>\n",
       "      <td>...</td>\n",
       "      <td>...</td>\n",
       "      <td>...</td>\n",
       "      <td>...</td>\n",
       "      <td>...</td>\n",
       "      <td>...</td>\n",
       "      <td>...</td>\n",
       "    </tr>\n",
       "    <tr>\n",
       "      <th>86</th>\n",
       "      <td>full</td>\n",
       "      <td>2.836695</td>\n",
       "      <td>0.210085</td>\n",
       "      <td>-0.177164</td>\n",
       "      <td>-1.641374</td>\n",
       "      <td>0.996745</td>\n",
       "      <td>0.804302</td>\n",
       "      <td>-0.505808</td>\n",
       "      <td>2.335029</td>\n",
       "      <td>-0.614797</td>\n",
       "      <td>...</td>\n",
       "      <td>-0.055549</td>\n",
       "      <td>0.017821</td>\n",
       "      <td>0.243118</td>\n",
       "      <td>0.268862</td>\n",
       "      <td>-1.160358</td>\n",
       "      <td>-1.126983</td>\n",
       "      <td>1.305956</td>\n",
       "      <td>-1.470316</td>\n",
       "      <td>0.622372</td>\n",
       "      <td>-0.321959</td>\n",
       "    </tr>\n",
       "    <tr>\n",
       "      <th>87</th>\n",
       "      <td>new</td>\n",
       "      <td>-0.848811</td>\n",
       "      <td>0.413793</td>\n",
       "      <td>-0.360981</td>\n",
       "      <td>-0.008849</td>\n",
       "      <td>-0.430257</td>\n",
       "      <td>0.124750</td>\n",
       "      <td>-0.116913</td>\n",
       "      <td>1.325520</td>\n",
       "      <td>-0.154522</td>\n",
       "      <td>...</td>\n",
       "      <td>0.885433</td>\n",
       "      <td>-1.104305</td>\n",
       "      <td>0.087446</td>\n",
       "      <td>-0.451088</td>\n",
       "      <td>-0.261512</td>\n",
       "      <td>0.102193</td>\n",
       "      <td>-1.713750</td>\n",
       "      <td>0.300475</td>\n",
       "      <td>0.350046</td>\n",
       "      <td>0.706614</td>\n",
       "    </tr>\n",
       "    <tr>\n",
       "      <th>88</th>\n",
       "      <td>good</td>\n",
       "      <td>0.360639</td>\n",
       "      <td>-0.191084</td>\n",
       "      <td>0.858989</td>\n",
       "      <td>-1.212356</td>\n",
       "      <td>0.545637</td>\n",
       "      <td>1.106014</td>\n",
       "      <td>0.439437</td>\n",
       "      <td>0.854986</td>\n",
       "      <td>-0.011469</td>\n",
       "      <td>...</td>\n",
       "      <td>-1.464392</td>\n",
       "      <td>0.245952</td>\n",
       "      <td>-0.529257</td>\n",
       "      <td>0.354011</td>\n",
       "      <td>-1.267165</td>\n",
       "      <td>0.490690</td>\n",
       "      <td>-1.406387</td>\n",
       "      <td>-0.497885</td>\n",
       "      <td>-0.584639</td>\n",
       "      <td>0.224439</td>\n",
       "    </tr>\n",
       "    <tr>\n",
       "      <th>89</th>\n",
       "      <td>dry</td>\n",
       "      <td>-0.721985</td>\n",
       "      <td>0.398144</td>\n",
       "      <td>-0.147805</td>\n",
       "      <td>-1.012769</td>\n",
       "      <td>-0.482481</td>\n",
       "      <td>-1.221666</td>\n",
       "      <td>0.834861</td>\n",
       "      <td>0.953803</td>\n",
       "      <td>0.006443</td>\n",
       "      <td>...</td>\n",
       "      <td>0.207739</td>\n",
       "      <td>0.790020</td>\n",
       "      <td>-0.039818</td>\n",
       "      <td>-0.319001</td>\n",
       "      <td>-0.016312</td>\n",
       "      <td>0.483680</td>\n",
       "      <td>0.696246</td>\n",
       "      <td>-0.426180</td>\n",
       "      <td>0.189408</td>\n",
       "      <td>0.954416</td>\n",
       "    </tr>\n",
       "    <tr>\n",
       "      <th>90</th>\n",
       "      <td>name</td>\n",
       "      <td>-0.479457</td>\n",
       "      <td>-1.158186</td>\n",
       "      <td>0.548613</td>\n",
       "      <td>1.821767</td>\n",
       "      <td>-0.287434</td>\n",
       "      <td>-0.089963</td>\n",
       "      <td>0.342045</td>\n",
       "      <td>0.132479</td>\n",
       "      <td>-1.045794</td>\n",
       "      <td>...</td>\n",
       "      <td>2.118324</td>\n",
       "      <td>2.456575</td>\n",
       "      <td>0.344520</td>\n",
       "      <td>-1.683328</td>\n",
       "      <td>-1.884346</td>\n",
       "      <td>-0.309742</td>\n",
       "      <td>0.344084</td>\n",
       "      <td>0.051373</td>\n",
       "      <td>-0.716932</td>\n",
       "      <td>0.652692</td>\n",
       "    </tr>\n",
       "  </tbody>\n",
       "</table>\n",
       "<p>91 rows × 101 columns</p>\n",
       "</div>"
      ],
      "text/plain": [
       "       i  -2.1831324  0.6693887  0.49756894  0.09482726  -0.37906513   \n",
       "0    you   -0.707398  -0.935154    1.066272    0.858782     0.529518  \\\n",
       "1     we   -0.722815   0.867734    2.196573   -1.056881    -1.069858   \n",
       "2   this   -0.593048  -0.455434   -1.652625    0.629210     0.158229   \n",
       "3   that    0.055502  -1.740404    1.591422    0.093416     1.698930   \n",
       "4    who    0.009390  -0.455100   -0.696457   -2.558726     0.416868   \n",
       "..   ...         ...        ...         ...         ...          ...   \n",
       "86  full    2.836695   0.210085   -0.177164   -1.641374     0.996745   \n",
       "87   new   -0.848811   0.413793   -0.360981   -0.008849    -0.430257   \n",
       "88  good    0.360639  -0.191084    0.858989   -1.212356     0.545637   \n",
       "89   dry   -0.721985   0.398144   -0.147805   -1.012769    -0.482481   \n",
       "90  name   -0.479457  -1.158186    0.548613    1.821767    -0.287434   \n",
       "\n",
       "    1.7279035  3.9370353  0.39876786  0.64911115  ...  0.02339972  0.13793518   \n",
       "0    1.053117   1.610284   -0.580836   -0.447363  ...   -1.339419    1.653344  \\\n",
       "1   -0.111197  -2.014542   -1.716652   -0.834361  ...    1.345689   -0.109149   \n",
       "2    0.380907  -0.254655   -1.102786   -1.306796  ...   -0.656983    1.849788   \n",
       "3   -0.057187   0.335867   -0.323730    0.718463  ...   -0.539902    1.491653   \n",
       "4    0.532356   0.952069   -0.709935    1.648626  ...   -1.524325    0.380421   \n",
       "..        ...        ...         ...         ...  ...         ...         ...   \n",
       "86   0.804302  -0.505808    2.335029   -0.614797  ...   -0.055549    0.017821   \n",
       "87   0.124750  -0.116913    1.325520   -0.154522  ...    0.885433   -1.104305   \n",
       "88   1.106014   0.439437    0.854986   -0.011469  ...   -1.464392    0.245952   \n",
       "89  -1.221666   0.834861    0.953803    0.006443  ...    0.207739    0.790020   \n",
       "90  -0.089963   0.342045    0.132479   -1.045794  ...    2.118324    2.456575   \n",
       "\n",
       "    0.7841725  1.6160952  -0.13686585  -1.1479222  0.5457731  1.1325048   \n",
       "0    1.761845   3.884670     0.174681    1.930954  -4.085159   2.482562  \\\n",
       "1    0.408599   1.536341    -1.465457    0.412691   0.947772   3.393633   \n",
       "2    1.983506   1.287086    -1.829553   -1.753720   2.898797  -0.524925   \n",
       "3   -0.889883   3.094569    -2.102448   -0.204647   0.873948   0.362691   \n",
       "4   -0.087333  -0.672454    -0.364523    0.457877  -0.737388  -0.169623   \n",
       "..        ...        ...          ...         ...        ...        ...   \n",
       "86   0.243118   0.268862    -1.160358   -1.126983   1.305956  -1.470316   \n",
       "87   0.087446  -0.451088    -0.261512    0.102193  -1.713750   0.300475   \n",
       "88  -0.529257   0.354011    -1.267165    0.490690  -1.406387  -0.497885   \n",
       "89  -0.039818  -0.319001    -0.016312    0.483680   0.696246  -0.426180   \n",
       "90   0.344520  -1.683328    -1.884346   -0.309742   0.344084   0.051373   \n",
       "\n",
       "    1.4865007  1.4927431  \n",
       "0    0.050925   1.622832  \n",
       "1    0.486058  -1.321338  \n",
       "2   -0.553461   2.560318  \n",
       "3    1.868349   1.613197  \n",
       "4   -0.552580   1.624209  \n",
       "..        ...        ...  \n",
       "86   0.622372  -0.321959  \n",
       "87   0.350046   0.706614  \n",
       "88  -0.584639   0.224439  \n",
       "89   0.189408   0.954416  \n",
       "90  -0.716932   0.652692  \n",
       "\n",
       "[91 rows x 101 columns]"
      ]
     },
     "execution_count": 22,
     "metadata": {},
     "output_type": "execute_result"
    }
   ],
   "source": [
    "pie_averaged_vectors"
   ]
  },
  {
   "cell_type": "code",
   "execution_count": 41,
   "id": "e7e1406a-4cbb-4b4b-9739-c285ce1d66dd",
   "metadata": {
    "tags": []
   },
   "outputs": [
    {
     "ename": "ValueError",
     "evalue": "Input contains NaN.",
     "output_type": "error",
     "traceback": [
      "\u001b[1;31m---------------------------------------------------------------------------\u001b[0m",
      "\u001b[1;31mValueError\u001b[0m                                Traceback (most recent call last)",
      "Cell \u001b[1;32mIn[41], line 5\u001b[0m\n\u001b[0;32m      3\u001b[0m     row1 \u001b[38;5;241m=\u001b[39m pie_averaged_vectors\u001b[38;5;241m.\u001b[39miloc[i, \u001b[38;5;241m2\u001b[39m:]\u001b[38;5;241m.\u001b[39mvalues\u001b[38;5;241m.\u001b[39mreshape(\u001b[38;5;241m1\u001b[39m, \u001b[38;5;241m-\u001b[39m\u001b[38;5;241m1\u001b[39m)\n\u001b[0;32m      4\u001b[0m     row2 \u001b[38;5;241m=\u001b[39m pie_averaged_vectors\u001b[38;5;241m.\u001b[39miloc[i\u001b[38;5;241m+\u001b[39m\u001b[38;5;241m1\u001b[39m, \u001b[38;5;241m2\u001b[39m:]\u001b[38;5;241m.\u001b[39mvalues\u001b[38;5;241m.\u001b[39mreshape(\u001b[38;5;241m1\u001b[39m, \u001b[38;5;241m-\u001b[39m\u001b[38;5;241m1\u001b[39m)\n\u001b[1;32m----> 5\u001b[0m     similarity \u001b[38;5;241m=\u001b[39m \u001b[43mcosine_similarity\u001b[49m\u001b[43m(\u001b[49m\u001b[43mrow1\u001b[49m\u001b[43m,\u001b[49m\u001b[43m \u001b[49m\u001b[43mrow2\u001b[49m\u001b[43m)\u001b[49m[\u001b[38;5;241m0\u001b[39m][\u001b[38;5;241m0\u001b[39m]\n\u001b[0;32m      6\u001b[0m     similarity_list\u001b[38;5;241m.\u001b[39mappend(similarity)\n\u001b[0;32m      8\u001b[0m \u001b[38;5;66;03m# Add similarity values to DataFrame\u001b[39;00m\n",
      "File \u001b[1;32m~\\AppData\\Roaming\\jupyterlab-desktop\\jlab_server\\lib\\site-packages\\sklearn\\metrics\\pairwise.py:1393\u001b[0m, in \u001b[0;36mcosine_similarity\u001b[1;34m(X, Y, dense_output)\u001b[0m\n\u001b[0;32m   1358\u001b[0m \u001b[38;5;250m\u001b[39m\u001b[38;5;124;03m\"\"\"Compute cosine similarity between samples in X and Y.\u001b[39;00m\n\u001b[0;32m   1359\u001b[0m \n\u001b[0;32m   1360\u001b[0m \u001b[38;5;124;03mCosine similarity, or the cosine kernel, computes similarity as the\u001b[39;00m\n\u001b[1;32m   (...)\u001b[0m\n\u001b[0;32m   1389\u001b[0m \u001b[38;5;124;03m    Returns the cosine similarity between samples in X and Y.\u001b[39;00m\n\u001b[0;32m   1390\u001b[0m \u001b[38;5;124;03m\"\"\"\u001b[39;00m\n\u001b[0;32m   1391\u001b[0m \u001b[38;5;66;03m# to avoid recursive import\u001b[39;00m\n\u001b[1;32m-> 1393\u001b[0m X, Y \u001b[38;5;241m=\u001b[39m \u001b[43mcheck_pairwise_arrays\u001b[49m\u001b[43m(\u001b[49m\u001b[43mX\u001b[49m\u001b[43m,\u001b[49m\u001b[43m \u001b[49m\u001b[43mY\u001b[49m\u001b[43m)\u001b[49m\n\u001b[0;32m   1395\u001b[0m X_normalized \u001b[38;5;241m=\u001b[39m normalize(X, copy\u001b[38;5;241m=\u001b[39m\u001b[38;5;28;01mTrue\u001b[39;00m)\n\u001b[0;32m   1396\u001b[0m \u001b[38;5;28;01mif\u001b[39;00m X \u001b[38;5;129;01mis\u001b[39;00m Y:\n",
      "File \u001b[1;32m~\\AppData\\Roaming\\jupyterlab-desktop\\jlab_server\\lib\\site-packages\\sklearn\\metrics\\pairwise.py:155\u001b[0m, in \u001b[0;36mcheck_pairwise_arrays\u001b[1;34m(X, Y, precomputed, dtype, accept_sparse, force_all_finite, copy)\u001b[0m\n\u001b[0;32m    146\u001b[0m     X \u001b[38;5;241m=\u001b[39m Y \u001b[38;5;241m=\u001b[39m check_array(\n\u001b[0;32m    147\u001b[0m         X,\n\u001b[0;32m    148\u001b[0m         accept_sparse\u001b[38;5;241m=\u001b[39maccept_sparse,\n\u001b[1;32m   (...)\u001b[0m\n\u001b[0;32m    152\u001b[0m         estimator\u001b[38;5;241m=\u001b[39mestimator,\n\u001b[0;32m    153\u001b[0m     )\n\u001b[0;32m    154\u001b[0m \u001b[38;5;28;01melse\u001b[39;00m:\n\u001b[1;32m--> 155\u001b[0m     X \u001b[38;5;241m=\u001b[39m \u001b[43mcheck_array\u001b[49m\u001b[43m(\u001b[49m\n\u001b[0;32m    156\u001b[0m \u001b[43m        \u001b[49m\u001b[43mX\u001b[49m\u001b[43m,\u001b[49m\n\u001b[0;32m    157\u001b[0m \u001b[43m        \u001b[49m\u001b[43maccept_sparse\u001b[49m\u001b[38;5;241;43m=\u001b[39;49m\u001b[43maccept_sparse\u001b[49m\u001b[43m,\u001b[49m\n\u001b[0;32m    158\u001b[0m \u001b[43m        \u001b[49m\u001b[43mdtype\u001b[49m\u001b[38;5;241;43m=\u001b[39;49m\u001b[43mdtype\u001b[49m\u001b[43m,\u001b[49m\n\u001b[0;32m    159\u001b[0m \u001b[43m        \u001b[49m\u001b[43mcopy\u001b[49m\u001b[38;5;241;43m=\u001b[39;49m\u001b[43mcopy\u001b[49m\u001b[43m,\u001b[49m\n\u001b[0;32m    160\u001b[0m \u001b[43m        \u001b[49m\u001b[43mforce_all_finite\u001b[49m\u001b[38;5;241;43m=\u001b[39;49m\u001b[43mforce_all_finite\u001b[49m\u001b[43m,\u001b[49m\n\u001b[0;32m    161\u001b[0m \u001b[43m        \u001b[49m\u001b[43mestimator\u001b[49m\u001b[38;5;241;43m=\u001b[39;49m\u001b[43mestimator\u001b[49m\u001b[43m,\u001b[49m\n\u001b[0;32m    162\u001b[0m \u001b[43m    \u001b[49m\u001b[43m)\u001b[49m\n\u001b[0;32m    163\u001b[0m     Y \u001b[38;5;241m=\u001b[39m check_array(\n\u001b[0;32m    164\u001b[0m         Y,\n\u001b[0;32m    165\u001b[0m         accept_sparse\u001b[38;5;241m=\u001b[39maccept_sparse,\n\u001b[1;32m   (...)\u001b[0m\n\u001b[0;32m    169\u001b[0m         estimator\u001b[38;5;241m=\u001b[39mestimator,\n\u001b[0;32m    170\u001b[0m     )\n\u001b[0;32m    172\u001b[0m \u001b[38;5;28;01mif\u001b[39;00m precomputed:\n",
      "File \u001b[1;32m~\\AppData\\Roaming\\jupyterlab-desktop\\jlab_server\\lib\\site-packages\\sklearn\\utils\\validation.py:921\u001b[0m, in \u001b[0;36mcheck_array\u001b[1;34m(array, accept_sparse, accept_large_sparse, dtype, order, copy, force_all_finite, ensure_2d, allow_nd, ensure_min_samples, ensure_min_features, estimator, input_name)\u001b[0m\n\u001b[0;32m    915\u001b[0m         \u001b[38;5;28;01mraise\u001b[39;00m \u001b[38;5;167;01mValueError\u001b[39;00m(\n\u001b[0;32m    916\u001b[0m             \u001b[38;5;124m\"\u001b[39m\u001b[38;5;124mFound array with dim \u001b[39m\u001b[38;5;132;01m%d\u001b[39;00m\u001b[38;5;124m. \u001b[39m\u001b[38;5;132;01m%s\u001b[39;00m\u001b[38;5;124m expected <= 2.\u001b[39m\u001b[38;5;124m\"\u001b[39m\n\u001b[0;32m    917\u001b[0m             \u001b[38;5;241m%\u001b[39m (array\u001b[38;5;241m.\u001b[39mndim, estimator_name)\n\u001b[0;32m    918\u001b[0m         )\n\u001b[0;32m    920\u001b[0m     \u001b[38;5;28;01mif\u001b[39;00m force_all_finite:\n\u001b[1;32m--> 921\u001b[0m         \u001b[43m_assert_all_finite\u001b[49m\u001b[43m(\u001b[49m\n\u001b[0;32m    922\u001b[0m \u001b[43m            \u001b[49m\u001b[43marray\u001b[49m\u001b[43m,\u001b[49m\n\u001b[0;32m    923\u001b[0m \u001b[43m            \u001b[49m\u001b[43minput_name\u001b[49m\u001b[38;5;241;43m=\u001b[39;49m\u001b[43minput_name\u001b[49m\u001b[43m,\u001b[49m\n\u001b[0;32m    924\u001b[0m \u001b[43m            \u001b[49m\u001b[43mestimator_name\u001b[49m\u001b[38;5;241;43m=\u001b[39;49m\u001b[43mestimator_name\u001b[49m\u001b[43m,\u001b[49m\n\u001b[0;32m    925\u001b[0m \u001b[43m            \u001b[49m\u001b[43mallow_nan\u001b[49m\u001b[38;5;241;43m=\u001b[39;49m\u001b[43mforce_all_finite\u001b[49m\u001b[43m \u001b[49m\u001b[38;5;241;43m==\u001b[39;49m\u001b[43m \u001b[49m\u001b[38;5;124;43m\"\u001b[39;49m\u001b[38;5;124;43mallow-nan\u001b[39;49m\u001b[38;5;124;43m\"\u001b[39;49m\u001b[43m,\u001b[49m\n\u001b[0;32m    926\u001b[0m \u001b[43m        \u001b[49m\u001b[43m)\u001b[49m\n\u001b[0;32m    928\u001b[0m \u001b[38;5;28;01mif\u001b[39;00m ensure_min_samples \u001b[38;5;241m>\u001b[39m \u001b[38;5;241m0\u001b[39m:\n\u001b[0;32m    929\u001b[0m     n_samples \u001b[38;5;241m=\u001b[39m _num_samples(array)\n",
      "File \u001b[1;32m~\\AppData\\Roaming\\jupyterlab-desktop\\jlab_server\\lib\\site-packages\\sklearn\\utils\\validation.py:161\u001b[0m, in \u001b[0;36m_assert_all_finite\u001b[1;34m(X, allow_nan, msg_dtype, estimator_name, input_name)\u001b[0m\n\u001b[0;32m    144\u001b[0m \u001b[38;5;28;01mif\u001b[39;00m estimator_name \u001b[38;5;129;01mand\u001b[39;00m input_name \u001b[38;5;241m==\u001b[39m \u001b[38;5;124m\"\u001b[39m\u001b[38;5;124mX\u001b[39m\u001b[38;5;124m\"\u001b[39m \u001b[38;5;129;01mand\u001b[39;00m has_nan_error:\n\u001b[0;32m    145\u001b[0m     \u001b[38;5;66;03m# Improve the error message on how to handle missing values in\u001b[39;00m\n\u001b[0;32m    146\u001b[0m     \u001b[38;5;66;03m# scikit-learn.\u001b[39;00m\n\u001b[0;32m    147\u001b[0m     msg_err \u001b[38;5;241m+\u001b[39m\u001b[38;5;241m=\u001b[39m (\n\u001b[0;32m    148\u001b[0m         \u001b[38;5;124mf\u001b[39m\u001b[38;5;124m\"\u001b[39m\u001b[38;5;130;01m\\n\u001b[39;00m\u001b[38;5;132;01m{\u001b[39;00mestimator_name\u001b[38;5;132;01m}\u001b[39;00m\u001b[38;5;124m does not accept missing values\u001b[39m\u001b[38;5;124m\"\u001b[39m\n\u001b[0;32m    149\u001b[0m         \u001b[38;5;124m\"\u001b[39m\u001b[38;5;124m encoded as NaN natively. For supervised learning, you might want\u001b[39m\u001b[38;5;124m\"\u001b[39m\n\u001b[1;32m   (...)\u001b[0m\n\u001b[0;32m    159\u001b[0m         \u001b[38;5;124m\"\u001b[39m\u001b[38;5;124m#estimators-that-handle-nan-values\u001b[39m\u001b[38;5;124m\"\u001b[39m\n\u001b[0;32m    160\u001b[0m     )\n\u001b[1;32m--> 161\u001b[0m \u001b[38;5;28;01mraise\u001b[39;00m \u001b[38;5;167;01mValueError\u001b[39;00m(msg_err)\n",
      "\u001b[1;31mValueError\u001b[0m: Input contains NaN."
     ]
    }
   ],
   "source": [
    "similarity_list = []\n",
    "for i in range(len(pie_averaged_vectors) - 1):\n",
    "    row1 = pie_averaged_vectors.iloc[i, 2:].values.reshape(1, -1)\n",
    "    row2 = pie_averaged_vectors.iloc[i+1, 2:].values.reshape(1, -1)\n",
    "    similarity = cosine_similarity(row1, row2)[0][0]\n",
    "    similarity_list.append(similarity)\n",
    "\n",
    "# Add similarity values to DataFrame\n",
    "pie_averaged_vectors['Distance'] = [np.nan] + similarity_list"
   ]
  },
  {
   "cell_type": "code",
   "execution_count": 30,
   "id": "56ee7254-fe0a-44b0-9c79-defa601108de",
   "metadata": {
    "collapsed": true,
    "jupyter": {
     "outputs_hidden": true
    },
    "tags": []
   },
   "outputs": [
    {
     "data": {
      "text/plain": [
       "[0.06531771294202746,\n",
       " 0.09617782764556762,\n",
       " 0.006011650520598905,\n",
       " 0.2114830376231441,\n",
       " 0.5072006777222464,\n",
       " 0.266446881057787,\n",
       " 0.013275557880616767,\n",
       " -0.007491818221701196,\n",
       " 0.16897721231473292,\n",
       " 0.22848226151554182,\n",
       " -0.09606832738178482,\n",
       " 0.17582407879425455,\n",
       " 0.0020799041042775246,\n",
       " 0.02779696398515356,\n",
       " 0.18989817216574945,\n",
       " 0.3273440826091256,\n",
       " -0.0174729016541693,\n",
       " 0.2634680303002798,\n",
       " 0.17655538794614656,\n",
       " 0.12333185920259734,\n",
       " -0.04679616239555482,\n",
       " 0.11866051713321529,\n",
       " 0.31942157244598957,\n",
       " 0.20992432525755406,\n",
       " 0.41685039167231286,\n",
       " 0.13382780223189125,\n",
       " 0.39853892503345645,\n",
       " 0.28345202813076764,\n",
       " 0.20060733426442331,\n",
       " 0.05583824480602807,\n",
       " 0.23679123686338807,\n",
       " 0.23271582016001538,\n",
       " 0.1153543677230973,\n",
       " 0.35680411106606086,\n",
       " 0.24317543106090067,\n",
       " 0.33024575876048334,\n",
       " 0.3312718743990289,\n",
       " 0.22756784631051982,\n",
       " 0.21349821762984345,\n",
       " 0.004524119345013983,\n",
       " 0.22812132295500434,\n",
       " 0.1057959907149674,\n",
       " 0.13185481834293267,\n",
       " -0.021918860936148747,\n",
       " 0.027745520042137234,\n",
       " -0.025522949384465275,\n",
       " 0.13260677584515715,\n",
       " 0.166600204340032,\n",
       " 0.07259773564289389,\n",
       " 0.8583885874014374,\n",
       " -0.04787274043800059,\n",
       " 0.04842316488943134,\n",
       " 0.14630525084206286,\n",
       " 0.13734980031523497,\n",
       " 0.17278898862188116,\n",
       " 0.12471781786630089,\n",
       " 0.19632371836955975,\n",
       " 0.2550213129658132,\n",
       " 0.061123681866586545,\n",
       " 0.3617125861592515,\n",
       " 0.14997459257338752,\n",
       " 0.03930835460157905,\n",
       " -0.017254565273781795,\n",
       " 0.46231891982098616,\n",
       " 0.2834416342184233,\n",
       " 0.14745740251648087,\n",
       " 0.1601526762229078,\n",
       " 0.1536820227954884,\n",
       " 0.10475194183089329,\n",
       " 0.06262038746910131,\n",
       " -0.045191067135183796,\n",
       " 0.13980338133188983,\n",
       " 0.27268394178808086,\n",
       " 0.1154845351261317,\n",
       " 0.9015777373349438,\n",
       " 0.1331172734225019,\n",
       " -0.16823232540943758,\n",
       " 0.21997820068001805,\n",
       " 0.09097712218676378,\n",
       " 0.15030155501197598,\n",
       " 0.1382870371974504,\n",
       " 0.23415742820014362,\n",
       " 0.18468312729225927,\n",
       " 0.07851761572307743,\n",
       " 0.1659158042184232,\n",
       " 0.009860684911224691,\n",
       " 0.01535428899715522,\n",
       " -0.09504013174653714,\n",
       " 0.15090857497805157,\n",
       " -0.041997764893790084]"
      ]
     },
     "execution_count": 30,
     "metadata": {},
     "output_type": "execute_result"
    }
   ],
   "source": [
    "similarity_list"
   ]
  },
  {
   "cell_type": "markdown",
   "id": "a4865372-11ca-4c4f-b4c6-40464dca2f2d",
   "metadata": {
    "tags": []
   },
   "source": [
    "## Cosine Similarity Between Each Word in the PIE Gloss Vectors"
   ]
  },
  {
   "cell_type": "code",
   "execution_count": null,
   "id": "8bea818f-37cf-48b9-87c9-e2ebdd85ca5e",
   "metadata": {},
   "outputs": [],
   "source": []
  },
  {
   "cell_type": "markdown",
   "id": "e484f990-1e1c-4fc6-8988-37e16e2cbb8b",
   "metadata": {},
   "source": [
    "## Cosine Similarity Between the Cosine Similarities"
   ]
  },
  {
   "cell_type": "code",
   "execution_count": null,
   "id": "80f5a969-16c4-4717-8ef4-68a8144b9112",
   "metadata": {},
   "outputs": [],
   "source": []
  }
 ],
 "metadata": {
  "kernelspec": {
   "display_name": "Python 3 (ipykernel)",
   "language": "python",
   "name": "python3"
  },
  "language_info": {
   "codemirror_mode": {
    "name": "ipython",
    "version": 3
   },
   "file_extension": ".py",
   "mimetype": "text/x-python",
   "name": "python",
   "nbconvert_exporter": "python",
   "pygments_lexer": "ipython3",
   "version": "3.8.16"
  }
 },
 "nbformat": 4,
 "nbformat_minor": 5
}
